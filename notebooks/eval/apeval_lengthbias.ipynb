{
 "cells": [
  {
   "cell_type": "code",
   "execution_count": null,
   "id": "8cef3f55-378b-4bf1-b448-5ba4147c1f0c",
   "metadata": {},
   "outputs": [],
   "source": [
    "# notebook dedicated to computing various intrinsic metrics to see whether \n",
    "# they corresond to downstream performance and could be useful for RLHF"
   ]
  },
  {
   "cell_type": "code",
   "execution_count": null,
   "id": "31666650-2efb-45ff-903b-fad8eecde89e",
   "metadata": {},
   "outputs": [],
   "source": [
    "from transformers import AutoTokenizer\n",
    "import pandas as pd\n",
    "from rlhfutils.eval_utils import getapfsft, tok_dist, proctmp\n",
    "import matplotlib.pyplot as plt\n",
    "from rlhfutils.debug_utils import load_rm, progress_rm, load_all_rmdfs, load_all_hackdfs, highlight_differences\n",
    "from statistics import mean, stdev, median\n",
    "from scipy.stats import pearsonr, kendalltau, spearmanr\n",
    "import math\n",
    "from rouge_score import rouge_scorer\n",
    "from rlhfutils.eval_utils import oai_kwargs, load_alldfs, annotate_apfarm, apf_format, load_wgpt, filter_and_sort_df\n",
    "import pandas as pd\n",
    "from statistics import mean\n",
    "import matplotlib.pyplot as plt\n",
    "import re\n",
    "from transformers import AutoTokenizer\n",
    "from datasets import load_dataset\n",
    "import openai\n",
    "from rlhfutils.data import qaform\n",
    "import os\n",
    "import numpy as np\n",
    "import random"
   ]
  },
  {
   "cell_type": "code",
   "execution_count": null,
   "id": "79fc4b94-d74c-4f69-8a50-575cfce280c0",
   "metadata": {},
   "outputs": [],
   "source": [
    "%load_ext autoreload\n",
    "%autoreload 2"
   ]
  },
  {
   "cell_type": "code",
   "execution_count": null,
   "id": "10b4373f-ebe6-4259-8a61-b7811f5a0c32",
   "metadata": {},
   "outputs": [],
   "source": [
    "# replace all wgptouts with corresponding stack QA format (RM input format)\n",
    "def setall(l):\n",
    "    newl = []\n",
    "    try:\n",
    "        for ind in l:\n",
    "            newl.append(getapfsft(ind, True))\n",
    "            #print(0)\n",
    "    except:\n",
    "        return None\n",
    "    return newl\n",
    "\n",
    "def splitall(l):\n",
    "    try: \n",
    "        return [s.split(\"Answer:\")[1] for s in l]\n",
    "    except:\n",
    "        return None\n",
    "\n",
    "def getfulldist(lcol):\n",
    "    hist = []\n",
    "    for l in lcol:\n",
    "        hist.extend(l)\n",
    "    return hist\n",
    "\n",
    "def compdist(lcol, slen):\n",
    "    res = []\n",
    "    tmp = []\n",
    "    for i in range(len(lcol)):\n",
    "        tmp.append(lcol[i])\n",
    "        if len(tmp)%slen==0:\n",
    "            res.append(tmp)\n",
    "            tmp = []\n",
    "    return res\n",
    "    \n",
    "def procall(indf, toker, needset=True):\n",
    "    if needset:\n",
    "        indf['response'] = [setall(s) for s in indf['response']]\n",
    "    indf = indf.dropna()\n",
    "    indf['answers'] = [splitall(s) for s in indf['response']]\n",
    "    indf = indf.dropna()\n",
    "    indf['atoks'] = [tok_dist(s, wgtok) for s in list(indf['answers'])]\n",
    "    indf['ttoks'] = [tok_dist(s, wgtok) for s in list(indf['response'])]\n",
    "    return indf\n",
    "\n",
    "# take rouge between all pairs. High rouge should bigger gaps\n",
    "def rpaircorr(row, scat=False):\n",
    "    rouges = []\n",
    "    diffs = []\n",
    "    for i in range(len(row)):\n",
    "        for j in range(i, len(row)):\n",
    "            if i==j:\n",
    "                continue\n",
    "            trmp = scorer.score(row['answers'][i], row['answers'][j])\n",
    "            rouges.append(trmp['rouge1'].fmeasure)\n",
    "            diffs.append(math.pow(row['reward'][i]-row['reward'][j], 2))\n",
    "    if scat:\n",
    "        return rouges, diffs\n",
    "    return pearsonr(rouges, diffs).statistic\n",
    "\n",
    "def getcorr(row, pearson=False):\n",
    "    if pearson:\n",
    "        return pearsonr(row['atoks'], row['reward']).statistic\n",
    "    else:\n",
    "        return kendalltau(row['atoks'], row['reward']).statistic"
   ]
  },
  {
   "cell_type": "code",
   "execution_count": null,
   "id": "f2325479-43db-4ce6-8656-d4e7019400b7",
   "metadata": {},
   "outputs": [],
   "source": [
    "scorer = rouge_scorer.RougeScorer(['rouge1'], use_stemmer=True)\n",
    "stacktok = AutoTokenizer.from_pretrained(\"../stack-llama/models/sft/\")\n",
    "wgtok = AutoTokenizer.from_pretrained(\"../webgpt-llama/models/sft10k/\")"
   ]
  },
  {
   "cell_type": "code",
   "execution_count": null,
   "id": "beb4765b-0bd6-4b94-91a7-8ffb68f04fdf",
   "metadata": {},
   "outputs": [],
   "source": [
    "ndfs = load_all_rmdfs(\"../trl-general/rmouts//\")"
   ]
  },
  {
   "cell_type": "code",
   "execution_count": null,
   "id": "653532b8-bc5e-470e-aee2-a89209d738b9",
   "metadata": {},
   "outputs": [],
   "source": [
    "# shuffdfs = load_all_rmdfs(\"../trl-general/rmshuffs/\")\n",
    "# rmdfs = load_all_rmdfs(\"../trl-general/rmouts/\")\n",
    "# moredfs = load_all_rmdfs(\"../trl-general/morermouts/\")\n",
    "# attdfs = load_all_hackdfs(\"../trl-general/fullattacks/\")"
   ]
  },
  {
   "cell_type": "code",
   "execution_count": null,
   "id": "ce45474b-4272-4366-9ade-b1c3fd371b1b",
   "metadata": {},
   "outputs": [],
   "source": [
    "def process_qa(statdf, label, lim=1000):\n",
    "    questions = []\n",
    "    minouts = []\n",
    "    maxouts = []\n",
    "    sampouts = []\n",
    "    for ind, row in statdf.iterrows():\n",
    "        topind = np.argmax(row['atoks'])\n",
    "        botind = np.argmin(row['atoks'])\n",
    "        # don't re-use outputs\n",
    "        result = [x for x in range(len(row['atoks'])) if x not in [topind, botind]]\n",
    "        rind = random.choice(result)\n",
    "        questions.append(row['question'])\n",
    "        minouts.append(row['answers'][botind])\n",
    "        maxouts.append(row['answers'][topind])\n",
    "        sampouts.append(row['answers'][rind])\n",
    "    mins = pd.DataFrame({\n",
    "        'question':questions,\n",
    "        'response':minouts, \n",
    "        'rtoks': [len(wgtok(r).input_ids) for r in minouts]\n",
    "    })\n",
    "    mins = proctmp(mins)\n",
    "    maxes = pd.DataFrame({\n",
    "        'question':questions,\n",
    "        'response':maxouts,\n",
    "        'rtoks': [len(wgtok(r).input_ids) for r in maxouts]\n",
    "    })\n",
    "    maxes = proctmp(maxes)\n",
    "    samps = pd.DataFrame({\n",
    "        'question':questions,\n",
    "        'response':sampouts,\n",
    "        'rtoks': [len(wgtok(r).input_ids) for r in sampouts]\n",
    "    })\n",
    "    samps = proctmp(samps)\n",
    "    return {\n",
    "        label+'_maxouts':maxes.loc[:lim],\n",
    "        label+'_minouts':mins.loc[:lim],\n",
    "        label+'_sampouts':samps.loc[:lim]\n",
    "    }"
   ]
  },
  {
   "cell_type": "code",
   "execution_count": null,
   "id": "183e428e-50e8-4188-9b82-2b92031f68b8",
   "metadata": {},
   "outputs": [],
   "source": [
    "ndfs"
   ]
  },
  {
   "cell_type": "code",
   "execution_count": null,
   "id": "fb616de6-b5bf-4c15-a7c0-bbeb6e75d34c",
   "metadata": {},
   "outputs": [],
   "source": [
    "pq = process_qa(ndfs['stack_rewardda'], 'rlcd', 200)"
   ]
  },
  {
   "cell_type": "code",
   "execution_count": null,
   "id": "e1e00726-9115-4106-9e26-9c659ddbee82",
   "metadata": {},
   "outputs": [],
   "source": [
    "pq.keys()"
   ]
  },
  {
   "cell_type": "code",
   "execution_count": null,
   "id": "b6147dce-00ed-48c4-942f-caf015c80a6d",
   "metadata": {},
   "outputs": [],
   "source": [
    "pq['rlcd_sampouts'].loc[:200].rtoks.mean()"
   ]
  },
  {
   "cell_type": "code",
   "execution_count": null,
   "id": "c5775fa4-dc57-4643-b77d-d5e0c899a088",
   "metadata": {},
   "outputs": [],
   "source": [
    "mean([len(w) for w in pq['rlcd_sampouts']['response']])"
   ]
  },
  {
   "cell_type": "code",
   "execution_count": null,
   "id": "00bb4f5c-bdaf-472b-86ee-1dee5839a15c",
   "metadata": {},
   "outputs": [],
   "source": [
    "mean([len(w) for w in pq['rlcd_maxouts']['response']])"
   ]
  },
  {
   "cell_type": "code",
   "execution_count": null,
   "id": "619de753-2e30-42e1-9d07-5780768026d2",
   "metadata": {
    "scrolled": true
   },
   "outputs": [],
   "source": [
    "# APEVAL call (be cautious)\n",
    "lenannot = annotate_apfarm(pq, \"rlcd_sampouts\", \"rlcd_maxouts\", 0, len(pq['rlcd_maxouts']), oai_kwargs())"
   ]
  },
  {
   "cell_type": "code",
   "execution_count": null,
   "id": "33e88b13-e02c-4204-a95e-fd1b923b8e9d",
   "metadata": {},
   "outputs": [],
   "source": [
    "tmp = pd.DataFrame(lenannot)\n",
    "print(tmp.preference.mean())"
   ]
  },
  {
   "cell_type": "code",
   "execution_count": null,
   "id": "639d38fc-e04c-4cae-8ff0-fb7406b9508f",
   "metadata": {},
   "outputs": [],
   "source": [
    "tmp"
   ]
  },
  {
   "cell_type": "code",
   "execution_count": null,
   "id": "c29df8b4-8196-433e-b767-3da5d621e45e",
   "metadata": {},
   "outputs": [],
   "source": [
    "pq['minouts'][:200]"
   ]
  },
  {
   "cell_type": "code",
   "execution_count": null,
   "id": "7a903efb-0f65-439b-abf6-ca817d589855",
   "metadata": {},
   "outputs": [],
   "source": [
    "ndfs['stack_rewardda']"
   ]
  },
  {
   "cell_type": "code",
   "execution_count": null,
   "id": "5fc8c3e8-9ac2-498c-9a2a-b295dfad96ce",
   "metadata": {},
   "outputs": [],
   "source": [
    "ind = 10\n",
    "r = attdfs['wgptda'].iloc[ind]\n",
    "highlight_differences(r['origseq'], r['bestseqs'][-1])"
   ]
  },
  {
   "cell_type": "code",
   "execution_count": null,
   "id": "2baf53ee-a291-44b2-92d5-87e8c5bd7341",
   "metadata": {},
   "outputs": [],
   "source": [
    "kmap = {\n",
    "    'stackrandaug':'stack_rewardrandaug',\n",
    "    'stackda':'stack_rewardda',\n",
    "    'stackmix':'stack_rewardmixed',\n",
    "    'wgptda':'wgpt_rewardrandda',\n",
    "    'wgptorig':'wgpt_rewardmodel',\n",
    "    'stacksanity':'stack_rewardsanity'\n",
    "}"
   ]
  },
  {
   "cell_type": "code",
   "execution_count": null,
   "id": "97cf74c4-0a15-43e0-87c7-7df382c109ea",
   "metadata": {},
   "outputs": [],
   "source": [
    "rmdfs.keys()"
   ]
  },
  {
   "cell_type": "code",
   "execution_count": null,
   "id": "937751b1-4cc0-46ab-892d-1b35dd6ed77f",
   "metadata": {},
   "outputs": [],
   "source": [
    "keyval = \"wgpt_rewardmodel\""
   ]
  },
  {
   "cell_type": "code",
   "execution_count": null,
   "id": "2e8760f8-4593-4c99-be41-ded1aa1c616e",
   "metadata": {},
   "outputs": [],
   "source": [
    "for k in attdfs.keys():\n",
    "    norm = stdev(getfulldist(rmdfs[kmap[k]].reward))\n",
    "    print(k)\n",
    "    # print(attdfs[k]['diff'].mean())\n",
    "    print(norm)"
   ]
  },
  {
   "cell_type": "code",
   "execution_count": null,
   "id": "0557290f-a446-457b-a4a4-1b32f0efd141",
   "metadata": {},
   "outputs": [],
   "source": [
    "for k in shuffdfs.keys():\n",
    "    tmpa = pd.DataFrame({\n",
    "        'or':getfulldist(rmdfs[k.replace(\"shuff\", \"\")].reward),\n",
    "        'shuff':getfulldist(shuffdfs[k].reward),\n",
    "    })\n",
    "    norm = stdev(list(tmpa['or']))\n",
    "    print(k)\n",
    "    # print((tmpa['or']-tmpa['shuff']).abs().mean()/norm)\n",
    "    print(norm)\n",
    "    #print(spearmanr(getfulldist(rmdfs[keyval].reward), getfulldist(rmdfs[keyval].atoks)))\n",
    "    #print(kendalltau(getfulldist(rmdfs[keyval].reward), getfulldist(rmdfs[keyval].atoks)))v"
   ]
  },
  {
   "cell_type": "code",
   "execution_count": null,
   "id": "cd80572f-7b26-4de8-9562-98dc561555bd",
   "metadata": {},
   "outputs": [],
   "source": [
    "rmdfs = ndfs"
   ]
  },
  {
   "cell_type": "code",
   "execution_count": null,
   "id": "0337fd58-73d6-4438-8e9e-64a9df85fa37",
   "metadata": {},
   "outputs": [],
   "source": [
    "# get spearman and pearson corrs per batch\n",
    "for k in rmdfs.keys():\n",
    "    print(k)\n",
    "    keyval = k\n",
    "    sps = [getcorr(r, True) for _, r in rmdfs[k].iterrows()]\n",
    "    kts = [getcorr(r, False) for _, r in rmdfs[k].iterrows()]\n",
    "    print(mean([s for s in sps if not math.isnan(s)]))\n",
    "    print(mean([s for s in kts if not math.isnan(s)]))\n",
    "    #print(spearmanr(getfulldist(rmdfs[keyval].reward), getfulldist(rmdfs[keyval].atoks)))\n",
    "    #print(kendalltau(getfulldist(rmdfs[keyval].reward), getfulldist(rmdfs[keyval].atoks)))v"
   ]
  },
  {
   "cell_type": "code",
   "execution_count": null,
   "id": "d8ab3789-6681-4e8e-86f0-57d6facc06c9",
   "metadata": {},
   "outputs": [],
   "source": [
    "for k in rmdfs.keys():\n",
    "    print(k)\n",
    "    keyval = k\n",
    "    norm = stdev(getfulldist(rmdfs[k].reward))\n",
    "    # results = [(max(s)-median(s))/norm for s in rmdfs[k].reward]\n",
    "    results = [(stdev(s))/norm for s in rmdfs[k].reward]\n",
    "    #rouges = [rpaircorr(r) for _, r in rmdfs[k].iterrows()]\n",
    "    print(mean([r for r in results if not math.isnan(r)]))\n",
    "    #print(mean([r for r in rouges if not math.isnan(r)]))\n"
   ]
  },
  {
   "cell_type": "code",
   "execution_count": null,
   "id": "105b0100-3fe3-4928-aed1-2e87f00875d8",
   "metadata": {},
   "outputs": [],
   "source": [
    "plt.hist(getfulldist(rmdfs[keyval].atoks))"
   ]
  },
  {
   "cell_type": "code",
   "execution_count": null,
   "id": "98be364f-8058-47a8-b44b-9081b92ca4a0",
   "metadata": {},
   "outputs": [],
   "source": [
    "for k in rmdfs.keys():\n",
    "    print(k)\n",
    "    keyval = k\n",
    "    print(pearsonr(getfulldist(rmdfs[keyval].reward), getfulldist(rmdfs[keyval].atoks)))\n",
    "    #print(spearmanr(getfulldist(rmdfs[keyval].reward), getfulldist(rmdfs[keyval].atoks)))\n",
    "    # print(kendalltau(getfulldist(rmdfs[keyval].reward), getfulldist(rmdfs[keyval].atoks)))"
   ]
  },
  {
   "cell_type": "code",
   "execution_count": null,
   "id": "111ce1e5-9343-4ea6-a951-c9d4e054606a",
   "metadata": {},
   "outputs": [],
   "source": [
    "rmdfs = load_all_rmdfs(\"../trl-general/fullattacks/\")"
   ]
  },
  {
   "cell_type": "code",
   "execution_count": null,
   "id": "623f8223-8204-48e0-8ec2-185cd0e055cb",
   "metadata": {},
   "outputs": [],
   "source": [
    "print(mean([stdev(s) for s in rmdfs[keyval].reward])/stdev(getfulldist(rmdfs[keyval].reward)))\n",
    "plt.hist([stdev(s) for s in rmdfs[keyval].reward])"
   ]
  },
  {
   "cell_type": "code",
   "execution_count": null,
   "id": "1ad85220-bbe5-45ca-91cf-72cf9d054a54",
   "metadata": {},
   "outputs": [],
   "source": [
    "wgptorigrm = load_rm(\"../tr\")"
   ]
  },
  {
   "cell_type": "code",
   "execution_count": null,
   "id": "2d1fcce4-0963-4979-b4ad-3b4f80f895e2",
   "metadata": {},
   "outputs": [],
   "source": [
    "allresps = getfulldist(stackouts.response)"
   ]
  },
  {
   "cell_type": "code",
   "execution_count": null,
   "id": "3d20a0ef-d291-4d27-8712-ef00f5b23f07",
   "metadata": {},
   "outputs": [],
   "source": [
    "allscos = progress_rm(allresps[:100], stackorigrm, kwargs)"
   ]
  },
  {
   "cell_type": "code",
   "execution_count": null,
   "id": "8b480b39-54ff-4656-9450-fedceb9d6a8f",
   "metadata": {},
   "outputs": [],
   "source": [
    "compdist([a[0]['score'] for a in allscos], 8)"
   ]
  },
  {
   "cell_type": "code",
   "execution_count": null,
   "id": "bac995a2-9dba-4563-a24a-5b2323ba6957",
   "metadata": {},
   "outputs": [],
   "source": [
    "plt.hist(getfulldist(stackouts.atoks))"
   ]
  },
  {
   "cell_type": "code",
   "execution_count": null,
   "id": "a17e8c36-32bf-4b6c-99e8-1ee746a4b397",
   "metadata": {},
   "outputs": [],
   "source": []
  }
 ],
 "metadata": {
  "kernelspec": {
   "display_name": "Python 3 (ipykernel)",
   "language": "python",
   "name": "python3"
  },
  "language_info": {
   "codemirror_mode": {
    "name": "ipython",
    "version": 3
   },
   "file_extension": ".py",
   "mimetype": "text/x-python",
   "name": "python",
   "nbconvert_exporter": "python",
   "pygments_lexer": "ipython3",
   "version": "3.10.0"
  }
 },
 "nbformat": 4,
 "nbformat_minor": 5
}
