{
 "cells": [
  {
   "cell_type": "code",
   "execution_count": 9,
   "id": "23bbe0ff-8737-4fb4-9170-8c4b3beb5120",
   "metadata": {},
   "outputs": [],
   "source": [
    "ultrarm_template = \"\"\"Human: {instruction}\n",
    "\n",
    "Assistant: {completion}\"\"\"\n",
    "\n",
    "dataset = [ # cases in webgpt\n",
    "  {\n",
    "      \"chosen\":\"Human: \\\"Who orders martinis \\\"\\\"shaken, not stirred\\\"\\\"?\\\"\\nAssistant: Sean Connery's character, fictional British Secret Service agent James Bond, in the movie Goldfinger, stated that he preferred his martini to be \\\"shaken, not stirred\\\". [1] Some believe that Bond ordered his martini shaken because of the vodka it contained, as vodka was, for the most part, refined from potatoes (cheaper brands)\",\n",
    "      \"rejected\":\"Human: \\\"Who orders martinis \\\"\\\"shaken, not stirred\\\"\\\"?\\\"\\nAssistant: Fleming's fictional British Secret Service agent James Bond orders his martini cocktail shaken, not stirred [1]. Bond's preferences for his martini are carried over to the films, where his orders are seen in both the 1961 film Dr. No and the 2006 film Casino Royale [1, 2]. In both films, Bond's subordinates copy his order, telling the bartender to keep the fruit with their drinks [2]. However, in the 2006 film, Bond appears irritated when the bartender asks if he would like his drink shaken or stirred [2].\"},\n",
    "  {\"chosen\":\"Human: Sural relates to which part of the body?\\nAssistant: The sural region is the muscular swelling of the back of the leg below the knee, formed chiefly by the bellies of the gastrocnemius and soleus muscles [1,2].\",\n",
    "   \"rejected\":\"Human: Sural relates to which part of the body?\\nAssistant: The Sural nerve runs down the side of the leg near the small saphenous vein, then passes forward below the lateral malleolus and continues on the outside of the foot as the lateral dorsal cutaneous nerve, which then communicates with the intermediate dorsal cutaneous nerve, which branches off to the side of the foot. [1]\"}\n",
    "]"
   ]
  },
  {
   "cell_type": "code",
   "execution_count": 10,
   "id": "93eaaafe-d29e-44fe-81c1-1d6bdb212733",
   "metadata": {},
   "outputs": [
    {
     "name": "stdout",
     "output_type": "stream",
     "text": [
      "108\n",
      "63\n"
     ]
    }
   ],
   "source": [
    "chosens = []\n",
    "rejs = []\n",
    "for example in dataset:\n",
    "    inputs = tokenizer(example[\"chosen\"], return_tensors=\"pt\").to(model.device)\n",
    "    print(len(inputs.input_ids[0]))\n",
    "    chosens.extend(model(**inputs).tolist())\n",
    "    inputs = tokenizer(example[\"rejected\"], return_tensors=\"pt\").to(model.device)\n",
    "    rejs.extend(model(**inputs).tolist())\n",
    "    #print(chosen_reward - rejected_reward)\n",
    "\n",
    "# Output 1: 2.4158712085336447\n",
    "# Output 2: 0.1896953582763672"
   ]
  },
  {
   "cell_type": "code",
   "execution_count": 5,
   "id": "b27408dd-f171-4681-9a42-106167a7a2b8",
   "metadata": {},
   "outputs": [
    {
     "name": "stdout",
     "output_type": "stream",
     "text": [
      "[15.5, -3.703125, -4.75, -7.09375, -8.0625, -8.9375, -8.6875, -8.6875, -7.3125, -7.40625, -7.15625, -6.59375, -7.71875, -7.71875, -6.21875, -5.3125, -5.40625, -5.0625, -5.875, -6.09375, -7.0625, -8.125, -7.875, -6.375, -6.84375, -6.5, -4.0625, -6.09375, -5.34375, -4.1875, -4.96875, -6.8125, -5.53125, -5.0625, -5.3125, -5.375, -4.75, -4.125, -1.6640625, -1.8671875, -3.1875, -3.28125, -2.953125, -3.359375, -4.65625, -1.1875, -1.9296875, -2.3125, -2.578125, -3.515625, -4.09375, -3.828125, -5.5625, -3.328125, -4.125, -4.03125, -3.515625, -4.96875, -3.21875, -4.0, -4.28125, -3.640625, -1.421875, 0.1435546875, -0.65234375, -1.15625, -0.08203125, -1.9765625, -2.28125, -2.359375, -2.3125, -2.8125, -3.0, -3.25, -2.875, -3.875, -2.671875, -2.953125, -3.40625, -3.3125, -3.671875, -4.375, -3.125, -3.28125, -2.78125, -2.953125, -3.359375, -3.59375, -3.953125, -3.390625, -3.765625, -3.359375, -3.75, -3.46875, -1.34375, -3.21875, -3.328125, -3.4375, -2.65625, -3.171875, -3.5, -2.921875, -2.734375, -3.21875, -3.359375, -3.515625, -3.09375, -2.484375, -3.296875, -3.34375, -3.46875, -1.5703125, -3.921875, -3.546875, -3.953125, -2.984375, -2.421875, -3.1875, -3.46875, -3.28125, -2.96875, -2.71875, -2.09375, -2.671875, -2.796875, -3.15625, -2.875, -3.578125, -1.984375, -2.765625, -2.9375, -1.59375, -0.7578125, -1.4375, -1.390625, 0.138671875]\n"
     ]
    }
   ],
   "source": [
    "print(chosens[0])"
   ]
  },
  {
   "cell_type": "code",
   "execution_count": 11,
   "id": "dd214cd1-6b29-49f1-a08a-6bae429347bd",
   "metadata": {},
   "outputs": [
    {
     "name": "stdout",
     "output_type": "stream",
     "text": [
      "[15.6875, -3.765625, -4.875, -7.21875, -8.0625, -8.875, -8.6875, -8.75, -7.375, -7.375, -7.1875, -6.5625, -7.8125, -7.6875, -6.3125, -5.40625, -5.40625, -5.125, -5.875, -6.1875, -7.15625, -8.1875, -7.90625, -6.34375, -6.84375, -6.5, -4.1875, -6.15625, -5.40625, -4.28125, -5.0, -6.9375, -5.40625, -5.15625, -5.28125, -5.46875, -4.78125, -4.1875, -1.734375, -2.09375, -3.015625, -3.3125, -3.015625, -3.359375, -4.8125, -1.2890625, -1.9921875, -2.421875, -2.578125, -3.4375, -4.0625, -3.875, -5.625, -3.390625, -4.09375, -4.09375, -3.546875, -5.03125, -3.25, -3.96875, -4.3125, -3.578125, -1.453125, 0.2353515625, -0.59375, -1.1640625, -0.06640625, -1.9453125, -2.46875, -2.34375, -2.28125, -2.875, -3.046875, -3.296875, -2.796875, -3.84375, -2.796875, -2.984375, -3.40625, -3.21875, -3.640625, -4.3125, -3.1875, -3.375, -2.78125, -2.953125, -3.359375, -3.671875, -3.953125, -3.4375, -3.90625, -3.359375, -3.671875, -3.703125, -1.3984375, -3.140625, -3.4375, -3.421875, -2.65625, -3.09375, -3.453125, -2.9375, -2.65625, -3.234375, -3.46875, -3.546875, -3.0, -2.625]\n"
     ]
    }
   ],
   "source": [
    "print(chosens[0])"
   ]
  },
  {
   "cell_type": "code",
   "execution_count": 1,
   "id": "2369e3d3-89e2-4150-b238-e077d422b7d1",
   "metadata": {},
   "outputs": [],
   "source": [
    "import pandas as pd"
   ]
  },
  {
   "cell_type": "code",
   "execution_count": 2,
   "id": "11b61015-42b5-47b4-bbe8-c49b1eca655f",
   "metadata": {},
   "outputs": [],
   "source": [
    "t = pd.read_json(\"../../data/ultra/ultraeval_processed/u400.jsonl\", lines=True, orient='records')"
   ]
  },
  {
   "cell_type": "code",
   "execution_count": 8,
   "id": "533be9f3-9372-4309-a868-0f26e6abf185",
   "metadata": {},
   "outputs": [
    {
     "data": {
      "text/plain": [
       "completions    [{'response': 'When did Bailey receive the awa...\n",
       "instruction    Detailed Instructions: In this task, based on ...\n",
       "Name: 0, dtype: object"
      ]
     },
     "execution_count": 8,
     "metadata": {},
     "output_type": "execute_result"
    }
   ],
   "source": [
    "t.loc[0]"
   ]
  },
  {
   "cell_type": "code",
   "execution_count": 9,
   "id": "17707108-4c86-4be5-9e4d-e23135cf875f",
   "metadata": {},
   "outputs": [],
   "source": [
    "t = pd.read_json(\"../../annotation/u400_annotated.jsonl\", lines=True, orient='records')"
   ]
  },
  {
   "cell_type": "code",
   "execution_count": 17,
   "id": "c74a0e54-57b4-4082-9d33-625be127b917",
   "metadata": {},
   "outputs": [
    {
     "data": {
      "text/plain": [
       "[{'Rating': '3',\n",
       "  'Rationale': 'The text does create a question about when an event happened, which is the task goal. However, the question is not answerable with common knowledge or instinct, as the text provides multiple possible time frames for when Bailey received the award. The text also includes explicit mentions of potential answers, which is against the restrictions.'}]"
      ]
     },
     "execution_count": 17,
     "metadata": {},
     "output_type": "execute_result"
    }
   ],
   "source": [
    "t['completions'][0][0]['annotations']['instruction_following']"
   ]
  },
  {
   "cell_type": "code",
   "execution_count": null,
   "id": "61dc6867-1f58-422e-b033-a78e265d0751",
   "metadata": {},
   "outputs": [],
   "source": []
  },
  {
   "cell_type": "code",
   "execution_count": null,
   "id": "ca1dcb2b-08c9-44c7-8799-d0b02b684cfa",
   "metadata": {},
   "outputs": [],
   "source": []
  }
 ],
 "metadata": {
  "kernelspec": {
   "display_name": "Python 3 (ipykernel)",
   "language": "python",
   "name": "python3"
  },
  "language_info": {
   "codemirror_mode": {
    "name": "ipython",
    "version": 3
   },
   "file_extension": ".py",
   "mimetype": "text/x-python",
   "name": "python",
   "nbconvert_exporter": "python",
   "pygments_lexer": "ipython3",
   "version": "3.10.0"
  }
 },
 "nbformat": 4,
 "nbformat_minor": 5
}
