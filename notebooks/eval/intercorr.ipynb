{
 "cells": [
  {
   "cell_type": "code",
   "execution_count": 56,
   "id": "d83dfb48-cceb-4830-a293-824c461fa798",
   "metadata": {},
   "outputs": [],
   "source": [
    "from scipy.stats import spearmanr, pearsonr, kendalltau\n",
    "from statistics import mean, stdev, median\n",
    "import pandas as pd\n",
    "import os\n",
    "\n",
    "import matplotlib.pyplot as plt\n",
    "import numpy as np\n",
    "from math import isnan"
   ]
  },
  {
   "cell_type": "code",
   "execution_count": 57,
   "id": "8c3e427d-1dd3-4344-9cbc-cf78f6c2db91",
   "metadata": {},
   "outputs": [
    {
     "name": "stdout",
     "output_type": "stream",
     "text": [
      "dpo13b\n",
      "dpo7b\n",
      "dpo7b\n",
      "dpo13b\n",
      "dpo7b\n",
      "dpo13b\n",
      "dpo13b\n",
      "dpo7b\n",
      "dpo7b\n",
      "dpo13b\n",
      "dpo7b\n",
      "dpo13b\n",
      "dpo7b\n",
      "dpo13b\n",
      "dpo7b\n",
      "dpo13b\n",
      "dpo7b\n",
      "dpo13b\n"
     ]
    }
   ],
   "source": [
    "# normalize scores of new given scores of base\n",
    "def normalize_scores(new, base):\n",
    "    assert len(new)==len(base)\n",
    "    for i in range(len(new)):\n",
    "        stmp = new['scores'][i]\n",
    "        assert len(stmp)==4\n",
    "        new['scores'][i] = [stmp[j]*-1/base['scores'][i][j] for j in range(len(stmp))]\n",
    "    return new['scores']\n",
    "\n",
    "def create_scores(indf):\n",
    "    scos = []\n",
    "    for i, row in indf.iterrows():\n",
    "        ifs = [row['completions'][j]['annotations']['instruction_following'][0]['Rating'] for j in range(4)]\n",
    "        hfs = [row['completions'][j]['annotations']['helpfulness'][0]['Rating'] for j in range(4)]\n",
    "        #print(ifs)\n",
    "        scos.append([mean([float(ifs[j]), float(hfs[j])]) for j in range(4)])\n",
    "    return scos\n",
    "\n",
    "# notebook for experiment to get inter-RM correlations (measure of distribution shift) at different stages of PPO\n",
    "def load_jsons(basedir=\"../../outputs/ultrarmscos/\", max=50):\n",
    "    adicts = {}\n",
    "    for l in os.listdir(basedir):\n",
    "        kv = l.split(\"_\")\n",
    "        #print(kv)\n",
    "        if kv[0] not in adicts.keys():\n",
    "            adicts[kv[0]] = {}\n",
    "        tmp = pd.read_json(basedir+l, orient='records', lines=True)\n",
    "        if \"dpo\" in kv[1] or \"tulu\" in kv[1]:\n",
    "            tmp['scores'] = [[sum(s) for s in row] for row in tmp['scores']]\n",
    "        if \"annotated\" in kv[1]:\n",
    "            # these are gold annotations\n",
    "            tmp['scores'] = create_scores(tmp)\n",
    "        adicts[kv[0]][kv[1].replace(\".jsonl\", \"\")] = tmp.loc[:50]\n",
    "\n",
    "    for k in adicts.keys():\n",
    "        tmp = adicts[k]\n",
    "        for j in tmp.keys():\n",
    "            if 'dpo' in j:\n",
    "                print(j)\n",
    "                tmp[j]['scores'] = normalize_scores(tmp[j], tmp[j.replace('dpo', 'tulu')])\n",
    "            \n",
    "    return adicts\n",
    "\n",
    "alldata = load_jsons()"
   ]
  },
  {
   "cell_type": "code",
   "execution_count": 58,
   "id": "6276907d-8b2f-4572-8f36-585a9f9a056b",
   "metadata": {},
   "outputs": [],
   "source": [
    "annots = pd.read_json('../../annotation/minitest_annotated.jsonl', lines=True, orient='records')"
   ]
  },
  {
   "cell_type": "code",
   "execution_count": null,
   "id": "eee34d8d-76f1-4328-87cd-8c527c7dd78b",
   "metadata": {},
   "outputs": [],
   "source": [
    "annots['completions'][0][2]['annotations']['instruction_following'][0]['Rating']"
   ]
  },
  {
   "cell_type": "code",
   "execution_count": null,
   "id": "492c3ba1-1db9-4145-8e38-281e422e0720",
   "metadata": {},
   "outputs": [],
   "source": [
    "alldata['sft']['dpo13b']"
   ]
  },
  {
   "cell_type": "code",
   "execution_count": 11,
   "id": "a6c35f5b-4659-40c6-be67-9e07282bfc5a",
   "metadata": {},
   "outputs": [
    {
     "data": {
      "text/plain": [
       "dict_keys(['dpo7b', '13brm', 'tulu7b', '7brm', 'tulu13b', 'annotated'])"
      ]
     },
     "execution_count": 11,
     "metadata": {},
     "output_type": "execute_result"
    }
   ],
   "source": [
    "alldata['u975'].keys()"
   ]
  },
  {
   "cell_type": "code",
   "execution_count": 59,
   "id": "2e69dc7c-4f24-4eaa-a276-866a024c7b73",
   "metadata": {},
   "outputs": [],
   "source": [
    "def valspear(subdict, comp, domean=True):\n",
    "    corrs = {}\n",
    "    for k in subdict.keys():\n",
    "        if comp==k:\n",
    "            continue\n",
    "        #print(len(subdict))\n",
    "        corr = [spearmanr(subdict[k]['scores'][i], subdict[comp]['scores'][i]).statistic for i in range(len(subdict[comp]))]\n",
    "        if domean:\n",
    "            corr = np.nanmean(corr)\n",
    "        #print(k, \" \", comp, \" : \", corr)\n",
    "        corrs[k] = corr\n",
    "    return corrs\n",
    "\n",
    "def varcals(subdict,domean=True, fun=stdev) :\n",
    "    corrs = {}\n",
    "    for k in subdict.keys():\n",
    "        #print(len(subdict))\n",
    "        corr = [fun(s) for s in subdict[k]['scores']]\n",
    "        if domean:\n",
    "            corr = mean(corr)\n",
    "        #corr = np.nanmean(corr)\n",
    "        #print(k, \" \", comp, \" : \", corr)\n",
    "        corrs[k] = corr\n",
    "    return corrs\n",
    "    \n",
    "ks = ['sft', 'u25', 'u50', 'u75', 'u100', 'u200', 'u400', 'u750', 'u975']\n",
    "def corrlines(dct, comp, domean=True):\n",
    "    covals = {}\n",
    "    for k in dct['u25'].keys():\n",
    "        if k not in comp:\n",
    "            covals[k] = []\n",
    "    for u in ks:\n",
    "        tmpdists = valspear(dct[u], comp, domean)\n",
    "        for t in tmpdists.keys():\n",
    "            covals[t].append(tmpdists[t])\n",
    "    return covals\n",
    "\n",
    "def varlines(dct, useless, domean=True):\n",
    "    covals = {}\n",
    "    for k in dct['u25'].keys():\n",
    "        covals[k] = []\n",
    "    for u in ks:\n",
    "        tmpdists = varcals(dct[u], domean)\n",
    "        for t in tmpdists.keys():\n",
    "            covals[t].append(tmpdists[t])\n",
    "    return covals"
   ]
  },
  {
   "cell_type": "code",
   "execution_count": 25,
   "id": "e0789fcd-e4b3-4485-882d-88c63bc82d44",
   "metadata": {},
   "outputs": [
    {
     "data": {
      "text/plain": [
       "dict_keys(['dpo13b', '13brm', 'dpo7b', '7brm', 'tulu7b', 'tulu13b', 'annotated'])"
      ]
     },
     "execution_count": 25,
     "metadata": {},
     "output_type": "execute_result"
    }
   ],
   "source": [
    "alldata"
   ]
  },
  {
   "cell_type": "code",
   "execution_count": 60,
   "id": "a50e307e-53c7-4b6c-8769-156ef28d6bf3",
   "metadata": {},
   "outputs": [],
   "source": [
    "def vscatter(comp1, comp2, funct=corrlines):\n",
    "    vls = funct(alldata, comp1, False)[comp2]\n",
    "    means = []\n",
    "    vars = []\n",
    "    for i in range(len(vls[0])):\n",
    "        tmp = []\n",
    "        for j in range(len(vls)):\n",
    "            if isnan(vls[j][i])==False:\n",
    "                tmp.append(vls[j][i])\n",
    "        if len(tmp)!=0: \n",
    "            mval = stdev(tmp)\n",
    "            means.append(mean(tmp))\n",
    "            vars.append(mval)\n",
    "        else:\n",
    "            means.append(0)\n",
    "            vars.append(0)\n",
    "            \"\"\n",
    "    plt.title(\"means vs variance over training of:\\n \"+comp1+\"/\"+comp2)\n",
    "    plt.scatter(means, vars)\n",
    "    return means, vars\n",
    "\n",
    "def compdict(d1, d2, fun=corrlines):\n",
    "    ms1, vs1 = vscatter(\"annotated\", d1)\n",
    "    ms2, vs2 = vscatter(\"annotated\", d2)\n",
    "    responses = []\n",
    "    resdict = pd.DataFrame({\n",
    "        d1+\"mean\":ms1, \n",
    "        d2+\"mean\":ms2, \n",
    "        d1+\"var\":vs1, \n",
    "        d2+\"var\":vs2, \n",
    "        'question':[q.split(\"### Instruction:\\n\")[1].replace(\"### Response:\", \"\") for q in alldata['sft'][d1]['question']], \n",
    "    })\n",
    "    annots = []\n",
    "    d1scos = []\n",
    "    d2scos = []\n",
    "    for i, row in resdict.iterrows(): \n",
    "        responses.append([alldata[s][d1]['response'][i] for s in ks])\n",
    "        annots.append([alldata[s]['annotated']['scores'][i] for s in ks])\n",
    "        d1scos.append([alldata[s][d1]['scores'][i] for s in ks])\n",
    "        d2scos.append([alldata[s][d2]['scores'][i] for s in ks])\n",
    "    resdict['responses'] = responses\n",
    "    resdict[d1] = d1scos\n",
    "    resdict[d2] = d2scos\n",
    "    resdict['annotated'] = annots\n",
    "    return resdict"
   ]
  },
  {
   "cell_type": "code",
   "execution_count": 59,
   "id": "5b718e5c-845a-4c85-a8e0-f0e06cebd0e6",
   "metadata": {
    "scrolled": true
   },
   "outputs": [
    {
     "name": "stderr",
     "output_type": "stream",
     "text": [
      "/u/prasanns/miniconda3/envs/rlhfenv/lib/python3.10/site-packages/scipy/stats/_stats_py.py:5445: ConstantInputWarning: An input array is constant; the correlation coefficient is not defined.\n",
      "  warnings.warn(stats.ConstantInputWarning(warn_msg))\n"
     ]
    },
    {
     "data": {
      "image/png": "[encoded data removed]",
      "text/plain": [
       "<Figure size 640x480 with 1 Axes>"
      ]
     },
     "metadata": {},
     "output_type": "display_data"
    }
   ],
   "source": [
    "cpd = compdict('dpo13b', '13brm')"
   ]
  },
  {
   "cell_type": "code",
   "execution_count": 61,
   "id": "70a6dff1-2342-4270-89da-2479d745f4b9",
   "metadata": {},
   "outputs": [],
   "source": [
    "def print_outs(tmpdf, d1, d2):\n",
    "    # go through all rows\n",
    "    for i, row in tmpdf.iterrows():\n",
    "        print(\"______________\")\n",
    "        print(\"mean correlation of \", d1, \":\", row[d1+\"mean\"])\n",
    "        print(\"mean correlation of \", d2, \":\", row[d2+\"mean\"])\n",
    "        print(row['question'])\n",
    "        for j in [0,4]:\n",
    "            print(\"*********\\n outputs from \", ks[j])\n",
    "            for k in range(4):\n",
    "                print(\"gold \", row['annotated'][j][k], \" ; \", d1, \" \", row[d1][j][k], \" ; \", d2, \" \", row[d2][j][k])\n",
    "                print(row['responses'][j][k].split(\"Answer:\")[1])\n",
    "        #print(row)"
   ]
  },
  {
   "cell_type": "code",
   "execution_count": 98,
   "id": "4a97bcef-dc6e-41c9-af1f-83be1dd0aad6",
   "metadata": {},
   "outputs": [],
   "source": [
    "tmp = cpd[(cpd['13brmmean']>.2) & (cpd['dpo13bmean']>0.2)]"
   ]
  },
  {
   "cell_type": "code",
   "execution_count": 93,
   "id": "f70dc31a-49b2-46a8-a839-8a5803bc95ad",
   "metadata": {},
   "outputs": [
    {
     "data": {
      "text/html": [
       "<div>\n",
       "<style scoped>\n",
       "    .dataframe tbody tr th:only-of-type {\n",
       "        vertical-align: middle;\n",
       "    }\n",
       "\n",
       "    .dataframe tbody tr th {\n",
       "        vertical-align: top;\n",
       "    }\n",
       "\n",
       "    .dataframe thead th {\n",
       "        text-align: right;\n",
       "    }\n",
       "</style>\n",
       "<table border=\"1\" class=\"dataframe\">\n",
       "  <thead>\n",
       "    <tr style=\"text-align: right;\">\n",
       "      <th></th>\n",
       "      <th>dpo13bmean</th>\n",
       "      <th>13brmmean</th>\n",
       "      <th>dpo13bvar</th>\n",
       "      <th>13brmvar</th>\n",
       "      <th>question</th>\n",
       "      <th>responses</th>\n",
       "      <th>dpo13b</th>\n",
       "      <th>13brm</th>\n",
       "      <th>annotated</th>\n",
       "    </tr>\n",
       "  </thead>\n",
       "  <tbody>\n",
       "    <tr>\n",
       "      <th>11</th>\n",
       "      <td>0.265409</td>\n",
       "      <td>-0.114064</td>\n",
       "      <td>0.747033</td>\n",
       "      <td>0.655628</td>\n",
       "      <td>nifi executestream how to pass the output of t...</td>\n",
       "      <td>[[Question: nifi executestream how to pass the...</td>\n",
       "      <td>[[-1.146970623581067, -1.1314609622093936, -1....</td>\n",
       "      <td>[[-0.3937988281, -1.111328125, 4.8828125, -0.3...</td>\n",
       "      <td>[[3.0, 3.5, 3.5, 4.5], [4.0, 2.5, 4.5, 5.0], [...</td>\n",
       "    </tr>\n",
       "    <tr>\n",
       "      <th>40</th>\n",
       "      <td>0.000943</td>\n",
       "      <td>-0.050986</td>\n",
       "      <td>0.537483</td>\n",
       "      <td>0.765129</td>\n",
       "      <td>can you write a cnc machine program?\\n\\n</td>\n",
       "      <td>[[Question: can you write a cnc machine progra...</td>\n",
       "      <td>[[-1.087308866841715, -1.087308866841715, -1.0...</td>\n",
       "      <td>[[-0.1276855469, -0.1276855469, -0.11169433590...</td>\n",
       "      <td>[[2.0, 2.0, 2.0, 2.0], [5.0, 4.5, 4.5, 2.5], [...</td>\n",
       "    </tr>\n",
       "    <tr>\n",
       "      <th>44</th>\n",
       "      <td>0.609999</td>\n",
       "      <td>-0.038659</td>\n",
       "      <td>0.318660</td>\n",
       "      <td>0.848737</td>\n",
       "      <td>Summarise how to apply for an Arts Council gra...</td>\n",
       "      <td>[[Question: Summarise how to apply for an Arts...</td>\n",
       "      <td>[[-1.1344895178413978, -1.1426226159774093, -1...</td>\n",
       "      <td>[[1.462890625, 1.498046875, 0.8969726562, 2.19...</td>\n",
       "      <td>[[4.0, 4.5, 3.5, 4.5], [3.5, 5.0, 4.0, 5.0], [...</td>\n",
       "    </tr>\n",
       "    <tr>\n",
       "      <th>46</th>\n",
       "      <td>0.365738</td>\n",
       "      <td>-0.281410</td>\n",
       "      <td>0.493868</td>\n",
       "      <td>0.699928</td>\n",
       "      <td>Explain simply why 7 is the correct answer to:...</td>\n",
       "      <td>[[Question: Explain simply why 7 is the correc...</td>\n",
       "      <td>[[-1.1005821046859314, -1.107081688086066, -1....</td>\n",
       "      <td>[[0.62890625, -0.1079711914, 0.1848144531, -1....</td>\n",
       "      <td>[[1.0, 1.0, 1.0, 2.5], [1.0, 1.0, 1.0, 5.0], [...</td>\n",
       "    </tr>\n",
       "  </tbody>\n",
       "</table>\n",
       "</div>"
      ],
      "text/plain": [
       "    dpo13bmean  13brmmean  dpo13bvar  13brmvar  \\\n",
       "11    0.265409  -0.114064   0.747033  0.655628   \n",
       "40    0.000943  -0.050986   0.537483  0.765129   \n",
       "44    0.609999  -0.038659   0.318660  0.848737   \n",
       "46    0.365738  -0.281410   0.493868  0.699928   \n",
       "\n",
       "                                             question  \\\n",
       "11  nifi executestream how to pass the output of t...   \n",
       "40           can you write a cnc machine program?\\n\\n   \n",
       "44  Summarise how to apply for an Arts Council gra...   \n",
       "46  Explain simply why 7 is the correct answer to:...   \n",
       "\n",
       "                                            responses  \\\n",
       "11  [[Question: nifi executestream how to pass the...   \n",
       "40  [[Question: can you write a cnc machine progra...   \n",
       "44  [[Question: Summarise how to apply for an Arts...   \n",
       "46  [[Question: Explain simply why 7 is the correc...   \n",
       "\n",
       "                                               dpo13b  \\\n",
       "11  [[-1.146970623581067, -1.1314609622093936, -1....   \n",
       "40  [[-1.087308866841715, -1.087308866841715, -1.0...   \n",
       "44  [[-1.1344895178413978, -1.1426226159774093, -1...   \n",
       "46  [[-1.1005821046859314, -1.107081688086066, -1....   \n",
       "\n",
       "                                                13brm  \\\n",
       "11  [[-0.3937988281, -1.111328125, 4.8828125, -0.3...   \n",
       "40  [[-0.1276855469, -0.1276855469, -0.11169433590...   \n",
       "44  [[1.462890625, 1.498046875, 0.8969726562, 2.19...   \n",
       "46  [[0.62890625, -0.1079711914, 0.1848144531, -1....   \n",
       "\n",
       "                                            annotated  \n",
       "11  [[3.0, 3.5, 3.5, 4.5], [4.0, 2.5, 4.5, 5.0], [...  \n",
       "40  [[2.0, 2.0, 2.0, 2.0], [5.0, 4.5, 4.5, 2.5], [...  \n",
       "44  [[4.0, 4.5, 3.5, 4.5], [3.5, 5.0, 4.0, 5.0], [...  \n",
       "46  [[1.0, 1.0, 1.0, 2.5], [1.0, 1.0, 1.0, 5.0], [...  "
      ]
     },
     "execution_count": 93,
     "metadata": {},
     "output_type": "execute_result"
    }
   ],
   "source": [
    "tmp"
   ]
  },
  {
   "cell_type": "code",
   "execution_count": null,
   "id": "9ac6f963-06f6-43a0-b77b-25451e24e22c",
   "metadata": {},
   "outputs": [],
   "source": [
    "print_outs(tmp, 'dpo13b', '13brm')"
   ]
  },
  {
   "cell_type": "code",
   "execution_count": 101,
   "id": "7cd0c561-0f40-42ca-9cfb-169ce61cad02",
   "metadata": {},
   "outputs": [
    {
     "data": {
      "text/plain": [
       "0.5416666666666666"
      ]
     },
     "execution_count": 101,
     "metadata": {},
     "output_type": "execute_result"
    }
   ],
   "source": [
    "len(cpd[(cpd['13brmmean']>0.3) & (cpd['dpo13bmean']>0.3)])/len(cpd[(cpd['13brmmean']>0.3)])"
   ]
  },
  {
   "cell_type": "code",
   "execution_count": 51,
   "id": "a150d930-bf0d-4131-af45-35818fc4dd01",
   "metadata": {},
   "outputs": [
    {
     "data": {
      "text/plain": [
       "\"In this task you will be given an answer to a question. You need to generate a question. The answer given should be a correct answer for the generated question.\\nOne example is below.\\nQ: This list contains the top 25 accounts with the most followers on the social photo-sharing platform Instagram. As of May 2018, the most followed user is Instagram's own account, with over 235 million followers. Selena Gomez is the most followed individual, with over 137 million followers. Ten accounts have exceeded 100 million followers on the site.\\nA: who has the maximum number of followers on instagram\\nRationale: The answer is talking about the Instagram accounts that have the most followers. The question asking about the maximum number of followers. So this is a good example.\\nQ: 'Otherside' refers to former band member Hillel Slovak, who died of a heroin overdose on June 25, 1988. The song talks about his struggles from this addiction.\\nA:\\n\\n\""
      ]
     },
     "execution_count": 51,
     "metadata": {},
     "output_type": "execute_result"
    }
   ],
   "source": [
    "cpd['question'][4]"
   ]
  },
  {
   "cell_type": "code",
   "execution_count": null,
   "id": "28082914-e5fd-4b6c-87a3-f0cfccdc7d33",
   "metadata": {},
   "outputs": [],
   "source": [
    "# TODO get a scatter plot of correlation variance vs mean for individual examples, for some pair distribution\n",
    "# TODO get some notion of "
   ]
  },
  {
   "cell_type": "code",
   "execution_count": 62,
   "id": "835e11e9-3b33-4742-8134-b9f18e180a93",
   "metadata": {},
   "outputs": [],
   "source": [
    "def comp_plot(base, lfunct=corrlines, excl=[]):\n",
    "    cdists = lfunct(alldata, base)\n",
    "    x = [0, 25, 50, 75, 100, 200, 400, 750, 950]\n",
    "    # Plot each line\n",
    "    for key in cdists:\n",
    "        if key in excl:\n",
    "            continue\n",
    "        print(key, len(cdists[key]))\n",
    "        plt.plot(x, cdists[key], label=key)\n",
    "    \n",
    "    # Adding labels and title\n",
    "    plt.xlabel('Train Steps')\n",
    "    plt.ylabel('Mean Spearman Correlation')\n",
    "    plt.title('Correlations vs '+base+\" over training\")\n",
    "    plt.legend()\n",
    "    \n",
    "    # Show the plot\n",
    "    plt.show()"
   ]
  },
  {
   "cell_type": "code",
   "execution_count": 34,
   "id": "cf465dd4-7199-48df-a1ef-631311d9dbc6",
   "metadata": {},
   "outputs": [
    {
     "data": {
      "text/plain": [
       "53.10008731211543"
      ]
     },
     "execution_count": 34,
     "metadata": {},
     "output_type": "execute_result"
    }
   ],
   "source": [
    "stmp = alldata['sft']['tulu13b']['scores']\n",
    "mean([stdev(s) for s in stmp])"
   ]
  },
  {
   "cell_type": "code",
   "execution_count": 68,
   "id": "b017e6cc-c8d2-41fe-b2ad-1cc96a9b3d2e",
   "metadata": {},
   "outputs": [
    {
     "name": "stdout",
     "output_type": "stream",
     "text": [
      "7brm 9\n",
      "dpo7b 9\n",
      "dpo13b 9\n",
      "annotated 9\n"
     ]
    },
    {
     "data": {
      "image/png": "[encoded data removed]",
      "text/plain": [
       "<Figure size 640x480 with 1 Axes>"
      ]
     },
     "metadata": {},
     "output_type": "display_data"
    }
   ],
   "source": [
    "comp_plot(\"13brm\", corrlines, ['tulu7b', 'tulu13b'])"
   ]
  },
  {
   "cell_type": "markdown",
   "id": "9ed3c254-6783-4c4e-9a15-192783636001",
   "metadata": {},
   "source": [
    "plt.hist(cdists[2])"
   ]
  },
  {
   "cell_type": "code",
   "execution_count": null,
   "id": "e0f54796-ad71-4d9d-98f5-c261c7d6c60d",
   "metadata": {},
   "outputs": [],
   "source": [
    "spearmanr([1,2], [1,3])"
   ]
  },
  {
   "cell_type": "code",
   "execution_count": null,
   "id": "203a5a5b-729a-4537-b727-143fb2205c98",
   "metadata": {},
   "outputs": [],
   "source": [
    "alldata = load_jsons()"
   ]
  },
  {
   "cell_type": "code",
   "execution_count": null,
   "id": "df171137-4530-4839-90d4-0ced1020e9bd",
   "metadata": {},
   "outputs": [],
   "source": [
    "alldata['sft']['dpo13b']"
   ]
  },
  {
   "cell_type": "code",
   "execution_count": null,
   "id": "14e2cc1d-0a21-4794-bdb7-905269be7c3a",
   "metadata": {},
   "outputs": [],
   "source": []
  }
 ],
 "metadata": {
  "kernelspec": {
   "display_name": "Python 3 (ipykernel)",
   "language": "python",
   "name": "python3"
  },
  "language_info": {
   "codemirror_mode": {
    "name": "ipython",
    "version": 3
   },
   "file_extension": ".py",
   "mimetype": "text/x-python",
   "name": "python",
   "nbconvert_exporter": "python",
   "pygments_lexer": "ipython3",
   "version": "3.10.0"
  }
 },
 "nbformat": 4,
 "nbformat_minor": 5
}
