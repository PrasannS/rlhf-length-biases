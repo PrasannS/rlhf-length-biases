{
 "cells": [
  {
   "cell_type": "code",
   "execution_count": 2,
   "id": "b44eb887-fc82-45c8-bfcc-8d8a394b57b1",
   "metadata": {},
   "outputs": [],
   "source": [
    "from transformers import AutoModelForCausalLM, AutoTokenizer\n",
    "import torch\n",
    "from rlhfutils.modeling_override import set_forward\n",
    "from torch.nn import CrossEntropyLoss\n",
    "from rlhfutils.rewards import computelike\n",
    "from datasets import Dataset\n",
    "import pickle\n",
    "from nltk import word_tokenize\n",
    "import matplotlib.pyplot as plt\n",
    "import random"
   ]
  },
  {
   "cell_type": "code",
   "execution_count": 31,
   "id": "5945cedb-b123-4925-8a88-b820c6dbe5fb",
   "metadata": {},
   "outputs": [],
   "source": [
    "l = CrossEntropyLoss(reduction='none')"
   ]
  },
  {
   "cell_type": "code",
   "execution_count": 52,
   "id": "e53cbd39-2aa5-4ff5-83af-aea7f89b27e9",
   "metadata": {},
   "outputs": [],
   "source": [
    "a = torch.tensor([[[1, .9, 0],[1, 0, 1]], [[0, 1, 0],[0, 0, 1]]])\n",
    "labs = torch.tensor([[1,2], [0,1]], dtype=torch.long)"
   ]
  },
  {
   "cell_type": "code",
   "execution_count": 53,
   "id": "d04d9ba0-dfb6-4d9c-8b16-652c596ce750",
   "metadata": {},
   "outputs": [
    {
     "data": {
      "text/plain": [
       "tensor([[[1.0000, 0.9000, 0.0000],\n",
       "         [1.0000, 0.0000, 1.0000]],\n",
       "\n",
       "        [[0.0000, 1.0000, 0.0000],\n",
       "         [0.0000, 0.0000, 1.0000]]])"
      ]
     },
     "execution_count": 53,
     "metadata": {},
     "output_type": "execute_result"
    }
   ],
   "source": [
    "a"
   ]
  },
  {
   "cell_type": "code",
   "execution_count": 57,
   "id": "30472317-61b7-469c-a65c-38831226ab62",
   "metadata": {},
   "outputs": [
    {
     "data": {
      "text/plain": [
       "tensor([0.8915, 1.5514])"
      ]
     },
     "execution_count": 57,
     "metadata": {},
     "output_type": "execute_result"
    }
   ],
   "source": [
    "l(a.view(-1, 3), labs.view(-1)).reshape(2,2).mean(dim=-1)"
   ]
  },
  {
   "cell_type": "code",
   "execution_count": 3,
   "id": "34d08876-d1b8-4224-8bac-e5d1bb86ba45",
   "metadata": {},
   "outputs": [],
   "source": [
    "%load_ext autoreload\n",
    "%autoreload 2"
   ]
  },
  {
   "cell_type": "code",
   "execution_count": 4,
   "id": "158d4535-fe72-4461-bbd6-10b428e5b2c9",
   "metadata": {},
   "outputs": [
    {
     "name": "stderr",
     "output_type": "stream",
     "text": [
      "/u/prasanns/miniconda3/envs/rlhfenv/lib/python3.10/site-packages/torch/_utils.py:776: UserWarning: TypedStorage is deprecated. It will be removed in the future and UntypedStorage will be the only storage class. This should only matter to you if you are using storages directly.  To access UntypedStorage directly, use tensor.untyped_storage() instead of tensor.storage()\n",
      "  return self.fget.__get__(instance, owner)()\n"
     ]
    }
   ],
   "source": [
    "mod = AutoModelForCausalLM.from_pretrained(\"facebook/opt-125m\", device_map=0).eval()\n",
    "tok = AutoTokenizer.from_pretrained(\"facebook/opt-125m\")\n"
   ]
  },
  {
   "cell_type": "code",
   "execution_count": 5,
   "id": "7444136c-3e36-4687-a69d-c619efce4fca",
   "metadata": {},
   "outputs": [],
   "source": [
    "bmod = AutoModelForCausalLM.from_pretrained(\"facebook/opt-1.3b\", device_map=0).eval()\n",
    "btok = AutoTokenizer.from_pretrained(\"facebook/opt-1.3b\")"
   ]
  },
  {
   "cell_type": "code",
   "execution_count": 6,
   "id": "2b0b785b-2283-4b62-866e-0f3e0d16540c",
   "metadata": {},
   "outputs": [],
   "source": [
    "distprefs = Dataset.load_from_disk(\"../../data/contrastivedistill/wikidatasft/\")"
   ]
  },
  {
   "cell_type": "code",
   "execution_count": 6,
   "id": "9ef6f050-d1c1-4547-badc-9ca3af541329",
   "metadata": {},
   "outputs": [],
   "source": [
    "def getqs(ex):\n",
    "    ex['question'] = tok.decode(tok(ex['outputs']).input_ids[:12], skip_special_tokens=True).strip()\n",
    "    ex['question'] = ex['question'].rsplit(\" \", 1)[0]\n",
    "    return ex"
   ]
  },
  {
   "cell_type": "code",
   "execution_count": 17,
   "id": "48a63ac7-d938-4d22-8781-2a40faadccda",
   "metadata": {},
   "outputs": [
    {
     "name": "stderr",
     "output_type": "stream",
     "text": [
      "Loading cached processed dataset at /scratch/cluster/prasanns/research/rlhf-length-biases/data/contrastivedistill/wikidatasft/cache-e036645cced4c69e_*_of_00020.arrow\n"
     ]
    }
   ],
   "source": [
    "distprefs =distprefs.map(getqs, num_proc=20)"
   ]
  },
  {
   "cell_type": "code",
   "execution_count": 26,
   "id": "2e281c49-0641-41f5-ae4d-49ea7decba59",
   "metadata": {},
   "outputs": [
    {
     "name": "stderr",
     "output_type": "stream",
     "text": [
      "                                                                                                                                                                                                             \r"
     ]
    }
   ],
   "source": [
    "# distprefs.save_to_disk(\"../../data/contrastivedistill//\")"
   ]
  },
  {
   "cell_type": "code",
   "execution_count": 43,
   "id": "159ad457-02cf-4998-a84e-8c45ccfe55ac",
   "metadata": {},
   "outputs": [],
   "source": [
    "# tmp = Dataset.from_file(\"../../data/contrastivedistill/contrastdistillprefs/cache-c467cac8d01228b8.arrow\")"
   ]
  },
  {
   "cell_type": "code",
   "execution_count": 20,
   "id": "613eea9b-0697-4c6e-9510-e59bdc7bf997",
   "metadata": {},
   "outputs": [
    {
     "data": {
      "text/plain": [
       "'Autism is a disease.\\nI think you mean autism.\\nI think you mean autism'"
      ]
     },
     "execution_count": 20,
     "metadata": {},
     "output_type": "execute_result"
    }
   ],
   "source": [
    "tmpdata['outputs'][6]"
   ]
  },
  {
   "cell_type": "code",
   "execution_count": 7,
   "id": "c9561e4a-7655-46a7-96e7-057e21f80db8",
   "metadata": {},
   "outputs": [],
   "source": [
    "tmpdata = Dataset.load_from_disk(\"../../data/contrastivedistill/optsmallwiki/\")"
   ]
  },
  {
   "cell_type": "code",
   "execution_count": 69,
   "id": "1b7066cc-4e59-4622-aac8-d1eca4d23f4f",
   "metadata": {},
   "outputs": [
    {
     "name": "stdout",
     "output_type": "stream",
     "text": [
      "modified forward !\n",
      "torch.Size([2, 2, 50272])\n"
     ]
    }
   ],
   "source": [
    "teststrs = [\"hi there\", \"hi there\"]\n",
    "inps = tok(teststrs, return_tensors=\"pt\").to(mod.device)\n",
    "out = mod(**inps, labels=inps.input_ids, )"
   ]
  },
  {
   "cell_type": "code",
   "execution_count": 21,
   "id": "e75e27c0-cd5d-48bb-b4cf-08df93b101da",
   "metadata": {},
   "outputs": [
    {
     "name": "stderr",
     "output_type": "stream",
     "text": [
      "  0%|                                                                                                                                                                                        | 0/5295 [00:00<?, ?it/s]Asking to truncate to max_length but no maximum length is provided and the model has no predefined maximum length. Default to no truncation.\n",
      "Asking to truncate to max_length but no maximum length is provided and the model has no predefined maximum length. Default to no truncation.\n",
      "100%|█████████████████████████████████████████████████████████████████████████████████████████████████████████████████████████████████████████████████████████████████████████████| 5295/5295 [10:37<00:00,  8.30it/s]\n"
     ]
    }
   ],
   "source": [
    "scos = computelike(tmpdata['outputs'], btok, bmod, tok, mod, pbar=True, process=False, bsize=32)"
   ]
  },
  {
   "cell_type": "code",
   "execution_count": 26,
   "id": "6887235a-6fdd-48c5-9785-f9d63376ee4a",
   "metadata": {},
   "outputs": [],
   "source": [
    "from tqdm import tqdm"
   ]
  },
  {
   "cell_type": "code",
   "execution_count": 27,
   "id": "fa272c69-75bf-40fb-81e4-0fd75799f73b",
   "metadata": {},
   "outputs": [],
   "source": [
    "def outstoprefs(outs, scos): \n",
    "    pdata = []\n",
    "    for i in tqdm(range(0, len(outs), 2)):\n",
    "        tmp = {\n",
    "            'question':\"\",\n",
    "        }\n",
    "        stmp = scos[i:i+2]\n",
    "        rtmp = outs[i:i+2]\n",
    "        jind = 0 if stmp[0]>stmp[1] else 1\n",
    "        tmp['score_j'] = stmp[jind]\n",
    "        tmp['score_k'] = stmp[1-jind]\n",
    "        tmp['response_j'] = rtmp[jind]\n",
    "        tmp['response_k'] = rtmp[1-jind]\n",
    "        tmp['magnitude'] = tmp['score_j'] - tmp['score_k']\n",
    "        pdata.append(tmp)\n",
    "    return Dataset.from_list(pdata)"
   ]
  },
  {
   "cell_type": "code",
   "execution_count": 28,
   "id": "469af0b4-9e5a-4cd0-b340-853ff41c0255",
   "metadata": {
    "scrolled": true
   },
   "outputs": [
    {
     "name": "stderr",
     "output_type": "stream",
     "text": [
      "100%|██████████████████████████████████████████████████████████████████████████████████████████████████████████████████████████████████████████████████████████████████████| 84720/84720 [00:00<00:00, 1164985.13it/s]\n"
     ]
    }
   ],
   "source": [
    "optprefs = outstoprefs(tmpdata['outputs'], scos)"
   ]
  },
  {
   "cell_type": "code",
   "execution_count": 34,
   "id": "5833b230-01eb-44f0-a167-7f6e7f897a7a",
   "metadata": {},
   "outputs": [
    {
     "name": "stderr",
     "output_type": "stream",
     "text": [
      "                                                                                                                                                                                                                      \r"
     ]
    }
   ],
   "source": [
    "# optprefs.save_to_disk(\"../../data/contrastivedistill/contoptprefs\")"
   ]
  },
  {
   "cell_type": "code",
   "execution_count": 35,
   "id": "0c43e866-23cc-4e20-99ee-0d49c5d645c3",
   "metadata": {},
   "outputs": [],
   "source": [
    "tmp = Dataset.load_from_disk(\"../../data/contrastivedistill/contdfixed/\")"
   ]
  },
  {
   "cell_type": "code",
   "execution_count": 93,
   "id": "7f82f9c1-d215-45c7-8677-4bd630163754",
   "metadata": {},
   "outputs": [],
   "source": [
    "with open('data/kscos.pkl', 'wb') as f:\n",
    "    pickle.dump(scos, f)"
   ]
  },
  {
   "cell_type": "code",
   "execution_count": 49,
   "id": "de423eb3-3655-4e16-8494-0dc2eb88cd73",
   "metadata": {},
   "outputs": [],
   "source": [
    "with open('data/kscos.pkl', 'rb') as f:\n",
    "    scosk = pickle.load(f)\n",
    "with open('data/jscos.pkl', 'rb') as f:\n",
    "    scosj = pickle.load(f)\n",
    "    "
   ]
  },
  {
   "cell_type": "code",
   "execution_count": 55,
   "id": "f8e4bb9b-195d-4a7e-920e-d9a244873047",
   "metadata": {},
   "outputs": [],
   "source": [
    "base = 10000"
   ]
  },
  {
   "cell_type": "code",
   "execution_count": 56,
   "id": "3ad6a230-d8ec-4de6-953e-8a7acaef9e89",
   "metadata": {},
   "outputs": [
    {
     "name": "stderr",
     "output_type": "stream",
     "text": [
      "100%|███████████████████████████████████████████████████████████████████████████████████████████████████████████████████████████████████| 4/4 [00:00<00:00,  9.58it/s]\n"
     ]
    }
   ],
   "source": [
    "scos = computelike(tmp['chosen'][base:base+100], btok, bmod, tok, mod, pbar=True, process=False, bsize=32)"
   ]
  },
  {
   "cell_type": "code",
   "execution_count": 57,
   "id": "35f963dd-efd2-4dbc-81c3-6f7f62fd5e8c",
   "metadata": {},
   "outputs": [
    {
     "data": {
      "text/plain": [
       "[1.7853946685791016,\n",
       " 1.675436019897461,\n",
       " 1.3695907592773438,\n",
       " 1.775179386138916,\n",
       " 0.9523935317993164,\n",
       " 1.6250791549682617,\n",
       " 1.4206819534301758,\n",
       " 1.7454352378845215,\n",
       " 1.38377046585083,\n",
       " 2.193281650543213]"
      ]
     },
     "execution_count": 57,
     "metadata": {},
     "output_type": "execute_result"
    }
   ],
   "source": [
    "scosj[base:base+10]"
   ]
  },
  {
   "cell_type": "code",
   "execution_count": 60,
   "id": "eed02ccf-aa78-4e9b-9f62-72da0fbc7cb6",
   "metadata": {},
   "outputs": [
    {
     "data": {
      "text/plain": [
       "158400"
      ]
     },
     "execution_count": 60,
     "metadata": {},
     "output_type": "execute_result"
    }
   ],
   "source": [
    "len(tmp)"
   ]
  },
  {
   "cell_type": "code",
   "execution_count": 66,
   "id": "32d024c4-7a34-42a6-a8d5-475f1437f0f8",
   "metadata": {},
   "outputs": [],
   "source": [
    "tmp = tmp.add_column(\"scos_j\", scosj[:len(tmp)])\n",
    "tmp = tmp.add_column(\"scos_k\", scosk[:len(tmp)])"
   ]
  },
  {
   "cell_type": "code",
   "execution_count": 63,
   "id": "89461c0d-de57-439a-bea8-814118504467",
   "metadata": {},
   "outputs": [],
   "source": [
    "tmp = tmp.rename_columns({\"prompt\":\"question\", 'chosen':'response_j', 'rejected':'response_k'})"
   ]
  },
  {
   "cell_type": "code",
   "execution_count": 67,
   "id": "0a7bf1bb-642a-4bd7-959c-f56853de6586",
   "metadata": {},
   "outputs": [],
   "source": [
    "tmp = tmp.select_columns(['question', 'response_j', 'response_k', 'scos_j', 'scos_k'])"
   ]
  },
  {
   "cell_type": "code",
   "execution_count": 68,
   "id": "3775d13b-6b2a-475f-8218-a2565efffa46",
   "metadata": {},
   "outputs": [
    {
     "data": {
      "text/plain": [
       "Dataset({\n",
       "    features: ['question', 'response_j', 'response_k', 'scos_j', 'scos_k'],\n",
       "    num_rows: 158400\n",
       "})"
      ]
     },
     "execution_count": 68,
     "metadata": {},
     "output_type": "execute_result"
    }
   ],
   "source": [
    "tmp"
   ]
  },
  {
   "cell_type": "code",
   "execution_count": 72,
   "id": "df916958-a818-4286-a0af-22c193885e7a",
   "metadata": {},
   "outputs": [
    {
     "name": "stderr",
     "output_type": "stream",
     "text": [
      "                                                                                                                                                                      \r"
     ]
    }
   ],
   "source": [
    "tmp = tmp.filter(lambda ex: ex['scos_j']>ex['scos_k'], num_proc=20)"
   ]
  },
  {
   "cell_type": "code",
   "execution_count": 81,
   "id": "9436c61c-f43d-4df7-94ee-18383f7d7888",
   "metadata": {},
   "outputs": [
    {
     "name": "stderr",
     "output_type": "stream",
     "text": [
      "                                                                                                                                                                      \r"
     ]
    }
   ],
   "source": [
    "tmp.save_to_disk(\"../../data/contrastivedistill/contdfixed\")"
   ]
  },
  {
   "cell_type": "code",
   "execution_count": 78,
   "id": "4881820f-234d-421e-b89f-daa3f2ca8edf",
   "metadata": {},
   "outputs": [],
   "source": [
    "def remvals(ex):\n",
    "    ex['question']=\"\"\n",
    "    return ex"
   ]
  },
  {
   "cell_type": "code",
   "execution_count": 79,
   "id": "a743ac07-1045-42d5-934e-043100d60103",
   "metadata": {},
   "outputs": [
    {
     "name": "stderr",
     "output_type": "stream",
     "text": [
      "                                                                                                                                                                      \r"
     ]
    }
   ],
   "source": [
    "tmp = tmp.map(remvals, num_proc=10)"
   ]
  },
  {
   "cell_type": "code",
   "execution_count": 80,
   "id": "b6572c7d-2f44-48df-83a5-d806ab4d2f22",
   "metadata": {},
   "outputs": [
    {
     "data": {
      "text/plain": [
       "{'question': '',\n",
       " 'response_j': 'Anarchism is where libertarian communist meet anarchism ;) this could totally happen but first anarchacap',\n",
       " 'response_k': \"Anarchism is a form of radicalism.\\nI'm not sure what you mean.\",\n",
       " 'scos_j': 1.5447883605957031,\n",
       " 'scos_k': -0.09044671058654785}"
      ]
     },
     "execution_count": 80,
     "metadata": {},
     "output_type": "execute_result"
    }
   ],
   "source": [
    "tmp[0]"
   ]
  },
  {
   "cell_type": "code",
   "execution_count": 84,
   "id": "1543e201-fece-41b7-ae88-a551be0c4687",
   "metadata": {},
   "outputs": [
    {
     "name": "stderr",
     "output_type": "stream",
     "text": [
      "                                                                                                                                                                      \r"
     ]
    },
    {
     "data": {
      "text/plain": [
       "Dataset({\n",
       "    features: ['question', 'response_j', 'response_k', 'scos_j', 'scos_k'],\n",
       "    num_rows: 60180\n",
       "})"
      ]
     },
     "execution_count": 84,
     "metadata": {},
     "output_type": "execute_result"
    }
   ],
   "source": [
    "tmp.filter(lambda ex: ex['scos_j']<1.5)"
   ]
  },
  {
   "cell_type": "code",
   "execution_count": 86,
   "id": "1b51e303-31ad-42ff-9edf-2a04b64f42f6",
   "metadata": {},
   "outputs": [
    {
     "name": "stderr",
     "output_type": "stream",
     "text": [
      "                                                                                                                                                                      \r"
     ]
    }
   ],
   "source": [
    "tmp.save_to_disk(\"../../data/contrastivedistill/truncdata60k\")"
   ]
  },
  {
   "cell_type": "code",
   "execution_count": 87,
   "id": "650cec16-28ca-4e99-b5c1-be5cd6fd6c17",
   "metadata": {},
   "outputs": [],
   "source": [
    "def getfrac(dset, exs=1000, log=True): \n",
    "    inds = list(range(len(dset)))\n",
    "    sampinds = random.sample(inds, exs)\n",
    "    if log:\n",
    "        print(sampinds[:20])\n",
    "    return dset.select(sampinds)"
   ]
  },
  {
   "cell_type": "code",
   "execution_count": 90,
   "id": "74b78a34-6ca0-4275-a64c-5d96c0fc849f",
   "metadata": {},
   "outputs": [
    {
     "name": "stdout",
     "output_type": "stream",
     "text": [
      "[27028, 8895, 23800, 24137, 80423, 92752, 96701, 81698, 77319, 117925, 33492, 34631, 156577, 131038, 42988, 21776, 116962, 78083, 76070, 62070]\n"
     ]
    },
    {
     "name": "stderr",
     "output_type": "stream",
     "text": [
      "                                                                                                                                                                      \r"
     ]
    }
   ],
   "source": [
    "getfrac(tmp, 60000).save_to_disk(\"../../data/contrastivedistill/samp60k\")"
   ]
  },
  {
   "cell_type": "code",
   "execution_count": 91,
   "id": "d997849a-9cf3-4913-a2ac-3e4c73083eaf",
   "metadata": {},
   "outputs": [],
   "source": [
    "heldnew = Dataset.load_from_disk(\"../../data/contrastivedistill/contrastdistillheldoutprefs/\")"
   ]
  },
  {
   "cell_type": "code",
   "execution_count": 94,
   "id": "d17efbf4-b6a7-42c6-9aef-b960c42521d6",
   "metadata": {},
   "outputs": [
    {
     "name": "stderr",
     "output_type": "stream",
     "text": [
      "                                                                                                                                                                      \r"
     ]
    }
   ],
   "source": [
    "heldnew = heldnew.map(remvals, num_proc=5)"
   ]
  },
  {
   "cell_type": "code",
   "execution_count": 97,
   "id": "a7d4275b-794c-44bb-ad6a-f9ebcc753b39",
   "metadata": {},
   "outputs": [
    {
     "name": "stderr",
     "output_type": "stream",
     "text": [
      "                                                                                                                                                                      \r"
     ]
    }
   ],
   "source": [
    "heldnew.save_to_disk(\"../../data/contrastivedistill/heldoutprefs/\")"
   ]
  },
  {
   "cell_type": "code",
   "execution_count": null,
   "id": "9160ad28-3857-4f2b-bfe2-6f66bb621cb9",
   "metadata": {},
   "outputs": [],
   "source": []
  }
 ],
 "metadata": {
  "kernelspec": {
   "display_name": "Python 3 (ipykernel)",
   "language": "python",
   "name": "python3"
  },
  "language_info": {
   "codemirror_mode": {
    "name": "ipython",
    "version": 3
   },
   "file_extension": ".py",
   "mimetype": "text/x-python",
   "name": "python",
   "nbconvert_exporter": "python",
   "pygments_lexer": "ipython3",
   "version": "3.10.0"
  }
 },
 "nbformat": 4,
 "nbformat_minor": 5
}
