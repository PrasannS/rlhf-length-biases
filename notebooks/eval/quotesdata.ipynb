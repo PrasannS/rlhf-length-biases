{
 "cells": [
  {
   "cell_type": "code",
   "execution_count": 110,
   "id": "392f2224-d5a9-467b-82a6-27d17c4079ae",
   "metadata": {},
   "outputs": [],
   "source": [
    "from datasets import load_dataset, Dataset\n",
    "import pandas as pd\n",
    "from transformers import AutoModelForCausalLM, AutoTokenizer\n",
    "from tqdm import tqdm"
   ]
  },
  {
   "cell_type": "code",
   "execution_count": 182,
   "id": "9ec443df-2c8d-4ece-9478-4722eb1e81b0",
   "metadata": {
    "scrolled": true
   },
   "outputs": [],
   "source": [
    "dataset = load_dataset('wikipedia', \"20220301.en\", split='train', streaming=True)\n",
    "shuffled_dataset = dataset.shuffle(seed=42, buffer_size=10_000)"
   ]
  },
  {
   "cell_type": "code",
   "execution_count": 183,
   "id": "0896c8be-aa2e-428a-95f5-28aee32a8b28",
   "metadata": {},
   "outputs": [],
   "source": [
    "nd = list(dataset.take(30000))\n",
    "ndata = Dataset.from_list(nd)"
   ]
  },
  {
   "cell_type": "code",
   "execution_count": null,
   "id": "f22b4e3b-a1b6-42e7-a913-5192464ea14b",
   "metadata": {},
   "outputs": [],
   "source": [
    "print(dset[6]['text'])"
   ]
  },
  {
   "cell_type": "code",
   "execution_count": 181,
   "id": "472fa140-eddb-41d6-9dfb-6528ce53f995",
   "metadata": {},
   "outputs": [
    {
     "name": "stderr",
     "output_type": "stream",
     "text": [
      "Found cached dataset csv (/u/prasanns/.cache/huggingface/datasets/jstet___csv/jstet--quotes-500k-ede96e03d28fbb72/0.0.0/eea64c71ca8b46dd3f537ed218fc9bf495d5707789152eb2764f5c78fa66d59d)\n",
      "100%|██████████████████████████████████████████████████████████████████████████████████████████████████████████████████████████████| 1/1 [00:00<00:00, 220.75it/s]\n"
     ]
    }
   ],
   "source": [
    "quotesdata = load_dataset(\"jstet/quotes-500k\")"
   ]
  },
  {
   "cell_type": "code",
   "execution_count": 184,
   "id": "a62dc52d-42f2-4bd4-9477-ee0bc291c8c4",
   "metadata": {},
   "outputs": [
    {
     "name": "stderr",
     "output_type": "stream",
     "text": [
      "Loading cached shuffled indices for dataset at /u/prasanns/.cache/huggingface/datasets/jstet___csv/jstet--quotes-500k-ede96e03d28fbb72/0.0.0/eea64c71ca8b46dd3f537ed218fc9bf495d5707789152eb2764f5c78fa66d59d/cache-602235f45088ee8c.arrow\n"
     ]
    }
   ],
   "source": [
    "TOTDATA = 60000\n",
    "quotesdata = quotesdata['train'].shuffle(seed=0)\n",
    "quotesdata = quotesdata.select(range(TOTDATA))"
   ]
  },
  {
   "cell_type": "code",
   "execution_count": 11,
   "id": "540d5979-6855-4db0-9474-112b880c26a4",
   "metadata": {},
   "outputs": [
    {
     "data": {
      "text/plain": [
       "{'quote': \"The rose, however, made us girls somewhat fainthearted, because it really was something we felt mattered, the white bridal dream with the wedding bouquet and the kiss from the man who was to be ours forever. But then Laura said that the lady who had given it to us had gotten divorced only five years later. And since many of our parents were also divorce, if indeed they had ever been married at all, that dream clearly wasn't worth our time.\",\n",
       " 'author': 'Janne Teller',\n",
       " 'category': 'marriage, nothing'}"
      ]
     },
     "execution_count": 11,
     "metadata": {},
     "output_type": "execute_result"
    }
   ],
   "source": [
    "quotesdata[1]"
   ]
  },
  {
   "cell_type": "code",
   "execution_count": 99,
   "id": "548c0fe1-3b87-4952-9bfb-887619b68c70",
   "metadata": {},
   "outputs": [],
   "source": [
    "modelname = \"meta-llama/Llama-2-7b-hf\""
   ]
  },
  {
   "cell_type": "code",
   "execution_count": 100,
   "id": "cb276ba2-8676-4745-b703-d6ed729cc28a",
   "metadata": {},
   "outputs": [
    {
     "name": "stderr",
     "output_type": "stream",
     "text": [
      "Loading checkpoint shards: 100%|████████████████████████████████████████████████████████████████████████████████████████████████████| 2/2 [00:10<00:00,  5.09s/it]\n",
      "generation_config.json: 100%|█████████████████████████████████████████████████████████████████████████████████████████████████████| 188/188 [00:00<00:00, 927kB/s]\n"
     ]
    }
   ],
   "source": [
    "model = AutoModelForCausalLM.from_pretrained(modelname, device_map=0)\n",
    "model.eval()\n",
    "toker = AutoTokenizer.from_pretrained(modelname, padding_side='left')\n",
    "\n",
    "toker.max_length=512\n",
    "toker.padding_size='left'\n",
    "toker.pad_token = toker.eos_token"
   ]
  },
  {
   "cell_type": "code",
   "execution_count": 203,
   "id": "05d1aaa6-e246-4af9-9f87-c15cffa3bcbc",
   "metadata": {},
   "outputs": [],
   "source": [
    "def proc_quotes(exs):\n",
    "    inps = []\n",
    "    for e in exs:\n",
    "        s = e['author']+ \": \" + e['quote']\n",
    "        if len(s)<200:\n",
    "            inps.append(s)\n",
    "    return inps\n",
    "\n",
    "def proc_wiki(exs):\n",
    "    inps = []\n",
    "    for e in exs:\n",
    "        svals = e['text'].split(\".\")\n",
    "        pots = []\n",
    "        for s in svals: \n",
    "            if len(s)>20 and len(s)<200:\n",
    "                pots.append(s.strip())\n",
    "        inps.extend(pots[:3])\n",
    "    print(len(inps))\n",
    "    return inps\n",
    "        \n",
    "def generate_trunc(inputs, trunc, model, mbatch_size=4, top_p=0.9, temp=0.4):\n",
    "    newinps = []\n",
    "    corrgens = []\n",
    "    for inp in inputs: \n",
    "        newinps.append(toker.decode(toker(inp).input_ids[:-(trunc+1)], skip_special_tokens=True))\n",
    "        corrgens.append(toker.decode(toker(inp).input_ids[-(trunc+1):], skip_special_tokens=True))\n",
    "    newgens = []\n",
    "    for i in tqdm(range(0, len(newinps), mbatch_size)):\n",
    "        inps = toker(newinps[i:i+mbatch_size], padding=True, truncation=True, return_tensors=\"pt\").to(model.device)\n",
    "        newgens.extend(model.generate(**inps, max_new_tokens=trunc+1, do_sample=True, top_p=top_p, temperature=temp))\n",
    "    return toker.batch_decode(newgens, skip_special_tokens=True), corrgens"
   ]
  },
  {
   "cell_type": "code",
   "execution_count": 199,
   "id": "cb136151-773b-4fcc-9e33-bd83a7045daf",
   "metadata": {},
   "outputs": [
    {
     "name": "stdout",
     "output_type": "stream",
     "text": [
      "289\n"
     ]
    },
    {
     "name": "stderr",
     "output_type": "stream",
     "text": [
      "100%|█████████████████████████████████████████████████████████████████████████████████████████████████████████████████████████████| 73/73 [00:24<00:00,  3.04it/s]\n"
     ]
    }
   ],
   "source": [
    "procd = proc_wiki(ndata.select(range(100)))\n",
    "# procd = proc_quotes(quotesdata.select(range(100)))\n",
    "gtrunc, golds = generate_trunc(procd, 3, model, 4, 0.9, 1.0)"
   ]
  },
  {
   "cell_type": "code",
   "execution_count": 187,
   "id": "e0d6c7cc-ffcb-4221-965e-bd57c5d719d0",
   "metadata": {},
   "outputs": [
    {
     "data": {
      "text/plain": [
       "Dataset({\n",
       "    features: ['quote', 'author', 'category'],\n",
       "    num_rows: 60000\n",
       "})"
      ]
     },
     "execution_count": 187,
     "metadata": {},
     "output_type": "execute_result"
    }
   ],
   "source": [
    "quotesdata"
   ]
  },
  {
   "cell_type": "code",
   "execution_count": 198,
   "id": "60a094cd-3741-45ec-afcd-bf7139d50fe0",
   "metadata": {},
   "outputs": [
    {
     "name": "stdout",
     "output_type": "stream",
     "text": [
      "ORIGINAL:  a poet arranges meaning in the sounds.: A versifier arranges sounds\n",
      "GOLD: ifier arranges sounds\n",
      "GEN:  a poet arranges meaning in the sounds.: A versification of the poetry\n"
     ]
    }
   ],
   "source": [
    "ind = 9\n",
    "print(\"ORIGINAL: \"+procd[ind])\n",
    "print('GOLD: '+golds[ind])\n",
    "print(\"GEN: \"+gtrunc[ind])"
   ]
  },
  {
   "cell_type": "code",
   "execution_count": null,
   "id": "3f005b5c-7bd0-481b-96e8-e24a3a257cc8",
   "metadata": {},
   "outputs": [],
   "source": []
  }
 ],
 "metadata": {
  "kernelspec": {
   "display_name": "Python 3 (ipykernel)",
   "language": "python",
   "name": "python3"
  },
  "language_info": {
   "codemirror_mode": {
    "name": "ipython",
    "version": 3
   },
   "file_extension": ".py",
   "mimetype": "text/x-python",
   "name": "python",
   "nbconvert_exporter": "python",
   "pygments_lexer": "ipython3",
   "version": "3.10.0"
  }
 },
 "nbformat": 4,
 "nbformat_minor": 5
}
