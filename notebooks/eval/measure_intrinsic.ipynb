{
 "cells": [
  {
   "cell_type": "code",
   "execution_count": 1,
   "id": "8cef3f55-378b-4bf1-b448-5ba4147c1f0c",
   "metadata": {},
   "outputs": [],
   "source": [
    "# notebook dedicated to computing various intrinsic metrics to see whether \n",
    "# they corresond to downstream performance and could be useful for RLHF"
   ]
  },
  {
   "cell_type": "code",
   "execution_count": 1,
   "id": "31666650-2efb-45ff-903b-fad8eecde89e",
   "metadata": {},
   "outputs": [
    {
     "name": "stderr",
     "output_type": "stream",
     "text": [
      "/home/prasann/miniconda3/envs/rlenv/lib/python3.9/site-packages/tqdm/auto.py:21: TqdmWarning: IProgress not found. Please update jupyter and ipywidgets. See https://ipywidgets.readthedocs.io/en/stable/user_install.html\n",
      "  from .autonotebook import tqdm as notebook_tqdm\n"
     ]
    },
    {
     "name": "stdout",
     "output_type": "stream",
     "text": [
      "[2023-11-14 15:45:25,370] [INFO] [real_accelerator.py:110:get_accelerator] Setting ds_accelerator to cuda (auto detect)\n"
     ]
    }
   ],
   "source": [
    "from transformers import AutoTokenizer\n",
    "import pandas as pd\n",
    "from rlhfutils.eval_utils import getapfsft, tok_dist\n",
    "import matplotlib.pyplot as plt\n",
    "from rlhfutils.debug_utils import load_rm, progress_rm, load_all_rmdfs, load_all_hackdfs, highlight_differences\n",
    "from statistics import mean, stdev, median\n",
    "from scipy.stats import pearsonr, kendalltau, spearmanr\n",
    "import math\n",
    "from rouge_score import rouge_scorer\n",
    "import seaborn as sns\n",
    "import numpy as np\n",
    "from matplotlib.colors import LogNorm\n"
   ]
  },
  {
   "cell_type": "code",
   "execution_count": 2,
   "id": "79fc4b94-d74c-4f69-8a50-575cfce280c0",
   "metadata": {},
   "outputs": [],
   "source": [
    "%load_ext autoreload\n",
    "%autoreload 2"
   ]
  },
  {
   "cell_type": "code",
   "execution_count": 3,
   "id": "10b4373f-ebe6-4259-8a61-b7811f5a0c32",
   "metadata": {},
   "outputs": [],
   "source": [
    "# replace all wgptouts with corresponding stack QA format (RM input format)\n",
    "def setall(l):\n",
    "    newl = []\n",
    "    try:\n",
    "        for ind in l:\n",
    "            newl.append(getapfsft(ind, True))\n",
    "            #print(0)\n",
    "    except:\n",
    "        return None\n",
    "    return newl\n",
    "\n",
    "def splitall(l):\n",
    "    try: \n",
    "        return [s.split(\"Answer:\")[1] for s in l]\n",
    "    except:\n",
    "        return None\n",
    "\n",
    "def getfulldist(lcol):\n",
    "    hist = []\n",
    "    for l in lcol:\n",
    "        hist.extend(l)\n",
    "    return hist\n",
    "\n",
    "def compdist(lcol, slen):\n",
    "    res = []\n",
    "    tmp = []\n",
    "    for i in range(len(lcol)):\n",
    "        tmp.append(lcol[i])\n",
    "        if len(tmp)%slen==0:\n",
    "            res.append(tmp)\n",
    "            tmp = []\n",
    "    return res\n",
    "    \n",
    "def procall(indf, toker, needset=True):\n",
    "    if needset:\n",
    "        indf['response'] = [setall(s) for s in indf['response']]\n",
    "    indf = indf.dropna()\n",
    "    indf['answers'] = [splitall(s) for s in indf['response']]\n",
    "    indf = indf.dropna()\n",
    "    indf['atoks'] = [tok_dist(s, wgtok) for s in list(indf['answers'])]\n",
    "    indf['ttoks'] = [tok_dist(s, wgtok) for s in list(indf['response'])]\n",
    "    return indf\n",
    "\n",
    "# take rouge between all pairs. High rouge should bigger gaps\n",
    "def rpaircorr(row, scat=False):\n",
    "    rouges = []\n",
    "    diffs = []\n",
    "    for i in range(len(row)):\n",
    "        for j in range(i, len(row)):\n",
    "            if i==j:\n",
    "                continue\n",
    "            trmp = scorer.score(row['answers'][i], row['answers'][j])\n",
    "            rouges.append(trmp['rouge1'].fmeasure)\n",
    "            diffs.append(math.pow(row['reward'][i]-row['reward'][j], 2))\n",
    "    if scat:\n",
    "        return rouges, diffs\n",
    "    return pearsonr(rouges, diffs).statistic\n",
    "\n",
    "def getcorr(row, pearson=False):\n",
    "    if pearson:\n",
    "        return pearsonr(row['atoks'], row['reward']).statistic\n",
    "    else:\n",
    "        return kendalltau(row['atoks'], row['reward']).statistic"
   ]
  },
  {
   "cell_type": "code",
   "execution_count": 5,
   "id": "f2325479-43db-4ce6-8656-d4e7019400b7",
   "metadata": {},
   "outputs": [
    {
     "name": "stderr",
     "output_type": "stream",
     "text": [
      "INFO:absl:Using default tokenizer.\n"
     ]
    }
   ],
   "source": [
    "scorer = rouge_scorer.RougeScorer(['rouge1'], use_stemmer=True)\n",
    "stacktok = AutoTokenizer.from_pretrained(\"meta-llama/Llama-2-7b-chat-hf\")\n",
    "#wgtok = AutoTokenizer.from_pretrained(\"PATH_TO_SFT\")"
   ]
  },
  {
   "cell_type": "code",
   "execution_count": 6,
   "id": "beb4765b-0bd6-4b94-91a7-8ffb68f04fdf",
   "metadata": {},
   "outputs": [],
   "source": [
    "ndfs = load_all_rmdfs(\"../../scogen/\")"
   ]
  },
  {
   "cell_type": "code",
   "execution_count": 7,
   "id": "067e14cf-28c4-4e5b-9f05-5b627f9172cb",
   "metadata": {},
   "outputs": [
    {
     "data": {
      "text/plain": [
       "dict_keys(['wgpt_harmrm'])"
      ]
     },
     "execution_count": 7,
     "metadata": {},
     "output_type": "execute_result"
    }
   ],
   "source": [
    "ndfs.keys()"
   ]
  },
  {
   "cell_type": "code",
   "execution_count": 16,
   "id": "3e25c0c8-3222-40b2-a4d0-59bdfbd66c52",
   "metadata": {},
   "outputs": [],
   "source": [
    "allrws = []\n",
    "allats = []\n",
    "for i, row  in ndfs['wgpt_rlcdbigrm'].iterrows():\n",
    "    allrws.extend(row.reward)\n",
    "    allats.extend(row.atoks)\n",
    "    "
   ]
  },
  {
   "cell_type": "code",
   "execution_count": 8,
   "id": "a1ac6e8e-56fa-4941-9156-39b81167a193",
   "metadata": {},
   "outputs": [],
   "source": [
    "def scatter_heatmap(x, y, bins=40, cmap=\"Blues\"):\n",
    "    # Define bin edges for x and y axes\n",
    "    xedges = np.linspace(min(x), max(x), bins)\n",
    "    yedges = np.linspace(min(y), max(y), bins)\n",
    "\n",
    "    # Create a 2D histogram\n",
    "    hist, xedges, yedges = np.histogram2d(x, y, bins=(xedges, yedges))\n",
    "\n",
    "    # Plot heatmap using pcolormesh\n",
    "    plt.pcolormesh(xedges, yedges, hist.T, shading='auto', cmap=cmap, norm=LogNorm())\n",
    "    plt.colorbar(label=\"Frequency\")\n",
    "    plt.xlabel(\"Output Length\")\n",
    "    plt.ylabel(\"Reward\")\n",
    "    plt.title(\"Length vs Reward\")\n",
    "    plt.savefig(\"corrheat.pdf\", format=\"pdf\", bbox_inches=\"tight\")\n",
    "    plt.show()\n",
    "    "
   ]
  },
  {
   "cell_type": "code",
   "execution_count": 15,
   "id": "8fc48494-2e4c-46ee-b9c0-f6099405b7ce",
   "metadata": {},
   "outputs": [
    {
     "data": {
      "image/png": "[encoded data removed]",
      "text/plain": [
       "<Figure size 640x480 with 2 Axes>"
      ]
     },
     "metadata": {},
     "output_type": "display_data"
    }
   ],
   "source": [
    "scatter_heatmap(allats, allrws)"
   ]
  },
  {
   "cell_type": "code",
   "execution_count": 10,
   "id": "df08778d-d1db-4bb5-adee-31909403492d",
   "metadata": {},
   "outputs": [
    {
     "ename": "TypeError",
     "evalue": "heatmap() takes 1 positional argument but 2 positional arguments (and 3 keyword-only arguments) were given",
     "output_type": "error",
     "traceback": [
      "\u001b[0;31m---------------------------------------------------------------------------\u001b[0m",
      "\u001b[0;31mTypeError\u001b[0m                                 Traceback (most recent call last)",
      "Cell \u001b[0;32mIn[10], line 1\u001b[0m\n\u001b[0;32m----> 1\u001b[0m \u001b[43msns\u001b[49m\u001b[38;5;241;43m.\u001b[39;49m\u001b[43mheatmap\u001b[49m\u001b[43m(\u001b[49m\u001b[43mallrws\u001b[49m\u001b[43m,\u001b[49m\u001b[43m \u001b[49m\u001b[43mallrws\u001b[49m\u001b[43m,\u001b[49m\u001b[43m \u001b[49m\u001b[43mcmap\u001b[49m\u001b[38;5;241;43m=\u001b[39;49m\u001b[38;5;124;43m\"\u001b[39;49m\u001b[38;5;124;43mYlGnBu\u001b[39;49m\u001b[38;5;124;43m\"\u001b[39;49m\u001b[43m,\u001b[49m\u001b[43m \u001b[49m\u001b[43mvmin\u001b[49m\u001b[38;5;241;43m=\u001b[39;49m\u001b[38;5;241;43m0\u001b[39;49m\u001b[43m,\u001b[49m\u001b[43m \u001b[49m\u001b[43mcbar\u001b[49m\u001b[38;5;241;43m=\u001b[39;49m\u001b[38;5;28;43;01mTrue\u001b[39;49;00m\u001b[43m)\u001b[49m\n",
      "\u001b[0;31mTypeError\u001b[0m: heatmap() takes 1 positional argument but 2 positional arguments (and 3 keyword-only arguments) were given"
     ]
    }
   ],
   "source": [
    "sns.heatmap(allrws, allrws, cmap=\"YlGnBu\", vmin=0, cbar=True)"
   ]
  },
  {
   "cell_type": "code",
   "execution_count": 8,
   "id": "9119c3b7-780a-4cc6-9ef1-6757c19bbdf4",
   "metadata": {},
   "outputs": [
    {
     "data": {
      "text/html": [
       "<div>\n",
       "<style scoped>\n",
       "    .dataframe tbody tr th:only-of-type {\n",
       "        vertical-align: middle;\n",
       "    }\n",
       "\n",
       "    .dataframe tbody tr th {\n",
       "        vertical-align: top;\n",
       "    }\n",
       "\n",
       "    .dataframe thead th {\n",
       "        text-align: right;\n",
       "    }\n",
       "</style>\n",
       "<table border=\"1\" class=\"dataframe\">\n",
       "  <thead>\n",
       "    <tr style=\"text-align: right;\">\n",
       "      <th></th>\n",
       "      <th>question</th>\n",
       "      <th>response</th>\n",
       "      <th>answers</th>\n",
       "      <th>atoks</th>\n",
       "      <th>ttoks</th>\n",
       "      <th>rewardmodel</th>\n",
       "      <th>reward</th>\n",
       "    </tr>\n",
       "  </thead>\n",
       "  <tbody>\n",
       "    <tr>\n",
       "      <th>0</th>\n",
       "      <td>Below is an instruction that describes a task....</td>\n",
       "      <td>[Question: How do our bodies produce heat?\\n\\n...</td>\n",
       "      <td>[ Our body produces heat through metabolism – ...</td>\n",
       "      <td>[121, 92, 67, 64, 105, 84, 91, 61]</td>\n",
       "      <td>[176, 147, 122, 119, 160, 139, 146, 116]</td>\n",
       "      <td>[-0.2366943359, -0.2218017578, -0.7685546875, ...</td>\n",
       "      <td>[-0.2366943359, -0.2218017578, -0.7685546875, ...</td>\n",
       "    </tr>\n",
       "    <tr>\n",
       "      <th>1</th>\n",
       "      <td>Below is an instruction that describes a task....</td>\n",
       "      <td>[Question: if brain has no pain receptors, why...</td>\n",
       "      <td>[ Headache pain is caused by changes in the ne...</td>\n",
       "      <td>[47, 206, 146, 48, 70, 82, 155, 131]</td>\n",
       "      <td>[73, 232, 172, 74, 96, 108, 181, 157]</td>\n",
       "      <td>[-1.1416015625, 0.0635986328, -0.7983398438, -...</td>\n",
       "      <td>[-1.1416015625, 0.0635986328, -0.7983398438, -...</td>\n",
       "    </tr>\n",
       "    <tr>\n",
       "      <th>2</th>\n",
       "      <td>Below is an instruction that describes a task....</td>\n",
       "      <td>[Question: How is it that humans advanced more...</td>\n",
       "      <td>[ It could be argued that human advancement de...</td>\n",
       "      <td>[121, 110, 150, 134, 106, 65, 129, 135]</td>\n",
       "      <td>[170, 159, 199, 183, 155, 114, 178, 184]</td>\n",
       "      <td>[-0.9721679688, -0.1768798828, 0.1899414062, -...</td>\n",
       "      <td>[-0.9721679688, -0.1768798828, 0.1899414062, -...</td>\n",
       "    </tr>\n",
       "    <tr>\n",
       "      <th>3</th>\n",
       "      <td>Below is an instruction that describes a task....</td>\n",
       "      <td>[Question: Why do we call herbal water \"Tea\"?\\...</td>\n",
       "      <td>[ The term “tea” originally referred to any ty...</td>\n",
       "      <td>[62, 81, 68, 113, 115, 78, 65, 100]</td>\n",
       "      <td>[78, 97, 84, 129, 131, 94, 81, 116]</td>\n",
       "      <td>[-0.865234375, -0.609375, -0.7485351562, -1.06...</td>\n",
       "      <td>[-0.865234375, -0.609375, -0.7485351562, -1.06...</td>\n",
       "    </tr>\n",
       "    <tr>\n",
       "      <th>4</th>\n",
       "      <td>Below is an instruction that describes a task....</td>\n",
       "      <td>[Question: Why do colleges in the United State...</td>\n",
       "      <td>[ The main reason why US college costs so much...</td>\n",
       "      <td>[155, 159, 106, 128, 91, 97, 131, 133]</td>\n",
       "      <td>[293, 297, 244, 266, 229, 235, 269, 271]</td>\n",
       "      <td>[0.5952148438, 0.6469726562, 0.0066566467, 0.0...</td>\n",
       "      <td>[0.5952148438, 0.6469726562, 0.0066566467, 0.0...</td>\n",
       "    </tr>\n",
       "    <tr>\n",
       "      <th>...</th>\n",
       "      <td>...</td>\n",
       "      <td>...</td>\n",
       "      <td>...</td>\n",
       "      <td>...</td>\n",
       "      <td>...</td>\n",
       "      <td>...</td>\n",
       "      <td>...</td>\n",
       "    </tr>\n",
       "    <tr>\n",
       "      <th>794</th>\n",
       "      <td>Below is an instruction that describes a task....</td>\n",
       "      <td>[Question: What happens to tenants/renters if ...</td>\n",
       "      <td>[ If the apartment complex was sold at auction...</td>\n",
       "      <td>[119, 160, 166, 128, 120, 99, 121, 108]</td>\n",
       "      <td>[189, 230, 236, 198, 190, 169, 191, 178]</td>\n",
       "      <td>[0.1506347656, 0.611328125, 0.2164306641, -0.0...</td>\n",
       "      <td>[0.1506347656, 0.611328125, 0.2164306641, -0.0...</td>\n",
       "    </tr>\n",
       "    <tr>\n",
       "      <th>795</th>\n",
       "      <td>Below is an instruction that describes a task....</td>\n",
       "      <td>[Question: Why is it that whenever I'm nervous...</td>\n",
       "      <td>[ Nervousness can cause you to be more aware o...</td>\n",
       "      <td>[45, 113, 47, 122, 55, 58, 81, 108]</td>\n",
       "      <td>[74, 142, 76, 151, 84, 87, 110, 137]</td>\n",
       "      <td>[-1.1748046875, -0.4038085938, -1.0234375, 0.1...</td>\n",
       "      <td>[-1.1748046875, -0.4038085938, -1.0234375, 0.1...</td>\n",
       "    </tr>\n",
       "    <tr>\n",
       "      <th>796</th>\n",
       "      <td>Below is an instruction that describes a task....</td>\n",
       "      <td>[Question: Why did \"soap operas\" always seem t...</td>\n",
       "      <td>[ The reason why soap operas had higher-defini...</td>\n",
       "      <td>[72, 95, 87, 45, 67, 73, 56, 89]</td>\n",
       "      <td>[97, 120, 112, 70, 92, 98, 81, 114]</td>\n",
       "      <td>[-0.7197265625, -0.3022460938, -0.3037109375, ...</td>\n",
       "      <td>[-0.7197265625, -0.3022460938, -0.3037109375, ...</td>\n",
       "    </tr>\n",
       "    <tr>\n",
       "      <th>797</th>\n",
       "      <td>Below is an instruction that describes a task....</td>\n",
       "      <td>[Question: Why does the reflection of my car i...</td>\n",
       "      <td>[ The reflected image depends on several facto...</td>\n",
       "      <td>[57, 60, 86, 47, 100, 177, 108, 67]</td>\n",
       "      <td>[88, 91, 117, 78, 131, 208, 139, 98]</td>\n",
       "      <td>[-1.4501953125, -1.4169921875, -1.03515625, -1...</td>\n",
       "      <td>[-1.4501953125, -1.4169921875, -1.03515625, -1...</td>\n",
       "    </tr>\n",
       "    <tr>\n",
       "      <th>798</th>\n",
       "      <td>Below is an instruction that describes a task....</td>\n",
       "      <td>[Question: How do you recalculate odds after e...</td>\n",
       "      <td>[ Recalculating the odds after each attempt de...</td>\n",
       "      <td>[80, 92, 57, 66, 179, 137, 114, 142]</td>\n",
       "      <td>[169, 181, 146, 155, 268, 226, 203, 231]</td>\n",
       "      <td>[-0.7192382812, -0.4128417969, -0.9790039062, ...</td>\n",
       "      <td>[-0.7192382812, -0.4128417969, -0.9790039062, ...</td>\n",
       "    </tr>\n",
       "  </tbody>\n",
       "</table>\n",
       "<p>799 rows × 7 columns</p>\n",
       "</div>"
      ],
      "text/plain": [
       "                                              question  \\\n",
       "0    Below is an instruction that describes a task....   \n",
       "1    Below is an instruction that describes a task....   \n",
       "2    Below is an instruction that describes a task....   \n",
       "3    Below is an instruction that describes a task....   \n",
       "4    Below is an instruction that describes a task....   \n",
       "..                                                 ...   \n",
       "794  Below is an instruction that describes a task....   \n",
       "795  Below is an instruction that describes a task....   \n",
       "796  Below is an instruction that describes a task....   \n",
       "797  Below is an instruction that describes a task....   \n",
       "798  Below is an instruction that describes a task....   \n",
       "\n",
       "                                              response  \\\n",
       "0    [Question: How do our bodies produce heat?\\n\\n...   \n",
       "1    [Question: if brain has no pain receptors, why...   \n",
       "2    [Question: How is it that humans advanced more...   \n",
       "3    [Question: Why do we call herbal water \"Tea\"?\\...   \n",
       "4    [Question: Why do colleges in the United State...   \n",
       "..                                                 ...   \n",
       "794  [Question: What happens to tenants/renters if ...   \n",
       "795  [Question: Why is it that whenever I'm nervous...   \n",
       "796  [Question: Why did \"soap operas\" always seem t...   \n",
       "797  [Question: Why does the reflection of my car i...   \n",
       "798  [Question: How do you recalculate odds after e...   \n",
       "\n",
       "                                               answers  \\\n",
       "0    [ Our body produces heat through metabolism – ...   \n",
       "1    [ Headache pain is caused by changes in the ne...   \n",
       "2    [ It could be argued that human advancement de...   \n",
       "3    [ The term “tea” originally referred to any ty...   \n",
       "4    [ The main reason why US college costs so much...   \n",
       "..                                                 ...   \n",
       "794  [ If the apartment complex was sold at auction...   \n",
       "795  [ Nervousness can cause you to be more aware o...   \n",
       "796  [ The reason why soap operas had higher-defini...   \n",
       "797  [ The reflected image depends on several facto...   \n",
       "798  [ Recalculating the odds after each attempt de...   \n",
       "\n",
       "                                       atoks  \\\n",
       "0         [121, 92, 67, 64, 105, 84, 91, 61]   \n",
       "1       [47, 206, 146, 48, 70, 82, 155, 131]   \n",
       "2    [121, 110, 150, 134, 106, 65, 129, 135]   \n",
       "3        [62, 81, 68, 113, 115, 78, 65, 100]   \n",
       "4     [155, 159, 106, 128, 91, 97, 131, 133]   \n",
       "..                                       ...   \n",
       "794  [119, 160, 166, 128, 120, 99, 121, 108]   \n",
       "795      [45, 113, 47, 122, 55, 58, 81, 108]   \n",
       "796         [72, 95, 87, 45, 67, 73, 56, 89]   \n",
       "797      [57, 60, 86, 47, 100, 177, 108, 67]   \n",
       "798     [80, 92, 57, 66, 179, 137, 114, 142]   \n",
       "\n",
       "                                        ttoks  \\\n",
       "0    [176, 147, 122, 119, 160, 139, 146, 116]   \n",
       "1       [73, 232, 172, 74, 96, 108, 181, 157]   \n",
       "2    [170, 159, 199, 183, 155, 114, 178, 184]   \n",
       "3         [78, 97, 84, 129, 131, 94, 81, 116]   \n",
       "4    [293, 297, 244, 266, 229, 235, 269, 271]   \n",
       "..                                        ...   \n",
       "794  [189, 230, 236, 198, 190, 169, 191, 178]   \n",
       "795      [74, 142, 76, 151, 84, 87, 110, 137]   \n",
       "796       [97, 120, 112, 70, 92, 98, 81, 114]   \n",
       "797      [88, 91, 117, 78, 131, 208, 139, 98]   \n",
       "798  [169, 181, 146, 155, 268, 226, 203, 231]   \n",
       "\n",
       "                                           rewardmodel  \\\n",
       "0    [-0.2366943359, -0.2218017578, -0.7685546875, ...   \n",
       "1    [-1.1416015625, 0.0635986328, -0.7983398438, -...   \n",
       "2    [-0.9721679688, -0.1768798828, 0.1899414062, -...   \n",
       "3    [-0.865234375, -0.609375, -0.7485351562, -1.06...   \n",
       "4    [0.5952148438, 0.6469726562, 0.0066566467, 0.0...   \n",
       "..                                                 ...   \n",
       "794  [0.1506347656, 0.611328125, 0.2164306641, -0.0...   \n",
       "795  [-1.1748046875, -0.4038085938, -1.0234375, 0.1...   \n",
       "796  [-0.7197265625, -0.3022460938, -0.3037109375, ...   \n",
       "797  [-1.4501953125, -1.4169921875, -1.03515625, -1...   \n",
       "798  [-0.7192382812, -0.4128417969, -0.9790039062, ...   \n",
       "\n",
       "                                                reward  \n",
       "0    [-0.2366943359, -0.2218017578, -0.7685546875, ...  \n",
       "1    [-1.1416015625, 0.0635986328, -0.7983398438, -...  \n",
       "2    [-0.9721679688, -0.1768798828, 0.1899414062, -...  \n",
       "3    [-0.865234375, -0.609375, -0.7485351562, -1.06...  \n",
       "4    [0.5952148438, 0.6469726562, 0.0066566467, 0.0...  \n",
       "..                                                 ...  \n",
       "794  [0.1506347656, 0.611328125, 0.2164306641, -0.0...  \n",
       "795  [-1.1748046875, -0.4038085938, -1.0234375, 0.1...  \n",
       "796  [-0.7197265625, -0.3022460938, -0.3037109375, ...  \n",
       "797  [-1.4501953125, -1.4169921875, -1.03515625, -1...  \n",
       "798  [-0.7192382812, -0.4128417969, -0.9790039062, ...  \n",
       "\n",
       "[799 rows x 7 columns]"
      ]
     },
     "execution_count": 8,
     "metadata": {},
     "output_type": "execute_result"
    }
   ],
   "source": [
    "ndfs['wgpt_rewardmodel']"
   ]
  },
  {
   "cell_type": "code",
   "execution_count": 21,
   "id": "653532b8-bc5e-470e-aee2-a89209d738b9",
   "metadata": {},
   "outputs": [],
   "source": [
    "# shuffdfs = load_all_rmdfs(\"../trl-general/rmshuffs/\")\n",
    "# rmdfs = load_all_rmdfs(\"../trl-general/rmouts/\")\n",
    "# moredfs = load_all_rmdfs(\"../trl-general/morermouts/\")\n",
    "# attdfs = load_all_hackdfs(\"../trl-general/fullattacks/\")"
   ]
  },
  {
   "cell_type": "code",
   "execution_count": 8,
   "id": "5fc8c3e8-9ac2-498c-9a2a-b295dfad96ce",
   "metadata": {},
   "outputs": [
    {
     "data": {
      "text/html": [
       "Question: if brain has no pain receptors, why do headaches hurt?\n",
       "\n",
       "[deleted]\n",
       "\n",
       "Answer: Headaches can be caused by many factors including stress and tension, eye strain from staring at computer screens or reading for long periods of time, poor posture, dehydration, caffeine withdrawal, skipping meals, certain foods (like chocolate), medical conditions like migraines, and environmental triggers such as loud noise or bright lights. Headaches also commonly occur due to physical exertion which can lead to fatigue and muscle aches in the neck and scalp. Pain messages may still travel through the nerves even though they are not reaching any specific area with nerve endings since the brain does not have pain recept<span style='background-color: red'>o</span><span style='background-color: red'>r</span><span style='background-color: red'>s</span><span style='background-color: green'>{</span><span style='background-color: green'>{</span><span style='background-color: green'>\\</span>."
      ],
      "text/plain": [
       "<IPython.core.display.HTML object>"
      ]
     },
     "metadata": {},
     "output_type": "display_data"
    }
   ],
   "source": [
    "ind = 10\n",
    "r = attdfs['wgptda'].iloc[ind]\n",
    "highlight_differences(r['origseq'], r['bestseqs'][-1])"
   ]
  },
  {
   "cell_type": "code",
   "execution_count": 9,
   "id": "2baf53ee-a291-44b2-92d5-87e8c5bd7341",
   "metadata": {},
   "outputs": [],
   "source": [
    "kmap = {\n",
    "    'stackrandaug':'stack_rewardrandaug',\n",
    "    'stackda':'stack_rewardda',\n",
    "    'stackmix':'stack_rewardmixed',\n",
    "    'wgptda':'wgpt_rewardrandda',\n",
    "    'wgptorig':'wgpt_rewardmodel',\n",
    "    'stacksanity':'stack_rewardsanity'\n",
    "}"
   ]
  },
  {
   "cell_type": "code",
   "execution_count": 18,
   "id": "97cf74c4-0a15-43e0-87c7-7df382c109ea",
   "metadata": {},
   "outputs": [
    {
     "data": {
      "text/plain": [
       "dict_keys(['stack_shuffrewardda', 'stack_shuffrewardmixed', 'wgpt_shuffrewardmodel', 'wgpt_shuffrewardrandda', 'stack_shuffrewardsanity', 'stack_shuffrewardrandaug'])"
      ]
     },
     "execution_count": 18,
     "metadata": {},
     "output_type": "execute_result"
    }
   ],
   "source": [
    "rmdfs.keys()"
   ]
  },
  {
   "cell_type": "code",
   "execution_count": 8,
   "id": "937751b1-4cc0-46ab-892d-1b35dd6ed77f",
   "metadata": {},
   "outputs": [],
   "source": [
    "keyval = \"wgpt_rewardmodel\""
   ]
  },
  {
   "cell_type": "code",
   "execution_count": 9,
   "id": "2e8760f8-4593-4c99-be41-ded1aa1c616e",
   "metadata": {},
   "outputs": [
    {
     "ename": "NameError",
     "evalue": "name 'attdfs' is not defined",
     "output_type": "error",
     "traceback": [
      "\u001b[0;31m---------------------------------------------------------------------------\u001b[0m",
      "\u001b[0;31mNameError\u001b[0m                                 Traceback (most recent call last)",
      "Cell \u001b[0;32mIn[9], line 1\u001b[0m\n\u001b[0;32m----> 1\u001b[0m \u001b[38;5;28;01mfor\u001b[39;00m k \u001b[38;5;129;01min\u001b[39;00m \u001b[43mattdfs\u001b[49m\u001b[38;5;241m.\u001b[39mkeys():\n\u001b[1;32m      2\u001b[0m     norm \u001b[38;5;241m=\u001b[39m stdev(getfulldist(rmdfs[kmap[k]]\u001b[38;5;241m.\u001b[39mreward))\n\u001b[1;32m      3\u001b[0m     \u001b[38;5;28mprint\u001b[39m(k)\n",
      "\u001b[0;31mNameError\u001b[0m: name 'attdfs' is not defined"
     ]
    }
   ],
   "source": [
    "for k in attdfs.keys():\n",
    "    norm = stdev(getfulldist(rmdfs[kmap[k]].reward))\n",
    "    print(k)\n",
    "    # print(attdfs[k]['diff'].mean())\n",
    "    print(norm)"
   ]
  },
  {
   "cell_type": "code",
   "execution_count": 18,
   "id": "0557290f-a446-457b-a4a4-1b32f0efd141",
   "metadata": {},
   "outputs": [
    {
     "name": "stdout",
     "output_type": "stream",
     "text": [
      "stack_shuffrewardrandaug\n",
      "1.144137052695234\n",
      "stack_shuffrewardsanity\n",
      "0.7120275705076311\n",
      "stack_shuffrewardmixed\n",
      "0.9171077907658536\n",
      "wgpt_shuffrewardmodel\n",
      "0.512840646944082\n",
      "wgpt_shuffrewardrandda\n",
      "0.35258641598335\n",
      "stack_shuffrewardda\n",
      "0.9241051543405661\n"
     ]
    }
   ],
   "source": [
    "for k in shuffdfs.keys():\n",
    "    tmpa = pd.DataFrame({\n",
    "        'or':getfulldist(rmdfs[k.replace(\"shuff\", \"\")].reward),\n",
    "        'shuff':getfulldist(shuffdfs[k].reward),\n",
    "    })\n",
    "    norm = stdev(list(tmpa['or']))\n",
    "    print(k)\n",
    "    # print((tmpa['or']-tmpa['shuff']).abs().mean()/norm)\n",
    "    print(norm)\n",
    "    #print(spearmanr(getfulldist(rmdfs[keyval].reward), getfulldist(rmdfs[keyval].atoks)))\n",
    "    #print(kendalltau(getfulldist(rmdfs[keyval].reward), getfulldist(rmdfs[keyval].atoks)))v"
   ]
  },
  {
   "cell_type": "code",
   "execution_count": 8,
   "id": "cd80572f-7b26-4de8-9562-98dc561555bd",
   "metadata": {},
   "outputs": [],
   "source": [
    "rmdfs = ndfs"
   ]
  },
  {
   "cell_type": "code",
   "execution_count": 9,
   "id": "0337fd58-73d6-4438-8e9e-64a9df85fa37",
   "metadata": {},
   "outputs": [
    {
     "name": "stdout",
     "output_type": "stream",
     "text": [
      "wgpt_harmrm\n",
      "-0.4193549101724434\n",
      "SignificanceResult(statistic=-0.45845874523454416, pvalue=3.069305153520637e-243)\n"
     ]
    }
   ],
   "source": [
    "# get spearman and pearson corrs per batch\n",
    "for k in rmdfs.keys():\n",
    "    print(k)\n",
    "    keyval = k\n",
    "    sps = [getcorr(r, True) for _, r in rmdfs[k].iterrows()]\n",
    "    #kts = [getcorr(r, False) for _, r in rmdfs[k].iterrows()]\n",
    "    print(mean([s for s in sps if not math.isnan(s)]))\n",
    "    #print(mean([s for s in kts if not math.isnan(s)]))\n",
    "    #print(spearmanr(getfulldist(rmdfs[keyval].reward), getfulldist(rmdfs[keyval].atoks)))\n",
    "    #print(kendalltau(getfulldist(rmdfs[keyval].reward), getfulldist(rmdfs[keyval].atoks)))v"
   ]
  },
  {
   "cell_type": "code",
   "execution_count": 15,
   "id": "d8ab3789-6681-4e8e-86f0-57d6facc06c9",
   "metadata": {},
   "outputs": [
    {
     "name": "stdout",
     "output_type": "stream",
     "text": [
      "wgpt_rlcdrightonly2\n",
      "0.5278366012032217\n",
      "wgpt_apfrandcarto\n",
      "0.40876453165332205\n",
      "wgpt_apfgoodcut2\n",
      "0.5097901100133093\n",
      "wgpt_wgptgoodcut2\n",
      "0.35102761003588195\n",
      "wgpt_rlcdmidcut2\n",
      "0.5272736142497723\n",
      "wgpt_wgptbothcut2\n",
      "0.5617339277810276\n",
      "wgpt_rlcdnormal\n",
      "0.5463073222251673\n",
      "wgpt_apfnormal\n",
      "0.32908136844492175\n",
      "wgpt_rlcdbothcut2\n",
      "0.49508388214928417\n",
      "wgpt_wgptrandcarto\n",
      "0.40042503435712756\n",
      "wgpt_rlcdleftonly2\n",
      "0.5236283439381603\n",
      "wgpt_rlcdgoodcut2\n",
      "0.5307293988443437\n"
     ]
    }
   ],
   "source": [
    "for k in rmdfs.keys():\n",
    "    print(k)\n",
    "    keyval = k\n",
    "    norm = stdev(getfulldist(rmdfs[k].reward))\n",
    "    # results = [(max(s)-median(s))/norm for s in rmdfs[k].reward]\n",
    "    results = [(stdev(s))/norm for s in rmdfs[k].reward]\n",
    "    #rouges = [rpaircorr(r) for _, r in rmdfs[k].iterrows()]\n",
    "    print(mean([r for r in results if not math.isnan(r)]))\n",
    "    #print(mean([r for r in rouges if not math.isnan(r)]))\n"
   ]
  },
  {
   "cell_type": "code",
   "execution_count": 91,
   "id": "105b0100-3fe3-4928-aed1-2e87f00875d8",
   "metadata": {},
   "outputs": [
    {
     "data": {
      "text/plain": [
       "(array([  94.,  482., 1565., 1944., 1199.,  667.,  252.,  103.,   47.,\n",
       "          39.]),\n",
       " array([  2. ,  27.6,  53.2,  78.8, 104.4, 130. , 155.6, 181.2, 206.8,\n",
       "        232.4, 258. ]),\n",
       " <BarContainer object of 10 artists>)"
      ]
     },
     "execution_count": 91,
     "metadata": {},
     "output_type": "execute_result"
    },
    {
     "data": {
      "image/png": "[encoded data removed]",
      "text/plain": [
       "<Figure size 640x480 with 1 Axes>"
      ]
     },
     "metadata": {},
     "output_type": "display_data"
    }
   ],
   "source": [
    "plt.hist(getfulldist(rmdfs[keyval].atoks))"
   ]
  },
  {
   "cell_type": "code",
   "execution_count": 19,
   "id": "98be364f-8058-47a8-b44b-9081b92ca4a0",
   "metadata": {},
   "outputs": [
    {
     "name": "stdout",
     "output_type": "stream",
     "text": [
      "stack_shuffrewardda\n",
      "PearsonRResult(statistic=0.19360208722151298, pvalue=9.304967998824017e-55)\n",
      "stack_shuffrewardmixed\n",
      "PearsonRResult(statistic=-0.02117794872229203, pvalue=0.0912595806538025)\n",
      "wgpt_shuffrewardmodel\n",
      "PearsonRResult(statistic=0.6862010148602476, pvalue=0.0)\n",
      "wgpt_shuffrewardrandda\n",
      "PearsonRResult(statistic=0.24138648827280548, pvalue=2.0606832492580663e-85)\n",
      "stack_shuffrewardsanity\n",
      "PearsonRResult(statistic=0.09725125541677739, pvalue=7.685828382720676e-15)\n",
      "stack_shuffrewardrandaug\n",
      "PearsonRResult(statistic=0.07587236737730434, pvalue=1.3753695111232166e-09)\n"
     ]
    }
   ],
   "source": [
    "for k in rmdfs.keys():\n",
    "    print(k)\n",
    "    keyval = k\n",
    "    print(pearsonr(getfulldist(rmdfs[keyval].reward), getfulldist(rmdfs[keyval].atoks)))\n",
    "    #print(spearmanr(getfulldist(rmdfs[keyval].reward), getfulldist(rmdfs[keyval].atoks)))\n",
    "    # print(kendalltau(getfulldist(rmdfs[keyval].reward), getfulldist(rmdfs[keyval].atoks)))"
   ]
  },
  {
   "cell_type": "code",
   "execution_count": null,
   "id": "111ce1e5-9343-4ea6-a951-c9d4e054606a",
   "metadata": {},
   "outputs": [],
   "source": [
    "rmdfs = load_all_rmdfs(\"../trl-general/fullattacks/\")"
   ]
  },
  {
   "cell_type": "code",
   "execution_count": null,
   "id": "623f8223-8204-48e0-8ec2-185cd0e055cb",
   "metadata": {},
   "outputs": [],
   "source": [
    "print(mean([stdev(s) for s in rmdfs[keyval].reward])/stdev(getfulldist(rmdfs[keyval].reward)))\n",
    "plt.hist([stdev(s) for s in rmdfs[keyval].reward])"
   ]
  },
  {
   "cell_type": "code",
   "execution_count": null,
   "id": "1ad85220-bbe5-45ca-91cf-72cf9d054a54",
   "metadata": {},
   "outputs": [],
   "source": [
    "wgptorigrm = load_rm(\"../tr\")"
   ]
  },
  {
   "cell_type": "code",
   "execution_count": 11,
   "id": "2d1fcce4-0963-4979-b4ad-3b4f80f895e2",
   "metadata": {},
   "outputs": [],
   "source": [
    "allresps = getfulldist(stackouts.response)"
   ]
  },
  {
   "cell_type": "code",
   "execution_count": 16,
   "id": "3d20a0ef-d291-4d27-8712-ef00f5b23f07",
   "metadata": {},
   "outputs": [
    {
     "name": "stderr",
     "output_type": "stream",
     "text": [
      " 57%|██████████████████████████████████████████████████████████████████████████████▊                                                           | 4/7 [00:32<00:27,  9.12s/it]/home/prasann/miniconda3/envs/rlenv/lib/python3.9/site-packages/transformers/pipelines/base.py:1083: UserWarning: You seem to be using the pipelines sequentially on GPU. In order to maximize efficiency please use a dataset\n",
      "  warnings.warn(\n",
      "100%|██████████████████████████████████████████████████████████████████████████████████████████████████████████████████████████████████████████| 7/7 [00:49<00:00,  7.09s/it]\n"
     ]
    }
   ],
   "source": [
    "allscos = progress_rm(allresps[:100], stackorigrm, kwargs)"
   ]
  },
  {
   "cell_type": "code",
   "execution_count": null,
   "id": "8b480b39-54ff-4656-9450-fedceb9d6a8f",
   "metadata": {},
   "outputs": [],
   "source": [
    "compdist([a[0]['score'] for a in allscos], 8)"
   ]
  },
  {
   "cell_type": "code",
   "execution_count": 8,
   "id": "bac995a2-9dba-4563-a24a-5b2323ba6957",
   "metadata": {},
   "outputs": [
    {
     "data": {
      "text/plain": [
       "(array([ 229.,  526.,  818.,  767.,  656.,  560.,  466.,  340.,  289.,\n",
       "        1709.]),\n",
       " array([  4. ,  30.2,  56.4,  82.6, 108.8, 135. , 161.2, 187.4, 213.6,\n",
       "        239.8, 266. ]),\n",
       " <BarContainer object of 10 artists>)"
      ]
     },
     "execution_count": 8,
     "metadata": {},
     "output_type": "execute_result"
    },
    {
     "data": {
      "image/png": "[encoded data removed]",
      "text/plain": [
       "<Figure size 640x480 with 1 Axes>"
      ]
     },
     "metadata": {},
     "output_type": "display_data"
    }
   ],
   "source": [
    "plt.hist(getfulldist(stackouts.atoks))"
   ]
  },
  {
   "cell_type": "code",
   "execution_count": null,
   "id": "a17e8c36-32bf-4b6c-99e8-1ee746a4b397",
   "metadata": {},
   "outputs": [],
   "source": []
  }
 ],
 "metadata": {
  "kernelspec": {
   "display_name": "Python 3 (ipykernel)",
   "language": "python",
   "name": "python3"
  },
  "language_info": {
   "codemirror_mode": {
    "name": "ipython",
    "version": 3
   },
   "file_extension": ".py",
   "mimetype": "text/x-python",
   "name": "python",
   "nbconvert_exporter": "python",
   "pygments_lexer": "ipython3",
   "version": "3.10.0"
  }
 },
 "nbformat": 4,
 "nbformat_minor": 5
}
