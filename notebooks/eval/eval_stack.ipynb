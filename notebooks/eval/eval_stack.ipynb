{
 "cells": [
  {
   "cell_type": "code",
   "execution_count": null,
   "id": "595aa5d2-e179-4f0e-bb67-4affa30ed47b",
   "metadata": {},
   "outputs": [],
   "source": [
    "from rlhfutils.eval_utils import oai_kwargs, load_alldfs, annotate_apfarm, apf_format, load_wgpt, filter_and_sort_df\n",
    "import pandas as pd\n",
    "from statistics import mean\n",
    "import matplotlib.pyplot as plt\n",
    "import re\n",
    "from transformers import AutoTokenizer\n",
    "from datasets import load_dataset\n",
    "import openai\n",
    "from rlhfutils.data import qaform\n",
    "import random"
   ]
  },
  {
   "cell_type": "code",
   "execution_count": null,
   "id": "fa2c1e61-542f-4f42-a99e-4a7fa2c2eb92",
   "metadata": {},
   "outputs": [],
   "source": [
    "def stattest (perc, amnt):\n",
    "    lis = [0]*int(amnt*(1-perc)) + [1]*int(amnt*perc)\n",
    "    print(len(lis))\n",
    "    dis = []\n",
    "    for i in range(10000):\n",
    "        tmp = random.choices(lis, k=len(lis))\n",
    "        if mean(tmp)>0.5:\n",
    "            dis.append(1)\n",
    "        else:\n",
    "            dis.append(0)\n",
    "    return mean(dis)"
   ]
  },
  {
   "cell_type": "code",
   "execution_count": null,
   "id": "d5a3a022-2fec-4d91-bafc-5dc22b4d7acf",
   "metadata": {},
   "outputs": [],
   "source": [
    "stattest(0.53, 1000)"
   ]
  },
  {
   "cell_type": "code",
   "execution_count": null,
   "id": "9f3f4b54-a439-4f0f-a235-bae7cdf75052",
   "metadata": {},
   "outputs": [],
   "source": [
    "%load_ext autoreload\n",
    "%autoreload 2"
   ]
  },
  {
   "cell_type": "code",
   "execution_count": null,
   "id": "a3a79fae-7970-4fdc-b735-d1c023dcff64",
   "metadata": {},
   "outputs": [],
   "source": [
    "#stackout = pd.read_json(\"../trl-general/generated_wgptppoorig.jsonl\", orient='records', lines=True)\n",
    "toker = AutoTokenizer.from_pretrained(\"../webgpt-llama/models/sft10k\")"
   ]
  },
  {
   "cell_type": "code",
   "execution_count": null,
   "id": "37e68ae1-875e-48f7-ba44-a3d13303d3f0",
   "metadata": {},
   "outputs": [],
   "source": [
    "s = \"\"\"\n",
    "Adults typically do not\n",
    "roll off of the bed be-\n",
    "cause they have devel-\n",
    "oped the muscle mem-\n",
    "ory to keep their bod-\n",
    "ies from involuntarily\n",
    "moving during sleep\n",
    "and maintaining proper\n",
    "posture\n",
    "\"\"\"\n",
    "len(toker(s).input_ids)"
   ]
  },
  {
   "cell_type": "code",
   "execution_count": null,
   "id": "7c84372a-4e58-4936-bf32-e0f0fdceaa74",
   "metadata": {},
   "outputs": [],
   "source": [
    "tdset = load_dataset(\"openai/webgpt_comparisons\", split=\"train\")\n",
    "def preproc_wgpt(example):\n",
    "    ex = {}\n",
    "    ex['question'] = example['question']['full_text']\n",
    "    if example['score_0']>example['score_1']:\n",
    "        ex['response_j'] = example['answer_0']\n",
    "        ex['response_k'] = example['answer_1']\n",
    "    else:\n",
    "        ex['response_k'] = example['answer_0']\n",
    "        ex['response_j'] = example['answer_1']\n",
    "    return ex\n",
    "tdset = tdset.map(preproc_wgpt)"
   ]
  },
  {
   "cell_type": "code",
   "execution_count": null,
   "id": "9a20586e-dea3-4aca-bdce-8db393a7dd30",
   "metadata": {},
   "outputs": [],
   "source": [
    "res = []\n",
    "lqs = list(adfs['wgptppoorig'].question)\n",
    "for t in tdset: \n",
    "    if t['question'] in lqs:\n",
    "        res.append({\n",
    "            'question':t['question'],\n",
    "            'response':t['response_j']\n",
    "        })"
   ]
  },
  {
   "cell_type": "code",
   "execution_count": null,
   "id": "a181fc9d-492f-4e88-bee8-9d9d70c89227",
   "metadata": {},
   "outputs": [],
   "source": [
    "adfs.keys()"
   ]
  },
  {
   "cell_type": "code",
   "execution_count": null,
   "id": "0e858152-370d-41e3-b785-3abf3cb45804",
   "metadata": {},
   "outputs": [],
   "source": [
    "adfs['stackbalance'].rcnt.mean()"
   ]
  },
  {
   "cell_type": "code",
   "execution_count": null,
   "id": "cd1081b9-f56c-4020-95a5-d0c3c72a26a8",
   "metadata": {},
   "outputs": [],
   "source": [
    "toker.decode(\"Answer:\")"
   ]
  },
  {
   "cell_type": "code",
   "execution_count": null,
   "id": "f18a8bab-f85d-45dc-b554-54e6e72afbf2",
   "metadata": {},
   "outputs": [],
   "source": [
    "toker(stackout['response'][1]).input_ids.index(13291)"
   ]
  },
  {
   "cell_type": "code",
   "execution_count": null,
   "id": "d92e11cb-52f1-4022-8750-eb66899885e4",
   "metadata": {
    "scrolled": true
   },
   "outputs": [],
   "source": [
    "adfs = load_alldfs(\"../trl-general/genouts/lastevalsstack//\",500 )"
   ]
  },
  {
   "cell_type": "code",
   "execution_count": null,
   "id": "5d242a6c-7557-49c7-8dee-9270119c13e0",
   "metadata": {},
   "outputs": [],
   "source": [
    "adfs['stackorigrerun']"
   ]
  },
  {
   "cell_type": "code",
   "execution_count": null,
   "id": "b04bef3d-275c-4d27-b7e1-0b2a157e8bf4",
   "metadata": {},
   "outputs": [],
   "source": [
    "adfs['rlcddashort'].rcnt.mean()"
   ]
  },
  {
   "cell_type": "code",
   "execution_count": null,
   "id": "c797c03d-293a-443f-9939-cc45a1c022ad",
   "metadata": {},
   "outputs": [],
   "source": [
    "import re\n",
    "\n",
    "def process_str(text):\n",
    "    # Regular expression to match URLs\n",
    "    url_pattern = re.compile(r'http[s]?://(?:[a-zA-Z]|[0-9]|[$-_@.&+]|[!*\\\\(\\\\),]|(?:%[0-9a-fA-F][0-9a-fA-F]))+')\n",
    "    # Replace all URLs in the text with \"URL\"\n",
    "    s =  url_pattern.sub(\"[URL]\", text)\n",
    "    escapes = [\"\\n\", \"\\\\\", \"#\",  \"&\", \"%\"]\n",
    "    for e in escapes:\n",
    "        s = s.replace(e, \"\")\n",
    "    s = s.replace(\"\\n\", \"\").replace(\"#\", \"\\#\").replace(\"&\", \"\\&\").replace(\"%\", \"\\%\")\n",
    "    return s"
   ]
  },
  {
   "cell_type": "code",
   "execution_count": null,
   "id": "57111a1b-b036-4cd5-8814-2e89143f9710",
   "metadata": {},
   "outputs": [],
   "source": []
  },
  {
   "cell_type": "code",
   "execution_count": null,
   "id": "70c1af49-1995-4fd1-9d2b-285bda4469a3",
   "metadata": {},
   "outputs": [],
   "source": [
    "ind = 40\n",
    "s1 = process_str(adfs['rlcdsftv3'].loc[ind]['question'])\n",
    "s1 = s1+\" &\\n\"\n",
    "s1 = s1+process_str(adfs['rlcdsftv3'].loc[ind]['response'])\n",
    "s1 = s1+\" &\\n\"\n",
    "s1 = s1+process_str(adfs['rlcdorigv3'].loc[ind]['response'])\n",
    "print(s1)"
   ]
  },
  {
   "cell_type": "code",
   "execution_count": null,
   "id": "fa1103f5-5f40-4776-b466-72e75f50ca95",
   "metadata": {},
   "outputs": [],
   "source": []
  },
  {
   "cell_type": "code",
   "execution_count": null,
   "id": "11e028da-d44c-4ab1-bf2f-80a2a93081ff",
   "metadata": {},
   "outputs": [],
   "source": []
  },
  {
   "cell_type": "code",
   "execution_count": null,
   "id": "5f0e5447-ef13-4ec3-9e0b-c6e8dafad40d",
   "metadata": {},
   "outputs": [],
   "source": [
    "adfs['wgptrwscale']"
   ]
  },
  {
   "cell_type": "code",
   "execution_count": null,
   "id": "add7b65a-f97e-4e15-adb9-1bbd715aa826",
   "metadata": {},
   "outputs": [],
   "source": [
    "mean(adfs['stacklenonly'].rcnt)"
   ]
  },
  {
   "cell_type": "code",
   "execution_count": null,
   "id": "3ccdf771-0c8d-4a8d-8047-e418000d844e",
   "metadata": {},
   "outputs": [],
   "source": [
    "ind = 3\n",
    "print(adfs['rlcdsft'].loc[ind]['question'])\n",
    "print(adfs['rlcdsft'].loc[ind]['response'])"
   ]
  },
  {
   "cell_type": "code",
   "execution_count": null,
   "id": "1945cf4e-5099-4cc4-bd8a-5c2f62092476",
   "metadata": {},
   "outputs": [],
   "source": [
    "refdf = load_wgpt(200,0)\n",
    "refdf =  pd.DataFrame(refdf)\n",
    "refdf['question'] = [s.strip() for s in refdf['question']]\n",
    "refdf = filter_and_sort_df(adfs['wgptppoorig'], refdf)"
   ]
  },
  {
   "cell_type": "code",
   "execution_count": null,
   "id": "24856cef-536a-476d-b1db-2d20b8075b02",
   "metadata": {},
   "outputs": [],
   "source": [
    "adfs.keys()"
   ]
  },
  {
   "cell_type": "code",
   "execution_count": null,
   "id": "f917c15b-74e4-48d5-bed5-c82c2d75e603",
   "metadata": {},
   "outputs": [],
   "source": [
    "mean(adfs['stacklenonly'].rcnt)"
   ]
  },
  {
   "cell_type": "code",
   "execution_count": null,
   "id": "be1a038e-40d6-426d-95ab-56900c138d61",
   "metadata": {},
   "outputs": [],
   "source": [
    "tmpdf['response'].loc[25]"
   ]
  },
  {
   "cell_type": "code",
   "execution_count": null,
   "id": "dbabd3c5-c330-4562-95d3-6e14e93e668d",
   "metadata": {},
   "outputs": [],
   "source": [
    "adfs['webgptdappov2125']['response'][1]"
   ]
  },
  {
   "cell_type": "code",
   "execution_count": null,
   "id": "d30c97ef-fb96-4bb9-bda2-60c0bbbec4bd",
   "metadata": {},
   "outputs": [],
   "source": [
    "everything = pd.concat(list(adfs.values()))"
   ]
  },
  {
   "cell_type": "code",
   "execution_count": null,
   "id": "1f1be82f-37d4-4ab6-b61b-76de81408c09",
   "metadata": {},
   "outputs": [],
   "source": [
    "adfs['stackbalance']"
   ]
  },
  {
   "cell_type": "code",
   "execution_count": null,
   "id": "3298294f-b984-4e9d-b30e-ad837639aa26",
   "metadata": {},
   "outputs": [],
   "source": [
    "adfs.keys()"
   ]
  },
  {
   "cell_type": "code",
   "execution_count": null,
   "id": "c77e9f7f-51f1-4a9d-96ec-3835915b2384",
   "metadata": {},
   "outputs": [],
   "source": [
    "prompts = [\"You are a helpful assistant. Answer the following question. Question: \"+s+\"\\n\\nAssistant: \" for s in adfs['wgptsft']['question']]"
   ]
  },
  {
   "cell_type": "code",
   "execution_count": null,
   "id": "f73bbd64-89ee-4b95-8f3e-8f0e43f4b506",
   "metadata": {},
   "outputs": [],
   "source": [
    "davdf = pd.DataFrame({\"question\":adfs['wgptsft']['question'], 'response':completions})"
   ]
  },
  {
   "cell_type": "code",
   "execution_count": null,
   "id": "6a880436-b789-4df4-9fa6-bc5ce83c04ef",
   "metadata": {},
   "outputs": [],
   "source": [
    "davdf.to_json(\"../trl-general/genouts/davinciwebgpt.jsonl\", orient='records',  lines=True)"
   ]
  },
  {
   "cell_type": "code",
   "execution_count": null,
   "id": "c9512ac8-f950-4c30-8738-abbce603c452",
   "metadata": {},
   "outputs": [],
   "source": [
    "davdf"
   ]
  },
  {
   "cell_type": "code",
   "execution_count": null,
   "id": "f4257cb7-f685-4691-9d67-dd33429fead4",
   "metadata": {},
   "outputs": [],
   "source": [
    "adfs['davinci']['rcnt'] = "
   ]
  },
  {
   "cell_type": "code",
   "execution_count": null,
   "id": "197da8d6-bb2f-4ae4-9305-23448af154e1",
   "metadata": {
    "scrolled": true
   },
   "outputs": [],
   "source": [
    "# completions = []\n",
    "# for prompt in prompts:\n",
    "#     response = openai.Completion.create(\n",
    "#       model=\"text-davinci-003\",\n",
    "#       prompt=prompt,\n",
    "#       max_tokens=256,  # Adjust based on your requirements\n",
    "#       top_p=0.9,\n",
    "#       temperature=0.9\n",
    "#     )\n",
    "#     completions.append(response.choices[0].text.strip())\n",
    "#     print(\"__\")\n",
    "#     print(completions[-1])"
   ]
  },
  {
   "cell_type": "code",
   "execution_count": null,
   "id": "3cbdfc8e-9f83-4705-8033-d0158149b4d5",
   "metadata": {},
   "outputs": [],
   "source": [
    "adfs = load_alldfs(\"../trl-general/genouts/wgpt/\")"
   ]
  },
  {
   "cell_type": "code",
   "execution_count": null,
   "id": "2023baf8-ae78-4c81-9a64-c62f2b9c2a0d",
   "metadata": {},
   "outputs": [],
   "source": [
    "adfs.keys()"
   ]
  },
  {
   "cell_type": "code",
   "execution_count": null,
   "id": "4aa6f141-7d7b-404f-8406-b5ad94239c92",
   "metadata": {},
   "outputs": [],
   "source": [
    "adfs.keys()"
   ]
  },
  {
   "cell_type": "code",
   "execution_count": null,
   "id": "02abfc9b-0f34-4574-8f30-b025732cc195",
   "metadata": {
    "scrolled": true
   },
   "outputs": [],
   "source": [
    "# compare all to ppo original\n",
    "lenannot = annotate_apfarm(adfs, \"wgptsft2\", \"wgptppoorig2\", 100, len(adfs['wgptsft2']), oai_kwargs())"
   ]
  },
  {
   "cell_type": "code",
   "execution_count": null,
   "id": "09445576-a4fe-451d-aff7-a25c8cc221d2",
   "metadata": {},
   "outputs": [],
   "source": [
    "tmp = pd.DataFrame(lenannot)"
   ]
  },
  {
   "cell_type": "code",
   "execution_count": null,
   "id": "0d5c964c-b7b9-47ff-bad1-fd5677df38f1",
   "metadata": {},
   "outputs": [],
   "source": []
  },
  {
   "cell_type": "code",
   "execution_count": null,
   "id": "791633a5-f7b7-4ab2-b3de-b2b03e237681",
   "metadata": {},
   "outputs": [],
   "source": [
    "tmp.preference.mean()"
   ]
  },
  {
   "cell_type": "code",
   "execution_count": null,
   "id": "737a7757-b384-4f4a-8aeb-7d9061793177",
   "metadata": {},
   "outputs": [],
   "source": [
    "ind = 8\n",
    "print(adfs['apfgoodcut']['question'][ind])\n",
    "print(adfs['apfgoodcut']['response'][ind])"
   ]
  },
  {
   "cell_type": "code",
   "execution_count": null,
   "id": "7e2fa140-8790-4f3b-af85-f959c9284f3a",
   "metadata": {},
   "outputs": [],
   "source": [
    "tmp = pd.read_json(\"../outputs/apeval/wgptsft2_wgptppoorig2_500.jsonl\", orient='records', lines=True)"
   ]
  },
  {
   "cell_type": "code",
   "execution_count": null,
   "id": "e5620eb1-561c-4abb-b166-ccc901b97165",
   "metadata": {},
   "outputs": [],
   "source": [
    "alls = []\n",
    "for i in range(100, 397, 100):\n",
    "    alls.append(pd.read_json(\"../outputs/apeval/stacklenonlyppo3_stackorigrerun_\"+str(i)+\".jsonl\", orient='records', lines=True))\n",
    "asdfs = pd.concat(alls)"
   ]
  },
  {
   "cell_type": "code",
   "execution_count": null,
   "id": "382f78bb-8a28-48a8-bcb2-eb78799973cd",
   "metadata": {},
   "outputs": [],
   "source": [
    "len(asdfs[asdfs.preference==2]) + len(asdfs[asdfs.preference==1])"
   ]
  },
  {
   "cell_type": "code",
   "execution_count": null,
   "id": "168858a0-2117-4ad6-8cdf-164b320261db",
   "metadata": {},
   "outputs": [],
   "source": [
    "(1-(asdfs.preference.mean()-1))"
   ]
  },
  {
   "cell_type": "code",
   "execution_count": null,
   "id": "a2bc7828-3198-4878-8fe9-5d91765caa7b",
   "metadata": {},
   "outputs": [],
   "source": [
    "tmpdf = pd.read_json(\"../outputs/apeval/stackorigrerun_stackbalance.jsonl\", orient='records', lines=True)"
   ]
  },
  {
   "cell_type": "code",
   "execution_count": null,
   "id": "fa0f48bd-1b9a-4e05-897d-bbefdc5cc55b",
   "metadata": {},
   "outputs": [],
   "source": [
    "tmpdf.preference.mean()"
   ]
  },
  {
   "cell_type": "code",
   "execution_count": null,
   "id": "3b42dab4-3b28-4852-ac77-2b35d2073da2",
   "metadata": {},
   "outputs": [],
   "source": [
    "list(tmp.preference)"
   ]
  },
  {
   "cell_type": "code",
   "execution_count": null,
   "id": "55971cdb-7e5e-4e57-bb10-35962f752102",
   "metadata": {},
   "outputs": [],
   "source": [
    "adfs['davinci']"
   ]
  },
  {
   "cell_type": "code",
   "execution_count": null,
   "id": "438f10d4-4d64-431e-85a6-38e5f8e446bd",
   "metadata": {},
   "outputs": [],
   "source": [
    "everything = pd.concat(list(adfs.values()))\n",
    "assert len(set(everything['question']))==len(everything)/len(adfs.keys())\n",
    "assert len(set(everything['response']))==len(everything)\n",
    "assert [len(set(a['question']))==len(a[''])]\n",
    "assert\n",
    "print(len(everything)/len(adfs.keys()))"
   ]
  },
  {
   "cell_type": "code",
   "execution_count": null,
   "id": "56d624ef-2fe8-4ed7-8fef-4051c94e2860",
   "metadata": {},
   "outputs": [],
   "source": [
    "[len(a) for a in adfs.values()] "
   ]
  },
  {
   "cell_type": "code",
   "execution_count": null,
   "id": "a93d5222-d5e5-427f-952c-8bb8eaaeff68",
   "metadata": {},
   "outputs": [],
   "source": [
    "adfs['davinci']"
   ]
  },
  {
   "cell_type": "code",
   "execution_count": null,
   "id": "07218c0c-32c7-40e2-9c45-d1916f1c46da",
   "metadata": {},
   "outputs": [],
   "source": [
    "len(adfs['chosen'])"
   ]
  },
  {
   "cell_type": "code",
   "execution_count": null,
   "id": "8bb74a47-08f4-4eb2-8eda-5ffdba8e836f",
   "metadata": {},
   "outputs": [],
   "source": []
  }
 ],
 "metadata": {
  "kernelspec": {
   "display_name": "Python 3 (ipykernel)",
   "language": "python",
   "name": "python3"
  },
  "language_info": {
   "codemirror_mode": {
    "name": "ipython",
    "version": 3
   },
   "file_extension": ".py",
   "mimetype": "text/x-python",
   "name": "python",
   "nbconvert_exporter": "python",
   "pygments_lexer": "ipython3",
   "version": "3.9.0"
  }
 },
 "nbformat": 4,
 "nbformat_minor": 5
}
