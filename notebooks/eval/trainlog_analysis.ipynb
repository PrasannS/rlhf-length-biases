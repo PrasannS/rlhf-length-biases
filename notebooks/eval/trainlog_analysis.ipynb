{
 "cells": [
  {
   "cell_type": "code",
   "execution_count": 1,
   "id": "70c5f653-b94e-4957-9cd0-2879f4d6a2b4",
   "metadata": {},
   "outputs": [
    {
     "name": "stderr",
     "output_type": "stream",
     "text": [
      "/u/prasanns/miniconda3/envs/rlhfenv/lib/python3.10/site-packages/tqdm/auto.py:21: TqdmWarning: IProgress not found. Please update jupyter and ipywidgets. See https://ipywidgets.readthedocs.io/en/stable/user_install.html\n",
      "  from .autonotebook import tqdm as notebook_tqdm\n"
     ]
    },
    {
     "name": "stdout",
     "output_type": "stream",
     "text": [
      "[2024-03-11 10:33:55,387] [INFO] [real_accelerator.py:110:get_accelerator] Setting ds_accelerator to cuda (auto detect)\n"
     ]
    },
    {
     "name": "stderr",
     "output_type": "stream",
     "text": [
      "/u/prasanns/miniconda3/envs/rlhfenv/lib/python3.10/site-packages/trl/trainer/ppo_config.py:142: UserWarning: The `optimize_cuda_cache` argument will be deprecated soon, please use `optimize_device_cache` instead.\n",
      "  warnings.warn(\n"
     ]
    }
   ],
   "source": [
    "import pandas as pd\n",
    "import matplotlib.pyplot as plt\n",
    "from statistics import mean\n",
    "from rlhfutils.rl_utils import get_synth_rewards\n",
    "from tqdm import tqdm\n",
    "from datasets import Dataset, concatenate_datasets"
   ]
  },
  {
   "cell_type": "code",
   "execution_count": 2,
   "id": "54e934a2-c001-4bc7-9a74-2e5603f98886",
   "metadata": {},
   "outputs": [],
   "source": [
    "%load_ext autoreload\n",
    "%autoreload 2"
   ]
  },
  {
   "cell_type": "code",
   "execution_count": 150,
   "id": "f23311d8-b3be-405e-bf17-1c16c0c64cd5",
   "metadata": {},
   "outputs": [],
   "source": [
    "ds = Dataset.load_from_disk(\"../../../active-rlhf/outputs/data/contrastivedistill/wikionpolicyprompts//\")"
   ]
  },
  {
   "cell_type": "code",
   "execution_count": 151,
   "id": "c1537f5b-3aa2-4bb0-b7c7-31d2d6b4c3ab",
   "metadata": {},
   "outputs": [
    {
     "data": {
      "text/plain": [
       "847570"
      ]
     },
     "execution_count": 151,
     "metadata": {},
     "output_type": "execute_result"
    }
   ],
   "source": [
    "len(concatenate_datasets([ds]*10))"
   ]
  },
  {
   "cell_type": "code",
   "execution_count": 27,
   "id": "b4040267-b1c5-4d87-a7c5-ff2495dc7f8b",
   "metadata": {},
   "outputs": [],
   "source": [
    "tmp = pd.read_json(\"../../../active-rlhf/outputs/results/rollouts//ultra/ppo_ultragolddpoplusfinal2.jsonl\", orient='records', lines=True)"
   ]
  },
  {
   "cell_type": "code",
   "execution_count": 31,
   "id": "e11ae19a-c943-4cb3-bc16-7464d83fd183",
   "metadata": {},
   "outputs": [],
   "source": [
    "# tlog = pd.read_json(\"../../outputs/bagofwords/dynarmlogs/expbow50_updatereprod_fix.jsonl\", orient='records', lines=True)\n",
    "# tlog = pd.read_json(\"../../../active-rlhf/outputs/results/dynarmlogs/bagofwords/expbow50_reprodtest_exact.jsonl\", orient='records', lines=True)\n",
    "tlog = pd.read_json(\"../../../active-rlhf/outputs/results/dynarmlogs/ultra/tiny_rm_conf_active_final.jsonl\", orient='records', lines=True)\n",
    "tmp = tlog\n",
    "tmp = tmp.dropna(subset='golds')"
   ]
  },
  {
   "cell_type": "code",
   "execution_count": 32,
   "id": "e26c423a-dc8b-45a6-86ec-a97c7fef76b0",
   "metadata": {},
   "outputs": [
    {
     "data": {
      "text/html": [
       "<div>\n",
       "<style scoped>\n",
       "    .dataframe tbody tr th:only-of-type {\n",
       "        vertical-align: middle;\n",
       "    }\n",
       "\n",
       "    .dataframe tbody tr th {\n",
       "        vertical-align: top;\n",
       "    }\n",
       "\n",
       "    .dataframe thead th {\n",
       "        text-align: right;\n",
       "    }\n",
       "</style>\n",
       "<table border=\"1\" class=\"dataframe\">\n",
       "  <thead>\n",
       "    <tr style=\"text-align: right;\">\n",
       "      <th></th>\n",
       "      <th>texts</th>\n",
       "      <th>rewards</th>\n",
       "      <th>golds</th>\n",
       "      <th>labelled</th>\n",
       "      <th>step</th>\n",
       "      <th>reuses</th>\n",
       "    </tr>\n",
       "  </thead>\n",
       "  <tbody>\n",
       "    <tr>\n",
       "      <th>0</th>\n",
       "      <td>[Question: Find a student-led cybersecurity or...</td>\n",
       "      <td>[1.703125, 2.28125]</td>\n",
       "      <td>[]</td>\n",
       "      <td>0.0</td>\n",
       "      <td>1</td>\n",
       "      <td>NaN</td>\n",
       "    </tr>\n",
       "    <tr>\n",
       "      <th>1</th>\n",
       "      <td>[Question: Can you explain the significance of...</td>\n",
       "      <td>[3.890625, 1.78125]</td>\n",
       "      <td>[]</td>\n",
       "      <td>0.0</td>\n",
       "      <td>1</td>\n",
       "      <td>NaN</td>\n",
       "    </tr>\n",
       "    <tr>\n",
       "      <th>2</th>\n",
       "      <td>[Question: Can you describe the process of imp...</td>\n",
       "      <td>[1.8046875, 2.0625]</td>\n",
       "      <td>[4.5, 4.0]</td>\n",
       "      <td>0.0</td>\n",
       "      <td>1</td>\n",
       "      <td>NaN</td>\n",
       "    </tr>\n",
       "    <tr>\n",
       "      <th>3</th>\n",
       "      <td>[Question: Can you provide examples of how Bee...</td>\n",
       "      <td>[1.7734375, -1.0]</td>\n",
       "      <td>[]</td>\n",
       "      <td>1.0</td>\n",
       "      <td>1</td>\n",
       "      <td>NaN</td>\n",
       "    </tr>\n",
       "    <tr>\n",
       "      <th>4</th>\n",
       "      <td>[Question: Can you describe the impact of impl...</td>\n",
       "      <td>[3.03125, 6.25]</td>\n",
       "      <td>[]</td>\n",
       "      <td>1.0</td>\n",
       "      <td>1</td>\n",
       "      <td>NaN</td>\n",
       "    </tr>\n",
       "    <tr>\n",
       "      <th>...</th>\n",
       "      <td>...</td>\n",
       "      <td>...</td>\n",
       "      <td>...</td>\n",
       "      <td>...</td>\n",
       "      <td>...</td>\n",
       "      <td>...</td>\n",
       "    </tr>\n",
       "    <tr>\n",
       "      <th>3409</th>\n",
       "      <td>[Question: Based on the information provided, ...</td>\n",
       "      <td>[39.5, 38.0]</td>\n",
       "      <td>[]</td>\n",
       "      <td>392.0</td>\n",
       "      <td>196</td>\n",
       "      <td>NaN</td>\n",
       "    </tr>\n",
       "    <tr>\n",
       "      <th>3410</th>\n",
       "      <td>[Question: What types of events other than hoc...</td>\n",
       "      <td>[28.5, 36.75]</td>\n",
       "      <td>[]</td>\n",
       "      <td>392.0</td>\n",
       "      <td>196</td>\n",
       "      <td>NaN</td>\n",
       "    </tr>\n",
       "    <tr>\n",
       "      <th>3411</th>\n",
       "      <td>[Question: Please write a 500-word blog post o...</td>\n",
       "      <td>[24.375, 26.75]</td>\n",
       "      <td>[]</td>\n",
       "      <td>392.0</td>\n",
       "      <td>196</td>\n",
       "      <td>NaN</td>\n",
       "    </tr>\n",
       "    <tr>\n",
       "      <th>3412</th>\n",
       "      <td>[Question: How do the beliefs of Buddhism and ...</td>\n",
       "      <td>[23.75, 13.8125]</td>\n",
       "      <td>[]</td>\n",
       "      <td>392.0</td>\n",
       "      <td>196</td>\n",
       "      <td>NaN</td>\n",
       "    </tr>\n",
       "    <tr>\n",
       "      <th>3413</th>\n",
       "      <td>[Question: Do otters exhibit different lifespa...</td>\n",
       "      <td>[23.5, 26.625]</td>\n",
       "      <td>[]</td>\n",
       "      <td>392.0</td>\n",
       "      <td>196</td>\n",
       "      <td>NaN</td>\n",
       "    </tr>\n",
       "  </tbody>\n",
       "</table>\n",
       "<p>3184 rows × 6 columns</p>\n",
       "</div>"
      ],
      "text/plain": [
       "                                                  texts              rewards  \\\n",
       "0     [Question: Find a student-led cybersecurity or...  [1.703125, 2.28125]   \n",
       "1     [Question: Can you explain the significance of...  [3.890625, 1.78125]   \n",
       "2     [Question: Can you describe the process of imp...  [1.8046875, 2.0625]   \n",
       "3     [Question: Can you provide examples of how Bee...    [1.7734375, -1.0]   \n",
       "4     [Question: Can you describe the impact of impl...      [3.03125, 6.25]   \n",
       "...                                                 ...                  ...   \n",
       "3409  [Question: Based on the information provided, ...         [39.5, 38.0]   \n",
       "3410  [Question: What types of events other than hoc...        [28.5, 36.75]   \n",
       "3411  [Question: Please write a 500-word blog post o...      [24.375, 26.75]   \n",
       "3412  [Question: How do the beliefs of Buddhism and ...     [23.75, 13.8125]   \n",
       "3413  [Question: Do otters exhibit different lifespa...       [23.5, 26.625]   \n",
       "\n",
       "           golds  labelled  step  reuses  \n",
       "0             []       0.0     1     NaN  \n",
       "1             []       0.0     1     NaN  \n",
       "2     [4.5, 4.0]       0.0     1     NaN  \n",
       "3             []       1.0     1     NaN  \n",
       "4             []       1.0     1     NaN  \n",
       "...          ...       ...   ...     ...  \n",
       "3409          []     392.0   196     NaN  \n",
       "3410          []     392.0   196     NaN  \n",
       "3411          []     392.0   196     NaN  \n",
       "3412          []     392.0   196     NaN  \n",
       "3413          []     392.0   196     NaN  \n",
       "\n",
       "[3184 rows x 6 columns]"
      ]
     },
     "execution_count": 32,
     "metadata": {},
     "output_type": "execute_result"
    }
   ],
   "source": [
    "tmp"
   ]
  },
  {
   "cell_type": "code",
   "execution_count": 33,
   "id": "12174b91-fe41-4def-9efc-259bf48ce6c5",
   "metadata": {
    "scrolled": true
   },
   "outputs": [
    {
     "name": "stdout",
     "output_type": "stream",
     "text": [
      "0.4875\n"
     ]
    }
   ],
   "source": [
    "rat = 0\n",
    "ngs = []\n",
    "accs = []\n",
    "sind = 0\n",
    "for ind, row in tmp.iloc[sind:].iterrows():\n",
    "    # row['golds'] = get_synth_rewards(row['texts'], 'bagofwords')\n",
    "    if len(row['golds'])==0:\n",
    "        continue\n",
    "    if row['golds'][0]==row['golds'][1]:\n",
    "            continue\n",
    "    ngs.append(row['golds'])\n",
    "    if ((row['rewards'][0]>row['rewards'][1])!=(row['golds'][0]>row['golds'][1])):\n",
    "        rat+=1\n",
    "        accs.append(1)\n",
    "    else:\n",
    "        accs.append(0)\n",
    "#tmp['golds'] = ngs\n",
    "print(rat/len(ngs))"
   ]
  },
  {
   "cell_type": "code",
   "execution_count": 34,
   "id": "62c3b7ec-55b9-4d74-bcb6-42ce461b8ec8",
   "metadata": {},
   "outputs": [],
   "source": [
    "tot, corr = 0, 0\n",
    "vals = []\n",
    "interv = 25\n",
    "for j in range(0, len(accs), interv):\n",
    "    vals.append(mean(accs[j:j+50]))\n",
    "    # # check heuristic accuracy\n",
    "    # for i, row in tmp.iloc[j:j+interv].iterrows():\n",
    "    #     # if abs(row['rewards'][0]-row['rewards'][1])>row['thresh']:\n",
    "    #     if row['golds'][0]==row['golds'][1]:\n",
    "    #         continue\n",
    "    #     tot = tot+1\n",
    "    #     corr += 1 if ((row['rewards'][0]>row['rewards'][1])==(row['golds'][0]>row['golds'][1])) else 0\n",
    "    # vals.append(corr/tot)"
   ]
  },
  {
   "cell_type": "code",
   "execution_count": 35,
   "id": "4e146fa4-8fe3-4d32-8a9d-85227fe7c34b",
   "metadata": {},
   "outputs": [
    {
     "data": {
      "text/plain": [
       "<matplotlib.collections.PathCollection at 0x7f137876e380>"
      ]
     },
     "execution_count": 35,
     "metadata": {},
     "output_type": "execute_result"
    },
    {
     "data": {
      "image/png": "[encoded data removed]",
      "text/plain": [
       "<Figure size 640x480 with 1 Axes>"
      ]
     },
     "metadata": {},
     "output_type": "display_data"
    }
   ],
   "source": [
    "plt.scatter(range(len(vals)), vals)"
   ]
  },
  {
   "cell_type": "code",
   "execution_count": 38,
   "id": "7b57f63e-810f-4e58-a29c-8df30e12bf0c",
   "metadata": {},
   "outputs": [
    {
     "data": {
      "text/plain": [
       "<matplotlib.collections.PathCollection at 0x7f13337cf1f0>"
      ]
     },
     "execution_count": 38,
     "metadata": {},
     "output_type": "execute_result"
    },
    {
     "data": {
      "image/png": "[encoded data removed]",
      "text/plain": [
       "<Figure size 640x480 with 1 Axes>"
      ]
     },
     "metadata": {},
     "output_type": "display_data"
    }
   ],
   "source": [
    "means = [mean(m) for m in ngs]\n",
    "# means = [mean(m) for m in tmp['rewards']]\n",
    "\n",
    "interv = 10\n",
    "mbins = [mean(means[i:i+25]) for i in range(0, len(means), interv)]\n",
    "plt.scatter(range(len(mbins)), mbins)"
   ]
  },
  {
   "cell_type": "code",
   "execution_count": 171,
   "id": "0e9462f4-54e2-4666-a89c-66cddf3d8585",
   "metadata": {},
   "outputs": [
    {
     "data": {
      "text/plain": [
       "12.2"
      ]
     },
     "execution_count": 171,
     "metadata": {},
     "output_type": "execute_result"
    }
   ],
   "source": [
    "mean(means[-200:])"
   ]
  },
  {
   "cell_type": "code",
   "execution_count": 136,
   "id": "74f68674-b95a-455e-8474-e985ce919768",
   "metadata": {},
   "outputs": [
    {
     "data": {
      "text/plain": [
       "<matplotlib.collections.PathCollection at 0x7f5c63e65840>"
      ]
     },
     "execution_count": 136,
     "metadata": {},
     "output_type": "execute_result"
    },
    {
     "data": {
      "image/png": "[encoded data removed]",
      "text/plain": [
       "<Figure size 640x480 with 1 Axes>"
      ]
     },
     "metadata": {},
     "output_type": "display_data"
    }
   ],
   "source": [
    "means = [mean(m) for m in tmp['golds']]\n",
    "plt.scatter(range(len(means)), means)"
   ]
  },
  {
   "cell_type": "code",
   "execution_count": null,
   "id": "81693e69-b07a-4464-9feb-e93dcbb5f825",
   "metadata": {},
   "outputs": [],
   "source": []
  }
 ],
 "metadata": {
  "kernelspec": {
   "display_name": "Python 3 (ipykernel)",
   "language": "python",
   "name": "python3"
  },
  "language_info": {
   "codemirror_mode": {
    "name": "ipython",
    "version": 3
   },
   "file_extension": ".py",
   "mimetype": "text/x-python",
   "name": "python",
   "nbconvert_exporter": "python",
   "pygments_lexer": "ipython3",
   "version": "3.10.0"
  }
 },
 "nbformat": 4,
 "nbformat_minor": 5
}
