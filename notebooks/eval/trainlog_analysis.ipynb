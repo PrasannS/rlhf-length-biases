{
 "cells": [
  {
   "cell_type": "code",
   "execution_count": 1,
   "id": "70c5f653-b94e-4957-9cd0-2879f4d6a2b4",
   "metadata": {},
   "outputs": [
    {
     "name": "stderr",
     "output_type": "stream",
     "text": [
      "/u/prasanns/miniconda3/envs/rlhfenv/lib/python3.10/site-packages/tqdm/auto.py:21: TqdmWarning: IProgress not found. Please update jupyter and ipywidgets. See https://ipywidgets.readthedocs.io/en/stable/user_install.html\n",
      "  from .autonotebook import tqdm as notebook_tqdm\n"
     ]
    },
    {
     "name": "stdout",
     "output_type": "stream",
     "text": [
      "[2024-03-09 15:32:08,807] [INFO] [real_accelerator.py:110:get_accelerator] Setting ds_accelerator to cuda (auto detect)\n"
     ]
    },
    {
     "name": "stderr",
     "output_type": "stream",
     "text": [
      "/u/prasanns/miniconda3/envs/rlhfenv/lib/python3.10/site-packages/trl/trainer/ppo_config.py:142: UserWarning: The `optimize_cuda_cache` argument will be deprecated soon, please use `optimize_device_cache` instead.\n",
      "  warnings.warn(\n"
     ]
    }
   ],
   "source": [
    "import pandas as pd\n",
    "import matplotlib.pyplot as plt\n",
    "from statistics import mean\n",
    "from rlhfutils.rl_utils import get_synth_rewards\n",
    "from tqdm import tqdm\n",
    "from datasets import Dataset, concatenate_datasets"
   ]
  },
  {
   "cell_type": "code",
   "execution_count": 2,
   "id": "54e934a2-c001-4bc7-9a74-2e5603f98886",
   "metadata": {},
   "outputs": [],
   "source": [
    "%load_ext autoreload\n",
    "%autoreload 2"
   ]
  },
  {
   "cell_type": "code",
   "execution_count": 129,
   "id": "f23311d8-b3be-405e-bf17-1c16c0c64cd5",
   "metadata": {},
   "outputs": [],
   "source": [
    "ds = Dataset.load_from_disk(\"../../../active-rlhf/outputs/data/contrastivedistill/wikionpolicyprompts//\")"
   ]
  },
  {
   "cell_type": "code",
   "execution_count": 132,
   "id": "c1537f5b-3aa2-4bb0-b7c7-31d2d6b4c3ab",
   "metadata": {},
   "outputs": [
    {
     "data": {
      "text/plain": [
       "847570"
      ]
     },
     "execution_count": 132,
     "metadata": {},
     "output_type": "execute_result"
    }
   ],
   "source": [
    "len(concatenate_datasets([ds]*10))"
   ]
  },
  {
   "cell_type": "code",
   "execution_count": 3,
   "id": "e11ae19a-c943-4cb3-bc16-7464d83fd183",
   "metadata": {},
   "outputs": [],
   "source": [
    "# tlog = pd.read_json(\"../../outputs/bagofwords/dynarmlogs/expbow50_updatereprod_fix.jsonl\", orient='records', lines=True)\n",
    "# tlog = pd.read_json(\"../../../active-rlhf/outputs/results/dynarmlogs/bagofwords/expbow50_reprodtest_exact.jsonl\", orient='records', lines=True)\n",
    "tlog = pd.read_json(\"../../../active-rlhf/outputs/results/dynarmlogs/contrastivedistill/tiny_rm_conf_subsamp_bigrollout.jsonl\", orient='records', lines=True)"
   ]
  },
  {
   "cell_type": "code",
   "execution_count": 4,
   "id": "47ec32f4-bfbc-473e-96e4-cd753b42b86f",
   "metadata": {},
   "outputs": [
    {
     "data": {
      "text/plain": [
       "[\"Question: In the following months, several other apparitions were\\n\\nAnswer:  thought to coast on madness, and let's not pretend to believe that any of them was real.\\nLike facing money.\\nExcept Bitcoin.\\ncrappy? Read it\",\n",
       " 'Question: In the following months, several other apparitions were\\n\\nAnswer:  assumed...\\nHappy!                      I could go so long without seeing him.']"
      ]
     },
     "execution_count": 4,
     "metadata": {},
     "output_type": "execute_result"
    }
   ],
   "source": [
    "tlog['texts'][0]"
   ]
  },
  {
   "cell_type": "code",
   "execution_count": 53,
   "id": "cf107afa-97fd-4717-9866-06ef1f80518e",
   "metadata": {},
   "outputs": [],
   "source": [
    "# tlog = pd.read_json(\"../../../active-rlhf/outputs/results/rollouts/nouns/ppo_goldb8.jsonl\", orient='records', lines=True)\n",
    "# print(len(tlog))"
   ]
  },
  {
   "cell_type": "code",
   "execution_count": 54,
   "id": "5bfb4644-de9b-4dc9-b968-b3dd4f1c2676",
   "metadata": {},
   "outputs": [],
   "source": [
    "tmp = tlog\n",
    "tmp = tmp.dropna(subset='golds')"
   ]
  },
  {
   "cell_type": "code",
   "execution_count": 55,
   "id": "b716c506-debe-4dbb-a92c-f19c3d3022fd",
   "metadata": {},
   "outputs": [
    {
     "data": {
      "text/html": [
       "<div>\n",
       "<style scoped>\n",
       "    .dataframe tbody tr th:only-of-type {\n",
       "        vertical-align: middle;\n",
       "    }\n",
       "\n",
       "    .dataframe tbody tr th {\n",
       "        vertical-align: top;\n",
       "    }\n",
       "\n",
       "    .dataframe thead th {\n",
       "        text-align: right;\n",
       "    }\n",
       "</style>\n",
       "<table border=\"1\" class=\"dataframe\">\n",
       "  <thead>\n",
       "    <tr style=\"text-align: right;\">\n",
       "      <th></th>\n",
       "      <th>texts</th>\n",
       "      <th>rewards</th>\n",
       "      <th>golds</th>\n",
       "      <th>labelled</th>\n",
       "      <th>step</th>\n",
       "      <th>reuses</th>\n",
       "    </tr>\n",
       "  </thead>\n",
       "  <tbody>\n",
       "    <tr>\n",
       "      <th>0</th>\n",
       "      <td>[Question: In the following months, several ot...</td>\n",
       "      <td>[-0.1533203125, -0.0615234375]</td>\n",
       "      <td>[-0.15625, 0.015625]</td>\n",
       "      <td>0.0</td>\n",
       "      <td>1</td>\n",
       "      <td>NaN</td>\n",
       "    </tr>\n",
       "    <tr>\n",
       "      <th>1</th>\n",
       "      <td>[Question: Camels have long been domesticated ...</td>\n",
       "      <td>[0.07666015625, 0.023681640625]</td>\n",
       "      <td>[-0.125, -0.3125]</td>\n",
       "      <td>0.0</td>\n",
       "      <td>1</td>\n",
       "      <td>NaN</td>\n",
       "    </tr>\n",
       "    <tr>\n",
       "      <th>2</th>\n",
       "      <td>[Question: The source of the fallacy lies not ...</td>\n",
       "      <td>[-0.1943359375, -0.1787109375]</td>\n",
       "      <td>[-0.203125, -0.109375]</td>\n",
       "      <td>0.0</td>\n",
       "      <td>1</td>\n",
       "      <td>NaN</td>\n",
       "    </tr>\n",
       "    <tr>\n",
       "      <th>3</th>\n",
       "      <td>[Question: 1600 to 1046 BC based on the\\n\\nAns...</td>\n",
       "      <td>[-0.00634765625, 0.0230712890625]</td>\n",
       "      <td>[-0.3125, -0.25]</td>\n",
       "      <td>0.0</td>\n",
       "      <td>1</td>\n",
       "      <td>NaN</td>\n",
       "    </tr>\n",
       "    <tr>\n",
       "      <th>4</th>\n",
       "      <td>[Question: An object is a philosophical term o...</td>\n",
       "      <td>[0.234375, -0.185546875]</td>\n",
       "      <td>[-0.046875, -0.28125]</td>\n",
       "      <td>0.0</td>\n",
       "      <td>1</td>\n",
       "      <td>NaN</td>\n",
       "    </tr>\n",
       "    <tr>\n",
       "      <th>...</th>\n",
       "      <td>...</td>\n",
       "      <td>...</td>\n",
       "      <td>...</td>\n",
       "      <td>...</td>\n",
       "      <td>...</td>\n",
       "      <td>...</td>\n",
       "    </tr>\n",
       "    <tr>\n",
       "      <th>1340</th>\n",
       "      <td>[Question: The denomination 720 for this year ...</td>\n",
       "      <td>[-2.21875, -0.10205078125]</td>\n",
       "      <td>[-0.46875000000000006, -0.1328125]</td>\n",
       "      <td>80.0</td>\n",
       "      <td>20</td>\n",
       "      <td>NaN</td>\n",
       "    </tr>\n",
       "    <tr>\n",
       "      <th>1341</th>\n",
       "      <td>[Question: January 3 \\n War of the Sixth Coali...</td>\n",
       "      <td>[-1.578125, -1.609375]</td>\n",
       "      <td>[-0.125, -0.25]</td>\n",
       "      <td>80.0</td>\n",
       "      <td>20</td>\n",
       "      <td>NaN</td>\n",
       "    </tr>\n",
       "    <tr>\n",
       "      <th>1342</th>\n",
       "      <td>[Question: It documents the story of human cul...</td>\n",
       "      <td>[-0.078125, -0.10302734375]</td>\n",
       "      <td>[0.0, -0.109375]</td>\n",
       "      <td>80.0</td>\n",
       "      <td>20</td>\n",
       "      <td>NaN</td>\n",
       "    </tr>\n",
       "    <tr>\n",
       "      <th>1343</th>\n",
       "      <td>[Question: In the 1990s, foreign relations, es...</td>\n",
       "      <td>[-0.130859375, -0.8437500000000001]</td>\n",
       "      <td>[-0.140625, -0.375]</td>\n",
       "      <td>80.0</td>\n",
       "      <td>20</td>\n",
       "      <td>NaN</td>\n",
       "    </tr>\n",
       "    <tr>\n",
       "      <th>1344</th>\n",
       "      <td>[Question: Orchidaceae ( ), commonly called th...</td>\n",
       "      <td>[-0.12451171874999999, -1.4140625]</td>\n",
       "      <td>[0.15625, -0.1875]</td>\n",
       "      <td>80.0</td>\n",
       "      <td>20</td>\n",
       "      <td>NaN</td>\n",
       "    </tr>\n",
       "  </tbody>\n",
       "</table>\n",
       "<p>1280 rows × 6 columns</p>\n",
       "</div>"
      ],
      "text/plain": [
       "                                                  texts  \\\n",
       "0     [Question: In the following months, several ot...   \n",
       "1     [Question: Camels have long been domesticated ...   \n",
       "2     [Question: The source of the fallacy lies not ...   \n",
       "3     [Question: 1600 to 1046 BC based on the\\n\\nAns...   \n",
       "4     [Question: An object is a philosophical term o...   \n",
       "...                                                 ...   \n",
       "1340  [Question: The denomination 720 for this year ...   \n",
       "1341  [Question: January 3 \\n War of the Sixth Coali...   \n",
       "1342  [Question: It documents the story of human cul...   \n",
       "1343  [Question: In the 1990s, foreign relations, es...   \n",
       "1344  [Question: Orchidaceae ( ), commonly called th...   \n",
       "\n",
       "                                  rewards                               golds  \\\n",
       "0          [-0.1533203125, -0.0615234375]                [-0.15625, 0.015625]   \n",
       "1         [0.07666015625, 0.023681640625]                   [-0.125, -0.3125]   \n",
       "2          [-0.1943359375, -0.1787109375]              [-0.203125, -0.109375]   \n",
       "3       [-0.00634765625, 0.0230712890625]                    [-0.3125, -0.25]   \n",
       "4                [0.234375, -0.185546875]               [-0.046875, -0.28125]   \n",
       "...                                   ...                                 ...   \n",
       "1340           [-2.21875, -0.10205078125]  [-0.46875000000000006, -0.1328125]   \n",
       "1341               [-1.578125, -1.609375]                     [-0.125, -0.25]   \n",
       "1342          [-0.078125, -0.10302734375]                    [0.0, -0.109375]   \n",
       "1343  [-0.130859375, -0.8437500000000001]                 [-0.140625, -0.375]   \n",
       "1344   [-0.12451171874999999, -1.4140625]                  [0.15625, -0.1875]   \n",
       "\n",
       "      labelled  step  reuses  \n",
       "0          0.0     1     NaN  \n",
       "1          0.0     1     NaN  \n",
       "2          0.0     1     NaN  \n",
       "3          0.0     1     NaN  \n",
       "4          0.0     1     NaN  \n",
       "...        ...   ...     ...  \n",
       "1340      80.0    20     NaN  \n",
       "1341      80.0    20     NaN  \n",
       "1342      80.0    20     NaN  \n",
       "1343      80.0    20     NaN  \n",
       "1344      80.0    20     NaN  \n",
       "\n",
       "[1280 rows x 6 columns]"
      ]
     },
     "execution_count": 55,
     "metadata": {},
     "output_type": "execute_result"
    }
   ],
   "source": [
    "tmp"
   ]
  },
  {
   "cell_type": "code",
   "execution_count": 56,
   "id": "12174b91-fe41-4def-9efc-259bf48ce6c5",
   "metadata": {
    "scrolled": true
   },
   "outputs": [
    {
     "name": "stdout",
     "output_type": "stream",
     "text": [
      "0.39609375\n"
     ]
    },
    {
     "name": "stderr",
     "output_type": "stream",
     "text": [
      "/tmp/ipykernel_3407016/2034297275.py:9: SettingWithCopyWarning: \n",
      "A value is trying to be set on a copy of a slice from a DataFrame.\n",
      "Try using .loc[row_indexer,col_indexer] = value instead\n",
      "\n",
      "See the caveats in the documentation: https://pandas.pydata.org/pandas-docs/stable/user_guide/indexing.html#returning-a-view-versus-a-copy\n",
      "  tmp['golds'] = ngs\n"
     ]
    }
   ],
   "source": [
    "rat = 0\n",
    "ngs = []\n",
    "sind = 0\n",
    "for ind, row in tmp.iloc[sind:].iterrows():\n",
    "    # row['golds'] = get_synth_rewards(row['texts'], 'bagofwords')\n",
    "    ngs.append(row['golds'])\n",
    "    if ((row['rewards'][0]>row['rewards'][1])!=(row['golds'][0]>row['golds'][1])):\n",
    "        rat+=1\n",
    "tmp['golds'] = ngs\n",
    "print(rat/len(tmp))"
   ]
  },
  {
   "cell_type": "code",
   "execution_count": 57,
   "id": "6f66bac3-f379-400c-b39f-3de15e98e14b",
   "metadata": {},
   "outputs": [
    {
     "data": {
      "text/plain": [
       "[\"Question: The source of the fallacy lies not in an invalid\\n\\nAnswer:  point of view - friends and co-workers should be able to be reasoned with.\\nI think you're onrushing the question.    Regarding your main complaint:  Try tapping down the biggest and most important channels on your\",\n",
       " \"Question: The source of the fallacy lies not in an invalid\\n\\nAnswer:  analysis of the tables.\\nThank you for attacking the straws ;)\\nThat's not what I'm pointing to.  Kettering just doesn't give the table any credibility. ;)\"]"
      ]
     },
     "execution_count": 57,
     "metadata": {},
     "output_type": "execute_result"
    }
   ],
   "source": [
    "tmp['texts'][2]"
   ]
  },
  {
   "cell_type": "code",
   "execution_count": 58,
   "id": "8269919e-90e0-4299-beb9-8b561fb77be4",
   "metadata": {},
   "outputs": [
    {
     "data": {
      "text/html": [
       "<div>\n",
       "<style scoped>\n",
       "    .dataframe tbody tr th:only-of-type {\n",
       "        vertical-align: middle;\n",
       "    }\n",
       "\n",
       "    .dataframe tbody tr th {\n",
       "        vertical-align: top;\n",
       "    }\n",
       "\n",
       "    .dataframe thead th {\n",
       "        text-align: right;\n",
       "    }\n",
       "</style>\n",
       "<table border=\"1\" class=\"dataframe\">\n",
       "  <thead>\n",
       "    <tr style=\"text-align: right;\">\n",
       "      <th></th>\n",
       "      <th>texts</th>\n",
       "      <th>rewards</th>\n",
       "      <th>golds</th>\n",
       "      <th>labelled</th>\n",
       "      <th>step</th>\n",
       "      <th>reuses</th>\n",
       "    </tr>\n",
       "  </thead>\n",
       "  <tbody>\n",
       "    <tr>\n",
       "      <th>0</th>\n",
       "      <td>[Question: In the following months, several ot...</td>\n",
       "      <td>[-0.1533203125, -0.0615234375]</td>\n",
       "      <td>[-0.15625, 0.015625]</td>\n",
       "      <td>0.0</td>\n",
       "      <td>1</td>\n",
       "      <td>NaN</td>\n",
       "    </tr>\n",
       "    <tr>\n",
       "      <th>1</th>\n",
       "      <td>[Question: Camels have long been domesticated ...</td>\n",
       "      <td>[0.07666015625, 0.023681640625]</td>\n",
       "      <td>[-0.125, -0.3125]</td>\n",
       "      <td>0.0</td>\n",
       "      <td>1</td>\n",
       "      <td>NaN</td>\n",
       "    </tr>\n",
       "    <tr>\n",
       "      <th>2</th>\n",
       "      <td>[Question: The source of the fallacy lies not ...</td>\n",
       "      <td>[-0.1943359375, -0.1787109375]</td>\n",
       "      <td>[-0.203125, -0.109375]</td>\n",
       "      <td>0.0</td>\n",
       "      <td>1</td>\n",
       "      <td>NaN</td>\n",
       "    </tr>\n",
       "    <tr>\n",
       "      <th>3</th>\n",
       "      <td>[Question: 1600 to 1046 BC based on the\\n\\nAns...</td>\n",
       "      <td>[-0.00634765625, 0.0230712890625]</td>\n",
       "      <td>[-0.3125, -0.25]</td>\n",
       "      <td>0.0</td>\n",
       "      <td>1</td>\n",
       "      <td>NaN</td>\n",
       "    </tr>\n",
       "    <tr>\n",
       "      <th>4</th>\n",
       "      <td>[Question: An object is a philosophical term o...</td>\n",
       "      <td>[0.234375, -0.185546875]</td>\n",
       "      <td>[-0.046875, -0.28125]</td>\n",
       "      <td>0.0</td>\n",
       "      <td>1</td>\n",
       "      <td>NaN</td>\n",
       "    </tr>\n",
       "    <tr>\n",
       "      <th>...</th>\n",
       "      <td>...</td>\n",
       "      <td>...</td>\n",
       "      <td>...</td>\n",
       "      <td>...</td>\n",
       "      <td>...</td>\n",
       "      <td>...</td>\n",
       "    </tr>\n",
       "    <tr>\n",
       "      <th>1340</th>\n",
       "      <td>[Question: The denomination 720 for this year ...</td>\n",
       "      <td>[-2.21875, -0.10205078125]</td>\n",
       "      <td>[-0.46875000000000006, -0.1328125]</td>\n",
       "      <td>80.0</td>\n",
       "      <td>20</td>\n",
       "      <td>NaN</td>\n",
       "    </tr>\n",
       "    <tr>\n",
       "      <th>1341</th>\n",
       "      <td>[Question: January 3 \\n War of the Sixth Coali...</td>\n",
       "      <td>[-1.578125, -1.609375]</td>\n",
       "      <td>[-0.125, -0.25]</td>\n",
       "      <td>80.0</td>\n",
       "      <td>20</td>\n",
       "      <td>NaN</td>\n",
       "    </tr>\n",
       "    <tr>\n",
       "      <th>1342</th>\n",
       "      <td>[Question: It documents the story of human cul...</td>\n",
       "      <td>[-0.078125, -0.10302734375]</td>\n",
       "      <td>[0.0, -0.109375]</td>\n",
       "      <td>80.0</td>\n",
       "      <td>20</td>\n",
       "      <td>NaN</td>\n",
       "    </tr>\n",
       "    <tr>\n",
       "      <th>1343</th>\n",
       "      <td>[Question: In the 1990s, foreign relations, es...</td>\n",
       "      <td>[-0.130859375, -0.8437500000000001]</td>\n",
       "      <td>[-0.140625, -0.375]</td>\n",
       "      <td>80.0</td>\n",
       "      <td>20</td>\n",
       "      <td>NaN</td>\n",
       "    </tr>\n",
       "    <tr>\n",
       "      <th>1344</th>\n",
       "      <td>[Question: Orchidaceae ( ), commonly called th...</td>\n",
       "      <td>[-0.12451171874999999, -1.4140625]</td>\n",
       "      <td>[0.15625, -0.1875]</td>\n",
       "      <td>80.0</td>\n",
       "      <td>20</td>\n",
       "      <td>NaN</td>\n",
       "    </tr>\n",
       "  </tbody>\n",
       "</table>\n",
       "<p>1280 rows × 6 columns</p>\n",
       "</div>"
      ],
      "text/plain": [
       "                                                  texts  \\\n",
       "0     [Question: In the following months, several ot...   \n",
       "1     [Question: Camels have long been domesticated ...   \n",
       "2     [Question: The source of the fallacy lies not ...   \n",
       "3     [Question: 1600 to 1046 BC based on the\\n\\nAns...   \n",
       "4     [Question: An object is a philosophical term o...   \n",
       "...                                                 ...   \n",
       "1340  [Question: The denomination 720 for this year ...   \n",
       "1341  [Question: January 3 \\n War of the Sixth Coali...   \n",
       "1342  [Question: It documents the story of human cul...   \n",
       "1343  [Question: In the 1990s, foreign relations, es...   \n",
       "1344  [Question: Orchidaceae ( ), commonly called th...   \n",
       "\n",
       "                                  rewards                               golds  \\\n",
       "0          [-0.1533203125, -0.0615234375]                [-0.15625, 0.015625]   \n",
       "1         [0.07666015625, 0.023681640625]                   [-0.125, -0.3125]   \n",
       "2          [-0.1943359375, -0.1787109375]              [-0.203125, -0.109375]   \n",
       "3       [-0.00634765625, 0.0230712890625]                    [-0.3125, -0.25]   \n",
       "4                [0.234375, -0.185546875]               [-0.046875, -0.28125]   \n",
       "...                                   ...                                 ...   \n",
       "1340           [-2.21875, -0.10205078125]  [-0.46875000000000006, -0.1328125]   \n",
       "1341               [-1.578125, -1.609375]                     [-0.125, -0.25]   \n",
       "1342          [-0.078125, -0.10302734375]                    [0.0, -0.109375]   \n",
       "1343  [-0.130859375, -0.8437500000000001]                 [-0.140625, -0.375]   \n",
       "1344   [-0.12451171874999999, -1.4140625]                  [0.15625, -0.1875]   \n",
       "\n",
       "      labelled  step  reuses  \n",
       "0          0.0     1     NaN  \n",
       "1          0.0     1     NaN  \n",
       "2          0.0     1     NaN  \n",
       "3          0.0     1     NaN  \n",
       "4          0.0     1     NaN  \n",
       "...        ...   ...     ...  \n",
       "1340      80.0    20     NaN  \n",
       "1341      80.0    20     NaN  \n",
       "1342      80.0    20     NaN  \n",
       "1343      80.0    20     NaN  \n",
       "1344      80.0    20     NaN  \n",
       "\n",
       "[1280 rows x 6 columns]"
      ]
     },
     "execution_count": 58,
     "metadata": {},
     "output_type": "execute_result"
    }
   ],
   "source": [
    "tmp"
   ]
  },
  {
   "cell_type": "code",
   "execution_count": 59,
   "id": "62c3b7ec-55b9-4d74-bcb6-42ce461b8ec8",
   "metadata": {},
   "outputs": [],
   "source": [
    "tot, corr = 0, 0\n",
    "vals = []\n",
    "for j in range(0, len(tmp), 50):\n",
    "    # check heuristic accuracy\n",
    "    for i, row in tmp.iloc[j:j+50].iterrows():\n",
    "        # if abs(row['rewards'][0]-row['rewards'][1])>row['thresh']:\n",
    "        if row['golds'][0]==row['golds'][1]:\n",
    "            continue\n",
    "        tot = tot+1\n",
    "        corr += 1 if ((row['rewards'][0]>row['rewards'][1])==(row['golds'][0]>row['golds'][1])) else 0\n",
    "    vals.append(corr/tot)"
   ]
  },
  {
   "cell_type": "code",
   "execution_count": 60,
   "id": "4e146fa4-8fe3-4d32-8a9d-85227fe7c34b",
   "metadata": {},
   "outputs": [
    {
     "data": {
      "text/plain": [
       "<matplotlib.collections.PathCollection at 0x7f2b335a2c80>"
      ]
     },
     "execution_count": 60,
     "metadata": {},
     "output_type": "execute_result"
    },
    {
     "data": {
      "image/png": "[encoded data removed]",
      "text/plain": [
       "<Figure size 640x480 with 1 Axes>"
      ]
     },
     "metadata": {},
     "output_type": "display_data"
    }
   ],
   "source": [
    "plt.scatter(range(len(vals)), vals)"
   ]
  },
  {
   "cell_type": "code",
   "execution_count": 61,
   "id": "7b57f63e-810f-4e58-a29c-8df30e12bf0c",
   "metadata": {},
   "outputs": [
    {
     "data": {
      "text/plain": [
       "<matplotlib.collections.PathCollection at 0x7f2c1d20e410>"
      ]
     },
     "execution_count": 61,
     "metadata": {},
     "output_type": "execute_result"
    },
    {
     "data": {
      "image/png": "[encoded data removed]",
      "text/plain": [
       "<Figure size 640x480 with 1 Axes>"
      ]
     },
     "metadata": {},
     "output_type": "display_data"
    }
   ],
   "source": [
    "means = [mean(m) for m in tmp['golds']]\n",
    "interv =10\n",
    "mbins = [mean(means[i:i+interv]) for i in range(0, len(means), interv)]\n",
    "plt.scatter(range(len(mbins)), mbins)"
   ]
  },
  {
   "cell_type": "code",
   "execution_count": 62,
   "id": "0e9462f4-54e2-4666-a89c-66cddf3d8585",
   "metadata": {},
   "outputs": [
    {
     "data": {
      "text/plain": [
       "-0.1393359375"
      ]
     },
     "execution_count": 62,
     "metadata": {},
     "output_type": "execute_result"
    }
   ],
   "source": [
    "mean(means[-200:])"
   ]
  },
  {
   "cell_type": "code",
   "execution_count": 17,
   "id": "74f68674-b95a-455e-8474-e985ce919768",
   "metadata": {},
   "outputs": [
    {
     "data": {
      "text/plain": [
       "<matplotlib.collections.PathCollection at 0x7f2c1dd94550>"
      ]
     },
     "execution_count": 17,
     "metadata": {},
     "output_type": "execute_result"
    },
    {
     "data": {
      "image/png": "[encoded data removed]",
      "text/plain": [
       "<Figure size 640x480 with 1 Axes>"
      ]
     },
     "metadata": {},
     "output_type": "display_data"
    }
   ],
   "source": [
    "means = [mean(m) for m in tmp['golds']]\n",
    "plt.scatter(range(len(means)), means)"
   ]
  },
  {
   "cell_type": "code",
   "execution_count": null,
   "id": "81693e69-b07a-4464-9feb-e93dcbb5f825",
   "metadata": {},
   "outputs": [],
   "source": []
  }
 ],
 "metadata": {
  "kernelspec": {
   "display_name": "Python 3 (ipykernel)",
   "language": "python",
   "name": "python3"
  },
  "language_info": {
   "codemirror_mode": {
    "name": "ipython",
    "version": 3
   },
   "file_extension": ".py",
   "mimetype": "text/x-python",
   "name": "python",
   "nbconvert_exporter": "python",
   "pygments_lexer": "ipython3",
   "version": "3.10.0"
  }
 },
 "nbformat": 4,
 "nbformat_minor": 5
}
