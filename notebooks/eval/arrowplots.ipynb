{
 "cells": [
  {
   "cell_type": "code",
   "execution_count": null,
   "id": "11d8ebbe-303e-4bff-8c57-556bd7a05040",
   "metadata": {},
   "outputs": [],
   "source": [
    "from rlhfutils.eval_utils import oai_kwargs, load_alldfs, annotate_apfarm, apf_format, load_wgpt, filter_and_sort_df\n",
    "import pandas as pd\n",
    "from statistics import mean, stdev\n",
    "import matplotlib.pyplot as plt\n",
    "import re\n",
    "from transformers import AutoTokenizer\n",
    "from datasets import load_dataset\n",
    "import openai\n",
    "from rlhfutils.data import qaform\n",
    "from transformers import AutoTokenizer\n",
    "import pandas as pd\n",
    "from rlhfutils.eval_utils import getapfsft, tok_dist\n",
    "import matplotlib.pyplot as plt\n",
    "from rlhfutils.debug_utils import load_rm, progress_rm\n",
    "import argparse\n",
    "import nltk\n",
    "from nltk.tokenize import sent_tokenize\n",
    "import random\n",
    "import numpy as np\n",
    "import seaborn as sns\n",
    "import matplotlib.pyplot as plt\n",
    "import matplotlib.gridspec as gridspec\n",
    "import pickle\n",
    "from plot_utils import fancyscatter"
   ]
  },
  {
   "cell_type": "code",
   "execution_count": null,
   "id": "2a79a749-0517-47bd-bfbe-6ede439ae6d3",
   "metadata": {},
   "outputs": [],
   "source": [
    "%load_ext autoreload\n",
    "%autoreload 2"
   ]
  },
  {
   "cell_type": "code",
   "execution_count": null,
   "id": "c1d6a35e-4b39-44f3-a8cb-294987a8515e",
   "metadata": {},
   "outputs": [],
   "source": [
    "wgs = load_alldfs(\"../trl-general/genouts/wgpt//\", 400, False)\n",
    "rlcds = load_alldfs(\"../trl-general/genouts/rlcdfix/\", 800, False)\n",
    "stacks = load_alldfs(\"../trl-general/genouts/stack/\", 400, False)"
   ]
  },
  {
   "cell_type": "code",
   "execution_count": null,
   "id": "56e1a785-89be-4bb6-a52a-365fc2fa589c",
   "metadata": {},
   "outputs": [],
   "source": [
    "# given a dataframe, use rm to get rmscos if it doesn't already have them. \n",
    "# then bin / mean at intervals of 10 tokens and return lists for a scatter\n",
    "def score_rm(indf, rm):\n",
    "    indf['qstrs'] = [qaform(r['question'], r['response']) for _, r in indf.iterrows()]\n",
    "    rewards = progress_rm(list(indf['qstrs']), rm, kwargs)\n",
    "    scos = [a[0]['score'] for a in rewards]\n",
    "    indf['rewards'] = scos"
   ]
  },
  {
   "cell_type": "code",
   "execution_count": null,
   "id": "ee34efe2-4d3a-4e30-8aaf-70f01f1b03f8",
   "metadata": {},
   "outputs": [],
   "source": [
    "rlcds['rlcdsftv3']['question'][0]"
   ]
  },
  {
   "cell_type": "code",
   "execution_count": null,
   "id": "dd1cadfa-c891-499f-8304-793ff19230ce",
   "metadata": {},
   "outputs": [],
   "source": [
    "# webgpt get stuff for figures\n",
    "#adfs = load_alldfs(\"../trl-general/genouts/wgpt//\")\n",
    "tok, rm, kwargs = load_rm(\"/home/prasann/Projects/rlhf-exploration/webgpt-llama/models/rewardmodel\", 0)"
   ]
  },
  {
   "cell_type": "code",
   "execution_count": null,
   "id": "c9be6473-3a59-4faa-9725-9a0cf2f37a69",
   "metadata": {},
   "outputs": [],
   "source": [
    "score_dfs = ['wgptrwscale', 'wgptsft', 'wgptppoorig', 'wgpthkllate', 'wgptthrowlong']\n",
    "# score_dfs = ['wgptsft', 'wgptppoorig', 'wgpthkllate']\n",
    "for s in score_dfs:\n",
    "    score_rm(wgs[s], rm)"
   ]
  },
  {
   "cell_type": "code",
   "execution_count": null,
   "id": "a394fb07-c751-4794-ac7c-2250fc290fad",
   "metadata": {},
   "outputs": [],
   "source": [
    "# stack get stuff for figures\n",
    "tok, rm, kwargs = load_rm(\"/mnt/data1/prasann/rlhf-exploration/stack-llama/models/rewardsanity/\", 0)\n",
    "#adfs = load_alldfs(\"../trl-general/genouts/stack/\")\n",
    "score_dfs = ['stacksft', 'stackorigrerun', 'stackhkl']\n",
    "for s in score_dfs:\n",
    "    score_rm(stacks[s], rm)"
   ]
  },
  {
   "cell_type": "code",
   "execution_count": null,
   "id": "aef298c9-05e0-498e-bb84-13285fa6f082",
   "metadata": {},
   "outputs": [],
   "source": [
    "rlcds.keys()"
   ]
  },
  {
   "cell_type": "code",
   "execution_count": null,
   "id": "c96d4745-4cc8-416f-8a3b-b4fb1bb31c30",
   "metadata": {},
   "outputs": [],
   "source": [
    "# rlcd get stuff for figures\n",
    "tok, rm, kwargs = load_rm(\"/home/prasann/Projects/rlhf-exploration/models/rewards/rlcdnormal\", 0)"
   ]
  },
  {
   "cell_type": "code",
   "execution_count": null,
   "id": "a6f0ae73-4060-4848-86b8-a21032bd066c",
   "metadata": {},
   "outputs": [],
   "source": [
    "adfs = load_alldfs(\"../trl-general/genouts/rlcdfix/\")"
   ]
  },
  {
   "cell_type": "code",
   "execution_count": null,
   "id": "d0991830-0f4f-4d8a-bae5-db5131032cd8",
   "metadata": {},
   "outputs": [],
   "source": [
    "score_dfs = ['rlcdorigv3', 'rlcdhkl', 'rlcdlenpen', 'rlcdrwscale']\n",
    "for s in score_dfs:\n",
    "    score_rm(rlcds[s], rm)"
   ]
  },
  {
   "cell_type": "code",
   "execution_count": null,
   "id": "71edd953-1a02-4f6e-9e83-de642486f374",
   "metadata": {},
   "outputs": [],
   "source": [
    "rlcdnames = ['rlcdsftv3', 'rlcdhkl', 'rlcdhkl']\n",
    "stacknames = ['stacksft', 'stackhkl', 'stackhkl']\n",
    "wgptnames = ['wgptsft', 'wgpthkllate', 'wgpthkllate']"
   ]
  },
  {
   "cell_type": "code",
   "execution_count": null,
   "id": "373d97b0-919e-494d-bf3b-216516be8467",
   "metadata": {},
   "outputs": [],
   "source": [
    "with open('wgptdata.pkl', 'rb') as f:\n",
    "    wgs = pickle.load(f)\n",
    "with open('rlcddata.pkl', 'rb') as f:\n",
    "    rlcds = pickle.load(f)\n",
    "with open('stackdata.pkl', 'rb') as f:\n",
    "    stacks = pickle.load(f)"
   ]
  },
  {
   "cell_type": "code",
   "execution_count": null,
   "id": "76245e33-0edb-455a-bb41-42a7a53748d3",
   "metadata": {},
   "outputs": [],
   "source": [
    "fig, axes = plt.subplots(1, 3, figsize=(13, 3.5), sharey=False)\n",
    "# fig.suptitle('Initial Pokemon - 1st Generation')\n",
    "bwidth = 30\n",
    "sns.color_palette(\"deep\",8)\n",
    "hexs = sns.color_palette(\"deep\",8).as_hex()\n",
    "color_1, color2 = hexs[0], hexs[1]\n",
    "palette ={'sft': color_1, 'ppo': color2}\n",
    "fancyscatter(wgptnames, 'W-GPT', wgs, axes[0])\n",
    "fancyscatter(stacknames, 'Stack', stacks, axes[1])\n",
    "fancyscatter(rlcdnames, 'RLCD', rlcds, axes[2])\n",
    "fig.tight_layout()"
   ]
  },
  {
   "cell_type": "code",
   "execution_count": null,
   "id": "fccd6164-1b18-4711-9c84-d49863911446",
   "metadata": {},
   "outputs": [],
   "source": [
    "fig, axes = plt.subplots(1, 3, figsize=(13, 3.5), sharey=False)\n",
    "# fig.suptitle('Initial Pokemon - 1st Generation')\n",
    "bwidth = 30\n",
    "sns.color_palette(\"deep\",8)\n",
    "hexs = sns.color_palette(\"deep\",8).as_hex()\n",
    "color_1, color2 = hexs[0], hexs[1]\n",
    "palette ={'sft': color_1, 'ppo': color2}\n",
    "fancyscatter(rlcdlenpen, 'Len Penalty', rlcds, axes[0])\n",
    "fancyscatter(rlcdhkl, 'HKL', rlcds, axes[1])\n",
    "fancyscatter(rlcdrwscale, 'RW-SC', rlcds, axes[2])\n",
    "fig.tight_layout()"
   ]
  },
  {
   "cell_type": "code",
   "execution_count": null,
   "id": "d8e79033-915a-4886-b883-f775924eafa8",
   "metadata": {},
   "outputs": [],
   "source": [
    "fig.savefig('hkl_lengthbins.pdf')"
   ]
  },
  {
   "cell_type": "code",
   "execution_count": null,
   "id": "2aad2858-ead1-4cd4-bc87-cb03b9b8a8bf",
   "metadata": {},
   "outputs": [],
   "source": [
    "import matplotlib as mp"
   ]
  },
  {
   "cell_type": "code",
   "execution_count": null,
   "id": "9526aebd-90a5-4009-b045-33d4d81fe668",
   "metadata": {},
   "outputs": [],
   "source": [
    "#plt.savefig(\"arrows/webgptarrows.pdf\", format=\"pdf\", bbox_inches=\"tight\")"
   ]
  },
  {
   "cell_type": "code",
   "execution_count": null,
   "id": "51867831-6623-4886-b259-7a468b371545",
   "metadata": {},
   "outputs": [],
   "source": [
    "fancyscatter(rlcdnames, 'RLCD', rlcds)\n",
    "plt.savefig(\"arrows/rlcdarrows.pdf\", format=\"pdf\", bbox_inches=\"tight\")"
   ]
  },
  {
   "cell_type": "code",
   "execution_count": null,
   "id": "86ba94d2-43fe-4d8e-9572-e3df6f2d90e2",
   "metadata": {},
   "outputs": [],
   "source": [
    "fancyscatter(stacknames, 'Stack', stacks)\n",
    "plt.savefig(\"arrows/stackarrows.pdf\", format=\"pdf\", bbox_inches=\"tight\")"
   ]
  },
  {
   "cell_type": "code",
   "execution_count": null,
   "id": "3b907957-d082-4342-a92d-891d8c2bcf27",
   "metadata": {},
   "outputs": [],
   "source": []
  }
 ],
 "metadata": {
  "kernelspec": {
   "display_name": "Python 3 (ipykernel)",
   "language": "python",
   "name": "python3"
  },
  "language_info": {
   "codemirror_mode": {
    "name": "ipython",
    "version": 3
   },
   "file_extension": ".py",
   "mimetype": "text/x-python",
   "name": "python",
   "nbconvert_exporter": "python",
   "pygments_lexer": "ipython3",
   "version": "3.9.0"
  }
 },
 "nbformat": 4,
 "nbformat_minor": 5
}
