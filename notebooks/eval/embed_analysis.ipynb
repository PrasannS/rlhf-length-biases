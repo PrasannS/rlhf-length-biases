{
 "cells": [
  {
   "cell_type": "code",
   "execution_count": 17,
   "id": "e7e746eb-4189-47b8-888b-3f7ab192de5f",
   "metadata": {},
   "outputs": [],
   "source": [
    "import torch\n",
    "from transformers import AutoModelForCausalLM, AutoTokenizer\n",
    "import pickle\n",
    "from datasets import Dataset\n",
    "from tqdm import tqdm\n",
    "import pandas as pd\n",
    "from rlhfutils.rl_utils import scobow\n",
    "from statistics import mean, stdev\n",
    "import matplotlib.pyplot as plt\n",
    "import random\n",
    "from sklearn.manifold import TSNE\n",
    "import numpy as np"
   ]
  },
  {
   "cell_type": "code",
   "execution_count": 44,
   "id": "8a4a0dfd-c9c9-48e5-b765-84f9f97555fa",
   "metadata": {},
   "outputs": [],
   "source": [
    "# Load the OPT model and tokenizer\n",
    "model_name = \"../../models/rewards/expbow50/\"\n",
    "# model_name = \"facebook/opt-125m\"\n",
    "tokenizer = AutoTokenizer.from_pretrained(model_name, max_length=512)\n",
    "model = AutoModelForCausalLM.from_pretrained(model_name, device_map=3)"
   ]
  },
  {
   "cell_type": "code",
   "execution_count": 45,
   "id": "239809d7-acbf-4c77-b6d8-9ff6477dd4b8",
   "metadata": {},
   "outputs": [],
   "source": [
    "# Function to get embeddings\n",
    "def get_embeddings(batch):\n",
    "    inputs = tokenizer(batch, truncation=True, padding=True, return_tensors=\"pt\", max_length=512).to(model.device)\n",
    "    with torch.no_grad():\n",
    "        outputs = model(**inputs, output_hidden_states=True)\n",
    "    hidden_states = outputs.hidden_states\n",
    "    return hidden_states[-1].mean(dim=1).tolist()  # Return the average of the last layer's hidden states\n",
    "\n",
    "def data_proc_embeds(dataset, batch_size=32): \n",
    "    jinps = [\"Question: \"+ex['question'].strip()+\"\\n\\nAnswer: \"+ex['response_j'].strip() for ex in dataset]\n",
    "    kinps = [\"Question: \"+ex['question'].strip()+\"\\n\\nAnswer: \"+ex['response_k'].strip() for ex in dataset]\n",
    "    j_embs = []\n",
    "    k_embs = []\n",
    "    for i in tqdm(range(0, len(jinps), batch_size)):\n",
    "        j_embs.extend(get_embeddings(jinps[i:i+batch_size]))\n",
    "        k_embs.extend(get_embeddings(kinps[i:i+batch_size]))\n",
    "    dataset = dataset.add_column('j_embed', j_embs)\n",
    "    dataset = dataset.add_column('k_embed', k_embs)\n",
    "    return dataset\n",
    "\n",
    "def process_dset(df, interv=2):\n",
    "    # Prepare a list to store the new rows\n",
    "    new_rows = []\n",
    "    \n",
    "    # Iterate over each row in the DataFrame\n",
    "    for _, row in df.iterrows():\n",
    "        questions = row['inputs']\n",
    "        responses = row['outputs']\n",
    "        scores = row['goldrewards']\n",
    "        for i in range(0, len(row['inputs']), interv): \n",
    "            j = i+1\n",
    "            \n",
    "            # TODO make interval logic more interesting\n",
    "            assert questions[i]==questions[j]\n",
    "            # Compare scores and assign to response_j/k and score_j/k\n",
    "            if scores[i] > scores[j]:\n",
    "                new_row = {'question':questions[i], 'response_j': responses[i], 'score_j': scores[i],\n",
    "                           'response_k': responses[j], 'score_k': scores[j], 'rm_j': row['rewards'][i], 'rm_k':row['rewards'][j], 'step':row['step']}\n",
    "            else:\n",
    "                new_row = {'question':questions[i], 'response_j': responses[j], 'score_j': scores[j],\n",
    "                           'response_k': responses[i], 'score_k': scores[i], 'rm_j': row['rewards'][j], 'rm_k':row['rewards'][i], 'step':row['step']}\n",
    "\n",
    "            new_rows.append(new_row)\n",
    "    return Dataset.from_list(new_rows)\n",
    "\n",
    "def getfrac(dset, exs=1000, log=False): \n",
    "    inds = list(range(len(dset)))\n",
    "    sampinds = random.sample(inds, exs)\n",
    "    if log:\n",
    "        print(sampinds[:20])\n",
    "    return dset.select(sampinds)"
   ]
  },
  {
   "cell_type": "code",
   "execution_count": 6,
   "id": "474ce31a-80f7-470e-9c11-2f6d04e4d476",
   "metadata": {},
   "outputs": [
    {
     "ename": "NameError",
     "evalue": "name 'bowtrain' is not defined",
     "output_type": "error",
     "traceback": [
      "\u001b[0;31m---------------------------------------------------------------------------\u001b[0m",
      "\u001b[0;31mNameError\u001b[0m                                 Traceback (most recent call last)",
      "Cell \u001b[0;32mIn[6], line 1\u001b[0m\n\u001b[0;32m----> 1\u001b[0m \u001b[43mbowtrain\u001b[49m\n",
      "\u001b[0;31mNameError\u001b[0m: name 'bowtrain' is not defined"
     ]
    }
   ],
   "source": [
    "bowtrain"
   ]
  },
  {
   "cell_type": "code",
   "execution_count": 41,
   "id": "c21ef281-b7bd-47cf-a4d9-e492243b4189",
   "metadata": {},
   "outputs": [],
   "source": [
    "oppairs = getfrac(oppairs, 1000)"
   ]
  },
  {
   "cell_type": "code",
   "execution_count": 48,
   "id": "6ed7d0be-3b6b-4320-b10f-d7510f6b1e59",
   "metadata": {},
   "outputs": [
    {
     "name": "stderr",
     "output_type": "stream",
     "text": [
      "100%|█████████████████████████████████████████████████████████████████████████████████████████████████████████████████████████████████████████████████████████████████████████| 6526/6526 [00:37<00:00, 174.11it/s]\n"
     ]
    }
   ],
   "source": [
    "bowtrain = pd.read_json(\"/u/prasanns/research/rlhf-length-biases/outputs/rollouts/dpoplusbow50rm.jsonl\", orient='records', lines=True)\n",
    "scolist = []\n",
    "for i, row in tqdm(bowtrain.iterrows(), total=len(bowtrain)):\n",
    "    uns = {}\n",
    "    bowscos = [float(scobow(s, True, uns)) for s in row['outputs']]\n",
    "    scolist.append(bowscos)"
   ]
  },
  {
   "cell_type": "code",
   "execution_count": 55,
   "id": "6a649d2a-a95e-48c5-957d-96fcac1c4cd5",
   "metadata": {},
   "outputs": [],
   "source": [
    "oppairs = process_dset(bowtrain)"
   ]
  },
  {
   "cell_type": "code",
   "execution_count": 36,
   "id": "b26a45ec-ea07-4137-8d2e-811c871e712f",
   "metadata": {},
   "outputs": [],
   "source": [
    "oppairs = Dataset.load_from_disk(\"../../data/bow50rolloutdset50k\")"
   ]
  },
  {
   "cell_type": "code",
   "execution_count": 50,
   "id": "05e15e4f-0b5f-42d0-a982-285d1871c75b",
   "metadata": {},
   "outputs": [],
   "source": [
    "bowtrain['goldrewards'] = scolist"
   ]
  },
  {
   "cell_type": "code",
   "execution_count": 15,
   "id": "edbed687-d2ed-48fd-a8dc-fdb4fd79191f",
   "metadata": {},
   "outputs": [],
   "source": [
    "dset = Dataset.load_from_disk(\"../../data/bowsynth50knozeros/\")"
   ]
  },
  {
   "cell_type": "code",
   "execution_count": 46,
   "id": "820c88f7-df63-449d-a05e-ac77e5ede8a4",
   "metadata": {
    "scrolled": true
   },
   "outputs": [
    {
     "name": "stderr",
     "output_type": "stream",
     "text": [
      "100%|██████████████████████████████████████████████████████████████████████████████████████████████████████████████████████████████████████████████████████████████████████████████| 32/32 [00:17<00:00,  1.84it/s]\n",
      "Loading cached processed dataset at /scratch/cluster/prasanns/research/rlhf-length-biases/data/bow50rolloutdset50k/cache-799ee98c3a98f332.arrow\n"
     ]
    }
   ],
   "source": [
    "tmp = data_proc_embeds(oppairs, 32)"
   ]
  },
  {
   "cell_type": "code",
   "execution_count": 47,
   "id": "e0634380-dc4e-492d-8668-197321fef839",
   "metadata": {},
   "outputs": [
    {
     "name": "stderr",
     "output_type": "stream",
     "text": [
      "                                                                                                                                                                                                                   \r"
     ]
    }
   ],
   "source": [
    "tmp.save_to_disk(\"../../data/bowrolloutembedsopt50rmsmall\")"
   ]
  },
  {
   "cell_type": "code",
   "execution_count": 26,
   "id": "184cae3c-80ea-49a1-a637-89077f771ead",
   "metadata": {},
   "outputs": [],
   "source": [
    "embs1 = Dataset.load_from_disk(\"../../data/bowembedsoptrm50//\")"
   ]
  },
  {
   "cell_type": "code",
   "execution_count": 30,
   "id": "1365e460-6bcd-45bd-a629-5999b9f511d0",
   "metadata": {},
   "outputs": [],
   "source": [
    "embs2 = Dataset.load_from_disk(\"../../data/bowrolloutembedsoptrm50/\")"
   ]
  },
  {
   "cell_type": "code",
   "execution_count": 13,
   "id": "eb21b05f-a056-431f-b91d-03146df51db1",
   "metadata": {},
   "outputs": [
    {
     "data": {
      "text/plain": [
       "Dataset({\n",
       "    features: ['question', 'source', 'modj', 'modk', 'tokj', 'tok', 'response_j', 'response_k', 'magnitude', '__index_level_0__', 'score_j', 'score_k', 'j_embed', 'k_embed'],\n",
       "    num_rows: 49884\n",
       "})"
      ]
     },
     "execution_count": 13,
     "metadata": {},
     "output_type": "execute_result"
    }
   ],
   "source": [
    "embs1"
   ]
  },
  {
   "cell_type": "code",
   "execution_count": 55,
   "id": "4e7b30cd-7171-410d-9757-bb9e66acbaac",
   "metadata": {},
   "outputs": [
    {
     "name": "stderr",
     "output_type": "stream",
     "text": [
      "Loading cached sorted indices for dataset at /scratch/cluster/prasanns/research/rlhf-length-biases/data/bow50rolloutdset50k/cache-1af5bcff0e190f74.arrow\n"
     ]
    }
   ],
   "source": [
    "tmp = tmp.sort('step')"
   ]
  },
  {
   "cell_type": "code",
   "execution_count": 56,
   "id": "6182e612-72c0-4814-abe9-5f673e497da2",
   "metadata": {},
   "outputs": [],
   "source": [
    "newvals = np.concatenate((vals, np.array(tmp['j_embed'][:100] + tmp['k_embed'][:100])))"
   ]
  },
  {
   "cell_type": "code",
   "execution_count": 27,
   "id": "818c3b1e-c9b0-446c-a4dc-a0b481e1b12d",
   "metadata": {},
   "outputs": [
    {
     "data": {
      "text/plain": [
       "(200, 768)"
      ]
     },
     "execution_count": 27,
     "metadata": {},
     "output_type": "execute_result"
    }
   ],
   "source": [
    "vals = np.array(embs1['j_embed'][:100] + embs1['k_embed'][:100])\n",
    "vals.shape"
   ]
  },
  {
   "cell_type": "code",
   "execution_count": 28,
   "id": "7b1933c5-11c1-4a5a-8471-c8dc95e65170",
   "metadata": {},
   "outputs": [
    {
     "data": {
      "text/plain": [
       "(200, 2)"
      ]
     },
     "execution_count": 28,
     "metadata": {},
     "output_type": "execute_result"
    }
   ],
   "source": [
    "X_embedded.shape"
   ]
  },
  {
   "cell_type": "code",
   "execution_count": 57,
   "id": "5fa196d2-dd22-49b5-84fb-44c0731cc3fe",
   "metadata": {},
   "outputs": [
    {
     "data": {
      "image/png": "[encoded data removed]",
      "text/plain": [
       "<Figure size 640x480 with 1 Axes>"
      ]
     },
     "metadata": {},
     "output_type": "display_data"
    }
   ],
   "source": [
    "# Fit the t-SNE model\n",
    "tsne = TSNE(n_components=2)\n",
    "X_embedded = tsne.fit_transform(newvals)\n",
    "\n",
    "# Plot the resultse\n",
    "import matplotlib.pyplot as plt\n",
    "plt.scatter(X_embedded[:, 0], X_embedded[:, 1], color=['red']*100 + ['blue']*100 + ['green']*100 + ['yellow']*100 )\n",
    "plt.show()"
   ]
  },
  {
   "cell_type": "code",
   "execution_count": 18,
   "id": "4d503bc2-a585-43ae-8228-fa7a2c209439",
   "metadata": {},
   "outputs": [],
   "source": [
    "tmp = get_embeddings([\"hi there\", \"bye there\"])"
   ]
  },
  {
   "cell_type": "code",
   "execution_count": null,
   "id": "a62d9054-9681-43dc-8a35-134bba715c58",
   "metadata": {},
   "outputs": [],
   "source": [
    "dset = get_embeddings()"
   ]
  },
  {
   "cell_type": "code",
   "execution_count": null,
   "id": "0bb0169b-8b25-4baf-9644-429b23ac9e88",
   "metadata": {},
   "outputs": [],
   "source": [
    "# TODO crank up the efficiency"
   ]
  },
  {
   "cell_type": "code",
   "execution_count": null,
   "id": "abcd7fe8-e664-4f48-8ad4-1ed7baf4c449",
   "metadata": {},
   "outputs": [],
   "source": [
    "# Example dataset\n",
    "dataset = [\"Sample text 1\", \"Sample text 2\", ...]  # Replace with your actual dataset\n",
    "\n",
    "# Get embeddings for the dataset\n",
    "embeddings = [get_embeddings(text) for text in dataset]\n",
    "\n",
    "# Save embeddings to a pickle file\n",
    "with open('embeddings.pkl', 'wb') as f:\n",
    "    pickle.dump(embeddings, f)"
   ]
  }
 ],
 "metadata": {
  "kernelspec": {
   "display_name": "Python 3 (ipykernel)",
   "language": "python",
   "name": "python3"
  },
  "language_info": {
   "codemirror_mode": {
    "name": "ipython",
    "version": 3
   },
   "file_extension": ".py",
   "mimetype": "text/x-python",
   "name": "python",
   "nbconvert_exporter": "python",
   "pygments_lexer": "ipython3",
   "version": "3.10.0"
  }
 },
 "nbformat": 4,
 "nbformat_minor": 5
}
