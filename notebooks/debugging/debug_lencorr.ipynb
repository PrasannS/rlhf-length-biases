{
 "cells": [
  {
   "cell_type": "code",
   "execution_count": null,
   "id": "150d574a-9aa8-455b-891b-c46764e2305e",
   "metadata": {},
   "outputs": [],
   "source": [
    "# this notebook is for figuring out how strong the length correlations of the RMs\n",
    "# we're using are"
   ]
  },
  {
   "cell_type": "code",
   "execution_count": null,
   "id": "145ff69c-f24a-42e9-8c38-77abfab70359",
   "metadata": {},
   "outputs": [],
   "source": [
    "%load_ext autoreload\n",
    "%autoreload 2"
   ]
  },
  {
   "cell_type": "code",
   "execution_count": null,
   "id": "be76114f-a0c1-4a2c-a975-0ca76c76bfe4",
   "metadata": {},
   "outputs": [],
   "source": [
    "from rlhfutils.debug_utils import load_all_dfs, load_rm, progress_rm"
   ]
  },
  {
   "cell_type": "code",
   "execution_count": null,
   "id": "f381bf71-04ca-4fdd-be02-da639ef79911",
   "metadata": {},
   "outputs": [],
   "source": [
    "import matplotlib.pyplot as plt\n",
    "from scipy.stats import spearmanr, pearsonr\n",
    "import random\n",
    "import torch"
   ]
  },
  {
   "cell_type": "code",
   "execution_count": null,
   "id": "6f4977c0-5da6-4afc-a4bf-d905d3f016a6",
   "metadata": {},
   "outputs": [],
   "source": [
    "adfs = load_all_dfs(\"../outputs/lsanity/\")"
   ]
  },
  {
   "cell_type": "code",
   "execution_count": null,
   "id": "540efd6e-c24a-4e1a-94aa-79b22b4e335b",
   "metadata": {},
   "outputs": [],
   "source": [
    "mpaths = [\n",
    "    \"../stack-llama/models/rmodel/\",\n",
    "    \"/home/prasann/Projects/tfr-decoding/trlx_train/trl-stack/models/rewardda/\",\n",
    "    \"/home/prasann/Projects/tfr-decoding/trlx_train/trl-stack/models/rewardmixed/\",\n",
    "    \"/home/prasann/Projects/tfr-decoding/trlx_train/trl-stack/models/rewarddalen/\"\n",
    "]\n",
    "toker, rm, kwargs = load_rm(mpaths[3], 2)"
   ]
  },
  {
   "cell_type": "code",
   "execution_count": null,
   "id": "d43b8ebc-a313-4730-8780-241160cf893a",
   "metadata": {},
   "outputs": [],
   "source": [
    "respset = []\n",
    "lenset = []\n",
    "for a in adfs:\n",
    "    respset.extend(list(adfs[a]['response']))\n",
    "    lenset.extend([len(toker(ans).input_ids) for ans in adfs[a]['answer']])\n",
    "flim = 0\n",
    "responses = []\n",
    "lens = []\n",
    "origlens = []\n",
    "for i in range(len(respset)):\n",
    "    if lenset[i]>450:\n",
    "        trunclen = random.randint(0, 400)\n",
    "        responses.append(toker.decode(toker(respset[i]).input_ids[:-trunclen]))\n",
    "        lens.append(lenset[i] - trunclen)\n",
    "        origlens.append(lenset[i])"
   ]
  },
  {
   "cell_type": "code",
   "execution_count": null,
   "id": "595f9c35-21f7-4079-97e7-8c818ceb3ac3",
   "metadata": {},
   "outputs": [],
   "source": [
    "randinds = random.sample(list(range(len(responses))), 64)\n",
    "lens = [lens[ind] for ind in randinds]\n",
    "responses = [responses[ind] for ind in randinds]"
   ]
  },
  {
   "cell_type": "code",
   "execution_count": null,
   "id": "dd3948f2-442a-4b60-a581-bf2ad167dac7",
   "metadata": {
    "scrolled": true
   },
   "outputs": [],
   "source": [
    "plt.hist(lens)"
   ]
  },
  {
   "cell_type": "code",
   "execution_count": null,
   "id": "58667174-c187-42e6-bfa0-5212512d553b",
   "metadata": {},
   "outputs": [],
   "source": [
    "torch.cuda.empty_cache()"
   ]
  },
  {
   "cell_type": "code",
   "execution_count": null,
   "id": "0bd0ebb0-037b-4c42-8c3a-5a6a1d3d5b98",
   "metadata": {},
   "outputs": [],
   "source": [
    "scos = progress_rm(responses, rm, kwargs)"
   ]
  },
  {
   "cell_type": "code",
   "execution_count": null,
   "id": "c423cdb4-231e-43f0-80fe-5995f5a24da1",
   "metadata": {},
   "outputs": [],
   "source": [
    "scos = [s[0]['score'] for s in scos]"
   ]
  },
  {
   "cell_type": "code",
   "execution_count": null,
   "id": "a0703043-807a-4035-8525-3c7d28966f65",
   "metadata": {},
   "outputs": [],
   "source": [
    "plt.scatter(lens, scos)"
   ]
  },
  {
   "cell_type": "code",
   "execution_count": null,
   "id": "c1130385-9737-44d1-bf16-b6c4075042ff",
   "metadata": {},
   "outputs": [],
   "source": [
    "print(spearmanr(scos, lens))\n",
    "print(pearsonr(scos, lens))\n"
   ]
  },
  {
   "cell_type": "code",
   "execution_count": null,
   "id": "490c48e4-49bd-4a01-a2db-9e659e1a8d6f",
   "metadata": {},
   "outputs": [],
   "source": [
    "# check apfarm issue in a bit of detail"
   ]
  },
  {
   "cell_type": "code",
   "execution_count": null,
   "id": "f18b3b65-0ec1-441b-abac-f53fa8200bf9",
   "metadata": {},
   "outputs": [],
   "source": []
  }
 ],
 "metadata": {
  "kernelspec": {
   "display_name": "Python 3 (ipykernel)",
   "language": "python",
   "name": "python3"
  },
  "language_info": {
   "codemirror_mode": {
    "name": "ipython",
    "version": 3
   },
   "file_extension": ".py",
   "mimetype": "text/x-python",
   "name": "python",
   "nbconvert_exporter": "python",
   "pygments_lexer": "ipython3",
   "version": "3.10.0"
  }
 },
 "nbformat": 4,
 "nbformat_minor": 5
}
