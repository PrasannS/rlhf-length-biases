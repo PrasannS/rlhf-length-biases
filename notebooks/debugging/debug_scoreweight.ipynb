{
 "cells": [
  {
   "cell_type": "code",
   "execution_count": 1,
   "id": "65da0779-94c1-4f2c-b3c3-db1daa4dfc11",
   "metadata": {},
   "outputs": [],
   "source": [
    "# notebook to debug score.weight bug"
   ]
  },
  {
   "cell_type": "code",
   "execution_count": 5,
   "id": "fad0b351-eeac-4162-a14f-1a71489fd5d2",
   "metadata": {},
   "outputs": [],
   "source": [
    "from transformers import pipeline, AutoTokenizer"
   ]
  },
  {
   "cell_type": "code",
   "execution_count": 6,
   "id": "e27eac9e-0142-4594-9494-2a31a194b44b",
   "metadata": {},
   "outputs": [
    {
     "name": "stderr",
     "output_type": "stream",
     "text": [
      "Loading checkpoint shards: 100%|███████████████████████████████████████████████████████████████████████████████████████████████████████████████████████████████████████| 2/2 [00:09<00:00,  4.89s/it]\n",
      "Using /data/users/prasann/.cache/torch_extensions/py39_cu117 as PyTorch extensions root...\n",
      "Detected CUDA files, patching ldflags\n",
      "Emitting ninja build file /data/users/prasann/.cache/torch_extensions/py39_cu117/cuda_kernel/build.ninja...\n",
      "Building extension module cuda_kernel...\n",
      "Allowing ninja to set a default number of workers... (overridable by setting the environment variable MAX_JOBS=N)\n"
     ]
    },
    {
     "name": "stdout",
     "output_type": "stream",
     "text": [
      "ninja: no work to do.\n"
     ]
    },
    {
     "name": "stderr",
     "output_type": "stream",
     "text": [
      "Loading extension module cuda_kernel...\n"
     ]
    }
   ],
   "source": [
    "tokenizer = AutoTokenizer.from_pretrained(\"../stack-llama/models/rmodel\")\n",
    "sentiment_pipe = pipeline(\n",
    "    \"sentiment-analysis\",\n",
    "    model=\"../stack-llama/models/rmodel\",\n",
    "    device_map={\"\": 0},\n",
    "    model_kwargs={\"load_in_8bit\": True},\n",
    "    tokenizer=tokenizer,\n",
    "    return_token_type_ids=False,\n",
    ")"
   ]
  },
  {
   "cell_type": "code",
   "execution_count": 10,
   "id": "f64c5223-d744-44bf-8bff-d01a0cbcc1d6",
   "metadata": {},
   "outputs": [
    {
     "data": {
      "text/plain": [
       "[{'label': 'LABEL_0', 'score': 0.4692618250846863}]"
      ]
     },
     "execution_count": 10,
     "metadata": {},
     "output_type": "execute_result"
    }
   ],
   "source": [
    "sentiment_pipe([\"hi there\"])"
   ]
  },
  {
   "cell_type": "code",
   "execution_count": 11,
   "id": "9479e51a-689a-472a-8a9d-dcda20feb0c1",
   "metadata": {},
   "outputs": [],
   "source": [
    "# it looks like the new mnoukhov model is ok"
   ]
  },
  {
   "cell_type": "code",
   "execution_count": 12,
   "id": "ac26b0e6-5276-4fa3-a481-96d1f91614d0",
   "metadata": {},
   "outputs": [
    {
     "name": "stderr",
     "output_type": "stream",
     "text": [
      "Loading checkpoint shards: 100%|███████████████████████████████████████████████████████████████████████████████████████████████████████████████████████████████████████| 2/2 [00:09<00:00,  4.51s/it]\n"
     ]
    }
   ],
   "source": [
    "sentiment_pipe = pipeline(\n",
    "    \"sentiment-analysis\",\n",
    "    model=\"/home/prasann/Projects/tfr-decoding/trlx_train/trl-stack/models/rewardda\",\n",
    "    device_map={\"\": 0},\n",
    "    model_kwargs={\"load_in_8bit\": True},\n",
    "    tokenizer=tokenizer,\n",
    "    return_token_type_ids=False,\n",
    ")"
   ]
  },
  {
   "cell_type": "code",
   "execution_count": 13,
   "id": "d9abbc47-adad-4bac-a2ee-59cdd4509559",
   "metadata": {},
   "outputs": [
    {
     "data": {
      "text/plain": [
       "[{'label': 'LABEL_0', 'score': 0.30033501982688904}]"
      ]
     },
     "execution_count": 13,
     "metadata": {},
     "output_type": "execute_result"
    }
   ],
   "source": [
    "sentiment_pipe([\"hi there\"])"
   ]
  },
  {
   "cell_type": "code",
   "execution_count": 14,
   "id": "774537a5-158c-41ff-9db4-507d15404116",
   "metadata": {},
   "outputs": [],
   "source": [
    "# it looks like the new style models are also ok?"
   ]
  },
  {
   "cell_type": "code",
   "execution_count": 15,
   "id": "83f3bc04-6214-44a7-b783-a16c1dd42068",
   "metadata": {},
   "outputs": [
    {
     "name": "stderr",
     "output_type": "stream",
     "text": [
      "Loading checkpoint shards: 100%|███████████████████████████████████████████████████████████████████████████████████████████████████████████████████████████████████████| 2/2 [00:09<00:00,  4.54s/it]\n"
     ]
    }
   ],
   "source": [
    "sentiment_pipe = pipeline(\n",
    "    \"sentiment-analysis\",\n",
    "    model=\"/home/prasann/Projects/tfr-decoding/trlx_train/trl-stack/models/rewardmodel\",\n",
    "    device_map={\"\": 0},\n",
    "    model_kwargs={\"load_in_8bit\": True},\n",
    "    tokenizer=tokenizer,\n",
    "    return_token_type_ids=False,\n",
    ")"
   ]
  },
  {
   "cell_type": "code",
   "execution_count": 16,
   "id": "cdcf1cf9-9f0b-4750-af8f-3878088b3ee3",
   "metadata": {},
   "outputs": [
    {
     "data": {
      "text/plain": [
       "[{'label': 'LABEL_0', 'score': 0.4675140976905823}]"
      ]
     },
     "execution_count": 16,
     "metadata": {},
     "output_type": "execute_result"
    }
   ],
   "source": [
    "sentiment_pipe([\"hi there\"])"
   ]
  },
  {
   "cell_type": "code",
   "execution_count": null,
   "id": "baa02579-5f70-4b2b-83c7-251c32ceedeb",
   "metadata": {},
   "outputs": [],
   "source": []
  }
 ],
 "metadata": {
  "kernelspec": {
   "display_name": "Python 3 (ipykernel)",
   "language": "python",
   "name": "python3"
  },
  "language_info": {
   "codemirror_mode": {
    "name": "ipython",
    "version": 3
   },
   "file_extension": ".py",
   "mimetype": "text/x-python",
   "name": "python",
   "nbconvert_exporter": "python",
   "pygments_lexer": "ipython3",
   "version": "3.9.0"
  }
 },
 "nbformat": 4,
 "nbformat_minor": 5
}
