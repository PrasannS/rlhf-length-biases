{
 "cells": [
  {
   "cell_type": "code",
   "execution_count": null,
   "id": "65da0779-94c1-4f2c-b3c3-db1daa4dfc11",
   "metadata": {},
   "outputs": [],
   "source": [
    "# notebook to debug score.weight bug"
   ]
  },
  {
   "cell_type": "code",
   "execution_count": null,
   "id": "fad0b351-eeac-4162-a14f-1a71489fd5d2",
   "metadata": {},
   "outputs": [],
   "source": [
    "from transformers import pipeline, AutoTokenizer"
   ]
  },
  {
   "cell_type": "code",
   "execution_count": null,
   "id": "e27eac9e-0142-4594-9494-2a31a194b44b",
   "metadata": {},
   "outputs": [],
   "source": [
    "tokenizer = AutoTokenizer.from_pretrained(\"../stack-llama/models/rmodel\")\n",
    "sentiment_pipe = pipeline(\n",
    "    \"sentiment-analysis\",\n",
    "    model=\"../stack-llama/models/rmodel\",\n",
    "    device_map={\"\": 0},\n",
    "    model_kwargs={\"load_in_8bit\": True},\n",
    "    tokenizer=tokenizer,\n",
    "    return_token_type_ids=False,\n",
    ")"
   ]
  },
  {
   "cell_type": "code",
   "execution_count": null,
   "id": "f64c5223-d744-44bf-8bff-d01a0cbcc1d6",
   "metadata": {},
   "outputs": [],
   "source": [
    "sentiment_pipe([\"hi there\"])"
   ]
  },
  {
   "cell_type": "code",
   "execution_count": null,
   "id": "9479e51a-689a-472a-8a9d-dcda20feb0c1",
   "metadata": {},
   "outputs": [],
   "source": [
    "# it looks like the new mnoukhov model is ok"
   ]
  },
  {
   "cell_type": "code",
   "execution_count": null,
   "id": "ac26b0e6-5276-4fa3-a481-96d1f91614d0",
   "metadata": {},
   "outputs": [],
   "source": [
    "sentiment_pipe = pipeline(\n",
    "    \"sentiment-analysis\",\n",
    "    model=\"/home/prasann/Projects/tfr-decoding/trlx_train/trl-stack/models/rewardda\",\n",
    "    device_map={\"\": 0},\n",
    "    model_kwargs={\"load_in_8bit\": True},\n",
    "    tokenizer=tokenizer,\n",
    "    return_token_type_ids=False,\n",
    ")"
   ]
  },
  {
   "cell_type": "code",
   "execution_count": null,
   "id": "d9abbc47-adad-4bac-a2ee-59cdd4509559",
   "metadata": {},
   "outputs": [],
   "source": [
    "sentiment_pipe([\"hi there\"])"
   ]
  },
  {
   "cell_type": "code",
   "execution_count": null,
   "id": "774537a5-158c-41ff-9db4-507d15404116",
   "metadata": {},
   "outputs": [],
   "source": [
    "# it looks like the new style models are also ok?"
   ]
  },
  {
   "cell_type": "code",
   "execution_count": null,
   "id": "83f3bc04-6214-44a7-b783-a16c1dd42068",
   "metadata": {},
   "outputs": [],
   "source": [
    "sentiment_pipe = pipeline(\n",
    "    \"sentiment-analysis\",\n",
    "    model=\"/home/prasann/Projects/tfr-decoding/trlx_train/trl-stack/models/rewardmodel\",\n",
    "    device_map={\"\": 0},\n",
    "    model_kwargs={\"load_in_8bit\": True},\n",
    "    tokenizer=tokenizer,\n",
    "    return_token_type_ids=False,\n",
    ")"
   ]
  },
  {
   "cell_type": "code",
   "execution_count": null,
   "id": "cdcf1cf9-9f0b-4750-af8f-3878088b3ee3",
   "metadata": {},
   "outputs": [],
   "source": [
    "sentiment_pipe([\"hi there\"])"
   ]
  },
  {
   "cell_type": "code",
   "execution_count": null,
   "id": "baa02579-5f70-4b2b-83c7-251c32ceedeb",
   "metadata": {},
   "outputs": [],
   "source": []
  }
 ],
 "metadata": {
  "kernelspec": {
   "display_name": "Python 3 (ipykernel)",
   "language": "python",
   "name": "python3"
  },
  "language_info": {
   "codemirror_mode": {
    "name": "ipython",
    "version": 3
   },
   "file_extension": ".py",
   "mimetype": "text/x-python",
   "name": "python",
   "nbconvert_exporter": "python",
   "pygments_lexer": "ipython3",
   "version": "3.9.0"
  }
 },
 "nbformat": 4,
 "nbformat_minor": 5
}
