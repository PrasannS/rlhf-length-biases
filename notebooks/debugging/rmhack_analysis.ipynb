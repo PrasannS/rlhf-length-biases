{
 "cells": [
  {
   "cell_type": "code",
   "execution_count": null,
   "id": "9b28dcdf-974e-4dfb-96c0-8677ce0fc7ed",
   "metadata": {},
   "outputs": [],
   "source": [
    "# This notebook is dedicated to pinpointing what kinds of hacks are happening with different kinds of RMs"
   ]
  },
  {
   "cell_type": "code",
   "execution_count": null,
   "id": "f5834ef6-cd47-49a1-8404-3231d93ce057",
   "metadata": {},
   "outputs": [],
   "source": [
    "%load_ext autoreload\n",
    "%autoreload 2"
   ]
  },
  {
   "cell_type": "code",
   "execution_count": null,
   "id": "837ccba4-d8d2-472b-bab1-61e7fe7e6573",
   "metadata": {},
   "outputs": [],
   "source": [
    "import pandas as pd\n",
    "from debug_utils import load_all_hackdfs, highlight_differences\n",
    "from statistics import mean, stdev\n",
    "import matplotlib.pyplot as plt"
   ]
  },
  {
   "cell_type": "code",
   "execution_count": null,
   "id": "398fbd8c-cc77-4791-ab69-edd46e031fd6",
   "metadata": {},
   "outputs": [],
   "source": [
    "orig_hacks = load_all_hackdfs(\"../rm-attacks/attackouts/previous/\")\n",
    "adv_hacks = load_all_hackdfs(\"../rm-attacks/attackouts/reprodcheck/\")\n",
    "sanity = load_all_hackdfs(\"../rm-attacks/attackouts/\")"
   ]
  },
  {
   "cell_type": "code",
   "execution_count": null,
   "id": "74683550-4fe0-48ae-99ec-554d9c256a3a",
   "metadata": {},
   "outputs": [],
   "source": [
    "wgpt_hacks = load_all_hackdfs(\"../rm-attacks/attackouts/wgpt/\")"
   ]
  },
  {
   "cell_type": "code",
   "execution_count": null,
   "id": "90772bf4-476c-494d-a6b2-de4706395dc0",
   "metadata": {},
   "outputs": [],
   "source": [
    "wgpt_hacks.keys()"
   ]
  },
  {
   "cell_type": "code",
   "execution_count": null,
   "id": "1ae94975-4efc-45aa-8283-5bca73477ec3",
   "metadata": {},
   "outputs": [],
   "source": [
    "def nohackrat(indf):\n",
    "    nohack = indf[indf['diff']<0.001]\n",
    "    return len(nohack)/len(indf)\n",
    "\n",
    "def hacksteps(indf):\n",
    "    hack = indf[indf['diff']>0.001]\n",
    "    steps = [len(l) for l in hack['bestseqs']]\n",
    "    return mean(steps)\n",
    "\n",
    "def hackmean(indf):\n",
    "    hack = indf[indf['diff']>0.001]\n",
    "    return hack['diff'].mean()\n",
    "\n",
    "def hackdf(indf):\n",
    "    return indf[indf['diff']>0.001].copy()\n",
    "\n",
    "def dmean(indf):\n",
    "    return indf['diff'].mean()"
   ]
  },
  {
   "cell_type": "code",
   "execution_count": null,
   "id": "94281772-7bac-4782-ae08-d73ef9f9a814",
   "metadata": {},
   "outputs": [],
   "source": [
    "print(nohackrat(wgpt_hacks['wgptorig']))\n",
    "print(nohackrat(wgpt_hacks['wgptrandda']))"
   ]
  },
  {
   "cell_type": "code",
   "execution_count": null,
   "id": "4f55e12d-ab63-4346-95a1-350fcbb1ee3e",
   "metadata": {},
   "outputs": [],
   "source": [
    "print(hacksteps(wgpt_hacks['wgptorig']))\n",
    "print(hacksteps(wgpt_hacks['wgptrandda']))"
   ]
  },
  {
   "cell_type": "code",
   "execution_count": null,
   "id": "ae372bb8-4cd4-49ef-96e7-c4fee7e15301",
   "metadata": {},
   "outputs": [],
   "source": [
    "print(dmean(wgpt_hacks['wgptorig']))\n",
    "print(dmean(wgpt_hacks['wgptrandda']))"
   ]
  },
  {
   "cell_type": "code",
   "execution_count": null,
   "id": "dcf1f349-7464-4321-ad96-5d11b9c8afba",
   "metadata": {},
   "outputs": [],
   "source": [
    "print(hackmean(wgpt_hacks['wgptorig']))\n",
    "print(hackmean(wgpt_hacks['wgptrandda']))"
   ]
  },
  {
   "cell_type": "code",
   "execution_count": null,
   "id": "b8416633-99e0-4512-abd7-20fb82bab2c6",
   "metadata": {},
   "outputs": [],
   "source": [
    "print(nohackrat(orig_hacks['da_sft']))\n",
    "print(nohackrat(orig_hacks['mix_sft']))\n",
    "print(nohackrat(sanity['sft_sft']))"
   ]
  },
  {
   "cell_type": "code",
   "execution_count": null,
   "id": "66a26900-b8b0-40a0-8547-de73213f142b",
   "metadata": {},
   "outputs": [],
   "source": [
    "print(hacksteps(orig_hacks['da_sft']))\n",
    "print(hacksteps(orig_hacks['mix_sft']))\n",
    "print(hacksteps(sanity['sft_sft']))"
   ]
  },
  {
   "cell_type": "code",
   "execution_count": null,
   "id": "d817d3c3-1136-49e9-bdd1-f3d6d38703df",
   "metadata": {},
   "outputs": [],
   "source": [
    "print(dmean(orig_hacks['da_sft']))\n",
    "print(dmean(orig_hacks['mix_sft']))\n",
    "print(dmean(sanity['sft_sft']))"
   ]
  },
  {
   "cell_type": "code",
   "execution_count": null,
   "id": "2e008540-ece2-4f8e-8c27-ed26dd40c0a4",
   "metadata": {},
   "outputs": [],
   "source": [
    "# DA RM \n",
    "plt.hist(hackdf(wgpt_hacks['wgptorig'])['diff'])"
   ]
  },
  {
   "cell_type": "code",
   "execution_count": null,
   "id": "52d5f5a0-0d00-4db5-a01c-a2fd3a4570da",
   "metadata": {},
   "outputs": [],
   "source": [
    "# Mix RM \n",
    "plt.hist(hackdf(orig_hacks['mix_sft'])['diff'])"
   ]
  },
  {
   "cell_type": "code",
   "execution_count": null,
   "id": "b5c9603b-0d98-4b6c-9d1c-c1151fb8f8b8",
   "metadata": {},
   "outputs": [],
   "source": [
    "# Orig (Retrained) RM \n",
    "plt.hist(hackdf(sanity['sft_sft'])['diff'])"
   ]
  },
  {
   "cell_type": "code",
   "execution_count": null,
   "id": "0a89317f-88a2-44a2-9d16-ffe29d2d69f5",
   "metadata": {},
   "outputs": [],
   "source": [
    "def diff_ind(indf, ind):\n",
    "    row = hackdf(indf).iloc[ind]\n",
    "    print(len(row.bestseqs), \" step(s)\")\n",
    "    print(row.origsco)\n",
    "    print(row.maxsco)\n",
    "    highlight_differences(row.origseq, row.bestseqs[-1])"
   ]
  },
  {
   "cell_type": "code",
   "execution_count": null,
   "id": "c50347f3-33b3-44ab-8452-ed007eafe186",
   "metadata": {
    "scrolled": true
   },
   "outputs": [],
   "source": [
    "for i in range(0, 10):\n",
    "    print(\"___________________________________\")\n",
    "    diff_ind(orig_hacks['mix_sft'], i)"
   ]
  },
  {
   "cell_type": "code",
   "execution_count": null,
   "id": "ef9c89fe-a890-4f03-bf81-298e3148f8f3",
   "metadata": {},
   "outputs": [],
   "source": [
    "# more stuff, specifically we are trying to see if the adversarial models are actually helpful"
   ]
  },
  {
   "cell_type": "code",
   "execution_count": null,
   "id": "b6bc1deb-642c-43d9-8b1a-689b4cb420be",
   "metadata": {},
   "outputs": [],
   "source": [
    "adv_hacks = load_all_hackdfs(\"../rm-attacks/attackouts/reprodcheck/\")"
   ]
  },
  {
   "cell_type": "code",
   "execution_count": null,
   "id": "42dce40a-f104-4a98-9d96-4a93281516c7",
   "metadata": {},
   "outputs": [],
   "source": [
    "adv_hacks['advdaboth']['diff'].mean()"
   ]
  },
  {
   "cell_type": "code",
   "execution_count": null,
   "id": "4761dd71-f140-49ba-ba28-681f11ee2744",
   "metadata": {},
   "outputs": [],
   "source": [
    "origdf = pd.read_json(\"../outputs/augdata/augstackv1.jsonl\", orient='records', lines=True)"
   ]
  },
  {
   "cell_type": "code",
   "execution_count": null,
   "id": "3976a7f7-6865-41d2-a43a-d81880273fe1",
   "metadata": {},
   "outputs": [],
   "source": [
    "origdf"
   ]
  },
  {
   "cell_type": "code",
   "execution_count": null,
   "id": "5e717c77-9e02-464c-ae5d-f569f1149dd6",
   "metadata": {},
   "outputs": [],
   "source": []
  }
 ],
 "metadata": {
  "kernelspec": {
   "display_name": "Python 3 (ipykernel)",
   "language": "python",
   "name": "python3"
  },
  "language_info": {
   "codemirror_mode": {
    "name": "ipython",
    "version": 3
   },
   "file_extension": ".py",
   "mimetype": "text/x-python",
   "name": "python",
   "nbconvert_exporter": "python",
   "pygments_lexer": "ipython3",
   "version": "3.9.0"
  }
 },
 "nbformat": 4,
 "nbformat_minor": 5
}
