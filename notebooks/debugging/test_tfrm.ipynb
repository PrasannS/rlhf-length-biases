{
 "cells": [
  {
   "cell_type": "code",
   "execution_count": null,
   "id": "faaf4577-9d4a-4f9f-95c2-8bd620339106",
   "metadata": {},
   "outputs": [],
   "source": [
    "from transformers import pipeline, AutoModel, AutoTokenizer\n",
    "from rlhfutils.rmcode import LlamaForTokenClassification, load_rm, amask, get_starts\n",
    "from debug_utils import load_all_dfs"
   ]
  },
  {
   "cell_type": "code",
   "execution_count": null,
   "id": "c0217c95-c1b1-4d03-9e29-f8b329855ba2",
   "metadata": {},
   "outputs": [],
   "source": [
    "%load_ext autoreload\n",
    "%autoreload 2"
   ]
  },
  {
   "cell_type": "code",
   "execution_count": null,
   "id": "398bd2f4-3e30-4a65-b0fb-9ddb678c0b81",
   "metadata": {},
   "outputs": [],
   "source": [
    "adaptpath = \"/home/prasann/Projects/rlhf-exploration/webgpt-llama/checkpoints/tfrtest/checkpoint-4500\"\n",
    "basepath = \"/home/prasann/Projects/tfr-decoding/apfarm_models/sft10k\""
   ]
  },
  {
   "cell_type": "code",
   "execution_count": null,
   "id": "00df64a6-2050-4a1a-8a78-eec4f236adfc",
   "metadata": {},
   "outputs": [],
   "source": [
    "model = load_rm(basepath, adaptpath)"
   ]
  },
  {
   "cell_type": "code",
   "execution_count": null,
   "id": "46993858-ed2a-4968-b1d5-3727e3663023",
   "metadata": {},
   "outputs": [],
   "source": [
    "model.eval()\n",
    "model.to(\"cuda:0\")\n",
    "print(\"done\")"
   ]
  },
  {
   "cell_type": "code",
   "execution_count": null,
   "id": "3a58b092-8416-4530-9f60-4a0744735937",
   "metadata": {},
   "outputs": [],
   "source": [
    "toker = AutoTokenizer.from_pretrained(basepath)"
   ]
  },
  {
   "cell_type": "code",
   "execution_count": null,
   "id": "964280cf-c927-461b-a2c6-3490b70627c0",
   "metadata": {},
   "outputs": [],
   "source": [
    "inpseq = [\"Question: What is the distance from Earth to the Sun? \\n\\nAnswer: It depends on the measurement accuracy, but in general, this distance is said to be around 5.6 million KM.\"]\n",
    "inpseq = [\"Question: What is the distance from Earth to the Sun? \\n\\nAnswer: Hahahaahahahahah\"]\n",
    "\n",
    "toks = toker(inpseq, return_tensors='pt').to(model.device)"
   ]
  },
  {
   "cell_type": "code",
   "execution_count": null,
   "id": "58842bd3-eea6-4d78-b633-7d8b56595cce",
   "metadata": {},
   "outputs": [],
   "source": [
    "def selmean(outs, mask):\n",
    "    return (outs*mask).sum(dim=-1)/mask.sum(dim=-1)"
   ]
  },
  {
   "cell_type": "code",
   "execution_count": null,
   "id": "33dd7a75-3140-48bc-9828-8b221c5e6b7d",
   "metadata": {},
   "outputs": [],
   "source": [
    "selmean(model(**toks).logits.squeeze(), amask(toks.input_ids))"
   ]
  },
  {
   "cell_type": "code",
   "execution_count": 13,
   "id": "324d669a-3a76-42bd-9ae4-5d1fa677c042",
   "metadata": {
    "scrolled": true
   },
   "outputs": [
    {
     "ename": "IndexError",
     "evalue": "list index out of range",
     "output_type": "error",
     "traceback": [
      "\u001b[0;31m---------------------------------------------------------------------------\u001b[0m",
      "\u001b[0;31mIndexError\u001b[0m                                Traceback (most recent call last)",
      "Cell \u001b[0;32mIn[13], line 1\u001b[0m\n\u001b[0;32m----> 1\u001b[0m testdfs \u001b[38;5;241m=\u001b[39m \u001b[43mload_all_dfs\u001b[49m\u001b[43m(\u001b[49m\u001b[38;5;124;43m\"\u001b[39;49m\u001b[38;5;124;43m../trl-general/genouts/\u001b[39;49m\u001b[38;5;124;43m\"\u001b[39;49m\u001b[43m)\u001b[49m\n",
      "File \u001b[0;32m/data/users/prasann/Projects/rlhf-exploration/debugging/debug_utils.py:51\u001b[0m, in \u001b[0;36mload_all_dfs\u001b[0;34m(dir)\u001b[0m\n\u001b[1;32m     49\u001b[0m         name \u001b[38;5;241m=\u001b[39m f\u001b[38;5;241m.\u001b[39mreplace(\u001b[38;5;124m\"\u001b[39m\u001b[38;5;124mgenerated_\u001b[39m\u001b[38;5;124m\"\u001b[39m, \u001b[38;5;124m\"\u001b[39m\u001b[38;5;124m\"\u001b[39m)\u001b[38;5;241m.\u001b[39mreplace(\u001b[38;5;124m\"\u001b[39m\u001b[38;5;124m.jsonl\u001b[39m\u001b[38;5;124m\"\u001b[39m, \u001b[38;5;124m\"\u001b[39m\u001b[38;5;124m\"\u001b[39m)\n\u001b[1;32m     50\u001b[0m         res[name] \u001b[38;5;241m=\u001b[39m pd\u001b[38;5;241m.\u001b[39mread_json(\u001b[38;5;28mdir\u001b[39m\u001b[38;5;241m+\u001b[39mf, orient\u001b[38;5;241m=\u001b[39m\u001b[38;5;124m'\u001b[39m\u001b[38;5;124mrecords\u001b[39m\u001b[38;5;124m'\u001b[39m, lines\u001b[38;5;241m=\u001b[39m\u001b[38;5;28;01mTrue\u001b[39;00m)\n\u001b[0;32m---> 51\u001b[0m         res[name][\u001b[38;5;124m'\u001b[39m\u001b[38;5;124manswer\u001b[39m\u001b[38;5;124m'\u001b[39m] \u001b[38;5;241m=\u001b[39m [s\u001b[38;5;241m.\u001b[39msplit(\u001b[38;5;124m\"\u001b[39m\u001b[38;5;124mAnswer:\u001b[39m\u001b[38;5;124m\"\u001b[39m)[\u001b[38;5;241m1\u001b[39m] \u001b[38;5;28;01mfor\u001b[39;00m s \u001b[38;5;129;01min\u001b[39;00m res[name][\u001b[38;5;124m'\u001b[39m\u001b[38;5;124mresponse\u001b[39m\u001b[38;5;124m'\u001b[39m]]\n\u001b[1;32m     52\u001b[0m \u001b[38;5;28;01mreturn\u001b[39;00m res\n",
      "File \u001b[0;32m/data/users/prasann/Projects/rlhf-exploration/debugging/debug_utils.py:51\u001b[0m, in \u001b[0;36m<listcomp>\u001b[0;34m(.0)\u001b[0m\n\u001b[1;32m     49\u001b[0m         name \u001b[38;5;241m=\u001b[39m f\u001b[38;5;241m.\u001b[39mreplace(\u001b[38;5;124m\"\u001b[39m\u001b[38;5;124mgenerated_\u001b[39m\u001b[38;5;124m\"\u001b[39m, \u001b[38;5;124m\"\u001b[39m\u001b[38;5;124m\"\u001b[39m)\u001b[38;5;241m.\u001b[39mreplace(\u001b[38;5;124m\"\u001b[39m\u001b[38;5;124m.jsonl\u001b[39m\u001b[38;5;124m\"\u001b[39m, \u001b[38;5;124m\"\u001b[39m\u001b[38;5;124m\"\u001b[39m)\n\u001b[1;32m     50\u001b[0m         res[name] \u001b[38;5;241m=\u001b[39m pd\u001b[38;5;241m.\u001b[39mread_json(\u001b[38;5;28mdir\u001b[39m\u001b[38;5;241m+\u001b[39mf, orient\u001b[38;5;241m=\u001b[39m\u001b[38;5;124m'\u001b[39m\u001b[38;5;124mrecords\u001b[39m\u001b[38;5;124m'\u001b[39m, lines\u001b[38;5;241m=\u001b[39m\u001b[38;5;28;01mTrue\u001b[39;00m)\n\u001b[0;32m---> 51\u001b[0m         res[name][\u001b[38;5;124m'\u001b[39m\u001b[38;5;124manswer\u001b[39m\u001b[38;5;124m'\u001b[39m] \u001b[38;5;241m=\u001b[39m [\u001b[43ms\u001b[49m\u001b[38;5;241;43m.\u001b[39;49m\u001b[43msplit\u001b[49m\u001b[43m(\u001b[49m\u001b[38;5;124;43m\"\u001b[39;49m\u001b[38;5;124;43mAnswer:\u001b[39;49m\u001b[38;5;124;43m\"\u001b[39;49m\u001b[43m)\u001b[49m\u001b[43m[\u001b[49m\u001b[38;5;241;43m1\u001b[39;49m\u001b[43m]\u001b[49m \u001b[38;5;28;01mfor\u001b[39;00m s \u001b[38;5;129;01min\u001b[39;00m res[name][\u001b[38;5;124m'\u001b[39m\u001b[38;5;124mresponse\u001b[39m\u001b[38;5;124m'\u001b[39m]]\n\u001b[1;32m     52\u001b[0m \u001b[38;5;28;01mreturn\u001b[39;00m res\n",
      "\u001b[0;31mIndexError\u001b[0m: list index out of range"
     ]
    }
   ],
   "source": [
    "testdfs = load_all_dfs(\"../trl-general/genouts/\")"
   ]
  },
  {
   "cell_type": "code",
   "execution_count": null,
   "id": "98875b89-7364-4419-927a-ceaa6b515257",
   "metadata": {},
   "outputs": [],
   "source": []
  }
 ],
 "metadata": {
  "kernelspec": {
   "display_name": "Python 3 (ipykernel)",
   "language": "python",
   "name": "python3"
  },
  "language_info": {
   "codemirror_mode": {
    "name": "ipython",
    "version": 3
   },
   "file_extension": ".py",
   "mimetype": "text/x-python",
   "name": "python",
   "nbconvert_exporter": "python",
   "pygments_lexer": "ipython3",
   "version": "3.9.0"
  }
 },
 "nbformat": 4,
 "nbformat_minor": 5
}
