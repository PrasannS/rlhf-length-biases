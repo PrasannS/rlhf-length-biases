{
 "cells": [
  {
   "cell_type": "code",
   "execution_count": null,
   "id": "abc075ab-125e-4fa5-9dab-b881aff80742",
   "metadata": {
    "scrolled": true
   },
   "outputs": [],
   "source": [
    "from transformers import AutoModelForCausalLM, AutoTokenizer\n",
    "from debug_utils import get_omodel, get_peft_ckpt, generate_outputs, adjust_input_apf, adjust_input_stack\n",
    "from datasets import load_dataset"
   ]
  },
  {
   "cell_type": "code",
   "execution_count": null,
   "id": "8f5c6f3c-659a-4533-b20c-233183229cb0",
   "metadata": {},
   "outputs": [],
   "source": [
    "%load_ext autoreload\n",
    "%autoreload 2"
   ]
  },
  {
   "cell_type": "code",
   "execution_count": null,
   "id": "75ba74b8-c56c-414f-ac34-c9355dcffff5",
   "metadata": {},
   "outputs": [],
   "source": [
    "# Start by checking stuff out for the webgpt model"
   ]
  },
  {
   "cell_type": "code",
   "execution_count": null,
   "id": "d5bc4b04-22dd-4fbe-b2d1-356d009ba89b",
   "metadata": {},
   "outputs": [],
   "source": [
    "with open('../basepath.txt', 'r') as file:\n",
    "    bpath = file.read().strip()\n",
    "\n",
    "with open('../apfpath.txt', 'r') as file:\n",
    "    apfpath = file.read().strip()"
   ]
  },
  {
   "cell_type": "code",
   "execution_count": null,
   "id": "e2dc443b-0d20-453c-9db2-e3f4551344b6",
   "metadata": {},
   "outputs": [],
   "source": [
    "# for webgpt \n",
    "basename = apfpath+\"apfarm_models/sft10k/\"\n",
    "origmodel, toker = get_omodel(basename)"
   ]
  },
  {
   "cell_type": "code",
   "execution_count": null,
   "id": "e7db6dbb-fb8e-4d6e-a9ad-e9770ae3b6ec",
   "metadata": {},
   "outputs": [],
   "source": [
    "# for stack stuff\n",
    "basename = bpath+\"stack-llama/models/sft/\"\n",
    "origmodel, toker = get_omodel(basename)"
   ]
  },
  {
   "cell_type": "code",
   "execution_count": null,
   "id": "567ad5ec-aa63-4fdd-9147-092bc4c780ae",
   "metadata": {},
   "outputs": [],
   "source": [
    "generation_kwargs = {\n",
    "    \"min_new_tokens\": -1,\n",
    "    \"max_new_tokens\":512,\n",
    "    #\"top_k\": 0.0,\n",
    "    \"top_p\": 1,\n",
    "    #\"temperature\": 0.9,\n",
    "    \"do_sample\": True,\n",
    "    #\"repetition_penalty\": 1.2,\n",
    "    #\"pad_token_id\": tokenizer.pad_token_id,\n",
    "    #\"eos_token_id\": tokenizer.eos_token_id,\n",
    "}"
   ]
  },
  {
   "cell_type": "code",
   "execution_count": null,
   "id": "fbd2a067-f7e2-4375-9282-a0ef715e627b",
   "metadata": {},
   "outputs": [],
   "source": [
    "# for webgpt\n",
    "inps = load_dataset(\"openai/webgpt_comparisons\", split=\"test\")"
   ]
  },
  {
   "cell_type": "code",
   "execution_count": null,
   "id": "912555e4-8280-4081-b55a-4a914efb3063",
   "metadata": {},
   "outputs": [],
   "source": [
    "inps = load_dataset(\"lvwerra/stack-exchange-paired\", data_dir=\"data/evaluation\", split=\"train\")"
   ]
  },
  {
   "cell_type": "code",
   "execution_count": null,
   "id": "60aa7077-b667-4a35-bd55-9f86c0a37ce9",
   "metadata": {},
   "outputs": [],
   "source": [
    "ind = 20\n",
    "qtemp = adjust_input_apf(inps[ind]['question']['full_text'])\n",
    "toks, outs = generate_outputs([qtemp], toker, origmodel, generation_kwargs)\n",
    "print(len(toks[0]))\n",
    "print(outs[0])"
   ]
  },
  {
   "cell_type": "code",
   "execution_count": null,
   "id": "f8a56524-c8eb-495d-b710-88cd31976eed",
   "metadata": {},
   "outputs": [],
   "source": [
    "#SFT Starts out reasonably short"
   ]
  },
  {
   "cell_type": "code",
   "execution_count": null,
   "id": "8a7ec7f6-6b43-4b9c-9772-d40eb442cf0a",
   "metadata": {},
   "outputs": [],
   "source": [
    "adaptpath = bpath+\"/webgpt-llama/checkpoints/wgptapsft/step_125\"\n",
    "amod = get_peft_ckpt(origmodel, adaptpath)"
   ]
  },
  {
   "cell_type": "code",
   "execution_count": null,
   "id": "1bf819d6-12c0-455b-bd9e-0132542db57c",
   "metadata": {},
   "outputs": [],
   "source": [
    "ind = 40\n",
    "qtemp = adjust_input_apf(inps[ind]['question']['full_text'])\n",
    "toks, outs = generate_outputs([qtemp], toker, amod, generation_kwargs)\n",
    "print(len(toks[0]))\n",
    "print(outs[0])"
   ]
  },
  {
   "cell_type": "code",
   "execution_count": null,
   "id": "01db2330-6318-43b0-a587-4449e476a45e",
   "metadata": {},
   "outputs": [],
   "source": [
    "# Testing stuff for Stack Model (OOF the KL was too high to be a reproduction...)"
   ]
  },
  {
   "cell_type": "code",
   "execution_count": null,
   "id": "108641fe-c3a5-4f0d-8dd3-57b0bf81969a",
   "metadata": {
    "scrolled": true
   },
   "outputs": [],
   "source": [
    "lens = []\n",
    "for ind in range(0, 20):\n",
    "    qtemp = adjust_input_stack(inps[ind]['question'])\n",
    "    toks, outs = generate_outputs([qtemp], toker, origmodel, generation_kwargs)\n",
    "    print(len(toks[0]))\n",
    "    print(outs[0])\n",
    "    lens.append(len(toker(outs[0].split(\"Answer:\")[1]).input_ids))"
   ]
  },
  {
   "cell_type": "code",
   "execution_count": null,
   "id": "a42581d2-57f3-4978-9725-ee87a1f88f96",
   "metadata": {},
   "outputs": [],
   "source": [
    "adaptpath = bpath+\"/stack-llama/checkpoints/lenhacksanity/step_125\"\n",
    "amod = get_peft_ckpt(origmodel, adaptpath)"
   ]
  },
  {
   "cell_type": "code",
   "execution_count": null,
   "id": "bbfbf2e8-78a9-41e1-afb2-136dc922c8d7",
   "metadata": {
    "scrolled": true
   },
   "outputs": [],
   "source": [
    "lens = []\n",
    "for ind in range(0, 20):\n",
    "    qtemp = adjust_input_stack(inps[ind]['question'])\n",
    "    toks, outs = generate_outputs([qtemp], toker, origmodel, generation_kwargs)\n",
    "    print(len(toks[0]))\n",
    "    print(outs[0])\n",
    "    lens.append(len(toker(outs[0].split(\"Answer:\")[1]).input_ids))"
   ]
  },
  {
   "cell_type": "code",
   "execution_count": null,
   "id": "0016da73-80f5-4c7a-8810-16fce0f4fc44",
   "metadata": {},
   "outputs": [],
   "source": [
    "sum(lens)/len(lens)"
   ]
  },
  {
   "cell_type": "code",
   "execution_count": null,
   "id": "70cab0f9-0a78-4298-8f2a-d4cd41f5981c",
   "metadata": {},
   "outputs": [],
   "source": [
    "lens"
   ]
  },
  {
   "cell_type": "code",
   "execution_count": null,
   "id": "921510a0-64c8-4d60-8a92-cd0adb2e1e51",
   "metadata": {},
   "outputs": [],
   "source": []
  }
 ],
 "metadata": {
  "kernelspec": {
   "display_name": "Python 3 (ipykernel)",
   "language": "python",
   "name": "python3"
  },
  "language_info": {
   "codemirror_mode": {
    "name": "ipython",
    "version": 3
   },
   "file_extension": ".py",
   "mimetype": "text/x-python",
   "name": "python",
   "nbconvert_exporter": "python",
   "pygments_lexer": "ipython3",
   "version": "3.9.0"
  }
 },
 "nbformat": 4,
 "nbformat_minor": 5
}
