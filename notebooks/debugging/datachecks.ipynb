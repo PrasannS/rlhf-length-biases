{
 "cells": [
  {
   "cell_type": "code",
   "execution_count": null,
   "id": "5731f9c4-43bd-4e4e-9af9-102c8c3464f2",
   "metadata": {},
   "outputs": [],
   "source": [
    "# use this notebook to check up on adversarial data"
   ]
  },
  {
   "cell_type": "code",
   "execution_count": null,
   "id": "83fb0583-bf99-4447-a472-582045d5d501",
   "metadata": {},
   "outputs": [],
   "source": [
    "import pandas as pd\n",
    "from rlhfutils.debug_utils import load_all_hackdfs, highlight_differences\n",
    "from datasets import load_dataset\n",
    "import matplotlib.pyplot as plt"
   ]
  },
  {
   "cell_type": "code",
   "execution_count": null,
   "id": "1a714b1b-4637-4297-91f6-7fcf6321718e",
   "metadata": {},
   "outputs": [],
   "source": [
    "appref = load_dataset(\"tatsu-lab/alpaca_farm\", 'alpaca_human_preference')['preference']"
   ]
  },
  {
   "cell_type": "code",
   "execution_count": null,
   "id": "3060297a-0bc8-4658-97ff-bdbb6b380fa9",
   "metadata": {},
   "outputs": [],
   "source": [
    "appref[10]"
   ]
  },
  {
   "cell_type": "code",
   "execution_count": null,
   "id": "806ef172-2d28-41c0-aab6-4fd39f29a60d",
   "metadata": {
    "scrolled": true
   },
   "outputs": [],
   "source": [
    "train_dataset = load_dataset(\"csv\", data_files=\"../rlcd-llama/simulated_data/simulated_preference_data_consolidated_helpful7b.csv\")['train']\n"
   ]
  },
  {
   "cell_type": "code",
   "execution_count": null,
   "id": "24f9ee12-b7ae-4c02-9907-7283ed4532f0",
   "metadata": {},
   "outputs": [],
   "source": [
    "def adjust_input(qval, rval):\n",
    "    return \"Below is an instruction that describes a task. Write a response that appropriately completes the request.\\n\\n### Instruction:\\n\"+qval+\"\\n\\n### Response:\"+rval\n",
    "\n",
    "def preproc_rlcd(example):\n",
    "    ex = {}\n",
    "    ex['question'] = example['instruction'][len(\"Human: \"):-len(\"\\n\\nAssistant:\")]\n",
    "    if example['preference']==1:\n",
    "        ex['response_j'] = adjust_input(ex['question'], example['output_1'])\n",
    "        ex['response_k'] = adjust_input(ex['question'], example['output_2'])\n",
    "    else:\n",
    "        ex['response_k'] = adjust_input(ex['question'], example['output_1'])\n",
    "        ex['response_j'] = adjust_input(ex['question'], example['output_2'])\n",
    "    return ex\n",
    "\n",
    " \n",
    "train_dataset = train_dataset.map(preproc_rlcd)"
   ]
  },
  {
   "cell_type": "code",
   "execution_count": null,
   "id": "6981469b-d3a8-49fb-9080-42dccd841e90",
   "metadata": {},
   "outputs": [],
   "source": [
    "train_dataset[0]"
   ]
  },
  {
   "cell_type": "code",
   "execution_count": null,
   "id": "cddfeb72-fe9e-4ff7-b5c8-cb112953891a",
   "metadata": {},
   "outputs": [],
   "source": [
    "train+"
   ]
  },
  {
   "cell_type": "code",
   "execution_count": null,
   "id": "c19a2bc2-911c-4487-b996-07a216f5be33",
   "metadata": {},
   "outputs": [],
   "source": [
    "rlcdpdset = pd.read_csv(\"../rlcd-llama/simulated_data/simulated_preference_data_consolidated_helpful7b.csv\")"
   ]
  },
  {
   "cell_type": "code",
   "execution_count": null,
   "id": "03b67ebc-0283-4fe9-9353-5b75f8498489",
   "metadata": {},
   "outputs": [],
   "source": [
    "rlcdpdset"
   ]
  },
  {
   "cell_type": "code",
   "execution_count": null,
   "id": "5ccf7272-7314-4b39-97d2-0cb0fea31183",
   "metadata": {},
   "outputs": [],
   "source": [
    "rlcdpdset['instruction'][0]"
   ]
  },
  {
   "cell_type": "code",
   "execution_count": null,
   "id": "22bd1230-a037-44f0-bfda-167186d25e62",
   "metadata": {},
   "outputs": [],
   "source": [
    "def parse_row(examp):\n",
    "    ex = {}\n",
    "    bspl = examp['bestseqs'][-1].split(\"\\n\\nAnswer:\")\n",
    "    ospl = examp['origseq'].split(\"\\n\\nAnswer:\")\n",
    "    ex['question'] = bspl[0][len(\"Question: \"):]\n",
    "    ex['response_j'] = bspl[1]\n",
    "    ex['response_k'] = ospl[1]\n",
    "    return ex"
   ]
  },
  {
   "cell_type": "code",
   "execution_count": null,
   "id": "d85133bd-709d-4753-b917-35749521f979",
   "metadata": {},
   "outputs": [],
   "source": [
    "adfs = load_all_hackdfs(\"../rm-attacks/attackouts/dset/\")"
   ]
  },
  {
   "cell_type": "code",
   "execution_count": null,
   "id": "7e8e9377-c83f-4b95-b4c6-9dac8050f8ba",
   "metadata": {},
   "outputs": [],
   "source": [
    "dshuffs = pd.concat([adfs['dsetshuff'], adfs['dsetshuff2']]).reset_index(drop=True)"
   ]
  },
  {
   "cell_type": "code",
   "execution_count": null,
   "id": "98f6e695-96b3-41ed-9af8-a0ab62fe2be4",
   "metadata": {},
   "outputs": [],
   "source": [
    "imp = dshuffs[dshuffs['diff']>.05].reset_index(drop=True)\n"
   ]
  },
  {
   "cell_type": "code",
   "execution_count": null,
   "id": "a6c42389-5dd2-4d9f-a197-7d9a3a5f49c6",
   "metadata": {
    "scrolled": true
   },
   "outputs": [],
   "source": [
    "imp.to_json(\"../outputs/augdata/actualdata.jsonl\", orient='records', lines=True)"
   ]
  },
  {
   "cell_type": "code",
   "execution_count": null,
   "id": "3ee85dc4-b88e-49b8-a546-a7a35ebe8547",
   "metadata": {},
   "outputs": [],
   "source": [
    "adv_hacks = load_all_hackdfs(\"../rm-attacks/attackouts/reprodcheck/\")\n",
    "print(adv_hacks.keys())"
   ]
  },
  {
   "cell_type": "code",
   "execution_count": null,
   "id": "5a54c586-75b6-4d81-8cde-b6926bb9d8e7",
   "metadata": {},
   "outputs": [],
   "source": [
    "adv_hacks['advdatiebreak']['diff'].mean()"
   ]
  },
  {
   "cell_type": "code",
   "execution_count": null,
   "id": "7dca7bdd-bc86-4b75-bed5-95b8010168c2",
   "metadata": {},
   "outputs": [],
   "source": [
    "def truncorig(odf, ndf):\n",
    "    ndf = ndf[:150]\n",
    "    odf['soseq'] = odf['origseq'].str[:150]\n",
    "    ndf['soseq'] = ndf['origseq'].str[:150]\n",
    "    # Drop duplicates to keep only the first instance of each unique 10-character substring\n",
    "    odf.drop_duplicates(subset=['soseq'], inplace=True)\n",
    "    ndf.drop_duplicates(subset=['soseq'], inplace=True)\n",
    "    common_elements = set(list(odf['soseq'])).intersection(set(list(ndf['soseq'])))\n",
    "    odf_filt = odf[odf['soseq'].isin(common_elements)].reset_index(drop=True)\n",
    "    ndf_filt = ndf[ndf['soseq'].isin(common_elements)].reset_index(drop=True)\n",
    "    odf_filt = odf_filt.sort_values(by='soseq')\n",
    "    ndf_filt = ndf_filt.sort_values(by='soseq')\n",
    "    return odf_filt, ndf_filt"
   ]
  },
  {
   "cell_type": "code",
   "execution_count": null,
   "id": "e033059c-77a2-4c5e-944a-305595578155",
   "metadata": {},
   "outputs": [],
   "source": [
    "otrunc, ntrunc = truncorig(imp, adv_hacks['advdatiebreak'])"
   ]
  },
  {
   "cell_type": "code",
   "execution_count": null,
   "id": "a60bf5d9-b1b1-4565-a51b-eab5bf7e52a1",
   "metadata": {},
   "outputs": [],
   "source": [
    "print(ntrunc['diff'].mean())\n",
    "print(len(ntrunc[ntrunc['diff']==0])/len(ntrunc))\n",
    "plt.hist(ntrunc['diff'])"
   ]
  },
  {
   "cell_type": "code",
   "execution_count": null,
   "id": "ba04ce91-c33e-4493-8ff5-292f54f8dd15",
   "metadata": {},
   "outputs": [],
   "source": [
    "ntrunc"
   ]
  },
  {
   "cell_type": "code",
   "execution_count": null,
   "id": "d570f3d6-c17d-4144-b993-ed7ae747c4e6",
   "metadata": {},
   "outputs": [],
   "source": [
    "len(otrunc)"
   ]
  },
  {
   "cell_type": "code",
   "execution_count": null,
   "id": "9acf032e-4dd1-43ee-ac11-faf77729762f",
   "metadata": {},
   "outputs": [],
   "source": [
    "otrunc['diff'].mean()"
   ]
  },
  {
   "cell_type": "code",
   "execution_count": null,
   "id": "5a09a91a-46d0-4b67-8177-c2adc6d7e80e",
   "metadata": {},
   "outputs": [],
   "source": [
    "ntrunc['diff'].mean()"
   ]
  },
  {
   "cell_type": "code",
   "execution_count": null,
   "id": "71c43a35-61bb-4209-abc1-59fb2d7e001d",
   "metadata": {},
   "outputs": [],
   "source": [
    "flip = nds.copy().rename(columns={'response_j':'response_k', 'response_k':'response_j'})"
   ]
  },
  {
   "cell_type": "code",
   "execution_count": null,
   "id": "0abc3e5c-4ef0-4b18-bbe0-6a865d56d28e",
   "metadata": {},
   "outputs": [],
   "source": [
    "flip"
   ]
  },
  {
   "cell_type": "code",
   "execution_count": null,
   "id": "9540e7db-7175-4a94-aeb9-f7d64ef8396c",
   "metadata": {},
   "outputs": [],
   "source": [
    "fullaug = pd.concat([nds, flip]).reset_index(drop=True)"
   ]
  },
  {
   "cell_type": "code",
   "execution_count": null,
   "id": "c0cebb8e-66c4-4f41-bf25-379acaaae087",
   "metadata": {},
   "outputs": [],
   "source": [
    "fullaug"
   ]
  },
  {
   "cell_type": "code",
   "execution_count": null,
   "id": "39c9f478-f33b-4ab5-8bec-d270207088cc",
   "metadata": {},
   "outputs": [],
   "source": [
    "fullaug.to_json('../outputs/augdata/'+\"augstackv1.jsonl\", lines=True, orient='records')"
   ]
  },
  {
   "cell_type": "code",
   "execution_count": null,
   "id": "064b3666-0205-4446-b5d8-80a72e2080a0",
   "metadata": {},
   "outputs": [],
   "source": [
    "read = pd.read_json('../outputs/augdata/'+\"augstackv1.jsonl\", lines=True, orient='records')"
   ]
  },
  {
   "cell_type": "code",
   "execution_count": null,
   "id": "042d621e-10de-4006-931d-0f03ff439d11",
   "metadata": {},
   "outputs": [],
   "source": [
    "read"
   ]
  },
  {
   "cell_type": "code",
   "execution_count": null,
   "id": "315eca71-2e7a-4cd4-97ac-f8438446f79c",
   "metadata": {},
   "outputs": [],
   "source": []
  }
 ],
 "metadata": {
  "kernelspec": {
   "display_name": "Python 3 (ipykernel)",
   "language": "python",
   "name": "python3"
  },
  "language_info": {
   "codemirror_mode": {
    "name": "ipython",
    "version": 3
   },
   "file_extension": ".py",
   "mimetype": "text/x-python",
   "name": "python",
   "nbconvert_exporter": "python",
   "pygments_lexer": "ipython3",
   "version": "3.9.0"
  }
 },
 "nbformat": 4,
 "nbformat_minor": 5
}
