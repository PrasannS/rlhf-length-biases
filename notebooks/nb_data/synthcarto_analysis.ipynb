{
 "cells": [
  {
   "cell_type": "code",
   "execution_count": 1,
   "id": "fe5e2b16-f240-4a86-9763-a694370641eb",
   "metadata": {},
   "outputs": [],
   "source": [
    "# a notebook for dataset cartography analysis w.r.t the new synthetic tasks"
   ]
  },
  {
   "cell_type": "code",
   "execution_count": 1,
   "id": "f96b8893-7f08-42e3-929c-a59f92a9b3cc",
   "metadata": {},
   "outputs": [
    {
     "name": "stderr",
     "output_type": "stream",
     "text": [
      "/u/prasanns/miniconda3/envs/rlhfenv/lib/python3.10/site-packages/tqdm/auto.py:21: TqdmWarning: IProgress not found. Please update jupyter and ipywidgets. See https://ipywidgets.readthedocs.io/en/stable/user_install.html\n",
      "  from .autonotebook import tqdm as notebook_tqdm\n"
     ]
    }
   ],
   "source": [
    "import pandas as pd\n",
    "import matplotlib.pyplot as plt\n",
    "from statistics import mean, stdev\n",
    "import matplotlib\n",
    "from rlhfutils.data import load_wgpt, augment_data, load_apfarm, load_stack, load_rlcd\n",
    "from dataclasses import dataclass\n",
    "from transformers import AutoTokenizer\n",
    "from collections import Counter\n",
    "import random\n",
    "from statistics import mean, stdev\n",
    "from random import choices\n",
    "import seaborn as sns\n",
    "from datasets import Dataset\n",
    "from rlhfutils.data import load_manual"
   ]
  },
  {
   "cell_type": "code",
   "execution_count": 2,
   "id": "466a354b-b985-41b5-9b25-b667050880e2",
   "metadata": {},
   "outputs": [],
   "source": [
    "%load_ext autoreload\n",
    "%autoreload 2"
   ]
  },
  {
   "cell_type": "code",
   "execution_count": 3,
   "id": "b79b38e4-d933-473b-a348-b246253a9bb4",
   "metadata": {},
   "outputs": [],
   "source": [
    "def collect_and_sort(series):\n",
    "    return list(series.sort_index())\n",
    "\n",
    "def make_statdf(cdf):\n",
    "    # Group by 'uid' and aggregate\n",
    "    new_df = cdf.groupby('uid').agg({\n",
    "        'rew_j': collect_and_sort,\n",
    "        'rew_k': collect_and_sort\n",
    "    }).reset_index()\n",
    "    new_df['diffs'] = [[r['rew_j'][i] - r['rew_k'][i] for i in range(len(r['rew_j']))] for _, r in new_df.iterrows()]\n",
    "    return new_df"
   ]
  },
  {
   "cell_type": "code",
   "execution_count": 118,
   "id": "7b49b44b-ecf8-473b-a395-79f50bca2fc0",
   "metadata": {},
   "outputs": [
    {
     "name": "stderr",
     "output_type": "stream",
     "text": [
      "Loading cached shuffled indices for dataset at /scratch/cluster/prasanns/research/rlhf-length-biases/data/ratiovarbow/30/cache-b3a67f45464d139d.arrow\n"
     ]
    },
    {
     "name": "stdout",
     "output_type": "stream",
     "text": [
      "GOING THROUGH PROCESS FOR ../../data/ratiovarbow/30/\n",
      "initial size  40913\n",
      "using custom eval data  ../../data/ratiovarbow/heldouttest/\n",
      "40503\n",
      "eval len\n",
      "3351\n"
     ]
    }
   ],
   "source": [
    "odf, _ = load_manual(\"../../data/ratiovarbow/30/\", \"\", \"../../data/ratiovarbow/heldouttest/\")\n",
    "odf = odf.shuffle(seed=100)"
   ]
  },
  {
   "cell_type": "code",
   "execution_count": 119,
   "id": "9a1cf2da-b9b2-4e9f-aa17-02c2a7ab2e8c",
   "metadata": {},
   "outputs": [],
   "source": [
    "cartouts = pd.read_json(\"../../carto_outs/30rmv2.jsonl\", lines=True, orient='records')\n",
    "cdf = make_statdf(cartouts)"
   ]
  },
  {
   "cell_type": "code",
   "execution_count": 120,
   "id": "769696de-e375-418e-a2b1-5beda49f8d05",
   "metadata": {},
   "outputs": [],
   "source": [
    "odata = pd.DataFrame(odf)"
   ]
  },
  {
   "cell_type": "code",
   "execution_count": 24,
   "id": "b2a17c9b-d30e-402a-a889-04ddbbcac97e",
   "metadata": {},
   "outputs": [
    {
     "data": {
      "text/html": [
       "<div>\n",
       "<style scoped>\n",
       "    .dataframe tbody tr th:only-of-type {\n",
       "        vertical-align: middle;\n",
       "    }\n",
       "\n",
       "    .dataframe tbody tr th {\n",
       "        vertical-align: top;\n",
       "    }\n",
       "\n",
       "    .dataframe thead th {\n",
       "        text-align: right;\n",
       "    }\n",
       "</style>\n",
       "<table border=\"1\" class=\"dataframe\">\n",
       "  <thead>\n",
       "    <tr style=\"text-align: right;\">\n",
       "      <th></th>\n",
       "      <th>question</th>\n",
       "      <th>source</th>\n",
       "      <th>modj</th>\n",
       "      <th>modk</th>\n",
       "      <th>tokj</th>\n",
       "      <th>tok</th>\n",
       "      <th>response_j</th>\n",
       "      <th>response_k</th>\n",
       "      <th>magnitude</th>\n",
       "      <th>score_j</th>\n",
       "      <th>score_k</th>\n",
       "      <th>__index_level_0__</th>\n",
       "    </tr>\n",
       "  </thead>\n",
       "  <tbody>\n",
       "    <tr>\n",
       "      <th>0</th>\n",
       "      <td>You will be given a definition of a task first...</td>\n",
       "      <td>flan_v2_niv2</td>\n",
       "      <td>llama-2-7b-chat</td>\n",
       "      <td>mpt-30b-chat</td>\n",
       "      <td>176</td>\n",
       "      <td>163</td>\n",
       "      <td>Great, I'm happy to help you with this! To ans...</td>\n",
       "      <td>To solve this problem, we need to first find t...</td>\n",
       "      <td>3.0</td>\n",
       "      <td>4.0</td>\n",
       "      <td>1.0</td>\n",
       "      <td>18971</td>\n",
       "    </tr>\n",
       "    <tr>\n",
       "      <th>1</th>\n",
       "      <td>Can you design a Python program that takes in ...</td>\n",
       "      <td>evol_instruct</td>\n",
       "      <td>llama-2-13b-chat</td>\n",
       "      <td>falcon-40b-instruct</td>\n",
       "      <td>657</td>\n",
       "      <td>88</td>\n",
       "      <td>Of course! I'd be happy to help you with your ...</td>\n",
       "      <td>Will this program identify the recent promotio...</td>\n",
       "      <td>3.0</td>\n",
       "      <td>5.0</td>\n",
       "      <td>2.0</td>\n",
       "      <td>28754</td>\n",
       "    </tr>\n",
       "    <tr>\n",
       "      <th>2</th>\n",
       "      <td>How many times a week should one do a HIIT wor...</td>\n",
       "      <td>ultrachat</td>\n",
       "      <td>llama-2-7b-chat</td>\n",
       "      <td>ultralm-65b</td>\n",
       "      <td>287</td>\n",
       "      <td>89</td>\n",
       "      <td>Thank you for trusting me with your question! ...</td>\n",
       "      <td>I cannot provide medical recommendations. howe...</td>\n",
       "      <td>3.0</td>\n",
       "      <td>5.0</td>\n",
       "      <td>2.0</td>\n",
       "      <td>112805</td>\n",
       "    </tr>\n",
       "    <tr>\n",
       "      <th>3</th>\n",
       "      <td>Write me a usability testing script for a real...</td>\n",
       "      <td>sharegpt</td>\n",
       "      <td>wizardlm-70b</td>\n",
       "      <td>alpaca-7b</td>\n",
       "      <td>612</td>\n",
       "      <td>182</td>\n",
       "      <td>A usability testing script for a real estate c...</td>\n",
       "      <td>Usability Testing Script for Real Estate Compa...</td>\n",
       "      <td>2.0</td>\n",
       "      <td>2.0</td>\n",
       "      <td>0.0</td>\n",
       "      <td>133711</td>\n",
       "    </tr>\n",
       "    <tr>\n",
       "      <th>4</th>\n",
       "      <td>Write out the steps for creating a DIY bookshe...</td>\n",
       "      <td>ultrachat</td>\n",
       "      <td>llama-2-7b-chat</td>\n",
       "      <td>starchat</td>\n",
       "      <td>646</td>\n",
       "      <td>274</td>\n",
       "      <td>Of course, I'm happy to help you with creating...</td>\n",
       "      <td>Materials:\\n\\nLumber board (1x4 or 1x6)\\nWood ...</td>\n",
       "      <td>3.0</td>\n",
       "      <td>3.0</td>\n",
       "      <td>0.0</td>\n",
       "      <td>30937</td>\n",
       "    </tr>\n",
       "    <tr>\n",
       "      <th>...</th>\n",
       "      <td>...</td>\n",
       "      <td>...</td>\n",
       "      <td>...</td>\n",
       "      <td>...</td>\n",
       "      <td>...</td>\n",
       "      <td>...</td>\n",
       "      <td>...</td>\n",
       "      <td>...</td>\n",
       "      <td>...</td>\n",
       "      <td>...</td>\n",
       "      <td>...</td>\n",
       "      <td>...</td>\n",
       "    </tr>\n",
       "    <tr>\n",
       "      <th>40498</th>\n",
       "      <td>How can I create a comprehensive response to a...</td>\n",
       "      <td>evol_instruct</td>\n",
       "      <td>llama-2-13b-chat</td>\n",
       "      <td>wizardlm-7b</td>\n",
       "      <td>950</td>\n",
       "      <td>564</td>\n",
       "      <td>Thank you for reaching out with your question....</td>\n",
       "      <td>To create a comprehensive response to a custom...</td>\n",
       "      <td>3.0</td>\n",
       "      <td>5.0</td>\n",
       "      <td>2.0</td>\n",
       "      <td>95735</td>\n",
       "    </tr>\n",
       "    <tr>\n",
       "      <th>40499</th>\n",
       "      <td>Is it possible through the Azure Devops API to...</td>\n",
       "      <td>sharegpt</td>\n",
       "      <td>llama-2-13b-chat</td>\n",
       "      <td>ultralm-65b</td>\n",
       "      <td>579</td>\n",
       "      <td>227</td>\n",
       "      <td>Hello! I'm here to help you with your question...</td>\n",
       "      <td>Yes, it is possible to retrieve the initial pr...</td>\n",
       "      <td>4.0</td>\n",
       "      <td>5.0</td>\n",
       "      <td>1.0</td>\n",
       "      <td>13114</td>\n",
       "    </tr>\n",
       "    <tr>\n",
       "      <th>40500</th>\n",
       "      <td>i need to prepare a ppt with reference to faci...</td>\n",
       "      <td>sharegpt</td>\n",
       "      <td>wizardlm-70b</td>\n",
       "      <td>llama-2-7b-chat</td>\n",
       "      <td>536</td>\n",
       "      <td>1024</td>\n",
       "      <td>Understood! I'm glad to help you prepare a PPT...</td>\n",
       "      <td>Title: Facial Attendance Monitoring System\\n\\n...</td>\n",
       "      <td>3.0</td>\n",
       "      <td>3.0</td>\n",
       "      <td>0.0</td>\n",
       "      <td>254647</td>\n",
       "    </tr>\n",
       "    <tr>\n",
       "      <th>40501</th>\n",
       "      <td>What were the names of some of the most memora...</td>\n",
       "      <td>ultrachat</td>\n",
       "      <td>pythia-12b</td>\n",
       "      <td>bard</td>\n",
       "      <td>333</td>\n",
       "      <td>447</td>\n",
       "      <td>As an AI assistant, I don't have personal feel...</td>\n",
       "      <td>The 1976 Winter Olympics, officially the XIII ...</td>\n",
       "      <td>3.0</td>\n",
       "      <td>3.0</td>\n",
       "      <td>0.0</td>\n",
       "      <td>54474</td>\n",
       "    </tr>\n",
       "    <tr>\n",
       "      <th>40502</th>\n",
       "      <td>As a simulation-based training company CTO, I'...</td>\n",
       "      <td>sharegpt</td>\n",
       "      <td>gpt-4</td>\n",
       "      <td>wizardlm-7b</td>\n",
       "      <td>441</td>\n",
       "      <td>369</td>\n",
       "      <td>Yes, that sounds like a great plan! Here are s...</td>\n",
       "      <td>Absolutely, writing a professional white paper...</td>\n",
       "      <td>3.0</td>\n",
       "      <td>3.0</td>\n",
       "      <td>0.0</td>\n",
       "      <td>205466</td>\n",
       "    </tr>\n",
       "  </tbody>\n",
       "</table>\n",
       "<p>40503 rows × 12 columns</p>\n",
       "</div>"
      ],
      "text/plain": [
       "                                                question         source  \\\n",
       "0      You will be given a definition of a task first...   flan_v2_niv2   \n",
       "1      Can you design a Python program that takes in ...  evol_instruct   \n",
       "2      How many times a week should one do a HIIT wor...      ultrachat   \n",
       "3      Write me a usability testing script for a real...       sharegpt   \n",
       "4      Write out the steps for creating a DIY bookshe...      ultrachat   \n",
       "...                                                  ...            ...   \n",
       "40498  How can I create a comprehensive response to a...  evol_instruct   \n",
       "40499  Is it possible through the Azure Devops API to...       sharegpt   \n",
       "40500  i need to prepare a ppt with reference to faci...       sharegpt   \n",
       "40501  What were the names of some of the most memora...      ultrachat   \n",
       "40502  As a simulation-based training company CTO, I'...       sharegpt   \n",
       "\n",
       "                   modj                 modk  tokj   tok  \\\n",
       "0       llama-2-7b-chat         mpt-30b-chat   176   163   \n",
       "1      llama-2-13b-chat  falcon-40b-instruct   657    88   \n",
       "2       llama-2-7b-chat          ultralm-65b   287    89   \n",
       "3          wizardlm-70b            alpaca-7b   612   182   \n",
       "4       llama-2-7b-chat             starchat   646   274   \n",
       "...                 ...                  ...   ...   ...   \n",
       "40498  llama-2-13b-chat          wizardlm-7b   950   564   \n",
       "40499  llama-2-13b-chat          ultralm-65b   579   227   \n",
       "40500      wizardlm-70b      llama-2-7b-chat   536  1024   \n",
       "40501        pythia-12b                 bard   333   447   \n",
       "40502             gpt-4          wizardlm-7b   441   369   \n",
       "\n",
       "                                              response_j  \\\n",
       "0      Great, I'm happy to help you with this! To ans...   \n",
       "1      Of course! I'd be happy to help you with your ...   \n",
       "2      Thank you for trusting me with your question! ...   \n",
       "3      A usability testing script for a real estate c...   \n",
       "4      Of course, I'm happy to help you with creating...   \n",
       "...                                                  ...   \n",
       "40498  Thank you for reaching out with your question....   \n",
       "40499  Hello! I'm here to help you with your question...   \n",
       "40500  Understood! I'm glad to help you prepare a PPT...   \n",
       "40501  As an AI assistant, I don't have personal feel...   \n",
       "40502  Yes, that sounds like a great plan! Here are s...   \n",
       "\n",
       "                                              response_k  magnitude  score_j  \\\n",
       "0      To solve this problem, we need to first find t...        3.0      4.0   \n",
       "1      Will this program identify the recent promotio...        3.0      5.0   \n",
       "2      I cannot provide medical recommendations. howe...        3.0      5.0   \n",
       "3      Usability Testing Script for Real Estate Compa...        2.0      2.0   \n",
       "4      Materials:\\n\\nLumber board (1x4 or 1x6)\\nWood ...        3.0      3.0   \n",
       "...                                                  ...        ...      ...   \n",
       "40498  To create a comprehensive response to a custom...        3.0      5.0   \n",
       "40499  Yes, it is possible to retrieve the initial pr...        4.0      5.0   \n",
       "40500  Title: Facial Attendance Monitoring System\\n\\n...        3.0      3.0   \n",
       "40501  The 1976 Winter Olympics, officially the XIII ...        3.0      3.0   \n",
       "40502  Absolutely, writing a professional white paper...        3.0      3.0   \n",
       "\n",
       "       score_k  __index_level_0__  \n",
       "0          1.0              18971  \n",
       "1          2.0              28754  \n",
       "2          2.0             112805  \n",
       "3          0.0             133711  \n",
       "4          0.0              30937  \n",
       "...        ...                ...  \n",
       "40498      2.0              95735  \n",
       "40499      1.0              13114  \n",
       "40500      0.0             254647  \n",
       "40501      0.0              54474  \n",
       "40502      0.0             205466  \n",
       "\n",
       "[40503 rows x 12 columns]"
      ]
     },
     "execution_count": 24,
     "metadata": {},
     "output_type": "execute_result"
    }
   ],
   "source": [
    "odata"
   ]
  },
  {
   "cell_type": "code",
   "execution_count": 121,
   "id": "636fc5d3-12ad-45fd-b61a-1fc1534681d8",
   "metadata": {},
   "outputs": [],
   "source": [
    "cdf['diffv'] = list([stdev(s) for s in cdf['diffs']])\n",
    "cdf['diffm'] = list([mean(s) for s in cdf['diffs']])"
   ]
  },
  {
   "cell_type": "code",
   "execution_count": 122,
   "id": "1e7b7e9f-5dfc-4a16-b9b1-b88ffacf5a08",
   "metadata": {},
   "outputs": [
    {
     "data": {
      "image/png": "[encoded data removed]",
      "text/plain": [
       "<Figure size 800x600 with 1 Axes>"
      ]
     },
     "metadata": {},
     "output_type": "display_data"
    }
   ],
   "source": [
    "# Create a scatter plot\n",
    "plt.figure(figsize=(8, 6))\n",
    "\n",
    "sns.kdeplot(x=list(cdf['diffv']), y=list(cdf['diffm']) , cmap=\"Reds\", fill=True, bw_adjust=.5)\n",
    "# Add labels and title if necessary\n",
    "plt.xlabel('Var across epochs')\n",
    "plt.ylabel('Mean across epochs')\n",
    "plt.title('Data Carto for 80 set')\n",
    "\n",
    "# Show the plot\n",
    "plt.show()"
   ]
  },
  {
   "cell_type": "code",
   "execution_count": 123,
   "id": "2bfb5ae2-789a-4ad4-be62-c354ca22456b",
   "metadata": {},
   "outputs": [
    {
     "data": {
      "text/plain": [
       "Index(['question', 'source', 'modj', 'modk', 'tokj', 'tok', 'response_j',\n",
       "       'response_k', 'magnitude', 'score_j', 'score_k', '__index_level_0__'],\n",
       "      dtype='object')"
      ]
     },
     "execution_count": 123,
     "metadata": {},
     "output_type": "execute_result"
    }
   ],
   "source": [
    "odata.keys()"
   ]
  },
  {
   "cell_type": "code",
   "execution_count": 140,
   "id": "63f6cbf4-cdff-41ff-85f5-a73a61131eed",
   "metadata": {},
   "outputs": [
    {
     "data": {
      "text/plain": [
       "(array([ 9863.,     0.,     0.,     0.,     0.,     0.,     0.,     0.,\n",
       "            0., 17425.]),\n",
       " array([0. , 0.1, 0.2, 0.3, 0.4, 0.5, 0.6, 0.7, 0.8, 0.9, 1. ]),\n",
       " <BarContainer object of 10 artists>)"
      ]
     },
     "execution_count": 140,
     "metadata": {},
     "output_type": "execute_result"
    },
    {
     "data": {
      "image/png": "[encoded data removed]",
      "text/plain": [
       "<Figure size 2400x600 with 1 Axes>"
      ]
     },
     "metadata": {},
     "output_type": "display_data"
    }
   ],
   "source": [
    "cond = list(cdf[cdf['diffv']>0.5]['uid'])\n",
    "tmp = odata.loc[cond]\n",
    "plt.figure(figsize=(24, 6))\n",
    "plt.hist(tmp['magnitude'])"
   ]
  },
  {
   "cell_type": "code",
   "execution_count": 70,
   "id": "4cc2e415-4ab9-40d3-9709-90d1df8d4105",
   "metadata": {},
   "outputs": [
    {
     "data": {
      "text/plain": [
       "(array([8585., 3923., 4100., 1029.,    0., 3184.,  809.,   86.,  408.,\n",
       "         187.]),\n",
       " array([0. , 0.8, 1.6, 2.4, 3.2, 4. , 4.8, 5.6, 6.4, 7.2, 8. ]),\n",
       " <BarContainer object of 10 artists>)"
      ]
     },
     "execution_count": 70,
     "metadata": {},
     "output_type": "execute_result"
    },
    {
     "data": {
      "image/png": "[encoded data removed]",
      "text/plain": [
       "<Figure size 640x480 with 1 Axes>"
      ]
     },
     "metadata": {},
     "output_type": "display_data"
    }
   ],
   "source": [
    "plt.hist(tmp['source'])"
   ]
  },
  {
   "cell_type": "code",
   "execution_count": null,
   "id": "dc9be4cb-0a96-46f0-8c8c-12245c60d2a1",
   "metadata": {},
   "outputs": [],
   "source": []
  }
 ],
 "metadata": {
  "kernelspec": {
   "display_name": "Python 3 (ipykernel)",
   "language": "python",
   "name": "python3"
  },
  "language_info": {
   "codemirror_mode": {
    "name": "ipython",
    "version": 3
   },
   "file_extension": ".py",
   "mimetype": "text/x-python",
   "name": "python",
   "nbconvert_exporter": "python",
   "pygments_lexer": "ipython3",
   "version": "3.10.0"
  }
 },
 "nbformat": 4,
 "nbformat_minor": 5
}
