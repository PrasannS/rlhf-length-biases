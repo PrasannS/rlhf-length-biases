{
 "cells": [
  {
   "cell_type": "code",
   "execution_count": 1,
   "id": "4ed78215-fcc2-4e3d-b367-e6f8dc669874",
   "metadata": {},
   "outputs": [
    {
     "name": "stderr",
     "output_type": "stream",
     "text": [
      "/u/prasanns/miniconda3/envs/rlhfenv/lib/python3.10/site-packages/tqdm/auto.py:21: TqdmWarning: IProgress not found. Please update jupyter and ipywidgets. See https://ipywidgets.readthedocs.io/en/stable/user_install.html\n",
      "  from .autonotebook import tqdm as notebook_tqdm\n"
     ]
    },
    {
     "name": "stdout",
     "output_type": "stream",
     "text": [
      "[2024-01-12 09:35:18,200] [INFO] [real_accelerator.py:110:get_accelerator] Setting ds_accelerator to cuda (auto detect)\n"
     ]
    },
    {
     "name": "stderr",
     "output_type": "stream",
     "text": [
      "/u/prasanns/miniconda3/envs/rlhfenv/lib/python3.10/site-packages/trl/trainer/ppo_config.py:142: UserWarning: The `optimize_cuda_cache` argument will be deprecated soon, please use `optimize_device_cache` instead.\n",
      "  warnings.warn(\n"
     ]
    }
   ],
   "source": [
    "from rlhfutils.rl_utils import get_synth_rewards\n",
    "from datasets import Dataset, concatenate_datasets\n",
    "import matplotlib.pyplot as plt\n",
    "import random\n",
    "import pandas as pd\n",
    "from statistics import mean\n",
    "from rlhfutils.data import webgpt_template\n",
    "from tqdm import tqdm\n",
    "from transformers import AutoTokenizer\n",
    "import os\n",
    "from nltk import word_tokenize\n",
    "from textstat import flesch_kincaid_grade, flesch_reading_ease\n",
    "from nltk.tokenize import word_tokenize"
   ]
  },
  {
   "cell_type": "code",
   "execution_count": 2,
   "id": "0478c3ab-1e45-404c-9974-ea0ea3ba266c",
   "metadata": {},
   "outputs": [
    {
     "data": {
      "text/plain": [
       "-305.85"
      ]
     },
     "execution_count": 2,
     "metadata": {},
     "output_type": "execute_result"
    }
   ],
   "source": [
    "flesch_reading_ease(\"Discombobulation Discombobulation Discombobulation Discombobulation Discombobulation.\")"
   ]
  },
  {
   "cell_type": "code",
   "execution_count": 2,
   "id": "46b626c5-4f27-4af4-85f2-ca2674d6eb59",
   "metadata": {},
   "outputs": [],
   "source": [
    "opt = AutoTokenizer.from_pretrained(\"facebook/opt-125m\")"
   ]
  },
  {
   "cell_type": "code",
   "execution_count": 3,
   "id": "c6c26ee2-06be-4372-90fc-f94da2e88830",
   "metadata": {},
   "outputs": [],
   "source": [
    "random.seed(0)"
   ]
  },
  {
   "cell_type": "code",
   "execution_count": 4,
   "id": "40ec362a-05f7-4bce-82ec-1ad76639dff1",
   "metadata": {},
   "outputs": [],
   "source": [
    "%load_ext autoreload\n",
    "%autoreload 2"
   ]
  },
  {
   "cell_type": "code",
   "execution_count": 13,
   "id": "beb583ab-f24b-4451-a4ce-e12e88a6f985",
   "metadata": {},
   "outputs": [
    {
     "data": {
      "text/plain": [
       "'adj there my min'"
      ]
     },
     "execution_count": 13,
     "metadata": {},
     "output_type": "execute_result"
    }
   ],
   "source": [
    "def train_test_split(udata, testamt=1000):\n",
    "    uquestions = list(set(udata['question']))\n",
    "    testquestions = set(uquestions[-testamt:])\n",
    "    testdata = udata.filter(lambda ex: ex['question'] in testquestions).shuffle(seed=0)\n",
    "    traindata = udata.filter(lambda ex: ex['question'] not in testquestions).shuffle(seed=0)\n",
    "    return traindata, testdata\n",
    "    \n",
    "def random_feature_sub(input_string, word_matrix):\n",
    "    # Remove existing words from the input string\n",
    "    for row in word_matrix:\n",
    "        for word in row:\n",
    "            input_string = input_string.replace(word, '')\n",
    "\n",
    "    # Split the input string into words\n",
    "    words = input_string.split()\n",
    "    inds = list(range(len(words)))\n",
    "    repinds = [-1]*len(word_matrix)\n",
    "    cur = 0\n",
    "    # randomly select some words, make sure there's no overlap\n",
    "    while (cur<len(repinds)) and (repinds[cur]==-1): \n",
    "        tmp = random.choice(inds)\n",
    "        #print(tmp)\n",
    "        if tmp not in repinds: \n",
    "            repinds[cur] = tmp\n",
    "            cur = cur+1\n",
    "\n",
    "    for i in range(len(repinds)):\n",
    "        words[repinds[i]] = random.choice(word_matrix[i])\n",
    "\n",
    "    # Return the processed string\n",
    "    return ' '.join(words)\n",
    "\n",
    "# feature list for trickier pos conditional one\n",
    "featlist = [\n",
    "    ['noun', 'adj', 'verb'], \n",
    "    ['min', 'max']\n",
    "]\n",
    "instr = \"hi there my boy max\"\n",
    "random_feature_sub(instr, featlist)"
   ]
  },
  {
   "cell_type": "code",
   "execution_count": 6,
   "id": "6084b972-c0bb-436a-9915-3b0203706487",
   "metadata": {},
   "outputs": [
    {
     "name": "stderr",
     "output_type": "stream",
     "text": [
      "Loading cached processed dataset at /scratch/cluster/prasanns/research/rlhf-length-biases/data/ultrafeeddiff/cache-d7c3fbdca2b74911.arrow\n",
      "                                                                                                                                                                 \r"
     ]
    }
   ],
   "source": [
    "udiff = Dataset.load_from_disk(\"../../data/ultrafeeddiff\")\n",
    "udiff = udiff.filter(lambda ex: len(ex['question'])<1000)\n",
    "udiff, utest = train_test_split(udiff)"
   ]
  },
  {
   "cell_type": "code",
   "execution_count": 7,
   "id": "65034978-8f0f-47af-8723-b84920c6d714",
   "metadata": {},
   "outputs": [
    {
     "data": {
      "text/plain": [
       "Dataset({\n",
       "    features: ['question', 'source', 'modj', 'modk', 'tokj', 'tok', 'response_j', 'response_k', 'magnitude', '__index_level_0__'],\n",
       "    num_rows: 5365\n",
       "})"
      ]
     },
     "execution_count": 7,
     "metadata": {},
     "output_type": "execute_result"
    }
   ],
   "source": [
    "utest"
   ]
  },
  {
   "cell_type": "code",
   "execution_count": 14,
   "id": "c9aadd91-ee67-4e25-8d0a-b5f42afe1218",
   "metadata": {},
   "outputs": [],
   "source": [
    "def reproc_w_funct(ex, function='bagofwords', removeq=False):\n",
    "    if 'contpos' in function: \n",
    "        ex['question'] = random_feature_sub(ex['question'], featlist)\n",
    "    if removeq:\n",
    "        ex['question'] = \"Hello.\"\n",
    "    if \"noun\" in function:\n",
    "        ex['response_j'] = ex['response_j'][:random.randint(100,300)]\n",
    "        ex['response_k'] = ex['response_k'][:random.randint(100,300)]\n",
    "    elif \"reversebow\" in function:\n",
    "        # give the length clause a chance to activate\n",
    "        ex['response_j'] = ex['response_j'][:random.randint(50,200)]\n",
    "        ex['response_k'] = ex['response_k'][:random.randint(50,200)]\n",
    "    else:\n",
    "        # keep things within reasonable length\n",
    "        ex['response_j'] = ex['response_j'][:200]\n",
    "        ex['response_k'] = ex['response_k'][:200]\n",
    "    nrj = get_synth_rewards([ex['question']+\" Answer:\"+ex['response_j']], function)[0]\n",
    "    nrk = get_synth_rewards([ex['question']+\" Answer:\"+ex['response_k']], function)[0]\n",
    "    if nrk>nrj: \n",
    "        ts = ex['response_j']\n",
    "        ex['response_j'] = ex['response_k']\n",
    "        ex['response_k'] = ts\n",
    "        ex['score_j'] = nrk\n",
    "        ex['score_k'] = nrj\n",
    "    else: \n",
    "        ex['score_j'] = nrj\n",
    "        ex['score_k'] = nrk\n",
    "    ex['magnitude'] = ex['score_j'] - ex['score_k']\n",
    "    return ex\n",
    "\n",
    "# given some feature to get a synth reward on, craete a pairwise dataset that we can do DPO with\n",
    "def make_synth(alldata, maxnums=30000, function='bagofwords', removeq=False, magranges=None): \n",
    "    tmp = alldata.map(lambda ex: reproc_w_funct(ex, function, removeq), num_proc=11)\n",
    "    # tmp = tmp.filter(lambda ex: ex['magnitude']>0)\n",
    "    tmp = tmp.shuffle(seed=0)\n",
    "    alldsets = []\n",
    "    # we go through magranges, keys as bot_top: ratio\n",
    "    if magranges: \n",
    "        for k in magranges.keys():\n",
    "            bot, top = [int(f) for f in k.split(\"_\")]\n",
    "            subd = tmp.filter(lambda ex: ((ex['magnitude']>=bot) & (ex['magnitude']<=top)))\n",
    "            alldsets.append(subd.select(range(int(maxnums*magranges[k]))))\n",
    "        complete = concatenate_datasets(alldsets).shuffle(seed=0)\n",
    "        print(\"length > \", len(complete))\n",
    "        return complete\n",
    "    else: \n",
    "        return tmp.select(range(maxnums))\n",
    "\n",
    "from rlhfutils.rl_utils import bow_words\n",
    "bow = set(bow_words)\n",
    "# get rid of all the non-bow words\n",
    "def destring_dataset(dataset):\n",
    "    def replace_tokens(ex):\n",
    "        tokens = word_tokenize(ex['response_j'])\n",
    "        ex['response_j'] = ''.join([token+\" \" if token in bow else '' for token in tokens])\n",
    "        tokens = word_tokenize(ex['response_k'])\n",
    "        ex['response_k'] = ''.join([token+\" \" if token in bow else '' for token in tokens])\n",
    "        return ex\n",
    "\n",
    "    dataset = dataset.map(replace_tokens, num_proc=10)\n",
    "\n",
    "    return dataset"
   ]
  },
  {
   "cell_type": "code",
   "execution_count": 9,
   "id": "e4ac818c-0a1c-49aa-81d5-89ad71ac2c80",
   "metadata": {},
   "outputs": [
    {
     "data": {
      "text/plain": [
       "30"
      ]
     },
     "execution_count": 9,
     "metadata": {},
     "output_type": "execute_result"
    }
   ],
   "source": [
    "len(bow)"
   ]
  },
  {
   "cell_type": "code",
   "execution_count": 15,
   "id": "f05ebd6c-b285-4031-ab67-4a89a3920ab8",
   "metadata": {},
   "outputs": [],
   "source": [
    "# a and b can be 0.1, 0.3 for examples, indicate percentiles to take from\n",
    "def get_data_between_percentiles(dataset, a, b, magnitude_column):\n",
    "    dataset = dataset.remove_columns([\"__index_level_0__\"])\n",
    "    # Convert to Pandas DataFrame\n",
    "    df = dataset.to_pandas().reset_index(drop=True)\n",
    "\n",
    "    \n",
    "    # Sort the DataFrame by the magnitude column\n",
    "    sorted_df = df.sort_values(by=magnitude_column)\n",
    "\n",
    "    # Calculate the indices corresponding to the percentiles\n",
    "    lower_index = int(len(sorted_df) * a)\n",
    "    upper_index = int(len(sorted_df) * b)\n",
    "\n",
    "    # Return the data between these indices\n",
    "    return Dataset.from_pandas(sorted_df.iloc[lower_index:upper_index]).shuffle(seed=0)\n",
    "\n",
    "def getfrac(dset, exs=1000, log=True): \n",
    "    inds = list(range(len(dset)))\n",
    "    sampinds = random.sample(inds, exs)\n",
    "    if log:\n",
    "        print(sampinds[:20])\n",
    "    return dset.select(sampinds)"
   ]
  },
  {
   "cell_type": "code",
   "execution_count": 93,
   "id": "e20d3b3e-70da-4880-b183-b034f17becd1",
   "metadata": {},
   "outputs": [
    {
     "name": "stderr",
     "output_type": "stream",
     "text": [
      "                                                                                                                                                                 \r"
     ]
    }
   ],
   "source": [
    "# note that I do a specific split here to keep things held out / even\n",
    "function = \"bagofwords\"\n",
    "removeinput = True\n",
    "bowsynth, bowtest = make_synth(udiff, len(udiff), function, removeinput), make_synth(utest, len(utest), function, removeinput)"
   ]
  },
  {
   "cell_type": "code",
   "execution_count": 94,
   "id": "ac8b5d17-149b-426f-85c3-0641b89d387d",
   "metadata": {},
   "outputs": [],
   "source": [
    "from nltk import word_tokenize\n",
    "from statistics import mean, stdev\n",
    "from tqdm import tqdm\n",
    "import numpy as np"
   ]
  },
  {
   "cell_type": "code",
   "execution_count": 95,
   "id": "8ec7939c-92a5-4256-b111-5d2025a6c92c",
   "metadata": {},
   "outputs": [
    {
     "data": {
      "text/plain": [
       "4.346134936801765"
      ]
     },
     "execution_count": 95,
     "metadata": {},
     "output_type": "execute_result"
    }
   ],
   "source": [
    "np.array([0,1,0,12,0,1]*4).std()"
   ]
  },
  {
   "cell_type": "code",
   "execution_count": 96,
   "id": "e1ccacdc-5828-4fba-bf11-695762f692f5",
   "metadata": {},
   "outputs": [],
   "source": [
    "# balance dataset so that different features occur similar numbers of times\n",
    "def getbalanced(df, bwords, col='response_j', stlim=4, rounds=4):\n",
    "    res = []\n",
    "    bdict = np.array([0]*len(bwords))\n",
    "    bmax = 0\n",
    "    bmin = 0\n",
    "    inds = list(range(len(df)))\n",
    "    # precompute bow_word vectors first\n",
    "    def get_bowlist(ex, col, bwords):\n",
    "        tmp  =0\n",
    "        toks = set(word_tokenize(ex[col]))\n",
    "        tmpscos = []\n",
    "        for b in bwords: \n",
    "            if b in toks:\n",
    "                tmpscos.append(1)\n",
    "            else:\n",
    "                tmpscos.append(0)\n",
    "        ex['bvect'] = np.array(tmpscos)\n",
    "        return ex\n",
    "    df = df.map(lambda ex: get_bowlist(ex, col, bwords), num_proc=10)\n",
    "    for r in range(rounds): \n",
    "        newinds = []\n",
    "        for ind in tqdm(inds): \n",
    "            d = df[ind]\n",
    "            # for efficiency?\n",
    "            tmp = bdict+df[ind]['bvect']\n",
    "            if (tmp).std()<stlim:\n",
    "                res.append(d)\n",
    "                bdict = tmp\n",
    "            else:\n",
    "                # revisit stuff we missed later\n",
    "                newinds.append(ind)\n",
    "        print(\"current len is \", len(res))\n",
    "        inds = newinds\n",
    "    return Dataset.from_list(res)\n",
    "    \n",
    "def countbow(blist, inlist, norm=False):\n",
    "    bict = {}\n",
    "    for b in blist:\n",
    "        bict[b] = 0\n",
    "        for s in inlist:\n",
    "            if b in s:\n",
    "                bict[b] = bict[b]+1\n",
    "    # normalize to get a \"probability\"\n",
    "    if norm: \n",
    "        val = sum(bict.values())\n",
    "        tot = 0\n",
    "        for b in bict.keys():\n",
    "            bict[b] = bict[b]/len(inlist)\n",
    "            tot+=bict[b]\n",
    "        print(tot)\n",
    "    return bict"
   ]
  },
  {
   "cell_type": "code",
   "execution_count": 97,
   "id": "cfa490b2-27b8-4486-98da-2546d11b4efc",
   "metadata": {},
   "outputs": [],
   "source": [
    "from rlhfutils.rl_utils import bow_words"
   ]
  },
  {
   "cell_type": "code",
   "execution_count": null,
   "id": "5e620c9b-cec5-4750-af9d-9b93b58aece2",
   "metadata": {},
   "outputs": [],
   "source": [
    "balanced = getbalanced(btmp, bow_words, 'response_j')"
   ]
  },
  {
   "cell_type": "code",
   "execution_count": 48,
   "id": "47482483-9e4a-4bd1-ad61-7d6f8711b174",
   "metadata": {},
   "outputs": [
    {
     "data": {
      "text/plain": [
       "173805"
      ]
     },
     "execution_count": 48,
     "metadata": {},
     "output_type": "execute_result"
    }
   ],
   "source": [
    "len(btmp)"
   ]
  },
  {
   "cell_type": "code",
   "execution_count": 102,
   "id": "195ba2fa-168f-45c3-becd-f0a1c88c259a",
   "metadata": {},
   "outputs": [
    {
     "name": "stderr",
     "output_type": "stream",
     "text": [
      "                                                                                                                                                                 \r"
     ]
    }
   ],
   "source": [
    "btmp = bowsynth.filter(lambda ex: ex['magnitude']>0)"
   ]
  },
  {
   "cell_type": "code",
   "execution_count": 105,
   "id": "e546a4f2-067d-40e8-9c64-12cf97224218",
   "metadata": {
    "scrolled": true
   },
   "outputs": [
    {
     "name": "stderr",
     "output_type": "stream",
     "text": [
      "                                                                                                                                                                 \r"
     ]
    }
   ],
   "source": [
    "testtmp = bowtest.filter(lambda ex: ex['magnitude']>0)"
   ]
  },
  {
   "cell_type": "code",
   "execution_count": 88,
   "id": "06ededfb-2726-4b5d-ba1e-767ed480ae63",
   "metadata": {},
   "outputs": [
    {
     "name": "stdout",
     "output_type": "stream",
     "text": [
      "question\n"
     ]
    }
   ],
   "source": [
    "for r in rembow:\n",
    "    if r in bow_words:\n",
    "        print(r)"
   ]
  },
  {
   "cell_type": "code",
   "execution_count": 98,
   "id": "01c93f93-e59e-4eaf-9b79-bf48a7a08d35",
   "metadata": {},
   "outputs": [],
   "source": [
    "def sort_dict_by_values(d):\n",
    "    return sorted(d.items(), key=lambda x: x[1])"
   ]
  },
  {
   "cell_type": "code",
   "execution_count": 99,
   "id": "591b65a0-6842-4414-be0c-28538eed2231",
   "metadata": {},
   "outputs": [],
   "source": [
    "rembow = [\"help\", \"your\", \"provide\", \"question\", \"have\", \"happy\"]"
   ]
  },
  {
   "cell_type": "code",
   "execution_count": 104,
   "id": "fc442358-dd9f-475f-a98f-a64491920236",
   "metadata": {},
   "outputs": [
    {
     "data": {
      "text/plain": [
       "[('additionally', 8),\n",
       " ('finally', 242),\n",
       " ('however', 662),\n",
       " ('hope', 1599),\n",
       " ('ensure', 3675),\n",
       " ('generate', 3783),\n",
       " ('appropriate', 3831),\n",
       " ('contains', 4814),\n",
       " ('experience', 5112),\n",
       " ('include', 7343),\n",
       " ('important', 7902),\n",
       " ('safe', 8042),\n",
       " ('following', 8386),\n",
       " ('possible', 8940),\n",
       " ('first', 9132),\n",
       " ('two', 10446),\n",
       " ('best', 10461),\n",
       " ('example', 10489),\n",
       " ('data', 11330),\n",
       " ('code', 11394),\n",
       " ('respectful', 11727),\n",
       " ('understand', 13297),\n",
       " ('create', 13961),\n",
       " ('information', 22745)]"
      ]
     },
     "execution_count": 104,
     "metadata": {},
     "output_type": "execute_result"
    }
   ],
   "source": [
    "cb = countbow(bow_words, btmp['response_j'])\n",
    "sort_dict_by_values(cb)"
   ]
  },
  {
   "cell_type": "code",
   "execution_count": 28,
   "id": "13eece95-0ecb-4173-be18-608f378ba909",
   "metadata": {
    "scrolled": true
   },
   "outputs": [
    {
     "name": "stdout",
     "output_type": "stream",
     "text": [
      "[257116, 236528, 143117, 53201, 252593, 8253, 254714, 230970, 151661, 98126, 214488, 162255, 129860, 133464, 207650, 80183, 114540, 266661, 92912, 39572]\n"
     ]
    }
   ],
   "source": [
    "samp50 = getfrac(bowsynth, 80000, True)"
   ]
  },
  {
   "cell_type": "code",
   "execution_count": 29,
   "id": "3344779c-1466-4baa-a6e2-11a9f4f825b8",
   "metadata": {},
   "outputs": [
    {
     "name": "stderr",
     "output_type": "stream",
     "text": [
      "                                                                                                                                                                 \r"
     ]
    }
   ],
   "source": [
    "samp50 = samp50.filter(lambda ex: ex['magnitude']>0)"
   ]
  },
  {
   "cell_type": "code",
   "execution_count": 15,
   "id": "f6719528-3eca-4019-aae0-9317c9c56388",
   "metadata": {},
   "outputs": [
    {
     "name": "stderr",
     "output_type": "stream",
     "text": [
      "                                                                                                                                                                 \r"
     ]
    }
   ],
   "source": [
    "samp50.save_to_disk(\"../../data/bowunnatural/noquestions\")"
   ]
  },
  {
   "cell_type": "code",
   "execution_count": 17,
   "id": "dd65e86e-bd00-43ef-b717-481ed814df34",
   "metadata": {},
   "outputs": [
    {
     "name": "stdout",
     "output_type": "stream",
     "text": [
      "[212302, 159023, 249874, 187720, 114526, 264601, 73019, 147764, 73267, 49718, 131337, 77050, 162606, 51780, 38662, 173118, 247538, 52796, 185488, 227631]\n"
     ]
    }
   ],
   "source": [
    "bowsub = getfrac(bowsynth, 100000, True)"
   ]
  },
  {
   "cell_type": "code",
   "execution_count": 23,
   "id": "dc1ddaa5-28e4-4f9c-8a43-087d525757e6",
   "metadata": {},
   "outputs": [],
   "source": [
    "# bowsub.save_to_disk(\"../../data/bowsynth100k\")"
   ]
  },
  {
   "cell_type": "code",
   "execution_count": 24,
   "id": "5ee7fd94-8ad0-479d-b17c-326ee3dc1417",
   "metadata": {},
   "outputs": [],
   "source": [
    "# bowsynth.save_to_disk(\"../../data/bowsynth250k\")"
   ]
  },
  {
   "cell_type": "code",
   "execution_count": 21,
   "id": "bb067d82-d5ec-4657-81e9-df22a3270063",
   "metadata": {},
   "outputs": [
    {
     "name": "stderr",
     "output_type": "stream",
     "text": [
      "                                                                                                                                                                 \r"
     ]
    }
   ],
   "source": [
    "# need clear-cut labels\n",
    "bowtest = bowtest.filter(lambda ex: ex['magnitude']>0)\n",
    "# bowtest.save_to_disk(\"../../data/ratiovar/heldouttest\")"
   ]
  },
  {
   "cell_type": "code",
   "execution_count": 30,
   "id": "577dbc5e-9070-41e9-8f40-5189c2d9a553",
   "metadata": {},
   "outputs": [
    {
     "name": "stderr",
     "output_type": "stream",
     "text": [
      "                                                                                                                                                                 \r"
     ]
    }
   ],
   "source": [
    "# if you want to make the whole thing synthetic\n",
    "bowtest = destring_dataset(bowtest)\n",
    "samp50 = destring_dataset(samp50)"
   ]
  },
  {
   "cell_type": "code",
   "execution_count": 34,
   "id": "2f42d8a4-04d7-4346-aec1-74a99b3c8bca",
   "metadata": {},
   "outputs": [
    {
     "name": "stderr",
     "output_type": "stream",
     "text": [
      "                                                                                                                                                                 \r"
     ]
    }
   ],
   "source": [
    "bowtest.save_to_disk(\"../../data/bowunnatural/noqtest\")"
   ]
  },
  {
   "cell_type": "code",
   "execution_count": 88,
   "id": "434fc38b-108b-4eb1-97da-4b14f11d80a5",
   "metadata": {},
   "outputs": [
    {
     "name": "stdout",
     "output_type": "stream",
     "text": [
      "40913\n"
     ]
    },
    {
     "name": "stderr",
     "output_type": "stream",
     "text": [
      "                                                                                                                                                                       \r"
     ]
    },
    {
     "data": {
      "image/png": "[encoded data removed]",
      "text/plain": [
       "<Figure size 640x480 with 1 Axes>"
      ]
     },
     "metadata": {},
     "output_type": "display_data"
    }
   ],
   "source": [
    "baseperc = 30\n",
    "base = baseperc*0.01\n",
    "percdata = get_data_between_percentiles(bowsynth, base, base+0.15, \"magnitude\")\n",
    "print(len(percdata))\n",
    "plt.hist(percdata['magnitude'])\n",
    "\n",
    "percdata.save_to_disk(\"../../data/nonnaturalratiovar/\"+str(baseperc))"
   ]
  },
  {
   "cell_type": "code",
   "execution_count": 110,
   "id": "043bdd21-39c1-4733-a47a-376070d4852d",
   "metadata": {},
   "outputs": [
    {
     "data": {
      "text/plain": [
       "(array([9.1134e+04, 0.0000e+00, 2.2611e+04, 0.0000e+00, 4.8310e+03,\n",
       "        0.0000e+00, 9.2000e+02, 0.0000e+00, 1.2600e+02, 6.0000e+00]),\n",
       " array([1. , 1.5, 2. , 2.5, 3. , 3.5, 4. , 4.5, 5. , 5.5, 6. ]),\n",
       " <BarContainer object of 10 artists>)"
      ]
     },
     "execution_count": 110,
     "metadata": {},
     "output_type": "execute_result"
    },
    {
     "data": {
      "image/png": "[encoded data removed]",
      "text/plain": [
       "<Figure size 640x480 with 1 Axes>"
      ]
     },
     "metadata": {},
     "output_type": "display_data"
    }
   ],
   "source": [
    "plt.hist(btmp['magnitude'])"
   ]
  },
  {
   "cell_type": "code",
   "execution_count": 44,
   "id": "e649e9cb-4dc9-4853-88ee-b738d9262909",
   "metadata": {},
   "outputs": [
    {
     "name": "stderr",
     "output_type": "stream",
     "text": [
      "                                                                                                                                                                       \r"
     ]
    }
   ],
   "source": [
    "percdata.save_to_disk(\"../../data/ratiovar/30to45\")"
   ]
  },
  {
   "cell_type": "code",
   "execution_count": 15,
   "id": "35d967ff-838a-446e-b5f3-7b6b061b43b6",
   "metadata": {},
   "outputs": [],
   "source": [
    "# pcsynth = Dataset.load_from_disk(\"../../data/poscontextsynth/\")"
   ]
  },
  {
   "cell_type": "code",
   "execution_count": 9,
   "id": "ffe5edaf-9d66-4939-8adc-62d5733239ba",
   "metadata": {
    "scrolled": true
   },
   "outputs": [
    {
     "name": "stderr",
     "output_type": "stream",
     "text": [
      "Loading cached processed dataset at /scratch/cluster/prasanns/research/rlhf-length-biases/data/ultrafeeddiff/cache-f625dac166318458_*_of_00011.arrow\n",
      "Loading cached shuffled indices for dataset at /scratch/cluster/prasanns/research/rlhf-length-biases/data/ultrafeeddiff/cache-bbb2bd9dd8faac19.arrow\n"
     ]
    }
   ],
   "source": [
    "# bowsynth = bowsynth.filter(lambda ex: ex['magnitude']>2, num_proc=10)"
   ]
  },
  {
   "cell_type": "code",
   "execution_count": 26,
   "id": "dd4cfb05-9b07-497c-9888-01df30d61448",
   "metadata": {},
   "outputs": [
    {
     "data": {
      "text/plain": [
       "(array([    0.,     0.,     0.,     0.,     0., 68005.,     0.,     0.,\n",
       "            0.,     0.]),\n",
       " array([-0.5, -0.4, -0.3, -0.2, -0.1,  0. ,  0.1,  0.2,  0.3,  0.4,  0.5]),\n",
       " <BarContainer object of 10 artists>)"
      ]
     },
     "execution_count": 26,
     "metadata": {},
     "output_type": "execute_result"
    },
    {
     "data": {
      "image/png": "[encoded data removed]",
      "text/plain": [
       "<Figure size 640x480 with 1 Axes>"
      ]
     },
     "metadata": {},
     "output_type": "display_data"
    }
   ],
   "source": []
  },
  {
   "cell_type": "code",
   "execution_count": 78,
   "id": "a3403a75-bd4b-4753-b0ff-952b50797db6",
   "metadata": {},
   "outputs": [
    {
     "name": "stderr",
     "output_type": "stream",
     "text": [
      "                                                                                                                                                                 \r"
     ]
    }
   ],
   "source": [
    "bowsynth = bowsynth.filter(lambda ex: ex['magnitude']>0 and ex['score_j']!=-0.5 and ex['score_k']!=-0.5, num_proc=10)"
   ]
  },
  {
   "cell_type": "code",
   "execution_count": 9,
   "id": "863d3994-5f50-41a4-9a53-01c6c6356ae1",
   "metadata": {},
   "outputs": [
    {
     "name": "stderr",
     "output_type": "stream",
     "text": [
      "                                                                                                                                                                 \r"
     ]
    }
   ],
   "source": [
    "bowsynth.save_to_disk(\"../../data/readinggradedpo\")"
   ]
  },
  {
   "cell_type": "code",
   "execution_count": 5,
   "id": "f85a46a1-0dbb-496a-8545-651e34214b90",
   "metadata": {},
   "outputs": [],
   "source": [
    "bowsynth = Dataset.load_from_disk(\"../../data/dponounsynth/\")"
   ]
  },
  {
   "cell_type": "code",
   "execution_count": 29,
   "id": "2eb0375b-14f4-4690-8222-b54e293256dd",
   "metadata": {},
   "outputs": [
    {
     "data": {
      "text/plain": [
       "27.939"
      ]
     },
     "execution_count": 29,
     "metadata": {},
     "output_type": "execute_result"
    }
   ],
   "source": [
    "mean(len(opt(b).input_ids) for b in bowsynth['response_j'][:2000])"
   ]
  },
  {
   "cell_type": "code",
   "execution_count": 82,
   "id": "11526bca-f921-45ca-afbc-1bf943a1413f",
   "metadata": {},
   "outputs": [
    {
     "name": "stderr",
     "output_type": "stream",
     "text": [
      "                                                                                                                                                                 \r"
     ]
    }
   ],
   "source": [
    "bowsynth.save_to_disk(\"../../data/readleveldpo/\")"
   ]
  },
  {
   "cell_type": "code",
   "execution_count": 10,
   "id": "e05de4a2-f61c-495c-894c-4045f943daef",
   "metadata": {},
   "outputs": [
    {
     "data": {
      "text/plain": [
       "(array([1.5900e+02, 1.3920e+03, 6.8690e+03, 1.6309e+04, 1.2664e+04,\n",
       "        9.9310e+03, 9.2780e+03, 2.5730e+03, 3.5700e+02, 5.9000e+01,\n",
       "        2.8000e+01, 2.5000e+01, 1.2000e+01, 7.0000e+00, 6.0000e+00,\n",
       "        2.0000e+00, 2.0000e+00, 2.0000e+00, 5.0000e+00, 3.0000e+00,\n",
       "        0.0000e+00, 0.0000e+00, 2.0000e+00, 2.0000e+00, 0.0000e+00,\n",
       "        2.0000e+00, 0.0000e+00, 0.0000e+00, 1.0000e+00, 0.0000e+00,\n",
       "        1.0000e+00, 0.0000e+00, 0.0000e+00, 0.0000e+00, 0.0000e+00,\n",
       "        2.0000e+00, 2.0000e+00, 0.0000e+00, 0.0000e+00, 0.0000e+00,\n",
       "        0.0000e+00, 0.0000e+00, 0.0000e+00, 0.0000e+00, 0.0000e+00,\n",
       "        0.0000e+00, 0.0000e+00, 0.0000e+00, 0.0000e+00, 0.0000e+00,\n",
       "        0.0000e+00, 0.0000e+00, 0.0000e+00, 0.0000e+00, 0.0000e+00,\n",
       "        0.0000e+00, 0.0000e+00, 0.0000e+00, 0.0000e+00, 1.0000e+00]),\n",
       " array([ -1.5       ,   1.32666667,   4.15333333,   6.98      ,\n",
       "          9.80666667,  12.63333333,  15.46      ,  18.28666667,\n",
       "         21.11333333,  23.94      ,  26.76666667,  29.59333333,\n",
       "         32.42      ,  35.24666667,  38.07333333,  40.9       ,\n",
       "         43.72666667,  46.55333333,  49.38      ,  52.20666667,\n",
       "         55.03333333,  57.86      ,  60.68666667,  63.51333333,\n",
       "         66.34      ,  69.16666667,  71.99333333,  74.82      ,\n",
       "         77.64666667,  80.47333333,  83.3       ,  86.12666667,\n",
       "         88.95333333,  91.78      ,  94.60666667,  97.43333333,\n",
       "        100.26      , 103.08666667, 105.91333333, 108.74      ,\n",
       "        111.56666667, 114.39333333, 117.22      , 120.04666667,\n",
       "        122.87333333, 125.7       , 128.52666667, 131.35333333,\n",
       "        134.18      , 137.00666667, 139.83333333, 142.66      ,\n",
       "        145.48666667, 148.31333333, 151.14      , 153.96666667,\n",
       "        156.79333333, 159.62      , 162.44666667, 165.27333333,\n",
       "        168.1       ]),\n",
       " <BarContainer object of 60 artists>)"
      ]
     },
     "execution_count": 10,
     "metadata": {},
     "output_type": "execute_result"
    },
    {
     "data": {
      "image/png": "[encoded data removed]",
      "text/plain": [
       "<Figure size 640x480 with 1 Axes>"
      ]
     },
     "metadata": {},
     "output_type": "display_data"
    }
   ],
   "source": [
    "plt.hist(bowsynth['score_j'], bins=60)"
   ]
  },
  {
   "cell_type": "code",
   "execution_count": 34,
   "id": "54cf0796-489b-445e-b553-2d850101ccec",
   "metadata": {},
   "outputs": [
    {
     "data": {
      "text/plain": [
       "{'question': 'Give the rationale and then the answer. Yes / no, is the following a verifiable fact?\\n\"Waste management deals with trash in a community.\"',\n",
       " 'source': 'flan_v2_cot',\n",
       " 'modj': 'bard',\n",
       " 'modk': 'alpaca-7b',\n",
       " 'tokj': 280,\n",
       " 'tok': 9,\n",
       " 'response_j': 'Yes, it is a verifiable fact that waste management deals with trash in a community.\\n\\nWaste management is the collection, transport, processing, and disposal of waste materials. It is an important part',\n",
       " 'response_k': 'Yes, the answer is verifiable.',\n",
       " 'magnitude': 12.631578947368421,\n",
       " '__index_level_0__': 85296,\n",
       " 'score_j': 7.631578947368421,\n",
       " 'score_k': -5.0}"
      ]
     },
     "execution_count": 34,
     "metadata": {},
     "output_type": "execute_result"
    }
   ],
   "source": [
    "bowsynth[1]"
   ]
  },
  {
   "cell_type": "code",
   "execution_count": 37,
   "id": "5dddfefe-e7fc-4f0d-adbd-7b85c7dbc0df",
   "metadata": {},
   "outputs": [
    {
     "name": "stderr",
     "output_type": "stream",
     "text": [
      "                                                                                                                                                                  \r"
     ]
    }
   ],
   "source": [
    "bowsynth.save_to_disk(\"../../data/poscontextsynth\")"
   ]
  },
  {
   "cell_type": "code",
   "execution_count": 8,
   "id": "6d8ca454-c594-4244-a6d4-d0305bfaacf8",
   "metadata": {},
   "outputs": [
    {
     "data": {
      "text/plain": [
       "[1.0]"
      ]
     },
     "execution_count": 8,
     "metadata": {},
     "output_type": "execute_result"
    }
   ],
   "source": [
    "get_synth_rewards([\"hi there bill adj Answer: The colorful fox took it\"], \"contpos\")"
   ]
  },
  {
   "cell_type": "code",
   "execution_count": 23,
   "id": "d6b0ce9c-d8f2-47af-980b-3741e6c4cafb",
   "metadata": {},
   "outputs": [
    {
     "name": "stdout",
     "output_type": "stream",
     "text": [
      "data 3884\n",
      "hope 564\n",
      "information 9835\n",
      "provide 18924\n",
      "example 3319\n",
      "your 19351\n",
      "however 273\n",
      "first 3310\n",
      "have 12943\n",
      "help 24461\n"
     ]
    }
   ],
   "source": [
    "bow_words = [\n",
    "    # content\n",
    "    'data', 'hope', 'information', 'provide', 'example', 'your', 'however', 'first', 'have', 'help'\n",
    "]\n",
    "for b in bow_words: \n",
    "    print(b, sum([b in j for j in bowsynth['response_j']]))\n"
   ]
  },
  {
   "cell_type": "code",
   "execution_count": 29,
   "id": "03a505ee-202a-4204-b4e3-f682420dbda2",
   "metadata": {},
   "outputs": [
    {
     "name": "stderr",
     "output_type": "stream",
     "text": [
      "                                                                                                                                                                 \r"
     ]
    }
   ],
   "source": [
    "tmp = udiff.map(lambda ex: reproc_w_funct(ex, \"nouns\"), num_proc=40)"
   ]
  },
  {
   "cell_type": "code",
   "execution_count": 11,
   "id": "c315b892-1106-41fb-95cb-d08f1c3660b7",
   "metadata": {},
   "outputs": [
    {
     "name": "stderr",
     "output_type": "stream",
     "text": [
      "                                                                                                                                                                 \r"
     ]
    }
   ],
   "source": [
    "tmp = tmp.filter(lambda ex: ex['magnitude']>0)"
   ]
  },
  {
   "cell_type": "code",
   "execution_count": 36,
   "id": "7d39a625-21da-43de-9163-b9b09de63bd6",
   "metadata": {},
   "outputs": [
    {
     "data": {
      "text/plain": [
       "(array([3.5150e+04, 1.1536e+04, 2.4170e+03, 5.6600e+02, 1.9100e+02,\n",
       "        7.2000e+01, 4.6000e+01, 1.2000e+01, 8.0000e+00, 2.0000e+00]),\n",
       " array([ 0. ,  6.1, 12.2, 18.3, 24.4, 30.5, 36.6, 42.7, 48.8, 54.9, 61. ]),\n",
       " <BarContainer object of 10 artists>)"
      ]
     },
     "execution_count": 36,
     "metadata": {},
     "output_type": "execute_result"
    },
    {
     "data": {
      "image/png": "[encoded data removed]",
      "text/plain": [
       "<Figure size 640x480 with 1 Axes>"
      ]
     },
     "metadata": {},
     "output_type": "display_data"
    }
   ],
   "source": [
    "plt.hist(bowsynth['magnitude'])"
   ]
  },
  {
   "cell_type": "code",
   "execution_count": 37,
   "id": "b1e0a9fb-eff9-4358-a8a5-8448aef060d1",
   "metadata": {},
   "outputs": [
    {
     "data": {
      "text/plain": [
       "{'question': 'In this task you will be given a list of integers. You should remove all of the integers that are divisible by 3 from the list. If every integer in the input list is divisible by 3 then an empty list should be returned. Zero is divisible by 3.\\nQ: [61, 35, -86, -38, 58, -9, 78]\\nA: ',\n",
       " 'source': 'flan_v2_niv2',\n",
       " 'modj': 'starchat',\n",
       " 'modk': 'mpt-30b-chat',\n",
       " 'tokj': 29,\n",
       " 'tok': 32,\n",
       " 'response_j': '[35, -86, -38, 58, -9, 78]\\nConfidence: 95%',\n",
       " 'response_k': 'The filtered list is: [61, 35, -86, -38, 58, -9]',\n",
       " 'magnitude': 1.0,\n",
       " '__index_level_0__': 130179,\n",
       " 'score_j': 5.0,\n",
       " 'score_k': 4.0}"
      ]
     },
     "execution_count": 37,
     "metadata": {},
     "output_type": "execute_result"
    }
   ],
   "source": [
    "bowsynth[0]"
   ]
  },
  {
   "cell_type": "code",
   "execution_count": 40,
   "id": "2c4387c2-3b94-46da-b737-06b130d1bed4",
   "metadata": {},
   "outputs": [],
   "source": [
    "bowouts = pd.read_json(\"../../generated_dpobow.jsonl\", orient='records', lines=True)\n",
    "nounouts = pd.read_json(\"../../generated_dponoun.jsonl\", orient='records', lines=True)"
   ]
  },
  {
   "cell_type": "code",
   "execution_count": 7,
   "id": "2169d488-cdc3-44a7-9b22-d7c1264f30ad",
   "metadata": {},
   "outputs": [],
   "source": [
    "def procfunct(indf, function):\n",
    "    lines = []\n",
    "    for i, row in indf.iterrows():\n",
    "        for j in range(4):\n",
    "            #print(len(row['response']))\n",
    "            s = \"Answer:\"+str(row['response'][j].split(\"### Instruction\")[1][:200])\n",
    "            lines.append(str(s))\n",
    "    print(lines[0])\n",
    "    return get_synth_rewards(lines, function)"
   ]
  },
  {
   "cell_type": "code",
   "execution_count": 78,
   "id": "5d385b8d-d5cc-4bdf-852f-08ef8c579c40",
   "metadata": {},
   "outputs": [
    {
     "name": "stdout",
     "output_type": "stream",
     "text": [
      "Answer::\n",
      "can you make the following recipe vegan?\n",
      "\n",
      "Ingredients\n",
      "4 - 6 Servings\n",
      "1lb. short pasta (such as rigatoni, penne, or conchiglie)\n",
      "Kosher salt\n",
      "¼\n",
      "\n",
      "cup extra-virgin olive oil\n",
      "3\n",
      "\n",
      "large leeks (about 1½ lb.)\n"
     ]
    },
    {
     "data": {
      "text/plain": [
       "1.1825"
      ]
     },
     "execution_count": 78,
     "metadata": {},
     "output_type": "execute_result"
    }
   ],
   "source": [
    "mean(procfunct(bowouts, \"bagofwords\"))"
   ]
  },
  {
   "cell_type": "code",
   "execution_count": 15,
   "id": "29837a60-6f6b-40b1-a0cf-c8139b4b2600",
   "metadata": {},
   "outputs": [],
   "source": [
    "# make the data for KTO training"
   ]
  },
  {
   "cell_type": "code",
   "execution_count": 21,
   "id": "af05e21d-caa0-41e1-96dd-74b13bd4f9d5",
   "metadata": {},
   "outputs": [
    {
     "data": {
      "text/plain": [
       "{'question': 'Can you write a C++ program that prompts the user to enter the name of a country and checks if it borders the Mediterranean Sea? Here\\'s some starter code to help you out:\\n#include <iostream>\\n#include <string>\\nusing namespace std;\\nint main() {\\n    string country;\\n    // prompt user for input\\n    cout << \"Enter the name of a country: \";\\n    cin >> country;\\n    // check if country borders the Mediterranean Sea\\n    // [C++ code]\\n    return 0;\\n}',\n",
       " 'source': 'evol_instruct',\n",
       " 'modj': 'pythia-12b',\n",
       " 'modk': 'alpaca-7b',\n",
       " 'tokj': 583,\n",
       " 'tok': 130,\n",
       " 'response_j': 'Here\\'s a C++ program that prompts the user to enter the name of a country and checks if it borders the Mediterranean Sea:\\n\\n#include <iostream>\\n#include <string>\\n#include <set>\\n#include <map>\\n#include <algorithm>\\n\\nusing namespace std;\\n\\nint main() {\\n    // store countries and their bordering seas in a map\\n    map<string, set<string>> countries;\\n    countries[\"Algeria\"] = {\"Mediterranean Sea\", \"North African Coast\"};\\n    countries[\"France\"] = {\"Mediterranean Sea\", \"English Channel\"};\\n    countries[\"Italy\"] = {\"Mediterranean Sea\", \"Adriatic Sea\"};\\n    countries[\"Malta\"] = {\"Mediterranean Sea\", \"North African Coast\"};\\n    countries[\"Spain\"] = {\"Mediterranean Sea\", \"Atlantic Ocean\"};\\n    countries[\"Tunisia\"] = {\"Mediterranean Sea\", \"North African Coast\"};\\n\\n    string country;\\n    cout << \"Enter the name of a country: \";\\n    cin >> country;\\n\\n    // check if country is in the map\\n    if (countries.find(country)!= countries.end()) {\\n        // check if country borders the Mediterranean Sea\\n        set<string> borders = countries.at(country);\\n        if (borders.find(\"Mediterranean Sea\")!= borders.end()) {\\n            cout << country << \" borders the Mediterranean Sea.\" << endl;\\n        } else {\\n            cout << country << \" does not border the Mediterranean Sea.\" << endl;\\n        }\\n    } else {\\n        cout << country << \" is not a recognized country.\" << endl;\\n    }\\n\\n    return 0;\\n}\\n\\nIn this program, we first define a map called countries that stores each country\\'s name as a key and a set of its surrounding seas as the value. We use a set to store each sea name so that we can easily check if a country borders a certain sea.\\n\\nWe then present the user with a prompt to enter the name of a country. We use a while loop to ensure that the user enters a valid country name. We check if the country is in the map, and if so, we retrieve its bordering seas from the map.\\n\\nFinally, we check if the Mediterranean Sea is among the set of borders. If it is, we inform the user that the country borders the Mediterranean Sea. If not, we inform the user that the country does not border the Mediterranean Sea.',\n",
       " 'response_k': 'int main() {\\n    string country;\\n    // prompt user for input\\n    cout << \"Enter the name of a country: \";\\n    cin >> country;\\n    // check if country borders the Mediterranean Sea\\n    if (endsWith(country, \"Mediterranean\")) {\\n        cout << \"Yes, the country \" << country\\n             << \" borders the Mediterranean Sea.\";\\n    } else {\\n        cout << \"No, the country \" << country\\n             << \" does not border the Mediterranean Sea.\";\\n    }\\n    return 0;\\n}',\n",
       " 'magnitude': 3.75,\n",
       " '__index_level_0__': 0}"
      ]
     },
     "execution_count": 21,
     "metadata": {},
     "output_type": "execute_result"
    }
   ],
   "source": [
    "udiff[0]"
   ]
  },
  {
   "cell_type": "code",
   "execution_count": 29,
   "id": "67c1fbc2-5ff8-4d4b-9493-e7a5d3db4d3a",
   "metadata": {},
   "outputs": [
    {
     "name": "stderr",
     "output_type": "stream",
     "text": [
      "100%|███████████████████████████████████████████████████████████████████████████████████████████████████████████████████| 50000/50000 [00:04<00:00, 10387.97it/s]\n"
     ]
    }
   ],
   "source": [
    "expbowkto = make_kto(samp50, True)"
   ]
  },
  {
   "cell_type": "code",
   "execution_count": 31,
   "id": "f96442a8-11a3-443f-be08-d223c565cfd9",
   "metadata": {},
   "outputs": [
    {
     "name": "stderr",
     "output_type": "stream",
     "text": [
      "                                                                                                                                                                 \r"
     ]
    }
   ],
   "source": [
    "expbowkto.save_to_disk(\"../../data/expbowregression\")"
   ]
  },
  {
   "cell_type": "code",
   "execution_count": 32,
   "id": "41995800-de69-40a9-b7ca-c9be48599205",
   "metadata": {},
   "outputs": [
    {
     "data": {
      "text/plain": [
       "(array([4.5161e+04, 2.4522e+04, 1.4912e+04, 8.0670e+03, 4.3820e+03,\n",
       "        1.9520e+03, 7.4400e+02, 2.0600e+02, 4.5000e+01, 9.0000e+00]),\n",
       " array([0. , 0.9, 1.8, 2.7, 3.6, 4.5, 5.4, 6.3, 7.2, 8.1, 9. ]),\n",
       " <BarContainer object of 10 artists>)"
      ]
     },
     "execution_count": 32,
     "metadata": {},
     "output_type": "execute_result"
    },
    {
     "data": {
      "image/png": "[encoded data removed]",
      "text/plain": [
       "<Figure size 640x480 with 1 Axes>"
      ]
     },
     "metadata": {},
     "output_type": "display_data"
    }
   ],
   "source": [
    "plt.hist(expbowkto['score'])"
   ]
  },
  {
   "cell_type": "code",
   "execution_count": 28,
   "id": "f47b30ca-0473-4c20-9378-9f24608fbfdb",
   "metadata": {},
   "outputs": [],
   "source": [
    "def make_kto(pairdata, hasscos=False):\n",
    "    newdata = []\n",
    "    for p in tqdm(pairdata):\n",
    "        if \"magnitude\" in p.keys():\n",
    "            scoj = p['score_j'] if hasscos else p['magnitude']\n",
    "            scok = p['score_k'] if hasscos else 0\n",
    "            newdata.append({\"text\": \"Question: \"+p['question']+'\\n\\nAnswer: '+p['response_j'], 'score':scoj})\n",
    "            newdata.append({\"text\": \"Question: \"+p['question']+'\\n\\nAnswer: '+p['response_k'], 'score':scok})\n",
    "    return Dataset.from_list(newdata)"
   ]
  },
  {
   "cell_type": "code",
   "execution_count": 9,
   "id": "efe9f856-1d8f-4fd7-9eb5-c498d4f103c9",
   "metadata": {},
   "outputs": [
    {
     "name": "stderr",
     "output_type": "stream",
     "text": [
      "100%|█████████████████████████████████████████████████████████████████████████████████████████████████████████████████| 340025/340025 [00:21<00:00, 16047.07it/s]\n"
     ]
    }
   ],
   "source": [
    "ultrakto = make_kto(udiff)"
   ]
  },
  {
   "cell_type": "code",
   "execution_count": null,
   "id": "6014d39d-3472-45b5-9871-1428546f18bd",
   "metadata": {},
   "outputs": [],
   "source": []
  },
  {
   "cell_type": "code",
   "execution_count": 13,
   "id": "260ea640-8cb5-4140-8468-2ca03a3a8f6a",
   "metadata": {},
   "outputs": [
    {
     "name": "stderr",
     "output_type": "stream",
     "text": [
      "                                                                                                                                                                 \r"
     ]
    }
   ],
   "source": [
    "ultrakto.shuffle(seed=0).save_to_disk(\"../../data/ultrakto\")"
   ]
  },
  {
   "cell_type": "code",
   "execution_count": 44,
   "id": "ee5e6d76-b06c-4644-af7f-2d32e52d0fb4",
   "metadata": {},
   "outputs": [],
   "source": [
    "BASE = \"/u/prasanns/research/rlhf-length-biases/outputs/longjobscos/\"\n",
    "fnames = [\n",
    "    'sft.jsonl',\n",
    "    'step25.jsonl',\n",
    "    'step50.jsonl',\n",
    "    'step75.jsonl',\n",
    "    'step100.jsonl',\n",
    "    'step125.jsonl',\n",
    "    'step150.jsonl',\n",
    "    'step175.jsonl'\n",
    "]\n",
    "alldfs = []\n",
    "for f in fnames:\n",
    "    alldfs.append(process_dataframe(pd.read_json(BASE+f, orient='records', lines=True)))\n",
    "alldfs = pd.concat(alldfs)"
   ]
  },
  {
   "cell_type": "code",
   "execution_count": 45,
   "id": "1d41e30a-3bed-42d9-9bc9-3f8302f48f4d",
   "metadata": {},
   "outputs": [],
   "source": [
    "alldfs = alldfs.reset_index(drop=True)"
   ]
  },
  {
   "cell_type": "code",
   "execution_count": 46,
   "id": "243e8e90-bc64-45f3-ad5f-552ac4b98409",
   "metadata": {},
   "outputs": [
    {
     "data": {
      "text/html": [
       "<div>\n",
       "<style scoped>\n",
       "    .dataframe tbody tr th:only-of-type {\n",
       "        vertical-align: middle;\n",
       "    }\n",
       "\n",
       "    .dataframe tbody tr th {\n",
       "        vertical-align: top;\n",
       "    }\n",
       "\n",
       "    .dataframe thead th {\n",
       "        text-align: right;\n",
       "    }\n",
       "</style>\n",
       "<table border=\"1\" class=\"dataframe\">\n",
       "  <thead>\n",
       "    <tr style=\"text-align: right;\">\n",
       "      <th></th>\n",
       "      <th>question</th>\n",
       "      <th>response_j</th>\n",
       "      <th>score_j</th>\n",
       "      <th>response_k</th>\n",
       "      <th>score_k</th>\n",
       "    </tr>\n",
       "  </thead>\n",
       "  <tbody>\n",
       "    <tr>\n",
       "      <th>0</th>\n",
       "      <td>Provide a step-by-step recipe with specific me...</td>\n",
       "      <td>Ingredients: \\n• 2 pounds of cubed beef\\n• 1 ...</td>\n",
       "      <td>4.457031</td>\n",
       "      <td>This hearty Beef and Vegetable Soup is perfec...</td>\n",
       "      <td>3.248047</td>\n",
       "    </tr>\n",
       "    <tr>\n",
       "      <th>1</th>\n",
       "      <td>What ethical concerns arise from the developme...</td>\n",
       "      <td>The main ethical concerns arising from the de...</td>\n",
       "      <td>-0.804688</td>\n",
       "      <td>The potential for automated decision-making i...</td>\n",
       "      <td>-1.250000</td>\n",
       "    </tr>\n",
       "    <tr>\n",
       "      <th>2</th>\n",
       "      <td>Given the text: Click here to read about the T...</td>\n",
       "      <td>The Graduate Course Catalog can be found onli...</td>\n",
       "      <td>-2.275391</td>\n",
       "      <td>The course catalog can be found online at htt...</td>\n",
       "      <td>-3.306641</td>\n",
       "    </tr>\n",
       "    <tr>\n",
       "      <th>3</th>\n",
       "      <td>Create a comprehensive budget plan for a colle...</td>\n",
       "      <td>A basic budget plan for a college student liv...</td>\n",
       "      <td>0.593750</td>\n",
       "      <td>A basic budget plan for a college student liv...</td>\n",
       "      <td>0.554199</td>\n",
       "    </tr>\n",
       "    <tr>\n",
       "      <th>4</th>\n",
       "      <td>Can pigs be taught to perform tricks for enter...</td>\n",
       "      <td>Yes, pigs can in fact be trained to perform v...</td>\n",
       "      <td>-0.543457</td>\n",
       "      <td>Yes, pigs can be trained to perform certain t...</td>\n",
       "      <td>-2.662109</td>\n",
       "    </tr>\n",
       "    <tr>\n",
       "      <th>...</th>\n",
       "      <td>...</td>\n",
       "      <td>...</td>\n",
       "      <td>...</td>\n",
       "      <td>...</td>\n",
       "      <td>...</td>\n",
       "    </tr>\n",
       "    <tr>\n",
       "      <th>50215</th>\n",
       "      <td>Write a 1000-word informative article about th...</td>\n",
       "      <td>Dance Therapy has emerged as an effective app...</td>\n",
       "      <td>4.035156</td>\n",
       "      <td>Dance therapy has become increasingly popular...</td>\n",
       "      <td>2.808594</td>\n",
       "    </tr>\n",
       "    <tr>\n",
       "      <th>50216</th>\n",
       "      <td>Attend podcasting conferences and events that ...</td>\n",
       "      <td>I have already begun attending podcasting con...</td>\n",
       "      <td>0.792480</td>\n",
       "      <td>I have recently attended several podcasting-f...</td>\n",
       "      <td>0.712891</td>\n",
       "    </tr>\n",
       "    <tr>\n",
       "      <th>50217</th>\n",
       "      <td>What are the main responsibilities of the Cana...</td>\n",
       "      <td>The primary responsibility of the Canadian Ar...</td>\n",
       "      <td>2.171875</td>\n",
       "      <td>The primary responsibility of the Canadian Ar...</td>\n",
       "      <td>1.540039</td>\n",
       "    </tr>\n",
       "    <tr>\n",
       "      <th>50218</th>\n",
       "      <td>How many international students are currently ...</td>\n",
       "      <td>According to data from Harvard’s Office of In...</td>\n",
       "      <td>-0.809570</td>\n",
       "      <td>Approximately 70% of Harvard’s undergraduate ...</td>\n",
       "      <td>-1.103516</td>\n",
       "    </tr>\n",
       "    <tr>\n",
       "      <th>50219</th>\n",
       "      <td>Please provide a list of all necessary ingredi...</td>\n",
       "      <td>You will need to make Queso Dip by combining ...</td>\n",
       "      <td>1.243164</td>\n",
       "      <td>1. Preheat oven to 350 degrees F (175 degrees...</td>\n",
       "      <td>-0.324951</td>\n",
       "    </tr>\n",
       "  </tbody>\n",
       "</table>\n",
       "<p>50220 rows × 5 columns</p>\n",
       "</div>"
      ],
      "text/plain": [
       "                                                question  \\\n",
       "0      Provide a step-by-step recipe with specific me...   \n",
       "1      What ethical concerns arise from the developme...   \n",
       "2      Given the text: Click here to read about the T...   \n",
       "3      Create a comprehensive budget plan for a colle...   \n",
       "4      Can pigs be taught to perform tricks for enter...   \n",
       "...                                                  ...   \n",
       "50215  Write a 1000-word informative article about th...   \n",
       "50216  Attend podcasting conferences and events that ...   \n",
       "50217  What are the main responsibilities of the Cana...   \n",
       "50218  How many international students are currently ...   \n",
       "50219  Please provide a list of all necessary ingredi...   \n",
       "\n",
       "                                              response_j   score_j  \\\n",
       "0       Ingredients: \\n• 2 pounds of cubed beef\\n• 1 ...  4.457031   \n",
       "1       The main ethical concerns arising from the de... -0.804688   \n",
       "2       The Graduate Course Catalog can be found onli... -2.275391   \n",
       "3       A basic budget plan for a college student liv...  0.593750   \n",
       "4       Yes, pigs can in fact be trained to perform v... -0.543457   \n",
       "...                                                  ...       ...   \n",
       "50215   Dance Therapy has emerged as an effective app...  4.035156   \n",
       "50216   I have already begun attending podcasting con...  0.792480   \n",
       "50217   The primary responsibility of the Canadian Ar...  2.171875   \n",
       "50218   According to data from Harvard’s Office of In... -0.809570   \n",
       "50219   You will need to make Queso Dip by combining ...  1.243164   \n",
       "\n",
       "                                              response_k   score_k  \n",
       "0       This hearty Beef and Vegetable Soup is perfec...  3.248047  \n",
       "1       The potential for automated decision-making i... -1.250000  \n",
       "2       The course catalog can be found online at htt... -3.306641  \n",
       "3       A basic budget plan for a college student liv...  0.554199  \n",
       "4       Yes, pigs can be trained to perform certain t... -2.662109  \n",
       "...                                                  ...       ...  \n",
       "50215   Dance therapy has become increasingly popular...  2.808594  \n",
       "50216   I have recently attended several podcasting-f...  0.712891  \n",
       "50217   The primary responsibility of the Canadian Ar...  1.540039  \n",
       "50218   Approximately 70% of Harvard’s undergraduate ... -1.103516  \n",
       "50219   1. Preheat oven to 350 degrees F (175 degrees... -0.324951  \n",
       "\n",
       "[50220 rows x 5 columns]"
      ]
     },
     "execution_count": 46,
     "metadata": {},
     "output_type": "execute_result"
    }
   ],
   "source": [
    "alldfs"
   ]
  },
  {
   "cell_type": "code",
   "execution_count": 47,
   "id": "b427a4f7-285d-46bb-8763-72d1874015a1",
   "metadata": {},
   "outputs": [
    {
     "name": "stderr",
     "output_type": "stream",
     "text": [
      "                                                                                \r"
     ]
    }
   ],
   "source": [
    "Dataset.from_pandas(alldfs).save_to_disk(\"../../data/ultrarealdpo\")"
   ]
  },
  {
   "cell_type": "code",
   "execution_count": 12,
   "id": "dd23247c-f6e8-4ea7-a89b-b0f444d41fc8",
   "metadata": {},
   "outputs": [
    {
     "data": {
      "text/plain": [
       "<matplotlib.collections.PathCollection at 0x7fa771386ad0>"
      ]
     },
     "execution_count": 12,
     "metadata": {},
     "output_type": "execute_result"
    },
    {
     "data": {
      "image/png": "[encoded data removed]",
      "text/plain": [
       "<Figure size 640x480 with 1 Axes>"
      ]
     },
     "metadata": {},
     "output_type": "display_data"
    }
   ],
   "source": [
    "plt.scatter(range(1000), [mean(m) for m in alldfs['scores']][:1000])"
   ]
  },
  {
   "cell_type": "code",
   "execution_count": 35,
   "id": "9eff917e-2383-4d2a-8c64-55db643b53ad",
   "metadata": {},
   "outputs": [],
   "source": [
    "import pandas as pd\n",
    "from itertools import combinations"
   ]
  },
  {
   "cell_type": "code",
   "execution_count": 27,
   "id": "a17c4033-3e6b-4471-80cf-e1945d0821bb",
   "metadata": {},
   "outputs": [
    {
     "data": {
      "text/plain": [
       "'Below is an instruction that describes a task. Write a response that appropriately completes the request.\\n\\n### Instruction:\\nCould you recommend some evidence-based ways to increase physical activity levels among young adults?\\n\\n### Response: Some evidence-based strategies for increasing physical activity levels among young adults include creating opportunities and environments conducive to physical activity, encouraging participation in enjoyable activities like group sports or fitness classes, providing variety through different types of exercise such as aerobic, strength training, and stretching sessions, introducing non-traditional activities like parkour, trampoline parks, and rock climbing, utilizing technology-enabled approaches like apps and online tracking tools, and developing social networks and communities around physical activity. Additionally, healthcare providers should routinely assess their patients’ level of physical activity and provide tailored advice on how to improve it.'"
      ]
     },
     "execution_count": 27,
     "metadata": {},
     "output_type": "execute_result"
    }
   ],
   "source": [
    "alldfs['question'][0]+alldfs['response'][0][0].split(\"\\n\\nAnswer:\")[1]"
   ]
  },
  {
   "cell_type": "code",
   "execution_count": 33,
   "id": "78368a8e-7736-4139-bfe1-4f77f3b04633",
   "metadata": {},
   "outputs": [
    {
     "data": {
      "text/plain": [
       "'Could you recommend some evidence-based ways to increase physical activity levels among young adults?'"
      ]
     },
     "execution_count": 33,
     "metadata": {},
     "output_type": "execute_result"
    }
   ],
   "source": [
    "alldfs['response'][0][0][10:].split(\"\\n\\nAnswer:\")[1]"
   ]
  },
  {
   "cell_type": "code",
   "execution_count": 43,
   "id": "ddf0260f-0565-4777-b22e-6ce789b53640",
   "metadata": {},
   "outputs": [],
   "source": [
    "def process_dataframe(df):\n",
    "    # Prepare a list to store the new rows\n",
    "    new_rows = []\n",
    "\n",
    "    # Iterate over each row in the DataFrame\n",
    "    for _, row in df.iterrows():\n",
    "        question = row['response'][0][10:].split(\"\\n\\nAnswer:\")[0]\n",
    "        responses = [r.split(\"\\n\\nAnswer:\")[1] for r in row['response']]\n",
    "        scores = row['scores']\n",
    "\n",
    "        # Generate all 4 choose 2 combinations\n",
    "        for combo in combinations(range(4), 2):\n",
    "            i, j = combo\n",
    "\n",
    "            # Compare scores and assign to response_j/k and score_j/k\n",
    "            if scores[i] > scores[j]:\n",
    "                new_row = {'question':question, 'response_j': responses[i], 'score_j': scores[i],\n",
    "                           'response_k': responses[j], 'score_k': scores[j]}\n",
    "            else:\n",
    "                new_row = {'question':question, 'response_j': responses[j], 'score_j': scores[j],\n",
    "                           'response_k': responses[i], 'score_k': scores[i]}\n",
    "\n",
    "            new_rows.append(new_row)\n",
    "\n",
    "    # Create a new DataFrame from the list of new rows\n",
    "    new_df = pd.DataFrame(new_rows).sample(frac=1)\n",
    "    return new_df"
   ]
  },
  {
   "cell_type": "code",
   "execution_count": 7,
   "id": "e022747b-8938-43dd-a67b-41ddc8c3480e",
   "metadata": {},
   "outputs": [
    {
     "name": "stderr",
     "output_type": "stream",
     "text": [
      "Loading cached processed dataset at /scratch/cluster/prasanns/research/rlhf-length-biases/data/bowsynth250k/cache-4709cad9cf51738e.arrow\n"
     ]
    }
   ],
   "source": [
    "data1 = Dataset.load_from_disk(\"../../data/bowsynth250k/\")\n",
    "data1 = data1.filter(lambda ex: ex['magnitude']>0)"
   ]
  },
  {
   "cell_type": "code",
   "execution_count": 10,
   "id": "e6a06d12-9708-4c56-b72e-29efe7f2bad2",
   "metadata": {},
   "outputs": [],
   "source": [
    "unnat1 = Dataset.load_from_disk(\"../../data/bowunnatural/destrung/\")\n",
    "unnat2 = Dataset.load_from_disk(\"../../data/bowunnatural/destrungnoq/\")"
   ]
  },
  {
   "cell_type": "code",
   "execution_count": 11,
   "id": "fcd44dca-f582-4ed9-8860-084ed31b959a",
   "metadata": {},
   "outputs": [],
   "source": [
    "ndataset = concatenate_datasets([data1, unnat1, unnat2])"
   ]
  },
  {
   "cell_type": "code",
   "execution_count": 40,
   "id": "258a1982-cc25-4ed3-9934-802392b432c5",
   "metadata": {},
   "outputs": [],
   "source": [
    "import random\n",
    "random.seed(0)\n",
    "def pairsort(ints, strings):\n",
    "    zipped = zip(ints, strings)\n",
    "    sorted_pairs = sorted(zipped)\n",
    "    sorted_ints, sorted_strings = zip(*sorted_pairs)\n",
    "    sorted_ints = list(sorted_ints)\n",
    "    sorted_strings = list(sorted_strings)\n",
    "    # for efficient access later, store min inds of each score value\n",
    "    kdict = {i:sorted_ints.index(i) for i in range(int(sorted_ints[-1])+1)}\n",
    "    return sorted_strings, sorted_ints, kdict\n",
    "\n",
    "# example-level processing function\n",
    "def repsave(ex, strs, scos, kdict, flipchance=0.5):\n",
    "    # N% chance of doing one or the other\n",
    "    swapk = random.random() > flipchance\n",
    "    if swapk: \n",
    "        takeind = random.randint(0, kdict[ex['score_j']])\n",
    "        ex['response_k'] = strs[takeind]\n",
    "        ex['score_k'] = scos[takeind]\n",
    "    else:\n",
    "        takeind = random.randint(kdict[ex['score_k']+1], len(scos)-1)\n",
    "        ex['response_j'] = strs[takeind]\n",
    "        ex['score_j'] = scos[takeind]\n",
    "    ex['magnitude'] = ex['score_j'] - ex['score_k']\n",
    "    return ex\n",
    "# let's get data that matches in-distribution with stuff from other distributions\n",
    "def make_unpaired_data(indset, fin_numpairs):\n",
    "    # first get sorted list of outputs based on their scores\n",
    "    scores = list(indset['score_k'])+list(indset['score_j'])\n",
    "    strs = list(indset['response_k'])+list(indset['response_j'])\n",
    "    newstrs, newscos, skdict = pairsort(scores, strs)\n",
    "    smalldata = getfrac(indset, fin_numpairs)\n",
    "    return smalldata.map(lambda ex: repsave(ex, newstrs, newscos, skdict), num_proc=10)"
   ]
  },
  {
   "cell_type": "code",
   "execution_count": 41,
   "id": "1c264137-9ca1-4bcb-9c81-d40da4932310",
   "metadata": {},
   "outputs": [
    {
     "name": "stdout",
     "output_type": "stream",
     "text": [
      "[100989, 110250, 10612, 67873, 134027, 127383, 106151, 79511, 124937, 93860, 152930, 57263, 132300, 36509, 73882, 36633, 24859, 162101, 65668, 139608]\n"
     ]
    },
    {
     "name": "stderr",
     "output_type": "stream",
     "text": [
      "                                                                                                                                                                 \r"
     ]
    }
   ],
   "source": [
    "newpdata = make_unpaired_data(data1, 50000)"
   ]
  },
  {
   "cell_type": "code",
   "execution_count": 43,
   "id": "d5fb48cb-a2b0-44bd-85d1-7cc4be7cb5d5",
   "metadata": {},
   "outputs": [
    {
     "name": "stdout",
     "output_type": "stream",
     "text": [
      "[73100, 165252, 30303, 162999, 87553, 149347, 73019, 96898, 72287, 55551, 140460, 94448, 49181, 4046, 122645, 26573, 102187, 59124, 163338, 121644]\n"
     ]
    }
   ],
   "source": [
    "unpairdata = concatenate_datasets([getfrac(data1, 50000),newpdata]).shuffle(seed=0)"
   ]
  },
  {
   "cell_type": "code",
   "execution_count": 44,
   "id": "09ede64b-e8d1-4678-b725-5569ef14a632",
   "metadata": {},
   "outputs": [
    {
     "data": {
      "text/plain": [
       "(array([4.7406e+04, 2.6898e+04, 1.4225e+04, 7.1780e+03, 0.0000e+00,\n",
       "        2.9880e+03, 1.0010e+03, 2.4600e+02, 5.1000e+01, 7.0000e+00]),\n",
       " array([1. , 1.8, 2.6, 3.4, 4.2, 5. , 5.8, 6.6, 7.4, 8.2, 9. ]),\n",
       " <BarContainer object of 10 artists>)"
      ]
     },
     "execution_count": 44,
     "metadata": {},
     "output_type": "execute_result"
    },
    {
     "data": {
      "image/png": "[encoded data removed]",
      "text/plain": [
       "<Figure size 640x480 with 1 Axes>"
      ]
     },
     "metadata": {},
     "output_type": "display_data"
    }
   ],
   "source": [
    "plt.hist(unpairdata['magnitude'])"
   ]
  },
  {
   "cell_type": "code",
   "execution_count": 45,
   "id": "b40e86c8-6db0-4cb9-b182-670b8864c87d",
   "metadata": {},
   "outputs": [
    {
     "name": "stderr",
     "output_type": "stream",
     "text": [
      "                                                                                                                                                                 \r"
     ]
    }
   ],
   "source": [
    "unpairdata.save_to_disk(\"../../data/bowunnatural/unpairdata\")"
   ]
  },
  {
   "cell_type": "code",
   "execution_count": 17,
   "id": "19da4ca8-2973-4c88-896b-71aef7dd4af0",
   "metadata": {},
   "outputs": [
    {
     "data": {
      "text/plain": [
       "Dataset({\n",
       "    features: ['question', 'source', 'modj', 'modk', 'tokj', 'tok', 'response_j', 'response_k', 'magnitude', '__index_level_0__', 'score_j', 'score_k'],\n",
       "    num_rows: 50000\n",
       "})"
      ]
     },
     "execution_count": 17,
     "metadata": {},
     "output_type": "execute_result"
    }
   ],
   "source": [
    "mixdistr"
   ]
  },
  {
   "cell_type": "code",
   "execution_count": 19,
   "id": "69ba3690-66ff-479d-8065-807c03a33d3b",
   "metadata": {},
   "outputs": [
    {
     "data": {
      "text/plain": [
       "Dataset({\n",
       "    features: ['question', 'source', 'modj', 'modk', 'tokj', 'tok', 'response_j', 'response_k', 'magnitude', '__index_level_0__', 'score_j', 'score_k'],\n",
       "    num_rows: 170019\n",
       "})"
      ]
     },
     "execution_count": 19,
     "metadata": {},
     "output_type": "execute_result"
    }
   ],
   "source": [
    "data1"
   ]
  },
  {
   "cell_type": "code",
   "execution_count": 18,
   "id": "6dc32e12-f38f-47ae-bdc6-7f3edcc2c910",
   "metadata": {},
   "outputs": [
    {
     "name": "stderr",
     "output_type": "stream",
     "text": [
      "                                                                                                                                                                  \r"
     ]
    }
   ],
   "source": [
    "# mixdistr.save_to_disk(\"../../data/bowunnatural/mixedtrain\")"
   ]
  }
 ],
 "metadata": {
  "kernelspec": {
   "display_name": "Python 3 (ipykernel)",
   "language": "python",
   "name": "python3"
  },
  "language_info": {
   "codemirror_mode": {
    "name": "ipython",
    "version": 3
   },
   "file_extension": ".py",
   "mimetype": "text/x-python",
   "name": "python",
   "nbconvert_exporter": "python",
   "pygments_lexer": "ipython3",
   "version": "3.10.0"
  }
 },
 "nbformat": 4,
 "nbformat_minor": 5
}
