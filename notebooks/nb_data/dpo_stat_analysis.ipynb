{
 "cells": [
  {
   "cell_type": "code",
   "execution_count": 5,
   "id": "71dafb2d-4c58-49a3-af7c-b5ad8281309c",
   "metadata": {},
   "outputs": [],
   "source": [
    "# Notebook to analyze statistical proportionality hypothesis"
   ]
  },
  {
   "cell_type": "code",
   "execution_count": 1,
   "id": "bcf13098-39d5-4e57-80e8-1645aacb8eef",
   "metadata": {},
   "outputs": [
    {
     "name": "stderr",
     "output_type": "stream",
     "text": [
      "/u/prasanns/miniconda3/envs/rlhfenv/lib/python3.10/site-packages/tqdm/auto.py:21: TqdmWarning: IProgress not found. Please update jupyter and ipywidgets. See https://ipywidgets.readthedocs.io/en/stable/user_install.html\n",
      "  from .autonotebook import tqdm as notebook_tqdm\n"
     ]
    },
    {
     "name": "stdout",
     "output_type": "stream",
     "text": [
      "[2024-01-10 10:53:00,841] [INFO] [real_accelerator.py:110:get_accelerator] Setting ds_accelerator to cuda (auto detect)\n"
     ]
    },
    {
     "name": "stderr",
     "output_type": "stream",
     "text": [
      "/u/prasanns/miniconda3/envs/rlhfenv/lib/python3.10/site-packages/trl/trainer/ppo_config.py:142: UserWarning: The `optimize_cuda_cache` argument will be deprecated soon, please use `optimize_device_cache` instead.\n",
      "  warnings.warn(\n"
     ]
    }
   ],
   "source": [
    "from scipy.stats import spearmanr\n",
    "from rlhfutils.rl_utils import bow_words\n",
    "import pandas as pd\n",
    "from datasets import Dataset\n",
    "import matplotlib.pyplot as plt"
   ]
  },
  {
   "cell_type": "code",
   "execution_count": 15,
   "id": "ee04a24c-20ed-4cc1-b2b6-f23ae243c9c0",
   "metadata": {},
   "outputs": [],
   "source": [
    "def countbow(blist, inlist, norm=False):\n",
    "    bict = {}\n",
    "    for b in blist:\n",
    "        bict[b] = 0\n",
    "        for s in inlist:\n",
    "            if b in s:\n",
    "                bict[b] = bict[b]+1\n",
    "    # normalize to get a \"probability\"\n",
    "    if norm: \n",
    "        val = sum(bict.values())\n",
    "        tot = 0\n",
    "        for b in bict.keys():\n",
    "            bict[b] = bict[b]/len(inlist)\n",
    "            tot+=bict[b]\n",
    "        print(tot)\n",
    "    return bict\n",
    "\n",
    "def apresps(inlist):\n",
    "    return [i.split(\"### Instruction:\\n\")[1] for i in inlist]\n",
    "\n",
    "def compfuncts(chos, rej, ref, funct=\"sft\"):\n",
    "    if funct==\"norm\":\n",
    "        if ref>0:\n",
    "            return chos/ref - rej/ref\n",
    "        else:\n",
    "            return chos-rej\n",
    "    if funct==\"div\":\n",
    "        if chos>0:\n",
    "            return rej/chos\n",
    "        else:\n",
    "            return rej\n",
    "    if funct==\"sub\":\n",
    "        return chos-rej\n",
    "    if funct==\"sft\":\n",
    "        return ref\n",
    "    if funct==\"chos\":\n",
    "        return chos\n",
    "    if funct==\"rej\":\n",
    "        return rej\n",
    "\n",
    "def sort_dict_by_values(d):\n",
    "    return sorted(d.items(), key=lambda x: x[1])"
   ]
  },
  {
   "cell_type": "code",
   "execution_count": 3,
   "id": "9c43b6c4-a7af-46a0-b5f7-7e45f8be792e",
   "metadata": {},
   "outputs": [
    {
     "name": "stdout",
     "output_type": "stream",
     "text": [
      "2.0864661654135337\n"
     ]
    }
   ],
   "source": [
    "sftset = pd.read_json(\"../../outputs/origultragen.jsonl\", lines=True, orient='records')\n",
    "sftset['response'] = apresps(sftset['response'])\n",
    "refratios = countbow(bow_words, sftset['response'], True)"
   ]
  },
  {
   "cell_type": "code",
   "execution_count": 4,
   "id": "516055dd-4a77-44b8-ac0f-5f8b1409a0d4",
   "metadata": {},
   "outputs": [],
   "source": [
    "dsynth = Dataset.load_from_disk(\"../../data/bowtrunc/train100k/\")"
   ]
  },
  {
   "cell_type": "code",
   "execution_count": 5,
   "id": "a8ac977c-c42f-4682-98cc-1abd82a2c81f",
   "metadata": {},
   "outputs": [
    {
     "name": "stdout",
     "output_type": "stream",
     "text": [
      "1.5825810011034203\n",
      "0.29996321931320424\n"
     ]
    }
   ],
   "source": [
    "choseratios = countbow(bow_words, dsynth['response_j'], True)\n",
    "rejratios = countbow(bow_words, dsynth['response_k'], True)"
   ]
  },
  {
   "cell_type": "code",
   "execution_count": 6,
   "id": "6b4f598f-c366-4a9d-b31a-165a4007727c",
   "metadata": {},
   "outputs": [
    {
     "data": {
      "text/plain": [
       "[('additionally', 6.687397599224261e-05),\n",
       " ('finally', 0.0020229377737653394),\n",
       " ('however', 0.005533821513358077),\n",
       " ('hope', 0.013366435951449493),\n",
       " ('ensure', 0.030720232721436452),\n",
       " ('generate', 0.031623031397331726),\n",
       " ('appropriate', 0.03202427525328518),\n",
       " ('contains', 0.040241415053331994),\n",
       " ('experience', 0.04273247065904303),\n",
       " ('include', 0.061381950713879696),\n",
       " ('important', 0.06605476978633765),\n",
       " ('safe', 0.06722506436620189),\n",
       " ('following', 0.07010064533386832),\n",
       " ('possible', 0.07473166817133113),\n",
       " ('first', 0.07633664359514494),\n",
       " ('two', 0.0873206941518708),\n",
       " ('best', 0.08744608285685626),\n",
       " ('example', 0.08768014177282911),\n",
       " ('data', 0.09471026849901361),\n",
       " ('code', 0.09524526030695155),\n",
       " ('respectful', 0.09802888955762865),\n",
       " ('understand', 0.11115290734610626),\n",
       " ('create', 0.1167034473534624),\n",
       " ('information', 0.1901310729929448)]"
      ]
     },
     "execution_count": 6,
     "metadata": {},
     "output_type": "execute_result"
    }
   ],
   "source": [
    "sort_dict_by_values(choseratios)"
   ]
  },
  {
   "cell_type": "code",
   "execution_count": 11,
   "id": "02ffec8a-e2c6-4fa9-9cd0-02e7ca93e3e8",
   "metadata": {},
   "outputs": [
    {
     "name": "stdout",
     "output_type": "stream",
     "text": [
      "4.322916666666667\n"
     ]
    }
   ],
   "source": [
    "fname = \"../../outputs/uncouts/uncoutbow1000.jsonl\"\n",
    "df = pd.read_json(fname, lines=True, orient='records')\n",
    "df['response'] = apresps(df['response'])\n",
    "oratios = countbow(bow_words, df['response'], True)\n",
    "okeys = list(oratios.keys())"
   ]
  },
  {
   "cell_type": "code",
   "execution_count": 16,
   "id": "f7adaddf-b889-4912-abac-6196d4e457f8",
   "metadata": {},
   "outputs": [
    {
     "name": "stdout",
     "output_type": "stream",
     "text": [
      "with rejected:  SignificanceResult(statistic=0.7979978801769607, pvalue=2.989350008874559e-06)\n",
      "with chosen:  SignificanceResult(statistic=0.6806324183029299, pvalue=0.0002519110302974394)\n",
      "chos - rej:  SignificanceResult(statistic=0.9127258138685198, pvalue=5.126478106039375e-10)\n"
     ]
    },
    {
     "data": {
      "text/plain": [
       "<matplotlib.collections.PathCollection at 0x7fca93b96b30>"
      ]
     },
     "execution_count": 16,
     "metadata": {},
     "output_type": "execute_result"
    },
    {
     "data": {
      "image/png": "[encoded data removed]",
      "text/plain": [
       "<Figure size 640x480 with 1 Axes>"
      ]
     },
     "metadata": {},
     "output_type": "display_data"
    }
   ],
   "source": [
    "print(\"with rejected: \", spearmanr([rejratios[k] for k in okeys], [oratios[k] for k in okeys]))\n",
    "print(\"with chosen: \", spearmanr([choseratios[k] for k in okeys], [oratios[k] for k in okeys]))\n",
    "print(\"chos - rej: \", spearmanr([compfuncts(choseratios[k],rejratios[k],refratios[k]) for k in okeys], [oratios[k] for k in okeys]))\n",
    "plt.scatter([compfuncts(choseratios[k],rejratios[k],refratios[k]) for k in okeys], [oratios[k] for k in okeys])"
   ]
  },
  {
   "cell_type": "code",
   "execution_count": null,
   "id": "43ce344d-bc31-48e6-89ff-a11446e5ab99",
   "metadata": {},
   "outputs": [],
   "source": []
  },
  {
   "cell_type": "code",
   "execution_count": null,
   "id": "68edab6e-0baa-4b82-8144-82c1f559f51a",
   "metadata": {},
   "outputs": [],
   "source": []
  }
 ],
 "metadata": {
  "kernelspec": {
   "display_name": "Python 3 (ipykernel)",
   "language": "python",
   "name": "python3"
  },
  "language_info": {
   "codemirror_mode": {
    "name": "ipython",
    "version": 3
   },
   "file_extension": ".py",
   "mimetype": "text/x-python",
   "name": "python",
   "nbconvert_exporter": "python",
   "pygments_lexer": "ipython3",
   "version": "3.10.0"
  }
 },
 "nbformat": 4,
 "nbformat_minor": 5
}
