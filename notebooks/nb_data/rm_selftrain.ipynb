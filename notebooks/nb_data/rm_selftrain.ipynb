{
 "cells": [
  {
   "cell_type": "code",
   "execution_count": 1,
   "id": "48d8a18a-9105-4d2a-a4d4-c0c5d18970c6",
   "metadata": {},
   "outputs": [],
   "source": [
    "# notebook to get data for self-training RM on slightly OOD cases"
   ]
  },
  {
   "cell_type": "code",
   "execution_count": 126,
   "id": "7cb23881-0d63-42e4-bcbd-a91eccdd34f6",
   "metadata": {},
   "outputs": [],
   "source": [
    "from rlhfutils.rl_utils import get_synth_rewards, scobow\n",
    "import matplotlib.pyplot as plt\n",
    "import pandas as pd\n",
    "from statistics import mean\n",
    "from itertools import combinations\n",
    "import numpy as np\n",
    "from tqdm import tqdm\n",
    "import random\n",
    "from datasets import Dataset\n",
    "from transformers import AutoTokenizer\n",
    "from datasets import concatenate_datasets"
   ]
  },
  {
   "cell_type": "code",
   "execution_count": 6,
   "id": "a0631619-9004-42f4-b29c-533f9b24e8bb",
   "metadata": {},
   "outputs": [],
   "source": [
    "from rlhfutils.rl_utils import bow_words\n",
    "assert len(bow_words)==30"
   ]
  },
  {
   "cell_type": "code",
   "execution_count": 16,
   "id": "a0e142b9-0bb2-4ccb-8e5c-6bf2a3b1600e",
   "metadata": {},
   "outputs": [
    {
     "name": "stderr",
     "output_type": "stream",
     "text": [
      "100%|███████████████████████████████████████████████████████████████████████████████████████████████████████████████████████| 6526/6526 [00:37<00:00, 173.04it/s]\n"
     ]
    }
   ],
   "source": [
    "# base file used for second portion of dataset\n",
    "FNAME = \"/u/prasanns/research/rlhf-length-biases/outputs/rollouts/dpoplusbow50rm.jsonl\"\n",
    "\n",
    "bowtrain = pd.read_json(FNAME, orient='records', lines=True)\n",
    "unlist = []\n",
    "means = []\n",
    "bscos = []\n",
    "for i, row in tqdm(bowtrain.iterrows(), total=len(bowtrain)):\n",
    "    uns = {}\n",
    "    bowscos = [float(scobow(s, True, uns)) for s in row['outputs']]\n",
    "    bscos.append(bowscos)\n",
    "    means.append(mean(bowscos))\n",
    "    unlist.append(uns)\n",
    "bowtrain['golds'] = bscos"
   ]
  },
  {
   "cell_type": "code",
   "execution_count": 11,
   "id": "ac10130f-1ef8-4b61-8e94-e882de312cbd",
   "metadata": {},
   "outputs": [],
   "source": [
    "odset = Dataset.load_from_disk(\"../../data/bowsynth50knozeros/\")"
   ]
  },
  {
   "cell_type": "code",
   "execution_count": 38,
   "id": "22a828a3-79e2-43c1-94a2-730c356bb14f",
   "metadata": {},
   "outputs": [
    {
     "data": {
      "text/plain": [
       "Dataset({\n",
       "    features: ['question', 'source', 'modj', 'modk', 'tokj', 'tok', 'response_j', 'response_k', 'magnitude', '__index_level_0__', 'score_j', 'score_k'],\n",
       "    num_rows: 49884\n",
       "})"
      ]
     },
     "execution_count": 38,
     "metadata": {},
     "output_type": "execute_result"
    }
   ],
   "source": [
    "odset"
   ]
  },
  {
   "cell_type": "code",
   "execution_count": 18,
   "id": "e53dc259-83de-4b71-979e-484e29be8393",
   "metadata": {},
   "outputs": [
    {
     "data": {
      "text/html": [
       "<div>\n",
       "<style scoped>\n",
       "    .dataframe tbody tr th:only-of-type {\n",
       "        vertical-align: middle;\n",
       "    }\n",
       "\n",
       "    .dataframe tbody tr th {\n",
       "        vertical-align: top;\n",
       "    }\n",
       "\n",
       "    .dataframe thead th {\n",
       "        text-align: right;\n",
       "    }\n",
       "</style>\n",
       "<table border=\"1\" class=\"dataframe\">\n",
       "  <thead>\n",
       "    <tr style=\"text-align: right;\">\n",
       "      <th></th>\n",
       "      <th>inputs</th>\n",
       "      <th>outputs</th>\n",
       "      <th>rewards</th>\n",
       "      <th>keepinds</th>\n",
       "      <th>step</th>\n",
       "      <th>golds</th>\n",
       "    </tr>\n",
       "  </thead>\n",
       "  <tbody>\n",
       "    <tr>\n",
       "      <th>0</th>\n",
       "      <td>[Write a persuasive business letter in formal ...</td>\n",
       "      <td>[\\nWrite an inquiry about the time you would l...</td>\n",
       "      <td>[-14.5078125, 1.71484375, -14.390625, -11.4296...</td>\n",
       "      <td>[1, 3, 5, 6, 8, 11, 12, 14, 16, 19, 21, 23, 24...</td>\n",
       "      <td>0</td>\n",
       "      <td>[0.0, 2.0, 0.0, 1.0, 1.0, 2.0, 1.0, 0.0, 1.0, ...</td>\n",
       "    </tr>\n",
       "    <tr>\n",
       "      <th>1</th>\n",
       "      <td>[How can I use geospatial data to analyze patt...</td>\n",
       "      <td>[\\nFed-up with the compensation for long-term ...</td>\n",
       "      <td>[-14.5390625, -1.08203125, -14.4765625, 9.0156...</td>\n",
       "      <td>[1, 3, 5, 7, 8, 10, 12, 14, 17, 18, 20, 22, 25...</td>\n",
       "      <td>0</td>\n",
       "      <td>[0.0, 2.0, 0.0, 3.0, 0.0, 0.0, 0.0, 0.0, 1.0, ...</td>\n",
       "    </tr>\n",
       "    <tr>\n",
       "      <th>2</th>\n",
       "      <td>[In your opinion, how might globalization and ...</td>\n",
       "      <td>[\\nThis Olympic report showed that globalizati...</td>\n",
       "      <td>[-14.5703125, -7.7109375, -6.3046875, -6.53906...</td>\n",
       "      <td>[1, 2, 4, 7, 9, 10, 13, 14, 16, 18, 21, 22, 24...</td>\n",
       "      <td>1</td>\n",
       "      <td>[0.0, 1.0, 1.0, 1.0, 0.0, 0.0, 0.0, 2.0, 0.0, ...</td>\n",
       "    </tr>\n",
       "    <tr>\n",
       "      <th>3</th>\n",
       "      <td>[Study the causes and effects of income inequa...</td>\n",
       "      <td>[\\n\\nYou may access this path by submitting th...</td>\n",
       "      <td>[-14.6953125, -14.5703125, -14.6171875, -0.344...</td>\n",
       "      <td>[1, 3, 4, 7, 9, 11, 13, 15, 17, 19, 21, 23, 25...</td>\n",
       "      <td>1</td>\n",
       "      <td>[0.0, 0.0, 0.0, 2.0, 0.0, 0.0, 0.0, 2.0, 1.0, ...</td>\n",
       "    </tr>\n",
       "    <tr>\n",
       "      <th>4</th>\n",
       "      <td>[Using photography, capture the dynamic colors...</td>\n",
       "      <td>[\\nFurthermore, this instruction will show you...</td>\n",
       "      <td>[2.921875, -14.140625, 8.421875, 1.35546875, -...</td>\n",
       "      <td>[0, 2, 4, 6, 9, 11, 12, 14, 17, 18, 21, 23, 24...</td>\n",
       "      <td>2</td>\n",
       "      <td>[2.0, 0.0, 3.0, 2.0, 1.0, 1.0, 1.0, 1.0, 0.0, ...</td>\n",
       "    </tr>\n",
       "    <tr>\n",
       "      <th>...</th>\n",
       "      <td>...</td>\n",
       "      <td>...</td>\n",
       "      <td>...</td>\n",
       "      <td>...</td>\n",
       "      <td>...</td>\n",
       "      <td>...</td>\n",
       "    </tr>\n",
       "    <tr>\n",
       "      <th>6521</th>\n",
       "      <td>[Write a story about a group of friends who di...</td>\n",
       "      <td>[\\nI want to know the best way to experience y...</td>\n",
       "      <td>[14.8359375, 14.8203125, 14.6796875, 14.757812...</td>\n",
       "      <td>[0, 3, 5, 7, 9, 11, 12, 15, 16, 18, 20, 23, 25...</td>\n",
       "      <td>3260</td>\n",
       "      <td>[11.0, 12.0, 9.0, 13.0, 13.0, 13.0, 12.0, 13.0...</td>\n",
       "    </tr>\n",
       "    <tr>\n",
       "      <th>6522</th>\n",
       "      <td>[What are some best practices for optimizing a...</td>\n",
       "      <td>[\\nI'd like to experience the best possible ex...</td>\n",
       "      <td>[14.8203125, 14.5078125, 14.8828125, 14.820312...</td>\n",
       "      <td>[0, 2, 4, 6, 9, 11, 12, 15, 17, 18, 21, 23, 24...</td>\n",
       "      <td>3261</td>\n",
       "      <td>[13.0, 13.0, 13.0, 12.0, 11.0, 13.0, 13.0, 13....</td>\n",
       "    </tr>\n",
       "    <tr>\n",
       "      <th>6523</th>\n",
       "      <td>[Analyze the effectiveness of different therap...</td>\n",
       "      <td>[\\nLennon advice to can help you understand yo...</td>\n",
       "      <td>[14.796875, 14.8359375, 14.84375, 14.8515625, ...</td>\n",
       "      <td>[1, 3, 4, 6, 9, 11, 13, 14, 17, 19, 20, 23, 24...</td>\n",
       "      <td>3261</td>\n",
       "      <td>[11.0, 12.0, 13.0, 13.0, 13.0, 12.0, 13.0, 12....</td>\n",
       "    </tr>\n",
       "    <tr>\n",
       "      <th>6524</th>\n",
       "      <td>[Write a science fiction story in third person...</td>\n",
       "      <td>[\\nMy experience is one of the best possible e...</td>\n",
       "      <td>[14.8203125, 14.828125, 14.84375, 14.84375, 14...</td>\n",
       "      <td>[1, 2, 5, 6, 8, 10, 13, 14, 16, 19, 21, 22, 25...</td>\n",
       "      <td>3262</td>\n",
       "      <td>[13.0, 11.0, 13.0, 13.0, 12.0, 12.0, 12.0, 13....</td>\n",
       "    </tr>\n",
       "    <tr>\n",
       "      <th>6525</th>\n",
       "      <td>[Write a research paper on the importance of s...</td>\n",
       "      <td>[\\nI want to experience the best possible poss...</td>\n",
       "      <td>[14.8203125, 14.8125, 14.8203125, 14.890625, 1...</td>\n",
       "      <td>[0, 3, 5, 7, 9, 10, 12, 14, 17, 19, 20, 22, 25...</td>\n",
       "      <td>3262</td>\n",
       "      <td>[13.0, 12.0, 13.0, 13.0, 13.0, 11.0, 14.0, 12....</td>\n",
       "    </tr>\n",
       "  </tbody>\n",
       "</table>\n",
       "<p>6526 rows × 6 columns</p>\n",
       "</div>"
      ],
      "text/plain": [
       "                                                 inputs  \\\n",
       "0     [Write a persuasive business letter in formal ...   \n",
       "1     [How can I use geospatial data to analyze patt...   \n",
       "2     [In your opinion, how might globalization and ...   \n",
       "3     [Study the causes and effects of income inequa...   \n",
       "4     [Using photography, capture the dynamic colors...   \n",
       "...                                                 ...   \n",
       "6521  [Write a story about a group of friends who di...   \n",
       "6522  [What are some best practices for optimizing a...   \n",
       "6523  [Analyze the effectiveness of different therap...   \n",
       "6524  [Write a science fiction story in third person...   \n",
       "6525  [Write a research paper on the importance of s...   \n",
       "\n",
       "                                                outputs  \\\n",
       "0     [\\nWrite an inquiry about the time you would l...   \n",
       "1     [\\nFed-up with the compensation for long-term ...   \n",
       "2     [\\nThis Olympic report showed that globalizati...   \n",
       "3     [\\n\\nYou may access this path by submitting th...   \n",
       "4     [\\nFurthermore, this instruction will show you...   \n",
       "...                                                 ...   \n",
       "6521  [\\nI want to know the best way to experience y...   \n",
       "6522  [\\nI'd like to experience the best possible ex...   \n",
       "6523  [\\nLennon advice to can help you understand yo...   \n",
       "6524  [\\nMy experience is one of the best possible e...   \n",
       "6525  [\\nI want to experience the best possible poss...   \n",
       "\n",
       "                                                rewards  \\\n",
       "0     [-14.5078125, 1.71484375, -14.390625, -11.4296...   \n",
       "1     [-14.5390625, -1.08203125, -14.4765625, 9.0156...   \n",
       "2     [-14.5703125, -7.7109375, -6.3046875, -6.53906...   \n",
       "3     [-14.6953125, -14.5703125, -14.6171875, -0.344...   \n",
       "4     [2.921875, -14.140625, 8.421875, 1.35546875, -...   \n",
       "...                                                 ...   \n",
       "6521  [14.8359375, 14.8203125, 14.6796875, 14.757812...   \n",
       "6522  [14.8203125, 14.5078125, 14.8828125, 14.820312...   \n",
       "6523  [14.796875, 14.8359375, 14.84375, 14.8515625, ...   \n",
       "6524  [14.8203125, 14.828125, 14.84375, 14.84375, 14...   \n",
       "6525  [14.8203125, 14.8125, 14.8203125, 14.890625, 1...   \n",
       "\n",
       "                                               keepinds  step  \\\n",
       "0     [1, 3, 5, 6, 8, 11, 12, 14, 16, 19, 21, 23, 24...     0   \n",
       "1     [1, 3, 5, 7, 8, 10, 12, 14, 17, 18, 20, 22, 25...     0   \n",
       "2     [1, 2, 4, 7, 9, 10, 13, 14, 16, 18, 21, 22, 24...     1   \n",
       "3     [1, 3, 4, 7, 9, 11, 13, 15, 17, 19, 21, 23, 25...     1   \n",
       "4     [0, 2, 4, 6, 9, 11, 12, 14, 17, 18, 21, 23, 24...     2   \n",
       "...                                                 ...   ...   \n",
       "6521  [0, 3, 5, 7, 9, 11, 12, 15, 16, 18, 20, 23, 25...  3260   \n",
       "6522  [0, 2, 4, 6, 9, 11, 12, 15, 17, 18, 21, 23, 24...  3261   \n",
       "6523  [1, 3, 4, 6, 9, 11, 13, 14, 17, 19, 20, 23, 24...  3261   \n",
       "6524  [1, 2, 5, 6, 8, 10, 13, 14, 16, 19, 21, 22, 25...  3262   \n",
       "6525  [0, 3, 5, 7, 9, 10, 12, 14, 17, 19, 20, 22, 25...  3262   \n",
       "\n",
       "                                                  golds  \n",
       "0     [0.0, 2.0, 0.0, 1.0, 1.0, 2.0, 1.0, 0.0, 1.0, ...  \n",
       "1     [0.0, 2.0, 0.0, 3.0, 0.0, 0.0, 0.0, 0.0, 1.0, ...  \n",
       "2     [0.0, 1.0, 1.0, 1.0, 0.0, 0.0, 0.0, 2.0, 0.0, ...  \n",
       "3     [0.0, 0.0, 0.0, 2.0, 0.0, 0.0, 0.0, 2.0, 1.0, ...  \n",
       "4     [2.0, 0.0, 3.0, 2.0, 1.0, 1.0, 1.0, 1.0, 0.0, ...  \n",
       "...                                                 ...  \n",
       "6521  [11.0, 12.0, 9.0, 13.0, 13.0, 13.0, 12.0, 13.0...  \n",
       "6522  [13.0, 13.0, 13.0, 12.0, 11.0, 13.0, 13.0, 13....  \n",
       "6523  [11.0, 12.0, 13.0, 13.0, 13.0, 12.0, 13.0, 12....  \n",
       "6524  [13.0, 11.0, 13.0, 13.0, 12.0, 12.0, 12.0, 13....  \n",
       "6525  [13.0, 12.0, 13.0, 13.0, 13.0, 11.0, 14.0, 12....  \n",
       "\n",
       "[6526 rows x 6 columns]"
      ]
     },
     "execution_count": 18,
     "metadata": {},
     "output_type": "execute_result"
    }
   ],
   "source": [
    "bowtrain"
   ]
  },
  {
   "cell_type": "code",
   "execution_count": 130,
   "id": "0540facd-6e1e-4b48-952a-35eb77e4c7c6",
   "metadata": {},
   "outputs": [],
   "source": [
    "# given a dataset with lists of 16(?) pairs in each row, make a pairwise dataset that we can add to the experieence\n",
    "def pairdset(outdf):\n",
    "    pairdset = []\n",
    "    lodiffs = [0]*10\n",
    "    for i, row in tqdm(outdf.iterrows()):\n",
    "        assert row['inputs'][0]==row['inputs'][1]\n",
    "        for j in range(0, len(row['inputs']), 2):\n",
    "            tmp = {}\n",
    "            tmp['question'] = row['inputs'][j]\n",
    "            pref = 1 if row['rewards'][j]<row['rewards'][j+1] else 0\n",
    "            tmp['response_j'] = row['outputs'][j+pref].strip()\n",
    "            tmp['response_k'] = row['outputs'][j+(1-pref)].strip()\n",
    "            tmp['score_j'] = row['golds'][j+pref]\n",
    "            tmp['score_k'] = row['golds'][j+(1-pref)]\n",
    "            # difference in gold\n",
    "            tmp['magnitude'] = tmp['score_j'] - tmp['score_k']\n",
    "            tmp['odiff'] = row['rewards'][j+pref] - row['rewards'][j+(1-pref)]\n",
    "            lodiffs.append(abs(tmp['odiff']))\n",
    "            if tmp['odiff']>mean(lodiffs[-10:])*0.95:\n",
    "                pairdset.append(tmp)\n",
    "        if len(lodiffs)>100:\n",
    "            lodiffs = lodiffs[-10:]\n",
    "    return Dataset.from_list(pairdset)\n",
    "\n",
    "def getfrac(dset, exs=1000, log=True): \n",
    "    inds = list(range(len(dset)))\n",
    "    sampinds = random.sample(inds, exs)\n",
    "    if log:\n",
    "        print(sampinds[:20])\n",
    "    return dset.select(sampinds)"
   ]
  },
  {
   "cell_type": "code",
   "execution_count": 123,
   "id": "9d24c68d-7e47-46ad-9db8-7b7e64fede24",
   "metadata": {},
   "outputs": [
    {
     "name": "stderr",
     "output_type": "stream",
     "text": [
      "6526it [00:03, 1642.05it/s]\n"
     ]
    }
   ],
   "source": [
    "pdset = pairdset(bowtrain)"
   ]
  },
  {
   "cell_type": "code",
   "execution_count": 132,
   "id": "fa5ff50b-d928-48a7-828d-5d657e807453",
   "metadata": {},
   "outputs": [
    {
     "data": {
      "text/plain": [
       "Dataset({\n",
       "    features: ['question', 'response_j', 'response_k', 'score_j', 'score_k', 'magnitude', 'odiff'],\n",
       "    num_rows: 42491\n",
       "})"
      ]
     },
     "execution_count": 132,
     "metadata": {},
     "output_type": "execute_result"
    }
   ],
   "source": [
    "pdset"
   ]
  },
  {
   "cell_type": "code",
   "execution_count": 124,
   "id": "1f2ff378-4610-42dc-82d1-f5222fe9bb22",
   "metadata": {},
   "outputs": [
    {
     "data": {
      "text/plain": [
       "42491"
      ]
     },
     "execution_count": 124,
     "metadata": {},
     "output_type": "execute_result"
    }
   ],
   "source": [
    "len(pdset)"
   ]
  },
  {
   "cell_type": "code",
   "execution_count": 149,
   "id": "0739a469-64f8-4136-a365-0e8a405ce5e8",
   "metadata": {},
   "outputs": [
    {
     "name": "stdout",
     "output_type": "stream",
     "text": [
      "[48153, 28356, 24969, 1161, 12279, 28283, 21432, 17009, 49796, 4058, 26145, 26490, 17622, 8167, 48036, 17003, 1200, 45218, 2600, 46179]\n"
     ]
    }
   ],
   "source": [
    "ndset = concatenate_datasets([pdset.select(range(15000)), getfrac(odset, 45000)]).shuffle(seed=0)"
   ]
  },
  {
   "cell_type": "code",
   "execution_count": 150,
   "id": "2d795a27-82a4-4f20-90d5-64f4b1fd78f7",
   "metadata": {},
   "outputs": [
    {
     "name": "stderr",
     "output_type": "stream",
     "text": [
      "                                                                                                                                                                 \r"
     ]
    }
   ],
   "source": [
    "# ndset.save_to_disk(\"../../data/rmself/25self\")"
   ]
  },
  {
   "cell_type": "code",
   "execution_count": 154,
   "id": "3ad9217e-a778-496c-9345-4750b9381258",
   "metadata": {},
   "outputs": [
    {
     "data": {
      "text/plain": [
       "(array([1.0000e+00, 3.0000e+00, 1.7000e+01, 9.3000e+01, 0.0000e+00,\n",
       "        3.3500e+02, 1.0430e+03, 2.3290e+03, 0.0000e+00, 3.8220e+03,\n",
       "        5.0010e+03, 1.0557e+04, 0.0000e+00, 7.6550e+03, 4.6920e+03,\n",
       "        2.6090e+03, 1.1100e+03, 0.0000e+00, 4.1800e+02, 1.3300e+02,\n",
       "        5.7000e+01, 0.0000e+00, 2.5000e+01, 2.9000e+01, 3.8000e+01,\n",
       "        0.0000e+00, 1.5000e+01, 1.3000e+01, 4.0000e+00, 1.0000e+00]),\n",
       " array([-8.        , -7.23333333, -6.46666667, -5.7       , -4.93333333,\n",
       "        -4.16666667, -3.4       , -2.63333333, -1.86666667, -1.1       ,\n",
       "        -0.33333333,  0.43333333,  1.2       ,  1.96666667,  2.73333333,\n",
       "         3.5       ,  4.26666667,  5.03333333,  5.8       ,  6.56666667,\n",
       "         7.33333333,  8.1       ,  8.86666667,  9.63333333, 10.4       ,\n",
       "        11.16666667, 11.93333333, 12.7       , 13.46666667, 14.23333333,\n",
       "        15.        ]),\n",
       " <BarContainer object of 30 artists>)"
      ]
     },
     "execution_count": 154,
     "metadata": {},
     "output_type": "execute_result"
    },
    {
     "data": {
      "image/png": "[encoded data removed]",
      "text/plain": [
       "<Figure size 640x480 with 1 Axes>"
      ]
     },
     "metadata": {},
     "output_type": "display_data"
    }
   ],
   "source": [
    "plt.hist(Dataset.load_from_disk(\"../../data/rmself/75self\")['magnitude'], bins=30)"
   ]
  },
  {
   "cell_type": "code",
   "execution_count": 139,
   "id": "e52a4a8c-3ce5-44d5-9f35-710979f8a4cb",
   "metadata": {},
   "outputs": [
    {
     "name": "stdout",
     "output_type": "stream",
     "text": [
      "0.9433333333333334\n"
     ]
    },
    {
     "data": {
      "text/plain": [
       "(array([1.000e+00, 3.000e+00, 1.700e+01, 9.300e+01, 0.000e+00, 3.350e+02,\n",
       "        1.043e+03, 2.329e+03, 0.000e+00, 3.822e+03, 5.001e+03, 5.726e+03,\n",
       "        0.000e+00, 4.951e+03, 3.362e+03, 1.863e+03, 8.540e+02, 0.000e+00,\n",
       "        3.190e+02, 1.050e+02, 5.200e+01, 0.000e+00, 2.400e+01, 2.900e+01,\n",
       "        3.800e+01, 0.000e+00, 1.500e+01, 1.300e+01, 4.000e+00, 1.000e+00]),\n",
       " array([-8.        , -7.23333333, -6.46666667, -5.7       , -4.93333333,\n",
       "        -4.16666667, -3.4       , -2.63333333, -1.86666667, -1.1       ,\n",
       "        -0.33333333,  0.43333333,  1.2       ,  1.96666667,  2.73333333,\n",
       "         3.5       ,  4.26666667,  5.03333333,  5.8       ,  6.56666667,\n",
       "         7.33333333,  8.1       ,  8.86666667,  9.63333333, 10.4       ,\n",
       "        11.16666667, 11.93333333, 12.7       , 13.46666667, 14.23333333,\n",
       "        15.        ]),\n",
       " <BarContainer object of 30 artists>)"
      ]
     },
     "execution_count": 139,
     "metadata": {},
     "output_type": "execute_result"
    },
    {
     "data": {
      "image/png": "[encoded data removed]",
      "text/plain": [
       "<Figure size 640x480 with 1 Axes>"
      ]
     },
     "metadata": {},
     "output_type": "display_data"
    }
   ],
   "source": [
    "ival = 30000\n",
    "print(mean(pdset['magnitude'][:ival]))\n",
    "plt.hist(pdset['magnitude'][:ival], bins=30)"
   ]
  },
  {
   "cell_type": "code",
   "execution_count": 82,
   "id": "d81d24cd-da8f-415d-b5c2-bc6c63cff041",
   "metadata": {},
   "outputs": [],
   "source": [
    "#### given a dataset based on generations, with corresponding rewards, and a gold-dataset, get a new mixed dataset that we can use for training to check extrapolation"
   ]
  },
  {
   "cell_type": "code",
   "execution_count": 120,
   "id": "f345f9a0-c5e1-4fc8-8701-7c4eeb4a5e84",
   "metadata": {},
   "outputs": [
    {
     "data": {
      "text/plain": [
       "<matplotlib.collections.PathCollection at 0x7f3152d38ee0>"
      ]
     },
     "execution_count": 120,
     "metadata": {},
     "output_type": "execute_result"
    },
    {
     "data": {
      "image/png": "[encoded data removed]",
      "text/plain": [
       "<Figure size 640x480 with 1 Axes>"
      ]
     },
     "metadata": {},
     "output_type": "display_data"
    }
   ],
   "source": [
    "plt.scatter(range(len(pdset)), pdset['score_j'])"
   ]
  },
  {
   "cell_type": "code",
   "execution_count": 9,
   "id": "aff0c701-4e81-4498-b9ab-8d7ca96dc034",
   "metadata": {},
   "outputs": [
    {
     "data": {
      "text/html": [
       "<div>\n",
       "<style scoped>\n",
       "    .dataframe tbody tr th:only-of-type {\n",
       "        vertical-align: middle;\n",
       "    }\n",
       "\n",
       "    .dataframe tbody tr th {\n",
       "        vertical-align: top;\n",
       "    }\n",
       "\n",
       "    .dataframe thead th {\n",
       "        text-align: right;\n",
       "    }\n",
       "</style>\n",
       "<table border=\"1\" class=\"dataframe\">\n",
       "  <thead>\n",
       "    <tr style=\"text-align: right;\">\n",
       "      <th></th>\n",
       "      <th>inputs</th>\n",
       "      <th>outputs</th>\n",
       "      <th>rewards</th>\n",
       "      <th>keepinds</th>\n",
       "      <th>step</th>\n",
       "    </tr>\n",
       "  </thead>\n",
       "  <tbody>\n",
       "    <tr>\n",
       "      <th>0</th>\n",
       "      <td>[Write a persuasive business letter in formal ...</td>\n",
       "      <td>[\\nWrite an inquiry about the time you would l...</td>\n",
       "      <td>[-14.5078125, 1.71484375, -14.390625, -11.4296...</td>\n",
       "      <td>[1, 3, 5, 6, 8, 11, 12, 14, 16, 19, 21, 23, 24...</td>\n",
       "      <td>0</td>\n",
       "    </tr>\n",
       "    <tr>\n",
       "      <th>1</th>\n",
       "      <td>[How can I use geospatial data to analyze patt...</td>\n",
       "      <td>[\\nFed-up with the compensation for long-term ...</td>\n",
       "      <td>[-14.5390625, -1.08203125, -14.4765625, 9.0156...</td>\n",
       "      <td>[1, 3, 5, 7, 8, 10, 12, 14, 17, 18, 20, 22, 25...</td>\n",
       "      <td>0</td>\n",
       "    </tr>\n",
       "    <tr>\n",
       "      <th>2</th>\n",
       "      <td>[Study the causes and effects of income inequa...</td>\n",
       "      <td>[\\n\\nYou may access this path by submitting th...</td>\n",
       "      <td>[-14.640625, -6.26953125, -14.578125, -0.34472...</td>\n",
       "      <td>[1, 3, 4, 7, 8, 10, 13, 15, 17, 19, 21, 22, 24...</td>\n",
       "      <td>1</td>\n",
       "    </tr>\n",
       "    <tr>\n",
       "      <th>3</th>\n",
       "      <td>[In your opinion, how might globalization and ...</td>\n",
       "      <td>[\\nThis Olympic report showed that globalizati...</td>\n",
       "      <td>[-6.375, -14.421875, -6.3046875, -6.3984375, -...</td>\n",
       "      <td>[0, 2, 4, 6, 9, 11, 12, 15, 17, 19, 21, 23, 25...</td>\n",
       "      <td>1</td>\n",
       "    </tr>\n",
       "    <tr>\n",
       "      <th>4</th>\n",
       "      <td>[Write a detailed and descriptive narrative ab...</td>\n",
       "      <td>[ETS(Representative Sotaturnate)\\n\\n*\\n\\n*\\n\\n...</td>\n",
       "      <td>[-14.5703125, -4.97265625, 7.00390625, 5.10546...</td>\n",
       "      <td>[1, 2, 4, 7, 8, 10, 13, 15, 16, 19, 20, 22, 25...</td>\n",
       "      <td>2</td>\n",
       "    </tr>\n",
       "    <tr>\n",
       "      <th>...</th>\n",
       "      <td>...</td>\n",
       "      <td>...</td>\n",
       "      <td>...</td>\n",
       "      <td>...</td>\n",
       "      <td>...</td>\n",
       "    </tr>\n",
       "    <tr>\n",
       "      <th>995</th>\n",
       "      <td>[Please provide examples of successful communi...</td>\n",
       "      <td>[\\nPlease provide a best possible experience t...</td>\n",
       "      <td>[14.6171875, 14.59375, 14.421875, 14.3984375, ...</td>\n",
       "      <td>[0, 2, 4, 7, 9, 10, 12, 15, 17, 19, 20, 23, 24...</td>\n",
       "      <td>497</td>\n",
       "    </tr>\n",
       "    <tr>\n",
       "      <th>996</th>\n",
       "      <td>[How frequently are satellites updated or repl...</td>\n",
       "      <td>[\\nKey and importantly, create a safe experien...</td>\n",
       "      <td>[14.484375, 14.4921875, 14.6015625, 14.53125, ...</td>\n",
       "      <td>[1, 2, 4, 6, 8, 10, 12, 15, 17, 19, 20, 23, 25...</td>\n",
       "      <td>498</td>\n",
       "    </tr>\n",
       "    <tr>\n",
       "      <th>997</th>\n",
       "      <td>[Write a detailed report on how a trauma-infor...</td>\n",
       "      <td>[\\n\\nRespect your Leslie experience as an impo...</td>\n",
       "      <td>[14.5078125, 14.625, 14.6640625, 14.4140625, 1...</td>\n",
       "      <td>[1, 2, 5, 7, 9, 11, 12, 14, 17, 19, 21, 22, 25...</td>\n",
       "      <td>498</td>\n",
       "    </tr>\n",
       "    <tr>\n",
       "      <th>998</th>\n",
       "      <td>[How can individuals without Microsoft Excel a...</td>\n",
       "      <td>[\\nysb: Images may help further understand you...</td>\n",
       "      <td>[14.4765625, 14.5546875, 14.5859375, 14.382812...</td>\n",
       "      <td>[1, 2, 4, 6, 8, 10, 13, 15, 17, 19, 20, 23, 25...</td>\n",
       "      <td>499</td>\n",
       "    </tr>\n",
       "    <tr>\n",
       "      <th>999</th>\n",
       "      <td>[Design a Java-based data processing system th...</td>\n",
       "      <td>[\\nPlease provide appropriate information to e...</td>\n",
       "      <td>[14.40625, 14.5, 14.5, 14.6484375, 14.6171875,...</td>\n",
       "      <td>[1, 3, 4, 7, 9, 10, 12, 14, 16, 18, 21, 22, 24...</td>\n",
       "      <td>499</td>\n",
       "    </tr>\n",
       "  </tbody>\n",
       "</table>\n",
       "<p>1000 rows × 5 columns</p>\n",
       "</div>"
      ],
      "text/plain": [
       "                                                inputs  \\\n",
       "0    [Write a persuasive business letter in formal ...   \n",
       "1    [How can I use geospatial data to analyze patt...   \n",
       "2    [Study the causes and effects of income inequa...   \n",
       "3    [In your opinion, how might globalization and ...   \n",
       "4    [Write a detailed and descriptive narrative ab...   \n",
       "..                                                 ...   \n",
       "995  [Please provide examples of successful communi...   \n",
       "996  [How frequently are satellites updated or repl...   \n",
       "997  [Write a detailed report on how a trauma-infor...   \n",
       "998  [How can individuals without Microsoft Excel a...   \n",
       "999  [Design a Java-based data processing system th...   \n",
       "\n",
       "                                               outputs  \\\n",
       "0    [\\nWrite an inquiry about the time you would l...   \n",
       "1    [\\nFed-up with the compensation for long-term ...   \n",
       "2    [\\n\\nYou may access this path by submitting th...   \n",
       "3    [\\nThis Olympic report showed that globalizati...   \n",
       "4    [ETS(Representative Sotaturnate)\\n\\n*\\n\\n*\\n\\n...   \n",
       "..                                                 ...   \n",
       "995  [\\nPlease provide a best possible experience t...   \n",
       "996  [\\nKey and importantly, create a safe experien...   \n",
       "997  [\\n\\nRespect your Leslie experience as an impo...   \n",
       "998  [\\nysb: Images may help further understand you...   \n",
       "999  [\\nPlease provide appropriate information to e...   \n",
       "\n",
       "                                               rewards  \\\n",
       "0    [-14.5078125, 1.71484375, -14.390625, -11.4296...   \n",
       "1    [-14.5390625, -1.08203125, -14.4765625, 9.0156...   \n",
       "2    [-14.640625, -6.26953125, -14.578125, -0.34472...   \n",
       "3    [-6.375, -14.421875, -6.3046875, -6.3984375, -...   \n",
       "4    [-14.5703125, -4.97265625, 7.00390625, 5.10546...   \n",
       "..                                                 ...   \n",
       "995  [14.6171875, 14.59375, 14.421875, 14.3984375, ...   \n",
       "996  [14.484375, 14.4921875, 14.6015625, 14.53125, ...   \n",
       "997  [14.5078125, 14.625, 14.6640625, 14.4140625, 1...   \n",
       "998  [14.4765625, 14.5546875, 14.5859375, 14.382812...   \n",
       "999  [14.40625, 14.5, 14.5, 14.6484375, 14.6171875,...   \n",
       "\n",
       "                                              keepinds  step  \n",
       "0    [1, 3, 5, 6, 8, 11, 12, 14, 16, 19, 21, 23, 24...     0  \n",
       "1    [1, 3, 5, 7, 8, 10, 12, 14, 17, 18, 20, 22, 25...     0  \n",
       "2    [1, 3, 4, 7, 8, 10, 13, 15, 17, 19, 21, 22, 24...     1  \n",
       "3    [0, 2, 4, 6, 9, 11, 12, 15, 17, 19, 21, 23, 25...     1  \n",
       "4    [1, 2, 4, 7, 8, 10, 13, 15, 16, 19, 20, 22, 25...     2  \n",
       "..                                                 ...   ...  \n",
       "995  [0, 2, 4, 7, 9, 10, 12, 15, 17, 19, 20, 23, 24...   497  \n",
       "996  [1, 2, 4, 6, 8, 10, 12, 15, 17, 19, 20, 23, 25...   498  \n",
       "997  [1, 2, 5, 7, 9, 11, 12, 14, 17, 19, 21, 22, 25...   498  \n",
       "998  [1, 2, 4, 6, 8, 10, 13, 15, 17, 19, 20, 23, 25...   499  \n",
       "999  [1, 3, 4, 7, 9, 10, 12, 14, 16, 18, 21, 22, 24...   499  \n",
       "\n",
       "[1000 rows x 5 columns]"
      ]
     },
     "execution_count": 9,
     "metadata": {},
     "output_type": "execute_result"
    }
   ],
   "source": [
    "bowtrain"
   ]
  },
  {
   "cell_type": "code",
   "execution_count": null,
   "id": "9af24117-0e70-494d-945c-df14a47df9ec",
   "metadata": {},
   "outputs": [],
   "source": []
  }
 ],
 "metadata": {
  "kernelspec": {
   "display_name": "Python 3 (ipykernel)",
   "language": "python",
   "name": "python3"
  },
  "language_info": {
   "codemirror_mode": {
    "name": "ipython",
    "version": 3
   },
   "file_extension": ".py",
   "mimetype": "text/x-python",
   "name": "python",
   "nbconvert_exporter": "python",
   "pygments_lexer": "ipython3",
   "version": "3.10.0"
  }
 },
 "nbformat": 4,
 "nbformat_minor": 5
}
