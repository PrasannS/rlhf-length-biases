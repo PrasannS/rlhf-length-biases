{
 "cells": [
  {
   "cell_type": "code",
   "execution_count": 1,
   "id": "17aee58b-e0de-45d0-a264-2778ea9e81a3",
   "metadata": {},
   "outputs": [
    {
     "name": "stderr",
     "output_type": "stream",
     "text": [
      "/u/prasanns/miniconda3/envs/rlhfenv/lib/python3.10/site-packages/tqdm/auto.py:21: TqdmWarning: IProgress not found. Please update jupyter and ipywidgets. See https://ipywidgets.readthedocs.io/en/stable/user_install.html\n",
      "  from .autonotebook import tqdm as notebook_tqdm\n"
     ]
    }
   ],
   "source": [
    "# notebook for looking at magnitude patterns on UF\n",
    "import datasets\n",
    "from datasets import Dataset, concatenate_datasets\n",
    "import pandas as pd\n",
    "import matplotlib.pyplot as plt\n",
    "from statistics import mean\n",
    "import os\n",
    "from scipy.stats import spearmanr\n",
    "import random\n",
    "from transformers import AutoTokenizer"
   ]
  },
  {
   "cell_type": "code",
   "execution_count": 2,
   "id": "d24515c3-790c-4a71-95c9-c5c12e38e6d2",
   "metadata": {},
   "outputs": [],
   "source": [
    "dataset = Dataset.load_from_disk(\"../../data/ultrafeedasp/\")"
   ]
  },
  {
   "cell_type": "code",
   "execution_count": 3,
   "id": "bce903d0-b7ce-422f-9b52-45695456b771",
   "metadata": {},
   "outputs": [],
   "source": [
    "tok = AutoTokenizer.from_pretrained('../../models/sft10k')"
   ]
  },
  {
   "cell_type": "code",
   "execution_count": 4,
   "id": "0426d03b-33d9-4be3-b8ab-0f94c36fb8c8",
   "metadata": {},
   "outputs": [
    {
     "ename": "NameError",
     "evalue": "name 'alldata' is not defined",
     "output_type": "error",
     "traceback": [
      "\u001b[0;31m---------------------------------------------------------------------------\u001b[0m",
      "\u001b[0;31mNameError\u001b[0m                                 Traceback (most recent call last)",
      "Cell \u001b[0;32mIn[4], line 11\u001b[0m\n\u001b[1;32m      8\u001b[0m     \u001b[38;5;28;01mreturn\u001b[39;00m ex\n\u001b[1;32m     10\u001b[0m exkey \u001b[38;5;241m=\u001b[39m \u001b[38;5;124m'\u001b[39m\u001b[38;5;124malpaca-7b\u001b[39m\u001b[38;5;124m'\u001b[39m\n\u001b[0;32m---> 11\u001b[0m tmp \u001b[38;5;241m=\u001b[39m \u001b[43malldata\u001b[49m\u001b[38;5;241m.\u001b[39mmap(\u001b[38;5;28;01mlambda\u001b[39;00m ex: ksco(ex, exkey, \u001b[38;5;124m\"\u001b[39m\u001b[38;5;124mnewsco\u001b[39m\u001b[38;5;124m\"\u001b[39m), num_proc\u001b[38;5;241m=\u001b[39m\u001b[38;5;241m10\u001b[39m)\n",
      "\u001b[0;31mNameError\u001b[0m: name 'alldata' is not defined"
     ]
    }
   ],
   "source": [
    "def ksco(ex, keyval, keyind=\"mn\"):\n",
    "    if ex['modj']==keyval: \n",
    "        ex['tmpsco'] = ex[keyind+'_j']\n",
    "    elif ex['modk']==keyval: \n",
    "        ex['tmpsco'] = ex[keyind+'_k']\n",
    "    else: \n",
    "        ex['tmpsco'] = -100\n",
    "    return ex\n",
    "    \n",
    "exkey = 'alpaca-7b'\n",
    "tmp = alldata.map(lambda ex: ksco(ex, exkey, \"newsco\"), num_proc=10)"
   ]
  },
  {
   "cell_type": "code",
   "execution_count": 33,
   "id": "30b1e069-7dbe-4d76-8f0a-3ab1db75c144",
   "metadata": {},
   "outputs": [],
   "source": [
    "newts = []\n",
    "for t in tmp['tmpsco']: \n",
    "    if t>-100:\n",
    "        newts.append(t)"
   ]
  },
  {
   "cell_type": "code",
   "execution_count": 34,
   "id": "12d375b4-e9e8-4dfd-9a12-927ff3387da7",
   "metadata": {},
   "outputs": [
    {
     "data": {
      "text/plain": [
       "(array([  1.,   0.,   1.,   0.,   3.,   6.,   4.,   3.,   5.,   9.,  14.,\n",
       "         14.,  29.,  17.,  33.,  27.,  43.,  47.,  45.,  63.,  72.,  92.,\n",
       "        104.,  95., 119., 143., 165., 154., 201., 188., 253., 201., 241.,\n",
       "        261., 261., 316., 325., 310., 378., 346., 391., 429., 384., 427.,\n",
       "        468., 426., 409., 486., 519., 540., 538., 577., 550., 528., 558.,\n",
       "        537., 528., 499., 546., 484., 411., 420., 396., 390., 395., 318.,\n",
       "        280., 228., 221., 179., 183., 130., 121., 140., 101.,  78.,  70.,\n",
       "         74.,  41.,  25.,  39.,  36.,  24.,  25.,  16.,  11.,  11.,  11.,\n",
       "         13.,  10.,  10.,   3.,   3.,   3.,   1.,   1.,   2.,   0.,   3.,\n",
       "          1.]),\n",
       " array([-8.75000e+00, -8.61125e+00, -8.47250e+00, -8.33375e+00,\n",
       "        -8.19500e+00, -8.05625e+00, -7.91750e+00, -7.77875e+00,\n",
       "        -7.64000e+00, -7.50125e+00, -7.36250e+00, -7.22375e+00,\n",
       "        -7.08500e+00, -6.94625e+00, -6.80750e+00, -6.66875e+00,\n",
       "        -6.53000e+00, -6.39125e+00, -6.25250e+00, -6.11375e+00,\n",
       "        -5.97500e+00, -5.83625e+00, -5.69750e+00, -5.55875e+00,\n",
       "        -5.42000e+00, -5.28125e+00, -5.14250e+00, -5.00375e+00,\n",
       "        -4.86500e+00, -4.72625e+00, -4.58750e+00, -4.44875e+00,\n",
       "        -4.31000e+00, -4.17125e+00, -4.03250e+00, -3.89375e+00,\n",
       "        -3.75500e+00, -3.61625e+00, -3.47750e+00, -3.33875e+00,\n",
       "        -3.20000e+00, -3.06125e+00, -2.92250e+00, -2.78375e+00,\n",
       "        -2.64500e+00, -2.50625e+00, -2.36750e+00, -2.22875e+00,\n",
       "        -2.09000e+00, -1.95125e+00, -1.81250e+00, -1.67375e+00,\n",
       "        -1.53500e+00, -1.39625e+00, -1.25750e+00, -1.11875e+00,\n",
       "        -9.80000e-01, -8.41250e-01, -7.02500e-01, -5.63750e-01,\n",
       "        -4.25000e-01, -2.86250e-01, -1.47500e-01, -8.75000e-03,\n",
       "         1.30000e-01,  2.68750e-01,  4.07500e-01,  5.46250e-01,\n",
       "         6.85000e-01,  8.23750e-01,  9.62500e-01,  1.10125e+00,\n",
       "         1.24000e+00,  1.37875e+00,  1.51750e+00,  1.65625e+00,\n",
       "         1.79500e+00,  1.93375e+00,  2.07250e+00,  2.21125e+00,\n",
       "         2.35000e+00,  2.48875e+00,  2.62750e+00,  2.76625e+00,\n",
       "         2.90500e+00,  3.04375e+00,  3.18250e+00,  3.32125e+00,\n",
       "         3.46000e+00,  3.59875e+00,  3.73750e+00,  3.87625e+00,\n",
       "         4.01500e+00,  4.15375e+00,  4.29250e+00,  4.43125e+00,\n",
       "         4.57000e+00,  4.70875e+00,  4.84750e+00,  4.98625e+00,\n",
       "         5.12500e+00]),\n",
       " <BarContainer object of 100 artists>)"
      ]
     },
     "execution_count": 34,
     "metadata": {},
     "output_type": "execute_result"
    },
    {
     "data": {
      "image/png": "[encoded data removed]",
      "text/plain": [
       "<Figure size 640x480 with 1 Axes>"
      ]
     },
     "metadata": {},
     "output_type": "display_data"
    }
   ],
   "source": [
    "plt.hist(newts, bins=100)"
   ]
  },
  {
   "cell_type": "code",
   "execution_count": 18,
   "id": "547119f3-e866-45af-b1b4-59a97630af9a",
   "metadata": {},
   "outputs": [],
   "source": [
    "base = \"../../outputs/ultragenerscos//\"\n",
    "adfs = {s.replace(\".jsonl\", \"\"):pd.read_json(base+s, orient='records', lines=True) for s in os.listdir(base)}"
   ]
  },
  {
   "cell_type": "code",
   "execution_count": 19,
   "id": "85e66de7-6d96-4d8f-a992-d7610e55b890",
   "metadata": {},
   "outputs": [
    {
     "data": {
      "text/plain": [
       "dict_keys(['50rmdpoplus100', '50rmdpoplus200', '50rmdpoplus300', '50rmdpoplus450', 'smalldistdpo1000', 'smalldistrrmdpoplus100', 'smalldistdpo2000', 'smalldistrrmdpoplus200', 'smalldistdpo4000', 'smalldistrrmdpoplus300', 'smalldistrrmdpoplus450', 'dpo44sft10k1000', 'dpo44sft10k2000', 'dpo44sft10k4000', 'dpo44sft10k8000', 'sft'])"
      ]
     },
     "execution_count": 19,
     "metadata": {},
     "output_type": "execute_result"
    }
   ],
   "source": [
    "adfs.keys()"
   ]
  },
  {
   "cell_type": "code",
   "execution_count": null,
   "id": "6f5b7aeb-7275-4be6-88ad-9fdb2a4462a1",
   "metadata": {},
   "outputs": [],
   "source": [
    "mean([s[0] for s in adfs['dpo44sft10k3000']['scores']])"
   ]
  },
  {
   "cell_type": "code",
   "execution_count": 56,
   "id": "18b55218-e3f0-436b-9a21-72c3f4540217",
   "metadata": {},
   "outputs": [
    {
     "name": "stderr",
     "output_type": "stream",
     "text": [
      "\n",
      "KeyboardInterrupt\n",
      "\n"
     ]
    }
   ],
   "source": [
    "kset = {ex['response_j']+ex['response_k']:(ex['mn_j'], ex['mn_k'], ex['modj'], ex['modk']) for ex in dataset}"
   ]
  },
  {
   "cell_type": "code",
   "execution_count": 104,
   "id": "82c9e8ea-2c0f-4f7e-83a0-03a292381437",
   "metadata": {},
   "outputs": [],
   "source": [
    "def update_vals(ex): \n",
    "    vals = kset[ex['response_j']+ex['response_k']]\n",
    "    ex['mn_j'] = vals[0]\n",
    "    ex['mn_k'] = vals[1]\n",
    "    ex['modj'] = vals[2]\n",
    "    ex['modk'] = vals[3]\n",
    "    return ex"
   ]
  },
  {
   "cell_type": "code",
   "execution_count": 105,
   "id": "2d7e9257-9ffc-4ae9-abf3-a0a329676ada",
   "metadata": {},
   "outputs": [
    {
     "name": "stderr",
     "output_type": "stream",
     "text": [
      "                                                                                                                                                                   \r"
     ]
    }
   ],
   "source": [
    "alldata = alldata.map(update_vals, num_proc=10)"
   ]
  },
  {
   "cell_type": "code",
   "execution_count": 9,
   "id": "6dce7285-e047-401f-b05c-7f604353f1cb",
   "metadata": {},
   "outputs": [
    {
     "name": "stdout",
     "output_type": "stream",
     "text": [
      "['gpt-3.5-turbo', 'llama-2-70b-chat', 'starchat', 'gpt-4', 'wizardlm-7b', 'bard', 'wizardlm-13b', 'mpt-30b-chat', 'wizardlm-70b', 'ultralm-65b', 'falcon-40b-instruct', 'ultralm-13b', 'alpaca-7b', 'llama-2-13b-chat', 'pythia-12b', 'vicuna-33b', 'llama-2-7b-chat']\n"
     ]
    }
   ],
   "source": [
    "# what data sources do we got? \n",
    "sources = {'evol_instruct','false_qa','flan_v2_cot','flan_v2_flan2021','flan_v2_niv2','flan_v2_p3', 'sharegpt', 'truthful_qa','ultrachat'}\n",
    "gens = ['gpt-3.5-turbo', 'llama-2-70b-chat', 'starchat', 'gpt-4', 'wizardlm-7b', 'bard', 'wizardlm-13b', 'mpt-30b-chat', 'wizardlm-70b', 'ultralm-65b', 'falcon-40b-instruct', 'ultralm-13b', 'alpaca-7b', 'llama-2-13b-chat', 'pythia-12b', 'vicuna-33b', 'llama-2-7b-chat']"
   ]
  },
  {
   "cell_type": "code",
   "execution_count": 14,
   "id": "97a973e8-154e-4d74-99e1-603fd6b96c1c",
   "metadata": {},
   "outputs": [
    {
     "name": "stderr",
     "output_type": "stream",
     "text": [
      "Loading cached processed dataset at /scratch/cluster/prasanns/research/rlhf-length-biases/data/ultrafeedasp/cache-1d64f35d3209b599.arrow\n"
     ]
    }
   ],
   "source": [
    "tmp = dataset.filter(lambda ex: ex['modj']=='alpaca-7b')"
   ]
  },
  {
   "cell_type": "code",
   "execution_count": 15,
   "id": "f0ac3a32-9a5f-43f0-ba44-4d8930ef33c3",
   "metadata": {},
   "outputs": [
    {
     "data": {
      "text/plain": [
       "Dataset({\n",
       "    features: ['question', 'source', 'modj', 'modk', 'tokj', 'tok', 'response_j', 'response_k', 'magnitude', 'mn_j', 'mn_k', 'hf_j', 'hf_k', 'hn_j', 'hn_k', 'tn_j', 'tn_k', 'ifg_j', 'ifg_k'],\n",
       "    num_rows: 13778\n",
       "})"
      ]
     },
     "execution_count": 15,
     "metadata": {},
     "output_type": "execute_result"
    }
   ],
   "source": [
    "tmp"
   ]
  },
  {
   "cell_type": "code",
   "execution_count": 16,
   "id": "24e8911c-cf46-41cc-bd16-e986cadc559d",
   "metadata": {},
   "outputs": [
    {
     "data": {
      "text/plain": [
       "(array([1545.,  270., 1275., 1208., 3268.,  587., 2284., 1311., 1574.,\n",
       "         456.]),\n",
       " array([ 0. ,  1.5,  3. ,  4.5,  6. ,  7.5,  9. , 10.5, 12. , 13.5, 15. ]),\n",
       " <BarContainer object of 10 artists>)"
      ]
     },
     "execution_count": 16,
     "metadata": {},
     "output_type": "execute_result"
    },
    {
     "data": {
      "image/png": "[encoded data removed]",
      "text/plain": [
       "<Figure size 1800x400 with 1 Axes>"
      ]
     },
     "metadata": {},
     "output_type": "display_data"
    }
   ],
   "source": [
    "plt.figure(figsize=(18,4))\n",
    "plt.hist(tmp['modk'])"
   ]
  },
  {
   "cell_type": "code",
   "execution_count": 11,
   "id": "fb768757-9b28-413f-9ea5-6b4d8baa4eb7",
   "metadata": {},
   "outputs": [
    {
     "data": {
      "text/plain": [
       "Dataset({\n",
       "    features: ['question', 'source', 'modj', 'modk', 'tokj', 'tok', 'response_j', 'response_k', 'magnitude', '__index_level_0__'],\n",
       "    num_rows: 340025\n",
       "})"
      ]
     },
     "execution_count": 11,
     "metadata": {},
     "output_type": "execute_result"
    }
   ],
   "source": [
    "dataset"
   ]
  },
  {
   "cell_type": "code",
   "execution_count": 12,
   "id": "4445cdfc-27d5-44ce-bf7c-04b559f6c494",
   "metadata": {},
   "outputs": [],
   "source": [
    "dset = Dataset.load_from_disk(\"../../data/ultrafeedall/\")"
   ]
  },
  {
   "cell_type": "code",
   "execution_count": 13,
   "id": "250ae1e3-0a08-4c12-b52e-4e5b32fd9974",
   "metadata": {},
   "outputs": [
    {
     "data": {
      "text/plain": [
       "Dataset({\n",
       "    features: ['question', 'source', 'modj', 'modk', 'tokj', 'tok', 'response_j', 'response_k', 'magnitude'],\n",
       "    num_rows: 383796\n",
       "})"
      ]
     },
     "execution_count": 13,
     "metadata": {},
     "output_type": "execute_result"
    }
   ],
   "source": [
    "dset"
   ]
  },
  {
   "cell_type": "code",
   "execution_count": 2,
   "id": "90be972d-4c2b-4a03-bc22-208eade49fc1",
   "metadata": {},
   "outputs": [],
   "source": [
    "dataset = Dataset.from_list([{\"hi\":\"yo\"}])"
   ]
  },
  {
   "cell_type": "code",
   "execution_count": 11,
   "id": "1259641c-3d8d-4115-9b6b-d96701919e78",
   "metadata": {},
   "outputs": [],
   "source": [
    "dtmp = Dataset.load_from_disk(\"../../data/ultrafeeddiff/\")"
   ]
  },
  {
   "cell_type": "code",
   "execution_count": 12,
   "id": "2cd3ee17-0545-4cb6-a823-5536276ac1e8",
   "metadata": {},
   "outputs": [],
   "source": [
    "dtmp = dtmp.select(range(100))"
   ]
  },
  {
   "cell_type": "code",
   "execution_count": 13,
   "id": "a57f0303-69fb-443b-a57d-338fea278bc9",
   "metadata": {},
   "outputs": [
    {
     "name": "stderr",
     "output_type": "stream",
     "text": [
      "                                                                                                                                                                                                     \r"
     ]
    }
   ],
   "source": [
    "dtmp.save_to_disk(\"../../data/ultratinysanity\")"
   ]
  },
  {
   "cell_type": "code",
   "execution_count": 5,
   "id": "b7e3a62b-4401-4690-b39a-ff9e009e872a",
   "metadata": {},
   "outputs": [
    {
     "ename": "TypeError",
     "evalue": "'Dataset' object does not support item assignment",
     "output_type": "error",
     "traceback": [
      "\u001b[0;31m---------------------------------------------------------------------------\u001b[0m",
      "\u001b[0;31mTypeError\u001b[0m                                 Traceback (most recent call last)",
      "Cell \u001b[0;32mIn[5], line 1\u001b[0m\n\u001b[0;32m----> 1\u001b[0m \u001b[43mdataset\u001b[49m\u001b[43m[\u001b[49m\u001b[38;5;124;43m'\u001b[39;49m\u001b[38;5;124;43mhi\u001b[39;49m\u001b[38;5;124;43m'\u001b[39;49m\u001b[43m]\u001b[49m \u001b[38;5;241m=\u001b[39m [\u001b[38;5;124m'\u001b[39m\u001b[38;5;124myes\u001b[39m\u001b[38;5;124m'\u001b[39m]\n",
      "\u001b[0;31mTypeError\u001b[0m: 'Dataset' object does not support item assignment"
     ]
    }
   ],
   "source": [
    "dataset['hi'] = ['yes']"
   ]
  },
  {
   "cell_type": "code",
   "execution_count": 39,
   "id": "9c91c9b0-a885-41cf-b784-4297c8c90515",
   "metadata": {},
   "outputs": [],
   "source": [
    "tmp = Dataset.load_from_disk(\"../../data/ultrafeeddiff//\")"
   ]
  },
  {
   "cell_type": "code",
   "execution_count": 40,
   "id": "75ff2266-6f41-4a23-8fdd-9485845e22e7",
   "metadata": {},
   "outputs": [
    {
     "name": "stderr",
     "output_type": "stream",
     "text": [
      "                                                                                                                                                                                               \r"
     ]
    }
   ],
   "source": [
    "tmp = tmp.filter(lambda ex: (ex['tokj']<350) and (ex['tok']<350), num_proc=10)"
   ]
  },
  {
   "cell_type": "code",
   "execution_count": 42,
   "id": "503e9828-9b8f-4878-8909-7b41b3c55971",
   "metadata": {},
   "outputs": [],
   "source": [
    "tmp = tmp.shuffle(seed=0)"
   ]
  },
  {
   "cell_type": "code",
   "execution_count": 43,
   "id": "e21adf94-6816-42bd-8c60-40ea3074d48c",
   "metadata": {},
   "outputs": [
    {
     "name": "stderr",
     "output_type": "stream",
     "text": [
      "                                                                                                                                                                                               \r"
     ]
    }
   ],
   "source": [
    "tmp.save_to_disk(\"../../data/ufdiff_short\")"
   ]
  },
  {
   "cell_type": "code",
   "execution_count": 44,
   "id": "f0662980-a91e-4791-8e08-c0ec753dd30d",
   "metadata": {},
   "outputs": [
    {
     "data": {
      "text/plain": [
       "177590"
      ]
     },
     "execution_count": 44,
     "metadata": {},
     "output_type": "execute_result"
    }
   ],
   "source": [
    "to"
   ]
  },
  {
   "cell_type": "code",
   "execution_count": 23,
   "id": "34082ff0-1cd0-4e58-b92e-5fac809e299d",
   "metadata": {},
   "outputs": [],
   "source": [
    "vals = [tmp['newsco_j'][i] - tmp['newsco_k'][i] for i in range(len(tmp['newsco_j']))]"
   ]
  },
  {
   "cell_type": "code",
   "execution_count": 27,
   "id": "051cc8e0-6b4f-47d6-9465-6f43a76932d6",
   "metadata": {},
   "outputs": [
    {
     "data": {
      "text/plain": [
       "0.66"
      ]
     },
     "execution_count": 27,
     "metadata": {},
     "output_type": "execute_result"
    }
   ],
   "source": [
    "mean([v>0 for v in vals])"
   ]
  },
  {
   "cell_type": "code",
   "execution_count": 28,
   "id": "7d638e06-11c0-4abc-a97b-da5e6798c309",
   "metadata": {},
   "outputs": [],
   "source": [
    "dsets = []\n",
    "base = \"../../data/7bdata/\"\n",
    "for i in os.listdir(base): \n",
    "    dsets.append(Dataset.load_from_disk(base+i))"
   ]
  },
  {
   "cell_type": "code",
   "execution_count": 29,
   "id": "6fff6568-8436-40d7-9fdc-c1b415de9502",
   "metadata": {},
   "outputs": [],
   "source": [
    "def add_diff(ex):\n",
    "    ex['diff'] = ex['newsco_j'] - ex['newsco_k']\n",
    "    ex['qlen'] = len(tok(ex['question']).input_ids)\n",
    "    ex['jlen'] = len(tok(ex['response_j']).input_ids)\n",
    "    ex['klen'] = len(tok(ex['response_k']).input_ids)\n",
    "    return ex"
   ]
  },
  {
   "cell_type": "code",
   "execution_count": 30,
   "id": "fc0cc004-bac1-4534-b14f-9a65fe67d02f",
   "metadata": {},
   "outputs": [],
   "source": [
    "alldata = concatenate_datasets(dsets)"
   ]
  },
  {
   "cell_type": "code",
   "execution_count": 31,
   "id": "3169e137-c88f-45b2-b4a8-7ee11218c406",
   "metadata": {},
   "outputs": [
    {
     "name": "stderr",
     "output_type": "stream",
     "text": [
      "Map (num_proc=10):   0%|                                                                                                               | 0/120000 [00:00<?, ? examples/s]Token indices sequence length is longer than the specified maximum sequence length for this model (734 > 512). Running this sequence through the model will result in indexing errors\n",
      "Token indices sequence length is longer than the specified maximum sequence length for this model (565 > 512). Running this sequence through the model will result in indexing errors\n",
      "Token indices sequence length is longer than the specified maximum sequence length for this model (584 > 512). Running this sequence through the model will result in indexing errors\n",
      "Token indices sequence length is longer than the specified maximum sequence length for this model (540 > 512). Running this sequence through the model will result in indexing errors\n",
      "Token indices sequence length is longer than the specified maximum sequence length for this model (830 > 512). Running this sequence through the model will result in indexing errors\n",
      "Token indices sequence length is longer than the specified maximum sequence length for this model (1127 > 512). Running this sequence through the model will result in indexing errors\n",
      "Token indices sequence length is longer than the specified maximum sequence length for this model (756 > 512). Running this sequence through the model will result in indexing errors\n",
      "Token indices sequence length is longer than the specified maximum sequence length for this model (565 > 512). Running this sequence through the model will result in indexing errors\n",
      "Token indices sequence length is longer than the specified maximum sequence length for this model (1279 > 512). Running this sequence through the model will result in indexing errors\n",
      "Token indices sequence length is longer than the specified maximum sequence length for this model (558 > 512). Running this sequence through the model will result in indexing errors\n",
      "                                                                                                                                                                         \r"
     ]
    }
   ],
   "source": [
    "alldata = alldata.map(add_diff, num_proc=10)"
   ]
  },
  {
   "cell_type": "code",
   "execution_count": 32,
   "id": "8c3316bb-d5cd-47a9-822b-79491af9d6bd",
   "metadata": {},
   "outputs": [
    {
     "name": "stderr",
     "output_type": "stream",
     "text": [
      "                                                                                                                                                                         \r"
     ]
    }
   ],
   "source": [
    "alldata = alldata.filter(lambda ex: (ex['qlen']<256) and (ex['jlen']<256) and (ex['klen']<256) )"
   ]
  },
  {
   "cell_type": "code",
   "execution_count": 34,
   "id": "32447b7e-c5e4-47af-99c5-50a4368ebd15",
   "metadata": {},
   "outputs": [
    {
     "data": {
      "text/plain": [
       "68670"
      ]
     },
     "execution_count": 34,
     "metadata": {},
     "output_type": "execute_result"
    }
   ],
   "source": [
    "len(alldata)"
   ]
  },
  {
   "cell_type": "code",
   "execution_count": 7,
   "id": "4623b295-e94d-4d54-8042-07f41c006547",
   "metadata": {},
   "outputs": [
    {
     "name": "stderr",
     "output_type": "stream",
     "text": [
      "                                                                                                                                                                         \r"
     ]
    },
    {
     "data": {
      "text/plain": [
       "0.7425583333333333"
      ]
     },
     "execution_count": 7,
     "metadata": {},
     "output_type": "execute_result"
    }
   ],
   "source": [
    "len(alldata.filter(lambda ex: ex['diff']>0, num_proc=10))/len(alldata)"
   ]
  },
  {
   "cell_type": "code",
   "execution_count": 25,
   "id": "a2024465-8516-44b7-ab67-2dde58c07da1",
   "metadata": {},
   "outputs": [
    {
     "data": {
      "text/plain": [
       "(array([5.3400e+02, 7.4340e+03, 1.8590e+04, 2.6016e+04, 3.3091e+04,\n",
       "        2.3924e+04, 8.3950e+03, 1.8450e+03, 1.6500e+02, 6.0000e+00]),\n",
       " array([-9.5625   , -7.7671875, -5.971875 , -4.1765625, -2.38125  ,\n",
       "        -0.5859375,  1.209375 ,  3.0046875,  4.8      ,  6.5953125,\n",
       "         8.390625 ]),\n",
       " <BarContainer object of 10 artists>)"
      ]
     },
     "execution_count": 25,
     "metadata": {},
     "output_type": "execute_result"
    },
    {
     "data": {
      "image/png": "[encoded data removed]",
      "text/plain": [
       "<Figure size 640x480 with 1 Axes>"
      ]
     },
     "metadata": {},
     "output_type": "display_data"
    }
   ],
   "source": [
    "plt.hist(alldata['newsco_k'])"
   ]
  },
  {
   "cell_type": "code",
   "execution_count": 40,
   "id": "e010565c-e4b3-4043-bbd9-02fbaf03a38f",
   "metadata": {},
   "outputs": [
    {
     "data": {
      "text/plain": [
       "120000"
      ]
     },
     "execution_count": 40,
     "metadata": {},
     "output_type": "execute_result"
    }
   ],
   "source": [
    "len(alldata)"
   ]
  },
  {
   "cell_type": "code",
   "execution_count": 20,
   "id": "f332910a-76b3-4d30-9138-5af2ebc9bca2",
   "metadata": {},
   "outputs": [],
   "source": [
    "def getfrac(dset, exs=1000): \n",
    "    inds = list(range(len(dset)))\n",
    "    sampinds = random.sample(inds, exs)\n",
    "    return dset.select(sampinds)"
   ]
  },
  {
   "cell_type": "code",
   "execution_count": 21,
   "id": "4956326c-11c6-414e-8def-3a372af35ba7",
   "metadata": {},
   "outputs": [],
   "source": [
    "newtmp = getfrac(alldata, 44000)"
   ]
  },
  {
   "cell_type": "code",
   "execution_count": 25,
   "id": "9cdacd1f-c614-48dc-bb4b-e8c456e04a01",
   "metadata": {},
   "outputs": [
    {
     "name": "stderr",
     "output_type": "stream",
     "text": [
      "                                                                                                                                                                         \r"
     ]
    }
   ],
   "source": [
    "newtmp.save_to_disk(\"../../data/ultra44k\")"
   ]
  },
  {
   "cell_type": "code",
   "execution_count": 16,
   "id": "29bf0b1d-f135-4e2b-a31e-74e692e53c53",
   "metadata": {},
   "outputs": [
    {
     "name": "stderr",
     "output_type": "stream",
     "text": [
      "                                                                                                                                                                         \r"
     ]
    }
   ],
   "source": [
    "tmp = alldata.filter(lambda ex: (ex['newsco_j']<0) and (ex['newsco_k']<0))"
   ]
  },
  {
   "cell_type": "code",
   "execution_count": 17,
   "id": "e2c3aa2f-bbc6-4657-9dc8-c6820691de68",
   "metadata": {},
   "outputs": [
    {
     "data": {
      "text/plain": [
       "Dataset({\n",
       "    features: ['question', 'source', 'modj', 'modk', 'tokj', 'tok', 'response_j', 'response_k', 'magnitude', '__index_level_0__', 'newsco_j', 'newsco_k', 'diff', 'qlen', 'jlen', 'klen'],\n",
       "    num_rows: 44403\n",
       "})"
      ]
     },
     "execution_count": 17,
     "metadata": {},
     "output_type": "execute_result"
    }
   ],
   "source": [
    "tmp"
   ]
  },
  {
   "cell_type": "code",
   "execution_count": 18,
   "id": "25bf213c-aee5-4822-9996-3aa542153261",
   "metadata": {},
   "outputs": [
    {
     "name": "stderr",
     "output_type": "stream",
     "text": [
      "                                                                                                                                                                         \r"
     ]
    }
   ],
   "source": [
    "tmp.save_to_disk(\"../../data/ultrarmsmall\")"
   ]
  },
  {
   "cell_type": "code",
   "execution_count": 8,
   "id": "7103bb3f-da46-40b1-80d4-6322ecd02a25",
   "metadata": {},
   "outputs": [
    {
     "data": {
      "text/plain": [
       "SignificanceResult(statistic=0.37847343388994276, pvalue=0.0)"
      ]
     },
     "execution_count": 8,
     "metadata": {},
     "output_type": "execute_result"
    }
   ],
   "source": [
    "spearmanr(alldata['diff'], alldata['magnitude'])"
   ]
  },
  {
   "cell_type": "code",
   "execution_count": 9,
   "id": "6cf49f55-b9f2-475b-b0c5-8e2a4bea888a",
   "metadata": {},
   "outputs": [
    {
     "data": {
      "text/plain": [
       "(array([3.0000e+01, 8.1600e+02, 4.6990e+03, 1.3916e+04, 3.2959e+04,\n",
       "        3.8772e+04, 2.0660e+04, 7.0600e+03, 1.0660e+03, 2.2000e+01]),\n",
       " array([-9.96875   , -8.13515625, -6.3015625 , -4.46796875, -2.634375  ,\n",
       "        -0.80078125,  1.0328125 ,  2.86640625,  4.7       ,  6.53359375,\n",
       "         8.3671875 ]),\n",
       " <BarContainer object of 10 artists>)"
      ]
     },
     "execution_count": 9,
     "metadata": {},
     "output_type": "execute_result"
    },
    {
     "data": {
      "image/png": "[encoded data removed]",
      "text/plain": [
       "<Figure size 640x480 with 1 Axes>"
      ]
     },
     "metadata": {},
     "output_type": "display_data"
    }
   ],
   "source": [
    "plt.hist(alldata['newsco_j'])"
   ]
  }
 ],
 "metadata": {
  "kernelspec": {
   "display_name": "Python 3 (ipykernel)",
   "language": "python",
   "name": "python3"
  },
  "language_info": {
   "codemirror_mode": {
    "name": "ipython",
    "version": 3
   },
   "file_extension": ".py",
   "mimetype": "text/x-python",
   "name": "python",
   "nbconvert_exporter": "python",
   "pygments_lexer": "ipython3",
   "version": "3.10.0"
  }
 },
 "nbformat": 4,
 "nbformat_minor": 5
}
