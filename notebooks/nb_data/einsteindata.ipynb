{
 "cells": [
  {
   "cell_type": "code",
   "execution_count": 1,
   "id": "2df68362-84b9-4e8c-82ad-a8e8367fa5e3",
   "metadata": {},
   "outputs": [
    {
     "name": "stderr",
     "output_type": "stream",
     "text": [
      "/u/prasanns/miniconda3/envs/rlhfenv/lib/python3.10/site-packages/tqdm/auto.py:21: TqdmWarning: IProgress not found. Please update jupyter and ipywidgets. See https://ipywidgets.readthedocs.io/en/stable/user_install.html\n",
      "  from .autonotebook import tqdm as notebook_tqdm\n"
     ]
    }
   ],
   "source": [
    "import pandas as pd\n",
    "import random\n",
    "from datasets import Dataset, concatenate_datasets\n",
    "from tqdm import tqdm\n",
    "import numpy as np\n",
    "import matplotlib.pyplot as plt\n",
    "from transformers import AutoTokenizer, AutoModelForCausalLM\n",
    "from peft import PeftModel\n",
    "import torch"
   ]
  },
  {
   "cell_type": "code",
   "execution_count": 2,
   "id": "c3e823f1-86bb-4a57-a9c9-477d256aaa0d",
   "metadata": {},
   "outputs": [
    {
     "name": "stderr",
     "output_type": "stream",
     "text": [
      "/u/prasanns/miniconda3/envs/rlhfenv/lib/python3.10/site-packages/torch/_utils.py:776: UserWarning: TypedStorage is deprecated. It will be removed in the future and UntypedStorage will be the only storage class. This should only matter to you if you are using storages directly.  To access UntypedStorage directly, use tensor.untyped_storage() instead of tensor.storage()\n",
      "  return self.fget.__get__(instance, owner)()\n"
     ]
    }
   ],
   "source": [
    "tok = AutoTokenizer.from_pretrained(\"facebook/opt-125m\")\n",
    "mod = AutoModelForCausalLM.from_pretrained(\"facebook/opt-125m\", device_map=3, torch_dtype=torch.bfloat16, attn_implementation=\"flash_attention_2\")"
   ]
  },
  {
   "cell_type": "code",
   "execution_count": 3,
   "id": "b082a0b5-07b0-4277-af23-6e1c99a75cb0",
   "metadata": {},
   "outputs": [],
   "source": [
    "mod = PeftModel.from_pretrained(mod, \"../../dpo/dpoeinstein2house/checkpoint-5000/\")"
   ]
  },
  {
   "cell_type": "code",
   "execution_count": 21,
   "id": "88813d28-5b61-438d-96b9-f587cbec2648",
   "metadata": {},
   "outputs": [],
   "source": [
    "dtmp = Dataset.load_from_disk(\"../../data/einstein/einstein2house/\")"
   ]
  },
  {
   "cell_type": "code",
   "execution_count": 5,
   "id": "75967d12-d48d-40fa-aeed-b9581ebfd713",
   "metadata": {},
   "outputs": [],
   "source": [
    "stmp = Dataset.load_from_disk(\"../../data/einstein/einsteinsftinitial/\")"
   ]
  },
  {
   "cell_type": "code",
   "execution_count": 24,
   "id": "7b890249-a0b1-496d-b2a2-67d01ce766f9",
   "metadata": {},
   "outputs": [
    {
     "data": {
      "text/plain": [
       "{'question': 'This is a logic puzzle. There are 2 houses (numbered 1 on the left, 2 on the right), from the perspective of someone standing across the street from them. Each has a different person in them. They have different characteristics:\\n - Each person has a unique name: eric, arnold\\n - Each person has a favorite color: yellow, red\\n\\nRules: The person who loves yellow is Arnold. The person who loves yellow is in the first house.',\n",
       " 'response_j': 'House,Name,Color\\n0,arnold,yellow\\n1,eric,red\\n',\n",
       " 'response_k': 'House,Name,Color\\n0,yellow,eric\\n1,arnold,red\\n',\n",
       " 'score_j': 6.0,\n",
       " 'score_k': 3.0,\n",
       " 'magnitude': 3.0,\n",
       " 'sol_head': ['House', 'Name', 'Color'],\n",
       " 'sol_rows': [['1', 'arnold', 'yellow'], ['2', 'eric', 'red']],\n",
       " 'crules': ['The person who loves yellow is in the first house.',\n",
       "  'The person who loves yellow is Arnold.'],\n",
       " 'ctypes': [\"<class 'clues.found_at'>\", \"<class 'clues.same_house'>\"],\n",
       " 'size': '2*2'}"
      ]
     },
     "execution_count": 24,
     "metadata": {},
     "output_type": "execute_result"
    }
   ],
   "source": [
    "ntmp[0]"
   ]
  },
  {
   "cell_type": "code",
   "execution_count": 26,
   "id": "0d9f9e98-07d1-4cba-afff-67cea08b98f2",
   "metadata": {},
   "outputs": [
    {
     "data": {
      "text/plain": [
       "0"
      ]
     },
     "execution_count": 26,
     "metadata": {},
     "output_type": "execute_result"
    }
   ],
   "source": [
    "\"hi\".count('\\n')"
   ]
  },
  {
   "cell_type": "code",
   "execution_count": 22,
   "id": "b3fb1ab5-ae0f-4347-86cd-3447fbe7ff06",
   "metadata": {},
   "outputs": [
    {
     "data": {
      "text/plain": [
       "{'question': 'This is a logic puzzle. There are 2 houses (numbered 1 on the left, 2 on the right), from the perspective of someone standing across the street from them. Each has a different person in them. They have different characteristics:\\n - Each person has a unique name: eric, arnold\\n - Each person has a favorite color: yellow, red\\n\\nRules: The person who loves yellow is Arnold. The person who loves yellow is in the first house.',\n",
       " 'response_j': 'House,Name,Color\\n0,arnold,yellow\\n1,eric,red\\n',\n",
       " 'response_k': 'House,Name,Color\\n0,yellow,eric\\n1,arnold,red\\n',\n",
       " 'score_j': 6.0,\n",
       " 'score_k': 3.0,\n",
       " 'magnitude': 3.0,\n",
       " 'sol_head': ['House', 'Name', 'Color'],\n",
       " 'sol_rows': [['1', 'arnold', 'yellow'], ['2', 'eric', 'red']],\n",
       " 'crules': ['The person who loves yellow is in the first house.',\n",
       "  'The person who loves yellow is Arnold.'],\n",
       " 'ctypes': [\"<class 'clues.found_at'>\", \"<class 'clues.same_house'>\"],\n",
       " 'size': '2*2'}"
      ]
     },
     "execution_count": 22,
     "metadata": {},
     "output_type": "execute_result"
    }
   ],
   "source": [
    "dtmp[0]"
   ]
  },
  {
   "cell_type": "code",
   "execution_count": 15,
   "id": "09ae2653-4c06-48d3-9818-1df04f5b2a9f",
   "metadata": {},
   "outputs": [
    {
     "name": "stdout",
     "output_type": "stream",
     "text": [
      "[['0', 'a', 'b', 'c', 'd'], ['0', 'e', 'f', 'g', 'h']]\n",
      "[['1', 'a', 'a', 'a', 'a'], ['1', 'e', 'f', 'g', 'h']]\n",
      "8\n"
     ]
    },
    {
     "data": {
      "text/plain": [
       "0.625"
      ]
     },
     "execution_count": 15,
     "metadata": {},
     "output_type": "execute_result"
    }
   ],
   "source": [
    "einstein_reward('Answer: 0,t1,t2,t3,t4\\n0,a,b,c,d\\n0,e,f,g,h', [['1','a','a','a','a'], ['1','e','f','g','h']])"
   ]
  },
  {
   "cell_type": "code",
   "execution_count": 16,
   "id": "fa1cd23d-05a6-4a0b-9e2a-82e8acb50c5b",
   "metadata": {},
   "outputs": [],
   "source": [
    "stmp = Dataset.load_from_disk(\"../../data/einstein/einsteinppoinps2/\")"
   ]
  },
  {
   "cell_type": "code",
   "execution_count": 19,
   "id": "e26dad20-9e6c-46ee-971a-53ad632949b8",
   "metadata": {},
   "outputs": [],
   "source": [
    "ntmp = Dataset.load_from_disk(\"../../data/einstein/einstein2house/\")"
   ]
  },
  {
   "cell_type": "code",
   "execution_count": 20,
   "id": "3bf4d0a5-5d46-48d8-bc09-32691e907519",
   "metadata": {},
   "outputs": [
    {
     "data": {
      "text/plain": [
       "Dataset({\n",
       "    features: ['question', 'response_j', 'response_k', 'score_j', 'score_k', 'magnitude', 'sol_head', 'sol_rows', 'crules', 'ctypes', 'size'],\n",
       "    num_rows: 161044\n",
       "})"
      ]
     },
     "execution_count": 20,
     "metadata": {},
     "output_type": "execute_result"
    }
   ],
   "source": [
    "ntmp"
   ]
  },
  {
   "cell_type": "code",
   "execution_count": null,
   "id": "dedd9b09-2b34-4ebb-9762-dc326e4be9f6",
   "metadata": {},
   "outputs": [],
   "source": [
    "def fixppoinps(ex):\n",
    "    question, anstmp = ex['question'].split(\"\\nAnswer: \\n\")"
   ]
  },
  {
   "cell_type": "code",
   "execution_count": 18,
   "id": "a66469aa-af8b-4c74-9a0c-cd43c3a77380",
   "metadata": {},
   "outputs": [
    {
     "data": {
      "text/plain": [
       "{'question': 'This is a logic puzzle. There are 2 houses (numbered 1 on the left, 2 on the right), from the perspective of someone standing across the street from them. Each has a different person in them. They have different characteristics:\\n - Each person has a unique name: eric, arnold\\n - Each person has a favorite color: yellow, red\\n\\nRules: The person who loves yellow is in the first house. The person who loves yellow is Arnold. \\nAnswer: \\nHouse,Name,Color\\n0,arnold,yellow\\n1,eric,red\\n',\n",
       " 'ind': 0,\n",
       " 'sol_rows': [['1', 'arnold', 'yellow'], ['2', 'eric', 'red']],\n",
       " 'size': '2*2'}"
      ]
     },
     "execution_count": 18,
     "metadata": {},
     "output_type": "execute_result"
    }
   ],
   "source": [
    "stmp[0]"
   ]
  },
  {
   "cell_type": "code",
   "execution_count": 9,
   "id": "cb28ef37-03cd-4639-9be2-2475bf5d7784",
   "metadata": {},
   "outputs": [],
   "source": [
    "def einstein_reward(response, sols, log=True):\n",
    "\n",
    "    # norm = (len(sols)*(len(sols[0])-1)*2)\n",
    "    norm = len(sols)*(len(sols[0])-1)\n",
    "    response = response.split(\"Answer:\")[1].strip()\n",
    "    resps = response.split(\"\\n\")\n",
    "    preds = [s.split(\",\") for s in resps]\n",
    "    mlen = max([len(l) for l in preds]+[len(sols[0])])\n",
    "    for i in range(len(preds)):\n",
    "        if len(preds[i])<mlen:\n",
    "           preds[i] = preds[i] + [\"@#$@%@#$\"]*(mlen-len(preds[i]))\n",
    "    preds = preds[1:]\n",
    "    score = 0\n",
    "\n",
    "    if len(sols)>len(preds): \n",
    "        sols = sols[:len(preds)]\n",
    "    if len(preds)>len(sols): \n",
    "        preds = preds[:len(sols)+1]\n",
    "    \n",
    "    if log:\n",
    "        print(preds)\n",
    "        print(sols)\n",
    "        print(norm)\n",
    "    \n",
    "    preds = np.array(preds)\n",
    "    \n",
    "    for i in range(len(sols)): \n",
    "        for j in range(1, len(sols[0])): \n",
    "            # NOTE simplified reward in case that's doing something weird\n",
    "            if sols[i][j].strip() in preds[i][j].strip():\n",
    "                score = score+1\n",
    "            \n",
    "            # gold = sols[i][j]\n",
    "            # if gold in preds[i, :]: \n",
    "            #     if log:\n",
    "            #         print(gold)\n",
    "            #     score = score + 1\n",
    "            # if gold in preds[:, j]: \n",
    "            #     score = score + 1\n",
    "            #     if log:\n",
    "            #         print(gold)\n",
    "                \n",
    "    score = score / norm\n",
    "    return float(score)"
   ]
  },
  {
   "cell_type": "code",
   "execution_count": 30,
   "id": "d64c781a-5969-4b35-abcc-379a82ebfeb0",
   "metadata": {},
   "outputs": [],
   "source": [
    "def einstein_reward(response, sols, log=True):\n",
    "\n",
    "    norm = (len(sols)*(len(sols[0])-1)*2)\n",
    "    response = response.split(\"Answer:\")[1].strip()\n",
    "    resps = response.split(\"\\n\")\n",
    "    preds = [s.split(\",\") for s in resps]\n",
    "    mlen = max([len(l) for l in preds]+[len(sols[0])])\n",
    "    for i in range(len(preds)):\n",
    "        if len(preds[i])<mlen:\n",
    "           preds[i] = preds[i] + [\"@#$@%@#$\"]*(mlen-len(preds[i]))\n",
    "    preds = preds[1:]\n",
    "    score = 0\n",
    "\n",
    "    if len(sols)>len(preds): \n",
    "        sols = sols[:len(preds)]\n",
    "    if len(preds)>len(sols): \n",
    "        preds = preds[:len(sols)+1]\n",
    "    \n",
    "    if log:\n",
    "        print(preds)\n",
    "        print(sols)\n",
    "        print(norm)\n",
    "    \n",
    "    preds = np.array(preds)\n",
    "    \n",
    "    for i in range(len(sols)): \n",
    "        for j in range(1, len(sols[0])): \n",
    "            gold = sols[i][j]\n",
    "            if gold in preds[i, :]: \n",
    "                if log:\n",
    "                    print(gold)\n",
    "                score = score + 1\n",
    "            if gold in preds[:, j]: \n",
    "                score = score + 1\n",
    "                if log:\n",
    "                    print(gold)\n",
    "                \n",
    "    score = score / norm\n",
    "    return float(score)"
   ]
  },
  {
   "cell_type": "code",
   "execution_count": 34,
   "id": "51238604-eec3-4234-8cda-5c763dd3d486",
   "metadata": {},
   "outputs": [
    {
     "name": "stdout",
     "output_type": "stream",
     "text": [
      "This is a logic puzzle. There are 2 houses (numbered 1 on the left, 2 on the right), from the perspective of someone standing across the street from them. Each has a different person in them. They have different characteristics:\n",
      " - Each person has a unique name: arnold, eric\n",
      " - They all have a different favorite flower: carnations, daffodils\n",
      " - The people are of nationalities: dane, brit\n",
      " - Everyone has a different favorite cigar: pall mall, prince\n",
      "\n",
      "Rules: The Prince smoker is in the second house. The person who loves a carnations arrangement is directly left of Arnold. The person who loves a carnations arrangement is directly left of the Dane. \n",
      "Answer:\n",
      "\n",
      "\"Dewy's, what a joke!\"\n",
      "\n",
      "(the party)\n",
      "\n",
      "(or, if left to be decided by a person in the third house:\n",
      "- The person who loves the flower of the red carnations is in the third house)\n",
      "\n",
      "This was my first time making this. I was not expecting how well it works. Thank you so much! :)\n",
      "[['', '@#$@%@#$', '@#$@%@#$', '@#$@%@#$', '@#$@%@#$'], ['(the party)', '@#$@%@#$', '@#$@%@#$', '@#$@%@#$', '@#$@%@#$'], ['', '@#$@%@#$', '@#$@%@#$', '@#$@%@#$', '@#$@%@#$']]\n",
      "[['1', 'eric', 'carnations', 'brit', 'pall mall'], ['2', 'arnold', 'daffodils', 'dane', 'prince']]\n",
      "16\n"
     ]
    },
    {
     "data": {
      "text/plain": [
       "0.0"
      ]
     },
     "execution_count": 34,
     "metadata": {},
     "output_type": "execute_result"
    }
   ],
   "source": [
    "ind = 0\n",
    "test = stmp[ind]['outputs'].split(\"Answer:\")[0]+\"Answer:\\n\"\n",
    "\n",
    "inpstr = test\n",
    "# print(inpstr)\n",
    "inps = tok(inpstr, return_tensors=\"pt\").to(mod.device)\n",
    "out = mod.generate(**inps, do_sample=True, top_p=1, max_new_tokens=100, min_new_tokens=-1)\n",
    "# print(tok.batch_decode(out, skip_special_tokens=True)[0])\n",
    "out = tok.batch_decode(out, skip_special_tokens=True)[0]\n",
    "print(out)\n",
    "einstein_reward(out, stmp[0]['sol_rows'], True)"
   ]
  },
  {
   "cell_type": "code",
   "execution_count": 123,
   "id": "8d4c3c37-23a5-48cb-9291-23042970b267",
   "metadata": {},
   "outputs": [],
   "source": [
    "data = pd.read_json(\"/u/prasanns/research/rlhf-length-biases/faith-and-fate/logic_grid_puzzles/advanced_data_v2/logic_grid_puzzles.train_xl.json\")"
   ]
  },
  {
   "cell_type": "code",
   "execution_count": 5,
   "id": "86bfd791-ead7-4126-8039-420c8efa3ac0",
   "metadata": {},
   "outputs": [
    {
     "data": {
      "text/plain": [
       "{'table_str': '+---------+--------+---------+\\n|   House | Name   | Color   |\\n+=========+========+=========+\\n|       1 | arnold | yellow  |\\n+---------+--------+---------+\\n|       2 | eric   | red     |\\n+---------+--------+---------+',\n",
       " 'table_rows': [[1, 'arnold', 'yellow'], [2, 'eric', 'red']],\n",
       " 'table_header': ['House', 'Name', 'Color']}"
      ]
     },
     "execution_count": 5,
     "metadata": {},
     "output_type": "execute_result"
    }
   ],
   "source": [
    "data['solution'][0]"
   ]
  },
  {
   "cell_type": "code",
   "execution_count": 54,
   "id": "642b2401-b05b-49a7-a4cb-0b5b0f2ee448",
   "metadata": {},
   "outputs": [],
   "source": [
    "def makeprompt(row, use_extra=False, sftdata=False, nogold=True):\n",
    "    prompt = row['puzzle_context'] + \"Rules: \"\n",
    "    rules = row['core_rules']\n",
    "    if use_extra: \n",
    "         rules = rules + row['extra_rules']\n",
    "    inds = list(range(len(rules)))\n",
    "    random.shuffle(inds)\n",
    "    for i in inds:\n",
    "        prompt = prompt + rules[i] + \" \"\n",
    "    prompt = prompt + \"\\nAnswer:\" \n",
    "    if sftdata: \n",
    "        sols = row['solution']['table_rows']\n",
    "        potvals = []\n",
    "        for r in sols: \n",
    "            for v in r: \n",
    "                if type(v) is str: \n",
    "                    potvals.append(v)\n",
    "        if nogold:\n",
    "            random.shuffle(potvals)\n",
    "        # print(potvals)\n",
    "        pind = 0\n",
    "        solstr = \",\".join(row['solution']['table_header']) + \"\\n\"\n",
    "        # print(len(sols))\n",
    "        for i in range(len(sols)): \n",
    "            solstr = solstr+ str(i) \n",
    "            for l in range(len(sols[0])-1):\n",
    "                solstr =solstr + \",\" + potvals[pind]\n",
    "                pind += 1\n",
    "            solstr = solstr + \"\\n\"\n",
    "        return prompt.strip(), solstr.strip()\n",
    "    return prompt.strip()"
   ]
  },
  {
   "cell_type": "code",
   "execution_count": 47,
   "id": "dd32a050-b9f2-41d5-abc3-99c7735bbb59",
   "metadata": {},
   "outputs": [],
   "source": [
    "def einstein_sft_data(data, per_row=2, prefset=False, addresp=True): \n",
    "    newdata = []\n",
    "    for i, row in tqdm(data.iterrows(), total=len(data)):\n",
    "        tmpdata = []\n",
    "        for ind in range(per_row): \n",
    "            tmp = {}\n",
    "            # for this one we don't need metadata, just outputs I guess? \n",
    "            tmp['outputs'] = makeprompt(row, False, addresp, ind>0)\n",
    "            # print(tmp['outputs'])\n",
    "            tmp['ind'] = i\n",
    "            tmp['sol_rows'] = [[str(s) for s in r] for r in row['solution']['table_rows']]\n",
    "            tmp['size'] = row['size']\n",
    "            if prefset:\n",
    "                tmp['response'] = tmp['outputs'][1]\n",
    "                tmp['input'] = tmp['outputs'][0][:-10]\n",
    "                tmp['sol_head'] = row['solution']['table_header']\n",
    "                tmp['rules'] = row['core_rules']\n",
    "                tmp['rtypes'] = row['core_rules_types']\n",
    "                tmp['outputs'] = tmp['outputs'][0]+\"\\n\"+tmp['outputs'][1]\n",
    "                tmp['reward'] = einstein_reward(tmp)\n",
    "            else: \n",
    "                tmp['outputs'] = tmp['outputs'][0]+\"\\n\"+tmp['outputs'][1]\n",
    "            tmpdata.append(tmp)\n",
    "        if prefset: \n",
    "            odicts = {tmpdata[i]['outputs']:i for i in range(len(tmpdata))}\n",
    "            vals = list(odicts.values())\n",
    "            for i in range(len(vals)):\n",
    "                for j in range(i, len(vals)):\n",
    "                    if tmpdata[i]['reward']>tmpdata[j]['reward']: \n",
    "                        ival = \"j\"\n",
    "                        jval = \"k\"\n",
    "                    elif tmpdata[j]['reward']>tmpdata[i]['reward']: \n",
    "                        ival = \"k\"\n",
    "                        jval = \"j\"\n",
    "                    else:\n",
    "                        continue\n",
    "                    newdata.append({\n",
    "                        'question': tmpdata[i]['input'],\n",
    "                        \"response_\"+ival: tmpdata[i]['response'],\n",
    "                        \"response_\"+jval: tmpdata[j]['response'],\n",
    "                        'score_'+ival:  tmpdata[i]['reward'],\n",
    "                        'score_'+jval:  tmpdata[j]['reward'],\n",
    "                        'magnitude': abs(tmpdata[i]['reward']-tmpdata[j]['reward']),\n",
    "                        'sol_head': tmpdata[i]['sol_head'],\n",
    "                        'sol_rows': tmpdata[i]['sol_rows'], \n",
    "                        # track for later analysis\n",
    "                        'crules': tmpdata[i]['rules'],\n",
    "                        'ctypes': tmpdata[i]['rtypes'],\n",
    "                        'size': row['size']\n",
    "                    })   \n",
    "        else: \n",
    "            newdata.extend(tmpdata)\n",
    "            \n",
    "    return Dataset.from_list(newdata)"
   ]
  },
  {
   "cell_type": "code",
   "execution_count": 50,
   "id": "435aa19d-49ae-466b-8b30-c788e2662a83",
   "metadata": {
    "scrolled": true
   },
   "outputs": [
    {
     "name": "stderr",
     "output_type": "stream",
     "text": [
      "100%|█████████████████████████████████████████████████████████████████████████████████████████████████████████████████████████████████████████████████████████████████████| 90000/90000 [00:06<00:00, 14872.04it/s]\n"
     ]
    }
   ],
   "source": [
    "einsteinsft1 = einstein_sft_data(data, 1, False, True)"
   ]
  },
  {
   "cell_type": "code",
   "execution_count": 51,
   "id": "78ba6d22-a6f5-40ef-84a2-522235f51ab9",
   "metadata": {},
   "outputs": [
    {
     "name": "stderr",
     "output_type": "stream",
     "text": [
      "100%|██████████████████████████████████████████████████████████████████████████████████████████████████████████████████████████████████████████████████████████████████████| 90000/90000 [00:09<00:00, 9218.42it/s]\n"
     ]
    }
   ],
   "source": [
    "es2 = einstein_sft_data(data, 1, False, True)"
   ]
  },
  {
   "cell_type": "code",
   "execution_count": 54,
   "id": "7dc24ae8-0811-447c-9596-74c5bd337454",
   "metadata": {},
   "outputs": [],
   "source": [
    "bigsft = concatenate_datasets([einsteinsft, es2])"
   ]
  },
  {
   "cell_type": "code",
   "execution_count": 56,
   "id": "a7a6d5a9-b2be-4e31-885b-40b9e7f78842",
   "metadata": {},
   "outputs": [
    {
     "name": "stderr",
     "output_type": "stream",
     "text": [
      "                                                                                                                                                                                                                   \r"
     ]
    }
   ],
   "source": [
    "bigsft.save_to_disk(\"../../data/bigsfteinstein\")"
   ]
  },
  {
   "cell_type": "code",
   "execution_count": 49,
   "id": "fdbc1e33-11b5-49c5-b335-892268066e7c",
   "metadata": {},
   "outputs": [
    {
     "data": {
      "text/plain": [
       "8"
      ]
     },
     "execution_count": 49,
     "metadata": {},
     "output_type": "execute_result"
    }
   ],
   "source": [
    "einstein_reward(einsteinsft[0])"
   ]
  },
  {
   "cell_type": "code",
   "execution_count": 27,
   "id": "3caae2f6-5ccc-4edc-a268-9ec1a690a0c7",
   "metadata": {},
   "outputs": [
    {
     "name": "stderr",
     "output_type": "stream",
     "text": [
      "                                                                                                                                                                                                                   \r"
     ]
    }
   ],
   "source": [
    "einsteinsft = einsteinsft.filter(lambda ex: \"2*\" in ex['size'], num_proc=10)"
   ]
  },
  {
   "cell_type": "code",
   "execution_count": 29,
   "id": "6b72b7dc-4bf9-4682-8ea2-eaa5d094f510",
   "metadata": {},
   "outputs": [],
   "source": [
    "einsteinsft = einsteinsft.shuffle()"
   ]
  },
  {
   "cell_type": "code",
   "execution_count": 31,
   "id": "7d1b613e-7720-4c57-833b-3a7e561bf6d3",
   "metadata": {},
   "outputs": [
    {
     "name": "stderr",
     "output_type": "stream",
     "text": [
      "                                                                                                                                                                                                                   \r"
     ]
    }
   ],
   "source": [
    "einsteinsft.select(range(25000, 30000)).save_to_disk(\"../../data/einsteinsftheldout\")"
   ]
  },
  {
   "cell_type": "code",
   "execution_count": 28,
   "id": "2eb0343e-2849-45a9-b73f-d91e7563c82e",
   "metadata": {},
   "outputs": [
    {
     "name": "stderr",
     "output_type": "stream",
     "text": [
      "                                                                                                                                                                                                                   \r"
     ]
    }
   ],
   "source": [
    "einsteinsft.save_to_disk(\"../../data/einsteingoldsft\")"
   ]
  },
  {
   "cell_type": "code",
   "execution_count": 31,
   "id": "f3a01c8f-ca46-4e78-bcc5-5e91d10d8bbf",
   "metadata": {},
   "outputs": [],
   "source": [
    "einsteinsft = einsteinsft.rename_column(\"outputs\", \"question\")"
   ]
  },
  {
   "cell_type": "code",
   "execution_count": 33,
   "id": "66e744d6-7671-46f5-9ab9-0389bc343d28",
   "metadata": {},
   "outputs": [
    {
     "name": "stderr",
     "output_type": "stream",
     "text": [
      "                                                                                                                                                                                                                   \r"
     ]
    }
   ],
   "source": [
    "einsteinsft.save_to_disk(\"../../data/einsteinppoinps2\")"
   ]
  },
  {
   "cell_type": "code",
   "execution_count": 105,
   "id": "8c569dce-f028-4839-af94-9f07f7c715f7",
   "metadata": {},
   "outputs": [
    {
     "data": {
      "text/plain": [
       "(array([175767., 114964.,  64857.,  42120.,  35021.,  30944.,  14075.,\n",
       "         14219.,   7840.,    604.]),\n",
       " array([ 0.5 ,  2.85,  5.2 ,  7.55,  9.9 , 12.25, 14.6 , 16.95, 19.3 ,\n",
       "        21.65, 24.  ]),\n",
       " <BarContainer object of 10 artists>)"
      ]
     },
     "execution_count": 105,
     "metadata": {},
     "output_type": "execute_result"
    },
    {
     "data": {
      "image/png": "[encoded data removed]",
      "text/plain": [
       "<Figure size 640x480 with 1 Axes>"
      ]
     },
     "metadata": {},
     "output_type": "display_data"
    }
   ],
   "source": [
    "plt.hist(einsteinsft['magnitude'])"
   ]
  },
  {
   "cell_type": "code",
   "execution_count": 39,
   "id": "451c4980-95ea-4bcd-922a-038f51c86321",
   "metadata": {},
   "outputs": [
    {
     "name": "stdout",
     "output_type": "stream",
     "text": [
      "['House,Name,PhoneModel,Nationality,Flower', '0,eric,samsung galaxy s21,brit,daffodils', '1,arnold,iphone 13,dane,carnations']\n",
      "[['1', 'eric', 'samsung galaxy s21', 'brit', 'daffodils'], ['2', 'arnold', 'iphone 13', 'dane', 'carnations']]\n"
     ]
    },
    {
     "data": {
      "text/plain": [
       "16"
      ]
     },
     "execution_count": 39,
     "metadata": {},
     "output_type": "execute_result"
    }
   ],
   "source": [
    "einstein_reward(einsteinsft[4], True)"
   ]
  },
  {
   "cell_type": "code",
   "execution_count": 107,
   "id": "44243d97-d531-44b2-898a-9cb4be54c5bc",
   "metadata": {},
   "outputs": [
    {
     "name": "stderr",
     "output_type": "stream",
     "text": [
      "                                                                                                                                                                         \r"
     ]
    }
   ],
   "source": [
    "# einsteinsft.save_to_disk(\"../../data/einsteinpreferences\")\n",
    "smaller = einsteinsft.filter(lambda ex: \"2*\" in ex['size'])"
   ]
  },
  {
   "cell_type": "code",
   "execution_count": 109,
   "id": "948ca823-3617-46d9-bfa6-e7e19f3fb8c6",
   "metadata": {},
   "outputs": [
    {
     "name": "stderr",
     "output_type": "stream",
     "text": [
      "                                                                                                                                                                         \r"
     ]
    }
   ],
   "source": [
    "smaller.save_to_disk(\"../../data/einstein2house\")"
   ]
  },
  {
   "cell_type": "code",
   "execution_count": 83,
   "id": "567ba842-4feb-427e-86c4-f01cbe0c4144",
   "metadata": {},
   "outputs": [
    {
     "name": "stdout",
     "output_type": "stream",
     "text": [
      "House,Name,Color\n",
      "0,red,yellow\n",
      "1,eric,arnold\n",
      "[['1', 'arnold', 'yellow'], ['2', 'eric', 'red']]\n"
     ]
    },
    {
     "data": {
      "text/plain": [
       "3.0"
      ]
     },
     "execution_count": 83,
     "metadata": {},
     "output_type": "execute_result"
    }
   ],
   "source": [
    "# given an output, and other metadata for einstein task, compute a reward \n",
    "# for each value in gold thing, +1 if that value is in the right row, +0.5 if it's in the right column\n",
    "def einstein_reward(row, log=False):\n",
    "    sols = row['sol_rows']\n",
    "    response = row['outputs'].split(\"Answer: \\n\")[1].strip()\n",
    "    resps = response.split(\"\\n\")\n",
    "    if log:\n",
    "        print(response)\n",
    "        print(sols)\n",
    "    preds = np.array([s.split(\",\") for s in resps])[1:, :]\n",
    "    score = 0 \n",
    "    for i in range(len(sols)): \n",
    "        for j in range(1, len(sols[0])): \n",
    "            gold = sols[i][j]\n",
    "            if gold in preds[i, :]: \n",
    "                score = score + 1\n",
    "            if gold in preds[:, j]: \n",
    "                score = score + 0.5\n",
    "    return score\n",
    "\n",
    "einstein_reward(einsteinsft[2], True)"
   ]
  },
  {
   "cell_type": "code",
   "execution_count": 68,
   "id": "2a1fb580-6ffc-4fe8-8ebc-e8f18324615b",
   "metadata": {},
   "outputs": [
    {
     "name": "stdout",
     "output_type": "stream",
     "text": [
      "This is a logic puzzle. There are 2 houses (numbered 1 on the left, 2 on the right), from the perspective of someone standing across the street from them. Each has a different person in them. They have different characteristics:\n",
      " - Each person has a unique name: eric, arnold\n",
      " - Each person has a favorite color: yellow, red\n",
      "\n",
      "Rules: The person who loves yellow is Arnold. The person who loves yellow is in the first house. \n",
      "Answer: \n",
      "House,Name,Color\n",
      "0,yellow,arnold\n",
      "1,eric,red\n",
      "\n"
     ]
    }
   ],
   "source": [
    "print(einsteinsft['outputs'][0])"
   ]
  },
  {
   "cell_type": "code",
   "execution_count": 35,
   "id": "93fa2453-a4fc-4c69-ad53-f78907196d8e",
   "metadata": {},
   "outputs": [],
   "source": [
    "einsteinsft = einsteinsft.shuffle(seed=0)"
   ]
  },
  {
   "cell_type": "code",
   "execution_count": 36,
   "id": "d8edbe54-9deb-4df9-82c8-dc323f053145",
   "metadata": {},
   "outputs": [
    {
     "name": "stderr",
     "output_type": "stream",
     "text": [
      "                                                                                                                                                                         \r"
     ]
    }
   ],
   "source": [
    "einsteinsft.save_to_disk(\"../../data/einsteinsft\")"
   ]
  },
  {
   "cell_type": "code",
   "execution_count": 101,
   "id": "c347f1e1-bd6e-43c9-b716-b1243a8d156b",
   "metadata": {},
   "outputs": [
    {
     "name": "stdout",
     "output_type": "stream",
     "text": [
      "['bella', 'pall mall', 'arnold', 'fred', 'eric', 'prince']\n",
      "2\n",
      "This is a logic puzzle. There are 2 houses (numbered 1 on the left, 2 on the right), from the perspective of someone standing across the street from them. Each has a different person in them. They have different characteristics:\n",
      " - Each person has a unique name: eric, arnold\n",
      " - Each mother is accompanied by their child: bella, fred\n",
      " - Everyone has a different favorite cigar: pall mall, prince\n",
      "\n",
      "Rules: The person's child is named Bella is in the second house. Eric is the person partial to Pall Mall. Eric is the person's child is named Fred. \n",
      "Answer: \n",
      "House,Name,Children,Cigar\n",
      "0,bella,pall mall,arnold\n",
      "1,fred,eric,prince\n",
      "\n"
     ]
    }
   ],
   "source": [
    "newout = makeprompt(data.loc[10001], False, True)\n",
    "print(newout[0])\n",
    "print(newout[1])"
   ]
  },
  {
   "cell_type": "code",
   "execution_count": 17,
   "id": "0a0207b9-32ad-4530-8726-b7c234d59777",
   "metadata": {},
   "outputs": [
    {
     "name": "stdout",
     "output_type": "stream",
     "text": [
      "This is a logic puzzle. There are 2 houses (numbered 1 on the left, 2 on the right), from the perspective of someone standing across the street from them. Each has a different person in them. They have different characteristics:\n",
      " - Each person has a unique name: eric, arnold\n",
      " - Each person has a favorite color: yellow, red\n",
      "\n",
      "\n",
      "['The person who loves yellow is in the first house.', 'The person who loves yellow is Arnold.']\n",
      "['The person who loves yellow is directly left of Eric.', 'Arnold is the person who loves yellow.', 'Eric is the person whose favorite color is red.', 'Arnold and the person whose favorite color is red are next to each other.', 'Eric is in the second house.', 'The person whose favorite color is red is Eric.', 'Arnold is in the first house.', 'Arnold is directly left of Eric.', 'The person who loves yellow and the person whose favorite color is red are next to each other.', 'The person whose favorite color is red is in the second house.']\n"
     ]
    }
   ],
   "source": [
    "print(vals['puzzle_context'])\n",
    "print(vals['core_rules'])\n",
    "print(vals['extra_rules'])"
   ]
  },
  {
   "cell_type": "code",
   "execution_count": null,
   "id": "05a7476a-670e-4446-9d91-fcb194fac77c",
   "metadata": {},
   "outputs": [],
   "source": []
  }
 ],
 "metadata": {
  "kernelspec": {
   "display_name": "Python 3 (ipykernel)",
   "language": "python",
   "name": "python3"
  },
  "language_info": {
   "codemirror_mode": {
    "name": "ipython",
    "version": 3
   },
   "file_extension": ".py",
   "mimetype": "text/x-python",
   "name": "python",
   "nbconvert_exporter": "python",
   "pygments_lexer": "ipython3",
   "version": "3.10.0"
  }
 },
 "nbformat": 4,
 "nbformat_minor": 5
}
