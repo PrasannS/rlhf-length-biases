{
 "cells": [
  {
   "cell_type": "code",
   "execution_count": 103,
   "id": "60a8d8da-4cf2-431c-8505-3600bc7757c1",
   "metadata": {},
   "outputs": [],
   "source": [
    "import pandas as pd\n",
    "from statistics import mean, stdev\n",
    "import matplotlib.pyplot as plt\n",
    "from os import listdir\n",
    "from rlhfutils.eval_utils import scofile\n",
    "from scipy.stats import pearsonr, spearmanr\n",
    "import numpy as np\n",
    "from datasets import Dataset"
   ]
  },
  {
   "cell_type": "code",
   "execution_count": 104,
   "id": "84e73011-424a-4f7b-90e2-7732ca269424",
   "metadata": {},
   "outputs": [
    {
     "name": "stdout",
     "output_type": "stream",
     "text": [
      "The autoreload extension is already loaded. To reload it, use:\n",
      "  %reload_ext autoreload\n"
     ]
    }
   ],
   "source": [
    "%load_ext autoreload\n",
    "%autoreload 2"
   ]
  },
  {
   "cell_type": "code",
   "execution_count": 40,
   "id": "fb56546a-d0f9-4d60-9aa2-0867ff94c8d0",
   "metadata": {},
   "outputs": [
    {
     "data": {
      "text/html": [
       "<div>\n",
       "<style scoped>\n",
       "    .dataframe tbody tr th:only-of-type {\n",
       "        vertical-align: middle;\n",
       "    }\n",
       "\n",
       "    .dataframe tbody tr th {\n",
       "        vertical-align: top;\n",
       "    }\n",
       "\n",
       "    .dataframe thead th {\n",
       "        text-align: right;\n",
       "    }\n",
       "</style>\n",
       "<table border=\"1\" class=\"dataframe\">\n",
       "  <thead>\n",
       "    <tr style=\"text-align: right;\">\n",
       "      <th></th>\n",
       "      <th>question</th>\n",
       "      <th>response</th>\n",
       "      <th>answers</th>\n",
       "      <th>atoks</th>\n",
       "      <th>ttoks</th>\n",
       "      <th>scores</th>\n",
       "      <th>gold</th>\n",
       "    </tr>\n",
       "  </thead>\n",
       "  <tbody>\n",
       "    <tr>\n",
       "      <th>0</th>\n",
       "      <td>Below is an instruction that describes a task....</td>\n",
       "      <td>[Question: can you make the following recipe v...</td>\n",
       "      <td>[ If you would like this information, please c...</td>\n",
       "      <td>[50, 49, 50, 20]</td>\n",
       "      <td>[476, 475, 476, 446]</td>\n",
       "      <td>[10.625, 9.9921875, 12.3359375, -6.44140625]</td>\n",
       "      <td>[2, 3, 4, 1]</td>\n",
       "    </tr>\n",
       "    <tr>\n",
       "      <th>1</th>\n",
       "      <td>Below is an instruction that describes a task....</td>\n",
       "      <td>[Question: Detailed Instructions: In this task...</td>\n",
       "      <td>[ I would like to thank you for your time and ...</td>\n",
       "      <td>[50, 50, 50, 50]</td>\n",
       "      <td>[204, 204, 204, 204]</td>\n",
       "      <td>[11.0234375, 10.1015625, 3.7109375, 8.2578125]</td>\n",
       "      <td>[3, 4, 2, 2]</td>\n",
       "    </tr>\n",
       "    <tr>\n",
       "      <th>2</th>\n",
       "      <td>Below is an instruction that describes a task....</td>\n",
       "      <td>[Question: hi, iam going to provide you with a...</td>\n",
       "      <td>[ We are a small company trying to bring our s...</td>\n",
       "      <td>[50, 50, 50, 50]</td>\n",
       "      <td>[131, 131, 131, 131]</td>\n",
       "      <td>[-3.951171875, 2.888671875, 10.984375, 6.734375]</td>\n",
       "      <td>[1, 3, 4, 2]</td>\n",
       "    </tr>\n",
       "    <tr>\n",
       "      <th>3</th>\n",
       "      <td>Below is an instruction that describes a task....</td>\n",
       "      <td>[Question: How would I connect AI or ML API’s ...</td>\n",
       "      <td>[ If you have any queries about our data and d...</td>\n",
       "      <td>[50, 50, 50, 50]</td>\n",
       "      <td>[97, 97, 97, 97]</td>\n",
       "      <td>[6.48046875, -0.802734375, 5.47265625, 13.484375]</td>\n",
       "      <td>[3, 2, 3, 6]</td>\n",
       "    </tr>\n",
       "    <tr>\n",
       "      <th>4</th>\n",
       "      <td>Below is an instruction that describes a task....</td>\n",
       "      <td>[Question: 아래 책 내용 요약해줘 \\n- 제목 : Don't Make Me...</td>\n",
       "      <td>[ If you want to use this method, you need to ...</td>\n",
       "      <td>[50, 49, 50, 47]</td>\n",
       "      <td>[119, 118, 119, 116]</td>\n",
       "      <td>[10.59375, 11.140625, 2.578125, 4.0]</td>\n",
       "      <td>[5, 5, 2, 3]</td>\n",
       "    </tr>\n",
       "    <tr>\n",
       "      <th>...</th>\n",
       "      <td>...</td>\n",
       "      <td>...</td>\n",
       "      <td>...</td>\n",
       "      <td>...</td>\n",
       "      <td>...</td>\n",
       "      <td>...</td>\n",
       "      <td>...</td>\n",
       "    </tr>\n",
       "    <tr>\n",
       "      <th>95</th>\n",
       "      <td>Below is an instruction that describes a task....</td>\n",
       "      <td>[Question: Is rubbish the most fragrant plant?...</td>\n",
       "      <td>[ I would like to discuss with you why this sh...</td>\n",
       "      <td>[50, 50, 50, 50]</td>\n",
       "      <td>[64, 64, 64, 64]</td>\n",
       "      <td>[-0.1218261719, 12.203125, 2.23828125, 4.4609375]</td>\n",
       "      <td>[2, 5, 3, 3]</td>\n",
       "    </tr>\n",
       "    <tr>\n",
       "      <th>96</th>\n",
       "      <td>Below is an instruction that describes a task....</td>\n",
       "      <td>[Question: i want you act as my python tutor a...</td>\n",
       "      <td>[ You must complete two of your following task...</td>\n",
       "      <td>[50, 50, 49, 50]</td>\n",
       "      <td>[68, 68, 67, 68]</td>\n",
       "      <td>[6.69140625, 1.3828125, 2.234375, 1.525390625]</td>\n",
       "      <td>[4, 3, 2, 2]</td>\n",
       "    </tr>\n",
       "    <tr>\n",
       "      <th>97</th>\n",
       "      <td>Below is an instruction that describes a task....</td>\n",
       "      <td>[Question: TASK DEFINITION: Given a sentence i...</td>\n",
       "      <td>[ If you have any questions regarding this com...</td>\n",
       "      <td>[50, 50, 50, 50]</td>\n",
       "      <td>[401, 401, 401, 401]</td>\n",
       "      <td>[9.4453125, 6.74609375, 2.66015625, 9.8046875]</td>\n",
       "      <td>[4, 2, 1, 3]</td>\n",
       "    </tr>\n",
       "    <tr>\n",
       "      <th>98</th>\n",
       "      <td>Below is an instruction that describes a task....</td>\n",
       "      <td>[Question: Instructions: In this task, you are...</td>\n",
       "      <td>[ If you have no information about how we migh...</td>\n",
       "      <td>[50, 50, 50, 50]</td>\n",
       "      <td>[129, 129, 129, 129]</td>\n",
       "      <td>[13.03125, 13.546875, 14.125, 8.875]</td>\n",
       "      <td>[5, 4, 7, 4]</td>\n",
       "    </tr>\n",
       "    <tr>\n",
       "      <th>99</th>\n",
       "      <td>Below is an instruction that describes a task....</td>\n",
       "      <td>[Question: Foorman, B., Petscher, Y., &amp; Herrer...</td>\n",
       "      <td>[ If you are interested in participating, plea...</td>\n",
       "      <td>[50, 50, 50, 50]</td>\n",
       "      <td>[740, 740, 740, 740]</td>\n",
       "      <td>[9.5234375, 11.3984375, 10.765625, 10.09375]</td>\n",
       "      <td>[1, 3, 1, 2]</td>\n",
       "    </tr>\n",
       "  </tbody>\n",
       "</table>\n",
       "<p>100 rows × 7 columns</p>\n",
       "</div>"
      ],
      "text/plain": [
       "                                             question  \\\n",
       "0   Below is an instruction that describes a task....   \n",
       "1   Below is an instruction that describes a task....   \n",
       "2   Below is an instruction that describes a task....   \n",
       "3   Below is an instruction that describes a task....   \n",
       "4   Below is an instruction that describes a task....   \n",
       "..                                                ...   \n",
       "95  Below is an instruction that describes a task....   \n",
       "96  Below is an instruction that describes a task....   \n",
       "97  Below is an instruction that describes a task....   \n",
       "98  Below is an instruction that describes a task....   \n",
       "99  Below is an instruction that describes a task....   \n",
       "\n",
       "                                             response  \\\n",
       "0   [Question: can you make the following recipe v...   \n",
       "1   [Question: Detailed Instructions: In this task...   \n",
       "2   [Question: hi, iam going to provide you with a...   \n",
       "3   [Question: How would I connect AI or ML API’s ...   \n",
       "4   [Question: 아래 책 내용 요약해줘 \\n- 제목 : Don't Make Me...   \n",
       "..                                                ...   \n",
       "95  [Question: Is rubbish the most fragrant plant?...   \n",
       "96  [Question: i want you act as my python tutor a...   \n",
       "97  [Question: TASK DEFINITION: Given a sentence i...   \n",
       "98  [Question: Instructions: In this task, you are...   \n",
       "99  [Question: Foorman, B., Petscher, Y., & Herrer...   \n",
       "\n",
       "                                              answers             atoks  \\\n",
       "0   [ If you would like this information, please c...  [50, 49, 50, 20]   \n",
       "1   [ I would like to thank you for your time and ...  [50, 50, 50, 50]   \n",
       "2   [ We are a small company trying to bring our s...  [50, 50, 50, 50]   \n",
       "3   [ If you have any queries about our data and d...  [50, 50, 50, 50]   \n",
       "4   [ If you want to use this method, you need to ...  [50, 49, 50, 47]   \n",
       "..                                                ...               ...   \n",
       "95  [ I would like to discuss with you why this sh...  [50, 50, 50, 50]   \n",
       "96  [ You must complete two of your following task...  [50, 50, 49, 50]   \n",
       "97  [ If you have any questions regarding this com...  [50, 50, 50, 50]   \n",
       "98  [ If you have no information about how we migh...  [50, 50, 50, 50]   \n",
       "99  [ If you are interested in participating, plea...  [50, 50, 50, 50]   \n",
       "\n",
       "                   ttoks                                             scores  \\\n",
       "0   [476, 475, 476, 446]       [10.625, 9.9921875, 12.3359375, -6.44140625]   \n",
       "1   [204, 204, 204, 204]     [11.0234375, 10.1015625, 3.7109375, 8.2578125]   \n",
       "2   [131, 131, 131, 131]   [-3.951171875, 2.888671875, 10.984375, 6.734375]   \n",
       "3       [97, 97, 97, 97]  [6.48046875, -0.802734375, 5.47265625, 13.484375]   \n",
       "4   [119, 118, 119, 116]               [10.59375, 11.140625, 2.578125, 4.0]   \n",
       "..                   ...                                                ...   \n",
       "95      [64, 64, 64, 64]  [-0.1218261719, 12.203125, 2.23828125, 4.4609375]   \n",
       "96      [68, 68, 67, 68]     [6.69140625, 1.3828125, 2.234375, 1.525390625]   \n",
       "97  [401, 401, 401, 401]     [9.4453125, 6.74609375, 2.66015625, 9.8046875]   \n",
       "98  [129, 129, 129, 129]               [13.03125, 13.546875, 14.125, 8.875]   \n",
       "99  [740, 740, 740, 740]       [9.5234375, 11.3984375, 10.765625, 10.09375]   \n",
       "\n",
       "            gold  \n",
       "0   [2, 3, 4, 1]  \n",
       "1   [3, 4, 2, 2]  \n",
       "2   [1, 3, 4, 2]  \n",
       "3   [3, 2, 3, 6]  \n",
       "4   [5, 5, 2, 3]  \n",
       "..           ...  \n",
       "95  [2, 5, 3, 3]  \n",
       "96  [4, 3, 2, 2]  \n",
       "97  [4, 2, 1, 3]  \n",
       "98  [5, 4, 7, 4]  \n",
       "99  [1, 3, 1, 2]  \n",
       "\n",
       "[100 rows x 7 columns]"
      ]
     },
     "execution_count": 40,
     "metadata": {},
     "output_type": "execute_result"
    }
   ],
   "source": [
    "alldfs['dpobow25_rm80']"
   ]
  },
  {
   "cell_type": "code",
   "execution_count": 8,
   "id": "9e24f656-e804-4587-bac9-7fa00785c01c",
   "metadata": {},
   "outputs": [],
   "source": [
    "# TODO assert that the lengths work in the right way (limited to 50), otherwise these comparisons aren't useful anymore\n",
    "# maybe also get a case for 25 to get stuff closer to the interesting range of what the RM can learn"
   ]
  },
  {
   "cell_type": "code",
   "execution_count": 105,
   "id": "bcb2af15-9d4d-4a07-9a13-4623f7adf471",
   "metadata": {},
   "outputs": [],
   "source": [
    "def diffplot(scos, golds):\n",
    "    sdiffs = []\n",
    "    gdiffs = []\n",
    "    for i in range(len(scos)):\n",
    "        for j in range(i+1,len(scos)):\n",
    "            if golds[i]>golds[j]:\n",
    "                sdiffs.append(scos[i]-scos[j])\n",
    "                gdiffs.append(golds[i]-golds[j])\n",
    "            else:\n",
    "                sdiffs.append(scos[j]-scos[i])\n",
    "                gdiffs.append(golds[j]-golds[i])\n",
    "    return sdiffs, gdiffs\n",
    "\n",
    "# given alldfs, and a list of keys to merge, we're going to get n choose 2 pairs of indices, x will be score diff, y will be gold diff, then we'll measure the correlation (within each context)\n",
    "def checkdistcorrs(adfs, selkeys, cfunct=pearsonr):\n",
    "    # first merge all the scores across the adf keys (more diversity in scoring)\n",
    "    scos = list(adfs[selkeys[0]]['scores'])\n",
    "    golds = list(adfs[selkeys[0]]['gold'])\n",
    "    for i in range(1, len(selkeys)):\n",
    "        for j in range(len(scos)):\n",
    "            scos[j] = scos[j]+adfs[selkeys[i]]['scores'].loc[j]\n",
    "            #print(adfs[selkeys[i]]['scores'].loc[j])\n",
    "            golds[j] = golds[j] + adfs[selkeys[i]]['gold'].loc[j]\n",
    "    print(scos[0])\n",
    "    sps = []\n",
    "    gps = []\n",
    "    corrs = []\n",
    "    pvals = []\n",
    "    # get the combination-based diff plots for all of these, then return that\n",
    "    for i in range(len(scos)):\n",
    "        sp, gp = diffplot(scos[i], golds[i])\n",
    "        sps.append(sp)\n",
    "        gps.append(gp)\n",
    "        corrs.append(cfunct(gp, sp).statistic)\n",
    "        pvals.append(cfunct(gp, sp).pvalue)\n",
    "    print(np.nanmean(corrs))\n",
    "    plt.hist(corrs)\n",
    "    plt.scatter(corrs, pvals)\n",
    "    return sps, gps\n",
    "\n",
    "# for different gold values, what's the mean variance of RM scores for those\n",
    "def unvar(slist, glist):\n",
    "    uns = set(glist)\n",
    "    gdict = {}\n",
    "    for i in range(len(slist)): \n",
    "        gval = glist[i]\n",
    "        if gval not in gdict.keys(): \n",
    "            gdict[gval] = []\n",
    "        gdict[gval].append(slist[i])\n",
    "    vdict = {g:(len(gdict[g]), stdev(gdict[g]) if len(gdict[g])>1 else 0) for g in gdict.keys()}\n",
    "    mdict = {g:mean(gdict[g]) for g in gdict.keys()}\n",
    "    return vdict, mdict\n",
    "\n",
    "# forget about inputs, compute some info about the relationship between arbitrary pairs\n",
    "def agginfo(adfs, selkeys):\n",
    "    # first merge all the scores across the adf keys (more diversity in scoring)\n",
    "    scos = list(adfs[selkeys[0]]['scores'])\n",
    "    golds = list(adfs[selkeys[0]]['gold'])\n",
    "    for i in range(1, len(selkeys)):\n",
    "        for j in range(len(scos)):\n",
    "            scos[j] = scos[j]+adfs[selkeys[i]]['scores'].loc[j]\n",
    "            #print(adfs[selkeys[i]]['scores'].loc[j])\n",
    "            golds[j] = golds[j] + adfs[selkeys[i]]['gold'].loc[j]\n",
    "    ascos = []\n",
    "    agolds = []\n",
    "    for i in range(len(scos)):\n",
    "        ascos.extend(scos[i])\n",
    "        agolds.extend(golds[i])\n",
    "    vard, md = unvar(ascos, agolds)\n",
    "    print(vard)\n",
    "    plt.errorbar(md.keys(), [md[k] for k in md.keys()], yerr=[vard[k][1] for k in vard.keys()], fmt='o')"
   ]
  },
  {
   "cell_type": "code",
   "execution_count": 8,
   "id": "bc3677da-1c42-4739-8050-3bf9d5271d08",
   "metadata": {},
   "outputs": [
    {
     "name": "stdout",
     "output_type": "stream",
     "text": [
      "{11: (198, 3.491938673135265), 12: (95, 3.204619383361486), 10: (69, 3.808982699890818), 14: (2, 1.2374368670764582), 13: (17, 3.5173192149321846), 9: (13, 3.7090553541339264), 8: (2, 2.9278640158505485), 0: (4, 3.3476372580655362)}\n"
     ]
    },
    {
     "data": {
      "image/png": "[encoded data removed]",
      "text/plain": [
       "<Figure size 640x480 with 1 Axes>"
      ]
     },
     "metadata": {},
     "output_type": "display_data"
    }
   ],
   "source": [
    "agginfo(alldfs, [\"dpobow100_brms25\"])"
   ]
  },
  {
   "cell_type": "code",
   "execution_count": 13,
   "id": "47e81b42-2846-4c2f-84f6-15535ae9149b",
   "metadata": {},
   "outputs": [
    {
     "data": {
      "text/plain": [
       "[14.546875, 14.5546875, 14.4140625, 14.3671875]"
      ]
     },
     "execution_count": 13,
     "metadata": {},
     "output_type": "execute_result"
    }
   ],
   "source": [
    "alldfs[\"dpobow50_rm50\"]['scores'][1]"
   ]
  },
  {
   "cell_type": "code",
   "execution_count": 116,
   "id": "0c8e6701-edfd-4b97-86a5-44fbc495fc41",
   "metadata": {
    "scrolled": true
   },
   "outputs": [
    {
     "name": "stdout",
     "output_type": "stream",
     "text": [
      "tokenpredbow25_rm6000\n",
      "[2.5, 2.75, 2.5, 3.5, 3.75, 2.5, 5.75, 4, 3.5, 2.5, 3.5, 3.25, 2.5, 3.25, 4, 2.5, 3.25, 2.25, 4.5, 3.75, 4, 2.5, 2, 3.5, 2.75, 3.25, 3.75, 3.75, 3.5, 2.75, 2.25, 3.5, 4, 2.5, 2.5, 4.25, 2, 3.25, 3, 3.25, 3, 3.5, 3.75, 2.5, 3.75, 5, 4, 4, 3.75, 2.5, 2.25, 4, 3.5, 3.5, 1.5, 2.75, 3.25, 4.25, 3.5, 3.25, 4, 3.25, 4, 4, 0, 4, 4.75, 2.75, 2.5, 3.25, 3.75, 3, 4.25, 2.75, 1.75, 3.75, 2, 5, 3.25, 3.25, 4.25, 3, 4.5, 3.25, 4.25, 3, 1.75, 3.25, 1.75, 2.75, 3.75, 3, 4, 2, 3.5, 3.25, 2.75, 2.5, 5, 1.75]\n",
      "3.2425\n",
      "tokenpredbow50_rm6000\n",
      "[6.5, 5.75, 4.5, 8.5, 5, 5.75, 4.25, 4.25, 4.75, 5, 5.5, 6, 6, 6, 5.5, 5.5, 4.5, 6.25, 6.5, 5.25, 5.25, 5.5, 5, 5, 5, 4.75, 7, 5.5, 5.75, 6.25, 4.5, 4.5, 5.75, 5.25, 5.75, 5, 5.25, 5.75, 5.75, 5.75, 4, 6.25, 7, 4.5, 5.25, 5.75, 6.25, 5.5, 6.25, 4.75, 6, 4.75, 6.25, 6.5, 4.25, 5, 4.25, 6.5, 5.5, 5, 6.5, 4.75, 7.25, 5.75, 0, 6.25, 6.25, 5.25, 7, 4, 5, 6, 5, 5.75, 5.5, 5.5, 5.5, 4, 5.5, 5.75, 4.75, 5.5, 6, 5, 5.25, 6.5, 3.75, 6, 3.75, 6.5, 6.25, 5.25, 5.5, 5, 4.75, 5, 6, 4.75, 5, 4.5]\n",
      "5.405\n",
      "tokenpredbow100_rm6000\n",
      "[11, 10.75, 11.75, 11.75, 11.75, 10.5, 11, 11.5, 11.5, 11, 11.25, 11, 11, 11.75, 11.75, 10.75, 12, 11.25, 11.5, 11.5, 10.5, 11.5, 10.75, 9.25, 11.25, 11.5, 11.25, 11.25, 10.5, 11.25, 10.5, 10.75, 10.5, 11, 11, 10.5, 10, 11, 11.75, 11.25, 10, 10.75, 11.5, 10.25, 10.5, 11.5, 10.5, 11.25, 10.75, 11.75, 11.5, 11, 11, 11.5, 11.25, 10.25, 10.75, 11, 11.75, 10.5, 9.75, 10.75, 12, 11, 0, 11.25, 11.25, 11.5, 11.25, 10.75, 10.75, 11.5, 11.5, 10.5, 11.25, 11.75, 11.5, 11.75, 10.75, 11.5, 12, 10.5, 11, 11.25, 11.5, 11.25, 10.75, 11.25, 11, 11.5, 11, 10.25, 11.75, 10.5, 11.25, 11.25, 11.25, 11.75, 11.5, 10]\n",
      "10.975\n",
      "tokenpredbow200_rm6000\n",
      "[16, 15.25, 15.5, 15.5, 15.75, 15.75, 16, 15.75, 15.25, 15.75, 16, 16.25, 16, 16, 15.5, 15.25, 16, 16, 15.75, 16, 15.75, 15.75, 15.5, 13.75, 16, 15.75, 15.5, 15.75, 16, 16, 16, 16, 15.75, 15.75, 16, 15, 16, 16, 16, 15.75, 15.5, 16, 16, 15.75, 15.25, 16, 16, 16.25, 15.5, 16, 16, 15.75, 16, 15.75, 15.75, 15.75, 15.25, 15.75, 16.25, 15, 15.25, 15.75, 16, 16, 0, 16, 15.5, 16.25, 15.25, 16, 15.5, 16, 16, 16, 15.5, 14.75, 16, 16, 16, 16, 16, 16, 16.25, 16, 16, 16, 15.5, 15.5, 15.5, 15.75, 15.75, 15, 16, 15.5, 15.25, 16, 16, 15.25, 16, 15.25]\n",
      "15.59\n"
     ]
    }
   ],
   "source": [
    "# Check how well-calibrated RMs are over here\n",
    "BASE = \"../../outputs/calibscos/\"\n",
    "filt = \"token\"\n",
    "funct = \"bagofwords\"\n",
    "scodirs = listdir(BASE)\n",
    "alldfs = {}\n",
    "# go through and load everything in \n",
    "for s in scodirs:\n",
    "    if filt in s:\n",
    "        alldfs[s] = pd.read_json(BASE+s, lines=True, orient='records')\n",
    "        # TODO add on the synthetic scoring piece\n",
    "        print(s)\n",
    "        alldfs[s]['gold'] = scofile(BASE+s, funct, True)"
   ]
  },
  {
   "cell_type": "code",
   "execution_count": 117,
   "id": "09f90be2-f0a7-4b24-80a3-697f39ec57bc",
   "metadata": {},
   "outputs": [
    {
     "data": {
      "text/plain": [
       "dict_keys(['tokenpredbow25_rm6000', 'tokenpredbow50_rm6000', 'tokenpredbow100_rm6000', 'tokenpredbow200_rm6000'])"
      ]
     },
     "execution_count": 117,
     "metadata": {},
     "output_type": "execute_result"
    }
   ],
   "source": [
    "alldfs.keys()"
   ]
  },
  {
   "cell_type": "code",
   "execution_count": 118,
   "id": "80cf749a-ea3a-4cf1-b2e3-39f69f05e5ec",
   "metadata": {},
   "outputs": [
    {
     "name": "stdout",
     "output_type": "stream",
     "text": [
      "[51.25, 51.5, 52.5, 51.5]\n",
      "0.0010661646844261222\n"
     ]
    },
    {
     "name": "stderr",
     "output_type": "stream",
     "text": [
      "/u/prasanns/miniconda3/envs/rlhfenv/lib/python3.10/site-packages/scipy/stats/_stats_py.py:4781: ConstantInputWarning: An input array is constant; the correlation coefficient is not defined.\n",
      "  warnings.warn(stats.ConstantInputWarning(msg))\n"
     ]
    },
    {
     "data": {
      "image/png": "[encoded data removed]",
      "text/plain": [
       "<Figure size 640x480 with 1 Axes>"
      ]
     },
     "metadata": {},
     "output_type": "display_data"
    }
   ],
   "source": [
    "spvals, gpvals = checkdistcorrs(alldfs, [\"tokenpredbow200_rm6000\"])"
   ]
  },
  {
   "cell_type": "code",
   "execution_count": 77,
   "id": "da6b379c-d583-4e80-8694-ff1a879a4b32",
   "metadata": {},
   "outputs": [],
   "source": [
    "tmp = Dataset.load_from_disk(\"../../data/fixedreversebowdpo/\")"
   ]
  },
  {
   "cell_type": "code",
   "execution_count": 78,
   "id": "e9184e49-3b78-4a18-9a82-03a590f2669b",
   "metadata": {},
   "outputs": [],
   "source": [
    "tmp = pd.DataFrame(tmp)"
   ]
  },
  {
   "cell_type": "code",
   "execution_count": 79,
   "id": "54d90cad-5a3c-41d6-9caa-e6a2f022734f",
   "metadata": {},
   "outputs": [
    {
     "data": {
      "text/plain": [
       "1.0"
      ]
     },
     "execution_count": 79,
     "metadata": {},
     "output_type": "execute_result"
    }
   ],
   "source": [
    "tmp.score_j.quantile(0.95)"
   ]
  },
  {
   "cell_type": "code",
   "execution_count": 83,
   "id": "1d82b40d-6a23-4c09-aa34-86552b1d762c",
   "metadata": {},
   "outputs": [
    {
     "data": {
      "text/plain": [
       "3.0"
      ]
     },
     "execution_count": 83,
     "metadata": {},
     "output_type": "execute_result"
    }
   ],
   "source": [
    "max(tmp['score_j'])"
   ]
  },
  {
   "cell_type": "code",
   "execution_count": 40,
   "id": "0d6565fa-883f-487f-a78c-264ea2c61ebb",
   "metadata": {},
   "outputs": [
    {
     "data": {
      "text/plain": [
       "PearsonRResult(statistic=0.003938436759617613, pvalue=0.9233054996812565)"
      ]
     },
     "execution_count": 40,
     "metadata": {},
     "output_type": "execute_result"
    },
    {
     "data": {
      "image/png": "[encoded data removed]",
      "text/plain": [
       "<Figure size 640x480 with 1 Axes>"
      ]
     },
     "metadata": {},
     "output_type": "display_data"
    }
   ],
   "source": [
    "spv = []\n",
    "gpv = []\n",
    "for i in range(len(gpvals)):\n",
    "    spv.extend(spvals[i])\n",
    "    gpv.extend(gpvals[i])\n",
    "plt.scatter(gpv, spv)\n",
    "pearsonr(gpv, spv)"
   ]
  },
  {
   "cell_type": "code",
   "execution_count": 32,
   "id": "58e0fea6-4fdd-4981-b4fe-30986f425c9a",
   "metadata": {},
   "outputs": [
    {
     "data": {
      "text/plain": [
       "<matplotlib.collections.PathCollection at 0x7fca49b89000>"
      ]
     },
     "execution_count": 32,
     "metadata": {},
     "output_type": "execute_result"
    },
    {
     "data": {
      "image/png": "[encoded data removed]",
      "text/plain": [
       "<Figure size 640x480 with 1 Axes>"
      ]
     },
     "metadata": {},
     "output_type": "display_data"
    }
   ],
   "source": [
    "ind = 8\n",
    "plt.scatter(gpvals[ind], spvals[ind])"
   ]
  },
  {
   "cell_type": "code",
   "execution_count": 84,
   "id": "dbdc89f3-fa47-4aa8-a2cb-d7a6fd9bb566",
   "metadata": {},
   "outputs": [],
   "source": [
    "import torch"
   ]
  },
  {
   "cell_type": "code",
   "execution_count": 87,
   "id": "9ed31f3e-d512-4c4a-adfb-87ae63ef651f",
   "metadata": {},
   "outputs": [],
   "source": [
    "scores = torch.tensor([0,1,2,3])"
   ]
  },
  {
   "cell_type": "code",
   "execution_count": 88,
   "id": "990536d5-d02c-4538-aa44-716ae46611db",
   "metadata": {},
   "outputs": [
    {
     "data": {
      "text/plain": [
       "tensor([[ 0, -1, -2, -3],\n",
       "        [ 1,  0, -1, -2],\n",
       "        [ 2,  1,  0, -1],\n",
       "        [ 3,  2,  1,  0]])"
      ]
     },
     "execution_count": 88,
     "metadata": {},
     "output_type": "execute_result"
    }
   ],
   "source": [
    "scores.unsqueeze(1) - scores.unsqueeze(0)"
   ]
  },
  {
   "cell_type": "code",
   "execution_count": null,
   "id": "6e0141d3-9657-41e2-a2b5-b905e436caf5",
   "metadata": {},
   "outputs": [],
   "source": [
    "pairwise_diff = scores.unsqueeze(1) - scores.unsqueeze(0)\n",
    "\n",
    "# Apply absolute value and sigmoid\n",
    "loss = torch.sigmoid(torch.abs(pairwise_diff))"
   ]
  },
  {
   "cell_type": "code",
   "execution_count": 92,
   "id": "47192e57-0561-4168-8de9-f490a4cffb5e",
   "metadata": {},
   "outputs": [],
   "source": [
    "it = iter([0,1,2,3,4,5])"
   ]
  },
  {
   "cell_type": "code",
   "execution_count": 102,
   "id": "8ef23ecf-64a4-40ce-b2d4-2f28672b54e6",
   "metadata": {},
   "outputs": [
    {
     "name": "stdout",
     "output_type": "stream",
     "text": [
      "5\n"
     ]
    },
    {
     "ename": "StopIteration",
     "evalue": "",
     "output_type": "error",
     "traceback": [
      "\u001b[0;31m---------------------------------------------------------------------------\u001b[0m",
      "\u001b[0;31mStopIteration\u001b[0m                             Traceback (most recent call last)",
      "Cell \u001b[0;32mIn[102], line 2\u001b[0m\n\u001b[1;32m      1\u001b[0m \u001b[38;5;28;01mfor\u001b[39;00m i \u001b[38;5;129;01min\u001b[39;00m \u001b[38;5;28mrange\u001b[39m(\u001b[38;5;241m20\u001b[39m):\n\u001b[0;32m----> 2\u001b[0m     val \u001b[38;5;241m=\u001b[39m \u001b[38;5;28;43mnext\u001b[39;49m\u001b[43m(\u001b[49m\u001b[43mit\u001b[49m\u001b[43m)\u001b[49m\n\u001b[1;32m      3\u001b[0m     \u001b[38;5;28;01mif\u001b[39;00m val \u001b[38;5;129;01mis\u001b[39;00m \u001b[38;5;129;01mnot\u001b[39;00m \u001b[38;5;28;01mNone\u001b[39;00m:\n\u001b[1;32m      4\u001b[0m         \u001b[38;5;28mprint\u001b[39m(val)\n",
      "\u001b[0;31mStopIteration\u001b[0m: "
     ]
    }
   ],
   "source": [
    "for i in range(20):\n",
    "    val = next(it)\n",
    "    if val is not None:\n",
    "        print(val)\n",
    "    else:\n",
    "        it = iter([0,1,2,3,4,5])"
   ]
  },
  {
   "cell_type": "code",
   "execution_count": 99,
   "id": "a4e3585a-3af3-455e-878c-3e2e6e35f0cd",
   "metadata": {},
   "outputs": [],
   "source": [
    "val = next(it)"
   ]
  },
  {
   "cell_type": "code",
   "execution_count": 101,
   "id": "92f79dba-620f-4e0e-99b0-d8b152615c74",
   "metadata": {},
   "outputs": [
    {
     "data": {
      "text/plain": [
       "4"
      ]
     },
     "execution_count": 101,
     "metadata": {},
     "output_type": "execute_result"
    }
   ],
   "source": [
    "val"
   ]
  },
  {
   "cell_type": "code",
   "execution_count": null,
   "id": "3237a90b-d80f-4bc5-8579-fec7ef0218e3",
   "metadata": {},
   "outputs": [],
   "source": []
  }
 ],
 "metadata": {
  "kernelspec": {
   "display_name": "Python 3 (ipykernel)",
   "language": "python",
   "name": "python3"
  },
  "language_info": {
   "codemirror_mode": {
    "name": "ipython",
    "version": 3
   },
   "file_extension": ".py",
   "mimetype": "text/x-python",
   "name": "python",
   "nbconvert_exporter": "python",
   "pygments_lexer": "ipython3",
   "version": "3.10.0"
  }
 },
 "nbformat": 4,
 "nbformat_minor": 5
}
