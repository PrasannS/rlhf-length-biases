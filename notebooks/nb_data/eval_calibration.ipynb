{
 "cells": [
  {
   "cell_type": "code",
   "execution_count": 1,
   "id": "60a8d8da-4cf2-431c-8505-3600bc7757c1",
   "metadata": {},
   "outputs": [
    {
     "name": "stderr",
     "output_type": "stream",
     "text": [
      "/u/prasanns/miniconda3/envs/rlhfenv/lib/python3.10/site-packages/tqdm/auto.py:21: TqdmWarning: IProgress not found. Please update jupyter and ipywidgets. See https://ipywidgets.readthedocs.io/en/stable/user_install.html\n",
      "  from .autonotebook import tqdm as notebook_tqdm\n"
     ]
    },
    {
     "name": "stdout",
     "output_type": "stream",
     "text": [
      "[2024-02-24 09:46:00,032] [INFO] [real_accelerator.py:110:get_accelerator] Setting ds_accelerator to cuda (auto detect)\n"
     ]
    },
    {
     "name": "stderr",
     "output_type": "stream",
     "text": [
      "/u/prasanns/miniconda3/envs/rlhfenv/lib/python3.10/site-packages/trl/trainer/ppo_config.py:142: UserWarning: The `optimize_cuda_cache` argument will be deprecated soon, please use `optimize_device_cache` instead.\n",
      "  warnings.warn(\n"
     ]
    }
   ],
   "source": [
    "import pandas as pd\n",
    "from statistics import mean, stdev\n",
    "import matplotlib.pyplot as plt\n",
    "from os import listdir\n",
    "from rlhfutils.eval_utils import scofile\n",
    "from scipy.stats import pearsonr, spearmanr\n",
    "import numpy as np\n",
    "from datasets import Dataset"
   ]
  },
  {
   "cell_type": "code",
   "execution_count": 2,
   "id": "84e73011-424a-4f7b-90e2-7732ca269424",
   "metadata": {},
   "outputs": [],
   "source": [
    "%load_ext autoreload\n",
    "%autoreload 2"
   ]
  },
  {
   "cell_type": "code",
   "execution_count": 3,
   "id": "9e24f656-e804-4587-bac9-7fa00785c01c",
   "metadata": {},
   "outputs": [],
   "source": [
    "# TODO assert that the lengths work in the right way (limited to 50), otherwise these comparisons aren't useful anymore\n",
    "# maybe also get a case for 25 to get stuff closer to the interesting range of what the RM can learn"
   ]
  },
  {
   "cell_type": "code",
   "execution_count": 4,
   "id": "bcb2af15-9d4d-4a07-9a13-4623f7adf471",
   "metadata": {},
   "outputs": [],
   "source": [
    "def diffplot(scos, golds):\n",
    "    sdiffs = []\n",
    "    gdiffs = []\n",
    "    for i in range(len(scos)):\n",
    "        for j in range(i+1,len(scos)):\n",
    "            if golds[i]>golds[j]:\n",
    "                sdiffs.append(scos[i]-scos[j])\n",
    "                gdiffs.append(golds[i]-golds[j])\n",
    "            else:\n",
    "                sdiffs.append(scos[j]-scos[i])\n",
    "                gdiffs.append(golds[j]-golds[i])\n",
    "    return sdiffs, gdiffs\n",
    "\n",
    "# given alldfs, and a list of keys to merge, we're going to get n choose 2 pairs of indices, x will be score diff, y will be gold diff, then we'll measure the correlation (within each context)\n",
    "def checkdistcorrs(adfs, selkeys, cfunct=pearsonr):\n",
    "    # first merge all the scores across the adf keys (more diversity in scoring)\n",
    "    scos = list(adfs[selkeys[0]]['scores'])\n",
    "    golds = list(adfs[selkeys[0]]['gold'])\n",
    "    for i in range(1, len(selkeys)):\n",
    "        for j in range(len(scos)):\n",
    "            scos[j] = scos[j]+adfs[selkeys[i]]['scores'].loc[j]\n",
    "            #print(adfs[selkeys[i]]['scores'].loc[j])\n",
    "            golds[j] = golds[j] + adfs[selkeys[i]]['gold'].loc[j]\n",
    "    print(scos[0])\n",
    "    sps = []\n",
    "    gps = []\n",
    "    corrs = []\n",
    "    pvals = []\n",
    "    # get the combination-based diff plots for all of these, then return that\n",
    "    for i in range(len(scos)):\n",
    "        sp, gp = diffplot(scos[i], golds[i])\n",
    "        sps.append(sp)\n",
    "        gps.append(gp)\n",
    "        corrs.append(cfunct(gp, sp).statistic)\n",
    "        pvals.append(cfunct(gp, sp).pvalue)\n",
    "    print(np.nanmean(corrs))\n",
    "    plt.hist(corrs)\n",
    "    plt.scatter(corrs, pvals)\n",
    "    return sps, gps\n",
    "\n",
    "# for different gold values, what's the mean variance of RM scores for those\n",
    "def unvar(slist, glist):\n",
    "    uns = set(glist)\n",
    "    gdict = {}\n",
    "    for i in range(len(slist)): \n",
    "        gval = glist[i]\n",
    "        if gval not in gdict.keys(): \n",
    "            gdict[gval] = []\n",
    "        gdict[gval].append(slist[i])\n",
    "    vdict = {g:(len(gdict[g]), stdev(gdict[g]) if len(gdict[g])>1 else 0) for g in gdict.keys()}\n",
    "    mdict = {g:mean(gdict[g]) for g in gdict.keys()}\n",
    "    return vdict, mdict\n",
    "\n",
    "# forget about inputs, compute some info about the relationship between arbitrary pairs\n",
    "def agginfo(adfs, selkeys):\n",
    "    # first merge all the scores across the adf keys (more diversity in scoring)\n",
    "    scos = list(adfs[selkeys[0]]['scores'])\n",
    "    golds = list(adfs[selkeys[0]]['gold'])\n",
    "    for i in range(1, len(selkeys)):\n",
    "        for j in range(len(scos)):\n",
    "            scos[j] = scos[j]+adfs[selkeys[i]]['scores'].loc[j]\n",
    "            #print(adfs[selkeys[i]]['scores'].loc[j])\n",
    "            golds[j] = golds[j] + adfs[selkeys[i]]['gold'].loc[j]\n",
    "    ascos = []\n",
    "    agolds = []\n",
    "    for i in range(len(scos)):\n",
    "        ascos.extend(scos[i])\n",
    "        agolds.extend(golds[i])\n",
    "    vard, md = unvar(ascos, agolds)\n",
    "    print(vard)\n",
    "    plt.errorbar(md.keys(), [md[k] for k in md.keys()], yerr=[vard[k][1] for k in vard.keys()], fmt='o')"
   ]
  },
  {
   "cell_type": "code",
   "execution_count": 148,
   "id": "d019d992-b446-4287-b461-03581169ff1c",
   "metadata": {},
   "outputs": [
    {
     "name": "stdout",
     "output_type": "stream",
     "text": [
      "['dpoplusnoun25.jsonl', 'dpoplusnoun50.jsonl', 'dpoplusnoun75.jsonl', 'dpoplusnoun100.jsonl', 'dpoplusnoun25_mininounrms_sco', 'dpoplusnoun50_mininounrms_sco', 'dpoplusnoun75_mininounrms_sco', 'dpoplusnoun100_mininounrms_sco', 'dpoplusnoun25_dponounsynth_125mag_rm_sco', 'dpoplusnoun50_dponounsynth_125mag_rm_sco', 'dpoplusnoun75_dponounsynth_125mag_rm_sco', 'dpoplusnoun100_dponounsynth_125mag_rm_sco', 'dpoplusnoun25_dponounsynth_125poverp_rm_sco', 'dpoplusnoun50_dponounsynth_125poverp_rm_sco', 'dpoplusnoun75_dponounsynth_125poverp_rm_sco', 'dpoplusnoun100_dponounsynth_125poverp_rm_sco', 'dpoplusnoun25_dponounsynth_1b_rm_sco', 'dpoplusnoun50_dponounsynth_1b_rm_sco', 'dpoplusnoun75_dponounsynth_1b_rm_sco', 'dpoplusnoun100_dponounsynth_1b_rm_sco']\n",
      "[10.0, 14.5, 11.0, 18.5, 14.25, 14.25, 11.25, 12.75, 10.25, 12.25, 17.0, 13.75, 9.75, 13.25, 10.25, 13.75, 14.5, 15.0, 10.5, 15.0, 11.5, 13.75, 12.0, 12.25, 15.75, 12.75, 15.0, 16.25, 7.75, 16.75, 12.75, 13.75, 13.75, 14.5, 15.0, 12.75, 12.25, 12.75, 14.25, 13.75, 12.0, 11.75, 15.75, 13.25, 15.0, 12.5, 16.5, 10.75, 13.5, 15.25, 14.0, 10.75, 11.75, 14.0, 15.0, 10.5, 14.0, 11.25, 12.0, 15.25, 15.5, 13.5, 13.75, 12.5, 14.0, 12.5, 12.75, 17.0, 14.25, 14.25, 12.75, 15.5, 12.25, 13.5, 11.5, 13.5, 9.75, 11.75, 12.0, 15.5, 12.0, 13.25, 12.5, 13.5, 10.25, 14.0, 15.75, 14.5, 12.0, 10.5, 13.5, 14.5, 11.25, 18.25, 19.25, 13.5, 12.0, 19.0, 10.75, 14.75]\n",
      "13.3875\n",
      "157.3\n",
      "[34.5, 32.25, 29.25, 30.25, 30.25, 32.25, 32.0, 29.5, 29.75, 31.0, 30.25, 30.5, 33.0, 29.5, 30.75, 30.75, 30.0, 31.25, 34.25, 31.5, 31.75, 35.0, 33.25, 32.5, 35.25, 31.5, 32.25, 32.75, 32.5, 30.75, 32.5, 33.5, 29.0, 33.5, 30.5, 31.0, 36.75, 30.75, 30.75, 31.0, 30.0, 31.75, 32.5, 32.75, 32.25, 33.0, 31.25, 32.0, 28.75, 31.25, 31.25, 31.0, 31.5, 32.0, 30.5, 32.75, 29.75, 30.75, 31.75, 33.0, 33.0, 31.0, 33.75, 30.75, 14.0, 31.5, 29.25, 32.75, 32.25, 31.5, 31.75, 28.5, 33.5, 28.75, 33.0, 32.25, 32.75, 31.25, 32.0, 32.0, 31.25, 31.75, 34.5, 30.0, 32.75, 31.0, 33.0, 33.0, 31.75, 32.0, 30.0, 28.75, 32.25, 30.5, 32.75, 33.5, 27.5, 28.75, 32.0, 29.0]\n",
      "31.4075\n",
      "161.87\n",
      "[34.0, 34.5, 35.5, 35.75, 35.0, 33.25, 33.75, 33.0, 34.25, 35.75, 34.25, 33.75, 34.75, 34.75, 35.25, 34.25, 34.75, 34.0, 32.75, 35.5, 34.0, 37.25, 34.75, 34.75, 34.25, 34.5, 35.5, 36.75, 34.75, 33.0, 34.75, 36.0, 35.0, 33.75, 34.5, 35.25, 35.5, 34.0, 35.25, 36.25, 35.0, 35.0, 32.5, 33.5, 33.75, 33.75, 34.5, 34.75, 36.0, 34.75, 34.75, 33.75, 33.25, 34.0, 34.5, 34.75, 34.25, 35.5, 34.5, 34.25, 35.5, 35.0, 34.25, 34.75, 14.0, 33.75, 34.75, 34.25, 36.5, 35.0, 35.5, 35.25, 36.25, 34.5, 34.5, 34.5, 33.75, 33.25, 33.5, 34.75, 35.0, 33.5, 35.0, 34.0, 34.25, 35.5, 35.5, 32.75, 36.75, 36.75, 34.5, 35.25, 36.0, 32.75, 34.25, 35.0, 36.5, 34.0, 34.25, 35.75]\n",
      "34.4625\n",
      "163.23\n",
      "[24.0, 24.0, 24.0, 24.0, 24.5, 24.0, 24.0, 24.25, 24.25, 24.0, 24.0, 24.0, 24.0, 24.0, 24.0, 24.0, 24.0, 24.0, 24.0, 24.0, 24.0, 24.0, 24.0, 24.0, 24.0, 24.25, 24.0, 24.0, 24.0, 24.0, 24.0, 24.0, 24.5, 24.25, 24.0, 24.0, 24.25, 24.0, 24.0, 24.25, 24.25, 24.5, 24.0, 24.0, 24.0, 24.0, 24.25, 24.0, 24.0, 24.25, 24.25, 24.0, 24.0, 24.0, 24.0, 24.25, 24.0, 24.25, 24.0, 24.25, 24.25, 24.0, 24.25, 24.25, 14.0, 24.0, 24.25, 24.0, 24.5, 24.25, 24.0, 24.0, 24.0, 24.0, 24.5, 24.0, 24.25, 24.25, 24.25, 24.0, 24.0, 24.0, 24.25, 24.0, 24.0, 24.0, 24.0, 24.25, 24.25, 24.0, 24.0, 24.5, 24.0, 24.25, 24.0, 24.5, 24.25, 24.25, 24.25, 24.25]\n",
      "24.0075\n",
      "163.31\n"
     ]
    }
   ],
   "source": [
    "# Check how well-calibrated RMs are over here\n",
    "BASE = \"../../outputs/nouns/calibcheck//\"\n",
    "filt = \"1b\"\n",
    "# BASE = \"../../outputs/bagofwords/calibcheck//\"\n",
    "# filt = \"125mag\"\n",
    "funct = \"nouns\"\n",
    "scodirs = listdir(BASE)\n",
    "print(scodirs)\n",
    "alldfs = {}\n",
    "# go through and load everything in \n",
    "for s in scodirs:\n",
    "    if filt in s:\n",
    "        alldfs[s] = pd.read_json(BASE+s, lines=True, orient='records')\n",
    "        # TODO add on the synthetic scoring piece\n",
    "        #print(s)\n",
    "        stmp, lens = scofile(BASE+s, funct, True)\n",
    "        print(mean(lens))\n",
    "        #print(stmp)\n",
    "        alldfs[s]['gold'] = stmp[0]"
   ]
  },
  {
   "cell_type": "code",
   "execution_count": 149,
   "id": "fe1a166d-f733-43d1-aff7-38017dda848f",
   "metadata": {},
   "outputs": [
    {
     "name": "stdout",
     "output_type": "stream",
     "text": [
      "dict_keys(['dpoplusnoun25_dponounsynth_1b_rm_sco', 'dpoplusnoun50_dponounsynth_1b_rm_sco', 'dpoplusnoun75_dponounsynth_1b_rm_sco', 'dpoplusnoun100_dponounsynth_1b_rm_sco'])\n"
     ]
    }
   ],
   "source": [
    "print(alldfs.keys())"
   ]
  },
  {
   "cell_type": "code",
   "execution_count": 150,
   "id": "9e8a4ccd-a121-4e24-8994-b7261de0355b",
   "metadata": {},
   "outputs": [],
   "source": [
    "def goldacc(indf):\n",
    "    gpairs = []\n",
    "    spairs = []\n",
    "    cnt = 0\n",
    "    tot=0\n",
    "    for ind, row in indf.iterrows():\n",
    "        for i in range(len(row['gold'])):\n",
    "            for j in range(len(row['gold'])):\n",
    "                if j<=i: \n",
    "                    continue\n",
    "                if row['gold'][i]!=row['gold'][j]:\n",
    "                    tot+=1\n",
    "                    if (row['scores'][i]>row['scores'][j])==(row['gold'][i]>row['gold'][j]):\n",
    "                        cnt+=1\n",
    "    return cnt/tot"
   ]
  },
  {
   "cell_type": "code",
   "execution_count": 155,
   "id": "47e81b42-2846-4c2f-84f6-15535ae9149b",
   "metadata": {},
   "outputs": [
    {
     "data": {
      "text/plain": [
       "0.8434782608695652"
      ]
     },
     "execution_count": 155,
     "metadata": {},
     "output_type": "execute_result"
    }
   ],
   "source": [
    "goldacc(alldfs[\"dpoplusnoun100_dponounsynth_1b_rm_sco\"])"
   ]
  },
  {
   "cell_type": "code",
   "execution_count": 103,
   "id": "09f90be2-f0a7-4b24-80a3-697f39ec57bc",
   "metadata": {},
   "outputs": [
    {
     "data": {
      "text/plain": [
       "dict_keys(['dpoplusbow400_nozero100k_125mag_rm_sco', 'dpoplusbow200_nozero100k_125mag_rm_sco', 'dpoplusbow100_nozero100k_125mag_rm_sco', 'dpoplusbow25_nozero100k_125mag_rm_sco'])"
      ]
     },
     "execution_count": 103,
     "metadata": {},
     "output_type": "execute_result"
    }
   ],
   "source": [
    "alldfs.keys()"
   ]
  },
  {
   "cell_type": "code",
   "execution_count": 105,
   "id": "80cf749a-ea3a-4cf1-b2e3-39f69f05e5ec",
   "metadata": {},
   "outputs": [
    {
     "name": "stdout",
     "output_type": "stream",
     "text": [
      "[3.455078125, 1.482421875, 2.810546875, 1.08203125]\n",
      "-0.031402553428665776\n"
     ]
    },
    {
     "name": "stderr",
     "output_type": "stream",
     "text": [
      "/u/prasanns/miniconda3/envs/rlhfenv/lib/python3.10/site-packages/scipy/stats/_stats_py.py:4781: ConstantInputWarning: An input array is constant; the correlation coefficient is not defined.\n",
      "  warnings.warn(stats.ConstantInputWarning(msg))\n"
     ]
    },
    {
     "data": {
      "image/png": "[encoded data removed]",
      "text/plain": [
       "<Figure size 640x480 with 1 Axes>"
      ]
     },
     "metadata": {},
     "output_type": "display_data"
    }
   ],
   "source": [
    "spvals, gpvals = checkdistcorrs(alldfs, [\"dpoplusbow25_nozero100k_125mag_rm_sco\"])"
   ]
  },
  {
   "cell_type": "code",
   "execution_count": 77,
   "id": "da6b379c-d583-4e80-8694-ff1a879a4b32",
   "metadata": {},
   "outputs": [],
   "source": [
    "tmp = Dataset.load_from_disk(\"../../data/fixedreversebowdpo/\")"
   ]
  },
  {
   "cell_type": "code",
   "execution_count": 78,
   "id": "e9184e49-3b78-4a18-9a82-03a590f2669b",
   "metadata": {},
   "outputs": [],
   "source": [
    "tmp = pd.DataFrame(tmp)"
   ]
  },
  {
   "cell_type": "code",
   "execution_count": 79,
   "id": "54d90cad-5a3c-41d6-9caa-e6a2f022734f",
   "metadata": {},
   "outputs": [
    {
     "data": {
      "text/plain": [
       "1.0"
      ]
     },
     "execution_count": 79,
     "metadata": {},
     "output_type": "execute_result"
    }
   ],
   "source": [
    "tmp.score_j.quantile(0.95)"
   ]
  },
  {
   "cell_type": "code",
   "execution_count": 83,
   "id": "1d82b40d-6a23-4c09-aa34-86552b1d762c",
   "metadata": {},
   "outputs": [
    {
     "data": {
      "text/plain": [
       "3.0"
      ]
     },
     "execution_count": 83,
     "metadata": {},
     "output_type": "execute_result"
    }
   ],
   "source": [
    "max(tmp['score_j'])"
   ]
  },
  {
   "cell_type": "code",
   "execution_count": 40,
   "id": "0d6565fa-883f-487f-a78c-264ea2c61ebb",
   "metadata": {},
   "outputs": [
    {
     "data": {
      "text/plain": [
       "PearsonRResult(statistic=0.003938436759617613, pvalue=0.9233054996812565)"
      ]
     },
     "execution_count": 40,
     "metadata": {},
     "output_type": "execute_result"
    },
    {
     "data": {
      "image/png": "[encoded data removed]",
      "text/plain": [
       "<Figure size 640x480 with 1 Axes>"
      ]
     },
     "metadata": {},
     "output_type": "display_data"
    }
   ],
   "source": [
    "spv = []\n",
    "gpv = []\n",
    "for i in range(len(gpvals)):\n",
    "    spv.extend(spvals[i])\n",
    "    gpv.extend(gpvals[i])\n",
    "plt.scatter(gpv, spv)\n",
    "pearsonr(gpv, spv)"
   ]
  },
  {
   "cell_type": "code",
   "execution_count": 32,
   "id": "58e0fea6-4fdd-4981-b4fe-30986f425c9a",
   "metadata": {},
   "outputs": [
    {
     "data": {
      "text/plain": [
       "<matplotlib.collections.PathCollection at 0x7fca49b89000>"
      ]
     },
     "execution_count": 32,
     "metadata": {},
     "output_type": "execute_result"
    },
    {
     "data": {
      "image/png": "[encoded data removed]",
      "text/plain": [
       "<Figure size 640x480 with 1 Axes>"
      ]
     },
     "metadata": {},
     "output_type": "display_data"
    }
   ],
   "source": [
    "ind = 8\n",
    "plt.scatter(gpvals[ind], spvals[ind])"
   ]
  },
  {
   "cell_type": "code",
   "execution_count": 84,
   "id": "dbdc89f3-fa47-4aa8-a2cb-d7a6fd9bb566",
   "metadata": {},
   "outputs": [],
   "source": [
    "import torch"
   ]
  },
  {
   "cell_type": "code",
   "execution_count": 87,
   "id": "9ed31f3e-d512-4c4a-adfb-87ae63ef651f",
   "metadata": {},
   "outputs": [],
   "source": [
    "scores = torch.tensor([0,1,2,3])"
   ]
  },
  {
   "cell_type": "code",
   "execution_count": 88,
   "id": "990536d5-d02c-4538-aa44-716ae46611db",
   "metadata": {},
   "outputs": [
    {
     "data": {
      "text/plain": [
       "tensor([[ 0, -1, -2, -3],\n",
       "        [ 1,  0, -1, -2],\n",
       "        [ 2,  1,  0, -1],\n",
       "        [ 3,  2,  1,  0]])"
      ]
     },
     "execution_count": 88,
     "metadata": {},
     "output_type": "execute_result"
    }
   ],
   "source": [
    "scores.unsqueeze(1) - scores.unsqueeze(0)"
   ]
  },
  {
   "cell_type": "code",
   "execution_count": null,
   "id": "6e0141d3-9657-41e2-a2b5-b905e436caf5",
   "metadata": {},
   "outputs": [],
   "source": [
    "pairwise_diff = scores.unsqueeze(1) - scores.unsqueeze(0)\n",
    "\n",
    "# Apply absolute value and sigmoid\n",
    "loss = torch.sigmoid(torch.abs(pairwise_diff))"
   ]
  },
  {
   "cell_type": "code",
   "execution_count": 92,
   "id": "47192e57-0561-4168-8de9-f490a4cffb5e",
   "metadata": {},
   "outputs": [],
   "source": [
    "it = iter([0,1,2,3,4,5])"
   ]
  },
  {
   "cell_type": "code",
   "execution_count": 102,
   "id": "8ef23ecf-64a4-40ce-b2d4-2f28672b54e6",
   "metadata": {},
   "outputs": [
    {
     "name": "stdout",
     "output_type": "stream",
     "text": [
      "5\n"
     ]
    },
    {
     "ename": "StopIteration",
     "evalue": "",
     "output_type": "error",
     "traceback": [
      "\u001b[0;31m---------------------------------------------------------------------------\u001b[0m",
      "\u001b[0;31mStopIteration\u001b[0m                             Traceback (most recent call last)",
      "Cell \u001b[0;32mIn[102], line 2\u001b[0m\n\u001b[1;32m      1\u001b[0m \u001b[38;5;28;01mfor\u001b[39;00m i \u001b[38;5;129;01min\u001b[39;00m \u001b[38;5;28mrange\u001b[39m(\u001b[38;5;241m20\u001b[39m):\n\u001b[0;32m----> 2\u001b[0m     val \u001b[38;5;241m=\u001b[39m \u001b[38;5;28;43mnext\u001b[39;49m\u001b[43m(\u001b[49m\u001b[43mit\u001b[49m\u001b[43m)\u001b[49m\n\u001b[1;32m      3\u001b[0m     \u001b[38;5;28;01mif\u001b[39;00m val \u001b[38;5;129;01mis\u001b[39;00m \u001b[38;5;129;01mnot\u001b[39;00m \u001b[38;5;28;01mNone\u001b[39;00m:\n\u001b[1;32m      4\u001b[0m         \u001b[38;5;28mprint\u001b[39m(val)\n",
      "\u001b[0;31mStopIteration\u001b[0m: "
     ]
    }
   ],
   "source": [
    "for i in range(20):\n",
    "    val = next(it)\n",
    "    if val is not None:\n",
    "        print(val)\n",
    "    else:\n",
    "        it = iter([0,1,2,3,4,5])"
   ]
  },
  {
   "cell_type": "code",
   "execution_count": 99,
   "id": "a4e3585a-3af3-455e-878c-3e2e6e35f0cd",
   "metadata": {},
   "outputs": [],
   "source": [
    "val = next(it)"
   ]
  },
  {
   "cell_type": "code",
   "execution_count": 101,
   "id": "92f79dba-620f-4e0e-99b0-d8b152615c74",
   "metadata": {},
   "outputs": [
    {
     "data": {
      "text/plain": [
       "4"
      ]
     },
     "execution_count": 101,
     "metadata": {},
     "output_type": "execute_result"
    }
   ],
   "source": [
    "val"
   ]
  },
  {
   "cell_type": "code",
   "execution_count": null,
   "id": "3237a90b-d80f-4bc5-8579-fec7ef0218e3",
   "metadata": {},
   "outputs": [],
   "source": []
  }
 ],
 "metadata": {
  "kernelspec": {
   "display_name": "Python 3 (ipykernel)",
   "language": "python",
   "name": "python3"
  },
  "language_info": {
   "codemirror_mode": {
    "name": "ipython",
    "version": 3
   },
   "file_extension": ".py",
   "mimetype": "text/x-python",
   "name": "python",
   "nbconvert_exporter": "python",
   "pygments_lexer": "ipython3",
   "version": "3.10.0"
  }
 },
 "nbformat": 4,
 "nbformat_minor": 5
}
