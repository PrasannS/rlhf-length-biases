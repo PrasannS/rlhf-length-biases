{
 "cells": [
  {
   "cell_type": "code",
   "execution_count": 21,
   "id": "025d84f7-13da-4d45-a2e3-c5ae3b29cd28",
   "metadata": {},
   "outputs": [],
   "source": [
    "# Notebook for processing data from Tanya's paper in order to fill out our evaluation tables "
   ]
  },
  {
   "cell_type": "code",
   "execution_count": 1,
   "id": "b5e5c4fd-d2a2-48a2-a5ef-f8b18459874e",
   "metadata": {},
   "outputs": [
    {
     "name": "stderr",
     "output_type": "stream",
     "text": [
      "/u/prasanns/miniconda3/envs/rlhfenv/lib/python3.10/site-packages/tqdm/auto.py:21: TqdmWarning: IProgress not found. Please update jupyter and ipywidgets. See https://ipywidgets.readthedocs.io/en/stable/user_install.html\n",
      "  from .autonotebook import tqdm as notebook_tqdm\n"
     ]
    }
   ],
   "source": [
    "# !git clone https://github.com/princeton-nlp/LLMBar.git\n",
    "from os import listdir\n",
    "import pandas as pd\n",
    "from datasets import Dataset\n",
    "from transformers import AutoTokenizer\n",
    "from statistics import mean, stdev\n",
    "import matplotlib.pyplot as plt\n",
    "import seaborn as sns\n",
    "import numpy as np\n",
    "from itertools import combinations\n",
    "from sklearn.linear_model import LogisticRegression\n",
    "from sklearn.model_selection import train_test_split\n",
    "from sklearn.metrics import accuracy_score"
   ]
  },
  {
   "cell_type": "code",
   "execution_count": 2,
   "id": "2b73802b-d841-4f84-8e9d-e4ba8bcaf032",
   "metadata": {},
   "outputs": [],
   "source": [
    "toker = AutoTokenizer.from_pretrained(\"../../models/sft10k/\")"
   ]
  },
  {
   "cell_type": "code",
   "execution_count": 3,
   "id": "7e27db18-9d96-46b3-9e33-3a9b1b48cee2",
   "metadata": {},
   "outputs": [
    {
     "name": "stderr",
     "output_type": "stream",
     "text": [
      "Token indices sequence length is longer than the specified maximum sequence length for this model (607 > 512). Running this sequence through the model will result in indexing errors\n"
     ]
    }
   ],
   "source": [
    "def convert_advdata(ex):\n",
    "\n",
    "    ex['question'] = ex['input']\n",
    "    ex['response_j'] = ex['output_'+str(ex['label'])]\n",
    "    ex['response_k'] = ex['output_'+str(ex['label']%2+1)]\n",
    "    ex['toks_j'] = len(toker(ex['response_j']).input_ids)\n",
    "    ex['toks_k'] = len(toker(ex['response_k']).input_ids)\n",
    "    return ex\n",
    "    \n",
    "def load_adv_dsets(base=\"LLMBar/Dataset/LLMBar/\"):\n",
    "    adfs = {}\n",
    "    for s in listdir(base):\n",
    "        if \".\" in s:\n",
    "            continue\n",
    "        adfs[s] = pd.read_json(base+s+\"/dataset.json\", orient='records')\n",
    "        adfs[s] = adfs[s].apply(lambda ex: convert_advdata(ex), axis=1)\n",
    "        adfs[s] = adfs[s].drop(columns=['input', 'output_1', 'output_2', 'label'])\n",
    "    return adfs\n",
    "\n",
    "adv_dsets = load_adv_dsets()"
   ]
  },
  {
   "cell_type": "code",
   "execution_count": 4,
   "id": "bb362036-f627-4415-b1d7-672c136ca543",
   "metadata": {},
   "outputs": [],
   "source": [
    "import pickle"
   ]
  },
  {
   "cell_type": "code",
   "execution_count": 5,
   "id": "8b9fafec-95a7-4d36-a78b-6fc2f25a5ce5",
   "metadata": {},
   "outputs": [
    {
     "name": "stderr",
     "output_type": "stream",
     "text": [
      "                                                                                                                                                                 \r"
     ]
    }
   ],
   "source": [
    "# save into places that can be accessed easily\n",
    "for a in adv_dsets.keys():\n",
    "    Dataset.from_pandas(adv_dsets[a]).save_to_disk(\"../../data/adv_data/\"+a)"
   ]
  },
  {
   "cell_type": "code",
   "execution_count": 6,
   "id": "80ba3e8a-12bd-45e0-a3b7-f8c612b6ec28",
   "metadata": {},
   "outputs": [
    {
     "name": "stdout",
     "output_type": "stream",
     "text": [
      "Natural\n",
      "len preferred:  77.39\n",
      "len dispreferred:  67.79\n",
      "lheur:  0.57\n",
      "Manual\n",
      "len preferred:  117.95652173913044\n",
      "len dispreferred:  222.52173913043478\n",
      "lheur:  0.1956521739130435\n",
      "Neighbor\n",
      "len preferred:  45.75373134328358\n",
      "len dispreferred:  148.03731343283582\n",
      "lheur:  0.09701492537313433\n",
      "GPTOut\n",
      "len preferred:  63.787234042553195\n",
      "len dispreferred:  68.36170212765957\n",
      "lheur:  0.5106382978723404\n",
      "GPTInst\n",
      "len preferred:  133.7608695652174\n",
      "len dispreferred:  341.0108695652174\n",
      "lheur:  0.13043478260869565\n"
     ]
    }
   ],
   "source": [
    "# Result: Get length heuristic accuracy on these different eval sets\n",
    "for k in adv_dsets.keys():\n",
    "    print(k)\n",
    "    tmp = adv_dsets[k]\n",
    "    print(\"len preferred: \", tmp.toks_j.mean())\n",
    "    print(\"len dispreferred: \", tmp.toks_k.mean())\n",
    "    print(\"lheur: \", len(tmp[tmp.toks_j>tmp.toks_k])/len(tmp))"
   ]
  },
  {
   "cell_type": "code",
   "execution_count": 5,
   "id": "693bb69e-0b85-4300-ad65-ecc0e5d297cf",
   "metadata": {
    "scrolled": true
   },
   "outputs": [
    {
     "name": "stdout",
     "output_type": "stream",
     "text": [
      "tulu_7b-dpo_Natural\n",
      "tulu_7b-dpo_Manual\n",
      "tulu_7b-dpo_Neighbor\n",
      "tulu_7b-dpo_GPTOut\n",
      "tulu_7b-dpo_GPTInst\n",
      "tulu_13b-dpo_Natural\n",
      "tulu_13b-dpo_Manual\n",
      "tulu_13b-dpo_Neighbor\n",
      "tulu_13b-dpo_GPTOut\n",
      "tulu_13b-dpo_GPTInst\n",
      "tulu_70b-dpo_Natural\n",
      "tulu_70b-dpo_Manual\n",
      "tulu_70b-dpo_Neighbor\n",
      "tulu_70b-dpo_GPTOut\n",
      "tulu_70b-dpo_GPTInst\n"
     ]
    }
   ],
   "source": [
    "# load in all the json files from adversarial sets\n",
    "advbase = \"../../outputs/evalpickles/\"\n",
    "# advbase = \"../../outputs/ppocontrast/\"\n",
    "# advbase = \"../../outputs/ultrarmscos/\"\n",
    "advfiles = {}\n",
    "clearkeys = {\n",
    "    'tulu-2-7b':\"tulu_7b\", \n",
    "    'tulu-2-13b':\"tulu_13b\", \n",
    "    'tulu-2-70b':\"tulu_70b\", \n",
    "    'tulu-2-dpo-7b':\"tulu_7b-dpo\", \n",
    "    'tulu-2-dpo-13b':\"tulu_13b-dpo\", \n",
    "    'tulu-2-dpo-70b':\"tulu_70b-dpo\", \n",
    "    'ultrarmv1':\"RM-7b\", \n",
    "    'bigmag':\"RM-13b\", \n",
    "}\n",
    "for s in listdir(advbase):\n",
    "    newkey = s\n",
    "    for c in clearkeys.keys():\n",
    "        if c in newkey: \n",
    "            newkey = newkey.replace(c, clearkeys[c])\n",
    "    if \".\" not in s:\n",
    "        advfiles[newkey] = pd.read_json(advbase+s, lines=True, orient='records')\n",
    "        if 'tulu' in s or 'ppo' in s or 'sft' in s: \n",
    "            #print(advfiles.keys())\n",
    "            advfiles[newkey]['meanrew_j'] = advfiles[newkey]['dpo_j']\n",
    "            advfiles[newkey]['meanrew_k'] = advfiles[newkey]['dpo_k']\n",
    "            advfiles[newkey]['rewards_j'] = [sum(st) for st in advfiles[newkey]['lls_j']]\n",
    "            advfiles[newkey]['rewards_k'] = [sum(st) for st in advfiles[newkey]['lls_k']]\n",
    "        #print(newkey)\n",
    "        advfiles[newkey]['rdiff'] = advfiles[newkey]['rewards_j'] - advfiles[newkey]['rewards_k']\n",
    "\n",
    "# DPO losses need to get re-formed w.r.t their sft thing\n",
    "for c in advfiles.keys():\n",
    "    if 'dpo' in c: \n",
    "        print(c)\n",
    "        # store sum as another thing\n",
    "        advfiles[c]['sumrew_j'] = advfiles[c]['rewards_j']\n",
    "        advfiles[c]['sumrew_k'] = advfiles[c]['rewards_k']\n",
    "        # store normalized as another thing\n",
    "        advfiles[c]['rewards_j'] = advfiles[c]['rewards_j']*-1 / advfiles[c.replace(\"-dpo\", \"\")]['rewards_j']\n",
    "        advfiles[c]['rewards_k'] = advfiles[c]['rewards_k']*-1 / advfiles[c.replace(\"-dpo\", \"\")]['rewards_k']\n",
    "        advfiles[c]['sumdiff'] = advfiles[c]['sumrew_j'] - advfiles[c]['sumrew_k']\n",
    "        advfiles[c]['meandiff'] = advfiles[c]['meanrew_j'] - advfiles[c]['meanrew_k']\n",
    "        advfiles[c]['rdiff'] = advfiles[c]['rewards_j'] - advfiles[c]['rewards_k']"
   ]
  },
  {
   "cell_type": "code",
   "execution_count": 6,
   "id": "39fe72da-9870-4b45-85fe-0b256728a001",
   "metadata": {},
   "outputs": [
    {
     "data": {
      "text/plain": [
       "dict_keys(['RM-7b_Natural', 'RM-7b_Manual', 'RM-7b_Neighbor', 'RM-7b_GPTOut', 'RM-7b_GPTInst', 'RM-13b_Natural', 'RM-13b_Manual', 'RM-13b_Neighbor', 'RM-13b_GPTOut', 'RM-13b_GPTInst', 'tulu_7b-dpo_Natural', 'tulu_7b-dpo_Manual', 'tulu_7b-dpo_Neighbor', 'tulu_7b-dpo_GPTOut', 'tulu_7b-dpo_GPTInst', 'tulu_7b_Natural', 'tulu_7b_Manual', 'tulu_7b_Neighbor', 'tulu_7b_GPTOut', 'tulu_7b_GPTInst', 'tulu_13b-dpo_Natural', 'tulu_13b-dpo_Manual', 'tulu_13b-dpo_Neighbor', 'tulu_13b-dpo_GPTOut', 'tulu_13b-dpo_GPTInst', 'tulu_70b-dpo_Natural', 'tulu_70b-dpo_Manual', 'tulu_70b-dpo_Neighbor', 'tulu_70b-dpo_GPTOut', 'tulu_70b-dpo_GPTInst', 'tulu_13b_Natural', 'tulu_13b_Manual', 'tulu_13b_Neighbor', 'tulu_13b_GPTOut', 'tulu_13b_GPTInst', 'tulu_70b_Natural', 'tulu_70b_Manual', 'tulu_70b_Neighbor', 'tulu_70b_GPTOut', 'tulu_70b_GPTInst', 'checkpoints_Natural', 'checkpoints_Manual', 'checkpoints_Neighbor', 'checkpoints_GPTOut', 'checkpoints_GPTInst'])"
      ]
     },
     "execution_count": 6,
     "metadata": {},
     "output_type": "execute_result"
    }
   ],
   "source": [
    "advfiles.keys()"
   ]
  },
  {
   "cell_type": "code",
   "execution_count": 7,
   "id": "d133879c-c5cf-41b4-83e1-9cb47776dd4a",
   "metadata": {},
   "outputs": [
    {
     "data": {
      "text/plain": [
       "0.7473684210526316"
      ]
     },
     "execution_count": 7,
     "metadata": {},
     "output_type": "execute_result"
    }
   ],
   "source": [
    "key = 'tulu_13b-dpo_Natural'\n",
    "len(advfiles[key][advfiles[key].rdiff>0])/len(advfiles[key])"
   ]
  },
  {
   "cell_type": "code",
   "execution_count": 41,
   "id": "5c609235-0ae8-49d3-b693-407f88ee6564",
   "metadata": {},
   "outputs": [],
   "source": [
    "# given 2 distributions, put them into a common df\n",
    "def comb_dists(d1, d2, set): \n",
    "    set1 = advfiles[d1+\"_\"+set]\n",
    "    set2 = advfiles[d2+\"_\"+set]\n",
    "    set1['rdiff2'] = set2['rdiff']\n",
    "    return set1\n",
    "\n",
    "def print_dists(tmpdf, d1, d2):\n",
    "    for i, r in tmpdf.iterrows():\n",
    "        #print(r)\n",
    "        print(\"_______________\")\n",
    "        print('confidence of '+d1+': '+str(r['rdiff']))\n",
    "        print('confidence of '+d2+': '+str(r['rdiff2']))\n",
    "        print(\"QUESTION: \\n\", r['reponse_j'].split(\"\\n\\nAnswer:\")[0])\n",
    "        print(\"PREFERRED Answer: \\n\", r['reponse_j'].split(\"\\n\\nAnswer:\")[1])\n",
    "        print(\"DISPREFERRED Answer: \\n\", r['reponse_k'].split(\"\\n\\nAnswer:\")[1])"
   ]
  },
  {
   "cell_type": "code",
   "execution_count": 46,
   "id": "97a344fe-77c3-4b60-a15d-2a591c9b1d36",
   "metadata": {},
   "outputs": [],
   "source": [
    "s1 = 'RM-7b'\n",
    "s2 = 'tulu_7b-dpo'\n",
    "combo = comb_dists(s1, s2, \"Natural\")"
   ]
  },
  {
   "cell_type": "code",
   "execution_count": null,
   "id": "f6c68410-e150-40cf-82f9-bd16dc66d322",
   "metadata": {},
   "outputs": [],
   "source": [
    "tmp = combo[(combo.rdiff>2) & (combo.rdiff2<-0.03)]\n",
    "print_dists(tmp, s1 ,s2)"
   ]
  },
  {
   "cell_type": "code",
   "execution_count": 50,
   "id": "52a129aa-0b0f-4a05-b6da-e7ddb3b74b14",
   "metadata": {},
   "outputs": [
    {
     "name": "stdout",
     "output_type": "stream",
     "text": [
      "Model Accuracy: 0.631578947368421\n",
      "Feature Weights: [[0.0050773  0.49379619 2.25140448]]\n"
     ]
    },
    {
     "name": "stderr",
     "output_type": "stream",
     "text": [
      "/u/prasanns/miniconda3/envs/rlhfenv/lib/python3.10/site-packages/sklearn/linear_model/_logistic.py:1182: FutureWarning: `penalty='none'`has been deprecated in 1.2 and will be removed in 1.4. To keep the past behaviour, set `penalty=None`.\n",
      "  warnings.warn(\n",
      "/u/prasanns/miniconda3/envs/rlhfenv/lib/python3.10/site-packages/sklearn/linear_model/_logistic.py:1192: UserWarning: Setting penalty=None will ignore the C and l1_ratio parameters\n",
      "  warnings.warn(\n"
     ]
    }
   ],
   "source": [
    "def prepdata(df):\n",
    "    # Assuming df is your original DataFrame\n",
    "    original_df = df.copy()\n",
    "    \n",
    "    # Create inverse dataset\n",
    "    inverse_df = original_df.copy()\n",
    "    inverse_df['sumdiff'] = -1*inverse_df['sumdiff']/597\n",
    "    inverse_df['meandiff'] = -1*inverse_df['meandiff']/2.9\n",
    "    inverse_df['rdiff'] = -1*inverse_df['rdiff']/.15\n",
    "    \n",
    "    # Combine and shuffle datasets\n",
    "    combined_df = pd.concat([original_df, inverse_df])\n",
    "    \n",
    "    # Create labels\n",
    "    combined_df['label'] = [1] * len(original_df) + [0] * len(inverse_df)\n",
    "\n",
    "    combined_df = combined_df.sample(frac=1, random_state=42)\n",
    "    labels = combined_df['label']\n",
    "    return combined_df.drop(columns=['label']), labels\n",
    "\n",
    "# train a linear classifier on the 3 DPO features to get a better classification model\n",
    "X_train, y_train = prepdata(advfiles['tulu_7b-dpo_Natural'][['sumdiff', 'meandiff', 'rdiff']])\n",
    "X_test, y_test = prepdata(advfiles['tulu_7b-dpo_Natural'][['sumdiff', 'meandiff', 'rdiff']])\n",
    "\n",
    "# Training the model\n",
    "model = LogisticRegression(max_iter=100000,penalty='none', solver='newton-cholesky', C=100)\n",
    "model.fit(X_train, y_train)\n",
    "\n",
    "# Evaluating the model\n",
    "y_pred = model.predict(X_test)\n",
    "accuracy = accuracy_score(y_test, y_pred)\n",
    "\n",
    "# Extracting the weights\n",
    "weights = model.coef_\n",
    "print(\"Model Accuracy:\", accuracy)\n",
    "print(\"Feature Weights:\", weights)"
   ]
  },
  {
   "cell_type": "code",
   "execution_count": 100,
   "id": "b7930b2b-1b9c-4780-82cd-f998d6e4f890",
   "metadata": {},
   "outputs": [],
   "source": [
    "X_train['label'] = y_train"
   ]
  },
  {
   "cell_type": "code",
   "execution_count": 107,
   "id": "99454165-680b-4778-908c-d89db70ea7ae",
   "metadata": {},
   "outputs": [
    {
     "data": {
      "text/plain": [
       "0.6526315789473685"
      ]
     },
     "execution_count": 107,
     "metadata": {},
     "output_type": "execute_result"
    }
   ],
   "source": [
    "((X_train['rdiff']+X_train['sumdiff']*.0+X_train['meandiff']*.001>0).astype(int)==X_train['label']).astype(int).mean()"
   ]
  },
  {
   "cell_type": "code",
   "execution_count": 42,
   "id": "42593685-1ab3-4afb-83b4-6dfa0048162f",
   "metadata": {},
   "outputs": [
    {
     "data": {
      "text/plain": [
       "597.3947240192003"
      ]
     },
     "execution_count": 42,
     "metadata": {},
     "output_type": "execute_result"
    }
   ],
   "source": [
    "X_train['sumdiff'].max()"
   ]
  },
  {
   "cell_type": "code",
   "execution_count": 8,
   "id": "cadf18e4-e552-44b5-84f7-0a9e0ecdc01b",
   "metadata": {},
   "outputs": [
    {
     "name": "stdout",
     "output_type": "stream",
     "text": [
      "RM-7b_Natural\n",
      "RM-7b_Manual\n",
      "RM-7b_Neighbor\n",
      "RM-7b_GPTOut\n",
      "RM-7b_GPTInst\n",
      "RM-13b_Natural\n",
      "RM-13b_Manual\n",
      "RM-13b_Neighbor\n",
      "RM-13b_GPTOut\n",
      "RM-13b_GPTInst\n",
      "tulu_7b-dpo_Natural\n",
      "accuracy:  0.6526315789473685\n",
      "tulu_7b-dpo_Manual\n",
      "accuracy:  0.4\n",
      "tulu_7b-dpo_Neighbor\n",
      "accuracy:  0.4838709677419355\n",
      "tulu_7b-dpo_GPTOut\n",
      "accuracy:  0.44680851063829785\n",
      "tulu_7b-dpo_GPTInst\n",
      "accuracy:  0.22033898305084745\n",
      "tulu_7b_Natural\n",
      "tulu_7b_Manual\n",
      "tulu_7b_Neighbor\n",
      "tulu_7b_GPTOut\n",
      "tulu_7b_GPTInst\n",
      "tulu_13b-dpo_Natural\n",
      "accuracy:  0.7473684210526316\n",
      "tulu_13b-dpo_Manual\n",
      "accuracy:  0.425\n",
      "tulu_13b-dpo_Neighbor\n",
      "accuracy:  0.4435483870967742\n",
      "tulu_13b-dpo_GPTOut\n",
      "accuracy:  0.5319148936170213\n",
      "tulu_13b-dpo_GPTInst\n",
      "accuracy:  0.288135593220339\n",
      "tulu_70b-dpo_Natural\n",
      "accuracy:  0.6736842105263158\n",
      "tulu_70b-dpo_Manual\n",
      "accuracy:  0.425\n",
      "tulu_70b-dpo_Neighbor\n",
      "accuracy:  0.4435483870967742\n",
      "tulu_70b-dpo_GPTOut\n",
      "accuracy:  0.5957446808510638\n",
      "tulu_70b-dpo_GPTInst\n",
      "accuracy:  0.288135593220339\n",
      "tulu_13b_Natural\n",
      "tulu_13b_Manual\n",
      "tulu_13b_Neighbor\n",
      "tulu_13b_GPTOut\n",
      "tulu_13b_GPTInst\n",
      "tulu_70b_Natural\n",
      "tulu_70b_Manual\n",
      "tulu_70b_Neighbor\n",
      "tulu_70b_GPTOut\n",
      "tulu_70b_GPTInst\n",
      "checkpoints_Natural\n",
      "accuracy:  0.6526315789473685\n",
      "checkpoints_Manual\n",
      "accuracy:  0.325\n",
      "checkpoints_Neighbor\n",
      "accuracy:  0.3548387096774194\n",
      "checkpoints_GPTOut\n",
      "accuracy:  0.5106382978723404\n",
      "checkpoints_GPTInst\n",
      "accuracy:  0.3050847457627119\n"
     ]
    }
   ],
   "source": [
    "showmarg = False\n",
    "for k in advfiles.keys():\n",
    "    print(k)\n",
    "    tmp = advfiles[k]\n",
    "    #print(\"len preferred: \", tmp.toks_j.mean())\n",
    "    #print(\"len dispreferred: \", tmp.toks_k.mean())\n",
    "    if \"dpo\" in k or \"checkpoints\" in k:\n",
    "        print(\"accuracy: \", len(tmp[tmp.rewards_j>tmp.rewards_k])/len(tmp))\n",
    "    if showmarg:\n",
    "        print(\"margin mean: \", mean(tmp.rewards_j-tmp.rewards_k))\n",
    "        print(\"margin std: \", stdev(tmp.rewards_j-tmp.rewards_k))"
   ]
  },
  {
   "cell_type": "code",
   "execution_count": 113,
   "id": "bf1f0b01-cefe-44e1-9328-5af251d579c1",
   "metadata": {},
   "outputs": [],
   "source": [
    "ks = ['sft10k', 'ultrappostep_25', 'ultrappostep_50', 'ultrappostep_75', 'ultrappostep_100']\n",
    "sets = [\"Natural\", \"Manual\", \"GPTOut\", \"Neighbor\", \"GPTInst\"]\n",
    "def acclines():\n",
    "    covals = {}\n",
    "    for k in sets:\n",
    "        covals[k] = []\n",
    "        for u in ks:\n",
    "            tmp = advfiles[u+\"_\"+k]\n",
    "            covals[k].append(len(tmp[tmp.rewards_j>tmp.rewards_k])/len(tmp))\n",
    "    return covals\n",
    "\n",
    "def comp_plot():\n",
    "    cdists = acclines()\n",
    "    baselines = {\n",
    "        'Natural':.705,\n",
    "        \"Manual\":.25,\n",
    "        \"GPTOut\":.319,\n",
    "        \"Neighbor\":.435,\n",
    "        \"GPTInst\":.305\n",
    "    }\n",
    "    x = [0, 25, 50, 75, 100]\n",
    "    # Set up a color cycle (optional, for consistent colors)\n",
    "    colors = plt.cm.viridis(np.linspace(0, 1, len(cdists)))\n",
    "    \n",
    "    # Plot each line and its baseline\n",
    "    for (key, color) in zip(cdists, colors):\n",
    "        # Plot line\n",
    "        plt.plot(x, cdists[key], label=key, color=color)\n",
    "        # Plot baseline\n",
    "        if key in baselines:\n",
    "            plt.axhline(y=baselines[key], color=color, linestyle='dotted')\n",
    "\n",
    "    \n",
    "    # Adding labels and title\n",
    "    plt.xlabel('Train Steps')\n",
    "    plt.ylabel('Mean Spearman Correlation')\n",
    "    plt.title('Contast set likelihood accs over PPO:')\n",
    "    plt.legend()\n",
    "    \n",
    "    # Show the plot\n",
    "    plt.show()"
   ]
  },
  {
   "cell_type": "code",
   "execution_count": 114,
   "id": "9fae7323-72bf-45d7-971c-4102d96bdcc2",
   "metadata": {},
   "outputs": [
    {
     "ename": "KeyError",
     "evalue": "'sft10k_Natural'",
     "output_type": "error",
     "traceback": [
      "\u001b[0;31m---------------------------------------------------------------------------\u001b[0m",
      "\u001b[0;31mKeyError\u001b[0m                                  Traceback (most recent call last)",
      "Cell \u001b[0;32mIn[114], line 1\u001b[0m\n\u001b[0;32m----> 1\u001b[0m \u001b[43mcomp_plot\u001b[49m\u001b[43m(\u001b[49m\u001b[43m)\u001b[49m\n",
      "Cell \u001b[0;32mIn[113], line 13\u001b[0m, in \u001b[0;36mcomp_plot\u001b[0;34m()\u001b[0m\n\u001b[1;32m     12\u001b[0m \u001b[38;5;28;01mdef\u001b[39;00m \u001b[38;5;21mcomp_plot\u001b[39m():\n\u001b[0;32m---> 13\u001b[0m     cdists \u001b[38;5;241m=\u001b[39m \u001b[43macclines\u001b[49m\u001b[43m(\u001b[49m\u001b[43m)\u001b[49m\n\u001b[1;32m     14\u001b[0m     baselines \u001b[38;5;241m=\u001b[39m {\n\u001b[1;32m     15\u001b[0m         \u001b[38;5;124m'\u001b[39m\u001b[38;5;124mNatural\u001b[39m\u001b[38;5;124m'\u001b[39m:\u001b[38;5;241m.705\u001b[39m,\n\u001b[1;32m     16\u001b[0m         \u001b[38;5;124m\"\u001b[39m\u001b[38;5;124mManual\u001b[39m\u001b[38;5;124m\"\u001b[39m:\u001b[38;5;241m.25\u001b[39m,\n\u001b[0;32m   (...)\u001b[0m\n\u001b[1;32m     19\u001b[0m         \u001b[38;5;124m\"\u001b[39m\u001b[38;5;124mGPTInst\u001b[39m\u001b[38;5;124m\"\u001b[39m:\u001b[38;5;241m.305\u001b[39m\n\u001b[1;32m     20\u001b[0m     }\n\u001b[1;32m     21\u001b[0m     x \u001b[38;5;241m=\u001b[39m [\u001b[38;5;241m0\u001b[39m, \u001b[38;5;241m25\u001b[39m, \u001b[38;5;241m50\u001b[39m, \u001b[38;5;241m75\u001b[39m, \u001b[38;5;241m100\u001b[39m]\n",
      "Cell \u001b[0;32mIn[113], line 8\u001b[0m, in \u001b[0;36macclines\u001b[0;34m()\u001b[0m\n\u001b[1;32m      6\u001b[0m     covals[k] \u001b[38;5;241m=\u001b[39m []\n\u001b[1;32m      7\u001b[0m     \u001b[38;5;28;01mfor\u001b[39;00m u \u001b[38;5;129;01min\u001b[39;00m ks:\n\u001b[0;32m----> 8\u001b[0m         tmp \u001b[38;5;241m=\u001b[39m \u001b[43madvfiles\u001b[49m\u001b[43m[\u001b[49m\u001b[43mu\u001b[49m\u001b[38;5;241;43m+\u001b[39;49m\u001b[38;5;124;43m\"\u001b[39;49m\u001b[38;5;124;43m_\u001b[39;49m\u001b[38;5;124;43m\"\u001b[39;49m\u001b[38;5;241;43m+\u001b[39;49m\u001b[43mk\u001b[49m\u001b[43m]\u001b[49m\n\u001b[1;32m      9\u001b[0m         covals[k]\u001b[38;5;241m.\u001b[39mappend(\u001b[38;5;28mlen\u001b[39m(tmp[tmp\u001b[38;5;241m.\u001b[39mrewards_j\u001b[38;5;241m>\u001b[39mtmp\u001b[38;5;241m.\u001b[39mrewards_k])\u001b[38;5;241m/\u001b[39m\u001b[38;5;28mlen\u001b[39m(tmp))\n\u001b[1;32m     10\u001b[0m \u001b[38;5;28;01mreturn\u001b[39;00m covals\n",
      "\u001b[0;31mKeyError\u001b[0m: 'sft10k_Natural'"
     ]
    }
   ],
   "source": [
    "comp_plot()"
   ]
  },
  {
   "cell_type": "code",
   "execution_count": 117,
   "id": "53d25fe6-7d15-4b6d-b873-90b68346697c",
   "metadata": {},
   "outputs": [
    {
     "data": {
      "text/plain": [
       "dict_keys(['RM-7b_Natural', 'RM-7b_Manual', 'RM-7b_Neighbor', 'RM-7b_GPTOut', 'RM-7b_GPTInst', 'RM-13b_Natural', 'RM-13b_Manual', 'RM-13b_Neighbor', 'RM-13b_GPTOut', 'RM-13b_GPTInst', 'tulu_7b-dpo_Natural', 'tulu_7b-dpo_Manual', 'tulu_7b-dpo_Neighbor', 'tulu_7b-dpo_GPTOut', 'tulu_7b-dpo_GPTInst', 'tulu_7b_Natural', 'tulu_7b_Manual', 'tulu_7b_Neighbor', 'tulu_7b_GPTOut', 'tulu_7b_GPTInst', 'tulu_13b-dpo_Natural', 'tulu_13b-dpo_Manual', 'tulu_13b-dpo_Neighbor', 'tulu_13b-dpo_GPTOut', 'tulu_13b-dpo_GPTInst', 'tulu_70b-dpo_Natural', 'tulu_70b-dpo_Manual', 'tulu_70b-dpo_Neighbor', 'tulu_70b-dpo_GPTOut', 'tulu_70b-dpo_GPTInst', 'tulu_13b_Natural', 'tulu_13b_Manual', 'tulu_13b_Neighbor', 'tulu_13b_GPTOut', 'tulu_13b_GPTInst', 'tulu_70b_Natural', 'tulu_70b_Manual', 'tulu_70b_Neighbor', 'tulu_70b_GPTOut', 'tulu_70b_GPTInst'])"
      ]
     },
     "execution_count": 117,
     "metadata": {},
     "output_type": "execute_result"
    }
   ],
   "source": [
    "advfiles.keys()"
   ]
  },
  {
   "cell_type": "code",
   "execution_count": 141,
   "id": "e7bba7f4-ccbb-478b-9e02-0de6714afb29",
   "metadata": {},
   "outputs": [
    {
     "data": {
      "text/plain": [
       "(array([ 3.,  3.,  5., 13., 29., 19., 16.,  3.,  1.,  3.]),\n",
       " array([-0.10799954, -0.08132097, -0.05464241, -0.02796384, -0.00128527,\n",
       "         0.02539329,  0.05207186,  0.07875042,  0.10542899,  0.13210755,\n",
       "         0.15878612]),\n",
       " <BarContainer object of 10 artists>)"
      ]
     },
     "execution_count": 141,
     "metadata": {},
     "output_type": "execute_result"
    },
    {
     "data": {
      "image/png": "[encoded data removed]",
      "text/plain": [
       "<Figure size 640x480 with 1 Axes>"
      ]
     },
     "metadata": {},
     "output_type": "display_data"
    }
   ],
   "source": [
    "plt.hist(advfiles[dpo+set]['rdiff'])"
   ]
  },
  {
   "cell_type": "code",
   "execution_count": 151,
   "id": "7cd20649-e27d-4475-ad6e-3f1f3b5e99ae",
   "metadata": {},
   "outputs": [
    {
     "data": {
      "text/plain": [
       "Text(0.5, 1.0, 'Confidence of: RM-7b vs. RM-13b')"
      ]
     },
     "execution_count": 151,
     "metadata": {},
     "output_type": "execute_result"
    },
    {
     "data": {
      "image/png": "[encoded data removed]",
      "text/plain": [
       "<Figure size 640x480 with 1 Axes>"
      ]
     },
     "metadata": {},
     "output_type": "display_data"
    }
   ],
   "source": [
    "rm = 'RM-7b'\n",
    "dpo = 'RM-13b'\n",
    "set = \"_Natural\"\n",
    "plt.scatter(advfiles[rm+set]['rdiff'], advfiles[dpo+set]['rdiff'])\n",
    "plt.axhline(c='r')\n",
    "plt.axvline(c='r')\n",
    "plt.title(\"Confidence of: \"+rm+\" vs. \"+dpo)"
   ]
  },
  {
   "cell_type": "code",
   "execution_count": 115,
   "id": "cbbddf68-4e79-4edb-b26f-f54c52098935",
   "metadata": {},
   "outputs": [
    {
     "name": "stdout",
     "output_type": "stream",
     "text": [
      "RM-7b_Natural\n",
      "accuracy:  0.7052631578947368\n",
      "RM-7b_Manual\n",
      "accuracy:  0.25\n",
      "RM-7b_Neighbor\n",
      "accuracy:  0.43548387096774194\n",
      "RM-7b_GPTOut\n",
      "accuracy:  0.3191489361702128\n",
      "RM-7b_GPTInst\n",
      "accuracy:  0.3050847457627119\n",
      "RM-13b_Natural\n",
      "accuracy:  0.8631578947368421\n",
      "RM-13b_Manual\n",
      "accuracy:  0.4\n",
      "RM-13b_Neighbor\n",
      "accuracy:  0.4596774193548387\n",
      "RM-13b_GPTOut\n",
      "accuracy:  0.5957446808510638\n",
      "RM-13b_GPTInst\n",
      "accuracy:  0.5084745762711864\n",
      "tulu_7b-dpo_Natural\n",
      "accuracy:  0.6526315789473685\n",
      "tulu_7b-dpo_Manual\n",
      "accuracy:  0.4\n",
      "tulu_7b-dpo_Neighbor\n",
      "accuracy:  0.4838709677419355\n",
      "tulu_7b-dpo_GPTOut\n",
      "accuracy:  0.44680851063829785\n",
      "tulu_7b-dpo_GPTInst\n",
      "accuracy:  0.22033898305084745\n",
      "tulu_7b_Natural\n",
      "accuracy:  0.5684210526315789\n",
      "tulu_7b_Manual\n",
      "accuracy:  0.775\n",
      "tulu_7b_Neighbor\n",
      "accuracy:  0.8629032258064516\n",
      "tulu_7b_GPTOut\n",
      "accuracy:  0.48936170212765956\n",
      "tulu_7b_GPTInst\n",
      "accuracy:  0.8135593220338984\n",
      "tulu_13b-dpo_Natural\n",
      "accuracy:  0.7473684210526316\n",
      "tulu_13b-dpo_Manual\n",
      "accuracy:  0.425\n",
      "tulu_13b-dpo_Neighbor\n",
      "accuracy:  0.4435483870967742\n",
      "tulu_13b-dpo_GPTOut\n",
      "accuracy:  0.5319148936170213\n",
      "tulu_13b-dpo_GPTInst\n",
      "accuracy:  0.288135593220339\n",
      "tulu_70b-dpo_Natural\n",
      "accuracy:  0.6736842105263158\n",
      "tulu_70b-dpo_Manual\n",
      "accuracy:  0.425\n",
      "tulu_70b-dpo_Neighbor\n",
      "accuracy:  0.4435483870967742\n",
      "tulu_70b-dpo_GPTOut\n",
      "accuracy:  0.5957446808510638\n",
      "tulu_70b-dpo_GPTInst\n",
      "accuracy:  0.288135593220339\n",
      "tulu_13b_Natural\n",
      "accuracy:  0.5789473684210527\n",
      "tulu_13b_Manual\n",
      "accuracy:  0.775\n",
      "tulu_13b_Neighbor\n",
      "accuracy:  0.8790322580645161\n",
      "tulu_13b_GPTOut\n",
      "accuracy:  0.5106382978723404\n",
      "tulu_13b_GPTInst\n",
      "accuracy:  0.7627118644067796\n",
      "tulu_70b_Natural\n",
      "accuracy:  0.631578947368421\n",
      "tulu_70b_Manual\n",
      "accuracy:  0.8\n",
      "tulu_70b_Neighbor\n",
      "accuracy:  0.8709677419354839\n",
      "tulu_70b_GPTOut\n",
      "accuracy:  0.5106382978723404\n",
      "tulu_70b_GPTInst\n",
      "accuracy:  0.7627118644067796\n"
     ]
    }
   ],
   "source": [
    "# version of code that gets plots\n",
    "showmarg = False\n",
    "for k in advfiles.keys():\n",
    "    print(k)\n",
    "    tmp = advfiles[k]\n",
    "    #print(\"len preferred: \", tmp.toks_j.mean())\n",
    "    #print(\"len dispreferred: \", tmp.toks_k.mean())\n",
    "    print(\"accuracy: \", len(tmp[tmp.rewards_j>tmp.rewards_k])/len(tmp))\n",
    "    if showmarg:\n",
    "        print(\"margin mean: \", mean(tmp.rewards_j-tmp.rewards_k))\n",
    "        print(\"margin std: \", stdev(tmp.rewards_j-tmp.rewards_k))"
   ]
  },
  {
   "cell_type": "code",
   "execution_count": 13,
   "id": "1b788c45-2353-478a-93d2-5d3f322eedc5",
   "metadata": {},
   "outputs": [],
   "source": [
    "# figure out overlap in middle, left or rightmost n% of examples across 2 sets\n",
    "def n_percent_indices(lst, n, portion, givelen=True):\n",
    "        sorted_indices = sorted(range(len(lst)), key=lambda i: lst[i])\n",
    "        start, end = 0, len(lst)\n",
    "        length = int(len(lst) * n / 100)\n",
    "\n",
    "        if portion == 'mid':\n",
    "            start = (len(lst) - length) // 2\n",
    "            end = start + length\n",
    "        elif portion == 'left':\n",
    "            end = length\n",
    "        elif portion == 'right':\n",
    "            start = len(lst) - length\n",
    "        if givelen:\n",
    "            return set(sorted_indices[start:end]), length\n",
    "        return set(sorted_indices[start:end])\n",
    "    \n",
    "def compute_overlap(a, b, n, portion):\n",
    "    assert len(a) == len(b)\n",
    "\n",
    "    indices_a, l = n_percent_indices(a, n, portion)\n",
    "    indices_b, l = n_percent_indices(b, n, portion)\n",
    "\n",
    "    # Find the overlap\n",
    "    overlap = indices_a.intersection(indices_b)\n",
    "    \n",
    "    return len(overlap) / l\n",
    "\n",
    "def overlap_mat(files, setname=\"Natural\", n=10, portion='mid'):\n",
    "    usekeys = set([l for l in files.keys() if setname in l])\n",
    "    # Initialize an empty matrix for storing overlaps\n",
    "    overlap_matrix = np.zeros((len(usekeys), len(usekeys)))\n",
    "    \n",
    "    # Compute overlap for each pair and fill the matrix\n",
    "    for i, key_i in enumerate(usekeys):\n",
    "        for j, key_j in enumerate(usekeys):\n",
    "            if i != j:\n",
    "                overlap = compute_overlap(files[key_i]['rdiff'], files[key_j]['rdiff'], n, portion)\n",
    "                overlap_matrix[i, j] = overlap\n",
    "            else:\n",
    "                overlap_matrix[i, j] = 1  # Assuming full overlap for the same list\n",
    "    keyvals = [u.replace(\"_\"+setname, \"\") for u in usekeys]\n",
    "    # Plotting the heatmap\n",
    "    plt.figure(figsize=(10, 8))\n",
    "    sns.heatmap(overlap_matrix, annot=True, cmap='coolwarm', xticklabels=keyvals, yticklabels=keyvals)\n",
    "    plt.title(\"Overlap Heatmap for \"+setname+\" on \"+portion+\" \"+str(n)+\"%\")\n",
    "    plt.show()\n",
    "\n",
    "def find_common_overlaps(data_dict, setname=\"Natural\", n=10, portion='mid'):\n",
    "    usekeys = set([l for l in data_dict.keys() if setname in l])\n",
    "    # Calculate overlapping indices for each pair\n",
    "\n",
    "    # Step 1: Compute n% indices for all keys\n",
    "    key_indices = {key: n_percent_indices(data_dict[key]['rdiff'], n, portion, False) for key in usekeys}\n",
    "\n",
    "    for k in usekeys:\n",
    "        assert len(data_dict[k])==len(data_dict[list(usekeys)[0]])\n",
    "        \n",
    "    # Step 2: Track set for each index\n",
    "    index_sets = {}\n",
    "    for index in range(max(len(lst) for lst in data_dict.values())):\n",
    "        index_sets[index] = frozenset(key for key, indices in key_indices.items() if index in indices)\n",
    "\n",
    "    #print(index_sets)\n",
    "    # Step 3: Create an inverted index\n",
    "    inverted_index = {}\n",
    "    for index, key_set in index_sets.items():\n",
    "        if key_set not in inverted_index:\n",
    "            inverted_index[key_set] = []\n",
    "        inverted_index[key_set].append(index)\n",
    "\n",
    "    return inverted_index"
   ]
  },
  {
   "cell_type": "code",
   "execution_count": 14,
   "id": "b00cbdb5-7355-4f79-bebc-c7fdf88ff5e1",
   "metadata": {},
   "outputs": [
    {
     "data": {
      "image/png": "[encoded data removed]",
      "text/plain": [
       "<Figure size 1000x800 with 2 Axes>"
      ]
     },
     "metadata": {},
     "output_type": "display_data"
    }
   ],
   "source": [
    "overlap_mat(advfiles, \"Natural\", 30, 'mid')\n",
    "#overset = find_common_overlaps(advfiles, \"Natural\", 30, 'right')\n",
    "#print(overset)"
   ]
  },
  {
   "cell_type": "code",
   "execution_count": 121,
   "id": "97162bd0-63a7-4a72-a095-adff97cdff01",
   "metadata": {},
   "outputs": [
    {
     "name": "stdout",
     "output_type": "stream",
     "text": [
      "Question: Rewrite the given sentence using a variety of grammar, punctuation, and structure: the woman ran quickly\n",
      "\n",
      "\n",
      "response_j\n",
      "Answer: Swift-footed, she darted onward.\n",
      "response_k\n",
      "Answer: She ran quickly.\n",
      "0.7404437223999993\n"
     ]
    }
   ],
   "source": [
    "ind = 90\n",
    "sj = advfiles['RM-13b_Natural'].loc[ind]['reponse_j']\n",
    "print(sj[:sj.index(\"Answer:\")])\n",
    "print(\"response_j\")\n",
    "print(sj[sj.index(\"Answer:\"):])\n",
    "print('response_k')\n",
    "print(advfiles['RM-13b_Natural'].loc[ind]['reponse_k'][sj.index(\"Answer:\"):])\n",
    "print(advfiles['tulu_13b-dpo_Natural'].loc[ind]['rdiff'])"
   ]
  },
  {
   "cell_type": "code",
   "execution_count": 16,
   "id": "9ff1c483-9383-46a5-ad49-fbc3a3fe3d60",
   "metadata": {},
   "outputs": [
    {
     "data": {
      "text/plain": [
       "dict_keys(['ultrarmv1_Natural', 'ultrarmv1_Manual', 'ultrarmv1_Neighbor', 'ultrarmv1_GPTOut', 'ultrarmv1_GPTInst', 'bigmag_Natural', 'bigmag_Manual', 'bigmag_Neighbor', 'bigmag_GPTOut', 'bigmag_GPTInst', 'tulu-2-dpo-7b_Natural', 'tulu-2-dpo-7b_Manual', 'tulu-2-dpo-7b_Neighbor', 'tulu-2-dpo-7b_GPTOut', 'tulu-2-dpo-7b_GPTInst', 'tulu-2-7b_Natural', 'tulu-2-7b_Manual', 'tulu-2-7b_Neighbor', 'tulu-2-7b_GPTOut', 'tulu-2-7b_GPTInst', 'tulu-2-dpo-13b_Natural', 'tulu-2-dpo-13b_Manual', 'tulu-2-dpo-13b_Neighbor', 'tulu-2-dpo-13b_GPTOut', 'tulu-2-dpo-13b_GPTInst', 'tulu-2-dpo-70b_Natural', 'tulu-2-dpo-70b_Manual', 'tulu-2-dpo-70b_Neighbor', 'tulu-2-dpo-70b_GPTOut', 'tulu-2-dpo-70b_GPTInst'])"
      ]
     },
     "execution_count": 16,
     "metadata": {},
     "output_type": "execute_result"
    }
   ],
   "source": [
    "advfiles.keys()"
   ]
  },
  {
   "cell_type": "code",
   "execution_count": 31,
   "id": "1003c937-dff0-49b9-9767-7ceb1544ec66",
   "metadata": {},
   "outputs": [
    {
     "data": {
      "text/plain": [
       "(array([ 2.,  1.,  8., 18., 23., 43., 21.,  5.,  1.,  2.]),\n",
       " array([-4.20160004, -3.53388002, -2.86616001, -2.19843999, -1.53071997,\n",
       "        -0.86299996, -0.19527994,  0.47244008,  1.14016009,  1.80788011,\n",
       "         2.47560013]),\n",
       " <BarContainer object of 10 artists>)"
      ]
     },
     "execution_count": 31,
     "metadata": {},
     "output_type": "execute_result"
    },
    {
     "data": {
      "image/png": "[encoded data removed]",
      "text/plain": [
       "<Figure size 640x480 with 1 Axes>"
      ]
     },
     "metadata": {},
     "output_type": "display_data"
    }
   ],
   "source": [
    "tmp = advfiles['tulu-2-7b_Neighbor']\n",
    "plt.hist(tmp.rewards_j - tmp.rewards_k)"
   ]
  },
  {
   "cell_type": "code",
   "execution_count": null,
   "id": "b56b213f-4717-4b95-94cd-5520ffe7cd2d",
   "metadata": {},
   "outputs": [],
   "source": []
  }
 ],
 "metadata": {
  "kernelspec": {
   "display_name": "Python 3 (ipykernel)",
   "language": "python",
   "name": "python3"
  },
  "language_info": {
   "codemirror_mode": {
    "name": "ipython",
    "version": 3
   },
   "file_extension": ".py",
   "mimetype": "text/x-python",
   "name": "python",
   "nbconvert_exporter": "python",
   "pygments_lexer": "ipython3",
   "version": "3.10.0"
  }
 },
 "nbformat": 4,
 "nbformat_minor": 5
}
