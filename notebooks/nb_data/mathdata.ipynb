{
 "cells": [
  {
   "cell_type": "code",
   "execution_count": 1,
   "id": "b631e66d-83f6-4d05-a799-3763a23b742e",
   "metadata": {},
   "outputs": [
    {
     "name": "stderr",
     "output_type": "stream",
     "text": [
      "/u/prasanns/miniconda3/envs/rlhfenv/lib/python3.10/site-packages/tqdm/auto.py:21: TqdmWarning: IProgress not found. Please update jupyter and ipywidgets. See https://ipywidgets.readthedocs.io/en/stable/user_install.html\n",
      "  from .autonotebook import tqdm as notebook_tqdm\n"
     ]
    }
   ],
   "source": [
    "import pandas as pd\n",
    "from nltk.metrics.distance import edit_distance\n",
    "import random\n",
    "import re\n",
    "from datasets import Dataset\n",
    "from transformers import AutoTokenizer, AutoModelForCausalLM\n",
    "from peft import PeftModel\n",
    "import torch\n",
    "from rlhfutils.rewards import allmathpreds\n",
    "from tqdm import tqdm\n",
    "import matplotlib.pyplot as plt\n",
    "from statistics import mean"
   ]
  },
  {
   "cell_type": "code",
   "execution_count": 2,
   "id": "e7a5ebac-2f17-477c-a1c6-f6cfa4e922d2",
   "metadata": {},
   "outputs": [],
   "source": [
    "%load_ext autoreload\n",
    "%autoreload 2"
   ]
  },
  {
   "cell_type": "code",
   "execution_count": 3,
   "id": "9b32cd35-1627-40cd-a5e0-9336a8df4765",
   "metadata": {},
   "outputs": [],
   "source": [
    "tmp = Dataset.load_from_disk('../../data/einstein/einsteinsft/')"
   ]
  },
  {
   "cell_type": "code",
   "execution_count": 4,
   "id": "63ffa727-3557-4bd8-b8e5-0037e1bea53f",
   "metadata": {},
   "outputs": [],
   "source": [
    "# Quick look at PRM800K\n",
    "# df = pd.read_json(\"data/phase2_train.jsonl\", lines=True, orient='records')\n",
    "\n",
    "# df.loc[2]['question']"
   ]
  },
  {
   "cell_type": "code",
   "execution_count": 5,
   "id": "d8f2e87e-a525-4daf-ae18-4f6dc27e391d",
   "metadata": {},
   "outputs": [
    {
     "data": {
      "text/plain": [
       "('(((6 * 4) + 9) * ((4 + 9) * (4 + 4)))',\n",
       " ['(((6 * 4) + 9) * ((4 + 9) * (4 + 4)))',\n",
       "  '((24 + 9) * ((4 + 9) * (4 + 4)))',\n",
       "  '((24 + 9) * (13 * (4 + 4)))',\n",
       "  '((24 + 9) * (13 * 8))',\n",
       "  '(33 * (13 * 8))',\n",
       "  '(33 * 104)',\n",
       "  '3432'])"
      ]
     },
     "execution_count": 5,
     "metadata": {},
     "output_type": "execute_result"
    }
   ],
   "source": [
    "def generate_expression_with_depth(depth, current_depth=\"\"):\n",
    "    # operation will be fixed for each layer\n",
    "    operation = random.choice(['+', '-', '*'])\n",
    "\n",
    "    def randexp(giveexp, ndepth):\n",
    "        if giveexp: \n",
    "            giveexp = random.choice([True, False])\n",
    "            if 'r' not in ndepth:\n",
    "                giveexp=True\n",
    "        # giveexp = givenum or ('r' not in nstr)\n",
    "        return generate_expression_with_depth(depth, ndepth) if giveexp else random.randint(1,9)\n",
    "\n",
    "    left_expr = randexp(len(current_depth)<depth, current_depth+'l')\n",
    "    right_expr = randexp(len(current_depth)<depth, current_depth+'r')\n",
    "    return f\"({left_expr} {operation} {right_expr})\" \n",
    "\n",
    "def solve_expression(expression):\n",
    "    steps = [expression]\n",
    "    \n",
    "    # Use a loop to solve the expression step by step\n",
    "    while '(' in expression or '+' in expression or '-' in expression or '*' in expression:\n",
    "        # Solve the innermost parentheses first\n",
    "        inner_parentheses = re.findall(r'\\([^\\(\\)]*\\)', expression)\n",
    "        if inner_parentheses:\n",
    "            for ip in inner_parentheses:\n",
    "                # Evaluate the expression inside the parentheses\n",
    "                result = eval(ip)\n",
    "                expression = expression.replace(ip, str(result), 1)\n",
    "                steps.append(expression)\n",
    "        else:\n",
    "            # If no parentheses are left, solve the remaining expression\n",
    "            result = eval(expression)\n",
    "            expression = str(result)\n",
    "            steps.append(expression)\n",
    "            break\n",
    "            \n",
    "    return steps\n",
    "\n",
    "def calculate_rewards(predictions, golds=None, log=False):\n",
    "    if type(predictions)==str:\n",
    "        predictions = predictions.split(\" = \")\n",
    "    if golds is None: \n",
    "        golds = solve_expression(predictions[0])\n",
    "    if log:\n",
    "        print(predictions)\n",
    "        print(golds)\n",
    "    if type(golds)==str:\n",
    "        golds = golds.split(\" = \")\n",
    "    rewards = []\n",
    "    for pred, gold in zip(predictions, golds):\n",
    "        max_length = max(len(pred), len(gold))\n",
    "        # make reward without accounting for spaces\n",
    "        norm_edit_dist = edit_distance(pred.replace(\" \", \"\"), gold.replace(\" \", \"\")) / max_length if max_length > 0 else 0\n",
    "        reward = 1 - norm_edit_dist\n",
    "        rewards.append(reward)\n",
    "    \n",
    "    return rewards\n",
    "    \n",
    "# Example: Generate an expression with a depth of 3\n",
    "depth = 2\n",
    "expression_with_depth = generate_expression_with_depth(depth)\n",
    "solution_steps_with_depth = solve_expression(expression_with_depth)\n",
    "\n",
    "expression_with_depth, solution_steps_with_depth"
   ]
  },
  {
   "cell_type": "code",
   "execution_count": 6,
   "id": "ab858bc1-872e-4e49-b684-422450f4b76b",
   "metadata": {},
   "outputs": [],
   "source": [
    "def makesftdset(depth=2, dsetsize=50000): \n",
    "    exprs = [generate_expression_with_depth(depth) for i in range(dsetsize)]\n",
    "    steps = [' = '.join(solve_expression(e)) for e in exprs]\n",
    "    return Dataset.from_dict({'question': exprs, 'outputs':steps})"
   ]
  },
  {
   "cell_type": "code",
   "execution_count": 7,
   "id": "6010ea96-f3fe-4ea7-a4e0-78d3325ce78a",
   "metadata": {},
   "outputs": [],
   "source": [
    "# CODE TO MAKE INITIAL SFT MODELS\n",
    "# mathdata = makesftdset()\n",
    "# mathdata.save_to_disk(\"../../data/math/mathsftinitial\")"
   ]
  },
  {
   "cell_type": "code",
   "execution_count": 12,
   "id": "9c30ea62-8c7f-4bb1-b8e3-c6185d2938db",
   "metadata": {},
   "outputs": [
    {
     "name": "stderr",
     "output_type": "stream",
     "text": [
      "  0%|                                                                                                                                                                                         | 0/196 [00:00<?, ?it/s]Asking to truncate to max_length but no maximum length is provided and the model has no predefined maximum length. Default to no truncation.\n",
      "100%|███████████████████████████████████████████████████████████████████████████████████████████████████████████████████████████████████████████████████████████████████████████████| 196/196 [09:26<00:00,  2.89s/it]\n"
     ]
    }
   ],
   "source": [
    "allgens = genall(mod, mathprefdata['question'], 512)"
   ]
  },
  {
   "cell_type": "code",
   "execution_count": 17,
   "id": "c0783ccb-a402-4394-80a2-39f21ca48142",
   "metadata": {
    "scrolled": true
   },
   "outputs": [
    {
     "name": "stderr",
     "output_type": "stream",
     "text": [
      "100%|██████████████████████████████████████████████████████████████████████████████████████████████████████████████████████████████████████████████████████████████████████████| 50000/50000 [01:31<00:00, 543.88it/s]\n"
     ]
    }
   ],
   "source": [
    "prefdset = mathprefs(allgens)"
   ]
  },
  {
   "cell_type": "code",
   "execution_count": 37,
   "id": "7424b1ea-b253-40ed-9c50-7859127f08c9",
   "metadata": {},
   "outputs": [
    {
     "name": "stderr",
     "output_type": "stream",
     "text": [
      "                                                                                                                                                                                                                      \r"
     ]
    }
   ],
   "source": [
    "prefdsetc = prefdsetc.map(correct_prefs, num_proc=10)"
   ]
  },
  {
   "cell_type": "code",
   "execution_count": 45,
   "id": "d2e3e48c-329f-4ee8-9830-0f6dfee03407",
   "metadata": {},
   "outputs": [
    {
     "data": {
      "text/plain": [
       "3.1381721644525453"
      ]
     },
     "execution_count": 45,
     "metadata": {},
     "output_type": "execute_result"
    }
   ],
   "source": [
    "mean(prefdset['score_k'] + prefdset['score_j'])"
   ]
  },
  {
   "cell_type": "code",
   "execution_count": 39,
   "id": "b264d75a-238c-4f19-9e61-6a71d365c233",
   "metadata": {},
   "outputs": [
    {
     "name": "stderr",
     "output_type": "stream",
     "text": [
      "                                                                                                                                                                                                                      \r"
     ]
    }
   ],
   "source": [
    "prefdsetc.save_to_disk(\"../../data/math/mathprefdata\")"
   ]
  },
  {
   "cell_type": "code",
   "execution_count": 34,
   "id": "becd47eb-16ca-4bb8-af8c-ef7a263d91ea",
   "metadata": {},
   "outputs": [
    {
     "data": {
      "text/plain": [
       "(array([25733., 13054.,  5631.,  2225.,   930.,   857.,   851.,   451.,\n",
       "          137.,   131.]),\n",
       " array([0. , 0.5, 1. , 1.5, 2. , 2.5, 3. , 3.5, 4. , 4.5, 5. ]),\n",
       " <BarContainer object of 10 artists>)"
      ]
     },
     "execution_count": 34,
     "metadata": {},
     "output_type": "execute_result"
    },
    {
     "data": {
      "image/png": "[encoded data removed]",
      "text/plain": [
       "<Figure size 640x480 with 1 Axes>"
      ]
     },
     "metadata": {},
     "output_type": "display_data"
    }
   ],
   "source": [
    "plt.hist(prefdsetc['magnitude'])"
   ]
  },
  {
   "cell_type": "code",
   "execution_count": 36,
   "id": "4d3c5edf-aa5e-4f71-b6c9-81252cb6e679",
   "metadata": {},
   "outputs": [],
   "source": [
    "# def correct_prefs(ex):\n",
    "#     tmpjr = ex['response_j']\n",
    "#     tmpsr = ex['score_j']\n",
    "#     ex['magnitude'] = -1 * ex['magnitude']\n",
    "#     ex['response_j'] = ex['response_k']\n",
    "#     ex['score_j'] = ex['score_k']\n",
    "#     ex['response_k'] = tmpjr\n",
    "#     ex['score_k'] = tmpsr\n",
    "#     return ex\n",
    "\n",
    "def correct_prefs(ex):\n",
    "    \n",
    "    ex['response_j'] = ex['response_j'].strip()\n",
    "    ex['response_k'] = ex['response_k'].strip()\n",
    "    \n",
    "    return ex"
   ]
  },
  {
   "cell_type": "code",
   "execution_count": 15,
   "id": "f2810a0e-d02f-4b54-9a5b-d8b895cd9bd0",
   "metadata": {},
   "outputs": [],
   "source": [
    "# CODE TO MAKE PPO DATASET\n",
    "def procinps(ex):\n",
    "    ex['question'] = ex['question'] + \" = \"\n",
    "    return ex\n",
    "\n",
    "def genall(md, text_list, bs=16):\n",
    "    newgens = []\n",
    "    ntl = []\n",
    "    for t in text_list:\n",
    "        ntl.extend([t]*2)\n",
    "    for i in tqdm(range(0, len(ntl), bs)):\n",
    "        inps = tok(ntl[i:i+bs], return_tensors=\"pt\", padding=True, truncation=True).to(mod.device)\n",
    "        out = mod.generate(**inps, do_sample=True, top_p=1, max_new_tokens=100, min_new_tokens=-1)\n",
    "        newgens.extend(tok.batch_decode(out, skip_special_tokens=True))\n",
    "    return newgens\n",
    "\n",
    "def mathprefs(genlist): \n",
    "    alldata = []\n",
    "    for i in tqdm(range(0, len(genlist), 2)):\n",
    "        tmp = {\n",
    "            'question':genlist[i].split(\" = \")[0] + \" = \", \n",
    "        }\n",
    "        resps = [g[len(tmp['question']):] for g in genlist[i:i+2]]\n",
    "        scos = allmathpreds(resps)\n",
    "        jind = 0 if scos[0]>scos[1] else 0\n",
    "        tmp['response_j'] = resps[jind]\n",
    "        tmp['response_k'] = resps[1-jind]\n",
    "        tmp['score_j'] = scos[jind]\n",
    "        tmp['score_k'] = scos[1-jind]\n",
    "        tmp['magnitude'] = tmp['score_j'] - tmp['score_k']\n",
    "        alldata.append(tmp)\n",
    "    return Dataset.from_list(alldata)\n",
    "        \n",
    "    \n",
    "# ppodata = makesftdset()\n",
    "# ppodata = ppodata.map(procinps, num_proc=10)\n",
    "# ppodata.save_to_disk(\"../../data/math/mathppoinps\")"
   ]
  },
  {
   "cell_type": "code",
   "execution_count": 10,
   "id": "47fecded-0ad6-4882-95d3-030a0949ed98",
   "metadata": {},
   "outputs": [
    {
     "name": "stderr",
     "output_type": "stream",
     "text": [
      "                                                                                                                                                                                                                      \r"
     ]
    }
   ],
   "source": [
    "mathprefdata = makesftdset()\n",
    "mathprefdata = mathprefdata.map(procinps, num_proc=10)"
   ]
  },
  {
   "cell_type": "code",
   "execution_count": 11,
   "id": "4558e91b-d684-4638-b9e5-4bdb2345d896",
   "metadata": {},
   "outputs": [
    {
     "name": "stderr",
     "output_type": "stream",
     "text": [
      "/u/prasanns/miniconda3/envs/rlhfenv/lib/python3.10/site-packages/torch/_utils.py:776: UserWarning: TypedStorage is deprecated. It will be removed in the future and UntypedStorage will be the only storage class. This should only matter to you if you are using storages directly.  To access UntypedStorage directly, use tensor.untyped_storage() instead of tensor.storage()\n",
      "  return self.fget.__get__(instance, owner)()\n"
     ]
    }
   ],
   "source": [
    "# check whether this thing actually works or not\n",
    "tok = AutoTokenizer.from_pretrained(\"facebook/opt-125m\", padding_side='left')\n",
    "mod = AutoModelForCausalLM.from_pretrained(\"facebook/opt-125m\", device_map=3, torch_dtype=torch.bfloat16, attn_implementation=\"flash_attention_2\")\n",
    "mod = PeftModel.from_pretrained(mod, \"../../checkpoints/math/mathsftinitial_sft/checkpoint-1300/\")"
   ]
  },
  {
   "cell_type": "code",
   "execution_count": 12,
   "id": "b7f6301f-0dae-4516-99ad-9db4978bb96f",
   "metadata": {},
   "outputs": [],
   "source": [
    "testset = makesftdset(2, 1000)"
   ]
  },
  {
   "cell_type": "code",
   "execution_count": 63,
   "id": "1a55d1f2-38d4-49cd-a7a4-afb90f30487f",
   "metadata": {},
   "outputs": [],
   "source": [
    "def a(input, val):\n",
    "    return val"
   ]
  },
  {
   "cell_type": "code",
   "execution_count": 64,
   "id": "ca6eb2dd-a03b-4195-a1f0-56af1d915d02",
   "metadata": {},
   "outputs": [
    {
     "data": {
      "text/plain": [
       "9"
      ]
     },
     "execution_count": 64,
     "metadata": {},
     "output_type": "execute_result"
    }
   ],
   "source": [
    "tup = tuple([0])\n",
    "tup = tup + tuple([9])\n",
    "a(*tup)"
   ]
  },
  {
   "cell_type": "code",
   "execution_count": 17,
   "id": "1decbe24-c1b2-424a-a157-ca7c6eb81bd8",
   "metadata": {},
   "outputs": [],
   "source": [
    "ind = 1\n",
    "inpstr = testset['question'][ind]+\" = \"\n",
    "inps = tok(inpstr, return_tensors=\"pt\").to(mod.device)\n",
    "out = mod.generate(**inps, do_sample=True, top_p=1, max_new_tokens=100, min_new_tokens=-1, num_return_sequences=2)\n",
    "# print(tok.batch_decode(out, skip_special_tokens=True)[0])\n",
    "out = tok.batch_decode(out, skip_special_tokens=True)[0]\n",
    "# print(testset['outputs'][ind])\n",
    "# print(out)\n",
    "# print(calculate_rewards(out, None, True))\n",
    "# einstein_reward(out, stmp[0]['sol_rows'], True)"
   ]
  },
  {
   "cell_type": "code",
   "execution_count": 19,
   "id": "6a6cf5fa-4b9d-4402-95f1-2f04b7576be6",
   "metadata": {},
   "outputs": [
    {
     "data": {
      "text/plain": [
       "254"
      ]
     },
     "execution_count": 19,
     "metadata": {},
     "output_type": "execute_result"
    }
   ],
   "source": [
    "len(out)"
   ]
  },
  {
   "cell_type": "code",
   "execution_count": 38,
   "id": "4d766d27-fe92-44d3-b653-5b2ac11f59b6",
   "metadata": {},
   "outputs": [
    {
     "data": {
      "text/plain": [
       "[1.0, 0.7647058823529411, 0.6363636363636364, 0.6666666666666667]"
      ]
     },
     "execution_count": 38,
     "metadata": {},
     "output_type": "execute_result"
    }
   ],
   "source": [
    "# Example usage\n",
    "predictions = [\"((3 + 4) - (1 * 8)) * 1\", \"(7 - (1 * 8)) * 1\", \"(7 - 8) * 1\", \"-1 * 1\"]\n",
    "golds = [\"((3 + 4) - (1 * 8)) * 1\", \"(7 - 8) * 1\", \"-1 * 1\", \"-1\"]\n",
    "rewards = calculate_rewards(predictions, golds)\n",
    "\n",
    "rewards"
   ]
  },
  {
   "cell_type": "code",
   "execution_count": 76,
   "id": "a10a8afd-72c4-41ef-9380-2d24db9c7488",
   "metadata": {},
   "outputs": [],
   "source": [
    "def a(inp):\n",
    "    print(inp)"
   ]
  },
  {
   "cell_type": "code",
   "execution_count": 70,
   "id": "a2a1cd2e-351d-48a9-9e7f-8c24938a23a0",
   "metadata": {},
   "outputs": [],
   "source": [
    "from rlhfutils.rewards import allmathpreds"
   ]
  },
  {
   "cell_type": "code",
   "execution_count": 83,
   "id": "e59fdb48-ab5b-4172-a627-62b9bae97add",
   "metadata": {},
   "outputs": [],
   "source": [
    "ts = [\"((4)+1) = (4+1) = 4\"]\n",
    "inps = tuple([ts])"
   ]
  },
  {
   "cell_type": "code",
   "execution_count": 84,
   "id": "262ed81e-5985-49bd-a124-469bfead84cf",
   "metadata": {},
   "outputs": [
    {
     "data": {
      "text/plain": [
       "[2.5]"
      ]
     },
     "execution_count": 84,
     "metadata": {},
     "output_type": "execute_result"
    }
   ],
   "source": [
    "allmathpreds(*inps)"
   ]
  },
  {
   "cell_type": "code",
   "execution_count": null,
   "id": "3bce7f98-01da-40f4-b5b9-8d3c34bd7ac5",
   "metadata": {},
   "outputs": [],
   "source": []
  }
 ],
 "metadata": {
  "kernelspec": {
   "display_name": "Python 3 (ipykernel)",
   "language": "python",
   "name": "python3"
  },
  "language_info": {
   "codemirror_mode": {
    "name": "ipython",
    "version": 3
   },
   "file_extension": ".py",
   "mimetype": "text/x-python",
   "name": "python",
   "nbconvert_exporter": "python",
   "pygments_lexer": "ipython3",
   "version": "3.10.0"
  }
 },
 "nbformat": 4,
 "nbformat_minor": 5
}
