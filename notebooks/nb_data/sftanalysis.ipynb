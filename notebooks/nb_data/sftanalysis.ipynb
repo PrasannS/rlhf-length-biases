{
 "cells": [
  {
   "cell_type": "code",
   "execution_count": 8,
   "id": "72d4695c-450c-4986-8ef8-5f97c90033cb",
   "metadata": {},
   "outputs": [],
   "source": [
    "import pandas as pd\n",
    "from datasets import Dataset\n",
    "from rlhfutils.dataproc import reverse_labels\n",
    "import matplotlib.pyplot as plt\n",
    "from transformers import AutoConfig, AutoModelForSequenceClassification\n",
    "import torch"
   ]
  },
  {
   "cell_type": "code",
   "execution_count": 2,
   "id": "16f42a6e-95d8-49c3-9c0e-82093b5fec1c",
   "metadata": {},
   "outputs": [],
   "source": [
    "%load_ext autoreload\n",
    "%autoreload 2"
   ]
  },
  {
   "cell_type": "code",
   "execution_count": 3,
   "id": "d356033e-4451-4bd5-b071-11de5e08c850",
   "metadata": {},
   "outputs": [
    {
     "name": "stderr",
     "output_type": "stream",
     "text": [
      "Loading cached processed dataset at /scratch/cluster/prasanns/research/rlhf-length-biases/data/nouns/dponounsynth/cache-20300e4d34038400_*_of_00010.arrow\n",
      "Loading cached processed dataset at /scratch/cluster/prasanns/research/rlhf-length-biases/data/contrastivedistill/contoptprefs/cache-dea4ebd1c72b4a18_*_of_00010.arrow\n"
     ]
    }
   ],
   "source": [
    "# reverse noun task, also contrastive distill\n",
    "nounrev = reverse_labels(Dataset.load_from_disk(\"../../data/nouns/dponounsynth/\"))\n",
    "contdistrev = reverse_labels(Dataset.load_from_disk(\"../../data/contrastivedistill/contoptprefs/\"))\n",
    "\n",
    "# nounrev.save_to_disk(\"../../data/nouns/nouns_revlabel/\")\n",
    "# contdistrev.save_to_disk(\"../../data/contrastivedistill/contoptrevlabel/\")"
   ]
  },
  {
   "cell_type": "code",
   "execution_count": 14,
   "id": "c808d145-732b-4044-9a35-45ac33d7e296",
   "metadata": {},
   "outputs": [],
   "source": [
    "cfg = AutoConfig.from_pretrained('facebook/opt-125m')\n",
    "cfg.num_labels=1"
   ]
  },
  {
   "cell_type": "code",
   "execution_count": 15,
   "id": "7b111de6-6b2d-424f-99f3-1e6a402d35d8",
   "metadata": {},
   "outputs": [],
   "source": [
    "mod = AutoModelForSequenceClassification.from_config(cfg)"
   ]
  },
  {
   "cell_type": "code",
   "execution_count": 16,
   "id": "528f77e9-5508-483e-898b-ab9f993ddc56",
   "metadata": {},
   "outputs": [
    {
     "data": {
      "text/plain": [
       "OPTForSequenceClassification(\n",
       "  (model): OPTModel(\n",
       "    (decoder): OPTDecoder(\n",
       "      (embed_tokens): Embedding(50272, 768, padding_idx=1)\n",
       "      (embed_positions): OPTLearnedPositionalEmbedding(2050, 768)\n",
       "      (final_layer_norm): LayerNorm((768,), eps=1e-05, elementwise_affine=True)\n",
       "      (layers): ModuleList(\n",
       "        (0-11): 12 x OPTDecoderLayer(\n",
       "          (self_attn): OPTAttention(\n",
       "            (k_proj): Linear(in_features=768, out_features=768, bias=True)\n",
       "            (v_proj): Linear(in_features=768, out_features=768, bias=True)\n",
       "            (q_proj): Linear(in_features=768, out_features=768, bias=True)\n",
       "            (out_proj): Linear(in_features=768, out_features=768, bias=True)\n",
       "          )\n",
       "          (activation_fn): ReLU()\n",
       "          (self_attn_layer_norm): LayerNorm((768,), eps=1e-05, elementwise_affine=True)\n",
       "          (fc1): Linear(in_features=768, out_features=3072, bias=True)\n",
       "          (fc2): Linear(in_features=3072, out_features=768, bias=True)\n",
       "          (final_layer_norm): LayerNorm((768,), eps=1e-05, elementwise_affine=True)\n",
       "        )\n",
       "      )\n",
       "    )\n",
       "  )\n",
       "  (score): Linear(in_features=768, out_features=1, bias=False)\n",
       ")"
      ]
     },
     "execution_count": 16,
     "metadata": {},
     "output_type": "execute_result"
    }
   ],
   "source": [
    "mod"
   ]
  },
  {
   "cell_type": "code",
   "execution_count": null,
   "id": "5e667383-4f35-4c6e-a30c-3b19963937b0",
   "metadata": {},
   "outputs": [],
   "source": []
  }
 ],
 "metadata": {
  "kernelspec": {
   "display_name": "Python 3 (ipykernel)",
   "language": "python",
   "name": "python3"
  },
  "language_info": {
   "codemirror_mode": {
    "name": "ipython",
    "version": 3
   },
   "file_extension": ".py",
   "mimetype": "text/x-python",
   "name": "python",
   "nbconvert_exporter": "python",
   "pygments_lexer": "ipython3",
   "version": "3.10.0"
  }
 },
 "nbformat": 4,
 "nbformat_minor": 5
}
