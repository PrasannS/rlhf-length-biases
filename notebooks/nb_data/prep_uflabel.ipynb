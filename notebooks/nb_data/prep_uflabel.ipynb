{
 "cells": [
  {
   "cell_type": "code",
   "execution_count": 1,
   "id": "ea8b7bd2-fcbe-4639-ba8f-3e5ecc2bc385",
   "metadata": {},
   "outputs": [
    {
     "name": "stderr",
     "output_type": "stream",
     "text": [
      "/u/prasanns/miniconda3/envs/rlhfenv/lib/python3.10/site-packages/tqdm/auto.py:21: TqdmWarning: IProgress not found. Please update jupyter and ipywidgets. See https://ipywidgets.readthedocs.io/en/stable/user_install.html\n",
      "  from .autonotebook import tqdm as notebook_tqdm\n"
     ]
    },
    {
     "name": "stdout",
     "output_type": "stream",
     "text": [
      "[2024-02-06 06:11:35,988] [INFO] [real_accelerator.py:110:get_accelerator] Setting ds_accelerator to cuda (auto detect)\n"
     ]
    },
    {
     "name": "stderr",
     "output_type": "stream",
     "text": [
      "/u/prasanns/miniconda3/envs/rlhfenv/lib/python3.10/site-packages/trl/trainer/ppo_config.py:142: UserWarning: The `optimize_cuda_cache` argument will be deprecated soon, please use `optimize_device_cache` instead.\n",
      "  warnings.warn(\n"
     ]
    }
   ],
   "source": [
    "import pandas as pd\n",
    "import os\n",
    "from rlhfutils.eval_utils import getapfsft\n",
    "from statistics import mean, stdev"
   ]
  },
  {
   "cell_type": "code",
   "execution_count": 2,
   "id": "9d0cce58-867b-418c-b782-228c5f63f313",
   "metadata": {},
   "outputs": [],
   "source": [
    "def respdict(indf):\n",
    "    resdicts = []\n",
    "    for ind, row in indf.iterrows():\n",
    "        #print(row)\n",
    "        tmp = {'completions':[]}\n",
    "        \n",
    "        nona = True\n",
    "        if len(row['response'])==4:\n",
    "            for r in range(4):\n",
    "                inp, outtmp = getapfsft(row['response'][r])\n",
    "                tmp['completions'].append({'response':outtmp})\n",
    "                nona = nona and (outtmp!=None)\n",
    "        else: \n",
    "            inp, outtmp = getapfsft(row['response'])\n",
    "            tmp['completions'].append({'response':outtmp})\n",
    "            nona = nona and (outtmp!=None)\n",
    "        if nona: \n",
    "            tmp['instruction'] = inp\n",
    "            resdicts.append(tmp)\n",
    "    return pd.DataFrame(resdicts)"
   ]
  },
  {
   "cell_type": "code",
   "execution_count": 4,
   "id": "a03b23c0-06c1-4b7d-90ad-f41d0d8b883b",
   "metadata": {},
   "outputs": [
    {
     "data": {
      "text/html": [
       "<div>\n",
       "<style scoped>\n",
       "    .dataframe tbody tr th:only-of-type {\n",
       "        vertical-align: middle;\n",
       "    }\n",
       "\n",
       "    .dataframe tbody tr th {\n",
       "        vertical-align: top;\n",
       "    }\n",
       "\n",
       "    .dataframe thead th {\n",
       "        text-align: right;\n",
       "    }\n",
       "</style>\n",
       "<table border=\"1\" class=\"dataframe\">\n",
       "  <thead>\n",
       "    <tr style=\"text-align: right;\">\n",
       "      <th></th>\n",
       "      <th>completions</th>\n",
       "      <th>instruction</th>\n",
       "    </tr>\n",
       "  </thead>\n",
       "  <tbody>\n",
       "    <tr>\n",
       "      <th>0</th>\n",
       "      <td>[{'response': 'To make this recipe vegan, repl...</td>\n",
       "      <td>can you make the following recipe vegan?\\n\\nIn...</td>\n",
       "    </tr>\n",
       "    <tr>\n",
       "      <th>1</th>\n",
       "      <td>[{'response': 'What was the time frame where B...</td>\n",
       "      <td>Detailed Instructions: In this task, based on ...</td>\n",
       "    </tr>\n",
       "    <tr>\n",
       "      <th>2</th>\n",
       "      <td>[{'response': 'Sure! I am ready to receive inf...</td>\n",
       "      <td>hi, iam going to provide you with a series of ...</td>\n",
       "    </tr>\n",
       "    <tr>\n",
       "      <th>3</th>\n",
       "      <td>[{'response': 'There are several ways you can ...</td>\n",
       "      <td>How would I connect AI or ML API’s to an SQL d...</td>\n",
       "    </tr>\n",
       "    <tr>\n",
       "      <th>4</th>\n",
       "      <td>[{'response': '\"Don't Make Me Think: A Common ...</td>\n",
       "      <td>아래 책 내용 요약해줘 \\n- 제목 : Don't Make Me Think\\n- 저...</td>\n",
       "    </tr>\n",
       "    <tr>\n",
       "      <th>...</th>\n",
       "      <td>...</td>\n",
       "      <td>...</td>\n",
       "    </tr>\n",
       "    <tr>\n",
       "      <th>193</th>\n",
       "      <td>[{'response': 'SpongeBob SquarePants first air...</td>\n",
       "      <td>Definition: Given a question and its paraphras...</td>\n",
       "    </tr>\n",
       "    <tr>\n",
       "      <th>194</th>\n",
       "      <td>[{'response': 'To catch the browser back butto...</td>\n",
       "      <td>how to catch browser back button event in vue js?</td>\n",
       "    </tr>\n",
       "    <tr>\n",
       "      <th>195</th>\n",
       "      <td>[{'response': 'A street cannot kick anything a...</td>\n",
       "      <td>[TEACHER] Which of the following sentences is ...</td>\n",
       "    </tr>\n",
       "    <tr>\n",
       "      <th>196</th>\n",
       "      <td>[{'response': 'Yes, you can use `v.ParentName`...</td>\n",
       "      <td>can i do v.ParentName in luau?</td>\n",
       "    </tr>\n",
       "    <tr>\n",
       "      <th>197</th>\n",
       "      <td>[{'response': 'Contradiction'}]</td>\n",
       "      <td>You will be given a definition of a task first...</td>\n",
       "    </tr>\n",
       "  </tbody>\n",
       "</table>\n",
       "<p>198 rows × 2 columns</p>\n",
       "</div>"
      ],
      "text/plain": [
       "                                           completions  \\\n",
       "0    [{'response': 'To make this recipe vegan, repl...   \n",
       "1    [{'response': 'What was the time frame where B...   \n",
       "2    [{'response': 'Sure! I am ready to receive inf...   \n",
       "3    [{'response': 'There are several ways you can ...   \n",
       "4    [{'response': '\"Don't Make Me Think: A Common ...   \n",
       "..                                                 ...   \n",
       "193  [{'response': 'SpongeBob SquarePants first air...   \n",
       "194  [{'response': 'To catch the browser back butto...   \n",
       "195  [{'response': 'A street cannot kick anything a...   \n",
       "196  [{'response': 'Yes, you can use `v.ParentName`...   \n",
       "197                    [{'response': 'Contradiction'}]   \n",
       "\n",
       "                                           instruction  \n",
       "0    can you make the following recipe vegan?\\n\\nIn...  \n",
       "1    Detailed Instructions: In this task, based on ...  \n",
       "2    hi, iam going to provide you with a series of ...  \n",
       "3    How would I connect AI or ML API’s to an SQL d...  \n",
       "4    아래 책 내용 요약해줘 \\n- 제목 : Don't Make Me Think\\n- 저...  \n",
       "..                                                 ...  \n",
       "193  Definition: Given a question and its paraphras...  \n",
       "194  how to catch browser back button event in vue js?  \n",
       "195  [TEACHER] Which of the following sentences is ...  \n",
       "196                     can i do v.ParentName in luau?  \n",
       "197  You will be given a definition of a task first...  \n",
       "\n",
       "[198 rows x 2 columns]"
      ]
     },
     "execution_count": 4,
     "metadata": {},
     "output_type": "execute_result"
    }
   ],
   "source": [
    "respdict(pd.read_json(\"../../outputs/ultrageneralization/50rmdpoplus450.jsonl\", orient='records', lines=True))"
   ]
  },
  {
   "cell_type": "code",
   "execution_count": 5,
   "id": "2409ceed-3fad-4b11-ae64-9019eeb137cc",
   "metadata": {},
   "outputs": [
    {
     "data": {
      "text/html": [
       "<div>\n",
       "<style scoped>\n",
       "    .dataframe tbody tr th:only-of-type {\n",
       "        vertical-align: middle;\n",
       "    }\n",
       "\n",
       "    .dataframe tbody tr th {\n",
       "        vertical-align: top;\n",
       "    }\n",
       "\n",
       "    .dataframe thead th {\n",
       "        text-align: right;\n",
       "    }\n",
       "</style>\n",
       "<table border=\"1\" class=\"dataframe\">\n",
       "  <thead>\n",
       "    <tr style=\"text-align: right;\">\n",
       "      <th></th>\n",
       "      <th>completions</th>\n",
       "      <th>instruction</th>\n",
       "    </tr>\n",
       "  </thead>\n",
       "  <tbody>\n",
       "    <tr>\n",
       "      <th>0</th>\n",
       "      <td>[{'response': 'To make this recipe vegan, simp...</td>\n",
       "      <td>can you make the following recipe vegan?\\n\\nIn...</td>\n",
       "    </tr>\n",
       "    <tr>\n",
       "      <th>1</th>\n",
       "      <td>[{'response': 'When was baileys three year spa...</td>\n",
       "      <td>Detailed Instructions: In this task, based on ...</td>\n",
       "    </tr>\n",
       "    <tr>\n",
       "      <th>2</th>\n",
       "      <td>[{'response': 'Hello! I understand that you ha...</td>\n",
       "      <td>hi, iam going to provide you with a series of ...</td>\n",
       "    </tr>\n",
       "    <tr>\n",
       "      <th>3</th>\n",
       "      <td>[{'response': 'To connect your AI/ML API with ...</td>\n",
       "      <td>How would I connect AI or ML API’s to an SQL d...</td>\n",
       "    </tr>\n",
       "    <tr>\n",
       "      <th>4</th>\n",
       "      <td>[{'response': '\"Don't Make Me Think\" is a book...</td>\n",
       "      <td>아래 책 내용 요약해줘 \\n- 제목 : Don't Make Me Think\\n- 저...</td>\n",
       "    </tr>\n",
       "    <tr>\n",
       "      <th>...</th>\n",
       "      <td>...</td>\n",
       "      <td>...</td>\n",
       "    </tr>\n",
       "    <tr>\n",
       "      <th>193</th>\n",
       "      <td>[{'response': 'The SpongeBob SquarePants telev...</td>\n",
       "      <td>Definition: Given a question and its paraphras...</td>\n",
       "    </tr>\n",
       "    <tr>\n",
       "      <th>194</th>\n",
       "      <td>[{'response': 'In Vue.js, you can use the `bef...</td>\n",
       "      <td>how to catch browser back button event in vue js?</td>\n",
       "    </tr>\n",
       "    <tr>\n",
       "      <th>195</th>\n",
       "      <td>[{'response': 'A street can't kick anything as...</td>\n",
       "      <td>[TEACHER] Which of the following sentences is ...</td>\n",
       "    </tr>\n",
       "    <tr>\n",
       "      <th>196</th>\n",
       "      <td>[{'response': 'In Luau, you can use `v[1]` to ...</td>\n",
       "      <td>can i do v.ParentName in luau?</td>\n",
       "    </tr>\n",
       "    <tr>\n",
       "      <th>197</th>\n",
       "      <td>[{'response': 'Contradiction'}]</td>\n",
       "      <td>You will be given a definition of a task first...</td>\n",
       "    </tr>\n",
       "  </tbody>\n",
       "</table>\n",
       "<p>198 rows × 2 columns</p>\n",
       "</div>"
      ],
      "text/plain": [
       "                                           completions  \\\n",
       "0    [{'response': 'To make this recipe vegan, simp...   \n",
       "1    [{'response': 'When was baileys three year spa...   \n",
       "2    [{'response': 'Hello! I understand that you ha...   \n",
       "3    [{'response': 'To connect your AI/ML API with ...   \n",
       "4    [{'response': '\"Don't Make Me Think\" is a book...   \n",
       "..                                                 ...   \n",
       "193  [{'response': 'The SpongeBob SquarePants telev...   \n",
       "194  [{'response': 'In Vue.js, you can use the `bef...   \n",
       "195  [{'response': 'A street can't kick anything as...   \n",
       "196  [{'response': 'In Luau, you can use `v[1]` to ...   \n",
       "197                    [{'response': 'Contradiction'}]   \n",
       "\n",
       "                                           instruction  \n",
       "0    can you make the following recipe vegan?\\n\\nIn...  \n",
       "1    Detailed Instructions: In this task, based on ...  \n",
       "2    hi, iam going to provide you with a series of ...  \n",
       "3    How would I connect AI or ML API’s to an SQL d...  \n",
       "4    아래 책 내용 요약해줘 \\n- 제목 : Don't Make Me Think\\n- 저...  \n",
       "..                                                 ...  \n",
       "193  Definition: Given a question and its paraphras...  \n",
       "194  how to catch browser back button event in vue js?  \n",
       "195  [TEACHER] Which of the following sentences is ...  \n",
       "196                     can i do v.ParentName in luau?  \n",
       "197  You will be given a definition of a task first...  \n",
       "\n",
       "[198 rows x 2 columns]"
      ]
     },
     "execution_count": 5,
     "metadata": {},
     "output_type": "execute_result"
    }
   ],
   "source": [
    "respdict(pd.read_json(\"../../outputs/ultrageneralization/dpo44tulu4000.jsonl\", orient='records', lines=True))"
   ]
  },
  {
   "cell_type": "code",
   "execution_count": 3,
   "id": "46e70387-a14d-4611-b618-7f7919095381",
   "metadata": {},
   "outputs": [],
   "source": [
    "# filenames = {\n",
    "#     '../../outputs/ultragen/generated_ultraorig.jsonl': 'ultraorig',\n",
    "#     '../../outputs/ultragen/generated_ultra25.jsonl': 'u25',\n",
    "#     '../../outputs/ultragen/generated_ultra50.jsonl': 'u50',\n",
    "#     '../../outputs/ultragen/generated_ultra75.jsonl': 'u75',\n",
    "#     '../../outputs/ultragen/generated_ultra100.jsonl': 'u100',\n",
    "#     '../../outputs/ultragen/generated_ultra200.jsonl': 'u200',\n",
    "#     '../../outputs/ultragen/generated_ultra400.jsonl': 'u400',\n",
    "#     '../../outputs/ultragen/generated_ultra750.jsonl': 'u750',\n",
    "#     '../../outputs/ultragen/generated_ultra975.jsonl': 'u975',\n",
    "# }\n",
    "filenames = {\n",
    "    '../../outputs/ultrageneralization/50rmdpoplus450.jsonl': 'u50_dpop450',\n",
    "    '../../outputs/ultrageneralization/smalldistrrmdpoplus450.jsonl': 'usd_dpop450',\n",
    "    '../../outputs/ultrageneralization/sfttulu.jsonl': 'tulusft',\n",
    "    '../../outputs/ultrageneralization/dpo44tulu4000.jsonl': 'u44_dpotulu'\n",
    "}"
   ]
  },
  {
   "cell_type": "code",
   "execution_count": 7,
   "id": "5b120299-c7a9-4bf6-aef6-7c1eee75517c",
   "metadata": {},
   "outputs": [],
   "source": [
    "# # process outputs in prep for ultrafeedback rating usage\n",
    "# for f in filenames.keys():\n",
    "#     outfile = pd.read_json(f, orient='records', lines=True)\n",
    "#     processed = respdict(outfile)\n",
    "#     processed.iloc[:100].to_json('../../data/ultraeval_processed/'+filenames[f]+\".jsonl\", orient='records', lines=True)"
   ]
  },
  {
   "cell_type": "code",
   "execution_count": 4,
   "id": "d1b9e05e-ceb9-4370-8f7d-1c2ec41689f6",
   "metadata": {},
   "outputs": [],
   "source": [
    "adf = {}\n",
    "# checking values for stuff\n",
    "for f in filenames.keys():\n",
    "    outfile = pd.read_json(f, orient='records', lines=True)\n",
    "    processed = respdict(outfile)\n",
    "    adf[filenames[f]] = processed.iloc[:100]"
   ]
  },
  {
   "cell_type": "code",
   "execution_count": 9,
   "id": "b46f83c3-90af-4e3d-a798-3b1507d1f831",
   "metadata": {},
   "outputs": [
    {
     "data": {
      "text/plain": [
       "'can you make the following recipe vegan?\\n\\nIngredients\\n4 - 6 Servings\\n1lb. short pasta (such as rigatoni, penne, or conchiglie)\\nKosher salt\\n¼\\n\\ncup extra-virgin olive oil\\n3\\n\\nlarge leeks (about 1½ lb.), white and pale green parts only, trimmed, sliced ½\" thick\\n15\\n\\noil-packed anchovies, drained (from a 1.5-oz. tin)\\n6\\n\\ngarlic cloves, thinly sliced\\n1\\n\\ntsp. mild red pepper flakes or ½ tsp. crushed red pepper flakes\\nFreshly ground black pepper\\n2\\n\\ncups heavy cream\\n3\\n\\noz. Parmesan, finely grated, plus more for serving\\n1\\n\\n10-oz. bag frozen baby peas, thawed in warm water, drained\\nPreparation\\nStep 1\\nPreheat oven to 400°. Cook pasta in a large pot of boiling salted water, stirring occasionally, until very al dente, about 2 minutes less than package directions. Drain and set aside.\\n\\nStep 2\\nMeanwhile, heat oil in a large Dutch oven or large high-sided skillet over medium. Add leeks; season with a couple pinches of salt. Cover and cook, stirring occasionally, until tender and golden around the edges, 6–8 minutes. Uncover and add anchovies, garlic, red pepper flakes, and several grinds of black pepper. Cook, stirring occasionally, until anchovies are disintegrated and garlic is tender, about 5 minutes.\\n\\nStep 3\\nAdd cream and 3 oz. Parmesan. Bring to a simmer; season with salt and black pepper (it should taste a bit salty because the pasta will absorb some seasoning as it bakes). Add peas and reserved pasta and toss gently to coat; top with more Parmesan. Transfer pasta to oven; bake until top is crisp and cream is bubbling around the edges, 25–30 minutes. Let cool slightly before serving.'"
      ]
     },
     "execution_count": 9,
     "metadata": {},
     "output_type": "execute_result"
    }
   ],
   "source": [
    "adf[ks[0]].iloc[0]['instruction']"
   ]
  },
  {
   "cell_type": "code",
   "execution_count": 12,
   "id": "5b5b8d85-c924-44ec-8ed8-07106a3dedf1",
   "metadata": {},
   "outputs": [],
   "source": [
    "newdf = []\n",
    "ks = list(adf.keys())\n",
    "for i in range(len(adf['u50_dpop450'])): \n",
    "    tmp = {\n",
    "        'completions':[],\n",
    "        'instruction':adf['u50_dpop450']['instruction'].iloc[i]\n",
    "    }\n",
    "    for k in ks:\n",
    "        tmp['completions'].extend(adf[k]['completions'].iloc[i])\n",
    "        assert adf[k]['instruction'].iloc[i] == tmp['instruction']\n",
    "    newdf.append(tmp)"
   ]
  },
  {
   "cell_type": "code",
   "execution_count": 14,
   "id": "e28f45e7-f934-43ae-9154-e9cad79635b1",
   "metadata": {},
   "outputs": [],
   "source": [
    "newdf = pd.DataFrame(newdf)"
   ]
  },
  {
   "cell_type": "code",
   "execution_count": 15,
   "id": "0dad3407-b2f8-488f-80ac-f343e45ea605",
   "metadata": {},
   "outputs": [],
   "source": [
    "newdf.to_json('../../data/ultraeval_processed/'+\"generalizationtest\"+\".jsonl\", orient='records', lines=True)"
   ]
  },
  {
   "cell_type": "code",
   "execution_count": 37,
   "id": "cbb343d8-257e-42dd-b94b-f4d698696598",
   "metadata": {},
   "outputs": [
    {
     "name": "stdout",
     "output_type": "stream",
     "text": [
      "['u50_dpop450', 'usd_dpop450', 'tulusft', 'u44_dpotulu']\n"
     ]
    }
   ],
   "source": [
    "print(ks)"
   ]
  },
  {
   "cell_type": "code",
   "execution_count": 51,
   "id": "8989b312-dfee-4a00-a3ea-03429a6ac7ff",
   "metadata": {},
   "outputs": [],
   "source": [
    "processed.loc[:2].to_json('../../data/ultraeval_processed/'+\"minitest\"+\".jsonl\", orient='records', lines=True)"
   ]
  },
  {
   "cell_type": "code",
   "execution_count": 5,
   "id": "86adda55-376e-419a-94cd-b2474ee5bde3",
   "metadata": {},
   "outputs": [
    {
     "name": "stdout",
     "output_type": "stream",
     "text": [
      "Teacher: In this task you need to give wrong reasons to justify the pronoun coreference relations. Each of the provided inputs contains a sentence with a target pronoun and and a question about how to justify the coreference between a noun phrase and the target pronoun. Good practices involve (1) writing a sentence that gives no reason but relates to the content (e.g., mention the noun phrases that appear in the original sentence); (2) writing a reason that does not justify the relation to the correct noun phrases but another wrong ones.\n",
      "Teacher: Now, understand the problem? If you are still confused, see the following example:\n",
      "Sentence: The city councilmen refused the demonstrators a permit because they feared violence. \n",
      " Question: Why does the 'they' refer to the city councilmen?\n",
      "Solution: Because of the city's history of racial discrimination.\n",
      "Reason: This is a wrong reason since the reason is descibing issue that does not relates to who will fear the violence.\n",
      "\n",
      "Now, solve this instance: Sentence: Sam took French classes from Adam, because he was eager to speak it fluently.\n",
      " Question: Why does the 'he' refer to sam?\n",
      "Student:\n",
      "{'response': 'BecauseSam had signed up for French classes at his school; which happened to be taught by Adam as well.\\nReason:This answer providesa plausible explanationfor why \"he\" could referto Sam. It explains th...\\nThat said,the relationshipbetween the two should be further clarifiedby providing more informationon what type of classSam was taking,who else may have takenclasses withAdam, etc. By doing so, we can betterunderstand why“he” mightreffer to Sam. \\nAnother potential answermay be: He (i.e., Sam) chose to takeFrench classeswith Adam because he feltthat Adam wouldbe able to providehim w...th ...excellen...teffort in teaching him French. \\nIn addition, Sam mayhave been awareof someofthe same...cities whereAdams...taught Frenchclas...es beforechoosinghim ashis teacher. So,he wanted tomeet someone whowould be familiarwit...h localeand culture. \\nIt should also be notedthat this answerdoesn’t necessarily indicatewhy “he” refers toSam rather than any other student(s). Therefore,additionalinformationshould'}\n"
     ]
    }
   ],
   "source": [
    "ind = 20\n",
    "print(processed.loc[ind]['instruction'])\n",
    "print(processed.loc[ind]['completions'][0])"
   ]
  },
  {
   "cell_type": "code",
   "execution_count": 22,
   "id": "ec17a863-8d35-4ab0-820f-49963c0f4476",
   "metadata": {},
   "outputs": [],
   "source": [
    "import os\n",
    "from rlhfutils.eval_utils import proctmp, count_words"
   ]
  },
  {
   "cell_type": "code",
   "execution_count": 23,
   "id": "194ed1e2-5f23-4811-9c12-dd20fd286dff",
   "metadata": {},
   "outputs": [],
   "source": [
    "def tulu_to_qa(resps):\n",
    "    qlist = []\n",
    "    rlist = []\n",
    "    for r in resps:\n",
    "        tmp = r[7:]\n",
    "        q, a = tmp.split(\"\\n<assistant>\\n\")\n",
    "        qlist.append(q)\n",
    "        rlist.append(a)\n",
    "    return qlist, rlist\n",
    "\n",
    "def load_alldfs(base=\"use_outs/\", limit=100, matching=True):\n",
    "    alldfs = {}\n",
    "    for f in os.listdir(base):\n",
    "        print(f)\n",
    "        if \".jsonl\" in f:\n",
    "            tmp = pd.read_json(base+f, lines=True, orient='records')\n",
    "            tmp = proctmp(tmp)\n",
    "            if \"<s>\" in tmp['response'][0]:\n",
    "                tmp['response'] = [reconvert(r) for r in tmp['response']]\n",
    "                tmp['question'] = [reconvert(r) for r in tmp['question']]\n",
    "            if \"### Instruction\" in tmp['response'][0]:\n",
    "                resps = [getapfsft(r)[1] for r in tmp['response']]\n",
    "                qs = [getapfsft(r)[0] for r in tmp['response']]\n",
    "                tmp['response'] = resps\n",
    "                tmp['question'] = qs\n",
    "            if \"<user>\" in tmp['response'][0]:\n",
    "                qs, resps = tulu_to_qa(tmp['response'])\n",
    "                tmp['question'] = qs\n",
    "                tmp['response'] = resps\n",
    "            if \"Continue the conversation:\\n\\n\" in tmp['question'][0]:\n",
    "                print('here')\n",
    "                tmp['question'] = [s.replace(\"Continue the conversation:\\n\\n\", \"\") for s in tmp['question']]\n",
    "            if \"Question:\" in tmp['response'][0]:\n",
    "                tmp['response'] = [r[len(q):] for r, q in zip(tmp['response'], tmp['question'])]\n",
    "            if \"Question:\" in tmp['question'][0]:\n",
    "                tmp['question'] = [s[len(\"Question: \"):-1*len(\"\\n\\nAnswer: \")] for s in tmp['question']]\n",
    "            # constrain to only 200 examples for everything\n",
    "            #tmp = tmp.loc[:199]\n",
    "            tmp = tmp.dropna()\n",
    "            tmp['wcnt'] = count_words(tmp, \"question\")\n",
    "            tmp['rcnt'] = count_words(tmp, \"response\")\n",
    "            #tmp = tmp[tmp['wcnts']<200].reset_index()\n",
    "            #tmp = tmp[tmp['rcnts']<200].reset_index()\n",
    "            alldfs[f.replace(\"generated_\", \"\").replace(\".jsonl\", \"\")] = tmp\n",
    "    \n",
    "    valid_indices_sets = []\n",
    "    if matching:\n",
    "        for df_key in alldfs:\n",
    "            if df_key==\"davinciwebgpt\":\n",
    "                continue\n",
    "            df = alldfs[df_key]\n",
    "            valid_indices_for_df = set(df[(df['wcnt'] < 1000) & (df['rcnt'] < 1000)].index)\n",
    "            valid_indices_sets.append(valid_indices_for_df)\n",
    "        \n",
    "        # Step 2: Find intersection of all sets to get indices valid across all dataframes\n",
    "        common_valid_indices = set.intersection(*valid_indices_sets)\n",
    "        \n",
    "        # Step 3: Filter each dataframe using the common valid indices\n",
    "        for df_key in alldfs:\n",
    "            if df_key==\"davinciwebgpt\":\n",
    "                continue\n",
    "            alldfs[df_key] = alldfs[df_key].loc[list(common_valid_indices)].reset_index(drop=True)\n",
    "            alldfs[df_key] = alldfs[df_key].sort_values(by='question').reset_index(drop=True)\n",
    "            alldfs[df_key] = alldfs[df_key].loc[:limit]\n",
    "    #alldfs['davinci']=pd.read_json(\"../outputs/ckpt_generations/generated_davinci.jsonother\", lines=True, orient='records')\n",
    "    #alldfs['davinci'] = alldfs['davinci'].sort_values(by='question').reset_index(drop=True)\n",
    "    return alldfs"
   ]
  },
  {
   "cell_type": "code",
   "execution_count": 24,
   "id": "73395f1f-f0c4-43ba-912a-411b5933257b",
   "metadata": {},
   "outputs": [],
   "source": [
    "tdf = pd.read_json(\"../../outputs/policydpocheck/dpobase.jsonl\", orient='records', lines=True)"
   ]
  },
  {
   "cell_type": "code",
   "execution_count": 31,
   "id": "f6e224ac-5d39-4c9e-85a2-3e716e94d268",
   "metadata": {},
   "outputs": [
    {
     "name": "stdout",
     "output_type": "stream",
     "text": [
      "dpofollowppo.jsonl\n",
      "sftbase.jsonl\n",
      "dpobase.jsonl\n"
     ]
    }
   ],
   "source": [
    "adfs = load_alldfs(\"../../outputs/policydpocheck/\", 200)"
   ]
  },
  {
   "cell_type": "code",
   "execution_count": 33,
   "id": "a155cc98-3f5e-445d-8c65-a68db8c42b4c",
   "metadata": {},
   "outputs": [
    {
     "data": {
      "text/html": [
       "<div>\n",
       "<style scoped>\n",
       "    .dataframe tbody tr th:only-of-type {\n",
       "        vertical-align: middle;\n",
       "    }\n",
       "\n",
       "    .dataframe tbody tr th {\n",
       "        vertical-align: top;\n",
       "    }\n",
       "\n",
       "    .dataframe thead th {\n",
       "        text-align: right;\n",
       "    }\n",
       "</style>\n",
       "<table border=\"1\" class=\"dataframe\">\n",
       "  <thead>\n",
       "    <tr style=\"text-align: right;\">\n",
       "      <th></th>\n",
       "      <th>question</th>\n",
       "      <th>response</th>\n",
       "      <th>wcnt</th>\n",
       "      <th>rcnt</th>\n",
       "    </tr>\n",
       "  </thead>\n",
       "  <tbody>\n",
       "    <tr>\n",
       "      <th>0</th>\n",
       "      <td>You are given a background paragraph that des...</td>\n",
       "      <td>Output: David's school had just started again ...</td>\n",
       "      <td>806</td>\n",
       "      <td>257</td>\n",
       "    </tr>\n",
       "    <tr>\n",
       "      <th>1</th>\n",
       "      <td>do the leaves like to eat hyraces?</td>\n",
       "      <td>As an AI language model, I cannot provide a de...</td>\n",
       "      <td>12</td>\n",
       "      <td>150</td>\n",
       "    </tr>\n",
       "    <tr>\n",
       "      <th>2</th>\n",
       "      <td>A company has 50 employees, and each employee ...</td>\n",
       "      <td>To solve this problem using mathematical princ...</td>\n",
       "      <td>62</td>\n",
       "      <td>257</td>\n",
       "    </tr>\n",
       "    <tr>\n",
       "      <th>3</th>\n",
       "      <td>A text is given in Malayalam. Translate it fro...</td>\n",
       "      <td>എമ്മങ്ങള്‍ അയ്യേന്‍, മീരു മബ്‍dess നേട്ടി\\n****</td>\n",
       "      <td>559</td>\n",
       "      <td>46</td>\n",
       "    </tr>\n",
       "    <tr>\n",
       "      <th>4</th>\n",
       "      <td>A text is given in Tamil. Translate it from th...</td>\n",
       "      <td>ప్రధાనమంత్రణంగా, స‌హ‌ాయ‌తంలో ఔషధ్ ఫౌంచించారు అ...</td>\n",
       "      <td>772</td>\n",
       "      <td>257</td>\n",
       "    </tr>\n",
       "    <tr>\n",
       "      <th>...</th>\n",
       "      <td>...</td>\n",
       "      <td>...</td>\n",
       "      <td>...</td>\n",
       "      <td>...</td>\n",
       "    </tr>\n",
       "    <tr>\n",
       "      <th>186</th>\n",
       "      <td>write a python script checks in a file written...</td>\n",
       "      <td>To achieve this, you will need to parse the C ...</td>\n",
       "      <td>62</td>\n",
       "      <td>257</td>\n",
       "    </tr>\n",
       "    <tr>\n",
       "      <th>187</th>\n",
       "      <td>write an SEO friendly engaging blog on the top...</td>\n",
       "      <td>The Role of AI in the Growth of the Blockchain...</td>\n",
       "      <td>74</td>\n",
       "      <td>257</td>\n",
       "    </tr>\n",
       "    <tr>\n",
       "      <th>188</th>\n",
       "      <td>write an seo blog using the keyword 'internshi...</td>\n",
       "      <td>Are you looking to gain valuable work experien...</td>\n",
       "      <td>28</td>\n",
       "      <td>257</td>\n",
       "    </tr>\n",
       "    <tr>\n",
       "      <th>189</th>\n",
       "      <td>write me a paypal business strategic managemen...</td>\n",
       "      <td>Case Study: PayPal's Strategic Management\\n\\nI...</td>\n",
       "      <td>12</td>\n",
       "      <td>257</td>\n",
       "    </tr>\n",
       "    <tr>\n",
       "      <th>190</th>\n",
       "      <td>아래 책 내용 요약해줘 \\n- 제목 : Don't Make Me Think\\n- 저...</td>\n",
       "      <td>\"Don't Make Me Think: A Common Sense Approach ...</td>\n",
       "      <td>67</td>\n",
       "      <td>177</td>\n",
       "    </tr>\n",
       "  </tbody>\n",
       "</table>\n",
       "<p>191 rows × 4 columns</p>\n",
       "</div>"
      ],
      "text/plain": [
       "                                              question  \\\n",
       "0     You are given a background paragraph that des...   \n",
       "1                   do the leaves like to eat hyraces?   \n",
       "2    A company has 50 employees, and each employee ...   \n",
       "3    A text is given in Malayalam. Translate it fro...   \n",
       "4    A text is given in Tamil. Translate it from th...   \n",
       "..                                                 ...   \n",
       "186  write a python script checks in a file written...   \n",
       "187  write an SEO friendly engaging blog on the top...   \n",
       "188  write an seo blog using the keyword 'internshi...   \n",
       "189  write me a paypal business strategic managemen...   \n",
       "190  아래 책 내용 요약해줘 \\n- 제목 : Don't Make Me Think\\n- 저...   \n",
       "\n",
       "                                              response  wcnt  rcnt  \n",
       "0    Output: David's school had just started again ...   806   257  \n",
       "1    As an AI language model, I cannot provide a de...    12   150  \n",
       "2    To solve this problem using mathematical princ...    62   257  \n",
       "3      എമ്മങ്ങള്‍ അയ്യേന്‍, മീരു മബ്‍dess നേട്ടി\\n****   559    46  \n",
       "4    ప్రధાనమంత్రణంగా, స‌హ‌ాయ‌తంలో ఔషధ్ ఫౌంచించారు అ...   772   257  \n",
       "..                                                 ...   ...   ...  \n",
       "186  To achieve this, you will need to parse the C ...    62   257  \n",
       "187  The Role of AI in the Growth of the Blockchain...    74   257  \n",
       "188  Are you looking to gain valuable work experien...    28   257  \n",
       "189  Case Study: PayPal's Strategic Management\\n\\nI...    12   257  \n",
       "190  \"Don't Make Me Think: A Common Sense Approach ...    67   177  \n",
       "\n",
       "[191 rows x 4 columns]"
      ]
     },
     "execution_count": 33,
     "metadata": {},
     "output_type": "execute_result"
    }
   ],
   "source": [
    "adfs['dpobase']"
   ]
  },
  {
   "cell_type": "code",
   "execution_count": 49,
   "id": "ac94ca4b-f96f-45f8-acac-da190bf7edc4",
   "metadata": {},
   "outputs": [
    {
     "data": {
      "text/plain": [
       "dict_keys(['dpofollowppo', 'sftbase', 'dpobase'])"
      ]
     },
     "execution_count": 49,
     "metadata": {},
     "output_type": "execute_result"
    }
   ],
   "source": [
    "adfs.keys()"
   ]
  },
  {
   "cell_type": "code",
   "execution_count": 50,
   "id": "b846022a-9db0-4e76-8c6e-a52a6de9de4f",
   "metadata": {},
   "outputs": [],
   "source": [
    "fs = [\n",
    "    '../../outputs/apeval/sftbase_dpofollowppo_0.jsonl',\n",
    "    '../../outputs/apeval/sftbase_dpofollowppo_100.jsonl'\n",
    "]\n",
    "nountrain = pd.concat([pd.read_json(f, orient='records', lines=True) for f in fs])"
   ]
  },
  {
   "cell_type": "code",
   "execution_count": 51,
   "id": "e6fa43c3-7fda-495b-85fd-52446341c93d",
   "metadata": {},
   "outputs": [
    {
     "data": {
      "text/html": [
       "<div>\n",
       "<style scoped>\n",
       "    .dataframe tbody tr th:only-of-type {\n",
       "        vertical-align: middle;\n",
       "    }\n",
       "\n",
       "    .dataframe tbody tr th {\n",
       "        vertical-align: top;\n",
       "    }\n",
       "\n",
       "    .dataframe thead th {\n",
       "        text-align: right;\n",
       "    }\n",
       "</style>\n",
       "<table border=\"1\" class=\"dataframe\">\n",
       "  <thead>\n",
       "    <tr style=\"text-align: right;\">\n",
       "      <th></th>\n",
       "      <th>instruction</th>\n",
       "      <th>input</th>\n",
       "      <th>output_1</th>\n",
       "      <th>output_2</th>\n",
       "      <th>annotator</th>\n",
       "      <th>preference</th>\n",
       "    </tr>\n",
       "  </thead>\n",
       "  <tbody>\n",
       "    <tr>\n",
       "      <th>0</th>\n",
       "      <td>You are given a background paragraph that des...</td>\n",
       "      <td></td>\n",
       "      <td>Output: Sam wanted to play tennis after school...</td>\n",
       "      <td>Output: Sara had been practicing tennis for ma...</td>\n",
       "      <td>gpt4_3</td>\n",
       "      <td>2</td>\n",
       "    </tr>\n",
       "    <tr>\n",
       "      <th>1</th>\n",
       "      <td>do the leaves like to eat hyraces?</td>\n",
       "      <td></td>\n",
       "      <td>I'm sorry, but as an AI language model, I cann...</td>\n",
       "      <td>I'm not sure what you mean by \"do the leaves l...</td>\n",
       "      <td>davinci003_2</td>\n",
       "      <td>1</td>\n",
       "    </tr>\n",
       "    <tr>\n",
       "      <th>2</th>\n",
       "      <td>A company has 50 employees, and each employee ...</td>\n",
       "      <td></td>\n",
       "      <td>One way to approach this problem is to use com...</td>\n",
       "      <td>Firstly, we can assume that all meetings betwe...</td>\n",
       "      <td>gpt4_2</td>\n",
       "      <td>2</td>\n",
       "    </tr>\n",
       "    <tr>\n",
       "      <th>3</th>\n",
       "      <td>A text is given in Malayalam. Translate it fro...</td>\n",
       "      <td></td>\n",
       "      <td>ആരೋഗ്യ അധികരण സമിതിയാക്കിപ്പോഴെയുള്ള അസുഖാമ്യ ...</td>\n",
       "      <td>ആമ്‍സീ അഖിലുള്ള ചിന്തകങ്ങള്‍ ഉത്പുന്നു\\n****</td>\n",
       "      <td>gpt4_3</td>\n",
       "      <td>1</td>\n",
       "    </tr>\n",
       "    <tr>\n",
       "      <th>4</th>\n",
       "      <td>A text is given in Tamil. Translate it from th...</td>\n",
       "      <td></td>\n",
       "      <td>గృహ‌చళ్లని మ‌ధ్య ఫార్మ‌షనాలని ఔట్టు ప్ర‌థానాలన...</td>\n",
       "      <td>ఈ ఐఠహణ లో, అధికారిగా, చొప్పర్ఘ షవమంత్రి ఏళొ ఔఖ...</td>\n",
       "      <td>chatgpt_2</td>\n",
       "      <td>2</td>\n",
       "    </tr>\n",
       "    <tr>\n",
       "      <th>...</th>\n",
       "      <td>...</td>\n",
       "      <td>...</td>\n",
       "      <td>...</td>\n",
       "      <td>...</td>\n",
       "      <td>...</td>\n",
       "      <td>...</td>\n",
       "    </tr>\n",
       "    <tr>\n",
       "      <th>86</th>\n",
       "      <td>write a python script checks in a file written...</td>\n",
       "      <td></td>\n",
       "      <td>To check if all calls to `json_object_object_a...</td>\n",
       "      <td>To check for this behavior, you'll need to wri...</td>\n",
       "      <td>gpt4_5</td>\n",
       "      <td>1</td>\n",
       "    </tr>\n",
       "    <tr>\n",
       "      <th>87</th>\n",
       "      <td>write an SEO friendly engaging blog on the top...</td>\n",
       "      <td></td>\n",
       "      <td>The Role of AI in the Growth of the Blockchain...</td>\n",
       "      <td>The Role of AI in the Growth of the Blockchain...</td>\n",
       "      <td>davinci003_1</td>\n",
       "      <td>2</td>\n",
       "    </tr>\n",
       "    <tr>\n",
       "      <th>88</th>\n",
       "      <td>write an seo blog using the keyword 'internshi...</td>\n",
       "      <td></td>\n",
       "      <td>Are you looking to gain valuable work experien...</td>\n",
       "      <td>If you are looking to gain valuable work exper...</td>\n",
       "      <td>chatgpt_4</td>\n",
       "      <td>1</td>\n",
       "    </tr>\n",
       "    <tr>\n",
       "      <th>89</th>\n",
       "      <td>write me a paypal business strategic managemen...</td>\n",
       "      <td></td>\n",
       "      <td>Sure, here is an example of a PayPal business ...</td>\n",
       "      <td>Introduction: PayPal is one of the most widely...</td>\n",
       "      <td>chatgpt_3</td>\n",
       "      <td>1</td>\n",
       "    </tr>\n",
       "    <tr>\n",
       "      <th>90</th>\n",
       "      <td>아래 책 내용 요약해줘 \\n- 제목 : Don't Make Me Think\\n- 저...</td>\n",
       "      <td></td>\n",
       "      <td>\"Don't Make Me Think: A Common Sense Approach ...</td>\n",
       "      <td>\"Don't Make Me Think\" by Steve Krug is a book ...</td>\n",
       "      <td>gpt4_3</td>\n",
       "      <td>2</td>\n",
       "    </tr>\n",
       "  </tbody>\n",
       "</table>\n",
       "<p>189 rows × 6 columns</p>\n",
       "</div>"
      ],
      "text/plain": [
       "                                          instruction input  \\\n",
       "0    You are given a background paragraph that des...         \n",
       "1                  do the leaves like to eat hyraces?         \n",
       "2   A company has 50 employees, and each employee ...         \n",
       "3   A text is given in Malayalam. Translate it fro...         \n",
       "4   A text is given in Tamil. Translate it from th...         \n",
       "..                                                ...   ...   \n",
       "86  write a python script checks in a file written...         \n",
       "87  write an SEO friendly engaging blog on the top...         \n",
       "88  write an seo blog using the keyword 'internshi...         \n",
       "89  write me a paypal business strategic managemen...         \n",
       "90  아래 책 내용 요약해줘 \\n- 제목 : Don't Make Me Think\\n- 저...         \n",
       "\n",
       "                                             output_1  \\\n",
       "0   Output: Sam wanted to play tennis after school...   \n",
       "1   I'm sorry, but as an AI language model, I cann...   \n",
       "2   One way to approach this problem is to use com...   \n",
       "3   ആരೋഗ്യ അധികരण സമിതിയാക്കിപ്പോഴെയുള്ള അസുഖാമ്യ ...   \n",
       "4   గృహ‌చళ్లని మ‌ధ్య ఫార్మ‌షనాలని ఔట్టు ప్ర‌థానాలన...   \n",
       "..                                                ...   \n",
       "86  To check if all calls to `json_object_object_a...   \n",
       "87  The Role of AI in the Growth of the Blockchain...   \n",
       "88  Are you looking to gain valuable work experien...   \n",
       "89  Sure, here is an example of a PayPal business ...   \n",
       "90  \"Don't Make Me Think: A Common Sense Approach ...   \n",
       "\n",
       "                                             output_2     annotator  \\\n",
       "0   Output: Sara had been practicing tennis for ma...        gpt4_3   \n",
       "1   I'm not sure what you mean by \"do the leaves l...  davinci003_2   \n",
       "2   Firstly, we can assume that all meetings betwe...        gpt4_2   \n",
       "3        ആമ്‍സീ അഖിലുള്ള ചിന്തകങ്ങള്‍ ഉത്പുന്നു\\n****        gpt4_3   \n",
       "4   ఈ ఐఠహణ లో, అధికారిగా, చొప్పర్ఘ షవమంత్రి ఏళొ ఔఖ...     chatgpt_2   \n",
       "..                                                ...           ...   \n",
       "86  To check for this behavior, you'll need to wri...        gpt4_5   \n",
       "87  The Role of AI in the Growth of the Blockchain...  davinci003_1   \n",
       "88  If you are looking to gain valuable work exper...     chatgpt_4   \n",
       "89  Introduction: PayPal is one of the most widely...     chatgpt_3   \n",
       "90  \"Don't Make Me Think\" by Steve Krug is a book ...        gpt4_3   \n",
       "\n",
       "    preference  \n",
       "0            2  \n",
       "1            1  \n",
       "2            2  \n",
       "3            1  \n",
       "4            2  \n",
       "..         ...  \n",
       "86           1  \n",
       "87           2  \n",
       "88           1  \n",
       "89           1  \n",
       "90           2  \n",
       "\n",
       "[189 rows x 6 columns]"
      ]
     },
     "execution_count": 51,
     "metadata": {},
     "output_type": "execute_result"
    }
   ],
   "source": [
    "nountrain"
   ]
  },
  {
   "cell_type": "code",
   "execution_count": 52,
   "id": "d354a89a-87a0-44cd-9c6b-71ae60920a98",
   "metadata": {},
   "outputs": [
    {
     "data": {
      "text/plain": [
       "1.3862433862433863"
      ]
     },
     "execution_count": 52,
     "metadata": {},
     "output_type": "execute_result"
    }
   ],
   "source": [
    "mean(nountrain.preference)"
   ]
  },
  {
   "cell_type": "code",
   "execution_count": 17,
   "id": "6cb5a334-c208-4244-94ea-bbf32b187929",
   "metadata": {},
   "outputs": [],
   "source": [
    "genprefs = pd.read_json(\"../../annotation/generalizationtest_annotated.jsonl\", lines=True, orient='records')"
   ]
  },
  {
   "cell_type": "code",
   "execution_count": 36,
   "id": "f0db1780-a556-4cbb-aab0-f7ec1da6ac4d",
   "metadata": {},
   "outputs": [
    {
     "name": "stdout",
     "output_type": "stream",
     "text": [
      "[3.67, 3.825, 3.255, 3.45]\n"
     ]
    }
   ],
   "source": [
    "vlscos = [0, 0, 0, 0]\n",
    "tot = 0\n",
    "for ind, row in genprefs.iterrows():\n",
    "    for i in range(len(row['completions'])):\n",
    "        val = row['completions'][i]['annotations']\n",
    "        #print(val['instruction_following'])\n",
    "        vlscos[i]+=mean([float(val[s][0]['Rating']) for s in val.keys()])\n",
    "    tot+=1\n",
    "vlscos = [v/tot for v in vlscos]\n",
    "print(vlscos)"
   ]
  },
  {
   "cell_type": "code",
   "execution_count": null,
   "id": "94f3a96d-536b-4f21-9f62-bd8feb815569",
   "metadata": {},
   "outputs": [],
   "source": [
    "['u50_dpop450', 'usd_dpop450', 'tulusft', 'u44_dpotulu']\n"
   ]
  },
  {
   "cell_type": "code",
   "execution_count": 27,
   "id": "389a1dd7-a216-4db6-83bd-d0ae280f1ef6",
   "metadata": {},
   "outputs": [
    {
     "data": {
      "text/plain": [
       "[{'annotations': {'instruction_following': [{'Rating': '5',\n",
       "     'Rationale': 'The text successfully provides vegan alternatives for all non-vegan ingredients in the recipe, meeting the task goal. It also suggests adjusting the seasoning to personal preference, which is a good addition. '}],\n",
       "   'helpfulness': [{'Type': ['1', '2', '3'],\n",
       "     'Rationale': 'The text is clear and relevant, providing useful and comprehensive information on how to make the recipe vegan. It avoids verbosity and repetition.',\n",
       "     'Rating': '4',\n",
       "     'Rationale For Rating': 'The text provides accurate and extensive information on how to make the recipe vegan. However, it suggests adjusting seasoning without using kosher salt, which is already vegan.'}]},\n",
       "  'response': 'To make this recipe vegan, replace the ingredients:\\n\\n* Replace anchovies with capers (drained and chopped), or use another vegetarian source such as seitan strips or mushrooms sautéed in soy sauce.\\n* Use plant-based milk or broth instead of heavy cream. For example, cashew milk or almond milk work well as substitutes.\\n* Use vegan Parmesan cheese or nutritional yeast for the topping.\\n* Optionally, adjust seasoning to suit your preference without using kosher salt.'},\n",
       " {'annotations': {'instruction_following': [{'Rating': '4',\n",
       "     'Rationale': 'The text provides vegan alternatives for the non-vegan ingredients, aligning with the task goal. However, it suggests replacing heavy cream with vegetable broth, which may not provide the same creamy texture. It also suggests using non-dairy milk as an alternative to heavy cream, which is a better suggestion.'}],\n",
       "   'helpfulness': [{'Type': ['1', '2', '3'],\n",
       "     'Rationale': 'The text is clear and relevant, providing useful and comprehensive information on how to make the recipe vegan. It avoids verbosity and repetition.',\n",
       "     'Rating': '4',\n",
       "     'Rationale For Rating': 'The text provides accurate and extensive information on how to make the recipe vegan. However, it suggests using vegetable broth as a substitute for heavy cream, which may not provide the same creamy texture.'}]},\n",
       "  'response': 'To make this recipe vegan, replace the anchovies with chopped mushrooms such as shiitake or portobello. Additionally, substitute vegetable broth for the heavy cream, and use a non-dairy milk like soy milk instead of heavy cream if desired. You can also skip adding additional Parmesan cheese on top of the dish since dairy products would be replaced by plant-based options. Finally, adjust the seasoning according to your preference.'},\n",
       " {'annotations': {'instruction_following': [{'Rating': '2',\n",
       "     'Rationale': 'The text provides vegan alternatives for some non-vegan ingredients, but it also suggests replacing ingredients that are already vegan, such as kosher salt and pasta sauce. Additionally, it mentions replacing 4 large eggs, which are not listed in the original recipe. This shows a lack of understanding of the task goal.'}],\n",
       "   'helpfulness': [{'Type': ['1', '2', '3'],\n",
       "     'Rationale': 'The text is clear and relevant, providing useful and comprehensive information on how to make the recipe vegan. It avoids verbosity and repetition.',\n",
       "     'Rating': '2',\n",
       "     'Rationale For Rating': 'The text contains errors that may cause confusion. It suggests replacing kosher salt with sea salt or no salt at all, and replacing 4 large eggs, which are not in the original recipe. It also suggests replacing regular pasta sauce and butter or margarine, which are not in the original recipe.'}]},\n",
       "  'response': 'To make this recipe vegan, replace all non-vegan ingredients with their vegan alternatives. For example:\\n\\n* Replace kosher salt with sea salt or no salt at all\\n* Replace the 4 large eggs with an equivalent amount of non-dairy milk such as soy milk or almond milk\\n* Replace regular pasta sauce with tomato based vegetable stock or plant based alternative\\n* Replace anchovy paste with capers or use a non-anchovy based marinara sauce\\n* Replace butter or margarine with Earth Balance Vegan Buttery Sticks or any other vegan butter substitute\\n* Replace heavy whipping cream with coconut milk or soy milk\\n* Replace fresh parsley with chopped scallions or chives.'},\n",
       " {'annotations': {'instruction_following': [{'Rating': '4',\n",
       "     'Rationale': 'The text provides vegan alternatives for the non-vegan ingredients in the recipe, which aligns with the task goal. However, it suggests replacing kosher salt with vegetable broth, which is unnecessary as kosher salt is already vegan. '}],\n",
       "   'helpfulness': [{'Type': ['1', '2', '3'],\n",
       "     'Rationale': 'The text is clear and relevant to the task, providing useful and comprehensive information on how to make the recipe vegan. It avoids verbosity and repetition.',\n",
       "     'Rating': '4',\n",
       "     'Rationale For Rating': 'The text provides accurate and extensive information on how to make the recipe vegan. However, it does not provide an alternative for Parmesan cheese, which is not vegan.'}]},\n",
       "  'response': 'To make this recipe vegan, simply replace the following ingredients:\\n\\n* Replace kosher salt with an all-purpose vegetable broth.\\n* Replace the anchovies with chopped mushrooms or capers. You could also use plant-based anchovy alternatives such as those made from jackfruit or shiitake mushroom.\\n* Replace the heavy cream with a non-dairy milk like soy milk or oat milk. Alternatively, you can substitute a creamy alternative such as coconut yogurt.'}]"
      ]
     },
     "execution_count": 27,
     "metadata": {},
     "output_type": "execute_result"
    }
   ],
   "source": [
    "genprefs['completions'][0]"
   ]
  },
  {
   "cell_type": "code",
   "execution_count": null,
   "id": "3b1b5aff-9337-42a7-9510-82d8b5c27b77",
   "metadata": {},
   "outputs": [],
   "source": []
  }
 ],
 "metadata": {
  "kernelspec": {
   "display_name": "Python 3 (ipykernel)",
   "language": "python",
   "name": "python3"
  },
  "language_info": {
   "codemirror_mode": {
    "name": "ipython",
    "version": 3
   },
   "file_extension": ".py",
   "mimetype": "text/x-python",
   "name": "python",
   "nbconvert_exporter": "python",
   "pygments_lexer": "ipython3",
   "version": "3.10.0"
  }
 },
 "nbformat": 4,
 "nbformat_minor": 5
}
