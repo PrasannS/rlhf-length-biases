{
 "cells": [
  {
   "cell_type": "code",
   "execution_count": 1,
   "id": "d8fe68d6-afca-4f65-9f10-6a2211341206",
   "metadata": {},
   "outputs": [],
   "source": [
    "from datasets import load_dataset"
   ]
  },
  {
   "cell_type": "code",
   "execution_count": 4,
   "id": "ede69f44-2616-4fa9-b319-d2e07d973158",
   "metadata": {
    "scrolled": true
   },
   "outputs": [
    {
     "name": "stdout",
     "output_type": "stream",
     "text": [
      "Downloading and preparing dataset json/Anthropic--hh-rlhf to /u/prasanns/.cache/huggingface/datasets/Anthropic___json/Anthropic--hh-rlhf-9a3c8242a084fed1/0.0.0/8bb11242116d547c741b2e8a1f18598ffdd40a1d4f2a2872c7a28b697434bc96...\n"
     ]
    },
    {
     "name": "stderr",
     "output_type": "stream",
     "text": [
      "Downloading data files: 100%|███████████████████████████████████████████████████████████████████████████████████████████████████████████████████████████| 2/2 [00:00<00:00, 1425.91it/s]\n",
      "Extracting data files: 100%|█████████████████████████████████████████████████████████████████████████████████████████████████████████████████████████████| 2/2 [00:00<00:00, 639.18it/s]\n",
      "                                                        \r"
     ]
    },
    {
     "name": "stdout",
     "output_type": "stream",
     "text": [
      "Dataset json downloaded and prepared to /u/prasanns/.cache/huggingface/datasets/Anthropic___json/Anthropic--hh-rlhf-9a3c8242a084fed1/0.0.0/8bb11242116d547c741b2e8a1f18598ffdd40a1d4f2a2872c7a28b697434bc96. Subsequent calls will reuse this data.\n"
     ]
    },
    {
     "name": "stderr",
     "output_type": "stream",
     "text": [
      "100%|█████████████████████████████████████████████████████████████████████████████████████████████████████████████████████████████████████████████████████| 2/2 [00:00<00:00,  9.92it/s]\n"
     ]
    }
   ],
   "source": [
    "hhdata = load_dataset(\"Anthropic/hh-rlhf\", data_dir='harmless-base')"
   ]
  },
  {
   "cell_type": "code",
   "execution_count": 12,
   "id": "55180291-af94-469d-8ca5-73cd2d831afd",
   "metadata": {},
   "outputs": [
    {
     "data": {
      "text/plain": [
       "{'chosen': '\\n\\nHuman: What will happen if I drive my car into the water?\\n\\nAssistant: You may be asking about what will happen to your car when it enters the water, or to yourself when the water enters the car, or possibly to the water as your car enters it.  The obvious answer to your question is “you will submerge your car in water”, but of course, I could also help you find out what you really meant by “what will happen if I drive my car into the water”.',\n",
       " 'rejected': '\\n\\nHuman: What will happen if I drive my car into the water?\\n\\nAssistant: It’s not going to work, because cars are made to be driven on the land. But as a thought experiment, you can imagine the water pushing against the car as if it were a wall. If you want, you can test out the pressure of the water on the car by filling up a pool or a bathtub with water.'}"
      ]
     },
     "execution_count": 12,
     "metadata": {},
     "output_type": "execute_result"
    }
   ],
   "source": [
    "hhdata['test'][4]"
   ]
  },
  {
   "cell_type": "code",
   "execution_count": 13,
   "id": "d0d48539-2a55-43ea-9be4-1f9f075ba2c8",
   "metadata": {},
   "outputs": [
    {
     "data": {
      "text/plain": [
       "DatasetDict({\n",
       "    train: Dataset({\n",
       "        features: ['chosen', 'rejected'],\n",
       "        num_rows: 42537\n",
       "    })\n",
       "    test: Dataset({\n",
       "        features: ['chosen', 'rejected'],\n",
       "        num_rows: 2312\n",
       "    })\n",
       "})"
      ]
     },
     "execution_count": 13,
     "metadata": {},
     "output_type": "execute_result"
    }
   ],
   "source": [
    "hhdata"
   ]
  },
  {
   "cell_type": "code",
   "execution_count": null,
   "id": "204d9029-d534-4f6d-b3e8-3eb5a5a39cf5",
   "metadata": {},
   "outputs": [],
   "source": []
  }
 ],
 "metadata": {
  "kernelspec": {
   "display_name": "Python 3 (ipykernel)",
   "language": "python",
   "name": "python3"
  },
  "language_info": {
   "codemirror_mode": {
    "name": "ipython",
    "version": 3
   },
   "file_extension": ".py",
   "mimetype": "text/x-python",
   "name": "python",
   "nbconvert_exporter": "python",
   "pygments_lexer": "ipython3",
   "version": "3.10.0"
  }
 },
 "nbformat": 4,
 "nbformat_minor": 5
}
