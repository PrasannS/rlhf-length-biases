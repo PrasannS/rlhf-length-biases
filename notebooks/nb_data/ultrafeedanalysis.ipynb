{
 "cells": [
  {
   "cell_type": "code",
   "execution_count": 1,
   "id": "c7e8f4e2-faf7-4847-84ad-5908f09f4e9c",
   "metadata": {},
   "outputs": [
    {
     "name": "stderr",
     "output_type": "stream",
     "text": [
      "/u/prasanns/miniconda3/envs/rlhfenv/lib/python3.10/site-packages/tqdm/auto.py:21: TqdmWarning: IProgress not found. Please update jupyter and ipywidgets. See https://ipywidgets.readthedocs.io/en/stable/user_install.html\n",
      "  from .autonotebook import tqdm as notebook_tqdm\n",
      "/tmp/ipykernel_2403924/1080140318.py:10: DeprecationWarning: Importing display from IPython.core.display is deprecated since IPython 7.14, please import from IPython display\n",
      "  from IPython.core.display import display, HTML\n"
     ]
    }
   ],
   "source": [
    "from datasets import load_dataset\n",
    "import pandas as pd\n",
    "from transformers import AutoTokenizer\n",
    "from tqdm import tqdm\n",
    "from statistics import mean\n",
    "from scipy.stats import spearmanr\n",
    "import matplotlib.pyplot as plt\n",
    "from rlhfutils.dproc_utils import process_df_ultra, procmean, create_pairwise_dataframe\n",
    "from datasets import Dataset\n",
    "from IPython.core.display import display, HTML"
   ]
  },
  {
   "cell_type": "code",
   "execution_count": 2,
   "id": "bd634967-3d67-4fab-a168-8b9bcdc740b0",
   "metadata": {},
   "outputs": [],
   "source": [
    "%load_ext autoreload\n",
    "%autoreload 2"
   ]
  },
  {
   "cell_type": "code",
   "execution_count": 3,
   "id": "4090bca0-4ae4-4680-ab4b-cbd0c9b28116",
   "metadata": {
    "scrolled": true
   },
   "outputs": [
    {
     "name": "stderr",
     "output_type": "stream",
     "text": [
      "Downloading readme: 100%|████████████████████████████████████████████████████████████████████████████████████████████████████| 15.4k/15.4k [00:00<00:00, 27.3MB/s]\n"
     ]
    },
    {
     "name": "stdout",
     "output_type": "stream",
     "text": [
      "Downloading and preparing dataset json/openbmb--UltraFeedback to /u/prasanns/.cache/huggingface/datasets/openbmb___json/openbmb--UltraFeedback-8d007a771b634a57/0.0.0/8bb11242116d547c741b2e8a1f18598ffdd40a1d4f2a2872c7a28b697434bc96...\n"
     ]
    },
    {
     "name": "stderr",
     "output_type": "stream",
     "text": [
      "Downloading data files:   0%|                                                                                                               | 0/1 [00:00<?, ?it/s]\n",
      "Downloading data:   0%|                                                                                                                | 0.00/168M [00:00<?, ?B/s]\u001b[A\n",
      "Downloading data:   2%|██▎                                                                                                    | 3.76M/168M [00:00<00:04, 36.2MB/s]\u001b[A\n",
      "Downloading data:   8%|███████▋                                                                                               | 12.6M/168M [00:00<00:02, 66.7MB/s]\u001b[A\n",
      "Downloading data:  13%|█████████████                                                                                          | 21.4M/168M [00:00<00:01, 76.2MB/s]\u001b[A\n",
      "Downloading data:  17%|█████████████████▊                                                                                     | 29.0M/168M [00:00<00:02, 68.1MB/s]\u001b[A\n",
      "Downloading data:  21%|██████████████████████                                                                                 | 36.0M/168M [00:00<00:03, 42.3MB/s]\u001b[A\n",
      "Downloading data:  28%|█████████████████████████████▎                                                                         | 48.0M/168M [00:00<00:02, 50.2MB/s]\u001b[A\n",
      "Downloading data:  33%|█████████████████████████████████▉                                                                     | 55.5M/168M [00:01<00:02, 55.5MB/s]\u001b[A\n",
      "Downloading data:  37%|█████████████████████████████████████▉                                                                 | 62.1M/168M [00:01<00:01, 53.6MB/s]\u001b[A\n",
      "Downloading data:  40%|█████████████████████████████████████████▌                                                             | 67.9M/168M [00:01<00:02, 44.6MB/s]\u001b[A\n",
      "Downloading data:  47%|████████████████████████████████████████████████▏                                                      | 78.9M/168M [00:01<00:01, 58.5MB/s]\u001b[A\n",
      "Downloading data:  51%|████████████████████████████████████████████████████▍                                                  | 85.7M/168M [00:01<00:01, 52.4MB/s]\u001b[A\n",
      "Downloading data:  57%|██████████████████████████████████████████████████████████▋                                            | 96.0M/168M [00:01<00:01, 59.5MB/s]\u001b[A\n",
      "Downloading data:  62%|████████████████████████████████████████████████████████████████▏                                       | 104M/168M [00:01<00:01, 64.2MB/s]\u001b[A\n",
      "Downloading data:  66%|████████████████████████████████████████████████████████████████████▊                                   | 111M/168M [00:01<00:00, 58.5MB/s]\u001b[A\n",
      "Downloading data:  70%|████████████████████████████████████████████████████████████████████████▋                               | 118M/168M [00:02<00:00, 52.3MB/s]\u001b[A\n",
      "Downloading data:  76%|██████████████████████████████████████████████████████████████████████████████▋                         | 127M/168M [00:02<00:00, 62.3MB/s]\u001b[A\n",
      "Downloading data:  80%|██████████████████████████████████████████████████████████████████████████████████▉                     | 134M/168M [00:02<00:00, 56.1MB/s]\u001b[A\n",
      "Downloading data:  85%|████████████████████████████████████████████████████████████████████████████████████████▉               | 144M/168M [00:02<00:00, 53.6MB/s]\u001b[A\n",
      "Downloading data:  91%|██████████████████████████████████████████████████████████████████████████████████████████████▌         | 153M/168M [00:02<00:00, 61.8MB/s]\u001b[A\n",
      "Downloading data: 100%|████████████████████████████████████████████████████████████████████████████████████████████████████████| 168M/168M [00:02<00:00, 57.8MB/s]\u001b[A\n",
      "\n",
      "Downloading data:   0%|                                                                                                               | 0.00/25.9M [00:00<?, ?B/s]\u001b[A\n",
      "Downloading data:  26%|██████████████████████████▋                                                                           | 6.78M/25.9M [00:00<00:00, 52.6MB/s]\u001b[A\n",
      "\n",
      "KeyboardInterrupt\n",
      "\n"
     ]
    }
   ],
   "source": [
    "data = load_dataset(\"openbmb/UltraFeedback\")"
   ]
  },
  {
   "cell_type": "code",
   "execution_count": 6,
   "id": "090262a0-b873-4150-922a-867bd15a2360",
   "metadata": {
    "scrolled": true
   },
   "outputs": [
    {
     "name": "stdout",
     "output_type": "stream",
     "text": [
      "QUESTION\n",
      "___________________\n"
     ]
    },
    {
     "data": {
      "text/html": [
       "<span style=\"color: #4287f5\">Can you write a C++ program that prompts the user to enter the name of a country and checks if it borders the Mediterranean Sea? Here's some starter code to help you out:<br>#include <iostream><br>#include <string><br>using namespace std;<br>int main() {<br>    string country;<br>    // prompt user for input<br>    cout << \"Enter the name of a country: \";<br>    cin >> country;<br>    // check if country borders the Mediterranean Sea<br>    // [C++ code]<br>    return 0;<br>}</span>"
      ],
      "text/plain": [
       "<IPython.core.display.HTML object>"
      ]
     },
     "metadata": {},
     "output_type": "display_data"
    },
    {
     "data": {
      "text/html": [
       "<span style=\"color: #2bc235\">__________________ <br> __________________ <br> __________________ <br></span>"
      ],
      "text/plain": [
       "<IPython.core.display.HTML object>"
      ]
     },
     "metadata": {},
     "output_type": "display_data"
    },
    {
     "name": "stdout",
     "output_type": "stream",
     "text": [
      "RESPONSE 1: \n",
      "int main() {\n",
      "    string country;\n",
      "    // prompt user for input\n",
      "    cout << \"Enter the name of a country: \";\n",
      "    cin >> country;\n",
      "    // check if country borders the Mediterranean Sea\n",
      "    if (endsWith(country, \"Mediterranean\")) {\n",
      "        cout << \"Yes, the country \" << country\n",
      "             << \" borders the Mediterranean Sea.\";\n",
      "    } else {\n",
      "        cout << \"No, the country \" << country\n",
      "             << \" does not border the Mediterranean Sea.\";\n",
      "    }\n",
      "    return 0;\n",
      "}\n"
     ]
    },
    {
     "data": {
      "text/html": [
       "<span style=\"color: #2bc235\">__________________ <br> __________________ <br> __________________ <br></span>"
      ],
      "text/plain": [
       "<IPython.core.display.HTML object>"
      ]
     },
     "metadata": {},
     "output_type": "display_data"
    },
    {
     "name": "stdout",
     "output_type": "stream",
     "text": [
      "MODEL :  alpaca-7b\n"
     ]
    },
    {
     "data": {
      "text/html": [
       "<span style=\"color: #fc3819\">ANNOTATIONS<br>instruction_following : 1 : The text only provides a modified version of the given starter code, but it does not provide a complete C++ program. The code does not check if the entered country borders the Mediterranean Sea, and the `endsWith` function is not defined.<br>honesty : 1 : The response is confidently incorrect. The provided code is entirely wrong and does not check if the entered country borders the Mediterranean Sea. The `endsWith` function is not defined, and the logic for checking if a country borders the Mediterranean Sea is incorrect.<br>truthfulness : 1 : The code checks if the country name ends with \"Mediterranean\", which is a factual error and a logical error.<br>helpfulness : 2 : The response is clear and not lengthy, but it lacks useful and comprehensive information.<br></span>"
      ],
      "text/plain": [
       "<IPython.core.display.HTML object>"
      ]
     },
     "metadata": {},
     "output_type": "display_data"
    },
    {
     "data": {
      "text/html": [
       "<span style=\"color: #2bc235\">__________________ <br> __________________ <br> __________________ <br></span>"
      ],
      "text/plain": [
       "<IPython.core.display.HTML object>"
      ]
     },
     "metadata": {},
     "output_type": "display_data"
    },
    {
     "name": "stdout",
     "output_type": "stream",
     "text": [
      "RESPONSE 2:\n",
      "Here's a C++ program that prompts the user to enter the name of a country and checks if it borders the Mediterranean Sea:\n",
      "\n",
      "#include <iostream>\n",
      "#include <string>\n",
      "#include <set>\n",
      "#include <map>\n",
      "#include <algorithm>\n",
      "\n",
      "using namespace std;\n",
      "\n",
      "int main() {\n",
      "    // store countries and their bordering seas in a map\n",
      "    map<string, set<string>> countries;\n",
      "    countries[\"Algeria\"] = {\"Mediterranean Sea\", \"North African Coast\"};\n",
      "    countries[\"France\"] = {\"Mediterranean Sea\", \"English Channel\"};\n",
      "    countries[\"Italy\"] = {\"Mediterranean Sea\", \"Adriatic Sea\"};\n",
      "    countries[\"Malta\"] = {\"Mediterranean Sea\", \"North African Coast\"};\n",
      "    countries[\"Spain\"] = {\"Mediterranean Sea\", \"Atlantic Ocean\"};\n",
      "    countries[\"Tunisia\"] = {\"Mediterranean Sea\", \"North African Coast\"};\n",
      "\n",
      "    string country;\n",
      "    cout << \"Enter the name of a country: \";\n",
      "    cin >> country;\n",
      "\n",
      "    // check if country is in the map\n",
      "    if (countries.find(country)!= countries.end()) {\n",
      "        // check if country borders the Mediterranean Sea\n",
      "        set<string> borders = countries.at(country);\n",
      "        if (borders.find(\"Mediterranean Sea\")!= borders.end()) {\n",
      "            cout << country << \" borders the Mediterranean Sea.\" << endl;\n",
      "        } else {\n",
      "            cout << country << \" does not border the Mediterranean Sea.\" << endl;\n",
      "        }\n",
      "    } else {\n",
      "        cout << country << \" is not a recognized country.\" << endl;\n",
      "    }\n",
      "\n",
      "    return 0;\n",
      "}\n",
      "\n",
      "In this program, we first define a map called countries that stores each country's name as a key and a set of its surrounding seas as the value. We use a set to store each sea name so that we can easily check if a country borders a certain sea.\n",
      "\n",
      "We then present the user with a prompt to enter the name of a country. We use a while loop to ensure that the user enters a valid country name. We check if the country is in the map, and if so, we retrieve its bordering seas from the map.\n",
      "\n",
      "Finally, we check if the Mediterranean Sea is among the set of borders. If it is, we inform the user that the country borders the Mediterranean Sea. If not, we inform the user that the country does not border the Mediterranean Sea.\n"
     ]
    },
    {
     "data": {
      "text/html": [
       "<span style=\"color: #2bc235\">__________________ <br> __________________ <br> __________________ <br></span>"
      ],
      "text/plain": [
       "<IPython.core.display.HTML object>"
      ]
     },
     "metadata": {},
     "output_type": "display_data"
    },
    {
     "name": "stdout",
     "output_type": "stream",
     "text": [
      "MODEL :  starchat\n"
     ]
    },
    {
     "data": {
      "text/html": [
       "<span style=\"color: #fc3819\">ANNOTATIONS<br>instruction_following : 5 : The text provides a C++ program that prompts the user to enter the name of a country and checks if it borders the Mediterranean Sea. It uses the given starter code and adds the necessary code to check if the country borders the Mediterranean Sea using a map and a set.<br>honesty : 5 : The response is correct and confident. The provided code is accurate and checks if the entered country borders the Mediterranean Sea using a map and set data structure.<br>truthfulness : 5 : The code is accurate and does not introduce any hallucinations.<br>helpfulness : 5 : The response is clear, relevant, and provides comprehensive information without being lengthy or repetitive.<br></span>"
      ],
      "text/plain": [
       "<IPython.core.display.HTML object>"
      ]
     },
     "metadata": {},
     "output_type": "display_data"
    },
    {
     "name": "stdout",
     "output_type": "stream",
     "text": [
      "QUESTION\n",
      "___________________\n"
     ]
    },
    {
     "data": {
      "text/html": [
       "<span style=\"color: #4287f5\">Suppose you are a content creator and want to generate compelling titles and descriptions for your YouTube videos automatically. You have decided to use GPT to solve this problem.<br>Can you provide an example of how you would use GPT to generate titles and descriptions for your YouTube videos automatically? Please include the necessary steps and any additional information that may be helpful.</span>"
      ],
      "text/plain": [
       "<IPython.core.display.HTML object>"
      ]
     },
     "metadata": {},
     "output_type": "display_data"
    },
    {
     "data": {
      "text/html": [
       "<span style=\"color: #2bc235\">__________________ <br> __________________ <br> __________________ <br></span>"
      ],
      "text/plain": [
       "<IPython.core.display.HTML object>"
      ]
     },
     "metadata": {},
     "output_type": "display_data"
    },
    {
     "name": "stdout",
     "output_type": "stream",
     "text": [
      "RESPONSE 1: \n",
      "To use GPT for generating compelling titles and descriptions for your YouTube videos automatically, you can follow these steps:\n",
      "\n",
      "1. Choose a GPT model: First, you'll need to decide which GPT model to use. OpenAI's GPT-3 is the most advanced version of the transformer-based language model, and you can use its API to generate content.\n",
      "\n",
      "2. Sign up for an API key: Access the GPT-3 model through OpenAI's API, so sign up for an account on the OpenAI platform (https://beta.openai.com/signup/) and get an API key.\n",
      "\n",
      "3. Install necessary libraries: To connect with the OpenAI API, you may need Python programming language and some libraries like 'openai' and 'requests.' You can install them using pip:\n",
      "\n",
      "```\n",
      "pip install openai requests\n",
      "```\n",
      "\n",
      "4. Prepare your input: Make a list of video topics or keywords that you want the GPT model to use as context for generating titles and descriptions. You could also provide additional context, like specifying your target audience or industry.\n",
      "\n",
      "5. Set up your Python script: Write a Python script that sends requests to the GPT-3 API with your input and desired output format. Here is a sample Python script:\n",
      "\n",
      "```python\n",
      "import openai\n",
      "import requests\n",
      "import json\n",
      "\n",
      "# Replace 'your-api-key' with your actual API key\n",
      "api_key = 'your-api-key'\n",
      "openai.api_key = api_key\n",
      "\n",
      "# Set up GPT-3 API endpoint and headers\n",
      "url = 'https://api.openai.com/v1/engines/davinci-codex/completions'\n",
      "headers = {\n",
      "    'Content-Type': 'application/json',\n",
      "    'Authorization': f'Bearer {api_key}',\n",
      "}\n",
      "\n",
      "# Define your prompt\n",
      "input_text = 'Generate a title and description for a YouTube video about iPhone tips and tricks for beginners.'\n",
      "\n",
      "# Set up API payload\n",
      "data = {\n",
      "    'prompt': f'{input_text}',\n",
      "    'max_tokens': 50,  # Limit the response to 50 tokens\n",
      "    'n': 1,  # Number of completions\n",
      "    'stop': None,  # Any token you want the API to stop generating at\n",
      "    'temperature': 0.8,  # A balance between creative and focused outputs (lower for more focused, higher for more creative)\n",
      "    'top_p': 1,  # The top probability ratio\n",
      "}\n",
      "\n",
      "# Send the request and get the response\n",
      "response = requests.post(url, headers=headers, data=json.dumps(data))\n",
      "result = response.json()\n",
      "\n",
      "# Extract title and description\n",
      "generated_text = result['choices'][0]['text'].strip().split('\\n')\n",
      "\n",
      "title = generated_text[0]\n",
      "desc = generated_text[1]\n",
      "\n",
      "print(\"Title: \" + title)\n",
      "print(\"Description: \" + desc)\n",
      "```\n",
      "\n",
      "6. Execute the script: Run the script to generate the title and description. You may modify the input text to generate outputs for other video topics.\n",
      "\n",
      "7. Save the results: You can now use the generated titles and descriptions for your YouTube videos. You may want to fine-tune, validate, or manually approve the generated content to ensure quality and relevance. Store this information in a database or a spreadsheet, or use YouTube's API to upload them directly to your videos.\n",
      "\n",
      "Remember, GPT-3 has limits on the response length (i.e., tokens), so you might need to optimize the output format to avoid exceeding the limit. Also, different API parameters, like temperature and top_p, can affect the results, so feel free to experiment with these to find the best balance between creativity and relevance.\n"
     ]
    },
    {
     "data": {
      "text/html": [
       "<span style=\"color: #2bc235\">__________________ <br> __________________ <br> __________________ <br></span>"
      ],
      "text/plain": [
       "<IPython.core.display.HTML object>"
      ]
     },
     "metadata": {},
     "output_type": "display_data"
    },
    {
     "name": "stdout",
     "output_type": "stream",
     "text": [
      "MODEL :  gpt-4\n"
     ]
    },
    {
     "data": {
      "text/html": [
       "<span style=\"color: #fc3819\">ANNOTATIONS<br>instruction_following : 4 : The text provides a detailed example of using GPT-3 to generate titles and descriptions for YouTube videos, including necessary steps and a sample Python script. However, it does not mention refining the prompts or monitoring the output for bias, error, or inaccuracies.<br>honesty : 5 : The text is correct, confident, and provides a comprehensive step-by-step guide on using GPT-3 to generate titles and descriptions for YouTube videos. It also includes a sample Python script and additional tips for optimizing the output.<br>truthfulness : 5 : The text does not contain any hallucinations or contradictions.<br>helpfulness : 5 : The response is clear, relevant, and comprehensive, providing useful information and avoiding repetition.<br></span>"
      ],
      "text/plain": [
       "<IPython.core.display.HTML object>"
      ]
     },
     "metadata": {},
     "output_type": "display_data"
    },
    {
     "data": {
      "text/html": [
       "<span style=\"color: #2bc235\">__________________ <br> __________________ <br> __________________ <br></span>"
      ],
      "text/plain": [
       "<IPython.core.display.HTML object>"
      ]
     },
     "metadata": {},
     "output_type": "display_data"
    },
    {
     "name": "stdout",
     "output_type": "stream",
     "text": [
      "RESPONSE 2:\n",
      "Sure, I'd be happy to help! Here's an example of how you could use GPT to generate titles and descriptions for your YouTube videos automatically:\n",
      "\n",
      "Step 1: Prepare Your Data\n",
      "Before you can start using GPT, you'll need to prepare your data. This can include a list of keywords related to your content, as well as any existing titles and descriptions you've created for your videos.\n",
      "\n",
      "Step 2: Install GPT\n",
      "If you haven't already, you'll need to install GPT on your computer. This can usually be done by downloading the GPT software and following the installation instructions.\n",
      "\n",
      "Step 3: Train GPT\n",
      "Once you have GPT installed, you'll need to training it on your data. This can be done by providing GPT with a dataset of existing titles and descriptions, as well as any relevant keywords or phrases.\n",
      "\n",
      "Step 4: Generate Titles and Descriptions\n",
      "Once GPT has been trained, you can use it to generate titles and descriptions for your YouTube videos. This can be done by providing GPT with a few keywords or phrases related to your content, and asking it to generate a list of potential titles and descriptions.\n",
      "\n",
      "Here's an example of how you might use GPT to generate titles and descriptions for a YouTube video about \"how to train your dog\":\n",
      "\n",
      "Input: \"how to train your dog\"\n",
      "\n",
      "Output:\n",
      "\n",
      "Titles:\n",
      "\n",
      "1. \"How to Train Your Dog: A Step-by-Step Guide\"\n",
      "2. \"Get Your Dog to Listen with These Training Tips\"\n",
      "3. \"Training Your Dog: What You Need to Know\"\n",
      "\n",
      "Descriptions:\n",
      "\n",
      "1. \"Learn how to train your dog with our step-by-step guide, including tips on how to get your dog to listen and what you need to know before starting training. Watch now and get your furry friend obedient in no time!\"\n",
      "2. \"Want to train your dog but not sure where to start? Check out our training tips and learn how to get your dog to listen and obey your commands. From basic obedience to advanced tricks, we've got you covered!\"\n",
      "\n",
      "Additional Tips:\n",
      "\n",
      "* To make the most of GPT, it's important to provide it with high-quality, relevant data to train on. This can include existing titles and descriptions, as well as any relevant keywords or phrases.\n",
      "* When using GPT to generate titles and descriptions, it's a good idea to provide it with a list of keywords or phrases related to your content, and ask it to generate a list of potential titles and descriptions based on those keywords.\n",
      "* To ensure that your titles and descriptions are both informative and engaging, it's a good idea to mix things up a bit. Try using a combination of shorter and longer titles and descriptions, and experiment with different sentence structures and wording to keep things interesting.\n",
      "\n",
      "I hope this helps! Let me know if you have any other questions or need further assistance.\n"
     ]
    },
    {
     "data": {
      "text/html": [
       "<span style=\"color: #2bc235\">__________________ <br> __________________ <br> __________________ <br></span>"
      ],
      "text/plain": [
       "<IPython.core.display.HTML object>"
      ]
     },
     "metadata": {},
     "output_type": "display_data"
    },
    {
     "name": "stdout",
     "output_type": "stream",
     "text": [
      "MODEL :  llama-2-13b-chat\n"
     ]
    },
    {
     "data": {
      "text/html": [
       "<span style=\"color: #fc3819\">ANNOTATIONS<br>instruction_following : 4 : The text provides a clear example of using GPT to generate titles and descriptions for YouTube videos. However, it lacks some details about the GPT model, such as mentioning GPT-3 or other specific models, and does not provide information about refining the prompts or monitoring the output.<br>honesty : 3 : The text is confident but contains subtle mistakes. It suggests installing GPT on the computer and training it, which is not necessary when using GPT-3 API. The example provided is also less detailed compared to Text 2.<br>truthfulness : 5 : The text does not contain any hallucinations or contradictions.<br>helpfulness : 5 : The response is clear, relevant, and comprehensive, providing useful information and avoiding repetition.<br></span>"
      ],
      "text/plain": [
       "<IPython.core.display.HTML object>"
      ]
     },
     "metadata": {},
     "output_type": "display_data"
    },
    {
     "name": "stdout",
     "output_type": "stream",
     "text": [
      "QUESTION\n",
      "___________________\n"
     ]
    },
    {
     "data": {
      "text/html": [
       "<span style=\"color: #4287f5\">Identify the interrelated economic, political, and social factors that contributed to the stock market crash of 1929, including but not limited to the impact of World War I on the global economy, the role of government policies such as the Smoot-Hawley Tariff Act, the effects of speculative investment practices and margin trading, and the socioeconomic disparities of the time period. Additionally, provide a comparative analysis of the causes and effects of the 1929 stock market crash with other notable financial crises in history, such as the Great Depression of the 1930s and the 2008 global financial crisis. Use primary and secondary sources to support your analysis and provide data visualizations, such as graphs and charts, to illustrate your findings.</span>"
      ],
      "text/plain": [
       "<IPython.core.display.HTML object>"
      ]
     },
     "metadata": {},
     "output_type": "display_data"
    },
    {
     "data": {
      "text/html": [
       "<span style=\"color: #2bc235\">__________________ <br> __________________ <br> __________________ <br></span>"
      ],
      "text/plain": [
       "<IPython.core.display.HTML object>"
      ]
     },
     "metadata": {},
     "output_type": "display_data"
    },
    {
     "name": "stdout",
     "output_type": "stream",
     "text": [
      "RESPONSE 1: \n",
      "The stock market crash of 1929 was a result of a complex interplay of economic, political, and social factors. The impact of World War I on the global economy, government policies such as the Smoot-Hawley Tariff Act, speculative investment practices, and socioeconomic disparities all contributed to the crisis.\n",
      "The aftermath of World War I left many European countries in a state of economic ruin. The United States, on the other hand, emerged from the war as the world's largest creditor nation. This created a situation where the US was able to export goods to Europe in exchange for European bonds, which allowed the US to earn interest on its loans. This system, known as the \"gold standard,\" helped stabilize the global economy and allowed for the growth of international trade.\n",
      "However, this system also had its drawbacks. Many European countries struggled to pay back their debts, leading to a decrease in international trade and a further decline in the global economy. This, along with the implementation of protectionist policies by countries such as the United States, contributed to the worsening economic conditions in the early 1930s.\n",
      "Government policies also played a role in the stock market crash of 1929. The Smoot-Hawley Tariff Act, which raised taxes on imported goods, was enacted in 1930. This act led to a decrease in international trade and further destabilized the global economy.\n",
      "The rise of speculative investment practices and margin trading also contributed to the crash. Many investors were purchasing stocks on margin, which meant they were borrowing money to invest in the market. This allowed for quick gains, but also led to rapid losses when the market began to decline.\n",
      "Socioeconomic disparities also played a role in the crash. The wealth gap between the rich and the poor was growing, and many Americans saw the stock market as a way to get rich quick. This led to a speculative frenzy, where many people were investing in the market without fully understanding the risks involved.\n",
      "Comparing the causes and effects of the 1929 stock market crash to other notable financial crises in history, such as the Great Depression of the 1930s and the 2008 global financial crisis, reveals some similarities and differences. All three crises were characterized by a decline in the stock market, a contraction in the economy, and a rise in unemployment. However, the causes of each crisis were different.\n",
      "The Great Depression was caused by a combination of factors, including the impact of World War I, the implementation of protectionist policies, and a decrease in international trade. The 2008 global financial crisis was caused by a combination of factors, including the subprime mortgage crisis, the collapse of Lehman Brothers, and the failure of government policies to address the underlying problems in the financial system.\n",
      "In conclusion, the stock market crash of 1929 was a result of a complex interplay of economic, political, and social factors. The impact of World War I on the global economy, the role of government policies such as the Smoot-Hawley Tariff Act, the effects of speculative investment practices and margin trading, and the socioeconomic disparities of the time period all contributed to the crisis. Comparing the causes and effects of the 1929 stock market crash to other notable financial crises in history reveals some similarities and differences, highlighting the unique characteristics of each crisis.\n"
     ]
    },
    {
     "data": {
      "text/html": [
       "<span style=\"color: #2bc235\">__________________ <br> __________________ <br> __________________ <br></span>"
      ],
      "text/plain": [
       "<IPython.core.display.HTML object>"
      ]
     },
     "metadata": {},
     "output_type": "display_data"
    },
    {
     "name": "stdout",
     "output_type": "stream",
     "text": [
      "MODEL :  mpt-30b-chat\n"
     ]
    },
    {
     "data": {
      "text/html": [
       "<span style=\"color: #fc3819\">ANNOTATIONS<br>instruction_following : 4 : The text addresses the interrelated economic, political, and social factors that contributed to the stock market crash of 1929 and provides a comparative analysis with other financial crises. However, it lacks the use of primary and secondary sources and data visualizations, such as graphs and charts, as required by the instruction.<br>honesty : 4 : The text is mostly correct and provides a comprehensive analysis of the factors contributing to the stock market crash of 1929 and comparisons with other financial crises. However, it does not include primary and secondary sources or data visualizations as requested in the instruction.<br>truthfulness : 5 : The text does not contain any hallucinations.<br>helpfulness : 4 : The response is clear, relevant, and comprehensive, providing useful information without being lengthy or repetitive.<br></span>"
      ],
      "text/plain": [
       "<IPython.core.display.HTML object>"
      ]
     },
     "metadata": {},
     "output_type": "display_data"
    },
    {
     "data": {
      "text/html": [
       "<span style=\"color: #2bc235\">__________________ <br> __________________ <br> __________________ <br></span>"
      ],
      "text/plain": [
       "<IPython.core.display.HTML object>"
      ]
     },
     "metadata": {},
     "output_type": "display_data"
    },
    {
     "name": "stdout",
     "output_type": "stream",
     "text": [
      "RESPONSE 2:\n",
      "Sure, I'd be happy to help you learn about the causes and effects of the 1929 stock market crash and how it compares to other financial crises.\n",
      "\n",
      "The stock market crash of 1929 was a significant event that occurred on October 29, known as Black Tuesday. This event marked the beginning of the Great Depression, a period of economic downturn and unemployment that lasted for nearly a decade. There were several interrelated economic, political, and social factors that contributed to the 1929 stock market crash.\n",
      "\n",
      "Firstly, the impact of World War I on the global economy played a significant role. After the war, many European countries were left with large debts and were unable to invest in their economies. This led to a decrease in demand for American products and a decrease in international trade.\n",
      "\n",
      "In terms of government policies, the Smoot-Hawley Tariff Act of 1930 is often cited as a contributing factor to the crash. This act increased tariffs on foreign goods, which ultimately reduced international trade and led to retaliatory tariffs from other countries. This trade policy had negative effects on U.S. exporters and contributed to the economic downturn.\n",
      "\n",
      "Secondly, speculative investment practices and margin trading were also contributing factors. Margin trading allowed investors to borrow money to purchase stocks, which led to an artificial increase in demand for stocks. This, in turn, created a speculative bubble that eventually burst, leading to a significant decline in stock prices.\n",
      "\n",
      "Additionally, socioeconomic disparities of the time period also played a role in the crash. The 1920s was a period of significant wealth inequality, where the wealthy few were benefiting from the boom while the rest of the population struggled.\n",
      "\n",
      "A comparative analysis of the causes and effects of the 1929 stock market crash with other notable financial crises in history, such as the Great Depression of the 1930s and the 2008 global financial crisis, shows several similarities. In both cases, there were interrelated economic factors, such as the role of government policies and market speculation, that contributed to the severity of the financial crisis.\n",
      "\n",
      "The 1929 stock market crash and the subsequent Great Depression also had significant social impacts, including high unemployment rates and a loss of public confidence in the economy. Similarly, the 2008 global financial crisis resulted in a significant loss of wealth and the failure of several large financial institutions.\n",
      "\n",
      "In conclusion, multiple economic, political, and social factors contributed to the stock market crash of 1929, which ultimately led to the Great Depression. This event serves as a stark example of the negative consequences of interrelated economic factors, government policies, and market speculation. By understanding the causes and effects of the 1929 stock market crash, we can better prepare for and prevent similar financial crises in the future.\n"
     ]
    },
    {
     "data": {
      "text/html": [
       "<span style=\"color: #2bc235\">__________________ <br> __________________ <br> __________________ <br></span>"
      ],
      "text/plain": [
       "<IPython.core.display.HTML object>"
      ]
     },
     "metadata": {},
     "output_type": "display_data"
    },
    {
     "name": "stdout",
     "output_type": "stream",
     "text": [
      "MODEL :  ultralm-13b\n"
     ]
    },
    {
     "data": {
      "text/html": [
       "<span style=\"color: #fc3819\">ANNOTATIONS<br>instruction_following : 3 : The text addresses the causes and effects of the 1929 stock market crash and provides a comparative analysis with other financial crises. However, it does not follow the formal tone and style required by the instruction, and it lacks the use of primary and secondary sources and data visualizations, such as graphs and charts.<br>honesty : 4 : The text is mostly correct and provides a good analysis of the factors contributing to the stock market crash of 1929 and comparisons with other financial crises. However, it does not include primary and secondary sources or data visualizations as requested in the instruction.<br>truthfulness : 5 : The text does not contain any hallucinations.<br>helpfulness : 4 : The response is clear, relevant, and comprehensive, providing useful information without being lengthy or repetitive.<br></span>"
      ],
      "text/plain": [
       "<IPython.core.display.HTML object>"
      ]
     },
     "metadata": {},
     "output_type": "display_data"
    },
    {
     "name": "stdout",
     "output_type": "stream",
     "text": [
      "QUESTION\n",
      "___________________\n"
     ]
    },
    {
     "data": {
      "text/html": [
       "<span style=\"color: #4287f5\">How can I convert the decimal number 31 to binary format using JavaScript code? Can you provide the code for this conversion?</span>"
      ],
      "text/plain": [
       "<IPython.core.display.HTML object>"
      ]
     },
     "metadata": {},
     "output_type": "display_data"
    },
    {
     "data": {
      "text/html": [
       "<span style=\"color: #2bc235\">__________________ <br> __________________ <br> __________________ <br></span>"
      ],
      "text/plain": [
       "<IPython.core.display.HTML object>"
      ]
     },
     "metadata": {},
     "output_type": "display_data"
    },
    {
     "name": "stdout",
     "output_type": "stream",
     "text": [
      "RESPONSE 1: \n",
      "The following JavaScript code can be used to convert a decimal number to binary format:\n",
      "\n",
      "let binary = Math.floor(decimalNum).toString(2);\n",
      "\n",
      "console.log(\"Binary format of\", decimalNum, \"is\", binary);\n"
     ]
    },
    {
     "data": {
      "text/html": [
       "<span style=\"color: #2bc235\">__________________ <br> __________________ <br> __________________ <br></span>"
      ],
      "text/plain": [
       "<IPython.core.display.HTML object>"
      ]
     },
     "metadata": {},
     "output_type": "display_data"
    },
    {
     "name": "stdout",
     "output_type": "stream",
     "text": [
      "MODEL :  alpaca-7b\n"
     ]
    },
    {
     "data": {
      "text/html": [
       "<span style=\"color: #fc3819\">ANNOTATIONS<br>instruction_following : 4 : The text provides a simple JavaScript code snippet that converts a decimal number to binary format using the `toString()` method. It meets the task goal but lacks a detailed explanation.<br>honesty : 4 : The response is correct but uncertain due to the lack of context for the variable `decimalNum`. The provided code is accurate for converting a decimal number to binary format, but it does not specifically address the given decimal number (31).<br>truthfulness : 3 : The text introduces a new fact not aligned with the instruction, as it does not provide the code for converting the specific decimal number 31 to binary format.<br>helpfulness : 4 : The response is clear and relevant, provides useful information, and is concise.<br></span>"
      ],
      "text/plain": [
       "<IPython.core.display.HTML object>"
      ]
     },
     "metadata": {},
     "output_type": "display_data"
    },
    {
     "data": {
      "text/html": [
       "<span style=\"color: #2bc235\">__________________ <br> __________________ <br> __________________ <br></span>"
      ],
      "text/plain": [
       "<IPython.core.display.HTML object>"
      ]
     },
     "metadata": {},
     "output_type": "display_data"
    },
    {
     "name": "stdout",
     "output_type": "stream",
     "text": [
      "RESPONSE 2:\n",
      "Yes, I can provide the JavaScript code for converting the decimal number 31 to binary format. Here's the code:\n",
      "```\n",
      "let decimalNumber = 31;\n",
      "let binaryString = decimalNumber.toString(2);\n",
      "console.log(binaryString);\n",
      "```\n",
      "In this code, we first declare a variable `decimalNumber` and assign it the value 31. Then we use the `toString()` method to convert the decimal number to binary format. The `toString()` method takes a parameter which represents the base of the number system that we want to convert to. In this case, we pass the value `2` to represent the binary number system. The converted binary number is then stored in the `binaryString` variable. Finally, we use `console.log()` to display the binary string in the console.\n"
     ]
    },
    {
     "data": {
      "text/html": [
       "<span style=\"color: #2bc235\">__________________ <br> __________________ <br> __________________ <br></span>"
      ],
      "text/plain": [
       "<IPython.core.display.HTML object>"
      ]
     },
     "metadata": {},
     "output_type": "display_data"
    },
    {
     "name": "stdout",
     "output_type": "stream",
     "text": [
      "MODEL :  mpt-30b-chat\n"
     ]
    },
    {
     "data": {
      "text/html": [
       "<span style=\"color: #fc3819\">ANNOTATIONS<br>instruction_following : 5 : The text provides a clear and concise JavaScript code snippet that converts a decimal number to binary format using the `toString()` method. It meets the task goal and follows the instruction.<br>honesty : 5 : The response is correct and confident. It provides accurate JavaScript code for converting a decimal number to binary format using the `toString()` method.<br>truthfulness : 5 : The text does not contain any hallucinations.<br>helpfulness : 5 : The response is clear and relevant, provides comprehensive information, and avoids repetition.<br></span>"
      ],
      "text/plain": [
       "<IPython.core.display.HTML object>"
      ]
     },
     "metadata": {},
     "output_type": "display_data"
    },
    {
     "name": "stdout",
     "output_type": "stream",
     "text": [
      "QUESTION\n",
      "___________________\n"
     ]
    },
    {
     "data": {
      "text/html": [
       "<span style=\"color: #4287f5\">Can you modify the C++ code provided below to generate the first 20 Fibonacci numbers, using the formula that involves the golden ratio? You need to provide a step-by-step explanation, including the calculations necessary to obtain the correct output. To make it more challenging, you are only allowed to use logical reasoning and cannot use any arithmetic operations or variables (e.g. n, sqrt5, phi, psi) directly. Additionally, you need to use a table of values to assist you in generating the Fibonacci numbers. The table contains the values for the first 10 Fibonacci numbers, which can be used as a reference to generate the remaining 10 numbers. Can you solve this puzzle? <br>C++ Code:<br>#include<iostream><br>using namespace std;<br>int main()<br>{<br>   int n, first = 0, second = 1, next, i;<br>   cout << \"Enter the number of terms you want: \";<br>   cin >> n;<br>   cout << \"First \" << n << \" terms of Fibonacci series are: \";<br>   for (i = 0; i < n; i++)<br>   {<br>      if (i <= 1)<br>         next = i;<br>      else<br>      {<br>         next = first + second;<br>         first = second;<br>         second = next;<br>      }<br>      cout << next << \" \";<br>   }<br>   return 0;<br>}</span>"
      ],
      "text/plain": [
       "<IPython.core.display.HTML object>"
      ]
     },
     "metadata": {},
     "output_type": "display_data"
    },
    {
     "data": {
      "text/html": [
       "<span style=\"color: #2bc235\">__________________ <br> __________________ <br> __________________ <br></span>"
      ],
      "text/plain": [
       "<IPython.core.display.HTML object>"
      ]
     },
     "metadata": {},
     "output_type": "display_data"
    },
    {
     "name": "stdout",
     "output_type": "stream",
     "text": [
      "RESPONSE 1: \n",
      "Of course! I'd be happy to help you with that. 😊\n",
      "\n",
      "To generate the first 20 Fibonacci numbers using the formula that involves the golden ratio (phi), we can use a step-by-step approach as follows:\n",
      "\n",
      "Step 1: Define the values of the first two Fibonacci numbers, 0 and 1.\n",
      "\n",
      "Step 2: Use the formula to calculate the next number in the series:\n",
      "\n",
      "next = first + second\n",
      "\n",
      "where first is the previous number, and second is the current number.\n",
      "\n",
      "Step 3: Update the values of first and second based on the previous and current numbers.\n",
      "\n",
      "Step 4: Repeat steps 2 and 3 until we reach the desired number of terms.\n",
      "\n",
      "To make it more challenging, as you mentioned, we cannot use any arithmetic operations or variables directly. Instead, we'll use a table of values to assist us in generating the Fibonacci numbers.\n",
      "\n",
      "Here's the table of values for the first 10 Fibonacci numbers:\n",
      "\n",
      "| Fibonacci Number | Value |\n",
      "| --- | --- |\n",
      "| 0 | 0 |\n",
      "| 1 | 1 |\n",
      "| 2 | 1 |\n",
      "| 3 | 2 |\n",
      "| 4 | 3 |\n",
      "| 5 | 5 |\n",
      "| 6 | 8 |\n",
      "| 7 | 13 |\n",
      "| 8 | 21 |\n",
      "| 9 | 34 |\n",
      "\n",
      "Now, let's generate the remaining 10 Fibonacci numbers using the same process.\n",
      "\n",
      "Step 1: Define the values of the first two Fibonacci numbers, 0 and 1.\n",
      "\n",
      "Step 2: Use the table to calculate the next number in the series:\n",
      "\n",
      "next = first + second\n",
      "\n",
      "where first is the previous number, and second is the current number.\n",
      "\n",
      "Step 3: Update the values of first and second based on the previous and current numbers.\n",
      "\n",
      "Step 4: Repeat steps 2 and 3 until we reach the desired number of terms.\n",
      "\n",
      "Here's the complete code to generate the first 20 Fibonacci numbers using the formula that involves the golden ratio:\n",
      "\n",
      "#include<iostream>\n",
      "using namespace std;\n",
      "int main()\n",
      "{\n",
      "   int n, first = 0, second = 1, next, i;\n",
      "   cout << \"Enter the number of terms you want: \";\n",
      "   cin >> n;\n",
      "   cout << \"First \" << n << \" terms of Fibonacci series are: \";\n",
      "   for (i = 0; i < n; i++)\n",
      "   {\n",
      "      if (i <= 1)\n",
      "         next = i;\n",
      "      else\n",
      "      {\n",
      "         next = first + second;\n",
      "         first = second;\n",
      "         second = next;\n",
      "         next = first + second; // Add the second term to the first and update the values\n",
      "         first = second;\n",
      "         second = next;\n",
      "      }\n",
      "      cout << next << \" \";\n",
      "   }\n",
      "   return 0;\n",
      "}\n",
      "\n",
      "Explanation:\n",
      "\n",
      "1. We start by defining the values of the first two Fibonacci numbers, 0 and 1.\n",
      "2. We then use the table of values to calculate the next number in the series:\n",
      "\n",
      "next = first + second\n",
      "\n",
      "where first is the previous number, and second is the current number.\n",
      "\n",
      "3. We update the values of first and second based on the previous and current numbers:\n",
      "\n",
      "first = second;\n",
      "second = next;\n",
      "\n",
      "4. We repeat steps 2 and 3 until we reach the desired number of terms.\n",
      "\n",
      "In this example, we've generated the first 20 Fibonacci numbers using the formula that involves the golden ratio. We can see that the series starts with 0, 1, 1, 2, 3, 5, 8, 13, 21, 34, 55, 89, 144, and so on.\n",
      "\n",
      "I hope this helps! Do you have any further questions or concerns? 🤔\n"
     ]
    },
    {
     "data": {
      "text/html": [
       "<span style=\"color: #2bc235\">__________________ <br> __________________ <br> __________________ <br></span>"
      ],
      "text/plain": [
       "<IPython.core.display.HTML object>"
      ]
     },
     "metadata": {},
     "output_type": "display_data"
    },
    {
     "name": "stdout",
     "output_type": "stream",
     "text": [
      "MODEL :  llama-2-13b-chat\n"
     ]
    },
    {
     "data": {
      "text/html": [
       "<span style=\"color: #fc3819\">ANNOTATIONS<br>instruction_following : 3 : The text acknowledges the task goal and restrictions, but it does not fully comply with the restrictions. It provides a step-by-step explanation and uses a table of values, but it still uses arithmetic operations and variables in the code.<br>honesty : 2 : The response is confident but contains significant mistakes. The text does not follow the restrictions of not using arithmetic operations or variables directly and does not use the golden ratio formula.<br>truthfulness : 3 : The response introduces the golden ratio formula but does not modify the code to use it. The response also contains a logical error in the code, as it repeats the same calculation twice in the loop.<br>helpfulness : 2 : The response is related to the task, provides comprehensive information, and avoids repetition.<br></span>"
      ],
      "text/plain": [
       "<IPython.core.display.HTML object>"
      ]
     },
     "metadata": {},
     "output_type": "display_data"
    },
    {
     "data": {
      "text/html": [
       "<span style=\"color: #2bc235\">__________________ <br> __________________ <br> __________________ <br></span>"
      ],
      "text/plain": [
       "<IPython.core.display.HTML object>"
      ]
     },
     "metadata": {},
     "output_type": "display_data"
    },
    {
     "name": "stdout",
     "output_type": "stream",
     "text": [
      "RESPONSE 2:\n",
      "Unfortunately, I cannot modify the given C++ code to generate the first 20 Fibonacci numbers using the golden ratio formula, as it is not possible to perform calculations without arithmetic operations and variables. However, I can provide you with the corrected output for the code you provided:\n",
      "\n",
      "C++ Code:\n",
      "```cpp\n",
      "#include<iostream>\n",
      "using namespace std;\n",
      "int main()\n",
      "{\n",
      "   int n, first = 0, second = 1, next, i;\n",
      "   cout << \"Enter the number of terms you want: \";\n",
      "   cin >> n;\n",
      "   cout << \"First \" << n << \" terms of Fibonacci series are: \";\n",
      "   for (i = 0; i < n; i++)\n",
      "   {\n",
      "      if (i <= 1)\n",
      "         next = i;\n",
      "      else\n",
      "      {\n",
      "         next = first + second;\n",
      "         first = second;\n",
      "         second = next;\n",
      "      }\n",
      "      cout << next << \" \";\n",
      "   }\n",
      "   return 0;\n",
      "}\n",
      "```\n",
      "Let's consider the modified puzzle, where you need to use a table of values and logical reasoning to generate the first 20 Fibonacci numbers using the golden ratio formula:\n",
      "\n",
      "1. Start with the first 10 Fibonacci numbers in the table, which are 0, 1, 1, 2, 3, 5, 8, 13, 21, and 34.\n",
      "2. Since F(n+1) is equal to F(n) + F(n-1) with F(0) = 0 and F(1) = 1, you can use the table to generate the next 10 numbers in the sequence. For example, F(11) = F(10) + F(9) = 21 + 13 = 34, F(12) = F(11) + F(10) = 34 + 21 = 55, and so on.\n",
      "3. Continue using the table and the formula to generate the first 20 Fibonacci numbers: 0, 1, 1, 2, 3, 5, 8, 13, 21, 34, 55, 89, 144, 233, 377, 610, 987, 1597, and 2584.\n",
      "4. Remember that the golden ratio is approximately equal to (1 + sqrt(5)) / 2, which can be used to approximate the value of phi: (1 + sqrt(5)) / 2 ≈ 1.61803.\n",
      "5. To use the golden ratio formula, you can replace phi with its approximation value of 1.61803 in the formula: F(n+2) = phi \\* F(n+1) - F(n). Start with F(n) = 0 and F(n+1) = 1, then use the approximation to calculate F(n+2), F(n+3), F(n+4), and so on up to F(20).\n",
      "6. Note that this approach is more complex and requires more effort to solve than the original C++ code. However, it allows you to use logical reasoning and the table to generate the Fibonacci numbers using the golden ratio formula.\n"
     ]
    },
    {
     "data": {
      "text/html": [
       "<span style=\"color: #2bc235\">__________________ <br> __________________ <br> __________________ <br></span>"
      ],
      "text/plain": [
       "<IPython.core.display.HTML object>"
      ]
     },
     "metadata": {},
     "output_type": "display_data"
    },
    {
     "name": "stdout",
     "output_type": "stream",
     "text": [
      "MODEL :  ultralm-13b\n"
     ]
    },
    {
     "data": {
      "text/html": [
       "<span style=\"color: #fc3819\">ANNOTATIONS<br>instruction_following : 4 : The text acknowledges the task goal and restrictions, and it provides a logical reasoning approach to generate the first 20 Fibonacci numbers using the golden ratio formula. However, it does not modify the given C++ code as requested, which is a minor deviation from the instruction.<br>honesty : 4 : The response is correct but uncertain. The text acknowledges that it cannot modify the code to meet the restrictions and provides a correct output for the given code. However, it does not attempt to solve the modified puzzle using the table of values and logical reasoning.<br>truthfulness : 5 : The response does not introduce any hallucinations.<br>helpfulness : 3 : The response is related to the task, provides comprehensive information, and avoids repetition.<br></span>"
      ],
      "text/plain": [
       "<IPython.core.display.HTML object>"
      ]
     },
     "metadata": {},
     "output_type": "display_data"
    },
    {
     "name": "stdout",
     "output_type": "stream",
     "text": [
      "QUESTION\n",
      "___________________\n"
     ]
    },
    {
     "data": {
      "text/html": [
       "<span style=\"color: #4287f5\">A factory produces two types of toys: robots and cars. The factory can produce 50 robots and 100 cars per day. The demand for robots is represented by the equation p = 10 - 0.05q, where p is the price in dollars and q is the quantity demanded. The demand for cars is represented by the equation p = 15 - 0.1q.<br>What is the equilibrium price and quantity for each toy? How would a decrease in the cost of production affect the equilibrium price and quantity for each toy? Show your calculations and explain the concept behind the changes in equilibrium.</span>"
      ],
      "text/plain": [
       "<IPython.core.display.HTML object>"
      ]
     },
     "metadata": {},
     "output_type": "display_data"
    },
    {
     "data": {
      "text/html": [
       "<span style=\"color: #2bc235\">__________________ <br> __________________ <br> __________________ <br></span>"
      ],
      "text/plain": [
       "<IPython.core.display.HTML object>"
      ]
     },
     "metadata": {},
     "output_type": "display_data"
    },
    {
     "name": "stdout",
     "output_type": "stream",
     "text": [
      "RESPONSE 1: \n",
      "The equilibrium price and quantity for each toy can be found by setting the supply and demand equations equal to each other and solving for p and q. For robots, this gives:\n",
      "\n",
      "$$10 - 0.05q = 50/q$$\n",
      "\n",
      "Solving for q, we get:\n",
      "\n",
      "$$q = \\frac{1000}{61} = 16.32$$\n",
      "\n",
      "Substituting this back into the demand equation, we get:\n",
      "\n",
      "$$p = 10 - 0.05(16.32) = 9.40$$\n",
      "\n",
      "Therefore, the equilibrium price and quantity for robots are $9.40 and 16.32$, respectively.\n",
      "\n",
      "For cars, this gives:\n",
      "\n",
      "$$15 - 0.1q = 100/q$$\n",
      "\n",
      "Solving for q, we get:\n",
      "\n",
      "$$q = \\frac{1500}{11} = 136.36$$\n",
      "\n",
      "Substituting this back into the demand equation, we get:\n",
      "\n",
      "$$p = 15 - 0.1(136.36) = 13.04$$\n",
      "\n",
      "Therefore, the equilibrium price and quantity for cars are $13.04 and 136.36$, respectively.\n",
      "\n",
      "A decrease in the cost of production would shift the supply curve to the right, as producers would be able to produce and sell more toys at a lower cost. This would lead to an increase in the equilibrium price and quantity for both robots and cars.\n",
      "\n",
      "To illustrate this, consider the following figure. The original supply curve is S1, and the original demand curve is D1. The equilibrium price and quantity are P1 and Q1, respectively.\n",
      "\n",
      "[Diagram of a supply and demand curve with the original supply curve S1 and the original demand curve D1, and the new supply curve S2.]\n",
      "\n",
      "If the cost of production decreases, the supply curve will shift to the right, to S2. The new equilibrium price and quantity will be P2 and Q2.\n",
      "\n",
      "The concept behind the changes in equilibrium is that a decrease in the cost of production will lead to a decrease in the marginal cost of production. This means that producers will be able to produce more toys at a lower cost, and they will be willing to sell more toys at a lower price. As a result, the equilibrium price will decrease and the equilibrium quantity will increase.\n"
     ]
    },
    {
     "data": {
      "text/html": [
       "<span style=\"color: #2bc235\">__________________ <br> __________________ <br> __________________ <br></span>"
      ],
      "text/plain": [
       "<IPython.core.display.HTML object>"
      ]
     },
     "metadata": {},
     "output_type": "display_data"
    },
    {
     "name": "stdout",
     "output_type": "stream",
     "text": [
      "MODEL :  bard\n"
     ]
    },
    {
     "data": {
      "text/html": [
       "<span style=\"color: #fc3819\">ANNOTATIONS<br>instruction_following : 4 : The text addresses the task goal by calculating the equilibrium price and quantity for each toy and explaining the effect of a decrease in the cost of production. However, the calculations for the equilibrium price and quantity are incorrect, which deviates from the intended outcome. The text also lacks a clear explanation of the concept behind the changes in equilibrium.<br>honesty : 4 : The response is correct but uncertain. The calculations for the equilibrium price and quantity for robots and cars are accurate. However, the response does not provide a clear explanation of the concept behind the changes in equilibrium and the effect of a decrease in the cost of production. The response also lacks a diagram to illustrate the changes in the supply and demand curves.<br>truthfulness : 5 : The text does not contain any hallucinations.<br>helpfulness : 4 : The response is clear, relevant, and provides comprehensive information without being lengthy or repetitive.<br></span>"
      ],
      "text/plain": [
       "<IPython.core.display.HTML object>"
      ]
     },
     "metadata": {},
     "output_type": "display_data"
    },
    {
     "data": {
      "text/html": [
       "<span style=\"color: #2bc235\">__________________ <br> __________________ <br> __________________ <br></span>"
      ],
      "text/plain": [
       "<IPython.core.display.HTML object>"
      ]
     },
     "metadata": {},
     "output_type": "display_data"
    },
    {
     "name": "stdout",
     "output_type": "stream",
     "text": [
      "RESPONSE 2:\n",
      "The equilibrium price for robots is $9.00 per toy. The equilibrium quantity for robots is 20 toys per day. The equilibrium price for cars is $15 per toy, and the equilibrium quantity for cars is 24 toys per day.\n",
      "\n",
      "A decrease in the cost of production would shift both the supply and demand curves to the right, causing the equilibrium price and quantity to increase. For example, if the cost of production decreases by 10%, then the supply curve for robots would shift 10% to the right, resulting in an increase in equilibrium price and quantity. The new equilibrium price for robots would be $10.10 per toy, with an equilibrium quantity of 22 toys per day. Similarly, if the cost of production decreases by 20%, then the supply curve for cars would shift 20% to the right, resulting in an increase in equilibrium price and quantity. The new equilibrium price for cars would be $12.00 per toy, with an equilibrium quantity of 32 toys per day. \n",
      "\n",
      "The underlying concept is the law of supply and demand, which states that when the price of a product changes, the quantity demanded and supplied change as well until a new equilibrium is reached.\n"
     ]
    },
    {
     "data": {
      "text/html": [
       "<span style=\"color: #2bc235\">__________________ <br> __________________ <br> __________________ <br></span>"
      ],
      "text/plain": [
       "<IPython.core.display.HTML object>"
      ]
     },
     "metadata": {},
     "output_type": "display_data"
    },
    {
     "name": "stdout",
     "output_type": "stream",
     "text": [
      "MODEL :  falcon-40b-instruct\n"
     ]
    },
    {
     "data": {
      "text/html": [
       "<span style=\"color: #fc3819\">ANNOTATIONS<br>instruction_following : 4 : The text addresses the task goal by calculating the equilibrium price and quantity for each toy and explaining the effect of a decrease in the cost of production. However, the calculations for the equilibrium price and quantity are incorrect, which deviates from the intended outcome.<br>honesty : 2 : The response is confident but contains significant mistakes. The equilibrium price and quantity for robots and cars are incorrect. The explanation of the effect of a decrease in the cost of production on the equilibrium price and quantity is also incorrect, as it states that both the supply and demand curves would shift to the right.<br>truthfulness : 2 : The text contains factual errors (equilibrium price and quantity for robots and cars) and logical errors (a decrease in the cost of production would shift both the supply and demand curves to the right).<br>helpfulness : 3 : The response is clear, relevant, and provides useful information without being lengthy or repetitive.<br></span>"
      ],
      "text/plain": [
       "<IPython.core.display.HTML object>"
      ]
     },
     "metadata": {},
     "output_type": "display_data"
    },
    {
     "name": "stdout",
     "output_type": "stream",
     "text": [
      "QUESTION\n",
      "___________________\n"
     ]
    },
    {
     "data": {
      "text/html": [
       "<span style=\"color: #4287f5\">Explain the concept of \"quantum entanglement\" in a way that a non-scientist can understand, while also providing examples of how it is used in real-world applications such as quantum computing and cryptography. Additionally, describe the different types of entanglement (e.g. bipartite, multipartite) and how they differ in their implications for quantum communication and computation. Finally, discuss the potential implications of recent advancements in entanglement research, including the possibility of creating entangled networks and utilizing entanglement for long-distance communication.</span>"
      ],
      "text/plain": [
       "<IPython.core.display.HTML object>"
      ]
     },
     "metadata": {},
     "output_type": "display_data"
    },
    {
     "data": {
      "text/html": [
       "<span style=\"color: #2bc235\">__________________ <br> __________________ <br> __________________ <br></span>"
      ],
      "text/plain": [
       "<IPython.core.display.HTML object>"
      ]
     },
     "metadata": {},
     "output_type": "display_data"
    },
    {
     "name": "stdout",
     "output_type": "stream",
     "text": [
      "RESPONSE 1: \n",
      "Hello! I'd be happy to help you understand quantum entanglement and its fascinating applications.\n",
      "\n",
      "Quantum entanglement is a phenomenon where two or more particles become connected in such a way that their properties are correlated, regardless of the distance between them. This means that if something happens to one particle, it will instantly affect the other, even if they're on opposite sides of the universe.\n",
      "\n",
      "To put it simply, imagine two particles as two sides of a coin. When you flip the coin, both sides are connected, and the outcome of one side will determine the outcome of the other. Now, imagine this happening with subatomic particles like electrons or photons, and you've got quantum entanglement!\n",
      "\n",
      "One of the most exciting applications of entanglement is in quantum computing. By using entangled particles as \"bits\" of information, quantum computers can perform calculations much faster than traditional computers. In fact, a single entangled particle can be used to perform millions of calculations simultaneously!\n",
      "\n",
      "Another application of entanglement is in cryptography. By using entangled particles to encode and decode messages, secure communication networks can be created that are resistant to eavesdropping and hacking.\n",
      "\n",
      "Now, let's talk about the different types of entanglement. Bipartite entanglement occurs when two particles are connected, while multipartite entanglement occurs when three or more particles are connected. The difference between these types lies in their implications for quantum communication and computation. For example, bipartite entanglement can be used for secure communication between two parties, while multipartite entanglement can be used for more complex computations involving multiple particles.\n",
      "\n",
      "Recent advancements in entanglement research have been incredibly promising. Physicists have been able to create entangled networks of particles, paving the way for more powerful quantum computers and secure communication networks. Additionally, researchers have been able to utilize entanglement for long-distance communication, potentially leading to the creation of quantum internet.\n",
      "\n",
      "In conclusion, quantum entanglement is a fascinating phenomenon with a wide range of applications in quantum computing and cryptography. As research continues to advance, we can expect even more exciting developments in the field of quantum technology. Thank you for joining me on this journey into the mysterious world of quantum entanglement!\n"
     ]
    },
    {
     "data": {
      "text/html": [
       "<span style=\"color: #2bc235\">__________________ <br> __________________ <br> __________________ <br></span>"
      ],
      "text/plain": [
       "<IPython.core.display.HTML object>"
      ]
     },
     "metadata": {},
     "output_type": "display_data"
    },
    {
     "name": "stdout",
     "output_type": "stream",
     "text": [
      "MODEL :  llama-2-13b-chat\n"
     ]
    },
    {
     "data": {
      "text/html": [
       "<span style=\"color: #fc3819\">ANNOTATIONS<br>instruction_following : 5 : The text effectively explains the concept of quantum entanglement in a way that a non-scientist can understand. It provides examples of real-world applications, describes the different types of entanglement, and discusses the potential implications of recent advancements in entanglement research.<br>honesty : 5 : The text is correct and confident in explaining quantum entanglement, its applications, and types. It also discusses recent advancements and potential implications in a clear and concise manner.<br>truthfulness : 5 : The text does not contain any hallucinations.<br>helpfulness : 5 : The text is clear and relevant, provides comprehensive information, and avoids repetition.<br></span>"
      ],
      "text/plain": [
       "<IPython.core.display.HTML object>"
      ]
     },
     "metadata": {},
     "output_type": "display_data"
    },
    {
     "data": {
      "text/html": [
       "<span style=\"color: #2bc235\">__________________ <br> __________________ <br> __________________ <br></span>"
      ],
      "text/plain": [
       "<IPython.core.display.HTML object>"
      ]
     },
     "metadata": {},
     "output_type": "display_data"
    },
    {
     "name": "stdout",
     "output_type": "stream",
     "text": [
      "RESPONSE 2:\n",
      "Of course, I'd be happy to help explain the fascinating concept of quantum entanglement in a way that's easy to understand and applicable to real-world scenarios!\n",
      "Quantum entanglement is a phenomenon in which two or more particles become connected in such a way that their properties are correlated, regardless of the distance between them. This means that if something happens to one particle, it instantly affects the other entangled particles, regardless of how far apart they are.\n",
      "To put it simply, entanglement is like having a special kind of super strong and long-distance hugs between particles. When two particles are entangled, they become \"linked\" in a way that allows them to communicate with each other instantly, even if they're separated by huge distances.\n",
      "Now, you might be wondering how this strange phenomenon can be useful in the real world. Well, here are some examples:\n",
      "1. Quantum Computing: Entangled particles are the building blocks of quantum computers. By manipulating these particles, scientists can perform complex calculations that are beyond the capabilities of classical computers. Entanglement allows these calculations to be performed faster and more efficiently, which could lead to breakthroughs in fields like cryptography and drug discovery.\n",
      "2. Quantum Cryptography: Entangled particles can be used to create an unbreakable code, known as quantum cryptography. By entangling particles and measuring their properties, it's possible to send secrets between two parties in a way that's secure and tamper-proof. This could revolutionize the way we protect sensitive information online.\n",
      "3. Entanglement and Distance: Another fascinating aspect of entanglement is its relationship with distance. The farther apart entangled particles are, the more their properties become correlated. This means that entangled particles can be used to transmit information over long distances, even faster than the speed of light!\n",
      "Now, let's dive deeper into the different types of entanglement:\n",
      "1. Bipartite Entanglement: Bipartite entanglement refers to the connection between two particles. This type of entanglement is the most common and is often used in quantum computing and cryptography.\n",
      "2. Multipartite Entanglement: Multipartite entanglement refers to the connection between three or more particles. This type of entanglement is less well understood but has the potential to revolutionize the way we understand quantum communication and computation.\n",
      "Recently, there have been significant advancements in entanglement research, including the creation of entangled networks and the potential for utilizing entanglement for long-distance communication. These developments could lead to a new era of quantum communication and computation, with the potential to transform industries such as healthcare, finance, and energy.\n",
      "In conclusion, quantum entanglement is a mind-bending phenomenon that has the potential to revolutionize the way we understand and interact with the world around us. By harnessing the power of entanglement, we may unlock new technologies and scientific discoveries that can benefit humanity in countless ways. As scientists continue to explore the depths of entanglement, we may uncover even more exciting possibilities and applications!\n"
     ]
    },
    {
     "data": {
      "text/html": [
       "<span style=\"color: #2bc235\">__________________ <br> __________________ <br> __________________ <br></span>"
      ],
      "text/plain": [
       "<IPython.core.display.HTML object>"
      ]
     },
     "metadata": {},
     "output_type": "display_data"
    },
    {
     "name": "stdout",
     "output_type": "stream",
     "text": [
      "MODEL :  llama-2-7b-chat\n"
     ]
    },
    {
     "data": {
      "text/html": [
       "<span style=\"color: #fc3819\">ANNOTATIONS<br>instruction_following : 4 : The text provides a good explanation of quantum entanglement and its real-world applications. However, it does not go into as much detail about the different types of entanglement and their implications for quantum communication and computation as the instruction requires.<br>honesty : 4 : The text is mostly correct and confident in explaining quantum entanglement, its applications, and types. However, it contains a minor error in stating that entangled particles can transmit information faster than the speed of light, which is not accurate.<br>truthfulness : 4 : The text contains a logical error when it states that entangled particles can transmit information faster than the speed of light.<br>helpfulness : 5 : The text is clear and relevant, provides comprehensive information, and avoids repetition.<br></span>"
      ],
      "text/plain": [
       "<IPython.core.display.HTML object>"
      ]
     },
     "metadata": {},
     "output_type": "display_data"
    },
    {
     "name": "stdout",
     "output_type": "stream",
     "text": [
      "QUESTION\n",
      "___________________\n"
     ]
    },
    {
     "data": {
      "text/html": [
       "<span style=\"color: #4287f5\">Can you solve this language puzzle? Think about the impact of climate change in a certain region.<br>What word becomes a palindrome when you add three letters to it? <br>To help you solve it, consider the average temperature increase in the region over the past few years. Use the following array of temperature values to calculate the average temperature increase per year: <br>let temperatures = [24, 26, 27, 29, 31, 33, 36, 35, 33, 30, 28, 25]; <br>As the temperature continues to rise, words are getting shorter and shorter. Can you figure out the word that fits this description?</span>"
      ],
      "text/plain": [
       "<IPython.core.display.HTML object>"
      ]
     },
     "metadata": {},
     "output_type": "display_data"
    },
    {
     "data": {
      "text/html": [
       "<span style=\"color: #2bc235\">__________________ <br> __________________ <br> __________________ <br></span>"
      ],
      "text/plain": [
       "<IPython.core.display.HTML object>"
      ]
     },
     "metadata": {},
     "output_type": "display_data"
    },
    {
     "name": "stdout",
     "output_type": "stream",
     "text": [
      "RESPONSE 1: \n",
      "The word is \"bottle\", which is a palindrome when you add three letters (t, e, a). To calculate the average temperature increase per year, we can use the formula ΔT = T2 - T1, where T1 and T2 are the temperatures of two subsequent years. In this case, the calculated average temperature increase is 3.5°C (24-20.5°C = 3.5°C).\n"
     ]
    },
    {
     "data": {
      "text/html": [
       "<span style=\"color: #2bc235\">__________________ <br> __________________ <br> __________________ <br></span>"
      ],
      "text/plain": [
       "<IPython.core.display.HTML object>"
      ]
     },
     "metadata": {},
     "output_type": "display_data"
    },
    {
     "name": "stdout",
     "output_type": "stream",
     "text": [
      "MODEL :  alpaca-7b\n"
     ]
    },
    {
     "data": {
      "text/html": [
       "<span style=\"color: #fc3819\">ANNOTATIONS<br>instruction_following : 1 : The text provides an incorrect palindrome solution and an incorrect calculation for the average temperature increase. It does not address the impact of climate change in the region.<br>honesty : 1 : The response is confidently incorrect. The word \"bottle\" does not become a palindrome when adding three letters, and the average temperature increase calculation is incorrect.<br>truthfulness : 1 : The text claims that \"bottle\" becomes a palindrome when three letters are added, which is incorrect. The calculated average temperature increase is also incorrect, as it uses an incorrect formula.<br>helpfulness : 1 : The response is clear, relevant, and provides a detailed description of the calculation. It also avoids repetition.<br></span>"
      ],
      "text/plain": [
       "<IPython.core.display.HTML object>"
      ]
     },
     "metadata": {},
     "output_type": "display_data"
    },
    {
     "data": {
      "text/html": [
       "<span style=\"color: #2bc235\">__________________ <br> __________________ <br> __________________ <br></span>"
      ],
      "text/plain": [
       "<IPython.core.display.HTML object>"
      ]
     },
     "metadata": {},
     "output_type": "display_data"
    },
    {
     "name": "stdout",
     "output_type": "stream",
     "text": [
      "RESPONSE 2:\n",
      "The word is \"iceberg\".\n",
      "\n",
      "When you add three letters to \"iceberg\", it becomes \"sbeicger\", which is a palindrome.\n",
      "\n",
      "The average temperature increase in the region over the past few years is 2 degrees Celsius. This means that the region is getting warmer every year, and the ice is melting. As the ice melts, the words that are used to describe the region are getting shorter and shorter.\n",
      "\n",
      "The word \"iceberg\" is a perfect example of this. It is a long word that describes a large piece of ice that floats in the water. However, as the ice melts, the word \"iceberg\" will become shorter and shorter. Eventually, it will become the word \"berg\", which is a much shorter word.\n",
      "\n",
      "This is just one example of how climate change is affecting our language. As the world warms, we will see more and more changes to the words that we use to describe our world.\n"
     ]
    },
    {
     "data": {
      "text/html": [
       "<span style=\"color: #2bc235\">__________________ <br> __________________ <br> __________________ <br></span>"
      ],
      "text/plain": [
       "<IPython.core.display.HTML object>"
      ]
     },
     "metadata": {},
     "output_type": "display_data"
    },
    {
     "name": "stdout",
     "output_type": "stream",
     "text": [
      "MODEL :  bard\n"
     ]
    },
    {
     "data": {
      "text/html": [
       "<span style=\"color: #fc3819\">ANNOTATIONS<br>instruction_following : 2 : The text provides an incorrect palindrome solution. However, it does address the impact of climate change in the region and the idea of words getting shorter.<br>honesty : 1 : The response is confidently incorrect. The word \"iceberg\" does not become a palindrome when adding three letters, and the explanation about words getting shorter is unrelated to the puzzle.<br>truthfulness : 1 : The text claims that \"iceberg\" becomes a palindrome when three letters are added, which is incorrect. The text also contains a logical error, stating that words are getting shorter due to climate change, which is not a valid connection.<br>helpfulness : 1 : The response is clear, relevant, and provides a detailed description of the calculation. It also avoids repetition.<br></span>"
      ],
      "text/plain": [
       "<IPython.core.display.HTML object>"
      ]
     },
     "metadata": {},
     "output_type": "display_data"
    },
    {
     "name": "stdout",
     "output_type": "stream",
     "text": [
      "QUESTION\n",
      "___________________\n"
     ]
    },
    {
     "data": {
      "text/html": [
       "<span style=\"color: #4287f5\">How can we enhance the robotic arm's capabilities for real-time object recognition and path planning using advanced machine learning techniques, while also incorporating force feedback sensors that can adapt the grip strength based on the weight and fragility of the objects during pick and place operations? Can we also explore the possibility of integrating a feedback control system to monitor the arm's position and orientation for improved precision and accuracy?</span>"
      ],
      "text/plain": [
       "<IPython.core.display.HTML object>"
      ]
     },
     "metadata": {},
     "output_type": "display_data"
    },
    {
     "data": {
      "text/html": [
       "<span style=\"color: #2bc235\">__________________ <br> __________________ <br> __________________ <br></span>"
      ],
      "text/plain": [
       "<IPython.core.display.HTML object>"
      ]
     },
     "metadata": {},
     "output_type": "display_data"
    },
    {
     "name": "stdout",
     "output_type": "stream",
     "text": [
      "RESPONSE 1: \n",
      "Enhancing the robotic arm's capabilities with advanced machine learning techniques and incorporating force feedback sensors, as well as integrating a feedback control system for improved precision and accuracy, can be achieved through the following steps:\n",
      "\n",
      "1. Real-time object recognition: Utilize state-of-the-art computer vision algorithms like Convolutional Neural Networks (CNN) or object-centric approaches like Region-based CNN (R-CNN) to allow the robotic arm to recognize and classify objects in real-time.\n",
      "\n",
      "2. Path planning: Implement advanced path planning algorithms such as Rapidly-exploring Random Trees (RRT), Probabilistic Roadmaps (PRM), or Deep Reinforcement Learning-based methods to enable smooth, collision-free motion planning for the robotic arm.\n",
      "\n",
      "3. Force feedback sensors: Integrate force/torque sensors into the robotic arm's gripper to provide the necessary force feedback. This would give the robotic arm the ability to sense and adapt its grip force according to the weight and fragility of objects.\n",
      "\n",
      "4. Machine Learning for force adaptation: Train machine learning models, such as Support Vector Machines (SVM) or Artificial Neural Networks (ANN), on the data collected from the force feedback sensors. These models can be used to adapt and optimize the grip strength based on the object type and its properties.\n",
      "\n",
      "5. Feedback control system for arm's position and orientation: Incorporate a feedback control system using techniques such as Proportional-Integral-Derivative (PID) controllers or Model Predictive Control (MPC) to continuously adjust the arm's position, orientation, and speed, thus improving its precision and accuracy.\n",
      "\n",
      "6. Sensor fusion: Combine data from multiple sensors, including vision, force, and position/orientation sensors, to refine overall performance. Use sensor fusion techniques like Kalman filters or Bayesian networks to intelligently manage and process this data.\n",
      "\n",
      "7. Continuous learning and adaptation: Allow the robotic arm to continually learn from its experiences. By using online learning and adaptive control techniques, the robotic arm can improve its performance over time as it gains more experience in handling different objects and situations.\n",
      "\n",
      "By following these steps, you can create a highly efficient and capable robotic arm system, able to recognize objects in real time, plan smooth trajectories, adapt its grip strength based on object properties, and maintain precise control of its position and orientation.\n"
     ]
    },
    {
     "data": {
      "text/html": [
       "<span style=\"color: #2bc235\">__________________ <br> __________________ <br> __________________ <br></span>"
      ],
      "text/plain": [
       "<IPython.core.display.HTML object>"
      ]
     },
     "metadata": {},
     "output_type": "display_data"
    },
    {
     "name": "stdout",
     "output_type": "stream",
     "text": [
      "MODEL :  gpt-3.5-turbo\n"
     ]
    },
    {
     "data": {
      "text/html": [
       "<span style=\"color: #fc3819\">ANNOTATIONS<br>instruction_following : 5 : The text comprehensively addresses the task goal and restrictions, providing a detailed step-by-step approach to enhance the robotic arm's capabilities using advanced machine learning techniques, incorporating force feedback sensors, and integrating a feedback control system. It also includes specific examples of techniques and algorithms that can be used.<br>honesty : 5 : The text is correct and confident in its response, providing a detailed step-by-step approach to enhance the robotic arm's capabilities, incorporate force feedback sensors, and integrate a feedback control system.<br>truthfulness : 5 : The text does not contain any hallucinations and provides accurate information related to the instruction.<br>helpfulness : 5 : The response is clear, relevant, and provides comprehensive information without being lengthy or repetitive.<br></span>"
      ],
      "text/plain": [
       "<IPython.core.display.HTML object>"
      ]
     },
     "metadata": {},
     "output_type": "display_data"
    },
    {
     "data": {
      "text/html": [
       "<span style=\"color: #2bc235\">__________________ <br> __________________ <br> __________________ <br></span>"
      ],
      "text/plain": [
       "<IPython.core.display.HTML object>"
      ]
     },
     "metadata": {},
     "output_type": "display_data"
    },
    {
     "name": "stdout",
     "output_type": "stream",
     "text": [
      "RESPONSE 2:\n",
      "To enhance the robotic arm's capabilities for real-time object recognition and path planning, we can use advanced machine learning techniques such as deep learning and convolutional neural networks (CNNs). These techniques can help the robotic arm recognize objects in real-time and plan the best path to pick and place them.\n",
      "To incorporate force feedback sensors that can adapt the grip strength based on the weight and fragility of the objects during pick and place operations, we can use force torque sensors that can measure the force applied by the robotic arm and adjust the grip strength accordingly. This can help prevent damage to fragile objects and ensure a secure grip on heavier objects.\n",
      "To integrate a feedback control system to monitor the arm's position and orientation for improved precision and accuracy, we can use sensors such as encoders and cameras to track the movement of the robotic arm and adjust its position and orientation in real-time. This can help ensure that the arm is always in the correct position and orientation for pick and place operations.\n",
      "Overall, by incorporating advanced machine learning techniques, force feedback sensors, and a feedback control system, we can enhance the capabilities of the robotic arm and improve its precision and accuracy during pick and place operations.\n"
     ]
    },
    {
     "data": {
      "text/html": [
       "<span style=\"color: #2bc235\">__________________ <br> __________________ <br> __________________ <br></span>"
      ],
      "text/plain": [
       "<IPython.core.display.HTML object>"
      ]
     },
     "metadata": {},
     "output_type": "display_data"
    },
    {
     "name": "stdout",
     "output_type": "stream",
     "text": [
      "MODEL :  mpt-30b-chat\n"
     ]
    },
    {
     "data": {
      "text/html": [
       "<span style=\"color: #fc3819\">ANNOTATIONS<br>instruction_following : 5 : The text comprehensively addresses the task goal and restrictions, providing detailed information on enhancing the robotic arm's capabilities using advanced machine learning techniques, incorporating force feedback sensors, and integrating a feedback control system.<br>honesty : 5 : The text is correct and confident in its response, providing specific techniques and methods for enhancing the robotic arm's capabilities, incorporating force feedback sensors, and integrating a feedback control system.<br>truthfulness : 4 : The text does not contain any hallucinations and provides accurate information related to the instruction.<br>helpfulness : 4 : The response is clear, relevant, and provides comprehensive information without being lengthy or repetitive.<br></span>"
      ],
      "text/plain": [
       "<IPython.core.display.HTML object>"
      ]
     },
     "metadata": {},
     "output_type": "display_data"
    },
    {
     "name": "stdout",
     "output_type": "stream",
     "text": [
      "QUESTION\n",
      "___________________\n"
     ]
    },
    {
     "data": {
      "text/html": [
       "<span style=\"color: #4287f5\">Incorporating birth/death dates, accomplishments, and societal impact, how can you create a program that utilizes data from a SQL database to generate a comprehensive ranking of historical figures based on their level of influence? Can you extend the scope of this inquiry by incorporating multi-dimensional analysis of individuals' contributions? Using Python code and SQL queries, can you develop a sophisticated algorithm that incorporates various weighted factors to accurately calculate each person's influence score? Once the scores have been calculated, how can you retrieve an extensive list of the top 10 most influential individuals throughout history?</span>"
      ],
      "text/plain": [
       "<IPython.core.display.HTML object>"
      ]
     },
     "metadata": {},
     "output_type": "display_data"
    },
    {
     "data": {
      "text/html": [
       "<span style=\"color: #2bc235\">__________________ <br> __________________ <br> __________________ <br></span>"
      ],
      "text/plain": [
       "<IPython.core.display.HTML object>"
      ]
     },
     "metadata": {},
     "output_type": "display_data"
    },
    {
     "name": "stdout",
     "output_type": "stream",
     "text": [
      "RESPONSE 1: \n",
      "You can create a program to generate a comprehensive ranking of historical figures based on their level of influence by following these steps:\n",
      "\n",
      "1. Design and create an SQL database to store information about historical figures, including their birth/death dates, accomplishments, and societal impact.\n",
      "\n",
      "2. Acquire and populate the database with information about historical figures from reliable sources.\n",
      "\n",
      "3. Establish a set of quantitative metrics and assigned weights to evaluate an individual's level of influence.\n",
      "\n",
      "4. Implement a Python program to access the SQL database, perform calculations, and generate a ranked list of historical figures.\n",
      "\n",
      "Here's a high-level overview of what your Python code might look like, using SQLite as the SQL database:\n",
      "\n",
      "```python\n",
      "import sqlite3\n",
      "import pandas as pd\n",
      "\n",
      "# Define weights for each criterion\n",
      "weights = {\n",
      "    \"birth_death_dates\": 1.0,\n",
      "    \"accomplishments\": 2.0,\n",
      "    \"societal_impact\": 3.0,\n",
      "}\n",
      "\n",
      "def calculate_influence_score(data, weights):\n",
      "    weighted_scores = []\n",
      "    for key, value in weights.items():\n",
      "        weighted_scores.append(data[key] * value)\n",
      "    return sum(weighted_scores)\n",
      "\n",
      "# Connect to the SQLite database\n",
      "conn = sqlite3.connect(\"historical_figures.db\")\n",
      "\n",
      "# Retrieve data from the database\n",
      "data = pd.read_sql_query(\"SELECT * FROM historical_figures\", conn)\n",
      "\n",
      "# Calculate influence scores for each person\n",
      "data[\"score\"] = data.apply(lambda row: calculate_influence_score(row, weights), axis=1)\n",
      "\n",
      "# Sort data by score in descending order and print the top 10 most influential individuals\n",
      "top_10 = data.sort_values(by=\"score\", ascending=False).head(10)\n",
      "print(top_10[[\"name\", \"score\"]])\n",
      "```\n",
      "\n",
      "The above code reads data from an SQLite database called `historical_figures.db`, calculates the influence scores for each person using the weights dictionary, and prints the top 10 most influential individuals.\n",
      "\n",
      "Keep in mind that this is a basic example; you may want to refine your metrics and dataset to ensure a more accurate and nuanced ranking. Additionally, by incorporating multi-dimensional analysis (e.g., evaluating contributions across different domains such as politics, science, culture, etc.), you can further enhance the ranking's accuracy.\n",
      "\n",
      "You can implement these enhancements by modifying the database schema and creating additional tables to organize data, as well as updating the metrics and calculations in your Python program. Remember to use proper validation and normalization techniques to maintain the quality and consistency of data in your database.\n"
     ]
    },
    {
     "data": {
      "text/html": [
       "<span style=\"color: #2bc235\">__________________ <br> __________________ <br> __________________ <br></span>"
      ],
      "text/plain": [
       "<IPython.core.display.HTML object>"
      ]
     },
     "metadata": {},
     "output_type": "display_data"
    },
    {
     "name": "stdout",
     "output_type": "stream",
     "text": [
      "MODEL :  gpt-3.5-turbo\n"
     ]
    },
    {
     "data": {
      "text/html": [
       "<span style=\"color: #fc3819\">ANNOTATIONS<br>instruction_following : 4 : The text provides a high-level overview of creating a program to rank historical figures based on their level of influence and includes a Python code example. However, it does not explicitly discuss incorporating multi-dimensional analysis, and the example provided does not demonstrate how to adjust the weights assigned to various factors.<br>honesty : 5 : The text provides a correct and confident response, including a detailed explanation and Python code example. It does not express any uncertainty.<br>truthfulness : 5 : The text does not introduce any hallucinations or contradictions.<br>helpfulness : 4 : The response is clear and relevant to the task, provides useful and comprehensive information, and avoids verbosity or repetition.<br></span>"
      ],
      "text/plain": [
       "<IPython.core.display.HTML object>"
      ]
     },
     "metadata": {},
     "output_type": "display_data"
    },
    {
     "data": {
      "text/html": [
       "<span style=\"color: #2bc235\">__________________ <br> __________________ <br> __________________ <br></span>"
      ],
      "text/plain": [
       "<IPython.core.display.HTML object>"
      ]
     },
     "metadata": {},
     "output_type": "display_data"
    },
    {
     "name": "stdout",
     "output_type": "stream",
     "text": [
      "RESPONSE 2:\n",
      "I understand that you're looking to develop a program that can rank historical figures based on their level of influence. To create a comprehensive ranking, it's important to define the criteria for influence and quantify those criteria using data.\n",
      "\n",
      "To begin, let's consider the following criteria for influence:\n",
      "\n",
      "1. Impact on society: This can be measured by the number of lives affected, the scale of the impact, and the longevity of the effect.\n",
      "2. Achievements: This can include notable accomplishments, innovations, discoveries, or works of art that have had a lasting impact.\n",
      "3. Leadership: This can include leadership roles, the size of the group or organization led, and the impact of their leadership.\n",
      "4. Public recognition: This can include awards, honors, and other forms of recognition received.\n",
      "5. Historical context: This can include the time period, location, and cultural context in which the individual lived and worked.\n",
      "\n",
      "Next, we need to gather data on these criteria for a large number of historical figures. This data can come from a variety of sources, such as biographies, historical records, and academic studies. We can then store this data in a SQL database for easy access and analysis.\n",
      "\n",
      "Once we have the data, we can use Python code and SQL queries to develop a sophisticated algorithm that incorporates various weighted factors to accurately calculate each person's influence score. The weighted factors can be determined based on the relative importance of each criterion.\n",
      "\n",
      "For example, we might give a weight of 0.4 to impact on society, 0.3 to achievements, 0.2 to leadership, 0.1 to public recognition, and 0.05 to historical context. These weights can be adjusted based on the specific goals and requirements of the project.\n",
      "\n",
      "To calculate the influence score for each individual, we can use a SQL query to retrieve the relevant data for that individual and then apply the weighted factors using Python code. The resulting score can then be stored in the database for easy retrieval.\n",
      "\n",
      "Finally, we can use a SQL query to retrieve an extensive list of the top 10 most influential individuals throughout history, based on their influence scores. We can then rank them in order of their influence scores, and provide a brief summary of their achievements and impact on society.\n",
      "\n",
      "Here's an example of a Python script that could be used to calculate the influence score for a given individual:\n",
      "```\n",
      "import sqlite3\n",
      "\n",
      "# Connect to the database\n",
      "conn = sqlite3.connect('historical_figures.db')\n",
      "cursor = conn.cursor()\n",
      "\n",
      "# Retrieve the data for the individual\n",
      "cursor.execute('SELECT impact, achievements, leadership, public_recognition, historical_context FROM historical_figures WHERE name = ?', ('Marie Curie',))\n",
      "data = cursor.fetchone()\n",
      "\n",
      "# Calculate the influence score\n",
      "impact_score = data[0] * 0.4\n",
      "achievements_score = data[1] * 0.3\n",
      "leadership_score = data[2] * 0.2\n",
      "public_recognition_score = data[3] * 0.1\n",
      "historical_context_score = data[4] * 0.05\n",
      "influence_score = impact_score + achievements_score + leadership_score + public_recognition_score + historical_context_score\n",
      "\n",
      "# Store the influence score in the database\n",
      "cursor.execute('UPDATE historical_figures SET influence_score = ? WHERE name = ?', (influence_score, 'Marie Curie'))\n",
      "conn.commit()\n",
      "conn.close()\n",
      "```\n",
      "Of course, this is just a basic example, and there are many ways to refine and improve the algorithm. But hopefully this gives you a starting point for your project!\n"
     ]
    },
    {
     "data": {
      "text/html": [
       "<span style=\"color: #2bc235\">__________________ <br> __________________ <br> __________________ <br></span>"
      ],
      "text/plain": [
       "<IPython.core.display.HTML object>"
      ]
     },
     "metadata": {},
     "output_type": "display_data"
    },
    {
     "name": "stdout",
     "output_type": "stream",
     "text": [
      "MODEL :  llama-2-70b-chat\n"
     ]
    },
    {
     "data": {
      "text/html": [
       "<span style=\"color: #fc3819\">ANNOTATIONS<br>instruction_following : 5 : The text comprehensively addresses the task goal by providing a detailed explanation of how to create a program that ranks historical figures based on their level of influence. It also discusses incorporating multi-dimensional analysis and provides a Python code example that demonstrates how to calculate influence scores using SQL queries.<br>honesty : 4 : The text provides a correct response with a detailed explanation and Python code example. However, it does not express any uncertainty or confidence level.<br>truthfulness : 5 : The text does not introduce any hallucinations or contradictions.<br>helpfulness : 4 : The response is clear and relevant to the task, provides useful and comprehensive information, and avoids verbosity or repetition.<br></span>"
      ],
      "text/plain": [
       "<IPython.core.display.HTML object>"
      ]
     },
     "metadata": {},
     "output_type": "display_data"
    }
   ],
   "source": [
    "def print_example(ind, rinds, showrats=True):\n",
    "    question_color = \"#4287f5\"  # blue\n",
    "    bar_color = \"#2bc235\" # green\n",
    "    rating_color = \"#fc3819\" # red\n",
    "    lsplit = \"__________________ <br> __________________ <br> __________________ <br>\"\n",
    "    row = data['train'][ind]\n",
    "    print(\"QUESTION\\n___________________\")\n",
    "    s = row['instruction'].replace(\"\\n\", \"<br>\")\n",
    "    display(HTML(f'<span style=\"color: {question_color}\">{s}</span>'))\n",
    "    \n",
    "    display(HTML(f'<span style=\"color: {bar_color}\">{lsplit}</span>'))\n",
    "    print(\"RESPONSE 1: \")\n",
    "    c1 = row['completions'][rinds[0]]\n",
    "    print(c1['response'])\n",
    "\n",
    "    if showrats:\n",
    "        display(HTML(f'<span style=\"color: {bar_color}\">{lsplit}</span>'))\n",
    "        print(\"MODEL : \", c1['model'])\n",
    "        rs = \"ANNOTATIONS<br>\"\n",
    "        for an in c1['annotations'].keys():\n",
    "            annot = c1['annotations'][an]\n",
    "            rs = rs+an+ \" : \"+ annot['Rating']+ \" : \"+ annot['Rationale']+\"<br>\"\n",
    "        display(HTML(f'<span style=\"color: {rating_color}\">{rs}</span>'))\n",
    "        \n",
    "    display(HTML(f'<span style=\"color: {bar_color}\">{lsplit}</span>'))\n",
    "    print(\"RESPONSE 2:\")\n",
    "    \n",
    "    c1 = row['completions'][rinds[1]]\n",
    "    print(c1['response'])\n",
    "    if showrats:\n",
    "        display(HTML(f'<span style=\"color: {bar_color}\">{lsplit}</span>'))\n",
    "        print(\"MODEL : \", c1['model'])\n",
    "        rs = \"ANNOTATIONS<br>\"\n",
    "        for an in c1['annotations'].keys():\n",
    "            annot = c1['annotations'][an]\n",
    "            rs = rs+an+ \" : \"+ annot['Rating']+ \" : \"+ annot['Rationale']+\"<br>\"\n",
    "        display(HTML(f'<span style=\"color: {rating_color}\">{rs}</span>'))\n",
    "    # print(row['completions'][rinds[0]].keys())\n",
    "\n",
    "for i in range(0,10):\n",
    "    print_example(i, [0,1])"
   ]
  },
  {
   "cell_type": "code",
   "execution_count": null,
   "id": "33ab6da8-a175-469b-8349-cf3eb05a5d12",
   "metadata": {},
   "outputs": [],
   "source": [
    "data['train'][2]['completions']"
   ]
  },
  {
   "cell_type": "code",
   "execution_count": 10,
   "id": "87357856-bb91-47fd-b486-9812ce6eea7f",
   "metadata": {},
   "outputs": [],
   "source": [
    "toker = AutoTokenizer.from_pretrained(\"../../models/sft10k\") # HACK update path on restart\n",
    "# process dataframe to give appropriate length information that can be used to get basic length stats\n",
    "asp_dict = {\n",
    "    'hf': 'helpfulness',\n",
    "    'hn': 'honesty', \n",
    "    'tn': 'truthfulness', \n",
    "    'ifg':'instruction_following'\n",
    "}\n",
    "tqdm.pandas()\n",
    "# convert dataset into pairwise preference dataset (assume mns is populated)"
   ]
  },
  {
   "cell_type": "code",
   "execution_count": 15,
   "id": "77a8deeb-585a-4e4c-a57b-8111194eda9b",
   "metadata": {},
   "outputs": [],
   "source": [
    "df = pd.DataFrame(data['train'])"
   ]
  },
  {
   "cell_type": "code",
   "execution_count": null,
   "id": "04b7f877-cc14-4a90-8c5a-f157e5614471",
   "metadata": {},
   "outputs": [],
   "source": [
    "# only run once since it takes a while\n",
    "process_df_ultra(df, toker)"
   ]
  },
  {
   "cell_type": "code",
   "execution_count": 17,
   "id": "6ddc0e7c-e499-4442-aa1c-3bfad615d2fb",
   "metadata": {},
   "outputs": [
    {
     "name": "stdout",
     "output_type": "stream",
     "text": [
      "off\n"
     ]
    }
   ],
   "source": [
    "# aggregate scores across different types\n",
    "procmean(df)\n",
    "# drop one thing where score gets weird\n",
    "df = df[df['mn']!=-1].reset_index(drop=True)"
   ]
  },
  {
   "cell_type": "code",
   "execution_count": 21,
   "id": "3cd70c17-81ca-4f0b-9a93-e49a10ebd196",
   "metadata": {},
   "outputs": [],
   "source": [
    "pairdf = create_pairwise_dataframe(df)"
   ]
  },
  {
   "cell_type": "code",
   "execution_count": 22,
   "id": "39193bc8-a0ee-48a3-8d8f-d9a1d370f4c9",
   "metadata": {},
   "outputs": [],
   "source": [
    "pairdset = Dataset.from_pandas(pairdf)"
   ]
  },
  {
   "cell_type": "code",
   "execution_count": 24,
   "id": "565b50ab-f2a4-4f8f-8219-39c5a4b0cdea",
   "metadata": {},
   "outputs": [
    {
     "name": "stderr",
     "output_type": "stream",
     "text": [
      "                                                                                                                                                                                            \r"
     ]
    }
   ],
   "source": [
    "pairdset.save_to_disk(\"../../data/ultrafeedasp\")"
   ]
  },
  {
   "cell_type": "code",
   "execution_count": 33,
   "id": "a57550f5-a7ef-4c00-b5dd-edbdc74991ea",
   "metadata": {},
   "outputs": [
    {
     "name": "stderr",
     "output_type": "stream",
     "text": [
      "                                                                                                                                                                                        \r"
     ]
    }
   ],
   "source": [
    "Dataset.from_pandas(pairdf[pairdf.magnitude>0]).save_to_disk(\"../data/ultrafeeddiff\")"
   ]
  },
  {
   "cell_type": "code",
   "execution_count": 4,
   "id": "c8e6ba61-7be5-4cfb-abcc-a6c58617d750",
   "metadata": {},
   "outputs": [
    {
     "data": {
      "text/plain": [
       "Dataset({\n",
       "    features: ['question', 'source', 'modj', 'modk', 'tokj', 'tok', 'response_j', 'response_k', 'magnitude', '__index_level_0__'],\n",
       "    num_rows: 340025\n",
       "})"
      ]
     },
     "execution_count": 4,
     "metadata": {},
     "output_type": "execute_result"
    }
   ],
   "source": [
    "Dataset.load_from_disk(\"../../data/ultrafeeddiff\")"
   ]
  },
  {
   "cell_type": "code",
   "execution_count": 22,
   "id": "a94b1557-cc7f-4d76-ab7c-69a164be7e8f",
   "metadata": {},
   "outputs": [
    {
     "data": {
      "text/plain": [
       "(array([108529.,  91598.,  32763.,  46584.,  19470.,  30719.,  23674.,\n",
       "         10390.,  13380.,   6689.]),\n",
       " array([0. , 0.4, 0.8, 1.2, 1.6, 2. , 2.4, 2.8, 3.2, 3.6, 4. ]),\n",
       " <BarContainer object of 10 artists>)"
      ]
     },
     "execution_count": 22,
     "metadata": {},
     "output_type": "execute_result"
    },
    {
     "data": {
      "image/png": "[encoded data removed]",
      "text/plain": [
       "<Figure size 640x480 with 1 Axes>"
      ]
     },
     "metadata": {},
     "output_type": "display_data"
    }
   ],
   "source": [
    "plt.hist(pairdf.magnitude)"
   ]
  },
  {
   "cell_type": "code",
   "execution_count": 18,
   "id": "0486b264-55a9-4266-9bde-d7ecd48cef0e",
   "metadata": {},
   "outputs": [],
   "source": [
    "pairdset = create_pairwise_dataframe(df)"
   ]
  },
  {
   "cell_type": "code",
   "execution_count": 19,
   "id": "1c33e69f-744e-4923-99d9-e1801c61b57a",
   "metadata": {},
   "outputs": [
    {
     "data": {
      "text/html": [
       "<div>\n",
       "<style scoped>\n",
       "    .dataframe tbody tr th:only-of-type {\n",
       "        vertical-align: middle;\n",
       "    }\n",
       "\n",
       "    .dataframe tbody tr th {\n",
       "        vertical-align: top;\n",
       "    }\n",
       "\n",
       "    .dataframe thead th {\n",
       "        text-align: right;\n",
       "    }\n",
       "</style>\n",
       "<table border=\"1\" class=\"dataframe\">\n",
       "  <thead>\n",
       "    <tr style=\"text-align: right;\">\n",
       "      <th></th>\n",
       "      <th>question</th>\n",
       "      <th>source</th>\n",
       "      <th>modj</th>\n",
       "      <th>modk</th>\n",
       "      <th>tokj</th>\n",
       "      <th>tok</th>\n",
       "      <th>response_j</th>\n",
       "      <th>response_k</th>\n",
       "      <th>magnitude</th>\n",
       "      <th>mn_j</th>\n",
       "      <th>mn_k</th>\n",
       "      <th>hf_j</th>\n",
       "      <th>hf_k</th>\n",
       "      <th>hn_j</th>\n",
       "      <th>hn_k</th>\n",
       "      <th>tn_j</th>\n",
       "      <th>tn_k</th>\n",
       "      <th>ifg_j</th>\n",
       "      <th>ifg_k</th>\n",
       "    </tr>\n",
       "  </thead>\n",
       "  <tbody>\n",
       "    <tr>\n",
       "      <th>0</th>\n",
       "      <td>Can you write a C++ program that prompts the u...</td>\n",
       "      <td>evol_instruct</td>\n",
       "      <td>pythia-12b</td>\n",
       "      <td>alpaca-7b</td>\n",
       "      <td>583</td>\n",
       "      <td>130</td>\n",
       "      <td>Here's a C++ program that prompts the user to ...</td>\n",
       "      <td>int main() {\\n    string country;\\n    // prom...</td>\n",
       "      <td>3.75</td>\n",
       "      <td>5.00</td>\n",
       "      <td>1.25</td>\n",
       "      <td>5</td>\n",
       "      <td>2</td>\n",
       "      <td>5</td>\n",
       "      <td>1</td>\n",
       "      <td>5</td>\n",
       "      <td>1</td>\n",
       "      <td>5</td>\n",
       "      <td>1</td>\n",
       "    </tr>\n",
       "    <tr>\n",
       "      <th>1</th>\n",
       "      <td>Can you write a C++ program that prompts the u...</td>\n",
       "      <td>evol_instruct</td>\n",
       "      <td>starchat</td>\n",
       "      <td>alpaca-7b</td>\n",
       "      <td>363</td>\n",
       "      <td>130</td>\n",
       "      <td>Sure! Here's a C++ program that prompts the us...</td>\n",
       "      <td>int main() {\\n    string country;\\n    // prom...</td>\n",
       "      <td>2.75</td>\n",
       "      <td>4.00</td>\n",
       "      <td>1.25</td>\n",
       "      <td>4</td>\n",
       "      <td>2</td>\n",
       "      <td>4</td>\n",
       "      <td>1</td>\n",
       "      <td>3</td>\n",
       "      <td>1</td>\n",
       "      <td>5</td>\n",
       "      <td>1</td>\n",
       "    </tr>\n",
       "    <tr>\n",
       "      <th>2</th>\n",
       "      <td>Can you write a C++ program that prompts the u...</td>\n",
       "      <td>evol_instruct</td>\n",
       "      <td>alpaca-7b</td>\n",
       "      <td>vicuna-33b</td>\n",
       "      <td>130</td>\n",
       "      <td>276</td>\n",
       "      <td>Sure, here is the program using the C++11 algo...</td>\n",
       "      <td>int main() {\\n    string country;\\n    // prom...</td>\n",
       "      <td>0.00</td>\n",
       "      <td>1.25</td>\n",
       "      <td>1.25</td>\n",
       "      <td>2</td>\n",
       "      <td>1</td>\n",
       "      <td>1</td>\n",
       "      <td>1</td>\n",
       "      <td>1</td>\n",
       "      <td>1</td>\n",
       "      <td>1</td>\n",
       "      <td>2</td>\n",
       "    </tr>\n",
       "    <tr>\n",
       "      <th>3</th>\n",
       "      <td>Can you write a C++ program that prompts the u...</td>\n",
       "      <td>evol_instruct</td>\n",
       "      <td>pythia-12b</td>\n",
       "      <td>starchat</td>\n",
       "      <td>583</td>\n",
       "      <td>363</td>\n",
       "      <td>Here's a C++ program that prompts the user to ...</td>\n",
       "      <td>Sure! Here's a C++ program that prompts the us...</td>\n",
       "      <td>1.00</td>\n",
       "      <td>5.00</td>\n",
       "      <td>4.00</td>\n",
       "      <td>5</td>\n",
       "      <td>4</td>\n",
       "      <td>5</td>\n",
       "      <td>4</td>\n",
       "      <td>5</td>\n",
       "      <td>3</td>\n",
       "      <td>5</td>\n",
       "      <td>5</td>\n",
       "    </tr>\n",
       "    <tr>\n",
       "      <th>4</th>\n",
       "      <td>Can you write a C++ program that prompts the u...</td>\n",
       "      <td>evol_instruct</td>\n",
       "      <td>pythia-12b</td>\n",
       "      <td>vicuna-33b</td>\n",
       "      <td>583</td>\n",
       "      <td>276</td>\n",
       "      <td>Here's a C++ program that prompts the user to ...</td>\n",
       "      <td>Sure, here is the program using the C++11 algo...</td>\n",
       "      <td>3.75</td>\n",
       "      <td>5.00</td>\n",
       "      <td>1.25</td>\n",
       "      <td>5</td>\n",
       "      <td>1</td>\n",
       "      <td>5</td>\n",
       "      <td>1</td>\n",
       "      <td>5</td>\n",
       "      <td>1</td>\n",
       "      <td>5</td>\n",
       "      <td>2</td>\n",
       "    </tr>\n",
       "    <tr>\n",
       "      <th>...</th>\n",
       "      <td>...</td>\n",
       "      <td>...</td>\n",
       "      <td>...</td>\n",
       "      <td>...</td>\n",
       "      <td>...</td>\n",
       "      <td>...</td>\n",
       "      <td>...</td>\n",
       "      <td>...</td>\n",
       "      <td>...</td>\n",
       "      <td>...</td>\n",
       "      <td>...</td>\n",
       "      <td>...</td>\n",
       "      <td>...</td>\n",
       "      <td>...</td>\n",
       "      <td>...</td>\n",
       "      <td>...</td>\n",
       "      <td>...</td>\n",
       "      <td>...</td>\n",
       "      <td>...</td>\n",
       "    </tr>\n",
       "    <tr>\n",
       "      <th>383791</th>\n",
       "      <td>What is the role of the International Atomic E...</td>\n",
       "      <td>ultrachat</td>\n",
       "      <td>wizardlm-70b</td>\n",
       "      <td>llama-2-13b-chat</td>\n",
       "      <td>383</td>\n",
       "      <td>337</td>\n",
       "      <td>As an AI assistant, I will do my best to provi...</td>\n",
       "      <td>Hello! I'm here to help answer your question. ...</td>\n",
       "      <td>0.25</td>\n",
       "      <td>5.00</td>\n",
       "      <td>4.75</td>\n",
       "      <td>5</td>\n",
       "      <td>4</td>\n",
       "      <td>5</td>\n",
       "      <td>5</td>\n",
       "      <td>5</td>\n",
       "      <td>5</td>\n",
       "      <td>5</td>\n",
       "      <td>5</td>\n",
       "    </tr>\n",
       "    <tr>\n",
       "      <th>383792</th>\n",
       "      <td>What is the role of the International Atomic E...</td>\n",
       "      <td>ultrachat</td>\n",
       "      <td>llama-2-13b-chat</td>\n",
       "      <td>wizardlm-7b</td>\n",
       "      <td>337</td>\n",
       "      <td>231</td>\n",
       "      <td>Hello! I'm here to help answer your question. ...</td>\n",
       "      <td>The International Atomic Energy Agency (IAEA) ...</td>\n",
       "      <td>0.00</td>\n",
       "      <td>4.75</td>\n",
       "      <td>4.75</td>\n",
       "      <td>4</td>\n",
       "      <td>4</td>\n",
       "      <td>5</td>\n",
       "      <td>5</td>\n",
       "      <td>5</td>\n",
       "      <td>5</td>\n",
       "      <td>5</td>\n",
       "      <td>5</td>\n",
       "    </tr>\n",
       "    <tr>\n",
       "      <th>383793</th>\n",
       "      <td>What is the role of the International Atomic E...</td>\n",
       "      <td>ultrachat</td>\n",
       "      <td>wizardlm-70b</td>\n",
       "      <td>ultralm-65b</td>\n",
       "      <td>383</td>\n",
       "      <td>171</td>\n",
       "      <td>As an AI assistant, I will do my best to provi...</td>\n",
       "      <td>The International Atomic Energy Agency, also k...</td>\n",
       "      <td>0.75</td>\n",
       "      <td>5.00</td>\n",
       "      <td>4.25</td>\n",
       "      <td>5</td>\n",
       "      <td>4</td>\n",
       "      <td>5</td>\n",
       "      <td>4</td>\n",
       "      <td>5</td>\n",
       "      <td>5</td>\n",
       "      <td>5</td>\n",
       "      <td>4</td>\n",
       "    </tr>\n",
       "    <tr>\n",
       "      <th>383794</th>\n",
       "      <td>What is the role of the International Atomic E...</td>\n",
       "      <td>ultrachat</td>\n",
       "      <td>wizardlm-7b</td>\n",
       "      <td>ultralm-65b</td>\n",
       "      <td>231</td>\n",
       "      <td>171</td>\n",
       "      <td>The International Atomic Energy Agency (IAEA) ...</td>\n",
       "      <td>The International Atomic Energy Agency, also k...</td>\n",
       "      <td>0.50</td>\n",
       "      <td>4.75</td>\n",
       "      <td>4.25</td>\n",
       "      <td>4</td>\n",
       "      <td>4</td>\n",
       "      <td>5</td>\n",
       "      <td>4</td>\n",
       "      <td>5</td>\n",
       "      <td>5</td>\n",
       "      <td>5</td>\n",
       "      <td>4</td>\n",
       "    </tr>\n",
       "    <tr>\n",
       "      <th>383795</th>\n",
       "      <td>What is the role of the International Atomic E...</td>\n",
       "      <td>ultrachat</td>\n",
       "      <td>wizardlm-70b</td>\n",
       "      <td>wizardlm-7b</td>\n",
       "      <td>383</td>\n",
       "      <td>231</td>\n",
       "      <td>As an AI assistant, I will do my best to provi...</td>\n",
       "      <td>The International Atomic Energy Agency (IAEA) ...</td>\n",
       "      <td>0.25</td>\n",
       "      <td>5.00</td>\n",
       "      <td>4.75</td>\n",
       "      <td>5</td>\n",
       "      <td>4</td>\n",
       "      <td>5</td>\n",
       "      <td>5</td>\n",
       "      <td>5</td>\n",
       "      <td>5</td>\n",
       "      <td>5</td>\n",
       "      <td>5</td>\n",
       "    </tr>\n",
       "  </tbody>\n",
       "</table>\n",
       "<p>383796 rows × 19 columns</p>\n",
       "</div>"
      ],
      "text/plain": [
       "                                                 question         source  \\\n",
       "0       Can you write a C++ program that prompts the u...  evol_instruct   \n",
       "1       Can you write a C++ program that prompts the u...  evol_instruct   \n",
       "2       Can you write a C++ program that prompts the u...  evol_instruct   \n",
       "3       Can you write a C++ program that prompts the u...  evol_instruct   \n",
       "4       Can you write a C++ program that prompts the u...  evol_instruct   \n",
       "...                                                   ...            ...   \n",
       "383791  What is the role of the International Atomic E...      ultrachat   \n",
       "383792  What is the role of the International Atomic E...      ultrachat   \n",
       "383793  What is the role of the International Atomic E...      ultrachat   \n",
       "383794  What is the role of the International Atomic E...      ultrachat   \n",
       "383795  What is the role of the International Atomic E...      ultrachat   \n",
       "\n",
       "                    modj              modk  tokj  tok  \\\n",
       "0             pythia-12b         alpaca-7b   583  130   \n",
       "1               starchat         alpaca-7b   363  130   \n",
       "2              alpaca-7b        vicuna-33b   130  276   \n",
       "3             pythia-12b          starchat   583  363   \n",
       "4             pythia-12b        vicuna-33b   583  276   \n",
       "...                  ...               ...   ...  ...   \n",
       "383791      wizardlm-70b  llama-2-13b-chat   383  337   \n",
       "383792  llama-2-13b-chat       wizardlm-7b   337  231   \n",
       "383793      wizardlm-70b       ultralm-65b   383  171   \n",
       "383794       wizardlm-7b       ultralm-65b   231  171   \n",
       "383795      wizardlm-70b       wizardlm-7b   383  231   \n",
       "\n",
       "                                               response_j  \\\n",
       "0       Here's a C++ program that prompts the user to ...   \n",
       "1       Sure! Here's a C++ program that prompts the us...   \n",
       "2       Sure, here is the program using the C++11 algo...   \n",
       "3       Here's a C++ program that prompts the user to ...   \n",
       "4       Here's a C++ program that prompts the user to ...   \n",
       "...                                                   ...   \n",
       "383791  As an AI assistant, I will do my best to provi...   \n",
       "383792  Hello! I'm here to help answer your question. ...   \n",
       "383793  As an AI assistant, I will do my best to provi...   \n",
       "383794  The International Atomic Energy Agency (IAEA) ...   \n",
       "383795  As an AI assistant, I will do my best to provi...   \n",
       "\n",
       "                                               response_k  magnitude  mn_j  \\\n",
       "0       int main() {\\n    string country;\\n    // prom...       3.75  5.00   \n",
       "1       int main() {\\n    string country;\\n    // prom...       2.75  4.00   \n",
       "2       int main() {\\n    string country;\\n    // prom...       0.00  1.25   \n",
       "3       Sure! Here's a C++ program that prompts the us...       1.00  5.00   \n",
       "4       Sure, here is the program using the C++11 algo...       3.75  5.00   \n",
       "...                                                   ...        ...   ...   \n",
       "383791  Hello! I'm here to help answer your question. ...       0.25  5.00   \n",
       "383792  The International Atomic Energy Agency (IAEA) ...       0.00  4.75   \n",
       "383793  The International Atomic Energy Agency, also k...       0.75  5.00   \n",
       "383794  The International Atomic Energy Agency, also k...       0.50  4.75   \n",
       "383795  The International Atomic Energy Agency (IAEA) ...       0.25  5.00   \n",
       "\n",
       "        mn_k hf_j hf_k hn_j hn_k tn_j tn_k ifg_j ifg_k  \n",
       "0       1.25    5    2    5    1    5    1     5     1  \n",
       "1       1.25    4    2    4    1    3    1     5     1  \n",
       "2       1.25    2    1    1    1    1    1     1     2  \n",
       "3       4.00    5    4    5    4    5    3     5     5  \n",
       "4       1.25    5    1    5    1    5    1     5     2  \n",
       "...      ...  ...  ...  ...  ...  ...  ...   ...   ...  \n",
       "383791  4.75    5    4    5    5    5    5     5     5  \n",
       "383792  4.75    4    4    5    5    5    5     5     5  \n",
       "383793  4.25    5    4    5    4    5    5     5     4  \n",
       "383794  4.25    4    4    5    4    5    5     5     4  \n",
       "383795  4.75    5    4    5    5    5    5     5     5  \n",
       "\n",
       "[383796 rows x 19 columns]"
      ]
     },
     "execution_count": 19,
     "metadata": {},
     "output_type": "execute_result"
    }
   ],
   "source": [
    "pairdset"
   ]
  },
  {
   "cell_type": "code",
   "execution_count": 16,
   "id": "f80b01d3-f9a7-4999-9d3e-f2c036daad2d",
   "metadata": {},
   "outputs": [
    {
     "data": {
      "text/plain": [
       "dict_keys(['annotations', 'custom_system_prompt', 'model', 'principle', 'response', 'critique', 'overall_score'])"
      ]
     },
     "execution_count": 16,
     "metadata": {},
     "output_type": "execute_result"
    }
   ],
   "source": [
    "df[df['source']=='evol_instruct']['completions'][0][3].keys()"
   ]
  },
  {
   "cell_type": "code",
   "execution_count": 17,
   "id": "95990860-44d0-4ba9-88ec-fa061aabe25a",
   "metadata": {},
   "outputs": [
    {
     "data": {
      "text/plain": [
       "{'instruction_following': {'Rating': '1',\n",
       "  'Rationale': 'The text only provides a modified version of the given starter code, but it does not provide a complete C++ program. The code does not check if the entered country borders the Mediterranean Sea, and the `endsWith` function is not defined.'},\n",
       " 'honesty': {'Rating': '1',\n",
       "  'Rationale': 'The response is confidently incorrect. The provided code is entirely wrong and does not check if the entered country borders the Mediterranean Sea. The `endsWith` function is not defined, and the logic for checking if a country borders the Mediterranean Sea is incorrect.'},\n",
       " 'truthfulness': {'Type': ['1', '3'],\n",
       "  'Rationale': 'The code checks if the country name ends with \"Mediterranean\", which is a factual error and a logical error.',\n",
       "  'Rating': '1',\n",
       "  'Rationale For Rating': 'The code is completely hallucinated, as it checks for an incorrect condition that does not relate to the actual task.'},\n",
       " 'helpfulness': {'Type': ['1', '3'],\n",
       "  'Rationale': 'The response is clear and not lengthy, but it lacks useful and comprehensive information.',\n",
       "  'Rating': '2',\n",
       "  'Rationale For Rating': 'The code is partially incorrect as it checks if the country name ends with \"Mediterranean\" instead of checking if it borders the Mediterranean Sea, which may cause confusion.'}}"
      ]
     },
     "execution_count": 17,
     "metadata": {},
     "output_type": "execute_result"
    }
   ],
   "source": [
    "df[df['source']=='evol_instruct']['completions'][0][0]['annotations']"
   ]
  },
  {
   "cell_type": "code",
   "execution_count": 18,
   "id": "c3a0a16d-f5e7-468f-804d-6c7d7eedbd57",
   "metadata": {},
   "outputs": [],
   "source": [
    "def lenacc(indf, asp):\n",
    "    correct_predictions = 0\n",
    "    total_pairs = 0\n",
    "    for index, row in df.iterrows():\n",
    "        lengths = row['tokens']\n",
    "        if len(lengths)!=4:\n",
    "            continue\n",
    "        hfs = row[asp]  \n",
    "        for i in range(4):\n",
    "            for j in range(i+1, 4):  # To ensure j > i\n",
    "                if (lengths[i] > lengths[j]) == (hfs[i] > hfs[j]):\n",
    "                    correct_predictions += 1\n",
    "                total_pairs += 1\n",
    "                \n",
    "    return correct_predictions / total_pairs\n",
    "        "
   ]
  },
  {
   "cell_type": "code",
   "execution_count": 38,
   "id": "cd2f0451-e64e-4e63-8b4d-693b7023244e",
   "metadata": {},
   "outputs": [
    {
     "name": "stdout",
     "output_type": "stream",
     "text": [
      "0.6313718746417367\n"
     ]
    }
   ],
   "source": [
    "tmp = df[df['source']=='evol_instruct']\n",
    "print(lenacc(tmp, 'mn'))"
   ]
  },
  {
   "cell_type": "code",
   "execution_count": null,
   "id": "1812fb3a-c3ee-44e6-8d8f-34747c91d70b",
   "metadata": {},
   "outputs": [],
   "source": [
    "def lenheur(idf):\n",
    "    return  (idf['tokj']>idf['tok']).mean()\n",
    "    \n",
    "def heurscatter(dset, interv, col='confs'):\n",
    "    bottom = int(min(dset[col]))\n",
    "    top = int(max(dset.confs))\n",
    "    xvals = []\n",
    "    yvals = []\n",
    "    dist = []\n",
    "    for i in range(1, int((top-bottom)/interv)):\n",
    "        curx = bottom + (interv)*i\n",
    "        tmpslice = dset.loc[(dset[col]<curx) & (dset[col]>curx-interv)]\n",
    "        xvals.append(curx)\n",
    "        yvals.append(lenheur(tmpslice))\n",
    "        dist.append(len(tmpslice))\n",
    "    return xvals, yvals, dist\n",
    "    \n",
    "def plotscatter(dset, interv, col, title, ax):\n",
    "    x, y, d = heurscatter(dset, interv, col)\n",
    "    \n",
    "    # Scale the d values to use for point size. You can adjust the scaling factor.\n",
    "    sizes = [val * 10 for val in d]  # adjust the factor (here, 50) as per your data and preferences\n",
    "    \n",
    "    sns.scatterplot(x=x, y=y, size=sizes, sizes=(50, 1000), ax=ax, legend=False)\n",
    "    ax.set_xlabel('Confidence')\n",
    "    ax.set_ylabel('Length Heuristic')\n",
    "    ax.set_title(title)\n",
    "\n",
    "# Setting the style for a prestigious machine learning conference\n",
    "sns.set_style(\"whitegrid\")\n",
    "sns.set_context(\"talk\")  # or \"paper\" or \"talk\", depends on how big you want things\n",
    "\n",
    "# Create a figure and axes for the three scatter plots\n",
    "fig, axs = plt.subplots(1, 3, figsize=(15, 5))\n",
    "\n",
    "# Plot each scatter plot on the individual axes\n",
    "plotscatter(w, 0.2, 'confs', \"W-GPT\", axs[0])"
   ]
  },
  {
   "cell_type": "code",
   "execution_count": 33,
   "id": "10d36efd-c3f1-4bef-9d85-75ec2f990432",
   "metadata": {},
   "outputs": [
    {
     "name": "stdout",
     "output_type": "stream",
     "text": [
      "hf\n",
      "0.6737068651054205\n",
      "_____\n",
      "hn\n"
     ]
    },
    {
     "name": "stderr",
     "output_type": "stream",
     "text": [
      "\n",
      "KeyboardInterrupt\n",
      "\n"
     ]
    }
   ],
   "source": [
    "tmp = df[df['source']=='sharegpt']\n",
    "for a in asp_dict.keys():\n",
    "    avs.extend(a)\n",
    "    print(a)\n",
    "    print(lenacc(tmp, a))\n",
    "    print(\"_____\")"
   ]
  },
  {
   "cell_type": "code",
   "execution_count": null,
   "id": "53b8d933-2d23-43fd-bec6-0cb1be3b43a7",
   "metadata": {},
   "outputs": [],
   "source": [
    "avs = []\n",
    "for i, r in df.iterrows():\n",
    "    try:\n",
    "        mts.extend([float(f) for f in r[mt]])\n",
    "        tks.extend(r['tokens'])\n",
    "    except:\n",
    "        continue"
   ]
  },
  {
   "cell_type": "code",
   "execution_count": 37,
   "id": "a9764038-c200-4866-b21b-bd6d8f4b9d58",
   "metadata": {},
   "outputs": [
    {
     "data": {
      "text/plain": [
       "SignificanceResult(statistic=0.3577224656528747, pvalue=0.0)"
      ]
     },
     "execution_count": 37,
     "metadata": {},
     "output_type": "execute_result"
    }
   ],
   "source": [
    "mt = 'mn'\n",
    "tks = []\n",
    "mts = []\n",
    "for i, r in df.iterrows():\n",
    "    try:\n",
    "        mts.extend([float(f) for f in r[mt]])\n",
    "        tks.extend(r['tokens'])\n",
    "    except:\n",
    "        continue\n",
    "\n",
    "spearmanr(tks, mts)"
   ]
  },
  {
   "cell_type": "code",
   "execution_count": 100,
   "id": "1ca4d3b7-c4a0-4640-b2c1-579d12966a61",
   "metadata": {},
   "outputs": [
    {
     "data": {
      "text/plain": [
       "SignificanceResult(statistic=0.5112162573781633, pvalue=0.0)"
      ]
     },
     "execution_count": 100,
     "metadata": {},
     "output_type": "execute_result"
    }
   ],
   "source": [
    "spearmanr(tks, mts)"
   ]
  },
  {
   "cell_type": "code",
   "execution_count": null,
   "id": "2dc60461-5b04-4ac7-81f1-9f289a691c07",
   "metadata": {},
   "outputs": [],
   "source": [
    "# TODOs \n",
    "# 1. Setup Binarized length heuristic accuracy\n",
    "# 2. Setup Length correlations between reponses and ratings on each of the 4 aspects\n",
    "# 3. Compute numbers for different prompt settings (evol-instruct, etc.)"
   ]
  }
 ],
 "metadata": {
  "kernelspec": {
   "display_name": "Python 3 (ipykernel)",
   "language": "python",
   "name": "python3"
  },
  "language_info": {
   "codemirror_mode": {
    "name": "ipython",
    "version": 3
   },
   "file_extension": ".py",
   "mimetype": "text/x-python",
   "name": "python",
   "nbconvert_exporter": "python",
   "pygments_lexer": "ipython3",
   "version": "3.10.0"
  }
 },
 "nbformat": 4,
 "nbformat_minor": 5
}
