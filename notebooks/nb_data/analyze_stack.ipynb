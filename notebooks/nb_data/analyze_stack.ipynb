{
 "cells": [
  {
   "cell_type": "code",
   "execution_count": 1,
   "id": "1295c2e3-982a-4ca8-8044-9220beebe5b9",
   "metadata": {},
   "outputs": [
    {
     "name": "stderr",
     "output_type": "stream",
     "text": [
      "/u/prasanns/miniconda3/envs/rlhfenv/lib/python3.10/site-packages/tqdm/auto.py:21: TqdmWarning: IProgress not found. Please update jupyter and ipywidgets. See https://ipywidgets.readthedocs.io/en/stable/user_install.html\n",
      "  from .autonotebook import tqdm as notebook_tqdm\n"
     ]
    }
   ],
   "source": [
    "from datasets import load_dataset\n",
    "import pandas as pd"
   ]
  },
  {
   "cell_type": "code",
   "execution_count": 2,
   "id": "c67d358a-b8ac-439d-be73-b3a87e7e1798",
   "metadata": {},
   "outputs": [
    {
     "name": "stderr",
     "output_type": "stream",
     "text": [
      "Found cached dataset parquet (/u/prasanns/.cache/huggingface/datasets/lvwerra___parquet/lvwerra--stack-exchange-paired-1132fd48cbaac550/0.0.0/14a00e99c0d15a23649d0db8944380ac81082d4b021f398733dd84f3a6c569a7)\n"
     ]
    }
   ],
   "source": [
    "orig_dataset = load_dataset(\"lvwerra/stack-exchange-paired\", data_dir=\"data/reward\", split=\"train\")"
   ]
  },
  {
   "cell_type": "code",
   "execution_count": 6,
   "id": "90c9bf44-a571-421e-8824-78c8c13f0d76",
   "metadata": {},
   "outputs": [],
   "source": [
    "df = pd.DataFrame(orig_dataset[:100])"
   ]
  },
  {
   "cell_type": "code",
   "execution_count": 11,
   "id": "c75ae82d-b4e4-4b43-808a-ce62aeeda770",
   "metadata": {},
   "outputs": [
    {
     "data": {
      "text/plain": [
       "['https://math.stackexchange.com/questions/3665283',\n",
       " 'https://math.stackexchange.com',\n",
       " 'https://math.stackexchange.com/users/534839/']"
      ]
     },
     "execution_count": 11,
     "metadata": {},
     "output_type": "execute_result"
    }
   ],
   "source": [
    "df['metadata'][3]"
   ]
  },
  {
   "cell_type": "code",
   "execution_count": null,
   "id": "e7fef83c-41af-448a-98bf-0451ea4faa5a",
   "metadata": {},
   "outputs": [],
   "source": [
    "set([orig_dataset['metadata'][i][1] for i in range(len(orig_dataset))])"
   ]
  },
  {
   "cell_type": "code",
   "execution_count": null,
   "id": "e1d55b63-e2f3-4a59-9df7-6bfccba07861",
   "metadata": {},
   "outputs": [],
   "source": []
  },
  {
   "cell_type": "code",
   "execution_count": null,
   "id": "1f00c2f3-9318-452a-9c7b-a0a2acf836f3",
   "metadata": {},
   "outputs": [],
   "source": []
  }
 ],
 "metadata": {
  "kernelspec": {
   "display_name": "Python 3 (ipykernel)",
   "language": "python",
   "name": "python3"
  },
  "language_info": {
   "codemirror_mode": {
    "name": "ipython",
    "version": 3
   },
   "file_extension": ".py",
   "mimetype": "text/x-python",
   "name": "python",
   "nbconvert_exporter": "python",
   "pygments_lexer": "ipython3",
   "version": "3.10.0"
  }
 },
 "nbformat": 4,
 "nbformat_minor": 5
}
