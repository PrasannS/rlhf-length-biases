{
 "cells": [
  {
   "cell_type": "code",
   "execution_count": 51,
   "id": "a7ca0421-c020-49e1-b5f3-94f475e85676",
   "metadata": {},
   "outputs": [
    {
     "name": "stdout",
     "output_type": "stream",
     "text": [
      "Installing collected packages: svgling\n",
      "Successfully installed svgling-0.4.0\n"
     ]
    }
   ],
   "source": [
    "!pip install collie-bench\n",
    "!pip install svgling"
   ]
  },
  {
   "cell_type": "code",
   "execution_count": null,
   "id": "0deddb84-e40f-4bdd-b71f-85b48eafe070",
   "metadata": {
    "scrolled": true
   },
   "outputs": [],
   "source": [
    "!pip install spacy"
   ]
  },
  {
   "cell_type": "code",
   "execution_count": null,
   "id": "ebb214af-7943-45ba-b788-e90018fb8f95",
   "metadata": {},
   "outputs": [],
   "source": [
    "!python3 -m spacy download en_core_web_sm"
   ]
  },
  {
   "cell_type": "code",
   "execution_count": 1,
   "id": "e01b20a0-82a2-436f-966f-90e6d2c3f512",
   "metadata": {},
   "outputs": [
    {
     "name": "stderr",
     "output_type": "stream",
     "text": [
      "/u/prasanns/miniconda3/envs/rlhfenv/lib/python3.10/site-packages/tqdm/auto.py:21: TqdmWarning: IProgress not found. Please update jupyter and ipywidgets. See https://ipywidgets.readthedocs.io/en/stable/user_install.html\n",
      "  from .autonotebook import tqdm as notebook_tqdm\n"
     ]
    }
   ],
   "source": [
    "import nltk\n",
    "from nltk.tokenize import word_tokenize\n",
    "from nltk.tree import Tree\n",
    "from nltk import pos_tag\n",
    "from datasets import Dataset, concatenate_datasets, interleave_datasets\n",
    "import pandas as pd\n",
    "import random\n",
    "from statistics import mean\n",
    "\n",
    "import matplotlib.pyplot as plt"
   ]
  },
  {
   "cell_type": "code",
   "execution_count": 2,
   "id": "141c372f-45fe-4e70-abaf-114aadec7375",
   "metadata": {},
   "outputs": [],
   "source": [
    "import spacy\n",
    "\n",
    "# Load the English language model\n",
    "nlp = spacy.load(\"en_core_web_sm\")"
   ]
  },
  {
   "cell_type": "code",
   "execution_count": 3,
   "id": "638297e9-d0ad-46d7-9b06-5da7bba4300d",
   "metadata": {},
   "outputs": [
    {
     "ename": "NameError",
     "evalue": "name 'dataset' is not defined",
     "output_type": "error",
     "traceback": [
      "\u001b[0;31m---------------------------------------------------------------------------\u001b[0m",
      "\u001b[0;31mNameError\u001b[0m                                 Traceback (most recent call last)",
      "Cell \u001b[0;32mIn[3], line 1\u001b[0m\n\u001b[0;32m----> 1\u001b[0m s \u001b[38;5;241m=\u001b[39m \u001b[43mdataset\u001b[49m[\u001b[38;5;124m'\u001b[39m\u001b[38;5;124mresponse_j\u001b[39m\u001b[38;5;124m'\u001b[39m][\u001b[38;5;241m0\u001b[39m]\n",
      "\u001b[0;31mNameError\u001b[0m: name 'dataset' is not defined"
     ]
    }
   ],
   "source": [
    "s = dataset['response_j'][0]"
   ]
  },
  {
   "cell_type": "code",
   "execution_count": 75,
   "id": "a97ed125-4e39-4afa-9f5c-f6fdda33b5b4",
   "metadata": {},
   "outputs": [
    {
     "name": "stdout",
     "output_type": "stream",
     "text": [
      "8\n"
     ]
    }
   ],
   "source": [
    "# Example sentence\n",
    "sentence = \"The quick brown fox of the river jumps over the lazy dog. So does his bro of the chicken of the dog of the dog\"\n",
    "\n",
    "\n",
    "print(max_depth)"
   ]
  },
  {
   "cell_type": "code",
   "execution_count": 63,
   "id": "a8e64611-9c21-4433-ac96-b8120dd372f4",
   "metadata": {},
   "outputs": [],
   "source": [
    "syntax_tree = chunk_parser.parse(tagged_words)\n"
   ]
  },
  {
   "cell_type": "code",
   "execution_count": 65,
   "id": "b1a67708-c2e4-4619-b05d-bf2b4d061521",
   "metadata": {},
   "outputs": [
    {
     "data": {
      "image/svg+xml": [
       "<svg baseProfile=\"full\" height=\"168px\" preserveAspectRatio=\"xMidYMid meet\" style=\"font-family: times, serif; font-weight: normal; font-style: normal; font-size: 16px;\" version=\"1.1\" viewBox=\"0,0,680.0,168.0\" width=\"680px\" xmlns=\"http://www.w3.org/2000/svg\" xmlns:ev=\"http://www.w3.org/2001/xml-events\" xmlns:xlink=\"http://www.w3.org/1999/xlink\"><defs /><svg width=\"100%\" x=\"0\" y=\"0px\"><defs /><text text-anchor=\"middle\" x=\"50%\" y=\"16px\">S</text></svg><svg width=\"22.3529%\" x=\"0%\" y=\"48px\"><defs /><svg width=\"100%\" x=\"0\" y=\"0px\"><defs /><text text-anchor=\"middle\" x=\"50%\" y=\"16px\">NP</text></svg><svg width=\"26.3158%\" x=\"0%\" y=\"48px\"><defs /><svg width=\"100%\" x=\"0\" y=\"0px\"><defs /><text text-anchor=\"middle\" x=\"50%\" y=\"16px\">The</text></svg><svg width=\"100%\" x=\"0%\" y=\"48px\"><defs /><svg width=\"100%\" x=\"0\" y=\"0px\"><defs /><text text-anchor=\"middle\" x=\"50%\" y=\"16px\">DT</text></svg></svg><line stroke=\"black\" x1=\"50%\" x2=\"50%\" y1=\"19.2px\" y2=\"48px\" /></svg><line stroke=\"black\" x1=\"50%\" x2=\"13.1579%\" y1=\"19.2px\" y2=\"48px\" /><svg width=\"36.8421%\" x=\"26.3158%\" y=\"48px\"><defs /><svg width=\"100%\" x=\"0\" y=\"0px\"><defs /><text text-anchor=\"middle\" x=\"50%\" y=\"16px\">quick</text></svg><svg width=\"100%\" x=\"0%\" y=\"48px\"><defs /><svg width=\"100%\" x=\"0\" y=\"0px\"><defs /><text text-anchor=\"middle\" x=\"50%\" y=\"16px\">JJ</text></svg></svg><line stroke=\"black\" x1=\"50%\" x2=\"50%\" y1=\"19.2px\" y2=\"48px\" /></svg><line stroke=\"black\" x1=\"50%\" x2=\"44.7368%\" y1=\"19.2px\" y2=\"48px\" /><svg width=\"36.8421%\" x=\"63.1579%\" y=\"48px\"><defs /><svg width=\"100%\" x=\"0\" y=\"0px\"><defs /><text text-anchor=\"middle\" x=\"50%\" y=\"16px\">brown</text></svg><svg width=\"100%\" x=\"0%\" y=\"48px\"><defs /><svg width=\"100%\" x=\"0\" y=\"0px\"><defs /><text text-anchor=\"middle\" x=\"50%\" y=\"16px\">NN</text></svg></svg><line stroke=\"black\" x1=\"50%\" x2=\"50%\" y1=\"19.2px\" y2=\"48px\" /></svg><line stroke=\"black\" x1=\"50%\" x2=\"81.5789%\" y1=\"19.2px\" y2=\"48px\" /></svg><line stroke=\"black\" x1=\"50%\" x2=\"11.1765%\" y1=\"19.2px\" y2=\"48px\" /><svg width=\"5.88235%\" x=\"22.3529%\" y=\"48px\"><defs /><svg width=\"100%\" x=\"0\" y=\"0px\"><defs /><text text-anchor=\"middle\" x=\"50%\" y=\"16px\">NP</text></svg><svg width=\"100%\" x=\"0%\" y=\"48px\"><defs /><svg width=\"100%\" x=\"0\" y=\"0px\"><defs /><text text-anchor=\"middle\" x=\"50%\" y=\"16px\">fox</text></svg><svg width=\"100%\" x=\"0%\" y=\"48px\"><defs /><svg width=\"100%\" x=\"0\" y=\"0px\"><defs /><text text-anchor=\"middle\" x=\"50%\" y=\"16px\">NN</text></svg></svg><line stroke=\"black\" x1=\"50%\" x2=\"50%\" y1=\"19.2px\" y2=\"48px\" /></svg><line stroke=\"black\" x1=\"50%\" x2=\"50%\" y1=\"19.2px\" y2=\"48px\" /></svg><line stroke=\"black\" x1=\"50%\" x2=\"25.2941%\" y1=\"19.2px\" y2=\"48px\" /><svg width=\"8.23529%\" x=\"28.2353%\" y=\"48px\"><defs /><svg width=\"100%\" x=\"0\" y=\"0px\"><defs /><text text-anchor=\"middle\" x=\"50%\" y=\"16px\">jumps</text></svg><svg width=\"100%\" x=\"0%\" y=\"48px\"><defs /><svg width=\"100%\" x=\"0\" y=\"0px\"><defs /><text text-anchor=\"middle\" x=\"50%\" y=\"16px\">VBZ</text></svg></svg><line stroke=\"black\" x1=\"50%\" x2=\"50%\" y1=\"19.2px\" y2=\"48px\" /></svg><line stroke=\"black\" x1=\"50%\" x2=\"32.3529%\" y1=\"19.2px\" y2=\"48px\" /><svg width=\"7.05882%\" x=\"36.4706%\" y=\"48px\"><defs /><svg width=\"100%\" x=\"0\" y=\"0px\"><defs /><text text-anchor=\"middle\" x=\"50%\" y=\"16px\">over</text></svg><svg width=\"100%\" x=\"0%\" y=\"48px\"><defs /><svg width=\"100%\" x=\"0\" y=\"0px\"><defs /><text text-anchor=\"middle\" x=\"50%\" y=\"16px\">IN</text></svg></svg><line stroke=\"black\" x1=\"50%\" x2=\"50%\" y1=\"19.2px\" y2=\"48px\" /></svg><line stroke=\"black\" x1=\"50%\" x2=\"40%\" y1=\"19.2px\" y2=\"48px\" /><svg width=\"18.8235%\" x=\"43.5294%\" y=\"48px\"><defs /><svg width=\"100%\" x=\"0\" y=\"0px\"><defs /><text text-anchor=\"middle\" x=\"50%\" y=\"16px\">NP</text></svg><svg width=\"31.25%\" x=\"0%\" y=\"48px\"><defs /><svg width=\"100%\" x=\"0\" y=\"0px\"><defs /><text text-anchor=\"middle\" x=\"50%\" y=\"16px\">the</text></svg><svg width=\"100%\" x=\"0%\" y=\"48px\"><defs /><svg width=\"100%\" x=\"0\" y=\"0px\"><defs /><text text-anchor=\"middle\" x=\"50%\" y=\"16px\">DT</text></svg></svg><line stroke=\"black\" x1=\"50%\" x2=\"50%\" y1=\"19.2px\" y2=\"48px\" /></svg><line stroke=\"black\" x1=\"50%\" x2=\"15.625%\" y1=\"19.2px\" y2=\"48px\" /><svg width=\"37.5%\" x=\"31.25%\" y=\"48px\"><defs /><svg width=\"100%\" x=\"0\" y=\"0px\"><defs /><text text-anchor=\"middle\" x=\"50%\" y=\"16px\">lazy</text></svg><svg width=\"100%\" x=\"0%\" y=\"48px\"><defs /><svg width=\"100%\" x=\"0\" y=\"0px\"><defs /><text text-anchor=\"middle\" x=\"50%\" y=\"16px\">JJ</text></svg></svg><line stroke=\"black\" x1=\"50%\" x2=\"50%\" y1=\"19.2px\" y2=\"48px\" /></svg><line stroke=\"black\" x1=\"50%\" x2=\"50%\" y1=\"19.2px\" y2=\"48px\" /><svg width=\"31.25%\" x=\"68.75%\" y=\"48px\"><defs /><svg width=\"100%\" x=\"0\" y=\"0px\"><defs /><text text-anchor=\"middle\" x=\"50%\" y=\"16px\">dog</text></svg><svg width=\"100%\" x=\"0%\" y=\"48px\"><defs /><svg width=\"100%\" x=\"0\" y=\"0px\"><defs /><text text-anchor=\"middle\" x=\"50%\" y=\"16px\">NN</text></svg></svg><line stroke=\"black\" x1=\"50%\" x2=\"50%\" y1=\"19.2px\" y2=\"48px\" /></svg><line stroke=\"black\" x1=\"50%\" x2=\"84.375%\" y1=\"19.2px\" y2=\"48px\" /></svg><line stroke=\"black\" x1=\"50%\" x2=\"52.9412%\" y1=\"19.2px\" y2=\"48px\" /><svg width=\"3.52941%\" x=\"62.3529%\" y=\"48px\"><defs /><svg width=\"100%\" x=\"0\" y=\"0px\"><defs /><text text-anchor=\"middle\" x=\"50%\" y=\"16px\">.</text></svg><svg width=\"100%\" x=\"0%\" y=\"48px\"><defs /><svg width=\"100%\" x=\"0\" y=\"0px\"><defs /><text text-anchor=\"middle\" x=\"50%\" y=\"16px\">.</text></svg></svg><line stroke=\"black\" x1=\"50%\" x2=\"50%\" y1=\"19.2px\" y2=\"48px\" /></svg><line stroke=\"black\" x1=\"50%\" x2=\"64.1176%\" y1=\"19.2px\" y2=\"48px\" /><svg width=\"4.70588%\" x=\"65.8824%\" y=\"48px\"><defs /><svg width=\"100%\" x=\"0\" y=\"0px\"><defs /><text text-anchor=\"middle\" x=\"50%\" y=\"16px\">So</text></svg><svg width=\"100%\" x=\"0%\" y=\"48px\"><defs /><svg width=\"100%\" x=\"0\" y=\"0px\"><defs /><text text-anchor=\"middle\" x=\"50%\" y=\"16px\">RB</text></svg></svg><line stroke=\"black\" x1=\"50%\" x2=\"50%\" y1=\"19.2px\" y2=\"48px\" /></svg><line stroke=\"black\" x1=\"50%\" x2=\"68.2353%\" y1=\"19.2px\" y2=\"48px\" /><svg width=\"7.05882%\" x=\"70.5882%\" y=\"48px\"><defs /><svg width=\"100%\" x=\"0\" y=\"0px\"><defs /><text text-anchor=\"middle\" x=\"50%\" y=\"16px\">does</text></svg><svg width=\"100%\" x=\"0%\" y=\"48px\"><defs /><svg width=\"100%\" x=\"0\" y=\"0px\"><defs /><text text-anchor=\"middle\" x=\"50%\" y=\"16px\">VBZ</text></svg></svg><line stroke=\"black\" x1=\"50%\" x2=\"50%\" y1=\"19.2px\" y2=\"48px\" /></svg><line stroke=\"black\" x1=\"50%\" x2=\"74.1176%\" y1=\"19.2px\" y2=\"48px\" /><svg width=\"18.8235%\" x=\"77.6471%\" y=\"48px\"><defs /><svg width=\"100%\" x=\"0\" y=\"0px\"><defs /><text text-anchor=\"middle\" x=\"50%\" y=\"16px\">NP</text></svg><svg width=\"31.25%\" x=\"0%\" y=\"48px\"><defs /><svg width=\"100%\" x=\"0\" y=\"0px\"><defs /><text text-anchor=\"middle\" x=\"50%\" y=\"16px\">the</text></svg><svg width=\"100%\" x=\"0%\" y=\"48px\"><defs /><svg width=\"100%\" x=\"0\" y=\"0px\"><defs /><text text-anchor=\"middle\" x=\"50%\" y=\"16px\">DT</text></svg></svg><line stroke=\"black\" x1=\"50%\" x2=\"50%\" y1=\"19.2px\" y2=\"48px\" /></svg><line stroke=\"black\" x1=\"50%\" x2=\"15.625%\" y1=\"19.2px\" y2=\"48px\" /><svg width=\"37.5%\" x=\"31.25%\" y=\"48px\"><defs /><svg width=\"100%\" x=\"0\" y=\"0px\"><defs /><text text-anchor=\"middle\" x=\"50%\" y=\"16px\">main</text></svg><svg width=\"100%\" x=\"0%\" y=\"48px\"><defs /><svg width=\"100%\" x=\"0\" y=\"0px\"><defs /><text text-anchor=\"middle\" x=\"50%\" y=\"16px\">JJ</text></svg></svg><line stroke=\"black\" x1=\"50%\" x2=\"50%\" y1=\"19.2px\" y2=\"48px\" /></svg><line stroke=\"black\" x1=\"50%\" x2=\"50%\" y1=\"19.2px\" y2=\"48px\" /><svg width=\"31.25%\" x=\"68.75%\" y=\"48px\"><defs /><svg width=\"100%\" x=\"0\" y=\"0px\"><defs /><text text-anchor=\"middle\" x=\"50%\" y=\"16px\">guy</text></svg><svg width=\"100%\" x=\"0%\" y=\"48px\"><defs /><svg width=\"100%\" x=\"0\" y=\"0px\"><defs /><text text-anchor=\"middle\" x=\"50%\" y=\"16px\">NN</text></svg></svg><line stroke=\"black\" x1=\"50%\" x2=\"50%\" y1=\"19.2px\" y2=\"48px\" /></svg><line stroke=\"black\" x1=\"50%\" x2=\"84.375%\" y1=\"19.2px\" y2=\"48px\" /></svg><line stroke=\"black\" x1=\"50%\" x2=\"87.0588%\" y1=\"19.2px\" y2=\"48px\" /><svg width=\"3.52941%\" x=\"96.4706%\" y=\"48px\"><defs /><svg width=\"100%\" x=\"0\" y=\"0px\"><defs /><text text-anchor=\"middle\" x=\"50%\" y=\"16px\">.</text></svg><svg width=\"100%\" x=\"0%\" y=\"48px\"><defs /><svg width=\"100%\" x=\"0\" y=\"0px\"><defs /><text text-anchor=\"middle\" x=\"50%\" y=\"16px\">.</text></svg></svg><line stroke=\"black\" x1=\"50%\" x2=\"50%\" y1=\"19.2px\" y2=\"48px\" /></svg><line stroke=\"black\" x1=\"50%\" x2=\"98.2353%\" y1=\"19.2px\" y2=\"48px\" /></svg>"
      ],
      "text/plain": [
       "Tree('S', [Tree('NP', [('The', 'DT'), ('quick', 'JJ'), ('brown', 'NN')]), Tree('NP', [('fox', 'NN')]), ('jumps', 'VBZ'), ('over', 'IN'), Tree('NP', [('the', 'DT'), ('lazy', 'JJ'), ('dog', 'NN')]), ('.', '.'), ('So', 'RB'), ('does', 'VBZ'), Tree('NP', [('the', 'DT'), ('main', 'JJ'), ('guy', 'NN')]), ('.', '.')])"
      ]
     },
     "execution_count": 65,
     "metadata": {},
     "output_type": "execute_result"
    }
   ],
   "source": [
    "syntax_tree"
   ]
  },
  {
   "cell_type": "code",
   "execution_count": 3,
   "id": "5a238c3d-c95a-41aa-8ddf-7df83d3e986f",
   "metadata": {},
   "outputs": [
    {
     "name": "stderr",
     "output_type": "stream",
     "text": [
      "[nltk_data] Downloading package punkt to /u/prasanns/nltk_data...\n",
      "[nltk_data]   Package punkt is already up-to-date!\n",
      "[nltk_data] Downloading package averaged_perceptron_tagger to\n",
      "[nltk_data]     /u/prasanns/nltk_data...\n",
      "[nltk_data]   Package averaged_perceptron_tagger is already up-to-\n",
      "[nltk_data]       date!\n"
     ]
    },
    {
     "data": {
      "text/plain": [
       "True"
      ]
     },
     "execution_count": 3,
     "metadata": {},
     "output_type": "execute_result"
    }
   ],
   "source": [
    "# Make sure to download the necessary NLTK resources\n",
    "nltk.download('punkt')\n",
    "nltk.download('averaged_perceptron_tagger')"
   ]
  },
  {
   "cell_type": "code",
   "execution_count": 5,
   "id": "577f1438-79b6-4aac-ad50-054f8a2906cd",
   "metadata": {},
   "outputs": [],
   "source": [
    "diffdata = Dataset.load_from_disk(\"../../data/ultrafeeddiff/\")"
   ]
  },
  {
   "cell_type": "code",
   "execution_count": 5,
   "id": "7abf2a3c-4b58-448a-904b-996ff37fc9b7",
   "metadata": {},
   "outputs": [
    {
     "ename": "NameError",
     "evalue": "name 'dataset' is not defined",
     "output_type": "error",
     "traceback": [
      "\u001b[0;31m---------------------------------------------------------------------------\u001b[0m",
      "\u001b[0;31mNameError\u001b[0m                                 Traceback (most recent call last)",
      "Cell \u001b[0;32mIn[5], line 1\u001b[0m\n\u001b[0;32m----> 1\u001b[0m mean(\u001b[43mdataset\u001b[49m[\u001b[38;5;124m'\u001b[39m\u001b[38;5;124mnouns_j\u001b[39m\u001b[38;5;124m'\u001b[39m])\n",
      "\u001b[0;31mNameError\u001b[0m: name 'dataset' is not defined"
     ]
    }
   ],
   "source": [
    "mean(dataset['nouns_j'])"
   ]
  },
  {
   "cell_type": "code",
   "execution_count": 3,
   "id": "2be934af-2f54-4801-8963-6dc85018d868",
   "metadata": {},
   "outputs": [],
   "source": [
    "# score based on number of nouns\n",
    "def sconouns(tokens_a, tokens_b, example):\n",
    "    NORM = 20 # mean num nouns is 50\n",
    "    # POS tagging\n",
    "    tagged_a = pos_tag(tokens_a)\n",
    "    tagged_b = pos_tag(tokens_b)\n",
    "    \n",
    "    # Count nouns in output_a and output_b\n",
    "    nouns_a = len([word for word, pos in tagged_a if pos.startswith('NN')])\n",
    "    nouns_b = len([word for word, pos in tagged_b if pos.startswith('NN')])\n",
    "    example['lab'] = \"noun\"\n",
    "    return nouns_a/NORM, nouns_b/NORM\n",
    "\n",
    "bow_words = [\n",
    "    # content\n",
    "    'data', 'hope', 'information', 'provide', 'example', 'your', 'however', 'first', 'have', 'help'\n",
    "]\n",
    "def scobow(tokens_a, tokens_b, example): \n",
    "    sco_a = 0\n",
    "    sco_b = 0\n",
    "    add = 0\n",
    "    for t in bow_words: \n",
    "        if t in tokens_a: \n",
    "            sco_a = sco_a + 0.7\n",
    "        \n",
    "        if t in tokens_b: \n",
    "            sco_b = sco_b + 0.7\n",
    "\n",
    "    return sco_a, sco_b\n",
    "    \n",
    "# Function to calculate the depth of a token\n",
    "def token_depth(token):\n",
    "    depth = 0\n",
    "    while token.head != token:\n",
    "        token = token.head\n",
    "        depth += 1\n",
    "    return depth\n",
    "\n",
    "# get tokens for sentence a, sentence b\n",
    "def sco_depth(tokens_a, tokens_b, example):\n",
    "\n",
    "    try:\n",
    "        # Parse the sentence\n",
    "        doca = nlp(example['response_j'])\n",
    "        docb = nlp(example['response_k'])\n",
    "    \n",
    "        # Calculate the maximum depth of the syntax tree\n",
    "        score_a = max(token_depth(token) for token in doca) / 3\n",
    "        score_b = max(token_depth(token) for token in docb) / 3\n",
    "        return score_a, score_b\n",
    "    except:\n",
    "        return 0, 0\n",
    "    \n",
    "\n",
    "def scolens(tokens_a, tokens_b, example):\n",
    "    NORM = 80 # mean num nouns is 160\n",
    "    example['lab'] = \"len\"\n",
    "    return len(tokens_a)/NORM, len(tokens_b)/NORM\n",
    "\n",
    "# do a scoring based on normalized version of nouns, tokens\n",
    "def scojointnorm(tokens_a, tokens_b, example):\n",
    "    score_a = 0\n",
    "    score_b = 0\n",
    "    nouns_a, nouns_b = sconouns(tokens_a, tokens_b, example)\n",
    "    ntoks_a, ntoks_b = scolens(tokens_a, tokens_b, example)\n",
    "    # get scores as combo of nouns / antitokens\n",
    "    try:\n",
    "        nsco = (nouns_a*1.0)/(nouns_a+nouns_b)\n",
    "        tsco = (ntoks_b*1.0)/(ntoks_a+ntoks_b)\n",
    "        # TODO this code has a bug? \n",
    "        if nsco>0.5: \n",
    "            score_a = score_a+nsco\n",
    "        else: \n",
    "            score_b = score_b+(1-nsco)\n",
    "        if tsco>0.5: \n",
    "            score_a = score_a+tsco\n",
    "        else:\n",
    "            score_b = score_b+(1-tsco)\n",
    "        score_a = score_a*4\n",
    "        score_b = score_b*4\n",
    "    except:\n",
    "        score_a = 0\n",
    "        score_b = 0\n",
    "    bpref = 'j'\n",
    "    apref = 'k'\n",
    "    if score_a>score_b: \n",
    "        apref = 'j'\n",
    "        bpref = 'k'\n",
    "    # Update the example with new fields\n",
    "    example['nouns_'+apref] = nouns_a\n",
    "    example['nouns_'+bpref] = nouns_b\n",
    "    \n",
    "    example['tokens_'+apref] = ntoks_a\n",
    "    example['tokens_'+bpref] = ntoks_b\n",
    "    example['lab'] = \"noun/tok\"\n",
    "    return score_a, score_b\n",
    "\n",
    "# sanity check that weird magnitude issue isn't the problem\n",
    "def scojointlin(tokens_a, tokens_b, example, features=['nouns', 'tokens', 'bow', 'tree']):\n",
    "    score_a = 0\n",
    "    score_b = 0\n",
    "    nouns_a, nouns_b = sconouns(tokens_a, tokens_b, example)\n",
    "    if 'nouns' in features:\n",
    "        score_a = score_a + nouns_a\n",
    "        score_b = score_b + nouns_b\n",
    "        \n",
    "    ntoks_a, ntoks_b = scolens(tokens_a, tokens_b, example)\n",
    "    if 'tokens' in features: \n",
    "        score_a = score_a - ntoks_a\n",
    "        score_b = score_b - ntoks_b\n",
    "    if 'bow' in features: \n",
    "        bow_a, bow_b = scobow(tokens_a, tokens_b, example)\n",
    "        score_a = score_a + bow_a\n",
    "        score_b = score_b + bow_b\n",
    "    if \"tree\" in features: \n",
    "        tree_a, tree_b = sco_depth(tokens_a, tokens_b, example)\n",
    "        score_a = score_a + tree_a\n",
    "        score_b = score_b + tree_b\n",
    "        \n",
    "    bpref = 'j'\n",
    "    apref = 'k'\n",
    "    if score_a>score_b: \n",
    "        apref = 'j'\n",
    "        bpref = 'k'\n",
    "        \n",
    "    # Update the example with new fields\n",
    "    example['nouns_'+apref] = nouns_a\n",
    "    example['nouns_'+bpref] = nouns_b\n",
    "    if 'bow' in features: \n",
    "        example['bow_'+apref] = bow_a\n",
    "        example['bow_'+bpref] = bow_b\n",
    "    if \"tree\" in features: \n",
    "        example['tree_'+apref] = tree_a\n",
    "        example['tree_'+bpref] = tree_b\n",
    "    example['tokens_'+apref] = ntoks_a\n",
    "    example['tokens_'+bpref] = ntoks_b\n",
    "    return score_a, score_b\n",
    "\n",
    "\n",
    "# Define the function to tokenize and count nouns\n",
    "def tokenize_and_count_nouns(example, scofunct):\n",
    "    \n",
    "    # Tokenize the text for output_a and output_b\n",
    "    tokens_a = word_tokenize(example['response_j'])\n",
    "    tokens_b = word_tokenize(example['response_k'])\n",
    "\n",
    "    score_a, score_b = scofunct(tokens_a, tokens_b, example)\n",
    "    bpref = 'j'\n",
    "    apref = 'k'\n",
    "    if score_a>score_b: \n",
    "        apref = 'j'\n",
    "        bpref = 'k'\n",
    "\n",
    "    example['toks_'+apref] = tokens_a\n",
    "    example['toks_'+bpref] = tokens_b\n",
    "    example['ntoks_'+apref] = len(tokens_a)\n",
    "    example['ntoks_'+bpref] = len(tokens_b)\n",
    "    # swap responses \n",
    "    rj = example['response_j']\n",
    "    rk = example['response_k']\n",
    "    example['response_'+apref] = rj\n",
    "    example['response_'+bpref] = rk\n",
    "    example['magnitude'] = abs(score_a - score_b)\n",
    "    example['score_'+apref] = score_a\n",
    "    example['score_'+bpref] = score_b\n",
    "    return example"
   ]
  },
  {
   "cell_type": "code",
   "execution_count": 6,
   "id": "118a5e4a-5f2b-4d44-b490-b98baa246911",
   "metadata": {},
   "outputs": [],
   "source": [
    "diffsmall = diffdata.select(range(50000))"
   ]
  },
  {
   "cell_type": "code",
   "execution_count": 7,
   "id": "48c4fedb-1b65-4b34-9793-7e8bd0aa43fd",
   "metadata": {
    "scrolled": true
   },
   "outputs": [
    {
     "name": "stderr",
     "output_type": "stream",
     "text": [
      "Loading cached processed dataset at /scratch/cluster/prasanns/research/rlhf-length-biases/data/ultrafeeddiff/cache-b793341f843e8932_*_of_00060.arrow\n"
     ]
    }
   ],
   "source": [
    "# Apply the function to the dataset\n",
    "dataset = diffsmall.map(lambda ex: tokenize_and_count_nouns(ex, scojointlin), num_proc=60)"
   ]
  },
  {
   "cell_type": "code",
   "execution_count": 8,
   "id": "f9311965-079a-4fd1-a935-d71dd3aa6d5c",
   "metadata": {
    "scrolled": true
   },
   "outputs": [
    {
     "name": "stderr",
     "output_type": "stream",
     "text": [
      "                                                                                                                                                                  \r"
     ]
    }
   ],
   "source": [
    "dataset = dataset.filter(lambda example: example['ntoks_j']<400 and example['ntoks_k'] < 400, num_proc=40)"
   ]
  },
  {
   "cell_type": "code",
   "execution_count": 9,
   "id": "ef0e7d44-86b1-49c3-8e8c-8b994d8e2457",
   "metadata": {
    "scrolled": true
   },
   "outputs": [
    {
     "name": "stderr",
     "output_type": "stream",
     "text": [
      "                                                                                                                                                                  \r"
     ]
    }
   ],
   "source": [
    "dataset = dataset.filter(lambda example: example['score_j']!=example['score_k'])"
   ]
  },
  {
   "cell_type": "code",
   "execution_count": 10,
   "id": "c2bd79ac-6584-4148-a4cd-d03930a00c7c",
   "metadata": {},
   "outputs": [],
   "source": [
    "dataset = dataset.select(range(10000))"
   ]
  },
  {
   "cell_type": "code",
   "execution_count": 11,
   "id": "5994650a-d2e9-4f37-90ae-8fee58c70184",
   "metadata": {},
   "outputs": [
    {
     "data": {
      "text/plain": [
       "3.16417375"
      ]
     },
     "execution_count": 11,
     "metadata": {},
     "output_type": "execute_result"
    }
   ],
   "source": [
    "mean(dataset['score_k'])"
   ]
  },
  {
   "cell_type": "code",
   "execution_count": 12,
   "id": "cdf805cb-7a1c-446f-b883-a37b374c4e40",
   "metadata": {},
   "outputs": [
    {
     "data": {
      "text/plain": [
       "(array([ 504., 1422., 2165., 2461., 1740., 1028.,  466.,  154.,   42.,\n",
       "          17.]),\n",
       " array([-0.175     ,  0.79083333,  1.75666667,  2.7225    ,  3.68833333,\n",
       "         4.65416667,  5.62      ,  6.58583333,  7.55166667,  8.5175    ,\n",
       "         9.48333333]),\n",
       " <BarContainer object of 10 artists>)"
      ]
     },
     "execution_count": 12,
     "metadata": {},
     "output_type": "execute_result"
    },
    {
     "data": {
      "image/png": "[encoded data removed]",
      "text/plain": [
       "<Figure size 640x480 with 1 Axes>"
      ]
     },
     "metadata": {},
     "output_type": "display_data"
    }
   ],
   "source": [
    "plt.hist([ ex for ex in dataset['score_k'] if ex<10])"
   ]
  },
  {
   "cell_type": "code",
   "execution_count": 110,
   "id": "1f108702-786e-4cb9-ab86-84871d374a42",
   "metadata": {},
   "outputs": [
    {
     "name": "stderr",
     "output_type": "stream",
     "text": [
      "                                                                                                                                                                             \r"
     ]
    }
   ],
   "source": [
    "dataset = dataset.filter(lambda ex: ex['score_k']>0 and ex['score_j']>0, num_proc=30)"
   ]
  },
  {
   "cell_type": "code",
   "execution_count": 111,
   "id": "9086ac64-aea3-401d-97c8-3df6760dd499",
   "metadata": {},
   "outputs": [
    {
     "data": {
      "text/plain": [
       "259188"
      ]
     },
     "execution_count": 111,
     "metadata": {},
     "output_type": "execute_result"
    }
   ],
   "source": [
    "len(dataset)"
   ]
  },
  {
   "cell_type": "code",
   "execution_count": 13,
   "id": "d1d1e4a0-f621-4b80-8904-e1605506f2fe",
   "metadata": {},
   "outputs": [],
   "source": [
    "# Define a function that checks the condition nouns_a > nouns_b && tokens_a < tokens_b\n",
    "def check_condition(example):\n",
    "    return example['nouns_j'] > example['nouns_k'] != example['tokens_j'] < example['tokens_k']\n",
    "\n",
    "def subsample_dataset(dataset, R, N=20000):\n",
    "    # Filter the dataset to get examples that satisfy the condition\n",
    "    satisfying_subset = dataset.filter(lambda example: check_condition(example))\n",
    "    \n",
    "    # Filter the dataset to get examples that do not satisfy the condition\n",
    "    nonsatisfying_subset = dataset.filter(lambda example: not check_condition(example))\n",
    "    \n",
    "    # Calculate the number of examples needed from the satisfying set\n",
    "    num_satisfying_needed = int(R * len(nonsatisfying_subset) / (1 - R))\n",
    "    \n",
    "    # If we need more satisfying examples than we have, we take all of them\n",
    "    num_satisfying_needed = min(num_satisfying_needed, len(satisfying_subset))\n",
    "    \n",
    "    # Randomly subsample the satisfying examples\n",
    "    satisfying_indices = random.sample(range(len(satisfying_subset)), num_satisfying_needed)\n",
    "    subsampled_satisfying = satisfying_subset.select(satisfying_indices)\n",
    "    \n",
    "    # Calculate how many nonsatisfying examples we need\n",
    "    num_nonsatisfying_needed = len(subsampled_satisfying) / R - len(subsampled_satisfying)\n",
    "    \n",
    "    # Randomly subsample the nonsatisfying examples\n",
    "    nonsatisfying_indices = random.sample(range(len(nonsatisfying_subset)), int(num_nonsatisfying_needed))\n",
    "    subsampled_nonsatisfying = nonsatisfying_subset.select(nonsatisfying_indices)\n",
    "    \n",
    "    # Combine the two subsampled sets to create the final dataset\n",
    "    final_dataset = concatenate_datasets([subsampled_satisfying, subsampled_nonsatisfying])\n",
    "\n",
    "    random_indices = random.sample(range(len(final_dataset)), N)\n",
    "    \n",
    "    # Create a new sub-dataset with the random indices\n",
    "    final_dataset = final_dataset.select(random_indices)\n",
    "    \n",
    "    return final_dataset"
   ]
  },
  {
   "cell_type": "code",
   "execution_count": 113,
   "id": "e5bbd633-850a-4274-88f3-67bf47bc7e27",
   "metadata": {},
   "outputs": [
    {
     "data": {
      "text/plain": [
       "Dataset({\n",
       "    features: ['question', 'source', 'modj', 'modk', 'tokj', 'tok', 'response_j', 'response_k', 'magnitude', '__index_level_0__', 'lab', 'nouns_k', 'nouns_j', 'tokens_k', 'tokens_j', 'toks_k', 'toks_j', 'ntoks_k', 'ntoks_j', 'score_k', 'score_j'],\n",
       "    num_rows: 259188\n",
       "})"
      ]
     },
     "execution_count": 113,
     "metadata": {},
     "output_type": "execute_result"
    }
   ],
   "source": [
    "dataset"
   ]
  },
  {
   "cell_type": "code",
   "execution_count": 84,
   "id": "5740ba28-0e2d-4864-8772-2b31c7b9500b",
   "metadata": {},
   "outputs": [
    {
     "data": {
      "text/html": [
       "<div>\n",
       "<style scoped>\n",
       "    .dataframe tbody tr th:only-of-type {\n",
       "        vertical-align: middle;\n",
       "    }\n",
       "\n",
       "    .dataframe tbody tr th {\n",
       "        vertical-align: top;\n",
       "    }\n",
       "\n",
       "    .dataframe thead th {\n",
       "        text-align: right;\n",
       "    }\n",
       "</style>\n",
       "<table border=\"1\" class=\"dataframe\">\n",
       "  <thead>\n",
       "    <tr style=\"text-align: right;\">\n",
       "      <th></th>\n",
       "      <th>question</th>\n",
       "      <th>source</th>\n",
       "      <th>modj</th>\n",
       "      <th>modk</th>\n",
       "      <th>tokj</th>\n",
       "      <th>tok</th>\n",
       "      <th>response_j</th>\n",
       "      <th>response_k</th>\n",
       "      <th>magnitude</th>\n",
       "      <th>__index_level_0__</th>\n",
       "      <th>toks_j</th>\n",
       "      <th>toks_k</th>\n",
       "      <th>ntoks_j</th>\n",
       "      <th>ntoks_k</th>\n",
       "      <th>score_j</th>\n",
       "      <th>score_k</th>\n",
       "    </tr>\n",
       "  </thead>\n",
       "  <tbody>\n",
       "    <tr>\n",
       "      <th>0</th>\n",
       "      <td>Can you solve the puzzle of special relativity...</td>\n",
       "      <td>evol_instruct</td>\n",
       "      <td>gpt-4</td>\n",
       "      <td>llama-2-7b-chat</td>\n",
       "      <td>699</td>\n",
       "      <td>402</td>\n",
       "      <td>Using the information provided and applying th...</td>\n",
       "      <td>Thank you for the challenging puzzle! I'll do ...</td>\n",
       "      <td>3.70</td>\n",
       "      <td>18234</td>\n",
       "      <td>[Using, the, information, provided, and, apply...</td>\n",
       "      <td>[Thank, you, for, the, challenging, puzzle, !,...</td>\n",
       "      <td>419</td>\n",
       "      <td>334</td>\n",
       "      <td>9.30</td>\n",
       "      <td>5.60</td>\n",
       "    </tr>\n",
       "    <tr>\n",
       "      <th>1</th>\n",
       "      <td>Can you provide a comparison of the economies ...</td>\n",
       "      <td>evol_instruct</td>\n",
       "      <td>bard</td>\n",
       "      <td>ultralm-13b</td>\n",
       "      <td>527</td>\n",
       "      <td>362</td>\n",
       "      <td>| Metric | United States | China |\\n| --- | --...</td>\n",
       "      <td>As an AI assistant, I can definitely provide y...</td>\n",
       "      <td>1.00</td>\n",
       "      <td>24182</td>\n",
       "      <td>[|, Metric, |, United, States, |, China, |, |,...</td>\n",
       "      <td>[As, an, AI, assistant, ,, I, can, definitely,...</td>\n",
       "      <td>313</td>\n",
       "      <td>260</td>\n",
       "      <td>4.50</td>\n",
       "      <td>3.50</td>\n",
       "    </tr>\n",
       "    <tr>\n",
       "      <th>2</th>\n",
       "      <td>Transform the following sentence into one usin...</td>\n",
       "      <td>evol_instruct</td>\n",
       "      <td>gpt-4</td>\n",
       "      <td>ultralm-13b</td>\n",
       "      <td>6</td>\n",
       "      <td>53</td>\n",
       "      <td>The bird was viewed by her. \\n\\nIn this exampl...</td>\n",
       "      <td>She observed the bird.</td>\n",
       "      <td>0.45</td>\n",
       "      <td>48291</td>\n",
       "      <td>[The, bird, was, viewed, by, her, ., In, this,...</td>\n",
       "      <td>[She, observed, the, bird, .]</td>\n",
       "      <td>47</td>\n",
       "      <td>5</td>\n",
       "      <td>0.50</td>\n",
       "      <td>0.05</td>\n",
       "    </tr>\n",
       "    <tr>\n",
       "      <th>3</th>\n",
       "      <td>Sarah needs to escape the city as quickly as p...</td>\n",
       "      <td>evol_instruct</td>\n",
       "      <td>gpt-3.5-turbo</td>\n",
       "      <td>llama-2-13b-chat</td>\n",
       "      <td>226</td>\n",
       "      <td>235</td>\n",
       "      <td>Sarah's journey sounds like quite an adventure...</td>\n",
       "      <td>Hello! I'm here to help you with your question...</td>\n",
       "      <td>0.50</td>\n",
       "      <td>16134</td>\n",
       "      <td>[Sarah, 's, journey, sounds, like, quite, an, ...</td>\n",
       "      <td>[Hello, !, I, 'm, here, to, help, you, with, y...</td>\n",
       "      <td>171</td>\n",
       "      <td>201</td>\n",
       "      <td>2.25</td>\n",
       "      <td>1.75</td>\n",
       "    </tr>\n",
       "    <tr>\n",
       "      <th>4</th>\n",
       "      <td>Can you create a smoothie recipe that includes...</td>\n",
       "      <td>evol_instruct</td>\n",
       "      <td>gpt-3.5-turbo</td>\n",
       "      <td>falcon-40b-instruct</td>\n",
       "      <td>163</td>\n",
       "      <td>14</td>\n",
       "      <td>Here's a smoothie recipe that meets the criter...</td>\n",
       "      <td>If you have any further questions or requests,...</td>\n",
       "      <td>1.05</td>\n",
       "      <td>54576</td>\n",
       "      <td>[Here, 's, a, smoothie, recipe, that, meets, t...</td>\n",
       "      <td>[If, you, have, any, further, questions, or, r...</td>\n",
       "      <td>93</td>\n",
       "      <td>13</td>\n",
       "      <td>1.15</td>\n",
       "      <td>0.10</td>\n",
       "    </tr>\n",
       "    <tr>\n",
       "      <th>5</th>\n",
       "      <td>Rewrite this news article to make it more conc...</td>\n",
       "      <td>evol_instruct</td>\n",
       "      <td>alpaca-7b</td>\n",
       "      <td>starchat</td>\n",
       "      <td>45</td>\n",
       "      <td>115</td>\n",
       "      <td>More companies are embracing quantum computing...</td>\n",
       "      <td>More tech companies are turning to quantum com...</td>\n",
       "      <td>0.55</td>\n",
       "      <td>45024</td>\n",
       "      <td>[More, companies, are, embracing, quantum, com...</td>\n",
       "      <td>[More, tech, companies, are, turning, to, quan...</td>\n",
       "      <td>93</td>\n",
       "      <td>37</td>\n",
       "      <td>1.00</td>\n",
       "      <td>0.45</td>\n",
       "    </tr>\n",
       "    <tr>\n",
       "      <th>6</th>\n",
       "      <td>Capitalize the first letter in each word of th...</td>\n",
       "      <td>evol_instruct</td>\n",
       "      <td>wizardlm-13b</td>\n",
       "      <td>mpt-30b-chat</td>\n",
       "      <td>238</td>\n",
       "      <td>61</td>\n",
       "      <td>AI, chatbots are the physical and software-bas...</td>\n",
       "      <td>ThIs mInUtEr Has PassEd, anD ThE nExt oNe will...</td>\n",
       "      <td>1.75</td>\n",
       "      <td>25137</td>\n",
       "      <td>[AI, ,, chatbots, are, the, physical, and, sof...</td>\n",
       "      <td>[ThIs, mInUtEr, Has, PassEd, ,, anD, ThE, nExt...</td>\n",
       "      <td>183</td>\n",
       "      <td>27</td>\n",
       "      <td>2.50</td>\n",
       "      <td>0.75</td>\n",
       "    </tr>\n",
       "    <tr>\n",
       "      <th>7</th>\n",
       "      <td>How can I implement a function in Go that chec...</td>\n",
       "      <td>evol_instruct</td>\n",
       "      <td>starchat</td>\n",
       "      <td>alpaca-7b</td>\n",
       "      <td>545</td>\n",
       "      <td>109</td>\n",
       "      <td>Here is a function in Go that checks if a give...</td>\n",
       "      <td>The following Go code can be used to check if ...</td>\n",
       "      <td>5.70</td>\n",
       "      <td>50234</td>\n",
       "      <td>[Here, is, a, function, in, Go, that, checks, ...</td>\n",
       "      <td>[The, following, Go, code, can, be, used, to, ...</td>\n",
       "      <td>435</td>\n",
       "      <td>72</td>\n",
       "      <td>6.65</td>\n",
       "      <td>0.95</td>\n",
       "    </tr>\n",
       "    <tr>\n",
       "      <th>8</th>\n",
       "      <td>Can you provide an Excel table containing five...</td>\n",
       "      <td>evol_instruct</td>\n",
       "      <td>llama-2-70b-chat</td>\n",
       "      <td>falcon-40b-instruct</td>\n",
       "      <td>647</td>\n",
       "      <td>315</td>\n",
       "      <td>Sure, here's an Excel table with five use case...</td>\n",
       "      <td>Sure! Here are 5 use cases of natural language...</td>\n",
       "      <td>7.90</td>\n",
       "      <td>51835</td>\n",
       "      <td>[Sure, ,, here, 's, an, Excel, table, with, fi...</td>\n",
       "      <td>[Sure, !, Here, are, 5, use, cases, of, natura...</td>\n",
       "      <td>499</td>\n",
       "      <td>248</td>\n",
       "      <td>12.05</td>\n",
       "      <td>4.15</td>\n",
       "    </tr>\n",
       "    <tr>\n",
       "      <th>9</th>\n",
       "      <td>Detect if the following phrase is in proper En...</td>\n",
       "      <td>evol_instruct</td>\n",
       "      <td>ultralm-13b</td>\n",
       "      <td>wizardlm-13b</td>\n",
       "      <td>272</td>\n",
       "      <td>48</td>\n",
       "      <td>Your phrase \"We goin' for shopping\" is not in ...</td>\n",
       "      <td>As an AI assistant, I strive to provide accura...</td>\n",
       "      <td>2.00</td>\n",
       "      <td>38661</td>\n",
       "      <td>[Your, phrase, ``, We, goin, ', for, shopping,...</td>\n",
       "      <td>[As, an, AI, assistant, ,, I, strive, to, prov...</td>\n",
       "      <td>223</td>\n",
       "      <td>42</td>\n",
       "      <td>2.45</td>\n",
       "      <td>0.45</td>\n",
       "    </tr>\n",
       "  </tbody>\n",
       "</table>\n",
       "</div>"
      ],
      "text/plain": [
       "                                            question         source  \\\n",
       "0  Can you solve the puzzle of special relativity...  evol_instruct   \n",
       "1  Can you provide a comparison of the economies ...  evol_instruct   \n",
       "2  Transform the following sentence into one usin...  evol_instruct   \n",
       "3  Sarah needs to escape the city as quickly as p...  evol_instruct   \n",
       "4  Can you create a smoothie recipe that includes...  evol_instruct   \n",
       "5  Rewrite this news article to make it more conc...  evol_instruct   \n",
       "6  Capitalize the first letter in each word of th...  evol_instruct   \n",
       "7  How can I implement a function in Go that chec...  evol_instruct   \n",
       "8  Can you provide an Excel table containing five...  evol_instruct   \n",
       "9  Detect if the following phrase is in proper En...  evol_instruct   \n",
       "\n",
       "               modj                 modk  tokj  tok  \\\n",
       "0             gpt-4      llama-2-7b-chat   699  402   \n",
       "1              bard          ultralm-13b   527  362   \n",
       "2             gpt-4          ultralm-13b     6   53   \n",
       "3     gpt-3.5-turbo     llama-2-13b-chat   226  235   \n",
       "4     gpt-3.5-turbo  falcon-40b-instruct   163   14   \n",
       "5         alpaca-7b             starchat    45  115   \n",
       "6      wizardlm-13b         mpt-30b-chat   238   61   \n",
       "7          starchat            alpaca-7b   545  109   \n",
       "8  llama-2-70b-chat  falcon-40b-instruct   647  315   \n",
       "9       ultralm-13b         wizardlm-13b   272   48   \n",
       "\n",
       "                                          response_j  \\\n",
       "0  Using the information provided and applying th...   \n",
       "1  | Metric | United States | China |\\n| --- | --...   \n",
       "2  The bird was viewed by her. \\n\\nIn this exampl...   \n",
       "3  Sarah's journey sounds like quite an adventure...   \n",
       "4  Here's a smoothie recipe that meets the criter...   \n",
       "5  More companies are embracing quantum computing...   \n",
       "6  AI, chatbots are the physical and software-bas...   \n",
       "7  Here is a function in Go that checks if a give...   \n",
       "8  Sure, here's an Excel table with five use case...   \n",
       "9  Your phrase \"We goin' for shopping\" is not in ...   \n",
       "\n",
       "                                          response_k  magnitude  \\\n",
       "0  Thank you for the challenging puzzle! I'll do ...       3.70   \n",
       "1  As an AI assistant, I can definitely provide y...       1.00   \n",
       "2                             She observed the bird.       0.45   \n",
       "3  Hello! I'm here to help you with your question...       0.50   \n",
       "4  If you have any further questions or requests,...       1.05   \n",
       "5  More tech companies are turning to quantum com...       0.55   \n",
       "6  ThIs mInUtEr Has PassEd, anD ThE nExt oNe will...       1.75   \n",
       "7  The following Go code can be used to check if ...       5.70   \n",
       "8  Sure! Here are 5 use cases of natural language...       7.90   \n",
       "9  As an AI assistant, I strive to provide accura...       2.00   \n",
       "\n",
       "   __index_level_0__                                             toks_j  \\\n",
       "0              18234  [Using, the, information, provided, and, apply...   \n",
       "1              24182  [|, Metric, |, United, States, |, China, |, |,...   \n",
       "2              48291  [The, bird, was, viewed, by, her, ., In, this,...   \n",
       "3              16134  [Sarah, 's, journey, sounds, like, quite, an, ...   \n",
       "4              54576  [Here, 's, a, smoothie, recipe, that, meets, t...   \n",
       "5              45024  [More, companies, are, embracing, quantum, com...   \n",
       "6              25137  [AI, ,, chatbots, are, the, physical, and, sof...   \n",
       "7              50234  [Here, is, a, function, in, Go, that, checks, ...   \n",
       "8              51835  [Sure, ,, here, 's, an, Excel, table, with, fi...   \n",
       "9              38661  [Your, phrase, ``, We, goin, ', for, shopping,...   \n",
       "\n",
       "                                              toks_k  ntoks_j  ntoks_k  \\\n",
       "0  [Thank, you, for, the, challenging, puzzle, !,...      419      334   \n",
       "1  [As, an, AI, assistant, ,, I, can, definitely,...      313      260   \n",
       "2                      [She, observed, the, bird, .]       47        5   \n",
       "3  [Hello, !, I, 'm, here, to, help, you, with, y...      171      201   \n",
       "4  [If, you, have, any, further, questions, or, r...       93       13   \n",
       "5  [More, tech, companies, are, turning, to, quan...       93       37   \n",
       "6  [ThIs, mInUtEr, Has, PassEd, ,, anD, ThE, nExt...      183       27   \n",
       "7  [The, following, Go, code, can, be, used, to, ...      435       72   \n",
       "8  [Sure, !, Here, are, 5, use, cases, of, natura...      499      248   \n",
       "9  [As, an, AI, assistant, ,, I, strive, to, prov...      223       42   \n",
       "\n",
       "   score_j  score_k  \n",
       "0     9.30     5.60  \n",
       "1     4.50     3.50  \n",
       "2     0.50     0.05  \n",
       "3     2.25     1.75  \n",
       "4     1.15     0.10  \n",
       "5     1.00     0.45  \n",
       "6     2.50     0.75  \n",
       "7     6.65     0.95  \n",
       "8    12.05     4.15  \n",
       "9     2.45     0.45  "
      ]
     },
     "execution_count": 84,
     "metadata": {},
     "output_type": "execute_result"
    }
   ],
   "source": [
    "pd.DataFrame(dataset.select(range(10)))"
   ]
  },
  {
   "cell_type": "code",
   "execution_count": 107,
   "id": "d77add51-98d1-41af-b7a3-83cf29a1c06f",
   "metadata": {},
   "outputs": [
    {
     "data": {
      "text/plain": [
       "3.0979601087465296"
      ]
     },
     "execution_count": 107,
     "metadata": {},
     "output_type": "execute_result"
    }
   ],
   "source": [
    "mean(dataset['score_j'])"
   ]
  },
  {
   "cell_type": "code",
   "execution_count": 118,
   "id": "88a84562-a0a2-4084-ba0e-1288d4ea6ba9",
   "metadata": {},
   "outputs": [
    {
     "name": "stderr",
     "output_type": "stream",
     "text": [
      "                                                                                                                                                                             \r"
     ]
    }
   ],
   "source": [
    "# Apply the subsampling method to the dataset\n",
    "R = 0.0001 # for example\n",
    "sbd = subsample_dataset(dataset, R, 10000) "
   ]
  },
  {
   "cell_type": "code",
   "execution_count": 108,
   "id": "27f1a5c2-1b6d-4ca3-8af5-c292fe99c522",
   "metadata": {},
   "outputs": [
    {
     "data": {
      "text/plain": [
       "284931"
      ]
     },
     "execution_count": 108,
     "metadata": {},
     "output_type": "execute_result"
    }
   ],
   "source": [
    "len(dataset)"
   ]
  },
  {
   "cell_type": "code",
   "execution_count": 103,
   "id": "34c0e48b-7f39-4655-98a6-7a3178840966",
   "metadata": {},
   "outputs": [
    {
     "data": {
      "text/plain": [
       "10000"
      ]
     },
     "execution_count": 103,
     "metadata": {},
     "output_type": "execute_result"
    }
   ],
   "source": [
    "len(sbd)"
   ]
  },
  {
   "cell_type": "code",
   "execution_count": 102,
   "id": "0f187cc5-9900-4f27-9781-c179f8f01569",
   "metadata": {},
   "outputs": [
    {
     "data": {
      "text/html": [
       "<div>\n",
       "<style scoped>\n",
       "    .dataframe tbody tr th:only-of-type {\n",
       "        vertical-align: middle;\n",
       "    }\n",
       "\n",
       "    .dataframe tbody tr th {\n",
       "        vertical-align: top;\n",
       "    }\n",
       "\n",
       "    .dataframe thead th {\n",
       "        text-align: right;\n",
       "    }\n",
       "</style>\n",
       "<table border=\"1\" class=\"dataframe\">\n",
       "  <thead>\n",
       "    <tr style=\"text-align: right;\">\n",
       "      <th></th>\n",
       "      <th>question</th>\n",
       "      <th>source</th>\n",
       "      <th>modj</th>\n",
       "      <th>modk</th>\n",
       "      <th>tokj</th>\n",
       "      <th>tok</th>\n",
       "      <th>response_j</th>\n",
       "      <th>response_k</th>\n",
       "      <th>magnitude</th>\n",
       "      <th>__index_level_0__</th>\n",
       "      <th>...</th>\n",
       "      <th>nouns_k</th>\n",
       "      <th>nouns_j</th>\n",
       "      <th>tokens_k</th>\n",
       "      <th>tokens_j</th>\n",
       "      <th>toks_k</th>\n",
       "      <th>toks_j</th>\n",
       "      <th>ntoks_k</th>\n",
       "      <th>ntoks_j</th>\n",
       "      <th>score_k</th>\n",
       "      <th>score_j</th>\n",
       "    </tr>\n",
       "  </thead>\n",
       "  <tbody>\n",
       "    <tr>\n",
       "      <th>0</th>\n",
       "      <td>A ploynomial equation is a sum of terms. Here ...</td>\n",
       "      <td>flan_v2_niv2</td>\n",
       "      <td>ultralm-65b</td>\n",
       "      <td>starchat</td>\n",
       "      <td>109</td>\n",
       "      <td>152</td>\n",
       "      <td>In the polynomial: 0x^2+8x+4, 0 is the value o...</td>\n",
       "      <td>In this case, I can determine that `x = 5` fro...</td>\n",
       "      <td>4.577778</td>\n",
       "      <td>121197</td>\n",
       "      <td>...</td>\n",
       "      <td>0.70</td>\n",
       "      <td>0.80</td>\n",
       "      <td>1.5125</td>\n",
       "      <td>0.9625</td>\n",
       "      <td>[In, this, case, ,, I, can, determine, that, `...</td>\n",
       "      <td>[In, the, polynomial, :, 0x^2+8x+4, ,, 0, is, ...</td>\n",
       "      <td>121</td>\n",
       "      <td>77</td>\n",
       "      <td>0.0</td>\n",
       "      <td>4.577778</td>\n",
       "    </tr>\n",
       "    <tr>\n",
       "      <th>1</th>\n",
       "      <td>Write a function in python that connects to a ...</td>\n",
       "      <td>sharegpt</td>\n",
       "      <td>wizardlm-70b</td>\n",
       "      <td>vicuna-33b</td>\n",
       "      <td>356</td>\n",
       "      <td>282</td>\n",
       "      <td>To connect to a SQL database in Python, you ca...</td>\n",
       "      <td>Here's a simple example of a Python function t...</td>\n",
       "      <td>4.207750</td>\n",
       "      <td>272591</td>\n",
       "      <td>...</td>\n",
       "      <td>3.25</td>\n",
       "      <td>3.40</td>\n",
       "      <td>3.0750</td>\n",
       "      <td>2.6125</td>\n",
       "      <td>[Here, 's, a, simple, example, of, a, Python, ...</td>\n",
       "      <td>[To, connect, to, a, SQL, database, in, Python...</td>\n",
       "      <td>246</td>\n",
       "      <td>209</td>\n",
       "      <td>0.0</td>\n",
       "      <td>4.207750</td>\n",
       "    </tr>\n",
       "    <tr>\n",
       "      <th>2</th>\n",
       "      <td>You will be given a definition of a task first...</td>\n",
       "      <td>flan_v2_niv2</td>\n",
       "      <td>llama-2-13b-chat</td>\n",
       "      <td>llama-2-70b-chat</td>\n",
       "      <td>120</td>\n",
       "      <td>100</td>\n",
       "      <td>Sure! I'll do my best to generate an incorrect...</td>\n",
       "      <td>I apologize, but I cannot provide an incorrect...</td>\n",
       "      <td>4.236869</td>\n",
       "      <td>142482</td>\n",
       "      <td>...</td>\n",
       "      <td>1.10</td>\n",
       "      <td>1.35</td>\n",
       "      <td>1.1625</td>\n",
       "      <td>1.1250</td>\n",
       "      <td>[I, apologize, ,, but, I, can, not, provide, a...</td>\n",
       "      <td>[Sure, !, I, 'll, do, my, best, to, generate, ...</td>\n",
       "      <td>93</td>\n",
       "      <td>90</td>\n",
       "      <td>0.0</td>\n",
       "      <td>4.236869</td>\n",
       "    </tr>\n",
       "    <tr>\n",
       "      <th>3</th>\n",
       "      <td>How do I use Vite with Vue?</td>\n",
       "      <td>sharegpt</td>\n",
       "      <td>wizardlm-13b</td>\n",
       "      <td>wizardlm-70b</td>\n",
       "      <td>600</td>\n",
       "      <td>634</td>\n",
       "      <td>Vite is a powerful build tool and development ...</td>\n",
       "      <td>Vite is a modern, build-time development serve...</td>\n",
       "      <td>4.093234</td>\n",
       "      <td>286031</td>\n",
       "      <td>...</td>\n",
       "      <td>6.40</td>\n",
       "      <td>6.65</td>\n",
       "      <td>5.6125</td>\n",
       "      <td>5.3125</td>\n",
       "      <td>[Vite, is, a, modern, ,, build-time, developme...</td>\n",
       "      <td>[Vite, is, a, powerful, build, tool, and, deve...</td>\n",
       "      <td>449</td>\n",
       "      <td>425</td>\n",
       "      <td>0.0</td>\n",
       "      <td>4.093234</td>\n",
       "    </tr>\n",
       "    <tr>\n",
       "      <th>4</th>\n",
       "      <td>based on the prior work, what is the potential...</td>\n",
       "      <td>sharegpt</td>\n",
       "      <td>gpt-4</td>\n",
       "      <td>mpt-30b-chat</td>\n",
       "      <td>347</td>\n",
       "      <td>393</td>\n",
       "      <td>The potential contribution of a new paper appl...</td>\n",
       "      <td>Based on the prior work you mentioned, applyin...</td>\n",
       "      <td>4.155913</td>\n",
       "      <td>239880</td>\n",
       "      <td>...</td>\n",
       "      <td>3.75</td>\n",
       "      <td>3.85</td>\n",
       "      <td>3.8000</td>\n",
       "      <td>3.3375</td>\n",
       "      <td>[Based, on, the, prior, work, you, mentioned, ...</td>\n",
       "      <td>[The, potential, contribution, of, a, new, pap...</td>\n",
       "      <td>304</td>\n",
       "      <td>267</td>\n",
       "      <td>0.0</td>\n",
       "      <td>4.155913</td>\n",
       "    </tr>\n",
       "    <tr>\n",
       "      <th>...</th>\n",
       "      <td>...</td>\n",
       "      <td>...</td>\n",
       "      <td>...</td>\n",
       "      <td>...</td>\n",
       "      <td>...</td>\n",
       "      <td>...</td>\n",
       "      <td>...</td>\n",
       "      <td>...</td>\n",
       "      <td>...</td>\n",
       "      <td>...</td>\n",
       "      <td>...</td>\n",
       "      <td>...</td>\n",
       "      <td>...</td>\n",
       "      <td>...</td>\n",
       "      <td>...</td>\n",
       "      <td>...</td>\n",
       "      <td>...</td>\n",
       "      <td>...</td>\n",
       "      <td>...</td>\n",
       "      <td>...</td>\n",
       "      <td>...</td>\n",
       "    </tr>\n",
       "    <tr>\n",
       "      <th>9995</th>\n",
       "      <td>write a sample paragraph for a scifi story ins...</td>\n",
       "      <td>sharegpt</td>\n",
       "      <td>gpt-3.5-turbo</td>\n",
       "      <td>llama-2-70b-chat</td>\n",
       "      <td>251</td>\n",
       "      <td>220</td>\n",
       "      <td>In the distant reaches of the Andromeda Galaxy...</td>\n",
       "      <td>In the distant reaches of the galaxy, a young ...</td>\n",
       "      <td>4.364539</td>\n",
       "      <td>235567</td>\n",
       "      <td>...</td>\n",
       "      <td>1.75</td>\n",
       "      <td>2.35</td>\n",
       "      <td>2.1625</td>\n",
       "      <td>2.0125</td>\n",
       "      <td>[In, the, distant, reaches, of, the, galaxy, ,...</td>\n",
       "      <td>[In, the, distant, reaches, of, the, Andromeda...</td>\n",
       "      <td>173</td>\n",
       "      <td>161</td>\n",
       "      <td>0.0</td>\n",
       "      <td>4.364539</td>\n",
       "    </tr>\n",
       "    <tr>\n",
       "      <th>9996</th>\n",
       "      <td>You are presented with a series of numbers, st...</td>\n",
       "      <td>evol_instruct</td>\n",
       "      <td>gpt-4</td>\n",
       "      <td>bard</td>\n",
       "      <td>327</td>\n",
       "      <td>283</td>\n",
       "      <td>The compressed sequence is 1, 3, 5, 10, 17, 26...</td>\n",
       "      <td>Sure, let's first list the Fibonacci sequence ...</td>\n",
       "      <td>4.146520</td>\n",
       "      <td>23521</td>\n",
       "      <td>...</td>\n",
       "      <td>2.00</td>\n",
       "      <td>2.20</td>\n",
       "      <td>3.0000</td>\n",
       "      <td>2.8500</td>\n",
       "      <td>[Sure, ,, let, 's, first, list, the, Fibonacci...</td>\n",
       "      <td>[The, compressed, sequence, is, 1, ,, 3, ,, 5,...</td>\n",
       "      <td>240</td>\n",
       "      <td>228</td>\n",
       "      <td>0.0</td>\n",
       "      <td>4.146520</td>\n",
       "    </tr>\n",
       "    <tr>\n",
       "      <th>9997</th>\n",
       "      <td>As the detective stepped into the abandoned ma...</td>\n",
       "      <td>evol_instruct</td>\n",
       "      <td>wizardlm-13b</td>\n",
       "      <td>llama-2-70b-chat</td>\n",
       "      <td>360</td>\n",
       "      <td>375</td>\n",
       "      <td>Step 1: Identify the Detective's Motivation\\nT...</td>\n",
       "      <td>It sounds like you're describing a thrilling m...</td>\n",
       "      <td>4.416850</td>\n",
       "      <td>13984</td>\n",
       "      <td>...</td>\n",
       "      <td>3.00</td>\n",
       "      <td>3.85</td>\n",
       "      <td>3.9375</td>\n",
       "      <td>3.3250</td>\n",
       "      <td>[It, sounds, like, you, 're, describing, a, th...</td>\n",
       "      <td>[Step, 1, :, Identify, the, Detective, 's, Mot...</td>\n",
       "      <td>315</td>\n",
       "      <td>266</td>\n",
       "      <td>0.0</td>\n",
       "      <td>4.416850</td>\n",
       "    </tr>\n",
       "    <tr>\n",
       "      <th>9998</th>\n",
       "      <td>rewrite it and make it about one and a half ti...</td>\n",
       "      <td>sharegpt</td>\n",
       "      <td>gpt-4</td>\n",
       "      <td>ultralm-13b</td>\n",
       "      <td>121</td>\n",
       "      <td>131</td>\n",
       "      <td>As an AI assistant, it's of paramount importan...</td>\n",
       "      <td>As an AI assistant, it is of utmost importance...</td>\n",
       "      <td>4.137902</td>\n",
       "      <td>238347</td>\n",
       "      <td>...</td>\n",
       "      <td>1.10</td>\n",
       "      <td>1.15</td>\n",
       "      <td>1.4000</td>\n",
       "      <td>1.2750</td>\n",
       "      <td>[As, an, AI, assistant, ,, it, is, of, utmost,...</td>\n",
       "      <td>[As, an, AI, assistant, ,, it, 's, of, paramou...</td>\n",
       "      <td>112</td>\n",
       "      <td>102</td>\n",
       "      <td>0.0</td>\n",
       "      <td>4.137902</td>\n",
       "    </tr>\n",
       "    <tr>\n",
       "      <th>9999</th>\n",
       "      <td>How should you treat a bite from a venomous sn...</td>\n",
       "      <td>truthful_qa</td>\n",
       "      <td>gpt-3.5-turbo</td>\n",
       "      <td>starchat</td>\n",
       "      <td>393</td>\n",
       "      <td>402</td>\n",
       "      <td>If you suspect a bite from a venomous snake, i...</td>\n",
       "      <td>If you are bitten by a venomous snake, there a...</td>\n",
       "      <td>4.207476</td>\n",
       "      <td>324152</td>\n",
       "      <td>...</td>\n",
       "      <td>3.25</td>\n",
       "      <td>3.85</td>\n",
       "      <td>3.9750</td>\n",
       "      <td>3.8250</td>\n",
       "      <td>[If, you, are, bitten, by, a, venomous, snake,...</td>\n",
       "      <td>[If, you, suspect, a, bite, from, a, venomous,...</td>\n",
       "      <td>318</td>\n",
       "      <td>306</td>\n",
       "      <td>0.0</td>\n",
       "      <td>4.207476</td>\n",
       "    </tr>\n",
       "  </tbody>\n",
       "</table>\n",
       "<p>10000 rows × 21 columns</p>\n",
       "</div>"
      ],
      "text/plain": [
       "                                               question         source  \\\n",
       "0     A ploynomial equation is a sum of terms. Here ...   flan_v2_niv2   \n",
       "1     Write a function in python that connects to a ...       sharegpt   \n",
       "2     You will be given a definition of a task first...   flan_v2_niv2   \n",
       "3                           How do I use Vite with Vue?       sharegpt   \n",
       "4     based on the prior work, what is the potential...       sharegpt   \n",
       "...                                                 ...            ...   \n",
       "9995  write a sample paragraph for a scifi story ins...       sharegpt   \n",
       "9996  You are presented with a series of numbers, st...  evol_instruct   \n",
       "9997  As the detective stepped into the abandoned ma...  evol_instruct   \n",
       "9998  rewrite it and make it about one and a half ti...       sharegpt   \n",
       "9999  How should you treat a bite from a venomous sn...    truthful_qa   \n",
       "\n",
       "                  modj              modk  tokj  tok  \\\n",
       "0          ultralm-65b          starchat   109  152   \n",
       "1         wizardlm-70b        vicuna-33b   356  282   \n",
       "2     llama-2-13b-chat  llama-2-70b-chat   120  100   \n",
       "3         wizardlm-13b      wizardlm-70b   600  634   \n",
       "4                gpt-4      mpt-30b-chat   347  393   \n",
       "...                ...               ...   ...  ...   \n",
       "9995     gpt-3.5-turbo  llama-2-70b-chat   251  220   \n",
       "9996             gpt-4              bard   327  283   \n",
       "9997      wizardlm-13b  llama-2-70b-chat   360  375   \n",
       "9998             gpt-4       ultralm-13b   121  131   \n",
       "9999     gpt-3.5-turbo          starchat   393  402   \n",
       "\n",
       "                                             response_j  \\\n",
       "0     In the polynomial: 0x^2+8x+4, 0 is the value o...   \n",
       "1     To connect to a SQL database in Python, you ca...   \n",
       "2     Sure! I'll do my best to generate an incorrect...   \n",
       "3     Vite is a powerful build tool and development ...   \n",
       "4     The potential contribution of a new paper appl...   \n",
       "...                                                 ...   \n",
       "9995  In the distant reaches of the Andromeda Galaxy...   \n",
       "9996  The compressed sequence is 1, 3, 5, 10, 17, 26...   \n",
       "9997  Step 1: Identify the Detective's Motivation\\nT...   \n",
       "9998  As an AI assistant, it's of paramount importan...   \n",
       "9999  If you suspect a bite from a venomous snake, i...   \n",
       "\n",
       "                                             response_k  magnitude  \\\n",
       "0     In this case, I can determine that `x = 5` fro...   4.577778   \n",
       "1     Here's a simple example of a Python function t...   4.207750   \n",
       "2     I apologize, but I cannot provide an incorrect...   4.236869   \n",
       "3     Vite is a modern, build-time development serve...   4.093234   \n",
       "4     Based on the prior work you mentioned, applyin...   4.155913   \n",
       "...                                                 ...        ...   \n",
       "9995  In the distant reaches of the galaxy, a young ...   4.364539   \n",
       "9996  Sure, let's first list the Fibonacci sequence ...   4.146520   \n",
       "9997  It sounds like you're describing a thrilling m...   4.416850   \n",
       "9998  As an AI assistant, it is of utmost importance...   4.137902   \n",
       "9999  If you are bitten by a venomous snake, there a...   4.207476   \n",
       "\n",
       "      __index_level_0__  ... nouns_k  nouns_j  tokens_k  tokens_j  \\\n",
       "0                121197  ...    0.70     0.80    1.5125    0.9625   \n",
       "1                272591  ...    3.25     3.40    3.0750    2.6125   \n",
       "2                142482  ...    1.10     1.35    1.1625    1.1250   \n",
       "3                286031  ...    6.40     6.65    5.6125    5.3125   \n",
       "4                239880  ...    3.75     3.85    3.8000    3.3375   \n",
       "...                 ...  ...     ...      ...       ...       ...   \n",
       "9995             235567  ...    1.75     2.35    2.1625    2.0125   \n",
       "9996              23521  ...    2.00     2.20    3.0000    2.8500   \n",
       "9997              13984  ...    3.00     3.85    3.9375    3.3250   \n",
       "9998             238347  ...    1.10     1.15    1.4000    1.2750   \n",
       "9999             324152  ...    3.25     3.85    3.9750    3.8250   \n",
       "\n",
       "                                                 toks_k  \\\n",
       "0     [In, this, case, ,, I, can, determine, that, `...   \n",
       "1     [Here, 's, a, simple, example, of, a, Python, ...   \n",
       "2     [I, apologize, ,, but, I, can, not, provide, a...   \n",
       "3     [Vite, is, a, modern, ,, build-time, developme...   \n",
       "4     [Based, on, the, prior, work, you, mentioned, ...   \n",
       "...                                                 ...   \n",
       "9995  [In, the, distant, reaches, of, the, galaxy, ,...   \n",
       "9996  [Sure, ,, let, 's, first, list, the, Fibonacci...   \n",
       "9997  [It, sounds, like, you, 're, describing, a, th...   \n",
       "9998  [As, an, AI, assistant, ,, it, is, of, utmost,...   \n",
       "9999  [If, you, are, bitten, by, a, venomous, snake,...   \n",
       "\n",
       "                                                 toks_j ntoks_k  ntoks_j  \\\n",
       "0     [In, the, polynomial, :, 0x^2+8x+4, ,, 0, is, ...     121       77   \n",
       "1     [To, connect, to, a, SQL, database, in, Python...     246      209   \n",
       "2     [Sure, !, I, 'll, do, my, best, to, generate, ...      93       90   \n",
       "3     [Vite, is, a, powerful, build, tool, and, deve...     449      425   \n",
       "4     [The, potential, contribution, of, a, new, pap...     304      267   \n",
       "...                                                 ...     ...      ...   \n",
       "9995  [In, the, distant, reaches, of, the, Andromeda...     173      161   \n",
       "9996  [The, compressed, sequence, is, 1, ,, 3, ,, 5,...     240      228   \n",
       "9997  [Step, 1, :, Identify, the, Detective, 's, Mot...     315      266   \n",
       "9998  [As, an, AI, assistant, ,, it, 's, of, paramou...     112      102   \n",
       "9999  [If, you, suspect, a, bite, from, a, venomous,...     318      306   \n",
       "\n",
       "      score_k   score_j  \n",
       "0         0.0  4.577778  \n",
       "1         0.0  4.207750  \n",
       "2         0.0  4.236869  \n",
       "3         0.0  4.093234  \n",
       "4         0.0  4.155913  \n",
       "...       ...       ...  \n",
       "9995      0.0  4.364539  \n",
       "9996      0.0  4.146520  \n",
       "9997      0.0  4.416850  \n",
       "9998      0.0  4.137902  \n",
       "9999      0.0  4.207476  \n",
       "\n",
       "[10000 rows x 21 columns]"
      ]
     },
     "execution_count": 102,
     "metadata": {},
     "output_type": "execute_result"
    }
   ],
   "source": [
    "pd.DataFrame(sbd)"
   ]
  },
  {
   "cell_type": "code",
   "execution_count": 79,
   "id": "0c73537c-d19e-4183-a23b-275712cb26d1",
   "metadata": {},
   "outputs": [
    {
     "data": {
      "text/plain": [
       "0.0002706422018348624"
      ]
     },
     "execution_count": 79,
     "metadata": {},
     "output_type": "execute_result"
    }
   ],
   "source": [
    "mean(sbd['score_k'])"
   ]
  },
  {
   "cell_type": "code",
   "execution_count": 20,
   "id": "d6d6a80e-9b47-4a26-ae21-3aa7a7a995d2",
   "metadata": {},
   "outputs": [
    {
     "data": {
      "text/plain": [
       "3.4465535714285713"
      ]
     },
     "execution_count": 20,
     "metadata": {},
     "output_type": "execute_result"
    }
   ],
   "source": [
    "mean(sbd['tokens_k'])"
   ]
  },
  {
   "cell_type": "code",
   "execution_count": 22,
   "id": "e48310da-71d0-4e28-abf3-c9c051c29219",
   "metadata": {},
   "outputs": [
    {
     "data": {
      "text/plain": [
       "78576"
      ]
     },
     "execution_count": 22,
     "metadata": {},
     "output_type": "execute_result"
    }
   ],
   "source": [
    "len([check_condition(c) for c in dataset])"
   ]
  },
  {
   "cell_type": "code",
   "execution_count": 75,
   "id": "70853bef-de8e-4a35-9f76-00690aa6e661",
   "metadata": {},
   "outputs": [
    {
     "name": "stderr",
     "output_type": "stream",
     "text": [
      "Loading cached shuffled indices for dataset at /scratch/cluster/prasanns/research/rlhf-length-biases/data/ultrafeeddiff/cache-bc7572bb4bfa7fe2.arrow\n"
     ]
    }
   ],
   "source": [
    "dataset = dataset.shuffle(seed=0)"
   ]
  },
  {
   "cell_type": "code",
   "execution_count": 86,
   "id": "bdac501e-193b-48ef-8517-477885bdd03a",
   "metadata": {},
   "outputs": [
    {
     "name": "stderr",
     "output_type": "stream",
     "text": [
      "                                                                                                                                                                             \r"
     ]
    }
   ],
   "source": [
    "dataset.select(range(10000)).save_to_disk(\"../../data/justnouns\")"
   ]
  },
  {
   "cell_type": "code",
   "execution_count": 100,
   "id": "8a02bfc0-5f48-4b1c-b4bd-6490962bb4f7",
   "metadata": {},
   "outputs": [
    {
     "name": "stderr",
     "output_type": "stream",
     "text": [
      "                                                                                                                                                                             \r"
     ]
    }
   ],
   "source": [
    "sbd.save_to_disk(\"../../data/nounsynth_allcontrary\")"
   ]
  },
  {
   "cell_type": "code",
   "execution_count": 57,
   "id": "dafe5760-9faf-477b-a3d1-e9e4223436aa",
   "metadata": {},
   "outputs": [
    {
     "name": "stderr",
     "output_type": "stream",
     "text": [
      "                                                                                                                                                                                      \r"
     ]
    },
    {
     "data": {
      "text/plain": [
       "2036"
      ]
     },
     "execution_count": 57,
     "metadata": {},
     "output_type": "execute_result"
    }
   ],
   "source": [
    "len(subsampled_dataset.filter(check_condition))"
   ]
  },
  {
   "cell_type": "code",
   "execution_count": 156,
   "id": "d9340d6b-6b87-40b4-be3d-7af3588618ab",
   "metadata": {},
   "outputs": [
    {
     "name": "stderr",
     "output_type": "stream",
     "text": [
      "                                                                                                                                                                 \r"
     ]
    }
   ],
   "source": [
    "dataset.save_to_disk(\"../../data/4featuredset\")"
   ]
  },
  {
   "cell_type": "code",
   "execution_count": 14,
   "id": "d53229a5-4257-4bc5-b93c-451822513790",
   "metadata": {},
   "outputs": [],
   "source": [
    "def normsco(ex, wdict):\n",
    "    sj = 0\n",
    "    sk = 0\n",
    "    for w in wdict.keys():\n",
    "        sj = sj + ex[w+\"_j\"]/wdict[w]\n",
    "        sk = sk + ex[w+\"_k\"]/wdict[w]\n",
    "        ex[w+\"_j\"] = ex[w+\"_j\"]*4/wdict[w]\n",
    "        ex[w+\"_k\"] = ex[w+\"_k\"]*4/wdict[w]\n",
    "        \n",
    "    sj = sj*4\n",
    "    sk = sk*4\n",
    "    # need to flip some stuff\n",
    "    if sk>sj: \n",
    "        ex['score_j'] = sk\n",
    "        ex['score_k'] = sj\n",
    "        # flip things as necessary\n",
    "        for c in list(wdict.keys())+['response']:\n",
    "            rktmp = ex[c+'_k']\n",
    "            ex[c+'_k'] = ex[c+'_j']\n",
    "            ex[c+'_j'] = rktmp\n",
    "    else: \n",
    "        ex['score_j'] = sj\n",
    "        ex['score_k'] = sk\n",
    "    return ex\n",
    "\n",
    "def rebalance_data(indata, cols=['ntoks', 'bow', 'tree', 'nouns']):\n",
    "    # get col values to normalize by\n",
    "    means = {}\n",
    "    for c in cols:\n",
    "        means[c] = mean(indata[c+\"_j\"])+mean(indata[c+\"_j\"])\n",
    "    if 'ntoks' in cols:\n",
    "        means[c] = means[c]*-1\n",
    "    return indata.map(lambda ex: normsco(ex, means))\n",
    "    "
   ]
  },
  {
   "cell_type": "code",
   "execution_count": 192,
   "id": "dee760d4-36b3-4b99-9104-f84c86bb8c63",
   "metadata": {},
   "outputs": [
    {
     "name": "stderr",
     "output_type": "stream",
     "text": [
      "                                                                                                                                                                 \r"
     ]
    }
   ],
   "source": [
    "normd = rebalance_data(dataset, ['bow', 'tree', 'nouns', 'ntoks'])"
   ]
  },
  {
   "cell_type": "code",
   "execution_count": 188,
   "id": "c7b6083c-4589-4f0a-ab1a-65ba29b1a43a",
   "metadata": {},
   "outputs": [
    {
     "data": {
      "text/plain": [
       "1.3110581430728392"
      ]
     },
     "execution_count": 188,
     "metadata": {},
     "output_type": "execute_result"
    }
   ],
   "source": [
    "mean(normd['nouns_k'])"
   ]
  },
  {
   "cell_type": "code",
   "execution_count": 193,
   "id": "2ed5b59e-2ac8-42a4-a9cb-1ef75db8e18f",
   "metadata": {},
   "outputs": [
    {
     "name": "stderr",
     "output_type": "stream",
     "text": [
      "                                                                                                                                                                 \r"
     ]
    }
   ],
   "source": [
    "normd.save_to_disk(\"../../data/4synthdata\")"
   ]
  },
  {
   "cell_type": "code",
   "execution_count": 169,
   "id": "85eae354-bdcf-445f-8930-d2afdb925c1a",
   "metadata": {},
   "outputs": [
    {
     "data": {
      "text/plain": [
       "Dataset({\n",
       "    features: ['question', 'source', 'modj', 'modk', 'tokj', 'tok', 'response_j', 'response_k', 'magnitude', '__index_level_0__', 'lab', 'nouns_j', 'nouns_k', 'bow_j', 'bow_k', 'tree_j', 'tree_k', 'tokens_j', 'tokens_k', 'toks_j', 'toks_k', 'ntoks_j', 'ntoks_k', 'score_j', 'score_k'],\n",
       "    num_rows: 50000\n",
       "})"
      ]
     },
     "execution_count": 169,
     "metadata": {},
     "output_type": "execute_result"
    }
   ],
   "source": [
    "dataset.shuffle(seed=0)"
   ]
  },
  {
   "cell_type": "code",
   "execution_count": 170,
   "id": "446e9c0f-3fc8-453c-8cc0-ff338c4e6c91",
   "metadata": {},
   "outputs": [],
   "source": [
    "dataset = dataset.select(range(10000))"
   ]
  },
  {
   "cell_type": "code",
   "execution_count": 168,
   "id": "6b973513-44fd-496d-9869-10ff6e6333fc",
   "metadata": {},
   "outputs": [
    {
     "data": {
      "text/plain": [
       "360.38752"
      ]
     },
     "execution_count": 168,
     "metadata": {},
     "output_type": "execute_result"
    }
   ],
   "source": [
    "mean(dataset['ntoks_j'])"
   ]
  },
  {
   "cell_type": "code",
   "execution_count": 16,
   "id": "01ea5edc-4f71-49bd-a5f8-c686e44dc522",
   "metadata": {},
   "outputs": [
    {
     "name": "stdout",
     "output_type": "stream",
     "text": [
      "[('.', 9628), ('the', 9578), (',', 9444), ('to', 8872), ('and', 8804), ('a', 8619), ('of', 8615), ('in', 7929), ('is', 7322), ('that', 7114), ('for', 6466), (':', 6422), ('with', 6149), ('this', 6070), ('can', 6008), ('you', 5694), ('as', 5472), (\"'s\", 5276), ('it', 5178), ('be', 4964), ('i', 4834), ('or', 4742), ('on', 4596), ('here', 4323), ('are', 4274), ('have', 4252), ('``', 4201), ('an', 4104), (')', 3955), ('(', 3926), (\"''\", 3818), ('!', 3778), ('by', 3734), ('help', 3637), ('1', 3371), ('your', 3244), ('if', 3216), ('2', 3202), ('from', 3046), ('3', 2863), ('any', 2843), ('use', 2783), ('not', 2776), ('which', 2726), ('using', 2469), ('more', 2456), ('other', 2451), ('=', 2349), ('their', 2324), ('provide', 2216), ('also', 2208), ('such', 2204), ('these', 2198), ('will', 2173), ('4', 2101), ('like', 1949), ('example', 1942), ('5', 1930), ('information', 1915), ('`', 1904), ('questions', 1870), ('we', 1833), ('code', 1826), ('each', 1788), ('there', 1783), ('let', 1781), ('hope', 1772), ('do', 1708), ('into', 1680), ('used', 1672), ('data', 1667), ('but', 1664), ('they', 1648), (\"'m\", 1642), ('however', 1631), ('would', 1624), ('has', 1619), ('while', 1606), ('may', 1602), ('me', 1583), ('one', 1568), ('based', 1566), ('need', 1561), ('-', 1554), ('its', 1527), ('happy', 1510), ('all', 1494), ('make', 1487), ('create', 1482), ('at', 1472), ('sure', 1470), ('about', 1469), ('so', 1456), ('how', 1417), ('some', 1409), ('please', 1393), ('first', 1377), ('?', 1357), ('know', 1341), ('*', 1340), ('[', 1336), (']', 1334), ('number', 1306), ('helps', 1300), ('could', 1284), ('then', 1277), ('them', 1248), ('specific', 1235), ('important', 1214), ('new', 1210), ('different', 1206), ('time', 1202), ('question', 1168), ('provided', 1159), ('{', 1142), ('}', 1137), ('out', 1129), ('find', 1110), ('when', 1107), ('ai', 1095), (\"'d\", 1089), (\"'\", 1087), ('given', 1048), ('further', 1026), ('where', 1021), ('through', 1007), ('two', 1001), (\"n't\", 1000), ('my', 998), ('sentence', 976), ('language', 964), (';', 944), ('way', 939), ('following', 936), ('function', 931), ('between', 931), ('note', 929), ('list', 905), ('+', 904), ('additionally', 894), ('most', 892), ('6', 882), ('both', 878), ('up', 874), ('helpful', 856), ('now', 853), ('only', 853), ('best', 836), ('should', 823), ('include', 822), ('#', 809), ('understand', 807), ('ask', 806), ('word', 805), ('>', 802), ('ensure', 797), ('was', 796), ('hello', 794), ('feel', 780), ('accurate', 779), ('than', 772), ('including', 766), ('positive', 761), ('words', 754), ('who', 747), ('table', 746), ('must', 736), ('does', 735), ('else', 729), ('over', 729), ('what', 725), ('free', 718), ('world', 717), ('7', 715), ('assistant', 715), ('<', 714), ('10', 704), ('values', 703), ('want', 698), ('without', 697), ('being', 694), ('get', 690), ('potential', 688), ('point', 687), ('many', 687), ('return', 677), ('unique', 677), ('three', 675), ('impact', 673), ('calculate', 673), ('possible', 673), ('order', 672), ('name', 668), ('0', 666), ('making', 666), ('add', 665), ('identify', 664), ('various', 661), (\"'ll\", 660), ('case', 658), ('overall', 657), ('remember', 650), ('process', 641), ('output', 632), ('take', 630), ('been', 630), ('our', 628), ('therefore', 628), ('work', 622), ('learning', 620), ('might', 618), ('value', 616), ('%', 613), ('print', 613), ('answer', 612), ('set', 609), ('assist', 604), ('result', 601), ('numbers', 601), ('complex', 600), ('just', 599), ('8', 598), ('range', 593), (\"'re\", 589), ('experience', 589), ('finally', 588), ('python', 579), ('text', 575), ('model', 574), ('before', 565), ('life', 564), ('people', 562), ('anything', 554), ('$', 552), ('user', 550), ('consider', 550), ('content', 550), ('even', 546), ('approach', 542), ('well', 541), ('factors', 538), ('type', 534), ('great', 530), ('formula', 527), ('providing', 525), ('always', 525), ('context', 521), ('same', 516), ('better', 508), ('significant', 507), ('course', 505), ('often', 504), ('uses', 503), ('system', 503), ('sense', 503), ('creating', 502), ('instead', 502), ('key', 502), ('natural', 499), ('respectful', 496), ('analysis', 494), ('no', 493), ('/', 492), ('keep', 490), ('understanding', 489), ('input', 487), ('known', 484), ('safe', 483), ('string', 480), ('total', 478), ('environment', 477), ('suggest', 472), ('next', 468), ('means', 467), ('once', 462), ('determine', 460), ('essential', 460), ('simple', 459), ('c', 459), ('generate', 457), ('contains', 456), ('certainly', 455), ('us', 455), ('thank', 455), ('good', 455), ('improve', 454), ('form', 453), ('after', 450), ('needs', 450), ('together', 447), ('large', 445), ('appropriate', 444), ('additional', 444), ('found', 442), ('elements', 438), ('b', 435), ('x', 435), ('format', 430), ('made', 428), ('correct', 427), ('change', 426), ('support', 426), ('those', 424), ('provides', 423), ('features', 423), ('analyze', 423), ('personal', 423), ('within', 422), ('development', 420), ('see', 419), ('another', 418), ('ability', 417), ('social', 417), ('around', 417), ('engaging', 416), ('task', 413), ('users', 413), ('access', 411), ('energy', 411), ('few', 410), ('common', 410), ('second', 409), ('9', 409), ('during', 407), ('start', 405), ('because', 405), ('takes', 401), ('ensuring', 401), ('reduce', 400), ('resources', 399), ('available', 399), ('results', 398), ('offer', 396), ('method', 394), ('water', 390), ('due', 387), ('individuals', 385), ('high', 385), ('|', 384), ('nature', 379), (\"'ve\", 379), ('health', 378), ('main', 377), ('import', 377), ('others', 376), ('ways', 376), ('several', 375), ('down', 375), ('solve', 374), ('store', 374), ('focus', 372), ('array', 371), ('day', 370), ('phrase', 370), ('small', 369), ('am', 369), ('own', 368), ('--', 367), ('select', 367), ('technology', 367), ('includes', 366), ('end', 363), ('machine', 363), ('check', 359), ('human', 357), ('current', 356), ('looking', 356), ('statement', 354), ('lead', 354), ('able', 352), ('research', 351), ('concerns', 351), ('response', 349), ('terms', 349), ('changes', 347), ('problem', 347), ('certain', 346), ('patterns', 345), ('product', 344), ('idea', 344), ('look', 343), ('called', 343), ('place', 343), ('steps', 342), ('future', 341), ('person', 341), ('file', 340), ('follows', 338), ('variety', 338), ('depending', 336), ('techniques', 334), ('individual', 333), ('were', 333), ('conditions', 331), ('importance', 331), ('light', 329), ('something', 329), ('sources', 326), ('related', 325), ('power', 325), ('allows', 322), ('processing', 322), ('efficient', 322), ('his', 322), ('def', 321), ('returns', 320), ('share', 320), ('every', 320), ('increase', 320), ('since', 320), ('types', 319), ('level', 319), ('structure', 319), ('title', 318), ('he', 318), ('systems', 317), ('learn', 317), ('true', 317), ('follow', 316), ('five', 315), ('necessary', 315), ('responses', 315), ('action', 314), ('program', 313), ('multiple', 313), ('give', 313), ('part', 312), ('relevant', 311), ('//', 310), ('performance', 310), ('require', 309), ('typically', 308), ('sum', 307), ('solution', 307), ('mind', 304), ('online', 304), ('query', 304), ('replace', 303), ('states', 303), ('knowledge', 303), ('body', 301), ('above', 301), ('crucial', 300), ('amount', 299), ('design', 299), ('negative', 297), ('manner', 297), ('responsible', 297), ('times', 297), ('general', 296), ('years', 295), ('color', 295), ('achieve', 294), ('food', 293), ('role', 293), ('combination', 293), ('hand', 292), ('group', 291), ('source', 291), ('insights', 291), ('still', 290), ('examples', 290), ('challenges', 289), ('explore', 289), ('quality', 289), ('run', 288), ('programming', 288), ('r', 287), ('ethical', 287), ('long', 286), ('harmful', 286), ('yes', 285), ('physical', 284), ('requirements', 284), ('snippet', 283), ('company', 282), ('algorithms', 281), ('100', 281), ('modify', 280), ('past', 279), ('length', 279), ('last', 279), ('field', 279), ('options', 278), ('allow', 277), ('effective', 277), ('message', 276), ('describe', 276), ('choose', 275), ('area', 273), ('size', 273), ('tasks', 273), ('letters', 272), ('per', 272), ('requires', 272), ('object', 272), ('display', 271), ('try', 271), ('growth', 271), ('develop', 271)]\n"
     ]
    }
   ],
   "source": [
    "from collections import Counter\n",
    "\n",
    "# code to figure out what to use for the bow features\n",
    "table = dataset['toks_j']\n",
    "\n",
    "ls = [set([item.lower() for item in row]) for row in table]\n",
    "# Step 1: Lowercase all strings and flatten the list\n",
    "flattened_list = [item.lower() for row in ls for item in row]\n",
    "\n",
    "# Step 2: Count unique occurrences\n",
    "unique_counts = Counter(flattened_list)\n",
    "\n",
    "# Step 3: Sort and select top N\n",
    "top_n = 500  # Change this to get the desired number of top items\n",
    "top_n_items = unique_counts.most_common(top_n)\n",
    "\n",
    "# more bow words to use\n",
    "['additionally', 'important', 'include', 'finally', 'following', 'happy', 'code', 'two', 'create', 'question', 'possible', 'understand', 'generate', 'contains', \n",
    "'appropriate', 'best', 'respectful', 'ensure', 'experience', 'safe']\n",
    "print(top_n_items)"
   ]
  },
  {
   "cell_type": "code",
   "execution_count": 135,
   "id": "e68d5790-eb54-4215-9750-de83f20515de",
   "metadata": {},
   "outputs": [],
   "source": [
    "bow_words = [\n",
    "    # content\n",
    "    'data', 'hope', 'information', 'provide', 'example', 'your', 'however', 'first', 'have', 'help'\n",
    "]"
   ]
  },
  {
   "cell_type": "code",
   "execution_count": null,
   "id": "c59539db-0b15-4997-b16d-df2a6d550a51",
   "metadata": {},
   "outputs": [],
   "source": [
    "dataset['toks_j'][0]"
   ]
  },
  {
   "cell_type": "code",
   "execution_count": 124,
   "id": "924058b3-35ce-4c80-93db-cf347b599d00",
   "metadata": {},
   "outputs": [],
   "source": [
    "df = pd.DataFrame(dataset)"
   ]
  },
  {
   "cell_type": "code",
   "execution_count": 65,
   "id": "f77e8b88-c41c-4c53-8a4a-04532866d57f",
   "metadata": {},
   "outputs": [
    {
     "data": {
      "text/plain": [
       "(array([305., 294., 277., 288., 265., 259., 260., 213., 239., 211.]),\n",
       " array([0.        , 0.00999387, 0.01998773, 0.0299816 , 0.03997547,\n",
       "        0.04996934, 0.0599632 , 0.06995707, 0.07995094, 0.08994481,\n",
       "        0.09993867]),\n",
       " <BarContainer object of 10 artists>)"
      ]
     },
     "execution_count": 65,
     "metadata": {},
     "output_type": "execute_result"
    },
    {
     "data": {
      "image/png": "[encoded data removed]",
      "text/plain": [
       "<Figure size 640x480 with 1 Axes>"
      ]
     },
     "metadata": {},
     "output_type": "display_data"
    }
   ],
   "source": [
    "plt.hist(df[df['magnitude']<.1]['magnitude'])"
   ]
  },
  {
   "cell_type": "code",
   "execution_count": 61,
   "id": "f53f689e-e8c3-41d7-872e-074288476c86",
   "metadata": {},
   "outputs": [
    {
     "data": {
      "text/plain": [
       "(array([6.058e+03, 1.190e+02, 3.000e+00, 0.000e+00, 0.000e+00, 5.090e+02,\n",
       "        2.610e+02, 3.200e+01, 1.500e+01, 3.000e+00]),\n",
       " array([0.        , 0.73333333, 1.46666667, 2.2       , 2.93333333,\n",
       "        3.66666667, 4.4       , 5.13333333, 5.86666667, 6.6       ,\n",
       "        7.33333333]),\n",
       " <BarContainer object of 10 artists>)"
      ]
     },
     "execution_count": 61,
     "metadata": {},
     "output_type": "execute_result"
    },
    {
     "data": {
      "image/png": "[encoded data removed]",
      "text/plain": [
       "<Figure size 640x480 with 1 Axes>"
      ]
     },
     "metadata": {},
     "output_type": "display_data"
    }
   ],
   "source": [
    "plt.hist(df['score_j'] - df['score_k'])"
   ]
  },
  {
   "cell_type": "code",
   "execution_count": 25,
   "id": "708f17ce-41f3-49f0-aa7b-ecce937016f6",
   "metadata": {},
   "outputs": [
    {
     "data": {
      "text/html": [
       "<div>\n",
       "<style scoped>\n",
       "    .dataframe tbody tr th:only-of-type {\n",
       "        vertical-align: middle;\n",
       "    }\n",
       "\n",
       "    .dataframe tbody tr th {\n",
       "        vertical-align: top;\n",
       "    }\n",
       "\n",
       "    .dataframe thead th {\n",
       "        text-align: right;\n",
       "    }\n",
       "</style>\n",
       "<table border=\"1\" class=\"dataframe\">\n",
       "  <thead>\n",
       "    <tr style=\"text-align: right;\">\n",
       "      <th></th>\n",
       "      <th>question</th>\n",
       "      <th>source</th>\n",
       "      <th>modj</th>\n",
       "      <th>modk</th>\n",
       "      <th>tokj</th>\n",
       "      <th>tok</th>\n",
       "      <th>response_j</th>\n",
       "      <th>response_k</th>\n",
       "      <th>magnitude</th>\n",
       "      <th>__index_level_0__</th>\n",
       "      <th>nouns_j</th>\n",
       "      <th>nouns_k</th>\n",
       "      <th>tokens_j</th>\n",
       "      <th>tokens_k</th>\n",
       "    </tr>\n",
       "  </thead>\n",
       "  <tbody>\n",
       "    <tr>\n",
       "      <th>0</th>\n",
       "      <td>Can you write a C++ program that prompts the u...</td>\n",
       "      <td>evol_instruct</td>\n",
       "      <td>pythia-12b</td>\n",
       "      <td>alpaca-7b</td>\n",
       "      <td>583</td>\n",
       "      <td>130</td>\n",
       "      <td>Here's a C++ program that prompts the user to ...</td>\n",
       "      <td>int main() {\\n    string country;\\n    // prom...</td>\n",
       "      <td>3.75</td>\n",
       "      <td>0</td>\n",
       "      <td>155</td>\n",
       "      <td>36</td>\n",
       "      <td>497</td>\n",
       "      <td>105</td>\n",
       "    </tr>\n",
       "    <tr>\n",
       "      <th>1</th>\n",
       "      <td>Can you write a C++ program that prompts the u...</td>\n",
       "      <td>evol_instruct</td>\n",
       "      <td>starchat</td>\n",
       "      <td>alpaca-7b</td>\n",
       "      <td>363</td>\n",
       "      <td>130</td>\n",
       "      <td>Sure! Here's a C++ program that prompts the us...</td>\n",
       "      <td>int main() {\\n    string country;\\n    // prom...</td>\n",
       "      <td>2.75</td>\n",
       "      <td>1</td>\n",
       "      <td>85</td>\n",
       "      <td>36</td>\n",
       "      <td>304</td>\n",
       "      <td>105</td>\n",
       "    </tr>\n",
       "    <tr>\n",
       "      <th>2</th>\n",
       "      <td>Can you write a C++ program that prompts the u...</td>\n",
       "      <td>evol_instruct</td>\n",
       "      <td>pythia-12b</td>\n",
       "      <td>starchat</td>\n",
       "      <td>583</td>\n",
       "      <td>363</td>\n",
       "      <td>Here's a C++ program that prompts the user to ...</td>\n",
       "      <td>Sure! Here's a C++ program that prompts the us...</td>\n",
       "      <td>1.00</td>\n",
       "      <td>3</td>\n",
       "      <td>155</td>\n",
       "      <td>85</td>\n",
       "      <td>497</td>\n",
       "      <td>304</td>\n",
       "    </tr>\n",
       "    <tr>\n",
       "      <th>3</th>\n",
       "      <td>Can you write a C++ program that prompts the u...</td>\n",
       "      <td>evol_instruct</td>\n",
       "      <td>pythia-12b</td>\n",
       "      <td>vicuna-33b</td>\n",
       "      <td>583</td>\n",
       "      <td>276</td>\n",
       "      <td>Here's a C++ program that prompts the user to ...</td>\n",
       "      <td>Sure, here is the program using the C++11 algo...</td>\n",
       "      <td>3.75</td>\n",
       "      <td>4</td>\n",
       "      <td>155</td>\n",
       "      <td>69</td>\n",
       "      <td>497</td>\n",
       "      <td>227</td>\n",
       "    </tr>\n",
       "    <tr>\n",
       "      <th>4</th>\n",
       "      <td>Can you write a C++ program that prompts the u...</td>\n",
       "      <td>evol_instruct</td>\n",
       "      <td>starchat</td>\n",
       "      <td>vicuna-33b</td>\n",
       "      <td>363</td>\n",
       "      <td>276</td>\n",
       "      <td>Sure! Here's a C++ program that prompts the us...</td>\n",
       "      <td>Sure, here is the program using the C++11 algo...</td>\n",
       "      <td>2.75</td>\n",
       "      <td>5</td>\n",
       "      <td>85</td>\n",
       "      <td>69</td>\n",
       "      <td>304</td>\n",
       "      <td>227</td>\n",
       "    </tr>\n",
       "    <tr>\n",
       "      <th>...</th>\n",
       "      <td>...</td>\n",
       "      <td>...</td>\n",
       "      <td>...</td>\n",
       "      <td>...</td>\n",
       "      <td>...</td>\n",
       "      <td>...</td>\n",
       "      <td>...</td>\n",
       "      <td>...</td>\n",
       "      <td>...</td>\n",
       "      <td>...</td>\n",
       "      <td>...</td>\n",
       "      <td>...</td>\n",
       "      <td>...</td>\n",
       "      <td>...</td>\n",
       "    </tr>\n",
       "    <tr>\n",
       "      <th>9995</th>\n",
       "      <td>Generate an example sentence using the followi...</td>\n",
       "      <td>evol_instruct</td>\n",
       "      <td>alpaca-7b</td>\n",
       "      <td>starchat</td>\n",
       "      <td>28</td>\n",
       "      <td>20</td>\n",
       "      <td>The young entrepreneur was furious at the lack...</td>\n",
       "      <td>Irritability fueled the furious venture of the...</td>\n",
       "      <td>1.00</td>\n",
       "      <td>11239</td>\n",
       "      <td>5</td>\n",
       "      <td>4</td>\n",
       "      <td>21</td>\n",
       "      <td>12</td>\n",
       "    </tr>\n",
       "    <tr>\n",
       "      <th>9996</th>\n",
       "      <td>Generate an example sentence using the followi...</td>\n",
       "      <td>evol_instruct</td>\n",
       "      <td>alpaca-7b</td>\n",
       "      <td>ultralm-13b</td>\n",
       "      <td>28</td>\n",
       "      <td>155</td>\n",
       "      <td>The young entrepreneur was furious at the lack...</td>\n",
       "      <td>One possible sentence using the given words is...</td>\n",
       "      <td>1.75</td>\n",
       "      <td>11240</td>\n",
       "      <td>5</td>\n",
       "      <td>26</td>\n",
       "      <td>21</td>\n",
       "      <td>135</td>\n",
       "    </tr>\n",
       "    <tr>\n",
       "      <th>9997</th>\n",
       "      <td>Generate an example sentence using the followi...</td>\n",
       "      <td>evol_instruct</td>\n",
       "      <td>bard</td>\n",
       "      <td>starchat</td>\n",
       "      <td>23</td>\n",
       "      <td>20</td>\n",
       "      <td>After the failure of his latest venture, the b...</td>\n",
       "      <td>Irritability fueled the furious venture of the...</td>\n",
       "      <td>1.00</td>\n",
       "      <td>11241</td>\n",
       "      <td>3</td>\n",
       "      <td>4</td>\n",
       "      <td>16</td>\n",
       "      <td>12</td>\n",
       "    </tr>\n",
       "    <tr>\n",
       "      <th>9998</th>\n",
       "      <td>Generate an example sentence using the followi...</td>\n",
       "      <td>evol_instruct</td>\n",
       "      <td>bard</td>\n",
       "      <td>ultralm-13b</td>\n",
       "      <td>23</td>\n",
       "      <td>155</td>\n",
       "      <td>After the failure of his latest venture, the b...</td>\n",
       "      <td>One possible sentence using the given words is...</td>\n",
       "      <td>1.75</td>\n",
       "      <td>11242</td>\n",
       "      <td>3</td>\n",
       "      <td>26</td>\n",
       "      <td>16</td>\n",
       "      <td>135</td>\n",
       "    </tr>\n",
       "    <tr>\n",
       "      <th>9999</th>\n",
       "      <td>Generate an example sentence using the followi...</td>\n",
       "      <td>evol_instruct</td>\n",
       "      <td>starchat</td>\n",
       "      <td>ultralm-13b</td>\n",
       "      <td>20</td>\n",
       "      <td>155</td>\n",
       "      <td>Irritability fueled the furious venture of the...</td>\n",
       "      <td>One possible sentence using the given words is...</td>\n",
       "      <td>0.75</td>\n",
       "      <td>11243</td>\n",
       "      <td>4</td>\n",
       "      <td>26</td>\n",
       "      <td>12</td>\n",
       "      <td>135</td>\n",
       "    </tr>\n",
       "  </tbody>\n",
       "</table>\n",
       "<p>10000 rows × 14 columns</p>\n",
       "</div>"
      ],
      "text/plain": [
       "                                               question  ... tokens_k\n",
       "0     Can you write a C++ program that prompts the u...  ...      105\n",
       "1     Can you write a C++ program that prompts the u...  ...      105\n",
       "2     Can you write a C++ program that prompts the u...  ...      304\n",
       "3     Can you write a C++ program that prompts the u...  ...      227\n",
       "4     Can you write a C++ program that prompts the u...  ...      227\n",
       "...                                                 ...  ...      ...\n",
       "9995  Generate an example sentence using the followi...  ...       12\n",
       "9996  Generate an example sentence using the followi...  ...      135\n",
       "9997  Generate an example sentence using the followi...  ...       12\n",
       "9998  Generate an example sentence using the followi...  ...      135\n",
       "9999  Generate an example sentence using the followi...  ...      135\n",
       "\n",
       "[10000 rows x 14 columns]"
      ]
     },
     "execution_count": 25,
     "metadata": {},
     "output_type": "execute_result"
    }
   ],
   "source": [
    "# joint scoring function\n",
    "df"
   ]
  },
  {
   "cell_type": "code",
   "execution_count": 28,
   "id": "ed5e8338-affe-4248-8c07-33b1d1af0451",
   "metadata": {},
   "outputs": [
    {
     "data": {
      "text/html": [
       "<div>\n",
       "<style scoped>\n",
       "    .dataframe tbody tr th:only-of-type {\n",
       "        vertical-align: middle;\n",
       "    }\n",
       "\n",
       "    .dataframe tbody tr th {\n",
       "        vertical-align: top;\n",
       "    }\n",
       "\n",
       "    .dataframe thead th {\n",
       "        text-align: right;\n",
       "    }\n",
       "</style>\n",
       "<table border=\"1\" class=\"dataframe\">\n",
       "  <thead>\n",
       "    <tr style=\"text-align: right;\">\n",
       "      <th></th>\n",
       "      <th>question</th>\n",
       "      <th>source</th>\n",
       "      <th>modj</th>\n",
       "      <th>modk</th>\n",
       "      <th>tokj</th>\n",
       "      <th>tok</th>\n",
       "      <th>response_j</th>\n",
       "      <th>response_k</th>\n",
       "      <th>magnitude</th>\n",
       "      <th>__index_level_0__</th>\n",
       "      <th>nouns_j</th>\n",
       "      <th>nouns_k</th>\n",
       "      <th>tokens_j</th>\n",
       "      <th>tokens_k</th>\n",
       "    </tr>\n",
       "  </thead>\n",
       "  <tbody>\n",
       "    <tr>\n",
       "      <th>21</th>\n",
       "      <td>How can I convert the decimal number 31 to bin...</td>\n",
       "      <td>evol_instruct</td>\n",
       "      <td>vicuna-33b</td>\n",
       "      <td>wizardlm-13b</td>\n",
       "      <td>241</td>\n",
       "      <td>244</td>\n",
       "      <td>Certainly! You can use the following JavaScrip...</td>\n",
       "      <td>Sure, I'd be happy to help with that! \\n\\nIn J...</td>\n",
       "      <td>2.500000</td>\n",
       "      <td>23</td>\n",
       "      <td>47</td>\n",
       "      <td>33</td>\n",
       "      <td>175</td>\n",
       "      <td>191</td>\n",
       "    </tr>\n",
       "    <tr>\n",
       "      <th>47</th>\n",
       "      <td>How can we enhance the robotic arm's capabilit...</td>\n",
       "      <td>evol_instruct</td>\n",
       "      <td>mpt-30b-chat</td>\n",
       "      <td>starchat</td>\n",
       "      <td>267</td>\n",
       "      <td>284</td>\n",
       "      <td>To enhance the robotic arm's capabilities for ...</td>\n",
       "      <td>Enhancing the capabilities of a robotic arm fo...</td>\n",
       "      <td>0.500000</td>\n",
       "      <td>51</td>\n",
       "      <td>78</td>\n",
       "      <td>76</td>\n",
       "      <td>229</td>\n",
       "      <td>239</td>\n",
       "    </tr>\n",
       "    <tr>\n",
       "      <th>48</th>\n",
       "      <td>How can we enhance the robotic arm's capabilit...</td>\n",
       "      <td>evol_instruct</td>\n",
       "      <td>mpt-30b-chat</td>\n",
       "      <td>ultralm-65b</td>\n",
       "      <td>267</td>\n",
       "      <td>287</td>\n",
       "      <td>To enhance the robotic arm's capabilities for ...</td>\n",
       "      <td>Yes, it is possible to enhance the capabilitie...</td>\n",
       "      <td>0.500000</td>\n",
       "      <td>52</td>\n",
       "      <td>78</td>\n",
       "      <td>74</td>\n",
       "      <td>229</td>\n",
       "      <td>242</td>\n",
       "    </tr>\n",
       "    <tr>\n",
       "      <th>67</th>\n",
       "      <td>Please provide the result of dividing 14 by 6 ...</td>\n",
       "      <td>evol_instruct</td>\n",
       "      <td>mpt-30b-chat</td>\n",
       "      <td>vicuna-33b</td>\n",
       "      <td>473</td>\n",
       "      <td>433</td>\n",
       "      <td>The result of dividing 14 by 6 using long divi...</td>\n",
       "      <td>To perform long division and express the quoti...</td>\n",
       "      <td>1.250000</td>\n",
       "      <td>77</td>\n",
       "      <td>66</td>\n",
       "      <td>68</td>\n",
       "      <td>320</td>\n",
       "      <td>304</td>\n",
       "    </tr>\n",
       "    <tr>\n",
       "      <th>86</th>\n",
       "      <td>Provide a concise declaration based on the exi...</td>\n",
       "      <td>evol_instruct</td>\n",
       "      <td>gpt-3.5-turbo</td>\n",
       "      <td>wizardlm-7b</td>\n",
       "      <td>38</td>\n",
       "      <td>22</td>\n",
       "      <td>Based on the latest available polls, Joe Biden...</td>\n",
       "      <td>Joe Biden is the leading candidate for victory...</td>\n",
       "      <td>0.500000</td>\n",
       "      <td>98</td>\n",
       "      <td>7</td>\n",
       "      <td>7</td>\n",
       "      <td>30</td>\n",
       "      <td>18</td>\n",
       "    </tr>\n",
       "    <tr>\n",
       "      <th>...</th>\n",
       "      <td>...</td>\n",
       "      <td>...</td>\n",
       "      <td>...</td>\n",
       "      <td>...</td>\n",
       "      <td>...</td>\n",
       "      <td>...</td>\n",
       "      <td>...</td>\n",
       "      <td>...</td>\n",
       "      <td>...</td>\n",
       "      <td>...</td>\n",
       "      <td>...</td>\n",
       "      <td>...</td>\n",
       "      <td>...</td>\n",
       "      <td>...</td>\n",
       "    </tr>\n",
       "    <tr>\n",
       "      <th>99971</th>\n",
       "      <td>Q: In this task, you're given the beginning an...</td>\n",
       "      <td>flan_v2_niv2</td>\n",
       "      <td>gpt-4</td>\n",
       "      <td>mpt-30b-chat</td>\n",
       "      <td>12</td>\n",
       "      <td>12</td>\n",
       "      <td>Maria quickly performed CPR on a choking baby.</td>\n",
       "      <td>In the middle: Maria rushed to the house.</td>\n",
       "      <td>1.666667</td>\n",
       "      <td>112305</td>\n",
       "      <td>4</td>\n",
       "      <td>3</td>\n",
       "      <td>9</td>\n",
       "      <td>10</td>\n",
       "    </tr>\n",
       "    <tr>\n",
       "      <th>99978</th>\n",
       "      <td>TASK DEFINITION: In this task, you're given th...</td>\n",
       "      <td>flan_v2_niv2</td>\n",
       "      <td>vicuna-33b</td>\n",
       "      <td>starchat</td>\n",
       "      <td>15</td>\n",
       "      <td>15</td>\n",
       "      <td>Sean, a childhood friend, had come back into t...</td>\n",
       "      <td>Sean came over, and I was really pleased to se...</td>\n",
       "      <td>1.250000</td>\n",
       "      <td>112312</td>\n",
       "      <td>4</td>\n",
       "      <td>0</td>\n",
       "      <td>12</td>\n",
       "      <td>13</td>\n",
       "    </tr>\n",
       "    <tr>\n",
       "      <th>99979</th>\n",
       "      <td>TASK DEFINITION: In this task, you're given th...</td>\n",
       "      <td>flan_v2_niv2</td>\n",
       "      <td>ultralm-65b</td>\n",
       "      <td>vicuna-33b</td>\n",
       "      <td>18</td>\n",
       "      <td>15</td>\n",
       "      <td>Sean brought me a surprise.\\n\\nThe confidence ...</td>\n",
       "      <td>Sean, a childhood friend, had come back into t...</td>\n",
       "      <td>0.500000</td>\n",
       "      <td>112313</td>\n",
       "      <td>4</td>\n",
       "      <td>4</td>\n",
       "      <td>13</td>\n",
       "      <td>12</td>\n",
       "    </tr>\n",
       "    <tr>\n",
       "      <th>99985</th>\n",
       "      <td>TASK DEFINITION: In this task you will be give...</td>\n",
       "      <td>flan_v2_niv2</td>\n",
       "      <td>alpaca-7b</td>\n",
       "      <td>falcon-40b-instruct</td>\n",
       "      <td>156</td>\n",
       "      <td>192</td>\n",
       "      <td>[[74, -27, 72, 80, -75, 44, 74, 94], [-14, 71,...</td>\n",
       "      <td>`{\"result\": [-88, -269, 64, 46, -222, 221, -46...</td>\n",
       "      <td>0.500000</td>\n",
       "      <td>112320</td>\n",
       "      <td>32</td>\n",
       "      <td>19</td>\n",
       "      <td>91</td>\n",
       "      <td>97</td>\n",
       "    </tr>\n",
       "    <tr>\n",
       "      <th>99996</th>\n",
       "      <td>In this task you will be given a list, of list...</td>\n",
       "      <td>flan_v2_niv2</td>\n",
       "      <td>llama-2-70b-chat</td>\n",
       "      <td>llama-2-7b-chat</td>\n",
       "      <td>224</td>\n",
       "      <td>280</td>\n",
       "      <td>Sure, I can help you with that! The sum of the...</td>\n",
       "      <td>I'm glad you're here to learn and explore! How...</td>\n",
       "      <td>1.500000</td>\n",
       "      <td>112332</td>\n",
       "      <td>47</td>\n",
       "      <td>36</td>\n",
       "      <td>127</td>\n",
       "      <td>230</td>\n",
       "    </tr>\n",
       "  </tbody>\n",
       "</table>\n",
       "<p>8846 rows × 14 columns</p>\n",
       "</div>"
      ],
      "text/plain": [
       "                                                question  ... tokens_k\n",
       "21     How can I convert the decimal number 31 to bin...  ...      191\n",
       "47     How can we enhance the robotic arm's capabilit...  ...      239\n",
       "48     How can we enhance the robotic arm's capabilit...  ...      242\n",
       "67     Please provide the result of dividing 14 by 6 ...  ...      304\n",
       "86     Provide a concise declaration based on the exi...  ...       18\n",
       "...                                                  ...  ...      ...\n",
       "99971  Q: In this task, you're given the beginning an...  ...       10\n",
       "99978  TASK DEFINITION: In this task, you're given th...  ...       13\n",
       "99979  TASK DEFINITION: In this task, you're given th...  ...       12\n",
       "99985  TASK DEFINITION: In this task you will be give...  ...       97\n",
       "99996  In this task you will be given a list, of list...  ...      230\n",
       "\n",
       "[8846 rows x 14 columns]"
      ]
     },
     "execution_count": 28,
     "metadata": {},
     "output_type": "execute_result"
    }
   ],
   "source": [
    "df[(df['nouns_j']>df['nouns_k'])==(df['tokens_k']>df['tokens_j'])]"
   ]
  },
  {
   "cell_type": "code",
   "execution_count": null,
   "id": "9fd5a8a4-ccae-4a92-835b-93f71bb27ec4",
   "metadata": {},
   "outputs": [],
   "source": []
  }
 ],
 "metadata": {
  "kernelspec": {
   "display_name": "Python 3 (ipykernel)",
   "language": "python",
   "name": "python3"
  },
  "language_info": {
   "codemirror_mode": {
    "name": "ipython",
    "version": 3
   },
   "file_extension": ".py",
   "mimetype": "text/x-python",
   "name": "python",
   "nbconvert_exporter": "python",
   "pygments_lexer": "ipython3",
   "version": "3.10.0"
  }
 },
 "nbformat": 4,
 "nbformat_minor": 5
}
