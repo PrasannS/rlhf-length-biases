{
 "cells": [
  {
   "cell_type": "code",
   "execution_count": 23,
   "id": "c7e8f4e2-faf7-4847-84ad-5908f09f4e9c",
   "metadata": {},
   "outputs": [],
   "source": [
    "from datasets import load_dataset\n",
    "import pandas as pd\n",
    "from transformers import AutoTokenizer\n",
    "from tqdm import tqdm\n",
    "from statistics import mean\n",
    "from scipy.stats import spearmanr\n",
    "import matplotlib.pyplot as plt\n",
    "from rlhfutils.dproc_utils import process_df_ultra, procmean, create_pairwise_dataframe\n",
    "from datasets import Dataset"
   ]
  },
  {
   "cell_type": "code",
   "execution_count": 2,
   "id": "bd634967-3d67-4fab-a168-8b9bcdc740b0",
   "metadata": {},
   "outputs": [],
   "source": [
    "%load_ext autoreload\n",
    "%autoreload 2"
   ]
  },
  {
   "cell_type": "code",
   "execution_count": 3,
   "id": "4090bca0-4ae4-4680-ab4b-cbd0c9b28116",
   "metadata": {
    "scrolled": true
   },
   "outputs": [
    {
     "name": "stderr",
     "output_type": "stream",
     "text": [
      "Found cached dataset json (/u/prasanns/.cache/huggingface/datasets/openbmb___json/openbmb--UltraFeedback-8d3a36e039200bd1/0.0.0/8bb11242116d547c741b2e8a1f18598ffdd40a1d4f2a2872c7a28b697434bc96)\n",
      "100%|████████████████████████████████████████████████████████████████████████████████████████████████████████████████████████████████████████████████████| 1/1 [00:00<00:00, 122.86it/s]\n"
     ]
    }
   ],
   "source": [
    "data = load_dataset(\"openbmb/UltraFeedback\")"
   ]
  },
  {
   "cell_type": "code",
   "execution_count": 4,
   "id": "87357856-bb91-47fd-b486-9812ce6eea7f",
   "metadata": {},
   "outputs": [],
   "source": [
    "toker = AutoTokenizer.from_pretrained(\"../models/sft10k\") # HACK update path on restart\n",
    "# process dataframe to give appropriate length information that can be used to get basic length stats\n",
    "asp_dict = {\n",
    "    'hf': 'helpfulness',\n",
    "    'hn': 'honesty', \n",
    "    'tn': 'truthfulness', \n",
    "    'ifg':'instruction_following'\n",
    "}\n",
    "tqdm.pandas()\n",
    "# convert dataset into pairwise preference dataset (assume mns is populated)"
   ]
  },
  {
   "cell_type": "code",
   "execution_count": 5,
   "id": "77a8deeb-585a-4e4c-a57b-8111194eda9b",
   "metadata": {},
   "outputs": [],
   "source": [
    "df = pd.DataFrame(data['train'])"
   ]
  },
  {
   "cell_type": "code",
   "execution_count": null,
   "id": "04b7f877-cc14-4a90-8c5a-f157e5614471",
   "metadata": {},
   "outputs": [],
   "source": [
    "# only run once since it takes a while\n",
    "process_df_ultra(df, toker)"
   ]
  },
  {
   "cell_type": "code",
   "execution_count": 10,
   "id": "6ddc0e7c-e499-4442-aa1c-3bfad615d2fb",
   "metadata": {},
   "outputs": [
    {
     "name": "stdout",
     "output_type": "stream",
     "text": [
      "off\n"
     ]
    }
   ],
   "source": [
    "# aggregate scores across different types\n",
    "procmean(df)\n",
    "# drop one thing where score gets weird\n",
    "df = df[df['mn']!=-1].reset_index(drop=True)"
   ]
  },
  {
   "cell_type": "code",
   "execution_count": 20,
   "id": "3cd70c17-81ca-4f0b-9a93-e49a10ebd196",
   "metadata": {},
   "outputs": [],
   "source": [
    "pairdf = create_pairwise_dataframe(df)"
   ]
  },
  {
   "cell_type": "code",
   "execution_count": 24,
   "id": "39193bc8-a0ee-48a3-8d8f-d9a1d370f4c9",
   "metadata": {},
   "outputs": [],
   "source": [
    "pairdset = Dataset.from_pandas(pairdf)"
   ]
  },
  {
   "cell_type": "code",
   "execution_count": 26,
   "id": "565b50ab-f2a4-4f8f-8219-39c5a4b0cdea",
   "metadata": {},
   "outputs": [
    {
     "name": "stderr",
     "output_type": "stream",
     "text": [
      "                                                                                                                                                                                        \r"
     ]
    }
   ],
   "source": [
    "pairdset.save_to_disk(\"../data/ultrafeedall\")"
   ]
  },
  {
   "cell_type": "code",
   "execution_count": 33,
   "id": "a57550f5-a7ef-4c00-b5dd-edbdc74991ea",
   "metadata": {},
   "outputs": [
    {
     "name": "stderr",
     "output_type": "stream",
     "text": [
      "                                                                                                                                                                                        \r"
     ]
    }
   ],
   "source": [
    "Dataset.from_pandas(pairdf[pairdf.magnitude>0]).save_to_disk(\"../data/ultrafeeddiff\")"
   ]
  },
  {
   "cell_type": "code",
   "execution_count": 22,
   "id": "a94b1557-cc7f-4d76-ab7c-69a164be7e8f",
   "metadata": {},
   "outputs": [
    {
     "data": {
      "text/plain": [
       "(array([108529.,  91598.,  32763.,  46584.,  19470.,  30719.,  23674.,\n",
       "         10390.,  13380.,   6689.]),\n",
       " array([0. , 0.4, 0.8, 1.2, 1.6, 2. , 2.4, 2.8, 3.2, 3.6, 4. ]),\n",
       " <BarContainer object of 10 artists>)"
      ]
     },
     "execution_count": 22,
     "metadata": {},
     "output_type": "execute_result"
    },
    {
     "data": {
      "image/png": "[encoded data removed]",
      "text/plain": [
       "<Figure size 640x480 with 1 Axes>"
      ]
     },
     "metadata": {},
     "output_type": "display_data"
    }
   ],
   "source": [
    "plt.hist(pairdf.magnitude)"
   ]
  },
  {
   "cell_type": "code",
   "execution_count": 16,
   "id": "0486b264-55a9-4266-9bde-d7ecd48cef0e",
   "metadata": {},
   "outputs": [
    {
     "ename": "KeyError",
     "evalue": "'scores'",
     "output_type": "error",
     "traceback": [
      "\u001b[0;31m---------------------------------------------------------------------------\u001b[0m",
      "\u001b[0;31mKeyError\u001b[0m                                  Traceback (most recent call last)",
      "File \u001b[0;32m~/miniconda3/envs/rlhfenv/lib/python3.10/site-packages/pandas/core/indexes/base.py:3653\u001b[0m, in \u001b[0;36mIndex.get_loc\u001b[0;34m(self, key)\u001b[0m\n\u001b[1;32m   3652\u001b[0m \u001b[38;5;28;01mtry\u001b[39;00m:\n\u001b[0;32m-> 3653\u001b[0m     \u001b[38;5;28;01mreturn\u001b[39;00m \u001b[38;5;28;43mself\u001b[39;49m\u001b[38;5;241;43m.\u001b[39;49m\u001b[43m_engine\u001b[49m\u001b[38;5;241;43m.\u001b[39;49m\u001b[43mget_loc\u001b[49m\u001b[43m(\u001b[49m\u001b[43mcasted_key\u001b[49m\u001b[43m)\u001b[49m\n\u001b[1;32m   3654\u001b[0m \u001b[38;5;28;01mexcept\u001b[39;00m \u001b[38;5;167;01mKeyError\u001b[39;00m \u001b[38;5;28;01mas\u001b[39;00m err:\n",
      "File \u001b[0;32m~/miniconda3/envs/rlhfenv/lib/python3.10/site-packages/pandas/_libs/index.pyx:147\u001b[0m, in \u001b[0;36mpandas._libs.index.IndexEngine.get_loc\u001b[0;34m()\u001b[0m\n",
      "File \u001b[0;32m~/miniconda3/envs/rlhfenv/lib/python3.10/site-packages/pandas/_libs/index.pyx:176\u001b[0m, in \u001b[0;36mpandas._libs.index.IndexEngine.get_loc\u001b[0;34m()\u001b[0m\n",
      "File \u001b[0;32mpandas/_libs/hashtable_class_helper.pxi:7080\u001b[0m, in \u001b[0;36mpandas._libs.hashtable.PyObjectHashTable.get_item\u001b[0;34m()\u001b[0m\n",
      "File \u001b[0;32mpandas/_libs/hashtable_class_helper.pxi:7088\u001b[0m, in \u001b[0;36mpandas._libs.hashtable.PyObjectHashTable.get_item\u001b[0;34m()\u001b[0m\n",
      "\u001b[0;31mKeyError\u001b[0m: 'scores'",
      "\nThe above exception was the direct cause of the following exception:\n",
      "\u001b[0;31mKeyError\u001b[0m                                  Traceback (most recent call last)",
      "Cell \u001b[0;32mIn[16], line 1\u001b[0m\n\u001b[0;32m----> 1\u001b[0m pairdset \u001b[38;5;241m=\u001b[39m \u001b[43mcreate_pairwise_dataframe\u001b[49m\u001b[43m(\u001b[49m\u001b[43mdf\u001b[49m\u001b[43m)\u001b[49m\n",
      "File \u001b[0;32m/scratch/cluster/prasanns/research/rlhf-length-biases/rlhfutils/rlhfutils/dproc_utils.py:82\u001b[0m, in \u001b[0;36mcreate_pairwise_dataframe\u001b[0;34m(df)\u001b[0m\n\u001b[1;32m     80\u001b[0m idk \u001b[38;5;241m=\u001b[39m idx2\n\u001b[1;32m     81\u001b[0m \u001b[38;5;66;03m# Determine response_j and response_k based on scores\u001b[39;00m\n\u001b[0;32m---> 82\u001b[0m \u001b[38;5;28;01mif\u001b[39;00m \u001b[43mrow\u001b[49m\u001b[43m[\u001b[49m\u001b[38;5;124;43m'\u001b[39;49m\u001b[38;5;124;43mscores\u001b[39;49m\u001b[38;5;124;43m'\u001b[39;49m\u001b[43m]\u001b[49m[idx1] \u001b[38;5;241m>\u001b[39m row[\u001b[38;5;124m'\u001b[39m\u001b[38;5;124mscores\u001b[39m\u001b[38;5;124m'\u001b[39m][idx2]:\n\u001b[1;32m     83\u001b[0m     response_j \u001b[38;5;241m=\u001b[39m row[\u001b[38;5;124m'\u001b[39m\u001b[38;5;124mresponses\u001b[39m\u001b[38;5;124m'\u001b[39m][idx1]\n\u001b[1;32m     84\u001b[0m     response_k \u001b[38;5;241m=\u001b[39m row[\u001b[38;5;124m'\u001b[39m\u001b[38;5;124mresponses\u001b[39m\u001b[38;5;124m'\u001b[39m][idx2]\n",
      "File \u001b[0;32m~/miniconda3/envs/rlhfenv/lib/python3.10/site-packages/pandas/core/series.py:1007\u001b[0m, in \u001b[0;36mSeries.__getitem__\u001b[0;34m(self, key)\u001b[0m\n\u001b[1;32m   1004\u001b[0m     \u001b[38;5;28;01mreturn\u001b[39;00m \u001b[38;5;28mself\u001b[39m\u001b[38;5;241m.\u001b[39m_values[key]\n\u001b[1;32m   1006\u001b[0m \u001b[38;5;28;01melif\u001b[39;00m key_is_scalar:\n\u001b[0;32m-> 1007\u001b[0m     \u001b[38;5;28;01mreturn\u001b[39;00m \u001b[38;5;28;43mself\u001b[39;49m\u001b[38;5;241;43m.\u001b[39;49m\u001b[43m_get_value\u001b[49m\u001b[43m(\u001b[49m\u001b[43mkey\u001b[49m\u001b[43m)\u001b[49m\n\u001b[1;32m   1009\u001b[0m \u001b[38;5;28;01mif\u001b[39;00m is_hashable(key):\n\u001b[1;32m   1010\u001b[0m     \u001b[38;5;66;03m# Otherwise index.get_value will raise InvalidIndexError\u001b[39;00m\n\u001b[1;32m   1011\u001b[0m     \u001b[38;5;28;01mtry\u001b[39;00m:\n\u001b[1;32m   1012\u001b[0m         \u001b[38;5;66;03m# For labels that don't resolve as scalars like tuples and frozensets\u001b[39;00m\n",
      "File \u001b[0;32m~/miniconda3/envs/rlhfenv/lib/python3.10/site-packages/pandas/core/series.py:1116\u001b[0m, in \u001b[0;36mSeries._get_value\u001b[0;34m(self, label, takeable)\u001b[0m\n\u001b[1;32m   1113\u001b[0m     \u001b[38;5;28;01mreturn\u001b[39;00m \u001b[38;5;28mself\u001b[39m\u001b[38;5;241m.\u001b[39m_values[label]\n\u001b[1;32m   1115\u001b[0m \u001b[38;5;66;03m# Similar to Index.get_value, but we do not fall back to positional\u001b[39;00m\n\u001b[0;32m-> 1116\u001b[0m loc \u001b[38;5;241m=\u001b[39m \u001b[38;5;28;43mself\u001b[39;49m\u001b[38;5;241;43m.\u001b[39;49m\u001b[43mindex\u001b[49m\u001b[38;5;241;43m.\u001b[39;49m\u001b[43mget_loc\u001b[49m\u001b[43m(\u001b[49m\u001b[43mlabel\u001b[49m\u001b[43m)\u001b[49m\n\u001b[1;32m   1118\u001b[0m \u001b[38;5;28;01mif\u001b[39;00m is_integer(loc):\n\u001b[1;32m   1119\u001b[0m     \u001b[38;5;28;01mreturn\u001b[39;00m \u001b[38;5;28mself\u001b[39m\u001b[38;5;241m.\u001b[39m_values[loc]\n",
      "File \u001b[0;32m~/miniconda3/envs/rlhfenv/lib/python3.10/site-packages/pandas/core/indexes/base.py:3655\u001b[0m, in \u001b[0;36mIndex.get_loc\u001b[0;34m(self, key)\u001b[0m\n\u001b[1;32m   3653\u001b[0m     \u001b[38;5;28;01mreturn\u001b[39;00m \u001b[38;5;28mself\u001b[39m\u001b[38;5;241m.\u001b[39m_engine\u001b[38;5;241m.\u001b[39mget_loc(casted_key)\n\u001b[1;32m   3654\u001b[0m \u001b[38;5;28;01mexcept\u001b[39;00m \u001b[38;5;167;01mKeyError\u001b[39;00m \u001b[38;5;28;01mas\u001b[39;00m err:\n\u001b[0;32m-> 3655\u001b[0m     \u001b[38;5;28;01mraise\u001b[39;00m \u001b[38;5;167;01mKeyError\u001b[39;00m(key) \u001b[38;5;28;01mfrom\u001b[39;00m \u001b[38;5;21;01merr\u001b[39;00m\n\u001b[1;32m   3656\u001b[0m \u001b[38;5;28;01mexcept\u001b[39;00m \u001b[38;5;167;01mTypeError\u001b[39;00m:\n\u001b[1;32m   3657\u001b[0m     \u001b[38;5;66;03m# If we have a listlike key, _check_indexing_error will raise\u001b[39;00m\n\u001b[1;32m   3658\u001b[0m     \u001b[38;5;66;03m#  InvalidIndexError. Otherwise we fall through and re-raise\u001b[39;00m\n\u001b[1;32m   3659\u001b[0m     \u001b[38;5;66;03m#  the TypeError.\u001b[39;00m\n\u001b[1;32m   3660\u001b[0m     \u001b[38;5;28mself\u001b[39m\u001b[38;5;241m.\u001b[39m_check_indexing_error(key)\n",
      "\u001b[0;31mKeyError\u001b[0m: 'scores'"
     ]
    }
   ],
   "source": [
    "pairdset = create_pairwise_dataframe(df)"
   ]
  },
  {
   "cell_type": "code",
   "execution_count": 16,
   "id": "f80b01d3-f9a7-4999-9d3e-f2c036daad2d",
   "metadata": {},
   "outputs": [
    {
     "data": {
      "text/plain": [
       "dict_keys(['annotations', 'custom_system_prompt', 'model', 'principle', 'response', 'critique', 'overall_score'])"
      ]
     },
     "execution_count": 16,
     "metadata": {},
     "output_type": "execute_result"
    }
   ],
   "source": [
    "df[df['source']=='evol_instruct']['completions'][0][3].keys()"
   ]
  },
  {
   "cell_type": "code",
   "execution_count": 17,
   "id": "95990860-44d0-4ba9-88ec-fa061aabe25a",
   "metadata": {},
   "outputs": [
    {
     "data": {
      "text/plain": [
       "{'instruction_following': {'Rating': '1',\n",
       "  'Rationale': 'The text only provides a modified version of the given starter code, but it does not provide a complete C++ program. The code does not check if the entered country borders the Mediterranean Sea, and the `endsWith` function is not defined.'},\n",
       " 'honesty': {'Rating': '1',\n",
       "  'Rationale': 'The response is confidently incorrect. The provided code is entirely wrong and does not check if the entered country borders the Mediterranean Sea. The `endsWith` function is not defined, and the logic for checking if a country borders the Mediterranean Sea is incorrect.'},\n",
       " 'truthfulness': {'Type': ['1', '3'],\n",
       "  'Rationale': 'The code checks if the country name ends with \"Mediterranean\", which is a factual error and a logical error.',\n",
       "  'Rating': '1',\n",
       "  'Rationale For Rating': 'The code is completely hallucinated, as it checks for an incorrect condition that does not relate to the actual task.'},\n",
       " 'helpfulness': {'Type': ['1', '3'],\n",
       "  'Rationale': 'The response is clear and not lengthy, but it lacks useful and comprehensive information.',\n",
       "  'Rating': '2',\n",
       "  'Rationale For Rating': 'The code is partially incorrect as it checks if the country name ends with \"Mediterranean\" instead of checking if it borders the Mediterranean Sea, which may cause confusion.'}}"
      ]
     },
     "execution_count": 17,
     "metadata": {},
     "output_type": "execute_result"
    }
   ],
   "source": [
    "df[df['source']=='evol_instruct']['completions'][0][0]['annotations']"
   ]
  },
  {
   "cell_type": "code",
   "execution_count": 18,
   "id": "c3a0a16d-f5e7-468f-804d-6c7d7eedbd57",
   "metadata": {},
   "outputs": [],
   "source": [
    "def lenacc(indf, asp):\n",
    "    correct_predictions = 0\n",
    "    total_pairs = 0\n",
    "    for index, row in df.iterrows():\n",
    "        lengths = row['tokens']\n",
    "        if len(lengths)!=4:\n",
    "            continue\n",
    "        hfs = row[asp]  \n",
    "        for i in range(4):\n",
    "            for j in range(i+1, 4):  # To ensure j > i\n",
    "                if (lengths[i] > lengths[j]) == (hfs[i] > hfs[j]):\n",
    "                    correct_predictions += 1\n",
    "                total_pairs += 1\n",
    "                \n",
    "    return correct_predictions / total_pairs\n",
    "        "
   ]
  },
  {
   "cell_type": "code",
   "execution_count": 85,
   "id": "a46b313c-fad0-4b85-9a42-c630309da5a9",
   "metadata": {},
   "outputs": [
    {
     "data": {
      "text/plain": [
       "{'evol_instruct',\n",
       " 'false_qa',\n",
       " 'flan_v2_cot',\n",
       " 'flan_v2_flan2021',\n",
       " 'flan_v2_niv2',\n",
       " 'flan_v2_p3',\n",
       " 'sharegpt',\n",
       " 'truthful_qa',\n",
       " 'ultrachat'}"
      ]
     },
     "execution_count": 85,
     "metadata": {},
     "output_type": "execute_result"
    }
   ],
   "source": [
    "set(df['source'])"
   ]
  },
  {
   "cell_type": "code",
   "execution_count": 35,
   "id": "70d6feb1-592b-49ad-9f10-f3946554a530",
   "metadata": {},
   "outputs": [
    {
     "data": {
      "text/html": [
       "<div>\n",
       "<style scoped>\n",
       "    .dataframe tbody tr th:only-of-type {\n",
       "        vertical-align: middle;\n",
       "    }\n",
       "\n",
       "    .dataframe tbody tr th {\n",
       "        vertical-align: top;\n",
       "    }\n",
       "\n",
       "    .dataframe thead th {\n",
       "        text-align: right;\n",
       "    }\n",
       "</style>\n",
       "<table border=\"1\" class=\"dataframe\">\n",
       "  <thead>\n",
       "    <tr style=\"text-align: right;\">\n",
       "      <th></th>\n",
       "      <th>source</th>\n",
       "      <th>instruction</th>\n",
       "      <th>models</th>\n",
       "      <th>completions</th>\n",
       "      <th>correct_answers</th>\n",
       "      <th>incorrect_answers</th>\n",
       "      <th>tokens</th>\n",
       "      <th>hf</th>\n",
       "      <th>hn</th>\n",
       "      <th>tn</th>\n",
       "      <th>ifg</th>\n",
       "      <th>mn</th>\n",
       "    </tr>\n",
       "  </thead>\n",
       "  <tbody>\n",
       "    <tr>\n",
       "      <th>0</th>\n",
       "      <td>evol_instruct</td>\n",
       "      <td>Can you write a C++ program that prompts the u...</td>\n",
       "      <td>[alpaca-7b, pythia-12b, starchat, vicuna-33b]</td>\n",
       "      <td>[{'annotations': {'instruction_following': {'R...</td>\n",
       "      <td>[None]</td>\n",
       "      <td>[None]</td>\n",
       "      <td>[130, 583, 363, 276]</td>\n",
       "      <td>[2, 5, 4, 1]</td>\n",
       "      <td>[1, 5, 4, 1]</td>\n",
       "      <td>[1, 5, 3, 1]</td>\n",
       "      <td>[1, 5, 5, 2]</td>\n",
       "      <td>[1.25, 5, 4, 1.25]</td>\n",
       "    </tr>\n",
       "    <tr>\n",
       "      <th>1</th>\n",
       "      <td>evol_instruct</td>\n",
       "      <td>Suppose you are a content creator and want to ...</td>\n",
       "      <td>[gpt-4, llama-2-13b-chat, starchat, ultralm-65b]</td>\n",
       "      <td>[{'annotations': {'instruction_following': {'R...</td>\n",
       "      <td>[None]</td>\n",
       "      <td>[None]</td>\n",
       "      <td>[863, 671, 375, 450]</td>\n",
       "      <td>[5, 5, 3, 4]</td>\n",
       "      <td>[5, 3, 4, 4]</td>\n",
       "      <td>[5, 5, 3, 5]</td>\n",
       "      <td>[4, 4, 3, 5]</td>\n",
       "      <td>[4.75, 4.25, 3.25, 4.5]</td>\n",
       "    </tr>\n",
       "    <tr>\n",
       "      <th>2</th>\n",
       "      <td>evol_instruct</td>\n",
       "      <td>Identify the interrelated economic, political,...</td>\n",
       "      <td>[mpt-30b-chat, ultralm-13b, vicuna-33b, wizard...</td>\n",
       "      <td>[{'annotations': {'instruction_following': {'R...</td>\n",
       "      <td>[None]</td>\n",
       "      <td>[None]</td>\n",
       "      <td>[777, 656, 985, 576]</td>\n",
       "      <td>[4, 4, 5, 4]</td>\n",
       "      <td>[4, 4, 4, 4]</td>\n",
       "      <td>[5, 5, 5, 5]</td>\n",
       "      <td>[4, 3, 4, 4]</td>\n",
       "      <td>[4.25, 4, 4.5, 4.25]</td>\n",
       "    </tr>\n",
       "    <tr>\n",
       "      <th>3</th>\n",
       "      <td>evol_instruct</td>\n",
       "      <td>How can I convert the decimal number 31 to bin...</td>\n",
       "      <td>[alpaca-7b, mpt-30b-chat, vicuna-33b, wizardlm...</td>\n",
       "      <td>[{'annotations': {'instruction_following': {'R...</td>\n",
       "      <td>[None]</td>\n",
       "      <td>[None]</td>\n",
       "      <td>[52, 175, 241, 244]</td>\n",
       "      <td>[4, 5, 3, 2]</td>\n",
       "      <td>[4, 5, 5, 2]</td>\n",
       "      <td>[3, 5, 5, 2]</td>\n",
       "      <td>[4, 5, 5, 2]</td>\n",
       "      <td>[3.75, 5, 4.5, 2]</td>\n",
       "    </tr>\n",
       "    <tr>\n",
       "      <th>4</th>\n",
       "      <td>evol_instruct</td>\n",
       "      <td>Can you modify the C++ code provided below to ...</td>\n",
       "      <td>[pythia-12b, llama-2-13b-chat, ultralm-13b, wi...</td>\n",
       "      <td>[{'annotations': {'instruction_following': {'R...</td>\n",
       "      <td>[None]</td>\n",
       "      <td>[None]</td>\n",
       "      <td>[921, 766, 1024, 592]</td>\n",
       "      <td>[2, 3, 2, 2]</td>\n",
       "      <td>[2, 4, 1, 1]</td>\n",
       "      <td>[3, 5, 3, 2]</td>\n",
       "      <td>[3, 4, 2, 2]</td>\n",
       "      <td>[2.5, 4, 2, 1.75]</td>\n",
       "    </tr>\n",
       "    <tr>\n",
       "      <th>...</th>\n",
       "      <td>...</td>\n",
       "      <td>...</td>\n",
       "      <td>...</td>\n",
       "      <td>...</td>\n",
       "      <td>...</td>\n",
       "      <td>...</td>\n",
       "      <td>...</td>\n",
       "      <td>...</td>\n",
       "      <td>...</td>\n",
       "      <td>...</td>\n",
       "      <td>...</td>\n",
       "      <td>...</td>\n",
       "    </tr>\n",
       "    <tr>\n",
       "      <th>63962</th>\n",
       "      <td>ultrachat</td>\n",
       "      <td>How does the versatility and user-friendliness...</td>\n",
       "      <td>[alpaca-7b, gpt-3.5-turbo, starchat, wizardlm-...</td>\n",
       "      <td>[{'annotations': {'instruction_following': {'R...</td>\n",
       "      <td>[None]</td>\n",
       "      <td>[None]</td>\n",
       "      <td>[118, 641, 551, 312]</td>\n",
       "      <td>[3, 5, 4, 4]</td>\n",
       "      <td>[4, 5, 4, 5]</td>\n",
       "      <td>[5, 5, 3, 5]</td>\n",
       "      <td>[4, 5, 5, 4]</td>\n",
       "      <td>[4, 5, 4, 4.5]</td>\n",
       "    </tr>\n",
       "    <tr>\n",
       "      <th>63963</th>\n",
       "      <td>ultrachat</td>\n",
       "      <td>Could you discuss any notable collaborations b...</td>\n",
       "      <td>[bard, falcon-40b-instruct, llama-2-7b-chat, s...</td>\n",
       "      <td>[{'annotations': {'instruction_following': {'R...</td>\n",
       "      <td>[None]</td>\n",
       "      <td>[None]</td>\n",
       "      <td>[488, 43, 386, 316]</td>\n",
       "      <td>[5, 2, 5, 4]</td>\n",
       "      <td>[1, 2, 5, 4]</td>\n",
       "      <td>[3, 3, 5, 5]</td>\n",
       "      <td>[5, 2, 5, 4]</td>\n",
       "      <td>[3.5, 2.25, 5, 4.25]</td>\n",
       "    </tr>\n",
       "    <tr>\n",
       "      <th>63964</th>\n",
       "      <td>ultrachat</td>\n",
       "      <td>Create a set of high-quality, visually compell...</td>\n",
       "      <td>[alpaca-7b, llama-2-70b-chat, ultralm-13b, wiz...</td>\n",
       "      <td>[{'annotations': {'instruction_following': {'R...</td>\n",
       "      <td>[None]</td>\n",
       "      <td>[None]</td>\n",
       "      <td>[115, 634, 401, 772]</td>\n",
       "      <td>[3, 4, 3, 4]</td>\n",
       "      <td>[2, 5, 4, 5]</td>\n",
       "      <td>[3, 5, 4, 5]</td>\n",
       "      <td>[5, 4, 3, 4]</td>\n",
       "      <td>[3.25, 4.5, 3.5, 4.5]</td>\n",
       "    </tr>\n",
       "    <tr>\n",
       "      <th>63965</th>\n",
       "      <td>ultrachat</td>\n",
       "      <td>Share a time when you felt most successful in ...</td>\n",
       "      <td>[gpt-3.5-turbo, llama-2-70b-chat, wizardlm-70b...</td>\n",
       "      <td>[{'annotations': {'instruction_following': {'R...</td>\n",
       "      <td>[None]</td>\n",
       "      <td>[None]</td>\n",
       "      <td>[61, 241, 81, 194]</td>\n",
       "      <td>[3, 5, 3, 4]</td>\n",
       "      <td>[3, 5, 3, 5]</td>\n",
       "      <td>[5, 3, 5, 3]</td>\n",
       "      <td>[2, 4, 2, 4]</td>\n",
       "      <td>[3.25, 4.25, 3.25, 4]</td>\n",
       "    </tr>\n",
       "    <tr>\n",
       "      <th>63966</th>\n",
       "      <td>ultrachat</td>\n",
       "      <td>What is the role of the International Atomic E...</td>\n",
       "      <td>[llama-2-13b-chat, ultralm-65b, wizardlm-70b, ...</td>\n",
       "      <td>[{'annotations': {'instruction_following': {'R...</td>\n",
       "      <td>[None]</td>\n",
       "      <td>[None]</td>\n",
       "      <td>[337, 171, 383, 231]</td>\n",
       "      <td>[4, 4, 5, 4]</td>\n",
       "      <td>[5, 4, 5, 5]</td>\n",
       "      <td>[5, 5, 5, 5]</td>\n",
       "      <td>[5, 4, 5, 5]</td>\n",
       "      <td>[4.75, 4.25, 5, 4.75]</td>\n",
       "    </tr>\n",
       "  </tbody>\n",
       "</table>\n",
       "<p>63967 rows × 12 columns</p>\n",
       "</div>"
      ],
      "text/plain": [
       "              source                                        instruction  \\\n",
       "0      evol_instruct  Can you write a C++ program that prompts the u...   \n",
       "1      evol_instruct  Suppose you are a content creator and want to ...   \n",
       "2      evol_instruct  Identify the interrelated economic, political,...   \n",
       "3      evol_instruct  How can I convert the decimal number 31 to bin...   \n",
       "4      evol_instruct  Can you modify the C++ code provided below to ...   \n",
       "...              ...                                                ...   \n",
       "63962      ultrachat  How does the versatility and user-friendliness...   \n",
       "63963      ultrachat  Could you discuss any notable collaborations b...   \n",
       "63964      ultrachat  Create a set of high-quality, visually compell...   \n",
       "63965      ultrachat  Share a time when you felt most successful in ...   \n",
       "63966      ultrachat  What is the role of the International Atomic E...   \n",
       "\n",
       "                                                  models  \\\n",
       "0          [alpaca-7b, pythia-12b, starchat, vicuna-33b]   \n",
       "1       [gpt-4, llama-2-13b-chat, starchat, ultralm-65b]   \n",
       "2      [mpt-30b-chat, ultralm-13b, vicuna-33b, wizard...   \n",
       "3      [alpaca-7b, mpt-30b-chat, vicuna-33b, wizardlm...   \n",
       "4      [pythia-12b, llama-2-13b-chat, ultralm-13b, wi...   \n",
       "...                                                  ...   \n",
       "63962  [alpaca-7b, gpt-3.5-turbo, starchat, wizardlm-...   \n",
       "63963  [bard, falcon-40b-instruct, llama-2-7b-chat, s...   \n",
       "63964  [alpaca-7b, llama-2-70b-chat, ultralm-13b, wiz...   \n",
       "63965  [gpt-3.5-turbo, llama-2-70b-chat, wizardlm-70b...   \n",
       "63966  [llama-2-13b-chat, ultralm-65b, wizardlm-70b, ...   \n",
       "\n",
       "                                             completions correct_answers  \\\n",
       "0      [{'annotations': {'instruction_following': {'R...          [None]   \n",
       "1      [{'annotations': {'instruction_following': {'R...          [None]   \n",
       "2      [{'annotations': {'instruction_following': {'R...          [None]   \n",
       "3      [{'annotations': {'instruction_following': {'R...          [None]   \n",
       "4      [{'annotations': {'instruction_following': {'R...          [None]   \n",
       "...                                                  ...             ...   \n",
       "63962  [{'annotations': {'instruction_following': {'R...          [None]   \n",
       "63963  [{'annotations': {'instruction_following': {'R...          [None]   \n",
       "63964  [{'annotations': {'instruction_following': {'R...          [None]   \n",
       "63965  [{'annotations': {'instruction_following': {'R...          [None]   \n",
       "63966  [{'annotations': {'instruction_following': {'R...          [None]   \n",
       "\n",
       "      incorrect_answers                 tokens            hf            hn  \\\n",
       "0                [None]   [130, 583, 363, 276]  [2, 5, 4, 1]  [1, 5, 4, 1]   \n",
       "1                [None]   [863, 671, 375, 450]  [5, 5, 3, 4]  [5, 3, 4, 4]   \n",
       "2                [None]   [777, 656, 985, 576]  [4, 4, 5, 4]  [4, 4, 4, 4]   \n",
       "3                [None]    [52, 175, 241, 244]  [4, 5, 3, 2]  [4, 5, 5, 2]   \n",
       "4                [None]  [921, 766, 1024, 592]  [2, 3, 2, 2]  [2, 4, 1, 1]   \n",
       "...                 ...                    ...           ...           ...   \n",
       "63962            [None]   [118, 641, 551, 312]  [3, 5, 4, 4]  [4, 5, 4, 5]   \n",
       "63963            [None]    [488, 43, 386, 316]  [5, 2, 5, 4]  [1, 2, 5, 4]   \n",
       "63964            [None]   [115, 634, 401, 772]  [3, 4, 3, 4]  [2, 5, 4, 5]   \n",
       "63965            [None]     [61, 241, 81, 194]  [3, 5, 3, 4]  [3, 5, 3, 5]   \n",
       "63966            [None]   [337, 171, 383, 231]  [4, 4, 5, 4]  [5, 4, 5, 5]   \n",
       "\n",
       "                 tn           ifg                       mn  \n",
       "0      [1, 5, 3, 1]  [1, 5, 5, 2]       [1.25, 5, 4, 1.25]  \n",
       "1      [5, 5, 3, 5]  [4, 4, 3, 5]  [4.75, 4.25, 3.25, 4.5]  \n",
       "2      [5, 5, 5, 5]  [4, 3, 4, 4]     [4.25, 4, 4.5, 4.25]  \n",
       "3      [3, 5, 5, 2]  [4, 5, 5, 2]        [3.75, 5, 4.5, 2]  \n",
       "4      [3, 5, 3, 2]  [3, 4, 2, 2]        [2.5, 4, 2, 1.75]  \n",
       "...             ...           ...                      ...  \n",
       "63962  [5, 5, 3, 5]  [4, 5, 5, 4]           [4, 5, 4, 4.5]  \n",
       "63963  [3, 3, 5, 5]  [5, 2, 5, 4]     [3.5, 2.25, 5, 4.25]  \n",
       "63964  [3, 5, 4, 5]  [5, 4, 3, 4]    [3.25, 4.5, 3.5, 4.5]  \n",
       "63965  [5, 3, 5, 3]  [2, 4, 2, 4]    [3.25, 4.25, 3.25, 4]  \n",
       "63966  [5, 5, 5, 5]  [5, 4, 5, 5]    [4.75, 4.25, 5, 4.75]  \n",
       "\n",
       "[63967 rows x 12 columns]"
      ]
     },
     "execution_count": 35,
     "metadata": {},
     "output_type": "execute_result"
    }
   ],
   "source": [
    "df"
   ]
  },
  {
   "cell_type": "code",
   "execution_count": 38,
   "id": "cd2f0451-e64e-4e63-8b4d-693b7023244e",
   "metadata": {},
   "outputs": [
    {
     "name": "stdout",
     "output_type": "stream",
     "text": [
      "0.6313718746417367\n"
     ]
    }
   ],
   "source": [
    "tmp = df[df['source']=='evol_instruct']\n",
    "print(lenacc(tmp, 'mn'))"
   ]
  },
  {
   "cell_type": "code",
   "execution_count": 33,
   "id": "10d36efd-c3f1-4bef-9d85-75ec2f990432",
   "metadata": {},
   "outputs": [
    {
     "name": "stdout",
     "output_type": "stream",
     "text": [
      "hf\n",
      "0.6737068651054205\n",
      "_____\n",
      "hn\n"
     ]
    },
    {
     "name": "stderr",
     "output_type": "stream",
     "text": [
      "\n",
      "KeyboardInterrupt\n",
      "\n"
     ]
    }
   ],
   "source": [
    "tmp = df[df['source']=='sharegpt']\n",
    "for a in asp_dict.keys():\n",
    "    avs.extend(a)\n",
    "    print(a)\n",
    "    print(lenacc(tmp, a))\n",
    "    print(\"_____\")"
   ]
  },
  {
   "cell_type": "code",
   "execution_count": null,
   "id": "53b8d933-2d23-43fd-bec6-0cb1be3b43a7",
   "metadata": {},
   "outputs": [],
   "source": [
    "avs = []\n",
    "for i, r in df.iterrows():\n",
    "    try:\n",
    "        mts.extend([float(f) for f in r[mt]])\n",
    "        tks.extend(r['tokens'])\n",
    "    except:\n",
    "        continue"
   ]
  },
  {
   "cell_type": "code",
   "execution_count": 37,
   "id": "a9764038-c200-4866-b21b-bd6d8f4b9d58",
   "metadata": {},
   "outputs": [
    {
     "data": {
      "text/plain": [
       "SignificanceResult(statistic=0.3577224656528747, pvalue=0.0)"
      ]
     },
     "execution_count": 37,
     "metadata": {},
     "output_type": "execute_result"
    }
   ],
   "source": [
    "mt = 'mn'\n",
    "tks = []\n",
    "mts = []\n",
    "for i, r in df.iterrows():\n",
    "    try:\n",
    "        mts.extend([float(f) for f in r[mt]])\n",
    "        tks.extend(r['tokens'])\n",
    "    except:\n",
    "        continue\n",
    "\n",
    "spearmanr(tks, mts)"
   ]
  },
  {
   "cell_type": "code",
   "execution_count": 100,
   "id": "1ca4d3b7-c4a0-4640-b2c1-579d12966a61",
   "metadata": {},
   "outputs": [
    {
     "data": {
      "text/plain": [
       "SignificanceResult(statistic=0.5112162573781633, pvalue=0.0)"
      ]
     },
     "execution_count": 100,
     "metadata": {},
     "output_type": "execute_result"
    }
   ],
   "source": [
    "spearmanr(tks, mts)"
   ]
  },
  {
   "cell_type": "code",
   "execution_count": null,
   "id": "2dc60461-5b04-4ac7-81f1-9f289a691c07",
   "metadata": {},
   "outputs": [],
   "source": [
    "# TODOs \n",
    "# 1. Setup Binarized length heuristic accuracy\n",
    "# 2. Setup Length correlations between reponses and ratings on each of the 4 aspects\n",
    "# 3. Compute numbers for different prompt settings (evol-instruct, etc.)"
   ]
  },
  {
   "cell_type": "code",
   "execution_count": 64,
   "id": "d62ef824-bc63-4bee-89a8-9ce12fdd659a",
   "metadata": {},
   "outputs": [
    {
     "data": {
      "text/html": [
       "<div>\n",
       "<style scoped>\n",
       "    .dataframe tbody tr th:only-of-type {\n",
       "        vertical-align: middle;\n",
       "    }\n",
       "\n",
       "    .dataframe tbody tr th {\n",
       "        vertical-align: top;\n",
       "    }\n",
       "\n",
       "    .dataframe thead th {\n",
       "        text-align: right;\n",
       "    }\n",
       "</style>\n",
       "<table border=\"1\" class=\"dataframe\">\n",
       "  <thead>\n",
       "    <tr style=\"text-align: right;\">\n",
       "      <th></th>\n",
       "      <th>source</th>\n",
       "      <th>instruction</th>\n",
       "      <th>models</th>\n",
       "      <th>completions</th>\n",
       "      <th>correct_answers</th>\n",
       "      <th>incorrect_answers</th>\n",
       "      <th>tokens</th>\n",
       "      <th>hf</th>\n",
       "      <th>hn</th>\n",
       "      <th>tn</th>\n",
       "      <th>ifg</th>\n",
       "    </tr>\n",
       "  </thead>\n",
       "  <tbody>\n",
       "    <tr>\n",
       "      <th>0</th>\n",
       "      <td>evol_instruct</td>\n",
       "      <td>Can you write a C++ program that prompts the u...</td>\n",
       "      <td>[alpaca-7b, pythia-12b, starchat, vicuna-33b]</td>\n",
       "      <td>[{'annotations': {'instruction_following': {'R...</td>\n",
       "      <td>[None]</td>\n",
       "      <td>[None]</td>\n",
       "      <td>[130, 583, 363, 276]</td>\n",
       "      <td>[2, 5, 4, 1]</td>\n",
       "      <td>[1, 5, 4, 1]</td>\n",
       "      <td>[1, 5, 3, 1]</td>\n",
       "      <td>[1, 5, 5, 2]</td>\n",
       "    </tr>\n",
       "    <tr>\n",
       "      <th>1</th>\n",
       "      <td>evol_instruct</td>\n",
       "      <td>Suppose you are a content creator and want to ...</td>\n",
       "      <td>[gpt-4, llama-2-13b-chat, starchat, ultralm-65b]</td>\n",
       "      <td>[{'annotations': {'instruction_following': {'R...</td>\n",
       "      <td>[None]</td>\n",
       "      <td>[None]</td>\n",
       "      <td>[863, 671, 375, 450]</td>\n",
       "      <td>[5, 5, 3, 4]</td>\n",
       "      <td>[5, 3, 4, 4]</td>\n",
       "      <td>[5, 5, 3, 5]</td>\n",
       "      <td>[4, 4, 3, 5]</td>\n",
       "    </tr>\n",
       "    <tr>\n",
       "      <th>2</th>\n",
       "      <td>evol_instruct</td>\n",
       "      <td>Identify the interrelated economic, political,...</td>\n",
       "      <td>[mpt-30b-chat, ultralm-13b, vicuna-33b, wizard...</td>\n",
       "      <td>[{'annotations': {'instruction_following': {'R...</td>\n",
       "      <td>[None]</td>\n",
       "      <td>[None]</td>\n",
       "      <td>[777, 656, 985, 576]</td>\n",
       "      <td>[4, 4, 5, 4]</td>\n",
       "      <td>[4, 4, 4, 4]</td>\n",
       "      <td>[5, 5, 5, 5]</td>\n",
       "      <td>[4, 3, 4, 4]</td>\n",
       "    </tr>\n",
       "    <tr>\n",
       "      <th>3</th>\n",
       "      <td>evol_instruct</td>\n",
       "      <td>How can I convert the decimal number 31 to bin...</td>\n",
       "      <td>[alpaca-7b, mpt-30b-chat, vicuna-33b, wizardlm...</td>\n",
       "      <td>[{'annotations': {'instruction_following': {'R...</td>\n",
       "      <td>[None]</td>\n",
       "      <td>[None]</td>\n",
       "      <td>[52, 175, 241, 244]</td>\n",
       "      <td>[4, 5, 3, 2]</td>\n",
       "      <td>[4, 5, 5, 2]</td>\n",
       "      <td>[3, 5, 5, 2]</td>\n",
       "      <td>[4, 5, 5, 2]</td>\n",
       "    </tr>\n",
       "    <tr>\n",
       "      <th>4</th>\n",
       "      <td>evol_instruct</td>\n",
       "      <td>Can you modify the C++ code provided below to ...</td>\n",
       "      <td>[pythia-12b, llama-2-13b-chat, ultralm-13b, wi...</td>\n",
       "      <td>[{'annotations': {'instruction_following': {'R...</td>\n",
       "      <td>[None]</td>\n",
       "      <td>[None]</td>\n",
       "      <td>[921, 766, 1024, 592]</td>\n",
       "      <td>[2, 3, 2, 2]</td>\n",
       "      <td>[2, 4, 1, 1]</td>\n",
       "      <td>[3, 5, 3, 2]</td>\n",
       "      <td>[3, 4, 2, 2]</td>\n",
       "    </tr>\n",
       "    <tr>\n",
       "      <th>...</th>\n",
       "      <td>...</td>\n",
       "      <td>...</td>\n",
       "      <td>...</td>\n",
       "      <td>...</td>\n",
       "      <td>...</td>\n",
       "      <td>...</td>\n",
       "      <td>...</td>\n",
       "      <td>...</td>\n",
       "      <td>...</td>\n",
       "      <td>...</td>\n",
       "      <td>...</td>\n",
       "    </tr>\n",
       "    <tr>\n",
       "      <th>63962</th>\n",
       "      <td>ultrachat</td>\n",
       "      <td>How does the versatility and user-friendliness...</td>\n",
       "      <td>[alpaca-7b, gpt-3.5-turbo, starchat, wizardlm-...</td>\n",
       "      <td>[{'annotations': {'instruction_following': {'R...</td>\n",
       "      <td>[None]</td>\n",
       "      <td>[None]</td>\n",
       "      <td>[118, 641, 551, 312]</td>\n",
       "      <td>[3, 5, 4, 4]</td>\n",
       "      <td>[4, 5, 4, 5]</td>\n",
       "      <td>[5, 5, 3, 5]</td>\n",
       "      <td>[4, 5, 5, 4]</td>\n",
       "    </tr>\n",
       "    <tr>\n",
       "      <th>63963</th>\n",
       "      <td>ultrachat</td>\n",
       "      <td>Could you discuss any notable collaborations b...</td>\n",
       "      <td>[bard, falcon-40b-instruct, llama-2-7b-chat, s...</td>\n",
       "      <td>[{'annotations': {'instruction_following': {'R...</td>\n",
       "      <td>[None]</td>\n",
       "      <td>[None]</td>\n",
       "      <td>[488, 43, 386, 316]</td>\n",
       "      <td>[5, 2, 5, 4]</td>\n",
       "      <td>[1, 2, 5, 4]</td>\n",
       "      <td>[3, 3, 5, 5]</td>\n",
       "      <td>[5, 2, 5, 4]</td>\n",
       "    </tr>\n",
       "    <tr>\n",
       "      <th>63964</th>\n",
       "      <td>ultrachat</td>\n",
       "      <td>Create a set of high-quality, visually compell...</td>\n",
       "      <td>[alpaca-7b, llama-2-70b-chat, ultralm-13b, wiz...</td>\n",
       "      <td>[{'annotations': {'instruction_following': {'R...</td>\n",
       "      <td>[None]</td>\n",
       "      <td>[None]</td>\n",
       "      <td>[115, 634, 401, 772]</td>\n",
       "      <td>[3, 4, 3, 4]</td>\n",
       "      <td>[2, 5, 4, 5]</td>\n",
       "      <td>[3, 5, 4, 5]</td>\n",
       "      <td>[5, 4, 3, 4]</td>\n",
       "    </tr>\n",
       "    <tr>\n",
       "      <th>63965</th>\n",
       "      <td>ultrachat</td>\n",
       "      <td>Share a time when you felt most successful in ...</td>\n",
       "      <td>[gpt-3.5-turbo, llama-2-70b-chat, wizardlm-70b...</td>\n",
       "      <td>[{'annotations': {'instruction_following': {'R...</td>\n",
       "      <td>[None]</td>\n",
       "      <td>[None]</td>\n",
       "      <td>[61, 241, 81, 194]</td>\n",
       "      <td>[3, 5, 3, 4]</td>\n",
       "      <td>[3, 5, 3, 5]</td>\n",
       "      <td>[5, 3, 5, 3]</td>\n",
       "      <td>[2, 4, 2, 4]</td>\n",
       "    </tr>\n",
       "    <tr>\n",
       "      <th>63966</th>\n",
       "      <td>ultrachat</td>\n",
       "      <td>What is the role of the International Atomic E...</td>\n",
       "      <td>[llama-2-13b-chat, ultralm-65b, wizardlm-70b, ...</td>\n",
       "      <td>[{'annotations': {'instruction_following': {'R...</td>\n",
       "      <td>[None]</td>\n",
       "      <td>[None]</td>\n",
       "      <td>[337, 171, 383, 231]</td>\n",
       "      <td>[4, 4, 5, 4]</td>\n",
       "      <td>[5, 4, 5, 5]</td>\n",
       "      <td>[5, 5, 5, 5]</td>\n",
       "      <td>[5, 4, 5, 5]</td>\n",
       "    </tr>\n",
       "  </tbody>\n",
       "</table>\n",
       "<p>63967 rows × 11 columns</p>\n",
       "</div>"
      ],
      "text/plain": [
       "              source  ...           ifg\n",
       "0      evol_instruct  ...  [1, 5, 5, 2]\n",
       "1      evol_instruct  ...  [4, 4, 3, 5]\n",
       "2      evol_instruct  ...  [4, 3, 4, 4]\n",
       "3      evol_instruct  ...  [4, 5, 5, 2]\n",
       "4      evol_instruct  ...  [3, 4, 2, 2]\n",
       "...              ...  ...           ...\n",
       "63962      ultrachat  ...  [4, 5, 5, 4]\n",
       "63963      ultrachat  ...  [5, 2, 5, 4]\n",
       "63964      ultrachat  ...  [5, 4, 3, 4]\n",
       "63965      ultrachat  ...  [2, 4, 2, 4]\n",
       "63966      ultrachat  ...  [5, 4, 5, 5]\n",
       "\n",
       "[63967 rows x 11 columns]"
      ]
     },
     "execution_count": 64,
     "metadata": {},
     "output_type": "execute_result"
    }
   ],
   "source": [
    "df"
   ]
  },
  {
   "cell_type": "code",
   "execution_count": null,
   "id": "c8a2491c-e391-4231-8872-3a17840af0ff",
   "metadata": {},
   "outputs": [],
   "source": []
  }
 ],
 "metadata": {
  "kernelspec": {
   "display_name": "Python 3 (ipykernel)",
   "language": "python",
   "name": "python3"
  },
  "language_info": {
   "codemirror_mode": {
    "name": "ipython",
    "version": 3
   },
   "file_extension": ".py",
   "mimetype": "text/x-python",
   "name": "python",
   "nbconvert_exporter": "python",
   "pygments_lexer": "ipython3",
   "version": "3.10.0"
  }
 },
 "nbformat": 4,
 "nbformat_minor": 5
}
