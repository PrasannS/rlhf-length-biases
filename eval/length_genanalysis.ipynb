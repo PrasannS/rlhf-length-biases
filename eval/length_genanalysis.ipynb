{
 "cells": [
  {
   "cell_type": "code",
   "execution_count": null,
   "id": "0cc142c1-e606-4f12-a930-5beba96a5f9c",
   "metadata": {},
   "outputs": [],
   "source": [
    "# notebook for looking at length histogram differences for generated outputs"
   ]
  },
  {
   "cell_type": "code",
   "execution_count": 1,
   "id": "021e1194-63da-4f62-94be-23b731d8c8c1",
   "metadata": {},
   "outputs": [
    {
     "name": "stderr",
     "output_type": "stream",
     "text": [
      "/home/prasann/miniconda3/envs/stackenv/lib/python3.10/site-packages/tqdm/auto.py:21: TqdmWarning: IProgress not found. Please update jupyter and ipywidgets. See https://ipywidgets.readthedocs.io/en/stable/user_install.html\n",
      "  from .autonotebook import tqdm as notebook_tqdm\n",
      "/home/prasann/miniconda3/envs/stackenv/lib/python3.10/site-packages/torch/cuda/__init__.py:546: UserWarning: Can't initialize NVML\n",
      "  warnings.warn(\"Can't initialize NVML\")\n"
     ]
    },
    {
     "name": "stdout",
     "output_type": "stream",
     "text": [
      "[2023-09-28 09:16:05,844] [INFO] [real_accelerator.py:158:get_accelerator] Setting ds_accelerator to cuda (auto detect)\n",
      "\n",
      "===================================BUG REPORT===================================\n",
      "Welcome to bitsandbytes. For bug reports, please run\n",
      "\n",
      "python -m bitsandbytes\n",
      "\n",
      " and submit this information together with your error trace to: https://github.com/TimDettmers/bitsandbytes/issues\n",
      "================================================================================\n",
      "CUDA SETUP: CUDA runtime path found: /home/prasann/miniconda3/envs/stackenv/lib/libcudart.so.11.0\n",
      "CUDA SETUP: Highest compute capability among GPUs detected: 7.5\n",
      "CUDA SETUP: Detected CUDA version 117\n",
      "CUDA SETUP: Loading binary /home/prasann/miniconda3/envs/stackenv/lib/python3.10/site-packages/bitsandbytes/libbitsandbytes_cuda117.so...\n"
     ]
    },
    {
     "name": "stderr",
     "output_type": "stream",
     "text": [
      "/home/prasann/miniconda3/envs/stackenv/lib/python3.10/site-packages/bitsandbytes/cuda_setup/main.py:147: UserWarning: Found duplicate ['libcudart.so', 'libcudart.so.11.0', 'libcudart.so.12.0'] files: {PosixPath('/home/prasann/miniconda3/envs/stackenv/lib/libcudart.so.11.0'), PosixPath('/home/prasann/miniconda3/envs/stackenv/lib/libcudart.so')}.. We'll flip a coin and try one of these, in order to fail forward.\n",
      "Either way, this might cause trouble in the future:\n",
      "If you get `CUDA error: invalid device function` errors, the above might be the cause and the solution is to make sure only one ['libcudart.so', 'libcudart.so.11.0', 'libcudart.so.12.0'] in the paths that we search based on your env.\n",
      "  warn(msg)\n"
     ]
    }
   ],
   "source": [
    "from rlhfutils.eval_utils import oai_kwargs, load_alldfs, annotate_apfarm, apf_format, load_wgpt, filter_and_sort_df\n",
    "import pandas as pd\n",
    "from statistics import mean, stdev\n",
    "import matplotlib.pyplot as plt\n",
    "import re\n",
    "from transformers import AutoTokenizer\n",
    "from datasets import load_dataset\n",
    "import openai\n",
    "from rlhfutils.data import qaform\n",
    "from transformers import AutoTokenizer\n",
    "import pandas as pd\n",
    "from rlhfutils.eval_utils import getapfsft, tok_dist\n",
    "import matplotlib.pyplot as plt\n",
    "from rlhfutils.debug_utils import load_rm, progress_rm\n",
    "import argparse\n",
    "import nltk\n",
    "from nltk.tokenize import sent_tokenize\n",
    "import random\n",
    "import numpy as np\n",
    "import seaborn as sns\n",
    "import matplotlib.pyplot as plt\n",
    "import matplotlib.gridspec as gridspec"
   ]
  },
  {
   "cell_type": "code",
   "execution_count": 2,
   "id": "13ba9c3f-48df-43c4-a58a-57368e13a8a3",
   "metadata": {},
   "outputs": [],
   "source": [
    "%load_ext autoreload\n",
    "%autoreload 2"
   ]
  },
  {
   "cell_type": "code",
   "execution_count": 6,
   "id": "cd23213e-56f2-493a-a611-56a9554188e8",
   "metadata": {},
   "outputs": [],
   "source": [
    "toker = AutoTokenizer.from_pretrained(\"../webgpt-llama/models/sft10k\")"
   ]
  },
  {
   "cell_type": "code",
   "execution_count": null,
   "id": "36f03f27-6a4a-4506-816f-632bc84a0372",
   "metadata": {},
   "outputs": [],
   "source": [
    "print(adfs.keys())"
   ]
  },
  {
   "cell_type": "code",
   "execution_count": 7,
   "id": "cd4bbc30-bf00-4dd1-84a9-5d3e9ea12669",
   "metadata": {},
   "outputs": [],
   "source": [
    "# given a dataframe, use rm to get rmscos if it doesn't already have them. \n",
    "# then bin / mean at intervals of 10 tokens and return lists for a scatter\n",
    "def score_rm(indf, rm):\n",
    "    indf['qstrs'] = [qaform(r['question'], r['response']) for _, r in indf.iterrows()]\n",
    "    rewards = progress_rm(list(indf['qstrs']), rm, kwargs)\n",
    "    scos = [a[0]['score'] for a in rewards]\n",
    "    indf['rewards'] = scos"
   ]
  },
  {
   "cell_type": "code",
   "execution_count": 31,
   "id": "d9651a8a-e5c3-48dc-b275-5790f38e7444",
   "metadata": {},
   "outputs": [],
   "source": [
    "def fancyscatter(k1, k2, title, dfs):\n",
    "    # Generate three datasets:\n",
    "    # 1. For the scatter plot\n",
    "    x_scatter = list(range(0, 300, 10))\n",
    "    sfthist = dfs[k1].rcnt\n",
    "    ppohist = dfs[k2].rcnt\n",
    "\n",
    "    sftscatter, scv = binscatter(dfs[k1])\n",
    "    pposcatter, pcv = binscatter(dfs[k2])\n",
    "\n",
    "    diffs = []\n",
    "    tval = sum([s for s in scv if s is not None])+sum([s for s in pcv if s is not None])\n",
    "    for i in range(len(sftscatter)):\n",
    "        if sftscatter[i]!=None and pposcatter[i]!=None:\n",
    "            diffs.append((pposcatter[i]-sftscatter[i])*((scv[i]+pcv[i])/tval))\n",
    "    print(sum(diffs))\n",
    "    # Create a figure and a grid of subplots using GridSpec\n",
    "    #fig = plt.figure(figsize=(8,4))\n",
    "    fig = plt.figure(figsize=(16,8))\n",
    "    fig.suptitle(title, fontsize=16)\n",
    "\n",
    "    gs = gridspec.GridSpec(16, 8, wspace=0.0, hspace=0.0)\n",
    "    \n",
    "    scatter_ax = plt.subplot(gs[:, :])\n",
    "    #right_hist_ax = plt.subplot(gs[:, 9:], sharey=scatter_ax)\n",
    "    #y_hist_ax = plt.subplot(gs[:, 0], sharey=right_hist_ax)\n",
    "\n",
    "    # Remove tick labels for the histograms as they share axes with scatter plot\n",
    "    #y_hist_ax.xaxis.set_ticklabels([])\n",
    "    #y_hist_ax.invert_xaxis()\n",
    "    #right_hist_ax.xaxis.set_ticklabels([])\n",
    "    #right_hist_ax.yaxis.set_ticklabels([])  # only remove y tick labels for the right histogram\n",
    "    #right_hist_ax.yaxis.tick_right()\n",
    "\n",
    "    # Hide y-axis of scatter plot\n",
    "    #scatter_ax.yaxis.set_visible(False)\n",
    "    \n",
    "    # Ensure y-axis of y_hist_ax is visible (this ensures y-axis labels are displayed)\n",
    "    #y_hist_ax.yaxis.set_visible(True)\n",
    "    # scatter_ax.set_xlim(min([n for n in sftscatter if n is not None]), max([n for n in pposcatter if n is not None]))\n",
    "    # Plot the scatter plot and histograms\n",
    "    scatter_ax.scatter(x_scatter, sftscatter, color='#0F4392')\n",
    "    scatter_ax.scatter(x_scatter, pposcatter, color='#FF5151')\n",
    "    #y_hist_ax.hist(sfthist, bins=15, orientation='horizontal', color='#000249', alpha=0.7)\n",
    "    #right_hist_ax.hist(ppohist, bins=15, orientation='horizontal', color='#FF8B8B', alpha=0.7)\n",
    "\n",
    "    return fig"
   ]
  },
  {
   "cell_type": "code",
   "execution_count": 9,
   "id": "2a8b1cc2-3c2d-4b6e-b6c0-6efb81a7fbd9",
   "metadata": {},
   "outputs": [],
   "source": [
    "rlcdnames = ['rlcdsftv3', 'rlcdorigv3', 'rlcdhkl']\n",
    "stacknames = ['stacksft', 'stackorigrerun', 'stackhkl']\n",
    "wgptnames = ['wgptsft', 'wgptppoorig', 'wgpthkllate']"
   ]
  },
  {
   "cell_type": "code",
   "execution_count": null,
   "id": "a0a20f88-8bfb-4e9d-a034-29475db59c8d",
   "metadata": {},
   "outputs": [],
   "source": []
  },
  {
   "cell_type": "code",
   "execution_count": 65,
   "id": "8ae0dcdc-a6b3-4324-9110-003e735c460a",
   "metadata": {},
   "outputs": [
    {
     "name": "stdout",
     "output_type": "stream",
     "text": [
      "0.1162372328192641\n"
     ]
    },
    {
     "data": {
      "image/png": "[encoded data removed]",
      "text/plain": [
       "<Figure size 1600x800 with 1 Axes>"
      ]
     },
     "metadata": {},
     "output_type": "display_data"
    }
   ],
   "source": [
    "f = fancyscatter(rlcdnames[0], rlcdnames[2], 'wgpt', rlcds)"
   ]
  },
  {
   "cell_type": "code",
   "execution_count": 61,
   "id": "c4fda2a2-2dbd-4166-a48d-af7f9069d037",
   "metadata": {},
   "outputs": [
    {
     "name": "stdout",
     "output_type": "stream",
     "text": [
      "0.37186302430995694\n"
     ]
    },
    {
     "data": {
      "image/png": "[encoded data removed]",
      "text/plain": [
       "<Figure size 1600x800 with 1 Axes>"
      ]
     },
     "metadata": {},
     "output_type": "display_data"
    }
   ],
   "source": [
    "f = fancyscatter(stacknames[0], stacknames[2], 'stack', stacks)"
   ]
  },
  {
   "cell_type": "code",
   "execution_count": null,
   "id": "449e302d-013b-44b6-afbf-446108ff700a",
   "metadata": {},
   "outputs": [],
   "source": []
  },
  {
   "cell_type": "code",
   "execution_count": 63,
   "id": "8f1eb70f-3bf3-46cc-a327-58575b5e107c",
   "metadata": {},
   "outputs": [
    {
     "name": "stdout",
     "output_type": "stream",
     "text": [
      "0.016698400728896647\n"
     ]
    },
    {
     "data": {
      "image/png": "[encoded data removed]",
      "text/plain": [
       "<Figure size 1600x800 with 1 Axes>"
      ]
     },
     "metadata": {},
     "output_type": "display_data"
    }
   ],
   "source": [
    "f = fancyscatter(wgptnames[0], wgptnames[1], 'wgpt', wgs)"
   ]
  },
  {
   "cell_type": "code",
   "execution_count": null,
   "id": "3c3ee7c4-4f39-461d-afd6-1a4ac699c538",
   "metadata": {},
   "outputs": [],
   "source": [
    "f = fancyscatter('rlcdsftv3', 'rlcdhkl', 'RLCD', rlcds)"
   ]
  },
  {
   "cell_type": "code",
   "execution_count": 54,
   "id": "9cc62bd8-1d4a-4286-a3a4-83395c322f0e",
   "metadata": {},
   "outputs": [
    {
     "name": "stdout",
     "output_type": "stream",
     "text": [
      "generated_wgptnokl.jsonl\n",
      "generated_wgptmix50_end.jsonl\n",
      "generated_wgptveryrand.jsonl\n",
      "generated_wgpt4gpu75.jsonl\n",
      "generated_webgptdappov2125.jsonl\n",
      "generated_wgptthrowlong.jsonl\n",
      "generated_wgpt4gpu150.jsonl\n",
      "generated_wgptthrowlong75.jsonl\n",
      "generated_rlcdtruncboth.jsonl\n",
      "generated_wgptnewppo.jsonl\n",
      "generated_rlcdtruncbad.jsonl\n",
      "generated_wgpthklearly.jsonl\n",
      "generated_wgpthkllate.jsonl\n",
      "generated_wgptboth.jsonl\n",
      "generated_wgptmix50_highkl.jsonl\n",
      "generated_wgptppoorig.jsonl\n",
      "generated_wgptlenbal.jsonl\n",
      "generated_wgptrwscale.jsonl\n",
      "generated_wgptsft.jsonl\n",
      "generated_webgptdappo.jsonl\n",
      "generated_wgptgoodcut.jsonl\n",
      "generated_wgptonew.jsonl\n",
      "generated_wgptlenonly.jsonl\n",
      "generated_webgptdappov250.jsonl\n",
      "davinciwebgpt.jsonl\n",
      "generated_wgptlencons.jsonl\n",
      "generated_rlcdnokl.jsonl\n",
      "generated_rlcdbalancerm.jsonl\n",
      "generated_rlcdgoodcut.jsonl\n",
      "generated_rlcdhkl.jsonl\n",
      "generated_rlcddiagcut.jsonl\n",
      "generated_rlcdmidcutfix.jsonl\n",
      "generated_rlcdlenpen.jsonl\n",
      "generated_rlcdrwscale.jsonl\n",
      "generated_rlcdleftonly.jsonl\n",
      "generated_rlcdlenonly.jsonl\n",
      "generated_rlcdorigv3.jsonl\n",
      "generated_rlcdbothcut.jsonl\n",
      "generated_rlcdsftv3.jsonl\n",
      "generated_rlcdrightcut.jsonl\n",
      "generated_stacksft.jsonl\n",
      "generated_stackda125.jsonl\n",
      "generated_stackorigrerun.jsonl\n",
      "generated_stacklenonly.jsonl\n",
      "generated_stackbalance.jsonl\n",
      "generated_stackhkl.jsonl\n",
      "generated_stackrwscale.jsonl\n",
      "generated_stackbig150.jsonl\n",
      "generated_stackbothcut.jsonl\n",
      "generated_stacklenonlynokl.jsonl\n"
     ]
    }
   ],
   "source": [
    "wgs = load_alldfs(\"../trl-general/genouts/wgpt//\", 400, False)\n",
    "rlcds = load_alldfs(\"../trl-general/genouts/rlcdfix///\", 400, False)\n",
    "stacks = load_alldfs(\"../trl-general/genouts/stack/\", 400, False)"
   ]
  },
  {
   "cell_type": "code",
   "execution_count": 58,
   "id": "90b0fc02-1ff0-42ba-9d75-c1a0cde3a6b4",
   "metadata": {},
   "outputs": [
    {
     "data": {
      "text/html": [
       "<div>\n",
       "<style scoped>\n",
       "    .dataframe tbody tr th:only-of-type {\n",
       "        vertical-align: middle;\n",
       "    }\n",
       "\n",
       "    .dataframe tbody tr th {\n",
       "        vertical-align: top;\n",
       "    }\n",
       "\n",
       "    .dataframe thead th {\n",
       "        text-align: right;\n",
       "    }\n",
       "</style>\n",
       "<table border=\"1\" class=\"dataframe\">\n",
       "  <thead>\n",
       "    <tr style=\"text-align: right;\">\n",
       "      <th></th>\n",
       "      <th>question</th>\n",
       "      <th>response</th>\n",
       "      <th>wcnt</th>\n",
       "      <th>rcnt</th>\n",
       "    </tr>\n",
       "  </thead>\n",
       "  <tbody>\n",
       "    <tr>\n",
       "      <th>0</th>\n",
       "      <td>How do our bodies produce heat?\\n\\nWe have a c...</td>\n",
       "      <td>Our body produces heat through two main proces...</td>\n",
       "      <td>51</td>\n",
       "      <td>100</td>\n",
       "    </tr>\n",
       "    <tr>\n",
       "      <th>1</th>\n",
       "      <td>if brain has no pain receptors, why do headach...</td>\n",
       "      <td>Headaches can be caused by many different fact...</td>\n",
       "      <td>22</td>\n",
       "      <td>106</td>\n",
       "    </tr>\n",
       "    <tr>\n",
       "      <th>2</th>\n",
       "      <td>How is it that humans advanced more rapidly ba...</td>\n",
       "      <td>The relative advancement of different human po...</td>\n",
       "      <td>45</td>\n",
       "      <td>107</td>\n",
       "    </tr>\n",
       "    <tr>\n",
       "      <th>3</th>\n",
       "      <td>Why do we call herbal water \"Tea\"?</td>\n",
       "      <td>The term “tea” comes from the Chinese word for...</td>\n",
       "      <td>12</td>\n",
       "      <td>92</td>\n",
       "    </tr>\n",
       "    <tr>\n",
       "      <th>4</th>\n",
       "      <td>Why do colleges in the United States have such...</td>\n",
       "      <td>The main reason why college costs vary so grea...</td>\n",
       "      <td>134</td>\n",
       "      <td>185</td>\n",
       "    </tr>\n",
       "    <tr>\n",
       "      <th>...</th>\n",
       "      <td>...</td>\n",
       "      <td>...</td>\n",
       "      <td>...</td>\n",
       "      <td>...</td>\n",
       "    </tr>\n",
       "    <tr>\n",
       "      <th>163</th>\n",
       "      <td>British Cockney rhyming slang\\n\\nIt doesn't ab...</td>\n",
       "      <td>Cockney Rhyming Slang is a form of slang used ...</td>\n",
       "      <td>65</td>\n",
       "      <td>143</td>\n",
       "    </tr>\n",
       "    <tr>\n",
       "      <th>164</th>\n",
       "      <td>the whole gene-edited babies that were born in...</td>\n",
       "      <td>The birth of edited baby cells in China has si...</td>\n",
       "      <td>34</td>\n",
       "      <td>128</td>\n",
       "    </tr>\n",
       "    <tr>\n",
       "      <th>165</th>\n",
       "      <td>If alcohol and marijuana are both believed to ...</td>\n",
       "      <td>Alcohol and marijuana both activate endocannab...</td>\n",
       "      <td>29</td>\n",
       "      <td>144</td>\n",
       "    </tr>\n",
       "    <tr>\n",
       "      <th>166</th>\n",
       "      <td>Why do we still use CPUs if graphic cards are ...</td>\n",
       "      <td>We continue to rely on central processing unit...</td>\n",
       "      <td>53</td>\n",
       "      <td>67</td>\n",
       "    </tr>\n",
       "    <tr>\n",
       "      <th>167</th>\n",
       "      <td>Can someone please explain how Jurassic Park (...</td>\n",
       "      <td>Jurassic Park (1993) featured groundbreaking s...</td>\n",
       "      <td>35</td>\n",
       "      <td>118</td>\n",
       "    </tr>\n",
       "  </tbody>\n",
       "</table>\n",
       "<p>168 rows × 4 columns</p>\n",
       "</div>"
      ],
      "text/plain": [
       "                                              question  \\\n",
       "0    How do our bodies produce heat?\\n\\nWe have a c...   \n",
       "1    if brain has no pain receptors, why do headach...   \n",
       "2    How is it that humans advanced more rapidly ba...   \n",
       "3                   Why do we call herbal water \"Tea\"?   \n",
       "4    Why do colleges in the United States have such...   \n",
       "..                                                 ...   \n",
       "163  British Cockney rhyming slang\\n\\nIt doesn't ab...   \n",
       "164  the whole gene-edited babies that were born in...   \n",
       "165  If alcohol and marijuana are both believed to ...   \n",
       "166  Why do we still use CPUs if graphic cards are ...   \n",
       "167  Can someone please explain how Jurassic Park (...   \n",
       "\n",
       "                                              response  wcnt  rcnt  \n",
       "0    Our body produces heat through two main proces...    51   100  \n",
       "1    Headaches can be caused by many different fact...    22   106  \n",
       "2    The relative advancement of different human po...    45   107  \n",
       "3    The term “tea” comes from the Chinese word for...    12    92  \n",
       "4    The main reason why college costs vary so grea...   134   185  \n",
       "..                                                 ...   ...   ...  \n",
       "163  Cockney Rhyming Slang is a form of slang used ...    65   143  \n",
       "164  The birth of edited baby cells in China has si...    34   128  \n",
       "165  Alcohol and marijuana both activate endocannab...    29   144  \n",
       "166  We continue to rely on central processing unit...    53    67  \n",
       "167  Jurassic Park (1993) featured groundbreaking s...    35   118  \n",
       "\n",
       "[168 rows x 4 columns]"
      ]
     },
     "execution_count": 58,
     "metadata": {},
     "output_type": "execute_result"
    }
   ],
   "source": [
    "wgs['wgpthkllate']"
   ]
  },
  {
   "cell_type": "code",
   "execution_count": null,
   "id": "6b7516a9-ca8a-498d-bdb7-aeada7edb161",
   "metadata": {},
   "outputs": [],
   "source": [
    "wgdf = pd.DataFrame({\n",
    "    'sftlen':list(wgs['wgptsft'].rcnt),\n",
    "    'origlen':list(wgs['wgptppoorig'].rcnt)\n",
    "})\n",
    "rlcdldf = pd.DataFrame({\n",
    "    'sftlen':list(rlcds['rlcdsftv3'].rcnt),\n",
    "    'origlen':list(rlcds['rlcdorigv3'].rcnt)\n",
    "})\n",
    "stackldf = pd.DataFrame({\n",
    "    'sftlen':list(stacks['stacksft'].rcnt),\n",
    "    'origlen':list(stacks['stackorigrerun'].rcnt)\n",
    "})"
   ]
  },
  {
   "cell_type": "code",
   "execution_count": null,
   "id": "72c4f5f8-d4ca-421f-b4df-5c1cf8bcaf82",
   "metadata": {},
   "outputs": [],
   "source": [
    "wgdf.to_json(\"wgptlens.json\")\n",
    "rlcdldf.to_json(\"rlcdlens.json\")\n",
    "stackldf.to_json('stacklens.json')"
   ]
  },
  {
   "cell_type": "code",
   "execution_count": null,
   "id": "cca43d48-ad79-4f7c-bb93-5db44f37ea10",
   "metadata": {},
   "outputs": [],
   "source": [
    "pd.read_json('stacklens.json')"
   ]
  },
  {
   "cell_type": "code",
   "execution_count": 48,
   "id": "c7a3d557-dc04-4292-bee5-e78f56911ca8",
   "metadata": {},
   "outputs": [
    {
     "data": {
      "text/plain": [
       "102"
      ]
     },
     "execution_count": 48,
     "metadata": {},
     "output_type": "execute_result"
    }
   ],
   "source": [
    "len(wgs['wgpthkllate'])"
   ]
  },
  {
   "cell_type": "code",
   "execution_count": 44,
   "id": "1a291d2d-5fc7-4f81-b988-0ab85e5f50e4",
   "metadata": {},
   "outputs": [
    {
     "name": "stderr",
     "output_type": "stream",
     "text": [
      "Loading checkpoint shards: 100%|███████████████████████████████████████████████████████████████████████████████████████████████████████| 2/2 [01:21<00:00, 40.93s/it]\n",
      "  0%|                                                                                                                                          | 0/7 [00:00<?, ?it/s]/home/prasann/miniconda3/envs/stackenv/lib/python3.10/site-packages/transformers/pipelines/text_classification.py:105: UserWarning: `return_all_scores` is now deprecated,  if want a similar functionality use `top_k=None` instead of `return_all_scores=True` or `top_k=1` instead of `return_all_scores=False`.\n",
      "  warnings.warn(\n",
      "Asking to truncate to max_length but no maximum length is provided and the model has no predefined maximum length. Default to no truncation.\n",
      "100%|██████████████████████████████████████████████████████████████████████████████████████████████████████████████████████████████████| 7/7 [00:12<00:00,  1.85s/it]\n",
      "  0%|                                                                                                                                          | 0/7 [00:00<?, ?it/s]/home/prasann/miniconda3/envs/stackenv/lib/python3.10/site-packages/transformers/pipelines/text_classification.py:105: UserWarning: `return_all_scores` is now deprecated,  if want a similar functionality use `top_k=None` instead of `return_all_scores=True` or `top_k=1` instead of `return_all_scores=False`.\n",
      "  warnings.warn(\n",
      " 43%|███████████████████████████████████████████████████████▋                                                                          | 3/7 [00:04<00:06,  1.62s/it]/home/prasann/miniconda3/envs/stackenv/lib/python3.10/site-packages/transformers/pipelines/base.py:1090: UserWarning: You seem to be using the pipelines sequentially on GPU. In order to maximize efficiency please use a dataset\n",
      "  warnings.warn(\n",
      "100%|██████████████████████████████████████████████████████████████████████████████████████████████████████████████████████████████████| 7/7 [00:10<00:00,  1.48s/it]\n",
      "  0%|                                                                                                                                          | 0/7 [00:00<?, ?it/s]/home/prasann/miniconda3/envs/stackenv/lib/python3.10/site-packages/transformers/pipelines/text_classification.py:105: UserWarning: `return_all_scores` is now deprecated,  if want a similar functionality use `top_k=None` instead of `return_all_scores=True` or `top_k=1` instead of `return_all_scores=False`.\n",
      "  warnings.warn(\n",
      "/home/prasann/miniconda3/envs/stackenv/lib/python3.10/site-packages/transformers/pipelines/base.py:1090: UserWarning: You seem to be using the pipelines sequentially on GPU. In order to maximize efficiency please use a dataset\n",
      "  warnings.warn(\n",
      "  0%|                                                                                                                                          | 0/7 [00:00<?, ?it/s]\n",
      "\n",
      "KeyboardInterrupt\n",
      "\n"
     ]
    }
   ],
   "source": [
    "# webgpt get stuff for figures\n",
    "#adfs = load_alldfs(\"../trl-general/genouts/wgpt//\")\n",
    "tok, rm, kwargs = load_rm(\"/mnt/data1/prasann/rlhf-exploration/webgpt-llama/models/rewardmodel\", 0)\n",
    "# score_dfs = ['wgptrwscale', 'wgptsft', 'wgptppoorig', 'wgpthkllate', 'wgptthrowlong']\n",
    "score_dfs = ['wgptsft', 'wgptppoorig', 'wgpthkllate']\n",
    "for s in score_dfs:\n",
    "    score_rm(wgs[s], rm)"
   ]
  },
  {
   "cell_type": "code",
   "execution_count": null,
   "id": "1d55202d-d5dd-493d-804c-62834acb1aa7",
   "metadata": {},
   "outputs": [],
   "source": [
    "adfs = load_alldfs(\"../trl-general/genouts/stack/\")"
   ]
  },
  {
   "cell_type": "code",
   "execution_count": null,
   "id": "d3ff6427-e006-4aff-9917-8474b7731301",
   "metadata": {},
   "outputs": [],
   "source": [
    "def bothhists(sdf, edf):\n",
    "    fig = plt.figure(figsize=(8,8))\n",
    "    gs = gridspec.GridSpec(16, 16, wspace=0.0, hspace=0.0)\n",
    "    orig_ax = plt.subplot(gs[:8, :])\n",
    "    scatter_ax = plt.subplot(gs[8:, :], sharex=orig_ax)\n",
    "    orig_ax.hist(sdf.rcnt, color='b')\n",
    "    scatter_ax.hist(edf.rcnt, color='r')\n",
    "    return fig"
   ]
  },
  {
   "cell_type": "code",
   "execution_count": null,
   "id": "8899f48b-ed56-47cb-afe2-12500d68b80f",
   "metadata": {},
   "outputs": [],
   "source": [
    "# stack get stuff for figures\n",
    "tok, rm, kwargs = load_rm(\"/mnt/data1/prasann/rlhf-exploration/stack-llama/models/rewardsanity/\", 0)\n",
    "#adfs = load_alldfs(\"../trl-general/genouts/stack/\")\n",
    "score_dfs = ['stacksft', 'stackorigrerun', 'stackhkl']\n",
    "for s in score_dfs:\n",
    "    score_rm(stacks[s], rm)"
   ]
  },
  {
   "cell_type": "code",
   "execution_count": null,
   "id": "88298f2d-858a-4b93-a3e0-bc9716eba94d",
   "metadata": {
    "scrolled": true
   },
   "outputs": [],
   "source": [
    "# rlcd get stuff for figures\n",
    "tok, rm, kwargs = load_rm(\"/mnt/data1/prasann/rlhf-exploration/rlcd-llama/models/rlcdnormal/\", 0)\n",
    "adfs = load_alldfs(\"../trl-general/genouts/rlcdfix/\")\n",
    "score_dfs = ['rlcdsftv3', 'rlcdorigv3', 'rlcdhkl']\n",
    "for s in score_dfs:\n",
    "    score_rm(rlcds[s], rm)"
   ]
  },
  {
   "cell_type": "code",
   "execution_count": null,
   "id": "e798adfe-4106-4a42-b20f-e6c5b62728f2",
   "metadata": {},
   "outputs": [],
   "source": [
    "rlcdnames = ['rlcdsftv3', 'rlcdorigv3', 'rlcdhkl']\n",
    "stacknames = ['stacksft', 'stackorigrerun', 'stackhkl']\n",
    "wgptnames = ['wgptsft', 'wgptppoorig', 'wgpthkllate']\n"
   ]
  },
  {
   "cell_type": "code",
   "execution_count": null,
   "id": "e845de02-e311-41d7-8ed7-5264a8df53bf",
   "metadata": {},
   "outputs": [],
   "source": [
    "f = fancyscatter('rlcdsftv3', s, 'RLCD')"
   ]
  },
  {
   "cell_type": "code",
   "execution_count": null,
   "id": "a7cb084e-360f-42b4-aee2-1875f9c51a87",
   "metadata": {
    "scrolled": true
   },
   "outputs": [],
   "source": [
    "for s in score_dfs:\n",
    "    if 'sft' in s:\n",
    "        continue\n",
    "    f = fancyscatter('rlcdsftv3', s, 'RLCD')\n",
    "    plt.savefig(s+\".pdf\", format=\"pdf\", bbox_inches=\"tight\")"
   ]
  },
  {
   "cell_type": "code",
   "execution_count": null,
   "id": "69c959c2-251f-4dc2-a492-714c0c28c0db",
   "metadata": {},
   "outputs": [],
   "source": [
    "for s in score_dfs:\n",
    "    if 'sft' in s:\n",
    "        continue\n",
    "    f = fancyscatter('rlcdsftv3', s, 'RLCD')\n",
    "    plt.savefig(s+\".pdf\", format=\"pdf\", bbox_inches=\"tight\")"
   ]
  },
  {
   "cell_type": "code",
   "execution_count": null,
   "id": "f80e3ecf-cd02-4e2b-894f-0de60bb1f8c2",
   "metadata": {},
   "outputs": [],
   "source": [
    "for s in score_dfs:\n",
    "    if 'sft' in s:\n",
    "        continue\n",
    "    f = fancyscatter('wgptsft', s, 'WebGPT')\n",
    "    plt.savefig(s+\".pdf\", format=\"pdf\", bbox_inches=\"tight\")"
   ]
  },
  {
   "cell_type": "code",
   "execution_count": null,
   "id": "fee53fe6-1666-4e0c-b706-b12e2de1aa4c",
   "metadata": {},
   "outputs": [],
   "source": [
    "for s in score_dfs:\n",
    "    if 'sft' in s:\n",
    "        continue\n",
    "    f = fancyscatter('stacksft', s, 'Stack')\n",
    "    plt.savefig(s+\".pdf\", format=\"pdf\", bbox_inches=\"tight\")"
   ]
  },
  {
   "cell_type": "code",
   "execution_count": null,
   "id": "3803fbc2-6ef7-49ed-ac6e-b1b08fd8d60e",
   "metadata": {},
   "outputs": [],
   "source": [
    "adfs = load_alldfs(\"../trl-general/genouts/rlcdfix//\")"
   ]
  },
  {
   "cell_type": "code",
   "execution_count": null,
   "id": "023f2c45-2d42-4813-8156-27a9fd723998",
   "metadata": {},
   "outputs": [],
   "source": [
    "a = bothhists(adfs['rlcdsftv3'], adfs['rlcdorigv3'])\n",
    "plt.savefig(\"rlcddistcomp.pdf\", format=\"pdf\", bbox_inches=\"tight\")"
   ]
  },
  {
   "cell_type": "code",
   "execution_count": null,
   "id": "d22537b5-6df3-488b-8c4c-87771e6dd827",
   "metadata": {},
   "outputs": [],
   "source": [
    "plt.hist(adfs['wgptppoorig'][])"
   ]
  },
  {
   "cell_type": "code",
   "execution_count": null,
   "id": "b3172ae3-1fd3-4ae3-9173-aee5230bb570",
   "metadata": {},
   "outputs": [],
   "source": [
    "plt.hist(adfs['wgptppoorig']['rcnt'])"
   ]
  },
  {
   "cell_type": "code",
   "execution_count": null,
   "id": "fd1cdd92-b419-44b2-ba80-30ab1f9e2ae0",
   "metadata": {},
   "outputs": [],
   "source": [
    "import numpy as np\n",
    "import matplotlib.pyplot as plt\n",
    "\n",
    "# Sample data\n",
    "#x = np.array([1, 2, 3, 4, 5])\n",
    "#red_y = np.array([5, 3, 8, 6, 7])\n",
    "#blue_y = np.array([4, 4, 6, 5, 9])\n",
    "\n",
    "def overlap_vis(x, ry, by, intl):   \n",
    "    plt.figure(figsize=(10, 6))\n",
    "    plt.scatter(x, ry, color='red', label='Red Points')\n",
    "    plt.scatter(x, by, color='blue', label='Blue Points')\n",
    "    \n",
    "    for i in range(1, len(x)):\n",
    "        x_triangle = [x[i - 1], x[i], x[i]]\n",
    "        \n",
    "        # When red is above blue\n",
    "        if ry[i] > by[i]:\n",
    "            y_triangle = [min(by[i - 1], ry[i-1]), by[i], ry[i]]\n",
    "            plt.fill(x_triangle, y_triangle, color='red', alpha=intl[i]/sum(intl))\n",
    "        \n",
    "        # When blue is above or equal to red\n",
    "        else:\n",
    "            y_triangle = [min(ry[i - 1], by[i-1]), ry[i], by[i]]\n",
    "            plt.fill(x_triangle, y_triangle, color='blue', alpha=intl[i]/sum(intl))\n",
    "    \n",
    "    #plt.plot(x, red_y, color='red', alpha=0.5)\n",
    "    #plt.plot(x, blue_y, color='blue', alpha=0.5)\n",
    "    plt.legend()\n",
    "    plt.title(\"Red vs. Blue Points with Triangular Fill\")\n",
    "    plt.xlabel(\"X-values\")\n",
    "    plt.ylabel(\"Y-values\")\n",
    "    plt.show()\n",
    "\n",
    "\n",
    "import matplotlib.pyplot as plt\n",
    "\n",
    "def overlap_vis(x, ry, by, intlist, col):   \n",
    "    \n",
    "    # plt.scatter(x, ry, color='red', label='Red Points')\n",
    "    plt.scatter(x, by, color=col)\n",
    "    \n",
    "    for i in range(len(x)):\n",
    "        alpha_intensity = intlist[i]\n",
    "        \n",
    "        # Calculate arrow properties\n",
    "        dx = 0  # no horizontal movement\n",
    "        dy = ry[i] - by[i]  # vertical distance between blue and red\n",
    "        \n",
    "        # Draw the arrow\n",
    "        #plt.arrow(x[i], by[i], dx, dy, head_width=2, head_length=0.05, fc=arrow_color, ec=arrow_color, alpha=0.2)\n",
    "        plt.arrow(x[i], by[i], dx, dy, head_width=2, head_length=0.05, fc=col, ec=col, alpha=min(1, alpha_intensity*5/sum(intlist)))\n",
    "    \n",
    "    #plt.legend()\n",
    "    #plt.title(\"WGPT\")\n",
    "    #plt.xlabel(\"Length\")\n",
    "    #plt.ylabel(\"Rewarrd\")\n",
    "    #plt.show()"
   ]
  },
  {
   "cell_type": "code",
   "execution_count": 35,
   "id": "b81e7aa9-d09d-46aa-be87-85b5ab770610",
   "metadata": {},
   "outputs": [],
   "source": [
    "def fancyscatter(k1, k2, k3, title, dfs):\n",
    "    # Generate three datasets:\n",
    "    # 1. For the scatter plot\n",
    "    x_scatter = list(range(0, 300, 10))\n",
    "    sfthist = dfs[k1].rcnt\n",
    "    ppohist = dfs[k2].rcnt\n",
    "\n",
    "    sftscatter, scv = binscatter(dfs[k1])\n",
    "    pposcatter, pcv = binscatter(dfs[k2])\n",
    "    lsscatter, lcv = binscatter(dfs[k3])\n",
    "\n",
    "    \n",
    "    diffs = []\n",
    "    ldiffs = []\n",
    "    tval = sum([s for s in scv if s is not None])+sum([s for s in pcv if s is not None])\n",
    "    for i in range(len(sftscatter)):\n",
    "        if sftscatter[i]!=None and pposcatter[i]!=None:\n",
    "            diffs.append((pposcatter[i]-sftscatter[i])*((scv[i]+pcv[i])/tval))\n",
    "        if sftscatter[i]!=None and lsscatter[i]!=None:\n",
    "            ldiffs.append((lsscatter[i]-sftscatter[i])*((scv[i]+lcv[i])/tval))\n",
    "            \n",
    "    print(sum(diffs))\n",
    "    print(sum(ldiffs))\n",
    "    nsft = []\n",
    "    nppo = []\n",
    "    lsft = []\n",
    "    lppo = []\n",
    "    lx = []\n",
    "    nx = []\n",
    "    ints = []\n",
    "    lints = []\n",
    "    for i in range(len(pposcatter)):\n",
    "        if pposcatter[i]!=None and sftscatter[i]!=None:\n",
    "            nsft.append(sftscatter[i])\n",
    "            nppo.append(pposcatter[i])\n",
    "            nx.append(x_scatter[i])\n",
    "            ints.append((scv[i]+pcv[i]))\n",
    "        if sftscatter[i]!=None and lsscatter[i]!=None:\n",
    "            lsft.append(sftscatter[i])\n",
    "            lppo.append(lsscatter[i])\n",
    "            lx.append(x_scatter[i]+4)\n",
    "            lints.append((scv[i]+lcv[i]))\n",
    "    plt.figure(figsize=(10, 6))\n",
    "    overlap_vis(nx, nppo, nsft, ints, 'red')\n",
    "    overlap_vis(lx, lppo, lsft, lints, 'black')\n",
    "    "
   ]
  },
  {
   "cell_type": "code",
   "execution_count": 26,
   "id": "9e3e0a72-732f-4904-9a40-9d4080e1cba3",
   "metadata": {},
   "outputs": [],
   "source": [
    "import pickle"
   ]
  },
  {
   "cell_type": "code",
   "execution_count": 60,
   "id": "01c51396-99fb-4f98-b331-877d2ef8bcda",
   "metadata": {},
   "outputs": [],
   "source": [
    "with open('wgptdata.pkl', 'rb') as f:\n",
    "    wgs = pickle.load(f)\n",
    "with open('rlcddata.pkl', 'rb') as f:\n",
    "    rlcds = pickle.load(f)\n",
    "with open('stackdata.pkl', 'rb') as f:\n",
    "    stacks = pickle.load(f)"
   ]
  },
  {
   "cell_type": "code",
   "execution_count": 41,
   "id": "f5821551-445c-4891-a3ef-602c4d61829b",
   "metadata": {},
   "outputs": [],
   "source": [
    "def binscatter(indf):\n",
    "    mvals = []\n",
    "    cntvals = []\n",
    "    for i in range(0, 300, 15):\n",
    "        tmp = indf[(indf.rcnt>i)&(indf.rcnt<i+15)].copy()\n",
    "        if len(tmp)>1:\n",
    "            mvals.append(tmp.rewards.mean())\n",
    "            cntvals.append(len(tmp))\n",
    "        else:\n",
    "            mvals.append(None)\n",
    "            cntvals.append(None)\n",
    "    return mvals, cntvals\n",
    "\n",
    "def compscatter(k1, k2):\n",
    "    xrange = list(range(0, 300, 10))\n",
    "    ysft = binscatter(adfs[k1])\n",
    "    yppoorig = binscatter(adfs[k2])\n",
    "    diffdist = []\n",
    "    for i in range(len(ysft)):\n",
    "        if ysft[i]!=None and yppoorig[i]!=None:\n",
    "            diffdist.append(yppoorig[i]-ysft[i])\n",
    "    plt.scatter(xrange, ysft, c='blue')\n",
    "    plt.scatter(xrange, yppoorig, c='red')\n",
    "    return mean(diffdist), stdev(diffdist)"
   ]
  },
  {
   "cell_type": "code",
   "execution_count": 42,
   "id": "7c7f3feb-d07a-47bc-b7f8-da8fb09edf7b",
   "metadata": {},
   "outputs": [
    {
     "name": "stdout",
     "output_type": "stream",
     "text": [
      "0.016144314948000595\n",
      "0.03239148182320566\n"
     ]
    },
    {
     "data": {
      "image/png": "[encoded data removed]",
      "text/plain": [
       "<Figure size 1000x600 with 1 Axes>"
      ]
     },
     "metadata": {},
     "output_type": "display_data"
    }
   ],
   "source": [
    "f = fancyscatter(wgptnames[0], wgptnames[1], wgptnames[2], 'wgpt', wgs)\n",
    "plt.savefig(\"webgpt.pdf\", format=\"pdf\", bbox_inches=\"tight\")"
   ]
  },
  {
   "cell_type": "code",
   "execution_count": 38,
   "id": "413fd752-0f94-4ff2-84bc-353c6d0b1e61",
   "metadata": {},
   "outputs": [],
   "source": [
    "def difference_vis(x, ry, by):\n",
    "    plt.figure(figsize=(10, 6))\n",
    "    \n",
    "    # Calculate the differences\n",
    "    differences = [ry[i] - by[i] for i in range(len(x))]\n",
    "    \n",
    "    # Plotting the bars\n",
    "    colors = ['red' if diff > 0 else 'blue' for diff in differences]\n",
    "    plt.bar(x, differences, color=colors, edgecolor='black')\n",
    "\n",
    "    # Setting the labels, title, etc.\n",
    "    plt.axhline(0, color='black',linewidth=0.5)  # Add a horizontal line at y=0 for clarity\n",
    "    plt.title(\"Difference between Red and Blue (Red up, Blue down)\")\n",
    "    plt.xlabel(\"X-values\")\n",
    "    plt.ylabel(\"Difference (Red - Blue)\")\n",
    "    plt.show()"
   ]
  },
  {
   "cell_type": "code",
   "execution_count": 59,
   "id": "443e0e7e-8a0d-4af1-a2b6-5e8e88975bd8",
   "metadata": {},
   "outputs": [
    {
     "ename": "AttributeError",
     "evalue": "'DataFrame' object has no attribute 'rewards'",
     "output_type": "error",
     "traceback": [
      "\u001b[0;31m---------------------------------------------------------------------------\u001b[0m",
      "\u001b[0;31mAttributeError\u001b[0m                            Traceback (most recent call last)",
      "\u001b[0;32m/tmp/ipykernel_3257907/2100008254.py\u001b[0m in \u001b[0;36m?\u001b[0;34m()\u001b[0m\n\u001b[0;32m----> 1\u001b[0;31m \u001b[0mf\u001b[0m \u001b[0;34m=\u001b[0m \u001b[0mfancyscatter\u001b[0m\u001b[0;34m(\u001b[0m\u001b[0mrlcdnames\u001b[0m\u001b[0;34m[\u001b[0m\u001b[0;36m0\u001b[0m\u001b[0;34m]\u001b[0m\u001b[0;34m,\u001b[0m \u001b[0mrlcdnames\u001b[0m\u001b[0;34m[\u001b[0m\u001b[0;36m1\u001b[0m\u001b[0;34m]\u001b[0m\u001b[0;34m,\u001b[0m \u001b[0mrlcdnames\u001b[0m\u001b[0;34m[\u001b[0m\u001b[0;36m2\u001b[0m\u001b[0;34m]\u001b[0m\u001b[0;34m,\u001b[0m \u001b[0;34m'rlcd'\u001b[0m\u001b[0;34m,\u001b[0m \u001b[0mrlcds\u001b[0m\u001b[0;34m)\u001b[0m\u001b[0;34m\u001b[0m\u001b[0;34m\u001b[0m\u001b[0m\n\u001b[0m\u001b[1;32m      2\u001b[0m \u001b[0mplt\u001b[0m\u001b[0;34m.\u001b[0m\u001b[0msavefig\u001b[0m\u001b[0;34m(\u001b[0m\u001b[0;34m\"rlcdarrows.pdf\"\u001b[0m\u001b[0;34m,\u001b[0m \u001b[0mformat\u001b[0m\u001b[0;34m=\u001b[0m\u001b[0;34m\"pdf\"\u001b[0m\u001b[0;34m,\u001b[0m \u001b[0mbbox_inches\u001b[0m\u001b[0;34m=\u001b[0m\u001b[0;34m\"tight\"\u001b[0m\u001b[0;34m)\u001b[0m\u001b[0;34m\u001b[0m\u001b[0;34m\u001b[0m\u001b[0m\n",
      "\u001b[0;32m/tmp/ipykernel_3257907/2496920762.py\u001b[0m in \u001b[0;36m?\u001b[0;34m(k1, k2, k3, title, dfs)\u001b[0m\n\u001b[1;32m      4\u001b[0m     \u001b[0mx_scatter\u001b[0m \u001b[0;34m=\u001b[0m \u001b[0mlist\u001b[0m\u001b[0;34m(\u001b[0m\u001b[0mrange\u001b[0m\u001b[0;34m(\u001b[0m\u001b[0;36m0\u001b[0m\u001b[0;34m,\u001b[0m \u001b[0;36m300\u001b[0m\u001b[0;34m,\u001b[0m \u001b[0;36m10\u001b[0m\u001b[0;34m)\u001b[0m\u001b[0;34m)\u001b[0m\u001b[0;34m\u001b[0m\u001b[0;34m\u001b[0m\u001b[0m\n\u001b[1;32m      5\u001b[0m     \u001b[0msfthist\u001b[0m \u001b[0;34m=\u001b[0m \u001b[0mdfs\u001b[0m\u001b[0;34m[\u001b[0m\u001b[0mk1\u001b[0m\u001b[0;34m]\u001b[0m\u001b[0;34m.\u001b[0m\u001b[0mrcnt\u001b[0m\u001b[0;34m\u001b[0m\u001b[0;34m\u001b[0m\u001b[0m\n\u001b[1;32m      6\u001b[0m     \u001b[0mppohist\u001b[0m \u001b[0;34m=\u001b[0m \u001b[0mdfs\u001b[0m\u001b[0;34m[\u001b[0m\u001b[0mk2\u001b[0m\u001b[0;34m]\u001b[0m\u001b[0;34m.\u001b[0m\u001b[0mrcnt\u001b[0m\u001b[0;34m\u001b[0m\u001b[0;34m\u001b[0m\u001b[0m\n\u001b[1;32m      7\u001b[0m \u001b[0;34m\u001b[0m\u001b[0m\n\u001b[0;32m----> 8\u001b[0;31m     \u001b[0msftscatter\u001b[0m\u001b[0;34m,\u001b[0m \u001b[0mscv\u001b[0m \u001b[0;34m=\u001b[0m \u001b[0mbinscatter\u001b[0m\u001b[0;34m(\u001b[0m\u001b[0mdfs\u001b[0m\u001b[0;34m[\u001b[0m\u001b[0mk1\u001b[0m\u001b[0;34m]\u001b[0m\u001b[0;34m)\u001b[0m\u001b[0;34m\u001b[0m\u001b[0;34m\u001b[0m\u001b[0m\n\u001b[0m\u001b[1;32m      9\u001b[0m     \u001b[0mpposcatter\u001b[0m\u001b[0;34m,\u001b[0m \u001b[0mpcv\u001b[0m \u001b[0;34m=\u001b[0m \u001b[0mbinscatter\u001b[0m\u001b[0;34m(\u001b[0m\u001b[0mdfs\u001b[0m\u001b[0;34m[\u001b[0m\u001b[0mk2\u001b[0m\u001b[0;34m]\u001b[0m\u001b[0;34m)\u001b[0m\u001b[0;34m\u001b[0m\u001b[0;34m\u001b[0m\u001b[0m\n\u001b[1;32m     10\u001b[0m     \u001b[0mlsscatter\u001b[0m\u001b[0;34m,\u001b[0m \u001b[0mlcv\u001b[0m \u001b[0;34m=\u001b[0m \u001b[0mbinscatter\u001b[0m\u001b[0;34m(\u001b[0m\u001b[0mdfs\u001b[0m\u001b[0;34m[\u001b[0m\u001b[0mk3\u001b[0m\u001b[0;34m]\u001b[0m\u001b[0;34m)\u001b[0m\u001b[0;34m\u001b[0m\u001b[0;34m\u001b[0m\u001b[0m\n\u001b[1;32m     11\u001b[0m \u001b[0;34m\u001b[0m\u001b[0m\n",
      "\u001b[0;32m/tmp/ipykernel_3257907/3914033703.py\u001b[0m in \u001b[0;36m?\u001b[0;34m(indf)\u001b[0m\n\u001b[1;32m      3\u001b[0m     \u001b[0mcntvals\u001b[0m \u001b[0;34m=\u001b[0m \u001b[0;34m[\u001b[0m\u001b[0;34m]\u001b[0m\u001b[0;34m\u001b[0m\u001b[0;34m\u001b[0m\u001b[0m\n\u001b[1;32m      4\u001b[0m     \u001b[0;32mfor\u001b[0m \u001b[0mi\u001b[0m \u001b[0;32min\u001b[0m \u001b[0mrange\u001b[0m\u001b[0;34m(\u001b[0m\u001b[0;36m0\u001b[0m\u001b[0;34m,\u001b[0m \u001b[0;36m300\u001b[0m\u001b[0;34m,\u001b[0m \u001b[0;36m15\u001b[0m\u001b[0;34m)\u001b[0m\u001b[0;34m:\u001b[0m\u001b[0;34m\u001b[0m\u001b[0;34m\u001b[0m\u001b[0m\n\u001b[1;32m      5\u001b[0m         \u001b[0mtmp\u001b[0m \u001b[0;34m=\u001b[0m \u001b[0mindf\u001b[0m\u001b[0;34m[\u001b[0m\u001b[0;34m(\u001b[0m\u001b[0mindf\u001b[0m\u001b[0;34m.\u001b[0m\u001b[0mrcnt\u001b[0m\u001b[0;34m>\u001b[0m\u001b[0mi\u001b[0m\u001b[0;34m)\u001b[0m\u001b[0;34m&\u001b[0m\u001b[0;34m(\u001b[0m\u001b[0mindf\u001b[0m\u001b[0;34m.\u001b[0m\u001b[0mrcnt\u001b[0m\u001b[0;34m<\u001b[0m\u001b[0mi\u001b[0m\u001b[0;34m+\u001b[0m\u001b[0;36m15\u001b[0m\u001b[0;34m)\u001b[0m\u001b[0;34m]\u001b[0m\u001b[0;34m.\u001b[0m\u001b[0mcopy\u001b[0m\u001b[0;34m(\u001b[0m\u001b[0;34m)\u001b[0m\u001b[0;34m\u001b[0m\u001b[0;34m\u001b[0m\u001b[0m\n\u001b[1;32m      6\u001b[0m         \u001b[0;32mif\u001b[0m \u001b[0mlen\u001b[0m\u001b[0;34m(\u001b[0m\u001b[0mtmp\u001b[0m\u001b[0;34m)\u001b[0m\u001b[0;34m>\u001b[0m\u001b[0;36m1\u001b[0m\u001b[0;34m:\u001b[0m\u001b[0;34m\u001b[0m\u001b[0;34m\u001b[0m\u001b[0m\n\u001b[0;32m----> 7\u001b[0;31m             \u001b[0mmvals\u001b[0m\u001b[0;34m.\u001b[0m\u001b[0mappend\u001b[0m\u001b[0;34m(\u001b[0m\u001b[0mtmp\u001b[0m\u001b[0;34m.\u001b[0m\u001b[0mrewards\u001b[0m\u001b[0;34m.\u001b[0m\u001b[0mmean\u001b[0m\u001b[0;34m(\u001b[0m\u001b[0;34m)\u001b[0m\u001b[0;34m)\u001b[0m\u001b[0;34m\u001b[0m\u001b[0;34m\u001b[0m\u001b[0m\n\u001b[0m\u001b[1;32m      8\u001b[0m             \u001b[0mcntvals\u001b[0m\u001b[0;34m.\u001b[0m\u001b[0mappend\u001b[0m\u001b[0;34m(\u001b[0m\u001b[0mlen\u001b[0m\u001b[0;34m(\u001b[0m\u001b[0mtmp\u001b[0m\u001b[0;34m)\u001b[0m\u001b[0;34m)\u001b[0m\u001b[0;34m\u001b[0m\u001b[0;34m\u001b[0m\u001b[0m\n\u001b[1;32m      9\u001b[0m         \u001b[0;32melse\u001b[0m\u001b[0;34m:\u001b[0m\u001b[0;34m\u001b[0m\u001b[0;34m\u001b[0m\u001b[0m\n\u001b[1;32m     10\u001b[0m             \u001b[0mmvals\u001b[0m\u001b[0;34m.\u001b[0m\u001b[0mappend\u001b[0m\u001b[0;34m(\u001b[0m\u001b[0;32mNone\u001b[0m\u001b[0;34m)\u001b[0m\u001b[0;34m\u001b[0m\u001b[0;34m\u001b[0m\u001b[0m\n",
      "\u001b[0;32m~/miniconda3/envs/stackenv/lib/python3.10/site-packages/pandas/core/generic.py\u001b[0m in \u001b[0;36m?\u001b[0;34m(self, name)\u001b[0m\n\u001b[1;32m   5985\u001b[0m             \u001b[0;32mand\u001b[0m \u001b[0mname\u001b[0m \u001b[0;32mnot\u001b[0m \u001b[0;32min\u001b[0m \u001b[0mself\u001b[0m\u001b[0;34m.\u001b[0m\u001b[0m_accessors\u001b[0m\u001b[0;34m\u001b[0m\u001b[0;34m\u001b[0m\u001b[0m\n\u001b[1;32m   5986\u001b[0m             \u001b[0;32mand\u001b[0m \u001b[0mself\u001b[0m\u001b[0;34m.\u001b[0m\u001b[0m_info_axis\u001b[0m\u001b[0;34m.\u001b[0m\u001b[0m_can_hold_identifiers_and_holds_name\u001b[0m\u001b[0;34m(\u001b[0m\u001b[0mname\u001b[0m\u001b[0;34m)\u001b[0m\u001b[0;34m\u001b[0m\u001b[0;34m\u001b[0m\u001b[0m\n\u001b[1;32m   5987\u001b[0m         ):\n\u001b[1;32m   5988\u001b[0m             \u001b[0;32mreturn\u001b[0m \u001b[0mself\u001b[0m\u001b[0;34m[\u001b[0m\u001b[0mname\u001b[0m\u001b[0;34m]\u001b[0m\u001b[0;34m\u001b[0m\u001b[0;34m\u001b[0m\u001b[0m\n\u001b[0;32m-> 5989\u001b[0;31m         \u001b[0;32mreturn\u001b[0m \u001b[0mobject\u001b[0m\u001b[0;34m.\u001b[0m\u001b[0m__getattribute__\u001b[0m\u001b[0;34m(\u001b[0m\u001b[0mself\u001b[0m\u001b[0;34m,\u001b[0m \u001b[0mname\u001b[0m\u001b[0;34m)\u001b[0m\u001b[0;34m\u001b[0m\u001b[0;34m\u001b[0m\u001b[0m\n\u001b[0m",
      "\u001b[0;31mAttributeError\u001b[0m: 'DataFrame' object has no attribute 'rewards'"
     ]
    }
   ],
   "source": [
    "f = fancyscatter(rlcdnames[0], rlcdnames[1], rlcdnames[2], 'rlcd', rlcds)\n",
    "plt.savefig(\"rlcdarrows.pdf\", format=\"pdf\", bbox_inches=\"tight\")"
   ]
  },
  {
   "cell_type": "code",
   "execution_count": 195,
   "id": "a47898ef-3589-4c50-a18b-86d87c51e890",
   "metadata": {},
   "outputs": [
    {
     "name": "stdout",
     "output_type": "stream",
     "text": [
      "0.480646136875455\n",
      "0.37575687796765284\n"
     ]
    },
    {
     "data": {
      "image/png": "[encoded data removed]",
      "text/plain": [
       "<Figure size 1000x600 with 1 Axes>"
      ]
     },
     "metadata": {},
     "output_type": "display_data"
    }
   ],
   "source": [
    "f = fancyscatter(stacknames[0], stacknames[1], stacknames[2], 'stack', stacks)\n",
    "plt.savefig(\"stackarrows.pdf\", format=\"pdf\", bbox_inches=\"tight\")"
   ]
  },
  {
   "cell_type": "code",
   "execution_count": null,
   "id": "04638d08-0a6a-4979-8410-f88220764775",
   "metadata": {},
   "outputs": [],
   "source": []
  }
 ],
 "metadata": {
  "kernelspec": {
   "display_name": "Python 3 (ipykernel)",
   "language": "python",
   "name": "python3"
  },
  "language_info": {
   "codemirror_mode": {
    "name": "ipython",
    "version": 3
   },
   "file_extension": ".py",
   "mimetype": "text/x-python",
   "name": "python",
   "nbconvert_exporter": "python",
   "pygments_lexer": "ipython3",
   "version": "3.10.0"
  }
 },
 "nbformat": 4,
 "nbformat_minor": 5
}
