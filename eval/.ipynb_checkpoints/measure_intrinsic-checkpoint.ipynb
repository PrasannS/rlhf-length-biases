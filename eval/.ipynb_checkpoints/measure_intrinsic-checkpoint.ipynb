{
 "cells": [
  {
   "cell_type": "code",
   "execution_count": 1,
   "id": "8cef3f55-378b-4bf1-b448-5ba4147c1f0c",
   "metadata": {},
   "outputs": [],
   "source": [
    "# notebook dedicated to computing various intrinsic metrics to see whether \n",
    "# they corresond to downstream performance and could be useful for RLHF"
   ]
  },
  {
   "cell_type": "code",
   "execution_count": 20,
   "id": "31666650-2efb-45ff-903b-fad8eecde89e",
   "metadata": {},
   "outputs": [
    {
     "name": "stderr",
     "output_type": "stream",
     "text": [
      "[nltk_data] Downloading package punkt to /home/prasann/nltk_data...\n",
      "[nltk_data]   Package punkt is already up-to-date!\n"
     ]
    },
    {
     "data": {
      "text/plain": [
       "True"
      ]
     },
     "execution_count": 20,
     "metadata": {},
     "output_type": "execute_result"
    }
   ],
   "source": [
    "from transformers import AutoTokenizer\n",
    "import pandas as pd\n",
    "from eval_utils import getapfsft, tok_dist\n",
    "import matplotlib.pyplot as plt\n",
    "import re\n",
    "import nltk\n",
    "from nltk.tokenize import sent_tokenize\n",
    "import random\n",
    "nltk.download('punkt')"
   ]
  },
  {
   "cell_type": "code",
   "execution_count": 12,
   "id": "79fc4b94-d74c-4f69-8a50-575cfce280c0",
   "metadata": {},
   "outputs": [
    {
     "name": "stdout",
     "output_type": "stream",
     "text": [
      "The autoreload extension is already loaded. To reload it, use:\n",
      "  %reload_ext autoreload\n"
     ]
    }
   ],
   "source": [
    "%load_ext autoreload\n",
    "%autoreload 2"
   ]
  },
  {
   "cell_type": "code",
   "execution_count": 15,
   "id": "10b4373f-ebe6-4259-8a61-b7811f5a0c32",
   "metadata": {},
   "outputs": [],
   "source": [
    "# replace all wgptouts with corresponding stack QA format (RM input format)\n",
    "def setall(l):\n",
    "    newl = []\n",
    "    try:\n",
    "        for ind in l:\n",
    "            newl.append(getapfsft(ind, True))\n",
    "            #print(0)\n",
    "    except:\n",
    "        return None\n",
    "    return newl\n",
    "\n",
    "def splitall(l):\n",
    "    try: \n",
    "        return [s.split(\"Answer:\")[1] for s in l]\n",
    "    except:\n",
    "        return None\n",
    "\n",
    "def getfulldist(lcol):\n",
    "    hist = []\n",
    "    for l in lcol:\n",
    "        hist.extend(l)\n",
    "    return hist\n",
    "\n",
    "def procall(indf, toker, needset=True):\n",
    "    if needset:\n",
    "        indf['response'] = [setall(s) for s in indf['response']]\n",
    "    indf = indf.dropna()\n",
    "    indf['answers'] = [splitall(s) for s in indf['response']]\n",
    "    indf = indf.dropna()\n",
    "    indf['atoks'] = [tok_dist(s, wgtok) for s in list(indf['answers'])]\n",
    "    indf['ttoks'] = [tok_dist(s, wgtok) for s in list(indf['response'])]\n",
    "    return indf"
   ]
  },
  {
   "cell_type": "code",
   "execution_count": 32,
   "id": "f9f06705-dbf2-4e5f-97ce-4c801846630c",
   "metadata": {},
   "outputs": [],
   "source": [
    "def shuffle_sents(paragraph):\n",
    "    # Use NLTK to split the paragraph into sentences\n",
    "    sentences = sent_tokenize(paragraph)\n",
    "    \n",
    "    # Shuffle the sentences\n",
    "    random.shuffle(sentences)\n",
    "    \n",
    "    # Combine the shuffled sentences back into a paragraph\n",
    "    shuffled_paragraph = ' '.join(sentences)\n",
    "    \n",
    "    return shuffled_paragraph\n",
    "\n",
    "def shuffle_row_resp(row):\n",
    "    # shuffle answers for \n",
    "    shuffans = [shuffle_sents(r) for r in row['answers']]\n",
    "    return [row['response'][i][:-len(row['answers'][i])]+shuffans[i] for i in range(len(shuffans))]\n"
   ]
  },
  {
   "cell_type": "code",
   "execution_count": 33,
   "id": "429b4b78-9818-47db-b883-8df2e589fb3e",
   "metadata": {},
   "outputs": [
    {
     "data": {
      "text/plain": [
       "['Question: I successfully highlight the section in a web page, but send\\\\_keys, `.send_keys(Keys.CONTROL, \"c\")`, does not place the intended text to copy in clipboard, only the last thing I manually copied is in clipboard:\\n\\n```\\nfrom selenium import webdriver \\n\\nfrom selenium.webdriver.common.keys import Keys \\n\\ndriver = webdriver.Firefox() \\n\\ndriver.get(\"http://www.somesite.com\") \\n\\ndriver.find_element_by_id(\"some id\").send_keys(Keys.CONTROL, \"a\") #this successfully highlights section I need to copy \\n\\nelem.send_keys(Keys.CONTROL, \"c\") # this does not actually copy text**\\n\\n```\\n\\nI tried then using the Firefox edit menu to select all and copy text, but didn\\'t work either and cant find anything online to assist other than possible mention of a bug (tried old version of Firefox, but didn\\'t solve issue). Any ideas?\\n\\nAnswer:2.) This line here: `if ((num % 7) == 0 && num != null)` will always be false because `%` returns an integer number when applied to strings or integers so you are comparing an int with another int. You should test for if `(num /= 65536) == 0` instead which tests for division by 65536 That won\\'t return any true values whatsoever!  1.) Your string already looks like that it was split into two strings on `\"%d\"`.',\n",
       " 'Question: I successfully highlight the section in a web page, but send\\\\_keys, `.send_keys(Keys.CONTROL, \"c\")`, does not place the intended text to copy in clipboard, only the last thing I manually copied is in clipboard:\\n\\n```\\nfrom selenium import webdriver \\n\\nfrom selenium.webdriver.common.keys import Keys \\n\\ndriver = webdriver.Firefox() \\n\\ndriver.get(\"http://www.somesite.com\") \\n\\ndriver.find_element_by_id(\"some id\").send_keys(Keys.CONTROL, \"a\") #this successfully highlights section I need to copy \\n\\nelem.send_keys(Keys.CONTROL, \"c\") # this does not actually copy text**\\n\\n```\\n\\nI tried then using the Firefox edit menu to select all and copy text, but didn\\'t work either and cant find anything online to assist other than possible mention of a bug (tried old version of Firefox, but didn\\'t solve issue). Any ideas?\\n\\nAnswer: 1) Add this at top :\\n\\n```\\nfrom selenium.webdriver.chrome._imports import WebDriver as ChromeWebDriver\\nfrom selenium.webdriver.support.ui import Select\\nimport unittest\\nfrom datetime import *\\nimport sys\\nsys.path[0] = r\"C:\\\\Program Files\\\\chromedriver\\\\win32\\\\\"\\nfrom time import sleep , strftime\\n# from selenium.webdriver import ActionChains  \\nclass MyTestCase(unittest.TestCase):   \\n    def setUp(self):pass      \\n    def test_copyPaste(self):    \\n        self.__browser__=ChromeWebDriver([r\"\\\\C:\\\\Python27\\\\selenium-server\\\\.exe\", \"/wd/hub\"])    \\n        sel=Select(self.__browser__.find_element_by_xpath(\\'//div[@data-test=\"select\"]\\'))     \\n        \\n        sel.click()\\n        element = self.__browser__.find_elements_by_css_selector(\".watermark\").last().find_element_by_tag_name(\\'span\\')     \\n        print \\'Element Count : %d\\'%len(element )    \\n        self.',\n",
       " 'Question: I successfully highlight the section in a web page, but send\\\\_keys, `.send_keys(Keys.CONTROL, \"c\")`, does not place the intended text to copy in clipboard, only the last thing I manually copied is in clipboard:\\n\\n```\\nfrom selenium import webdriver \\n\\nfrom selenium.webdriver.common.keys import Keys \\n\\ndriver = webdriver.Firefox() \\n\\ndriver.get(\"http://www.somesite.com\") \\n\\ndriver.find_element_by_id(\"some id\").send_keys(Keys.CONTROL, \"a\") #this successfully highlights section I need to copy \\n\\nelem.send_keys(Keys.CONTROL, \"c\") # this does not actually copy text**\\n\\n```\\n\\nI tried then using the Firefox edit menu to select all and copy text, but didn\\'t work either and cant find anything online to assist other than possible mention of a bug (tried old version of Firefox, but didn\\'t solve issue). Any ideas?\\n\\nAnswer:Right-click on the selected area. Select Copy from drop down list which appears as shown below. With mouse you also right-click anywhere inside selection and choose \\'Select All\\'.  1. You can open Paste dialog box by hitting CTRL + V keys at the same time or just use middle button click while holding Shift key pressed for selecting more range. It may be different with each browser and OS combination.. If there are no visible selections you have left out any elements that cannot be selected easily like images etc., 3. [enter image description here](https://i.stack.imgur.com/N75mR.gif)   \\n(b [enter image description here](https://i.stack.imgur.com/b6HQJ.jpg)(a) Highlight desired text   \\n! [enter image description here](https://i.stack.imgur.com/KY8y9.png)2. ! This will paste that content into your Windows Clipboard. To copy contents of multiple Web pages without pasting them individually onto separate documents one after another, press the following sequence of keys -    \\n! Press [Ctrl]+[V] OR drag&drop file icons between two windows 4.',\n",
       " 'Question: I successfully highlight the section in a web page, but send\\\\_keys, `.send_keys(Keys.CONTROL, \"c\")`, does not place the intended text to copy in clipboard, only the last thing I manually copied is in clipboard:\\n\\n```\\nfrom selenium import webdriver \\n\\nfrom selenium.webdriver.common.keys import Keys \\n\\ndriver = webdriver.Firefox() \\n\\ndriver.get(\"http://www.somesite.com\") \\n\\ndriver.find_element_by_id(\"some id\").send_keys(Keys.CONTROL, \"a\") #this successfully highlights section I need to copy \\n\\nelem.send_keys(Keys.CONTROL, \"c\") # this does not actually copy text**\\n\\n```\\n\\nI tried then using the Firefox edit menu to select all and copy text, but didn\\'t work either and cant find anything online to assist other than possible mention of a bug (tried old version of Firefox, but didn\\'t solve issue). Any ideas?\\n\\nAnswer:You don\\'t know how many times you have to execute that command until your page load complete. Use following function instead of `.click()` method or use below code :\\n\\n```\\n    driver.execute_script(\\'\\'\\'var x=document;x.location=\"link\";return document.title;\\'\\'\\')\\n\\n``` 2. So it makes sense if we set wait condition here itself so later you can skip those unnecessary execution time.  1. Set `waitForPageToLoad` at first line in your code before executing further commands. See **[reference](https://stackoverflow.com/questions/43680795/python-selenium-webelementnotfoundexception-in-url)** for more details on why should do so ?',\n",
       " 'Question: I successfully highlight the section in a web page, but send\\\\_keys, `.send_keys(Keys.CONTROL, \"c\")`, does not place the intended text to copy in clipboard, only the last thing I manually copied is in clipboard:\\n\\n```\\nfrom selenium import webdriver \\n\\nfrom selenium.webdriver.common.keys import Keys \\n\\ndriver = webdriver.Firefox() \\n\\ndriver.get(\"http://www.somesite.com\") \\n\\ndriver.find_element_by_id(\"some id\").send_keys(Keys.CONTROL, \"a\") #this successfully highlights section I need to copy \\n\\nelem.send_keys(Keys.CONTROL, \"c\") # this does not actually copy text**\\n\\n```\\n\\nI tried then using the Firefox edit menu to select all and copy text, but didn\\'t work either and cant find anything online to assist other than possible mention of a bug (tried old version of Firefox, but didn\\'t solve issue). Any ideas?\\n\\nAnswer:So it makes no difference if we are calling from main or constructor or any other method; the code will look same.  1 - `browser` is global variable here which can be used anywhere inside your function or class as you wanted. Like :\\n\\n```\\n$.post(\\'php/mypage.php\\', {data},function(){   //here `console.log($json);//here put whatever logic you want...});\\n\\n``` 2 - If you want your data for further use like printing in console etc., do one more line after getting `data`.',\n",
       " 'Question: I successfully highlight the section in a web page, but send\\\\_keys, `.send_keys(Keys.CONTROL, \"c\")`, does not place the intended text to copy in clipboard, only the last thing I manually copied is in clipboard:\\n\\n```\\nfrom selenium import webdriver \\n\\nfrom selenium.webdriver.common.keys import Keys \\n\\ndriver = webdriver.Firefox() \\n\\ndriver.get(\"http://www.somesite.com\") \\n\\ndriver.find_element_by_id(\"some id\").send_keys(Keys.CONTROL, \"a\") #this successfully highlights section I need to copy \\n\\nelem.send_keys(Keys.CONTROL, \"c\") # this does not actually copy text**\\n\\n```\\n\\nI tried then using the Firefox edit menu to select all and copy text, but didn\\'t work either and cant find anything online to assist other than possible mention of a bug (tried old version of Firefox, but didn\\'t solve issue). Any ideas?\\n\\nAnswer:That way if your computer gets infected with malware or someone tries to mess up your program by making an infinite loop or something else, they don\\'t have access to your desktop at the same time as you and will be unable to run such programs on their own system, assuming you are running Windows for example... ](https://forums.techguy.org/threads/how-to-check-if-anti-virus-software-is-slowing-down-pc.785394/) You can do it through Python or any scripting language you want that allows you to automate. 2.)  1.) It may also help to use something like [Process Explorer](https://docs.microsoft.com/en-us/sysinternals/downloads/process-explorer) from SysInternals to look into what processes and DLL files your anti virus might be calling out when checking things, see [here for more info.',\n",
       " 'Question: I successfully highlight the section in a web page, but send\\\\_keys, `.send_keys(Keys.CONTROL, \"c\")`, does not place the intended text to copy in clipboard, only the last thing I manually copied is in clipboard:\\n\\n```\\nfrom selenium import webdriver \\n\\nfrom selenium.webdriver.common.keys import Keys \\n\\ndriver = webdriver.Firefox() \\n\\ndriver.get(\"http://www.somesite.com\") \\n\\ndriver.find_element_by_id(\"some id\").send_keys(Keys.CONTROL, \"a\") #this successfully highlights section I need to copy \\n\\nelem.send_keys(Keys.CONTROL, \"c\") # this does not actually copy text**\\n\\n```\\n\\nI tried then using the Firefox edit menu to select all and copy text, but didn\\'t work either and cant find anything online to assist other than possible mention of a bug (tried old version of Firefox, but didn\\'t solve issue). Any ideas?\\n\\nAnswer: 1) You should try `driver.executeScript(\"document.getElementById(\\'ID\\').selectionStart=\\'0\\'; document.execCommand(\\'copy\\', false);\")`\\n2) If it doesn\\'t help you can always use [Robot](https://docs.python.org/3/library/robot.html#example-using-the-builtin-classes), for example something like that :\\n\\n```\\nimport robot\\nfor item in driver.find_elements_by_css_selector(\\'#ID\\'):\\n    driver.moveToElement(item).click().perform()\\n\\n## your script here ######## \\n...\\nrobot.keypress(KeyEvent.DOM_VK_INSERT,\"A\".encode()).pause()\\nrobot.keyrelease(KeyEvent.DOM_VK_SPACE).pause()\\nrobot.keypress(KeyEvent.DOM_VK_ENTER,\\'\\'.encode()) .pause()    \\nrobot.keyhold(KeyEvent.DOM_KEYUP).pause()        \\n...\\nfinally:                  \\n    robot.close(); roboctxt.destroy();     \\n\\n```',\n",
       " 'Question: I successfully highlight the section in a web page, but send\\\\_keys, `.send_keys(Keys.CONTROL, \"c\")`, does not place the intended text to copy in clipboard, only the last thing I manually copied is in clipboard:\\n\\n```\\nfrom selenium import webdriver \\n\\nfrom selenium.webdriver.common.keys import Keys \\n\\ndriver = webdriver.Firefox() \\n\\ndriver.get(\"http://www.somesite.com\") \\n\\ndriver.find_element_by_id(\"some id\").send_keys(Keys.CONTROL, \"a\") #this successfully highlights section I need to copy \\n\\nelem.send_keys(Keys.CONTROL, \"c\") # this does not actually copy text**\\n\\n```\\n\\nI tried then using the Firefox edit menu to select all and copy text, but didn\\'t work either and cant find anything online to assist other than possible mention of a bug (tried old version of Firefox, but didn\\'t solve issue). Any ideas?\\n\\nAnswer:* i.e. [enter image description here](https://i.stack.imgur.com/lqXgF.png)\" Here **Version - 48.0.2564.97**  \\n!  1) Open chrome browser by right click on desktop shortcut or run as administrator. Then check for Chrome Web Driver version it should be above 27. you can have something like below shown picture .']"
      ]
     },
     "execution_count": 33,
     "metadata": {},
     "output_type": "execute_result"
    }
   ],
   "source": [
    "shuffle_row_resp(stackouts.loc[0])"
   ]
  },
  {
   "cell_type": "code",
   "execution_count": 5,
   "id": "ac58b71e-c39a-43ba-8117-3fcd263ddc02",
   "metadata": {},
   "outputs": [],
   "source": [
    "stacktok = AutoTokenizer.from_pretrained(\"../stack-llama/models/sft/\")\n",
    "wgtok = AutoTokenizer.from_pretrained(\"../webgpt-llama/models/sft10k/\")"
   ]
  },
  {
   "cell_type": "code",
   "execution_count": 6,
   "id": "0b5418d3-7f8b-475d-99bb-b90616a0e488",
   "metadata": {},
   "outputs": [],
   "source": [
    "stackouts = pd.read_json(\"../trl-general/genouts/generated_stackmultisampset.jsonl\", orient='records', lines=True)\n",
    "wgptouts = pd.read_json(\"../trl-general/genouts/generated_wgptmultisampset.jsonl\", orient='records', lines=True)"
   ]
  },
  {
   "cell_type": "code",
   "execution_count": 7,
   "id": "69eee250-4856-4e2b-8d4b-e620cdfc1269",
   "metadata": {},
   "outputs": [
    {
     "name": "stderr",
     "output_type": "stream",
     "text": [
      "Token indices sequence length is longer than the specified maximum sequence length for this model (872 > 512). Running this sequence through the model will result in indexing errors\n",
      "/tmp/ipykernel_3119224/2154667097.py:28: SettingWithCopyWarning: \n",
      "A value is trying to be set on a copy of a slice from a DataFrame.\n",
      "Try using .loc[row_indexer,col_indexer] = value instead\n",
      "\n",
      "See the caveats in the documentation: https://pandas.pydata.org/pandas-docs/stable/user_guide/indexing.html#returning-a-view-versus-a-copy\n",
      "  indf['answers'] = [splitall(s) for s in indf['response']]\n"
     ]
    }
   ],
   "source": [
    "stackouts = procall(stackouts, stacktok, False)\n",
    "wgptouts = procall(wgptouts, wgtok, True)"
   ]
  },
  {
   "cell_type": "code",
   "execution_count": 48,
   "id": "bac995a2-9dba-4563-a24a-5b2323ba6957",
   "metadata": {},
   "outputs": [
    {
     "data": {
      "text/plain": [
       "(array([ 229.,  526.,  818.,  767.,  656.,  560.,  466.,  340.,  289.,\n",
       "        1709.]),\n",
       " array([  4. ,  30.2,  56.4,  82.6, 108.8, 135. , 161.2, 187.4, 213.6,\n",
       "        239.8, 266. ]),\n",
       " <BarContainer object of 10 artists>)"
      ]
     },
     "execution_count": 48,
     "metadata": {},
     "output_type": "execute_result"
    },
    {
     "data": {
      "image/png": "[encoded data removed]",
      "text/plain": [
       "<Figure size 640x480 with 1 Axes>"
      ]
     },
     "metadata": {},
     "output_type": "display_data"
    }
   ],
   "source": [
    "plt.hist(getfulldist(stackouts.atoks))"
   ]
  },
  {
   "cell_type": "code",
   "execution_count": null,
   "id": "a17e8c36-32bf-4b6c-99e8-1ee746a4b397",
   "metadata": {},
   "outputs": [],
   "source": []
  }
 ],
 "metadata": {
  "kernelspec": {
   "display_name": "Python 3 (ipykernel)",
   "language": "python",
   "name": "python3"
  },
  "language_info": {
   "codemirror_mode": {
    "name": "ipython",
    "version": 3
   },
   "file_extension": ".py",
   "mimetype": "text/x-python",
   "name": "python",
   "nbconvert_exporter": "python",
   "pygments_lexer": "ipython3",
   "version": "3.10.0"
  }
 },
 "nbformat": 4,
 "nbformat_minor": 5
}
