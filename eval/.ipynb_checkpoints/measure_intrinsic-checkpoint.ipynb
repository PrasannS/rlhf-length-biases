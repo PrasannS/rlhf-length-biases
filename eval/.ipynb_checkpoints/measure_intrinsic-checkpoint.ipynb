{
 "cells": [
  {
   "cell_type": "code",
   "execution_count": 1,
   "id": "8cef3f55-378b-4bf1-b448-5ba4147c1f0c",
   "metadata": {},
   "outputs": [],
   "source": [
    "# notebook dedicated to computing various intrinsic metrics to see whether \n",
    "# they corresond to downstream performance and could be useful for RLHF"
   ]
  },
  {
   "cell_type": "code",
   "execution_count": 69,
   "id": "31666650-2efb-45ff-903b-fad8eecde89e",
   "metadata": {},
   "outputs": [
    {
     "name": "stderr",
     "output_type": "stream",
     "text": [
      "[nltk_data] Downloading package punkt to /home/prasann/nltk_data...\n",
      "[nltk_data]   Package punkt is already up-to-date!\n"
     ]
    },
    {
     "data": {
      "text/plain": [
       "True"
      ]
     },
     "execution_count": 20,
     "metadata": {},
     "output_type": "execute_result"
    }
   ],
   "source": [
    "from transformers import AutoTokenizer\n",
    "import pandas as pd\n",
    "from rlhfutils.eval_utils import getapfsft, tok_dist\n",
    "import matplotlib.pyplot as plt\n",
    "from rlhfutils.debug_utils import load_rm, progress_rm, load_all_rmdfs\n",
    "from statistics import mean, stdev\n",
    "from scipy.stats import pearsonr, kendalltau, spearmanr"
   ]
  },
  {
   "cell_type": "code",
   "execution_count": 4,
   "id": "79fc4b94-d74c-4f69-8a50-575cfce280c0",
   "metadata": {},
   "outputs": [
    {
     "name": "stdout",
     "output_type": "stream",
     "text": [
      "The autoreload extension is already loaded. To reload it, use:\n",
      "  %reload_ext autoreload\n"
     ]
    }
   ],
   "source": [
    "%load_ext autoreload\n",
    "%autoreload 2"
   ]
  },
  {
   "cell_type": "code",
   "execution_count": 7,
   "id": "10b4373f-ebe6-4259-8a61-b7811f5a0c32",
   "metadata": {},
   "outputs": [],
   "source": [
    "# replace all wgptouts with corresponding stack QA format (RM input format)\n",
    "def setall(l):\n",
    "    newl = []\n",
    "    try:\n",
    "        for ind in l:\n",
    "            newl.append(getapfsft(ind, True))\n",
    "            #print(0)\n",
    "    except:\n",
    "        return None\n",
    "    return newl\n",
    "\n",
    "def splitall(l):\n",
    "    try: \n",
    "        return [s.split(\"Answer:\")[1] for s in l]\n",
    "    except:\n",
    "        return None\n",
    "\n",
    "def getfulldist(lcol):\n",
    "    hist = []\n",
    "    for l in lcol:\n",
    "        hist.extend(l)\n",
    "    return hist\n",
    "\n",
    "def compdist(lcol, slen):\n",
    "    res = []\n",
    "    tmp = []\n",
    "    for i in range(len(lcol)):\n",
    "        tmp.append(lcol[i])\n",
    "        if len(tmp)%slen==0:\n",
    "            res.append(tmp)\n",
    "            tmp = []\n",
    "    return res\n",
    "    \n",
    "def procall(indf, toker, needset=True):\n",
    "    if needset:\n",
    "        indf['response'] = [setall(s) for s in indf['response']]\n",
    "    indf = indf.dropna()\n",
    "    indf['answers'] = [splitall(s) for s in indf['response']]\n",
    "    indf = indf.dropna()\n",
    "    indf['atoks'] = [tok_dist(s, wgtok) for s in list(indf['answers'])]\n",
    "    indf['ttoks'] = [tok_dist(s, wgtok) for s in list(indf['response'])]\n",
    "    return indf\n",
    "    "
   ]
  },
  {
   "cell_type": "code",
   "execution_count": 8,
   "id": "ac58b71e-c39a-43ba-8117-3fcd263ddc02",
   "metadata": {},
   "outputs": [],
   "source": [
    "stacktok = AutoTokenizer.from_pretrained(\"../stack-llama/models/sft/\")\n",
    "wgtok = AutoTokenizer.from_pretrained(\"../webgpt-llama/models/sft10k/\")"
   ]
  },
  {
   "cell_type": "code",
   "execution_count": null,
   "id": "80b58527-780a-40eb-8a75-d6cdfcd26308",
   "metadata": {},
   "outputs": [],
   "source": [
    "tok, stackorigrm, kwargs = load_rm(\"../stack-llama/models/rewardbigdset/\", 0)"
   ]
  },
  {
   "cell_type": "code",
   "execution_count": 40,
   "id": "653532b8-bc5e-470e-aee2-a89209d738b9",
   "metadata": {},
   "outputs": [],
   "source": [
    "rmdfs = load_all_rmdfs(\"../trl-general/rmouts/\")"
   ]
  },
  {
   "cell_type": "code",
   "execution_count": 43,
   "id": "5fc8c3e8-9ac2-498c-9a2a-b295dfad96ce",
   "metadata": {},
   "outputs": [
    {
     "data": {
      "text/plain": [
       "dict_keys(['stack_rewardmixed', 'wgpt_rewardmodel', 'wgpt_rewardrandda', 'stack_rewardda', 'stack_rewardsanity', 'stack_rewardrandaug'])"
      ]
     },
     "execution_count": 43,
     "metadata": {},
     "output_type": "execute_result"
    }
   ],
   "source": [
    "rmdfs.keys()"
   ]
  },
  {
   "cell_type": "code",
   "execution_count": 71,
   "id": "937751b1-4cc0-46ab-892d-1b35dd6ed77f",
   "metadata": {},
   "outputs": [],
   "source": [
    "keyval = \"stack_rewardrandaug\""
   ]
  },
  {
   "cell_type": "code",
   "execution_count": 80,
   "id": "ca214c9f-621b-4728-af95-98af75e428d8",
   "metadata": {},
   "outputs": [],
   "source": [
    "def getcorr(row, pearson=False):\n",
    "    return pearsonr(row['atoks'], row['reward']).statistic"
   ]
  },
  {
   "cell_type": "code",
   "execution_count": 81,
   "id": "3e67a3b1-ea7f-47e4-870b-3e9da3f82229",
   "metadata": {},
   "outputs": [
    {
     "name": "stdout",
     "output_type": "stream",
     "text": [
      "stack_rewardmixed\n",
      "0.26950082145072624\n",
      "0.26950082145072624\n",
      "wgpt_rewardmodel\n"
     ]
    },
    {
     "name": "stderr",
     "output_type": "stream",
     "text": [
      "/home/prasann/miniconda3/envs/rlenv/lib/python3.9/site-packages/scipy/stats/_stats_py.py:4781: ConstantInputWarning: An input array is constant; the correlation coefficient is not defined.\n",
      "  warnings.warn(stats.ConstantInputWarning(msg))\n"
     ]
    },
    {
     "name": "stdout",
     "output_type": "stream",
     "text": [
      "nan\n",
      "nan\n",
      "wgpt_rewardrandda\n",
      "nan\n",
      "nan\n",
      "stack_rewardda\n",
      "0.4192680794305942\n",
      "0.4192680794305942\n",
      "stack_rewardsanity\n",
      "0.3991052727728961\n",
      "0.3991052727728961\n",
      "stack_rewardrandaug\n",
      "nan\n",
      "nan\n"
     ]
    }
   ],
   "source": [
    "for k in rmdfs.keys():\n",
    "    print(k)\n",
    "    keyval = k\n",
    "    sps = [getcorr(r, True) for _, r in rmdfs[k].iterrows()]\n",
    "    print(mean())\n",
    "    print(mean([getcorr(r, False) for _, r in rmdfs[k].iterrows()]))\n",
    "    #print(spearmanr(getfulldist(rmdfs[keyval].reward), getfulldist(rmdfs[keyval].atoks)))\n",
    "    #print(kendalltau(getfulldist(rmdfs[keyval].reward), getfulldist(rmdfs[keyval].atoks)))"
   ]
  },
  {
   "cell_type": "code",
   "execution_count": 77,
   "id": "98be364f-8058-47a8-b44b-9081b92ca4a0",
   "metadata": {},
   "outputs": [
    {
     "name": "stdout",
     "output_type": "stream",
     "text": [
      "stack_rewardmixed\n",
      "PearsonRResult(statistic=0.2672622523460555, pvalue=1.805221155754532e-104)\n",
      "SignificanceResult(statistic=0.18983892319166965, pvalue=9.375605891231615e-110)\n",
      "wgpt_rewardmodel\n",
      "PearsonRResult(statistic=0.7203559361443845, pvalue=0.0)\n",
      "SignificanceResult(statistic=0.5461259889969634, pvalue=0.0)\n",
      "wgpt_rewardrandda\n",
      "PearsonRResult(statistic=0.35008700058864906, pvalue=1.078352255875229e-183)\n",
      "SignificanceResult(statistic=0.24841883523695327, pvalue=3.0382598842641565e-193)\n",
      "stack_rewardda\n",
      "PearsonRResult(statistic=0.39807028820750323, pvalue=1.6318851415590007e-240)\n",
      "SignificanceResult(statistic=0.26913799432543156, pvalue=1.4686512538592548e-218)\n",
      "stack_rewardsanity\n",
      "PearsonRResult(statistic=0.4000083841855456, pvalue=4.6844858700411115e-243)\n",
      "SignificanceResult(statistic=0.2742147824396712, pvalue=8.417695249029522e-227)\n",
      "stack_rewardrandaug\n",
      "PearsonRResult(statistic=0.3668647912494229, pvalue=7.313531065455532e-202)\n",
      "SignificanceResult(statistic=0.2527251112875364, pvalue=5.8503089020756e-193)\n"
     ]
    }
   ],
   "source": [
    "for k in rmdfs.keys():\n",
    "    print(k)\n",
    "    keyval = k\n",
    "    print(pearsonr(getfulldist(rmdfs[keyval].reward), getfulldist(rmdfs[keyval].atoks)))\n",
    "    #print(spearmanr(getfulldist(rmdfs[keyval].reward), getfulldist(rmdfs[keyval].atoks)))\n",
    "    print(kendalltau(getfulldist(rmdfs[keyval].reward), getfulldist(rmdfs[keyval].atoks)))"
   ]
  },
  {
   "cell_type": "code",
   "execution_count": null,
   "id": "623f8223-8204-48e0-8ec2-185cd0e055cb",
   "metadata": {},
   "outputs": [],
   "source": [
    "print(mean([stdev(s) for s in rmdfs[keyval].reward])/stdev(getfulldist(rmdfs[keyval].reward)))\n",
    "plt.hist([stdev(s) for s in rmdfs[keyval].reward])"
   ]
  },
  {
   "cell_type": "code",
   "execution_count": null,
   "id": "1ad85220-bbe5-45ca-91cf-72cf9d054a54",
   "metadata": {},
   "outputs": [],
   "source": [
    "wgptorigrm = load_rm(\"../tr\")"
   ]
  },
  {
   "cell_type": "code",
   "execution_count": 11,
   "id": "2d1fcce4-0963-4979-b4ad-3b4f80f895e2",
   "metadata": {},
   "outputs": [],
   "source": [
    "allresps = getfulldist(stackouts.response)"
   ]
  },
  {
   "cell_type": "code",
   "execution_count": 16,
   "id": "3d20a0ef-d291-4d27-8712-ef00f5b23f07",
   "metadata": {},
   "outputs": [
    {
     "name": "stderr",
     "output_type": "stream",
     "text": [
      " 57%|██████████████████████████████████████████████████████████████████████████████▊                                                           | 4/7 [00:32<00:27,  9.12s/it]/home/prasann/miniconda3/envs/rlenv/lib/python3.9/site-packages/transformers/pipelines/base.py:1083: UserWarning: You seem to be using the pipelines sequentially on GPU. In order to maximize efficiency please use a dataset\n",
      "  warnings.warn(\n",
      "100%|██████████████████████████████████████████████████████████████████████████████████████████████████████████████████████████████████████████| 7/7 [00:49<00:00,  7.09s/it]\n"
     ]
    }
   ],
   "source": [
    "allscos = progress_rm(allresps[:100], stackorigrm, kwargs)"
   ]
  },
  {
   "cell_type": "code",
   "execution_count": null,
   "id": "8b480b39-54ff-4656-9450-fedceb9d6a8f",
   "metadata": {},
   "outputs": [],
   "source": [
    "compdist([a[0]['score'] for a in allscos], 8)"
   ]
  },
  {
   "cell_type": "code",
   "execution_count": 8,
   "id": "bac995a2-9dba-4563-a24a-5b2323ba6957",
   "metadata": {},
   "outputs": [
    {
     "data": {
      "text/plain": [
       "(array([ 229.,  526.,  818.,  767.,  656.,  560.,  466.,  340.,  289.,\n",
       "        1709.]),\n",
       " array([  4. ,  30.2,  56.4,  82.6, 108.8, 135. , 161.2, 187.4, 213.6,\n",
       "        239.8, 266. ]),\n",
       " <BarContainer object of 10 artists>)"
      ]
     },
     "execution_count": 8,
     "metadata": {},
     "output_type": "execute_result"
    },
    {
     "data": {
      "image/png": "[encoded data removed]",
      "text/plain": [
       "<Figure size 640x480 with 1 Axes>"
      ]
     },
     "metadata": {},
     "output_type": "display_data"
    }
   ],
   "source": [
    "plt.hist(getfulldist(stackouts.atoks))"
   ]
  },
  {
   "cell_type": "code",
   "execution_count": null,
   "id": "a17e8c36-32bf-4b6c-99e8-1ee746a4b397",
   "metadata": {},
   "outputs": [],
   "source": []
  }
 ],
 "metadata": {
  "kernelspec": {
   "display_name": "Python 3 (ipykernel)",
   "language": "python",
   "name": "python3"
  },
  "language_info": {
   "codemirror_mode": {
    "name": "ipython",
    "version": 3
   },
   "file_extension": ".py",
   "mimetype": "text/x-python",
   "name": "python",
   "nbconvert_exporter": "python",
   "pygments_lexer": "ipython3",
   "version": "3.9.0"
  }
 },
 "nbformat": 4,
 "nbformat_minor": 5
}
