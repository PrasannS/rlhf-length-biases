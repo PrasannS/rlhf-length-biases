{
 "cells": [
  {
   "cell_type": "code",
   "execution_count": 1,
   "id": "595aa5d2-e179-4f0e-bb67-4affa30ed47b",
   "metadata": {},
   "outputs": [
    {
     "name": "stderr",
     "output_type": "stream",
     "text": [
      "/home/prasann/miniconda3/envs/stackenv/lib/python3.10/site-packages/tqdm/auto.py:21: TqdmWarning: IProgress not found. Please update jupyter and ipywidgets. See https://ipywidgets.readthedocs.io/en/stable/user_install.html\n",
      "  from .autonotebook import tqdm as notebook_tqdm\n"
     ]
    }
   ],
   "source": [
    "from eval_utils import oai_kwargs, load_alldfs, annotate_apfarm, apf_format\n",
    "import pandas as pd\n",
    "from statistics import mean\n",
    "import matplotlib.pyplot as plt\n",
    "import re\n",
    "from transformers import AutoTokenizer"
   ]
  },
  {
   "cell_type": "code",
   "execution_count": 5,
   "id": "a3a79fae-7970-4fdc-b735-d1c023dcff64",
   "metadata": {},
   "outputs": [],
   "source": [
    "stackout = pd.read_json(\"../trl-general/generated_wgptppoorig.jsonl\", orient='records', lines=True)\n",
    "toker = AutoTokenizer.from_pretrained(\"/home/prasann/Projects/tfr-decoding/apfarm_models/sft10k\")"
   ]
  },
  {
   "cell_type": "code",
   "execution_count": 6,
   "id": "cd1081b9-f56c-4020-95a5-d0c3c72a26a8",
   "metadata": {},
   "outputs": [
    {
     "data": {
      "text/plain": [
       "{'input_ids': [1, 673, 29901], 'attention_mask': [1, 1, 1]}"
      ]
     },
     "execution_count": 6,
     "metadata": {},
     "output_type": "execute_result"
    }
   ],
   "source": [
    "toker.decode(\"Answer:\")"
   ]
  },
  {
   "cell_type": "code",
   "execution_count": 11,
   "id": "f18a8bab-f85d-45dc-b554-54e6e72afbf2",
   "metadata": {},
   "outputs": [
    {
     "data": {
      "text/plain": [
       "54"
      ]
     },
     "execution_count": 11,
     "metadata": {},
     "output_type": "execute_result"
    }
   ],
   "source": [
    "toker(stackout['response'][1]).input_ids.index(13291)"
   ]
  },
  {
   "cell_type": "code",
   "execution_count": 2,
   "id": "88b17e95-9bf1-4ef9-8698-c40b100cffd4",
   "metadata": {},
   "outputs": [],
   "source": [
    "%load_ext autoreload\n",
    "%autoreload 2"
   ]
  },
  {
   "cell_type": "code",
   "execution_count": 3,
   "id": "d92e11cb-52f1-4022-8750-eb66899885e4",
   "metadata": {},
   "outputs": [],
   "source": [
    "adfs = load_alldfs(\"../trl-general/genouts/\")"
   ]
  },
  {
   "cell_type": "code",
   "execution_count": 4,
   "id": "fa1103f5-5f40-4776-b466-72e75f50ca95",
   "metadata": {},
   "outputs": [
    {
     "data": {
      "text/plain": [
       "dict_keys(['stacksft', 'stackda125', 'webgptdappov2125', 'wgptppoorig', 'wgptsft', 'webgptdappo', 'stackbig150', 'webgptdappov250'])"
      ]
     },
     "execution_count": 4,
     "metadata": {},
     "output_type": "execute_result"
    }
   ],
   "source": [
    "adfs.keys()"
   ]
  },
  {
   "cell_type": "code",
   "execution_count": 5,
   "id": "f917c15b-74e4-48d5-bed5-c82c2d75e603",
   "metadata": {},
   "outputs": [],
   "source": [
    "tmpdf = adfs['wgptsft']"
   ]
  },
  {
   "cell_type": "code",
   "execution_count": 7,
   "id": "dbabd3c5-c330-4562-95d3-6e14e93e668d",
   "metadata": {},
   "outputs": [],
   "source": []
  },
  {
   "cell_type": "code",
   "execution_count": 14,
   "id": "e3002f1c-0368-4e38-91b3-4a759f273e39",
   "metadata": {},
   "outputs": [
    {
     "data": {
      "text/plain": [
       "'Adults typically do not roll out of beds because they tend to be heavier than children and therefore harder to move. Additionally, most adults have established sleeping positions which make rolling around difficult or even painful. Finally, many people choose to remain in their beds throughout the day as well as at night, so there would be no need for them to get up and roll away from their beds.'"
      ]
     },
     "execution_count": 7,
     "metadata": {},
     "output_type": "execute_result"
    }
   ],
   "source": [
    "adfs['webgptdappov2125']['response'][1]"
   ]
  },
  {
   "cell_type": "code",
   "execution_count": 8,
   "id": "d30c97ef-fb96-4bb9-bda2-60c0bbbec4bd",
   "metadata": {},
   "outputs": [],
   "source": [
    "everything = pd.concat(list(adfs.values()))"
   ]
  },
  {
   "cell_type": "code",
   "execution_count": 9,
   "id": "1f1be82f-37d4-4ab6-b61b-76de81408c09",
   "metadata": {},
   "outputs": [
    {
     "data": {
      "text/html": [
       "<div>\n",
       "<style scoped>\n",
       "    .dataframe tbody tr th:only-of-type {\n",
       "        vertical-align: middle;\n",
       "    }\n",
       "\n",
       "    .dataframe tbody tr th {\n",
       "        vertical-align: top;\n",
       "    }\n",
       "\n",
       "    .dataframe thead th {\n",
       "        text-align: right;\n",
       "    }\n",
       "</style>\n",
       "<table border=\"1\" class=\"dataframe\">\n",
       "  <thead>\n",
       "    <tr style=\"text-align: right;\">\n",
       "      <th></th>\n",
       "      <th>question</th>\n",
       "      <th>response</th>\n",
       "      <th>wcnt</th>\n",
       "      <th>rcnt</th>\n",
       "    </tr>\n",
       "  </thead>\n",
       "  <tbody>\n",
       "    <tr>\n",
       "      <th>0</th>\n",
       "      <td>- How does the American Health Care system wor...</td>\n",
       "      <td>The United States has both public and private ...</td>\n",
       "      <td>78</td>\n",
       "      <td>135</td>\n",
       "    </tr>\n",
       "    <tr>\n",
       "      <th>1</th>\n",
       "      <td>. Why is it adults don't roll off of the bed ?...</td>\n",
       "      <td>Adults typically do not roll out of beds becau...</td>\n",
       "      <td>21</td>\n",
       "      <td>70</td>\n",
       "    </tr>\n",
       "    <tr>\n",
       "      <th>2</th>\n",
       "      <td>: the whole pappa johns scandal that happened ...</td>\n",
       "      <td>The \"Papa John's Scandal\" occurred when the co...</td>\n",
       "      <td>27</td>\n",
       "      <td>84</td>\n",
       "    </tr>\n",
       "    <tr>\n",
       "      <th>3</th>\n",
       "      <td>A strong magnet will separate a mixture of\\nA....</td>\n",
       "      <td>The correct answer is D. A strong magnet will ...</td>\n",
       "      <td>26</td>\n",
       "      <td>69</td>\n",
       "    </tr>\n",
       "    <tr>\n",
       "      <th>4</th>\n",
       "      <td>A] What Boehner’s office did and how it affect...</td>\n",
       "      <td>John Boehner is currently the Speaker of the H...</td>\n",
       "      <td>72</td>\n",
       "      <td>126</td>\n",
       "    </tr>\n",
       "    <tr>\n",
       "      <th>...</th>\n",
       "      <td>...</td>\n",
       "      <td>...</td>\n",
       "      <td>...</td>\n",
       "      <td>...</td>\n",
       "    </tr>\n",
       "    <tr>\n",
       "      <th>95</th>\n",
       "      <td>What is New Materialism?</td>\n",
       "      <td>New Materialism is an interdisciplinary approa...</td>\n",
       "      <td>4</td>\n",
       "      <td>101</td>\n",
       "    </tr>\n",
       "    <tr>\n",
       "      <th>96</th>\n",
       "      <td>What is an 'intellectual property'. What do pe...</td>\n",
       "      <td>An intellectual property (IP) is a type of leg...</td>\n",
       "      <td>11</td>\n",
       "      <td>107</td>\n",
       "    </tr>\n",
       "    <tr>\n",
       "      <th>97</th>\n",
       "      <td>What is dark matter?</td>\n",
       "      <td>Dark matter is an invisible substance that mak...</td>\n",
       "      <td>4</td>\n",
       "      <td>120</td>\n",
       "    </tr>\n",
       "    <tr>\n",
       "      <th>98</th>\n",
       "      <td>What is permanent shadow? How is it formed?</td>\n",
       "      <td>Permanent shadows are cast by objects that rem...</td>\n",
       "      <td>8</td>\n",
       "      <td>123</td>\n",
       "    </tr>\n",
       "    <tr>\n",
       "      <th>99</th>\n",
       "      <td>What is the difference between Term  &amp;  Whole/...</td>\n",
       "      <td>The main differences between term and whole (o...</td>\n",
       "      <td>95</td>\n",
       "      <td>200</td>\n",
       "    </tr>\n",
       "  </tbody>\n",
       "</table>\n",
       "<p>100 rows × 4 columns</p>\n",
       "</div>"
      ],
      "text/plain": [
       "                                             question  \\\n",
       "0   - How does the American Health Care system wor...   \n",
       "1   . Why is it adults don't roll off of the bed ?...   \n",
       "2   : the whole pappa johns scandal that happened ...   \n",
       "3   A strong magnet will separate a mixture of\\nA....   \n",
       "4   A] What Boehner’s office did and how it affect...   \n",
       "..                                                ...   \n",
       "95                           What is New Materialism?   \n",
       "96  What is an 'intellectual property'. What do pe...   \n",
       "97                               What is dark matter?   \n",
       "98        What is permanent shadow? How is it formed?   \n",
       "99  What is the difference between Term  &  Whole/...   \n",
       "\n",
       "                                             response  wcnt  rcnt  \n",
       "0   The United States has both public and private ...    78   135  \n",
       "1   Adults typically do not roll out of beds becau...    21    70  \n",
       "2   The \"Papa John's Scandal\" occurred when the co...    27    84  \n",
       "3   The correct answer is D. A strong magnet will ...    26    69  \n",
       "4   John Boehner is currently the Speaker of the H...    72   126  \n",
       "..                                                ...   ...   ...  \n",
       "95  New Materialism is an interdisciplinary approa...     4   101  \n",
       "96  An intellectual property (IP) is a type of leg...    11   107  \n",
       "97  Dark matter is an invisible substance that mak...     4   120  \n",
       "98  Permanent shadows are cast by objects that rem...     8   123  \n",
       "99  The main differences between term and whole (o...    95   200  \n",
       "\n",
       "[100 rows x 4 columns]"
      ]
     },
     "execution_count": 9,
     "metadata": {},
     "output_type": "execute_result"
    }
   ],
   "source": [
    "adfs['webgptdappov2125']"
   ]
  },
  {
   "cell_type": "code",
   "execution_count": 13,
   "id": "3298294f-b984-4e9d-b30e-ad837639aa26",
   "metadata": {},
   "outputs": [
    {
     "data": {
      "text/plain": [
       "dict_keys(['stacksft', 'stackda125', 'webgptdappov2125', 'wgptppoorig', 'wgptsft', 'webgptdappo', 'stackbig150', 'webgptdappov250'])"
      ]
     },
     "execution_count": 13,
     "metadata": {},
     "output_type": "execute_result"
    }
   ],
   "source": [
    "adfs.keys()"
   ]
  },
  {
   "cell_type": "code",
   "execution_count": 14,
   "id": "02abfc9b-0f34-4574-8f30-b025732cc195",
   "metadata": {
    "scrolled": true
   },
   "outputs": [
    {
     "name": "stderr",
     "output_type": "stream",
     "text": [
      "INFO:root:Creating the annotator from `annotator_pool_v0/configs.yaml`.\n",
      "INFO:root:Saving annotations to `/home/prasann/miniconda3/envs/stackenv/lib/python3.10/site-packages/alpaca_farm/auto_annotations/annotators/annotator_pool_v0/annotations_seed0_configs.json`.\n",
      "INFO:root:Loading all annotations from /home/prasann/miniconda3/envs/stackenv/lib/python3.10/site-packages/alpaca_farm/auto_annotations/annotators/annotator_pool_v0/annotations_seed0_configs.json.\n",
      "Annotation chunk:   0%|                                                                                                                                                  | 0/1 [00:00<?, ?it/s]INFO:root:Annotating 10 examples with gpt4_1\n",
      "INFO:root:Using `openai_completions` on 3 prompts using gpt-4-0314.\n",
      "INFO:root:Kwargs to completion: {'temperature': 1.0}\n",
      "INFO:root:Kwargs to completion: {'n': 1, 'model': 'gpt-4-0314', 'is_chat': True, 'temperature': 1.0}\n",
      "\n",
      "prompt_batches: 0it [00:00, ?it/s]\u001b[A\n",
      "prompt_batches: 1it [00:16, 16.42s/it]\u001b[A\n",
      "prompt_batches: 2it [00:30, 14.98s/it]\u001b[A\n",
      "prompt_batches: 3it [01:00, 20.21s/it]\u001b[A\n",
      "INFO:root:Completed 3 examples in 60.6 seconds.\n",
      "INFO:root:Annotating 9 examples with gpt4_2\n",
      "INFO:root:Using `openai_completions` on 2 prompts using gpt-4-0314.\n",
      "INFO:root:Kwargs to completion: {'temperature': 1.0}\n",
      "INFO:root:Kwargs to completion: {'n': 1, 'model': 'gpt-4-0314', 'is_chat': True, 'temperature': 1.0}\n",
      "\n",
      "prompt_batches: 0it [00:00, ?it/s]\u001b[A\n",
      "prompt_batches: 1it [00:17, 17.96s/it]\u001b[A\n",
      "prompt_batches: 2it [00:24, 12.35s/it]\u001b[A\n",
      "INFO:root:Completed 2 examples in 24.7 seconds.\n",
      "INFO:root:Annotating 3 examples with gpt4_3\n",
      "INFO:root:Using `openai_completions` on 1 prompts using gpt-4-0314.\n",
      "INFO:root:Kwargs to completion: {'temperature': 1.0}\n",
      "INFO:root:Kwargs to completion: {'n': 1, 'model': 'gpt-4-0314', 'is_chat': True, 'temperature': 1.0}\n",
      "\n",
      "prompt_batches: 0it [00:00, ?it/s]\u001b[A\n",
      "prompt_batches: 1it [00:17, 17.56s/it]\u001b[A\n",
      "INFO:root:Completed 1 examples in 17.6 seconds.\n",
      "INFO:root:Annotating 3 examples with gpt4_4\n",
      "INFO:root:Using `openai_completions` on 3 prompts using gpt-4-0314.\n",
      "INFO:root:Kwargs to completion: {'temperature': 1.0, 'logit_bias': {21279: -100, 63295: -100, 4155: -100, 11995: -100, 25215: -100, 50344: -100, 59047: -100, 2196: -100, 2181: -100, 21704: -100, 19701: -100, 5207: 7, 320: 7, 64: 7, 8: 7, 65: 7}}\n",
      "INFO:root:Kwargs to completion: {'n': 1, 'model': 'gpt-4-0314', 'is_chat': True, 'temperature': 1.0, 'logit_bias': {21279: -100, 63295: -100, 4155: -100, 11995: -100, 25215: -100, 50344: -100, 59047: -100, 2196: -100, 2181: -100, 21704: -100, 19701: -100, 5207: 7, 320: 7, 64: 7, 8: 7, 65: 7}}\n",
      "\n",
      "prompt_batches: 0it [00:00, ?it/s]\u001b[A\n",
      "prompt_batches: 1it [00:01,  1.81s/it]\u001b[A\n",
      "prompt_batches: 2it [00:03,  1.69s/it]\u001b[A\n",
      "prompt_batches: 3it [00:04,  1.48s/it]\u001b[A\n",
      "INFO:root:Completed 3 examples in 4.4 seconds.\n",
      "INFO:root:Annotating 5 examples with gpt4_5\n",
      "INFO:root:Using `openai_completions` on 1 prompts using gpt-4-0314.\n",
      "INFO:root:Kwargs to completion: {'temperature': 1.0}\n",
      "INFO:root:Kwargs to completion: {'n': 1, 'model': 'gpt-4-0314', 'is_chat': True, 'temperature': 1.0}\n",
      "\n",
      "prompt_batches: 0it [00:00, ?it/s]\u001b[A\n",
      "prompt_batches: 1it [00:18, 18.02s/it]\u001b[A\n",
      "INFO:root:Completed 1 examples in 18.0 seconds.\n",
      "INFO:root:Annotating 11 examples with chatgpt_1\n",
      "INFO:root:Using `openai_completions` on 11 prompts using gpt-3.5-turbo-0301.\n",
      "INFO:root:Kwargs to completion: {'temperature': 1.0, 'logit_bias': {21279: -100, 63295: -100, 4155: -100, 11995: -100, 25215: -100, 50344: -100, 59047: -100, 2196: -100, 2181: -100, 21704: -100, 19701: -100, 5207: 7, 320: 7, 64: 7, 8: 7, 65: 7}}\n",
      "INFO:root:Kwargs to completion: {'n': 1, 'model': 'gpt-3.5-turbo-0301', 'is_chat': True, 'temperature': 1.0, 'logit_bias': {21279: -100, 63295: -100, 4155: -100, 11995: -100, 25215: -100, 50344: -100, 59047: -100, 2196: -100, 2181: -100, 21704: -100, 19701: -100, 5207: 7, 320: 7, 64: 7, 8: 7, 65: 7}}\n",
      "\n",
      "prompt_batches: 0it [00:00, ?it/s]\u001b[A\n",
      "prompt_batches: 1it [00:00,  4.33it/s]\u001b[A\n",
      "prompt_batches: 2it [00:00,  4.39it/s]\u001b[A\n",
      "prompt_batches: 3it [00:00,  4.45it/s]\u001b[A\n",
      "prompt_batches: 4it [00:00,  4.55it/s]\u001b[A\n",
      "prompt_batches: 5it [00:01,  4.42it/s]\u001b[A\n",
      "prompt_batches: 6it [00:01,  4.40it/s]\u001b[A\n",
      "prompt_batches: 7it [00:01,  4.41it/s]\u001b[A\n",
      "prompt_batches: 8it [00:01,  4.52it/s]\u001b[A\n",
      "prompt_batches: 9it [00:02,  4.46it/s]\u001b[A\n",
      "prompt_batches: 10it [00:02,  4.54it/s]\u001b[A\n",
      "prompt_batches: 11it [00:02,  4.47it/s]\u001b[A\n",
      "INFO:root:Completed 11 examples in 2.5 seconds.\n",
      "INFO:root:Annotating 6 examples with chatgpt_2\n",
      "INFO:root:Using `openai_completions` on 6 prompts using gpt-3.5-turbo-0301.\n",
      "INFO:root:Kwargs to completion: {'temperature': 1.0, 'logit_bias': {21279: -100, 63295: -100, 4155: -100, 11995: -100, 25215: -100, 50344: -100, 59047: -100, 2196: -100, 2181: -100, 21704: -100, 19701: -100}}\n",
      "INFO:root:Kwargs to completion: {'n': 1, 'model': 'gpt-3.5-turbo-0301', 'is_chat': True, 'temperature': 1.0, 'logit_bias': {21279: -100, 63295: -100, 4155: -100, 11995: -100, 25215: -100, 50344: -100, 59047: -100, 2196: -100, 2181: -100, 21704: -100, 19701: -100}}\n",
      "\n",
      "prompt_batches: 0it [00:00, ?it/s]\u001b[A\n",
      "prompt_batches: 1it [00:00,  1.04it/s]\u001b[A\n",
      "prompt_batches: 2it [00:02,  1.19s/it]\u001b[A\n",
      "prompt_batches: 3it [00:03,  1.26s/it]\u001b[A\n",
      "prompt_batches: 4it [00:05,  1.33s/it]\u001b[A\n",
      "prompt_batches: 5it [00:06,  1.39s/it]\u001b[A\n",
      "prompt_batches: 6it [00:07,  1.31s/it]\u001b[A\n",
      "INFO:root:Completed 6 examples in 7.9 seconds.\n",
      "INFO:root:Annotating 10 examples with chatgpt_3\n",
      "INFO:root:Using `openai_completions` on 10 prompts using gpt-3.5-turbo-0301.\n",
      "INFO:root:Kwargs to completion: {'temperature': 1.0, 'logit_bias': {21279: -100, 63295: -100, 4155: -100, 11995: -100, 25215: -100, 50344: -100, 59047: -100, 2196: -100, 2181: -100, 21704: -100, 19701: -100, 5207: 7, 320: 7, 64: 7, 8: 7, 65: 7}}\n",
      "INFO:root:Kwargs to completion: {'n': 1, 'model': 'gpt-3.5-turbo-0301', 'is_chat': True, 'temperature': 1.0, 'logit_bias': {21279: -100, 63295: -100, 4155: -100, 11995: -100, 25215: -100, 50344: -100, 59047: -100, 2196: -100, 2181: -100, 21704: -100, 19701: -100, 5207: 7, 320: 7, 64: 7, 8: 7, 65: 7}}\n",
      "\n",
      "prompt_batches: 0it [00:00, ?it/s]\u001b[A\n",
      "prompt_batches: 1it [00:00,  3.62it/s]\u001b[A\n",
      "prompt_batches: 2it [00:00,  3.66it/s]\u001b[A\n",
      "prompt_batches: 3it [00:00,  3.86it/s]\u001b[A\n",
      "prompt_batches: 4it [00:01,  3.92it/s]\u001b[A\n",
      "prompt_batches: 5it [00:01,  4.13it/s]\u001b[A\n",
      "prompt_batches: 6it [00:01,  4.09it/s]\u001b[A\n",
      "prompt_batches: 7it [00:01,  4.20it/s]\u001b[A\n",
      "prompt_batches: 8it [00:01,  4.16it/s]\u001b[A\n",
      "prompt_batches: 9it [00:02,  4.21it/s]\u001b[A\n",
      "prompt_batches: 10it [00:02,  4.08it/s]\u001b[A\n",
      "INFO:root:Completed 10 examples in 2.5 seconds.\n",
      "INFO:root:Annotating 8 examples with chatgpt_4\n",
      "INFO:root:Using `openai_completions` on 8 prompts using gpt-3.5-turbo-0301.\n",
      "INFO:root:Kwargs to completion: {'temperature': 1.0, 'logit_bias': {21279: -100, 63295: -100, 4155: -100, 11995: -100, 25215: -100, 50344: -100, 59047: -100, 2196: -100, 2181: -100, 21704: -100, 19701: -100, 5207: 7, 320: 7, 64: 7, 8: 7, 65: 7}}\n",
      "INFO:root:Kwargs to completion: {'n': 1, 'model': 'gpt-3.5-turbo-0301', 'is_chat': True, 'temperature': 1.0, 'logit_bias': {21279: -100, 63295: -100, 4155: -100, 11995: -100, 25215: -100, 50344: -100, 59047: -100, 2196: -100, 2181: -100, 21704: -100, 19701: -100, 5207: 7, 320: 7, 64: 7, 8: 7, 65: 7}}\n",
      "\n",
      "prompt_batches: 0it [00:00, ?it/s]\u001b[A\n",
      "prompt_batches: 1it [00:00,  5.20it/s]\u001b[A\n",
      "prompt_batches: 2it [00:00,  4.75it/s]\u001b[A\n",
      "prompt_batches: 3it [00:00,  4.73it/s]\u001b[A\n",
      "prompt_batches: 4it [00:00,  4.63it/s]\u001b[A\n",
      "prompt_batches: 5it [00:01,  4.72it/s]\u001b[A\n",
      "prompt_batches: 6it [00:01,  4.68it/s]\u001b[A\n",
      "prompt_batches: 7it [00:01,  4.50it/s]\u001b[A\n",
      "prompt_batches: 8it [00:01,  4.51it/s]\u001b[A\n",
      "INFO:root:Completed 8 examples in 1.8 seconds.\n",
      "INFO:root:Annotating 4 examples with davinci003_1\n",
      "INFO:root:Using `openai_completions` on 2 prompts using text-davinci-003.\n",
      "INFO:root:Kwargs to completion: {'temperature': 1.0, 'logit_bias': {7: 7, 64: 7, 8: 7, 65: 7}}\n",
      "INFO:root:Kwargs to completion: {'n': 1, 'model': 'text-davinci-003', 'is_chat': False, 'temperature': 1.0, 'logit_bias': {7: 7, 64: 7, 8: 7, 65: 7}}\n",
      "\n",
      "prompt_batches: 0it [00:00, ?it/s]\u001b[A\n",
      "prompt_batches: 1it [00:00,  1.56it/s]\u001b[A\n",
      "INFO:root:Completed 2 examples in 0.6 seconds.\n",
      "INFO:root:Annotating 9 examples with davinci003_2\n",
      "INFO:root:Using `openai_completions` on 9 prompts using text-davinci-003.\n",
      "INFO:root:Kwargs to completion: {'temperature': 1.0}\n",
      "INFO:root:Kwargs to completion: {'n': 1, 'model': 'text-davinci-003', 'is_chat': False, 'temperature': 1.0}\n",
      "\n",
      "prompt_batches: 0it [00:00, ?it/s]\u001b[A\n",
      "prompt_batches: 1it [00:00,  1.94it/s]\u001b[A\n",
      "INFO:root:Completed 9 examples in 0.5 seconds.\n",
      "INFO:root:Annotating 11 examples with davinci003_3\n",
      "INFO:root:Using `openai_completions` on 6 prompts using text-davinci-003.\n",
      "INFO:root:Kwargs to completion: {'temperature': 1.0}\n",
      "INFO:root:Kwargs to completion: {'n': 1, 'model': 'text-davinci-003', 'is_chat': False, 'temperature': 1.0}\n",
      "\n",
      "prompt_batches: 0it [00:00, ?it/s]\u001b[A\n",
      "prompt_batches: 1it [00:01,  1.41s/it]\u001b[A\n",
      "INFO:root:Completed 6 examples in 1.4 seconds.\n",
      "INFO:root:Annotating 11 examples with davinci003_4\n",
      "INFO:root:Using `openai_completions` on 11 prompts using text-davinci-003.\n",
      "INFO:root:Kwargs to completion: {'temperature': 1.0}\n",
      "INFO:root:Kwargs to completion: {'n': 1, 'model': 'text-davinci-003', 'is_chat': False, 'temperature': 1.0}\n",
      "\n",
      "prompt_batches: 0it [00:00, ?it/s]\u001b[A\n",
      "prompt_batches: 1it [00:00,  3.00it/s]\u001b[A\n",
      "prompt_batches: 2it [00:01,  1.90it/s]\u001b[A\n",
      "INFO:root:Completed 11 examples in 1.1 seconds.\n",
      "INFO:root:Saving all annotations to /home/prasann/miniconda3/envs/stackenv/lib/python3.10/site-packages/alpaca_farm/auto_annotations/annotators/annotator_pool_v0/annotations_seed0_configs.json.\n",
      "INFO:root:Loading all annotations from /home/prasann/miniconda3/envs/stackenv/lib/python3.10/site-packages/alpaca_farm/auto_annotations/annotators/annotator_pool_v0/annotations_seed0_configs.json.\n",
      "Annotation chunk: 100%|█████████████████████████████████████████████████████████████████████████████████████████████████████████████████████████████████████████| 1/1 [02:24<00:00, 144.15s/it]\n"
     ]
    }
   ],
   "source": [
    "lenannot = annotate_apfarm(adfs, \"wgptppoorig\", 'webgptdappov250', 0, len(adfs['wgptsft']), oai_kwargs())"
   ]
  },
  {
   "cell_type": "code",
   "execution_count": 15,
   "id": "09445576-a4fe-451d-aff7-a25c8cc221d2",
   "metadata": {},
   "outputs": [],
   "source": [
    "tmp = pd.DataFrame(lenannot)"
   ]
  },
  {
   "cell_type": "code",
   "execution_count": 16,
   "id": "791633a5-f7b7-4ab2-b3de-b2b03e237681",
   "metadata": {},
   "outputs": [
    {
     "data": {
      "text/plain": [
       "1.61"
      ]
     },
     "execution_count": 16,
     "metadata": {},
     "output_type": "execute_result"
    }
   ],
   "source": [
    "tmp.preference.mean()"
   ]
  },
  {
   "cell_type": "code",
   "execution_count": 18,
   "id": "7e2fa140-8790-4f3b-af85-f959c9284f3a",
   "metadata": {},
   "outputs": [],
   "source": [
    "tmp = pd.read_json(\"../outputs/apeval/stacksft_stackda125.jsonl\", orient='records', lines=True)"
   ]
  },
  {
   "cell_type": "code",
   "execution_count": 20,
   "id": "e5620eb1-561c-4abb-b166-ccc901b97165",
   "metadata": {},
   "outputs": [
    {
     "data": {
      "text/plain": [
       "1.595959595959596"
      ]
     },
     "execution_count": 20,
     "metadata": {},
     "output_type": "execute_result"
    }
   ],
   "source": [
    "tmp.preference.mean()"
   ]
  },
  {
   "cell_type": "code",
   "execution_count": null,
   "id": "3b42dab4-3b28-4852-ac77-2b35d2073da2",
   "metadata": {},
   "outputs": [],
   "source": [
    "list(tmp.preference)"
   ]
  },
  {
   "cell_type": "code",
   "execution_count": 59,
   "id": "55971cdb-7e5e-4e57-bb10-35962f752102",
   "metadata": {},
   "outputs": [
    {
     "data": {
      "text/html": [
       "<div>\n",
       "<style scoped>\n",
       "    .dataframe tbody tr th:only-of-type {\n",
       "        vertical-align: middle;\n",
       "    }\n",
       "\n",
       "    .dataframe tbody tr th {\n",
       "        vertical-align: top;\n",
       "    }\n",
       "\n",
       "    .dataframe thead th {\n",
       "        text-align: right;\n",
       "    }\n",
       "</style>\n",
       "<table border=\"1\" class=\"dataframe\">\n",
       "  <thead>\n",
       "    <tr style=\"text-align: right;\">\n",
       "      <th></th>\n",
       "      <th>question</th>\n",
       "      <th>response</th>\n",
       "      <th>wcnt</th>\n",
       "      <th>rcnt</th>\n",
       "    </tr>\n",
       "  </thead>\n",
       "  <tbody>\n",
       "    <tr>\n",
       "      <th>0</th>\n",
       "      <td>(taken from Spivak's calculus page 281)\\n\\n&gt; \\...</td>\n",
       "      <td>Yes, it is possible for two programs running a...</td>\n",
       "      <td>136</td>\n",
       "      <td>54</td>\n",
       "    </tr>\n",
       "    <tr>\n",
       "      <th>1</th>\n",
       "      <td>**The question:**\\, \\n\\n&gt; \\n&gt; Calculate $$\\int...</td>\n",
       "      <td>Yes, it is possible for both programs to print...</td>\n",
       "      <td>131</td>\n",
       "      <td>32</td>\n",
       "    </tr>\n",
       "    <tr>\n",
       "      <th>2</th>\n",
       "      <td>A [sandbagger](https://en.wiktionary.org/wiki/...</td>\n",
       "      <td>Yes, it is possible for both programs to print...</td>\n",
       "      <td>216</td>\n",
       "      <td>39</td>\n",
       "    </tr>\n",
       "    <tr>\n",
       "      <th>3</th>\n",
       "      <td>Apart from the normal differences in pitch and...</td>\n",
       "      <td>In Korean, there are certain words that are on...</td>\n",
       "      <td>56</td>\n",
       "      <td>147</td>\n",
       "    </tr>\n",
       "    <tr>\n",
       "      <th>4</th>\n",
       "      <td>Apologies for the poorly worded question title...</td>\n",
       "      <td>Change &lt;code&gt;puts filename&lt;/code&gt; to &lt;code&gt;put...</td>\n",
       "      <td>72</td>\n",
       "      <td>6</td>\n",
       "    </tr>\n",
       "    <tr>\n",
       "      <th>...</th>\n",
       "      <td>...</td>\n",
       "      <td>...</td>\n",
       "      <td>...</td>\n",
       "      <td>...</td>\n",
       "    </tr>\n",
       "    <tr>\n",
       "      <th>75</th>\n",
       "      <td>Why the output of below program is coming out ...</td>\n",
       "      <td>This happens because of the limitation of prec...</td>\n",
       "      <td>58</td>\n",
       "      <td>52</td>\n",
       "    </tr>\n",
       "    <tr>\n",
       "      <th>76</th>\n",
       "      <td>[craigknelson](http://craigknelson.com/)\\n\\nI'...</td>\n",
       "      <td>Yes, it is likely to be a CSS issue. One way t...</td>\n",
       "      <td>75</td>\n",
       "      <td>119</td>\n",
       "    </tr>\n",
       "    <tr>\n",
       "      <th>77</th>\n",
       "      <td>for what value of $k \\in \\mathbb{R}$ does ther...</td>\n",
       "      <td>For there to exist exactly one pair $(x, y)$ t...</td>\n",
       "      <td>25</td>\n",
       "      <td>115</td>\n",
       "    </tr>\n",
       "    <tr>\n",
       "      <th>78</th>\n",
       "      <td>onmouseOver of eacuser i want to show the chan...</td>\n",
       "      <td>!\\n\\nRather than using a list item for the cha...</td>\n",
       "      <td>240</td>\n",
       "      <td>110</td>\n",
       "    </tr>\n",
       "    <tr>\n",
       "      <th>79</th>\n",
       "      <td>this will probably make me look like a total b...</td>\n",
       "      <td>It looks like the issue is Cross-Origin Resour...</td>\n",
       "      <td>168</td>\n",
       "      <td>29</td>\n",
       "    </tr>\n",
       "  </tbody>\n",
       "</table>\n",
       "<p>80 rows × 4 columns</p>\n",
       "</div>"
      ],
      "text/plain": [
       "                                             question  \\\n",
       "0   (taken from Spivak's calculus page 281)\\n\\n> \\...   \n",
       "1   **The question:**\\, \\n\\n> \\n> Calculate $$\\int...   \n",
       "2   A [sandbagger](https://en.wiktionary.org/wiki/...   \n",
       "3   Apart from the normal differences in pitch and...   \n",
       "4   Apologies for the poorly worded question title...   \n",
       "..                                                ...   \n",
       "75  Why the output of below program is coming out ...   \n",
       "76  [craigknelson](http://craigknelson.com/)\\n\\nI'...   \n",
       "77  for what value of $k \\in \\mathbb{R}$ does ther...   \n",
       "78  onmouseOver of eacuser i want to show the chan...   \n",
       "79  this will probably make me look like a total b...   \n",
       "\n",
       "                                             response  wcnt  rcnt  \n",
       "0   Yes, it is possible for two programs running a...   136    54  \n",
       "1   Yes, it is possible for both programs to print...   131    32  \n",
       "2   Yes, it is possible for both programs to print...   216    39  \n",
       "3   In Korean, there are certain words that are on...    56   147  \n",
       "4   Change <code>puts filename</code> to <code>put...    72     6  \n",
       "..                                                ...   ...   ...  \n",
       "75  This happens because of the limitation of prec...    58    52  \n",
       "76  Yes, it is likely to be a CSS issue. One way t...    75   119  \n",
       "77  For there to exist exactly one pair $(x, y)$ t...    25   115  \n",
       "78  !\\n\\nRather than using a list item for the cha...   240   110  \n",
       "79  It looks like the issue is Cross-Origin Resour...   168    29  \n",
       "\n",
       "[80 rows x 4 columns]"
      ]
     },
     "execution_count": 59,
     "metadata": {},
     "output_type": "execute_result"
    }
   ],
   "source": [
    "adfs['davinci']"
   ]
  },
  {
   "cell_type": "code",
   "execution_count": 45,
   "id": "438f10d4-4d64-431e-85a6-38e5f8e446bd",
   "metadata": {},
   "outputs": [
    {
     "ename": "AssertionError",
     "evalue": "",
     "output_type": "error",
     "traceback": [
      "\u001b[0;31m---------------------------------------------------------------------------\u001b[0m",
      "\u001b[0;31mAssertionError\u001b[0m                            Traceback (most recent call last)",
      "Cell \u001b[0;32mIn[45], line 2\u001b[0m\n\u001b[1;32m      1\u001b[0m everything \u001b[38;5;241m=\u001b[39m pd\u001b[38;5;241m.\u001b[39mconcat(\u001b[38;5;28mlist\u001b[39m(adfs\u001b[38;5;241m.\u001b[39mvalues()))\n\u001b[0;32m----> 2\u001b[0m \u001b[38;5;28;01massert\u001b[39;00m \u001b[38;5;28mlen\u001b[39m(\u001b[38;5;28mset\u001b[39m(everything[\u001b[38;5;124m'\u001b[39m\u001b[38;5;124mquestion\u001b[39m\u001b[38;5;124m'\u001b[39m]))\u001b[38;5;241m==\u001b[39m\u001b[38;5;28mlen\u001b[39m(everything)\u001b[38;5;241m/\u001b[39m\u001b[38;5;28mlen\u001b[39m(adfs\u001b[38;5;241m.\u001b[39mkeys())\n\u001b[1;32m      3\u001b[0m \u001b[38;5;28;01massert\u001b[39;00m \u001b[38;5;28mlen\u001b[39m(\u001b[38;5;28mset\u001b[39m(everything[\u001b[38;5;124m'\u001b[39m\u001b[38;5;124mresponse\u001b[39m\u001b[38;5;124m'\u001b[39m]))\u001b[38;5;241m==\u001b[39m\u001b[38;5;28mlen\u001b[39m(everything)\n\u001b[1;32m      4\u001b[0m \u001b[38;5;28mprint\u001b[39m(\u001b[38;5;28mlen\u001b[39m(everything)\u001b[38;5;241m/\u001b[39m\u001b[38;5;28mlen\u001b[39m(adfs\u001b[38;5;241m.\u001b[39mkeys()))\n",
      "\u001b[0;31mAssertionError\u001b[0m: "
     ]
    }
   ],
   "source": [
    "everything = pd.concat(list(adfs.values()))\n",
    "assert len(set(everything['question']))==len(everything)/len(adfs.keys())\n",
    "assert len(set(everything['response']))==len(everything)\n",
    "assert [len(set(a['question']))==len(a[''])]\n",
    "assert\n",
    "print(len(everything)/len(adfs.keys()))"
   ]
  },
  {
   "cell_type": "code",
   "execution_count": 42,
   "id": "56d624ef-2fe8-4ed7-8fef-4051c94e2860",
   "metadata": {},
   "outputs": [
    {
     "data": {
      "text/plain": [
       "[100,\n",
       " 100,\n",
       " 100,\n",
       " 100,\n",
       " 100,\n",
       " 100,\n",
       " 100,\n",
       " 100,\n",
       " 100,\n",
       " 100,\n",
       " 100,\n",
       " 100,\n",
       " 100,\n",
       " 100,\n",
       " 100,\n",
       " 100,\n",
       " 100,\n",
       " 100,\n",
       " 100,\n",
       " 100]"
      ]
     },
     "execution_count": 42,
     "metadata": {},
     "output_type": "execute_result"
    }
   ],
   "source": [
    "[len(a) for a in adfs.values()] "
   ]
  },
  {
   "cell_type": "code",
   "execution_count": 43,
   "id": "a93d5222-d5e5-427f-952c-8bb8eaaeff68",
   "metadata": {},
   "outputs": [
    {
     "data": {
      "text/html": [
       "<div>\n",
       "<style scoped>\n",
       "    .dataframe tbody tr th:only-of-type {\n",
       "        vertical-align: middle;\n",
       "    }\n",
       "\n",
       "    .dataframe tbody tr th {\n",
       "        vertical-align: top;\n",
       "    }\n",
       "\n",
       "    .dataframe thead th {\n",
       "        text-align: right;\n",
       "    }\n",
       "</style>\n",
       "<table border=\"1\" class=\"dataframe\">\n",
       "  <thead>\n",
       "    <tr style=\"text-align: right;\">\n",
       "      <th></th>\n",
       "      <th>question</th>\n",
       "      <th>response</th>\n",
       "    </tr>\n",
       "  </thead>\n",
       "  <tbody>\n",
       "    <tr>\n",
       "      <th>65</th>\n",
       "      <td>(taken from Spivak's calculus page 281)\\n\\n&gt; \\...</td>\n",
       "      <td>Yes, it is possible for two programs running a...</td>\n",
       "    </tr>\n",
       "    <tr>\n",
       "      <th>85</th>\n",
       "      <td>**The question:**\\, \\n\\n&gt; \\n&gt; Calculate $$\\int...</td>\n",
       "      <td>Yes, it is possible for both programs to print...</td>\n",
       "    </tr>\n",
       "    <tr>\n",
       "      <th>17</th>\n",
       "      <td>A [sandbagger](https://en.wiktionary.org/wiki/...</td>\n",
       "      <td>Yes, it is possible for both programs to print...</td>\n",
       "    </tr>\n",
       "    <tr>\n",
       "      <th>31</th>\n",
       "      <td>A man throws three fair dice and observes the ...</td>\n",
       "      <td>should be considered as $2$ of the $3$?\\n\\nIf ...</td>\n",
       "    </tr>\n",
       "    <tr>\n",
       "      <th>44</th>\n",
       "      <td>Apart from the normal differences in pitch and...</td>\n",
       "      <td>In Korean, there are certain words that are on...</td>\n",
       "    </tr>\n",
       "    <tr>\n",
       "      <th>...</th>\n",
       "      <td>...</td>\n",
       "      <td>...</td>\n",
       "    </tr>\n",
       "    <tr>\n",
       "      <th>83</th>\n",
       "      <td>Why the output of below program is coming out ...</td>\n",
       "      <td>This happens because of the limitation of prec...</td>\n",
       "    </tr>\n",
       "    <tr>\n",
       "      <th>54</th>\n",
       "      <td>[craigknelson](http://craigknelson.com/)\\n\\nI'...</td>\n",
       "      <td>Yes, it is likely to be a CSS issue. One way t...</td>\n",
       "    </tr>\n",
       "    <tr>\n",
       "      <th>94</th>\n",
       "      <td>for what value of $k \\in \\mathbb{R}$ does ther...</td>\n",
       "      <td>For there to exist exactly one pair $(x, y)$ t...</td>\n",
       "    </tr>\n",
       "    <tr>\n",
       "      <th>84</th>\n",
       "      <td>onmouseOver of eacuser i want to show the chan...</td>\n",
       "      <td>!\\n\\nRather than using a list item for the cha...</td>\n",
       "    </tr>\n",
       "    <tr>\n",
       "      <th>72</th>\n",
       "      <td>this will probably make me look like a total b...</td>\n",
       "      <td>It looks like the issue is Cross-Origin Resour...</td>\n",
       "    </tr>\n",
       "  </tbody>\n",
       "</table>\n",
       "<p>100 rows × 2 columns</p>\n",
       "</div>"
      ],
      "text/plain": [
       "                                             question  \\\n",
       "65  (taken from Spivak's calculus page 281)\\n\\n> \\...   \n",
       "85  **The question:**\\, \\n\\n> \\n> Calculate $$\\int...   \n",
       "17  A [sandbagger](https://en.wiktionary.org/wiki/...   \n",
       "31  A man throws three fair dice and observes the ...   \n",
       "44  Apart from the normal differences in pitch and...   \n",
       "..                                                ...   \n",
       "83  Why the output of below program is coming out ...   \n",
       "54  [craigknelson](http://craigknelson.com/)\\n\\nI'...   \n",
       "94  for what value of $k \\in \\mathbb{R}$ does ther...   \n",
       "84  onmouseOver of eacuser i want to show the chan...   \n",
       "72  this will probably make me look like a total b...   \n",
       "\n",
       "                                             response  \n",
       "65  Yes, it is possible for two programs running a...  \n",
       "85  Yes, it is possible for both programs to print...  \n",
       "17  Yes, it is possible for both programs to print...  \n",
       "31  should be considered as $2$ of the $3$?\\n\\nIf ...  \n",
       "44  In Korean, there are certain words that are on...  \n",
       "..                                                ...  \n",
       "83  This happens because of the limitation of prec...  \n",
       "54  Yes, it is likely to be a CSS issue. One way t...  \n",
       "94  For there to exist exactly one pair $(x, y)$ t...  \n",
       "84  !\\n\\nRather than using a list item for the cha...  \n",
       "72  It looks like the issue is Cross-Origin Resour...  \n",
       "\n",
       "[100 rows x 2 columns]"
      ]
     },
     "execution_count": 43,
     "metadata": {},
     "output_type": "execute_result"
    }
   ],
   "source": [
    "adfs['davinci']"
   ]
  },
  {
   "cell_type": "code",
   "execution_count": 25,
   "id": "07218c0c-32c7-40e2-9c45-d1916f1c46da",
   "metadata": {},
   "outputs": [
    {
     "data": {
      "text/plain": [
       "16"
      ]
     },
     "execution_count": 25,
     "metadata": {},
     "output_type": "execute_result"
    }
   ],
   "source": [
    "len(adfs['chosen'])"
   ]
  },
  {
   "cell_type": "code",
   "execution_count": null,
   "id": "8bb74a47-08f4-4eb2-8eda-5ffdba8e836f",
   "metadata": {},
   "outputs": [],
   "source": []
  }
 ],
 "metadata": {
  "kernelspec": {
   "display_name": "Python 3 (ipykernel)",
   "language": "python",
   "name": "python3"
  },
  "language_info": {
   "codemirror_mode": {
    "name": "ipython",
    "version": 3
   },
   "file_extension": ".py",
   "mimetype": "text/x-python",
   "name": "python",
   "nbconvert_exporter": "python",
   "pygments_lexer": "ipython3",
   "version": "3.10.0"
  }
 },
 "nbformat": 4,
 "nbformat_minor": 5
}
