{
 "cells": [
  {
   "cell_type": "code",
   "execution_count": 1,
   "id": "8cf936fc-d7f0-4265-9eff-f9566695e722",
   "metadata": {},
   "outputs": [
    {
     "name": "stderr",
     "output_type": "stream",
     "text": [
      "/home/prasann/miniconda3/envs/rlenv/lib/python3.9/site-packages/tqdm/auto.py:21: TqdmWarning: IProgress not found. Please update jupyter and ipywidgets. See https://ipywidgets.readthedocs.io/en/stable/user_install.html\n",
      "  from .autonotebook import tqdm as notebook_tqdm\n"
     ]
    }
   ],
   "source": [
    "import pandas as pd\n",
    "import matplotlib.pyplot as plt\n",
    "from statistics import mean, stdev\n",
    "import matplotlib\n",
    "from rlhfutils.data import load_wgpt, augment_data\n",
    "from dataclasses import dataclass\n",
    "from transformers import AutoTokenizer\n",
    "from collections import Counter\n"
   ]
  },
  {
   "cell_type": "code",
   "execution_count": 2,
   "id": "731933e5-1eed-49b3-9e2e-d1369a0a4dca",
   "metadata": {},
   "outputs": [],
   "source": [
    "%load_ext autoreload\n",
    "%autoreload 2"
   ]
  },
  {
   "cell_type": "code",
   "execution_count": 3,
   "id": "5316dc5d-4a2f-4736-bf91-d0044d24d0fa",
   "metadata": {},
   "outputs": [],
   "source": [
    "cartdf = pd.read_json(\"../trl-general/carto_outs/webgptrda_carto.jsonl\", orient='records', lines=True)"
   ]
  },
  {
   "cell_type": "code",
   "execution_count": 5,
   "id": "e5f701f0-9ae6-41a7-bd39-d19aecdfcffb",
   "metadata": {},
   "outputs": [],
   "source": [
    "toker = AutoTokenizer.from_pretrained(\"../apf/models/sft/\")\n",
    "\n",
    "# Custom aggregation function to collect values into a list and sort by index\n",
    "def collect_and_sort(series):\n",
    "    return list(series.sort_index())\n",
    "\n",
    "def make_statdf(cdf):\n",
    "    # Group by 'uid' and aggregate\n",
    "    new_df = cdf.groupby('uid').agg({\n",
    "        'rew_j': collect_and_sort,\n",
    "        'rew_k': collect_and_sort\n",
    "    }).reset_index()\n",
    "    new_df['diffs'] = [[r['rew_j'][i] - r['rew_k'][i] for i in range(len(r['rew_j']))] for _, r in new_df.iterrows()]\n",
    "    return new_df\n",
    "\n",
    "def lenscat(idf):\n",
    "    return plt.hist2d(idf['vars'], idf['confs'], bins=(50, 50), norm=matplotlib.colors.LogNorm())\n",
    "\n",
    "def lenheur(idf):\n",
    "    return  (idf['tj']>idf['tk']).mean()\n",
    "\n",
    "def alltoks(col):\n",
    "    atoks = []\n",
    "    for c in col:\n",
    "        atoks.extend(list(set(toker(c).input_ids)))\n",
    "    return [toker.decode(d) for d in atoks]\n",
    "\n",
    "def companalysis(indf, thresh):\n",
    "    good = Counter(alltoks(indf['rj']))\n",
    "    bad = Counter(alltoks(indf['rk']))\n",
    "\n",
    "    total = good+bad\n",
    "    total = {token: count for token, count in total.items() if count >= thresh}\n",
    "    \n",
    "    # Compute the conditional probability P(Class|Token) for each token and each class\n",
    "    good_token_prob = {token: good.get(token, 0) / total[token] for token in total}\n",
    "    bad_token_prob = {token: bad.get(token, 0) / total[token] for token in total}\n",
    "    \n",
    "    # Find top tokens for each class\n",
    "    top_good_tokens = sorted(good_token_prob.items(), key=lambda x: x[1], reverse=True)[:5]\n",
    "    top_bad_tokens = sorted(bad_token_prob.items(), key=lambda x: x[1], reverse=True)[:5]\n",
    "    \n",
    "    print(\"Top tokens with probabilities for 'good' class:\")\n",
    "    for token, prob in top_good_tokens:\n",
    "        print(f\"{token}: {prob:.4f}\")\n",
    "    \n",
    "    print(\"Top tokens with probabilities for 'bad' class:\")\n",
    "    for token, prob in top_bad_tokens:\n",
    "        print(f\"{token}: {prob:.4f}\")\n",
    "    def lenscat(idf):\n",
    "    return plt.hist2d(idf['vars'], idf['confs'], bins=(50, 50), norm=matplotlib.colors.LogNorm())\n",
    "\n",
    "def lenheur(idf):\n",
    "    return  (idf['tj']>idf['tk']).mean()\n",
    "\n",
    "def alltoks(col):\n",
    "    atoks = []\n",
    "    for c in col:\n",
    "        atoks.extend(list(set(toker(c).input_ids)))\n",
    "    return [toker.decode(d) for d in atoks]\n",
    "\n",
    "def companalysis(indf, thresh):\n",
    "    good = Counter(alltoks(indf['rj']))\n",
    "    bad = Counter(alltoks(indf['rk']))\n",
    "\n",
    "    total = good+bad\n",
    "    total = {token: count for token, count in total.items() if count >= thresh}\n",
    "    \n",
    "    # Compute the conditional probability P(Class|Token) for each token and each class\n",
    "    good_token_prob = {token: good.get(token, 0) / total[token] for token in total}\n",
    "    bad_token_prob = {token: bad.get(token, 0) / total[token] for token in total}\n",
    "    \n",
    "    # Find top tokens for each class\n",
    "    top_good_tokens = sorted(good_token_prob.items(), key=lambda x: x[1], reverse=True)[:5]\n",
    "    top_bad_tokens = sorted(bad_token_prob.items(), key=lambda x: x[1], reverse=True)[:5]\n",
    "    \n",
    "    print(\"Top tokens with probabilities for 'good' class:\")\n",
    "    for token, prob in top_good_tokens:\n",
    "        print(f\"{token}: {prob:.4f}\")\n",
    "    \n",
    "    print(\"Top tokens with probabilities for 'bad' class:\")\n",
    "    for token, prob in top_bad_tokens:\n",
    "        print(f\"{token}: {prob:.4f}\")\n",
    "    "
   ]
  },
  {
   "cell_type": "code",
   "execution_count": 6,
   "id": "b61a61e9-324f-41bd-b139-bbce7d7c4b47",
   "metadata": {},
   "outputs": [],
   "source": [
    "ndf = make_statdf(cartdf)"
   ]
  },
  {
   "cell_type": "code",
   "execution_count": 7,
   "id": "3fc647d0-ab3f-420b-bdb3-f4b867527706",
   "metadata": {},
   "outputs": [
    {
     "data": {
      "text/plain": [
       "uid                                                      0\n",
       "rew_j    [1.609375, 0.84765625, 0.328125, -0.142578125,...\n",
       "rew_k    [2.09375, 1.25, 0.32421875, -0.906250000000000...\n",
       "diffs    [-0.484375, -0.40234375, 0.00390625, 0.7636718...\n",
       "Name: 0, dtype: object"
      ]
     },
     "execution_count": 7,
     "metadata": {},
     "output_type": "execute_result"
    }
   ],
   "source": [
    "ndf.loc[0]"
   ]
  },
  {
   "cell_type": "code",
   "execution_count": 8,
   "id": "b88922e5-5e2b-4a5a-88cf-ea2024c2b657",
   "metadata": {},
   "outputs": [],
   "source": [
    "# TODO maybe need to normalize\n",
    "ndf['confs'] = [mean(m) for m in ndf['diffs']]\n",
    "ndf['vars'] = [stdev(m) for m in ndf['diffs']]"
   ]
  },
  {
   "cell_type": "code",
   "execution_count": 48,
   "id": "98731f1c-9623-4580-a6d5-b798c103b6ab",
   "metadata": {},
   "outputs": [],
   "source": [
    "ndf['confs'] = [mean(m[1:5]) for m in ndf['diffs']]\n",
    "ndf['vars'] = [stdev(m[1:5]) for m in ndf['diffs']]"
   ]
  },
  {
   "cell_type": "code",
   "execution_count": 9,
   "id": "41e98ad1-72a2-4128-9588-c13ccedbd620",
   "metadata": {},
   "outputs": [
    {
     "name": "stderr",
     "output_type": "stream",
     "text": [
      "Found cached dataset webgpt_comparisons (/home/prasann/.cache/huggingface/datasets/openai___webgpt_comparisons/default/0.0.0/8b5d5879cdc98c4c0099af6053dffe8d504588d43d3b11f1b1ec223ab1e8db0a)\n",
      "Loading cached processed dataset at /home/prasann/.cache/huggingface/datasets/openai___webgpt_comparisons/default/0.0.0/8b5d5879cdc98c4c0099af6053dffe8d504588d43d3b11f1b1ec223ab1e8db0a/cache-b59872c264d40a9d.arrow\n",
      "Loading cached shuffled indices for dataset at /home/prasann/.cache/huggingface/datasets/openai___webgpt_comparisons/default/0.0.0/8b5d5879cdc98c4c0099af6053dffe8d504588d43d3b11f1b1ec223ab1e8db0a/cache-5054febcf551ba95.arrow\n"
     ]
    },
    {
     "name": "stdout",
     "output_type": "stream",
     "text": [
      "initial size  19578\n",
      "new size  18000\n"
     ]
    }
   ],
   "source": [
    "wgpt = load_wgpt()"
   ]
  },
  {
   "cell_type": "code",
   "execution_count": 10,
   "id": "14898d7f-e71b-4e05-bf7f-de30d7d3b8f7",
   "metadata": {},
   "outputs": [],
   "source": [
    "@dataclass\n",
    "class tmpdata: \n",
    "    mix_ratio: str\n",
    "    rand_ratio:  str"
   ]
  },
  {
   "cell_type": "code",
   "execution_count": 26,
   "id": "a86a677a-1cae-4f68-ab2f-a8a95ea8efe1",
   "metadata": {},
   "outputs": [
    {
     "name": "stderr",
     "output_type": "stream",
     "text": [
      "Loading cached processed dataset at /home/prasann/.cache/huggingface/datasets/openai___webgpt_comparisons/default/0.0.0/8b5d5879cdc98c4c0099af6053dffe8d504588d43d3b11f1b1ec223ab1e8db0a/cache-debe2aca14a31a61.arrow\n"
     ]
    },
    {
     "name": "stdout",
     "output_type": "stream",
     "text": [
      "mixing in random data\n",
      "augment_random\n"
     ]
    },
    {
     "name": "stderr",
     "output_type": "stream",
     "text": [
      "/data/users/prasann/Projects/rlhf-exploration/rlhfutils/rlhfutils/data.py:133: SettingWithCopyWarning: \n",
      "A value is trying to be set on a copy of a slice from a DataFrame\n",
      "\n",
      "See the caveats in the documentation: https://pandas.pydata.org/pandas-docs/stable/user_guide/indexing.html#returning-a-view-versus-a-copy\n",
      "  train_dset['isrand'].iloc[:int(len(re_add))] = 1\n"
     ]
    }
   ],
   "source": [
    "train_dataset = augment_data(wgpt[0], tmpdata(**{\"mix_ratio\":0, \"rand_ratio\":0.2}))"
   ]
  },
  {
   "cell_type": "code",
   "execution_count": 11,
   "id": "c09e4c8a-7a20-46d7-8313-432f02950311",
   "metadata": {},
   "outputs": [
    {
     "data": {
      "text/plain": [
       "Dataset({\n",
       "    features: ['question', 'quotes_0', 'answer_0', 'tokens_0', 'score_0', 'quotes_1', 'answer_1', 'tokens_1', 'score_1', 'response_j', 'response_k', 'isrand'],\n",
       "    num_rows: 21600\n",
       "})"
      ]
     },
     "execution_count": 11,
     "metadata": {},
     "output_type": "execute_result"
    }
   ],
   "source": [
    "train_dataset"
   ]
  },
  {
   "cell_type": "code",
   "execution_count": 28,
   "id": "95c99773-3a2c-4eb2-87ee-a44d7b7578e9",
   "metadata": {},
   "outputs": [],
   "source": [
    "def procn(ntmp):\n",
    "    ntmp['isrand'] = [train_dataset[r['uid']]['isrand'] for _, r in ntmp.iterrows()]\n",
    "    ntmp['rj'] = [train_dataset[r['uid']]['response_j'] for _, r in ntmp.iterrows()]\n",
    "    ntmp['rk'] = [train_dataset[r['uid']]['response_k'] for _, r in ntmp.iterrows()]\n",
    "    ntmp['tj'] = [len(toker(r['rj']).input_ids) for _, r in ntmp.iterrows()]\n",
    "    ntmp['tk'] = [len(toker(r['rk']).input_ids) for _, r in ntmp.iterrows()]\n",
    "    return ntmp"
   ]
  },
  {
   "cell_type": "code",
   "execution_count": 29,
   "id": "7394b431-74e7-486b-92b0-32c3b5bc4fa7",
   "metadata": {},
   "outputs": [],
   "source": [
    "ndf = procn(ndf)"
   ]
  },
  {
   "cell_type": "code",
   "execution_count": 13,
   "id": "6f5094e2-4c61-4274-b306-45d38639a54d",
   "metadata": {},
   "outputs": [],
   "source": []
  },
  {
   "cell_type": "code",
   "execution_count": 20,
   "id": "cbc10f61-067b-494d-a410-cb9bc54a633c",
   "metadata": {},
   "outputs": [
    {
     "data": {
      "text/plain": [
       "(array([[0., 0., 0., ..., 0., 0., 0.],\n",
       "        [0., 0., 0., ..., 0., 0., 0.],\n",
       "        [0., 0., 0., ..., 0., 0., 0.],\n",
       "        ...,\n",
       "        [0., 0., 0., ..., 0., 0., 0.],\n",
       "        [0., 0., 0., ..., 0., 0., 0.],\n",
       "        [0., 0., 0., ..., 0., 0., 0.]]),\n",
       " array([0.01275776, 0.17077413, 0.3287905 , 0.48680687, 0.64482324,\n",
       "        0.80283962, 0.96085599, 1.11887236, 1.27688873, 1.4349051 ,\n",
       "        1.59292147, 1.75093784, 1.90895422, 2.06697059, 2.22498696,\n",
       "        2.38300333, 2.5410197 , 2.69903607, 2.85705244, 3.01506882,\n",
       "        3.17308519, 3.33110156, 3.48911793, 3.6471343 , 3.80515067,\n",
       "        3.96316704, 4.12118342, 4.27919979, 4.43721616, 4.59523253,\n",
       "        4.7532489 , 4.91126527, 5.06928164, 5.22729802, 5.38531439,\n",
       "        5.54333076, 5.70134713, 5.8593635 , 6.01737987, 6.17539624,\n",
       "        6.33341262, 6.49142899, 6.64944536, 6.80746173, 6.9654781 ,\n",
       "        7.12349447, 7.28151084, 7.43952722, 7.59754359, 7.75555996,\n",
       "        7.91357633]),\n",
       " array([-7.20377604, -6.74626302, -6.28875   , -5.83123698, -5.37372396,\n",
       "        -4.91621094, -4.45869792, -4.0011849 , -3.54367188, -3.08615885,\n",
       "        -2.62864583, -2.17113281, -1.71361979, -1.25610677, -0.79859375,\n",
       "        -0.34108073,  0.11643229,  0.57394531,  1.03145833,  1.48897135,\n",
       "         1.94648437,  2.4039974 ,  2.86151042,  3.31902344,  3.77653646,\n",
       "         4.23404948,  4.6915625 ,  5.14907552,  5.60658854,  6.06410156,\n",
       "         6.52161458,  6.9791276 ,  7.43664062,  7.89415365,  8.35166667,\n",
       "         8.80917969,  9.26669271,  9.72420573, 10.18171875, 10.63923177,\n",
       "        11.09674479, 11.55425781, 12.01177083, 12.46928385, 12.92679687,\n",
       "        13.3843099 , 13.84182292, 14.29933594, 14.75684896, 15.21436198,\n",
       "        15.671875  ]),\n",
       " <matplotlib.collections.QuadMesh at 0x7f7e44429490>)"
      ]
     },
     "execution_count": 20,
     "metadata": {},
     "output_type": "execute_result"
    },
    {
     "data": {
      "image/png": "[encoded data removed]",
      "text/plain": [
       "<Figure size 640x480 with 1 Axes>"
      ]
     },
     "metadata": {},
     "output_type": "display_data"
    }
   ],
   "source": [
    "lenscat(ndf)"
   ]
  },
  {
   "cell_type": "code",
   "execution_count": 21,
   "id": "2d893388-5703-43d5-9838-424a7e10a845",
   "metadata": {},
   "outputs": [
    {
     "ename": "AttributeError",
     "evalue": "'DataFrame' object has no attribute 'isrand'",
     "output_type": "error",
     "traceback": [
      "\u001b[0;31m---------------------------------------------------------------------------\u001b[0m",
      "\u001b[0;31mAttributeError\u001b[0m                            Traceback (most recent call last)",
      "\u001b[0;32m/tmp/ipykernel_564708/2013207392.py\u001b[0m in \u001b[0;36m?\u001b[0;34m()\u001b[0m\n\u001b[0;32m----> 1\u001b[0;31m \u001b[0mcompanalysis\u001b[0m\u001b[0;34m(\u001b[0m\u001b[0mhard\u001b[0m\u001b[0;34m[\u001b[0m\u001b[0mhard\u001b[0m\u001b[0;34m.\u001b[0m\u001b[0misrand\u001b[0m\u001b[0;34m==\u001b[0m\u001b[0;36m0\u001b[0m\u001b[0;34m]\u001b[0m\u001b[0;34m,\u001b[0m \u001b[0;36m25\u001b[0m\u001b[0;34m)\u001b[0m\u001b[0;34m\u001b[0m\u001b[0;34m\u001b[0m\u001b[0m\n\u001b[0m",
      "\u001b[0;32m~/miniconda3/envs/rlenv/lib/python3.9/site-packages/pandas/core/generic.py\u001b[0m in \u001b[0;36m?\u001b[0;34m(self, name)\u001b[0m\n\u001b[1;32m   5985\u001b[0m             \u001b[0;32mand\u001b[0m \u001b[0mname\u001b[0m \u001b[0;32mnot\u001b[0m \u001b[0;32min\u001b[0m \u001b[0mself\u001b[0m\u001b[0;34m.\u001b[0m\u001b[0m_accessors\u001b[0m\u001b[0;34m\u001b[0m\u001b[0;34m\u001b[0m\u001b[0m\n\u001b[1;32m   5986\u001b[0m             \u001b[0;32mand\u001b[0m \u001b[0mself\u001b[0m\u001b[0;34m.\u001b[0m\u001b[0m_info_axis\u001b[0m\u001b[0;34m.\u001b[0m\u001b[0m_can_hold_identifiers_and_holds_name\u001b[0m\u001b[0;34m(\u001b[0m\u001b[0mname\u001b[0m\u001b[0;34m)\u001b[0m\u001b[0;34m\u001b[0m\u001b[0;34m\u001b[0m\u001b[0m\n\u001b[1;32m   5987\u001b[0m         ):\n\u001b[1;32m   5988\u001b[0m             \u001b[0;32mreturn\u001b[0m \u001b[0mself\u001b[0m\u001b[0;34m[\u001b[0m\u001b[0mname\u001b[0m\u001b[0;34m]\u001b[0m\u001b[0;34m\u001b[0m\u001b[0;34m\u001b[0m\u001b[0m\n\u001b[0;32m-> 5989\u001b[0;31m         \u001b[0;32mreturn\u001b[0m \u001b[0mobject\u001b[0m\u001b[0;34m.\u001b[0m\u001b[0m__getattribute__\u001b[0m\u001b[0;34m(\u001b[0m\u001b[0mself\u001b[0m\u001b[0;34m,\u001b[0m \u001b[0mname\u001b[0m\u001b[0;34m)\u001b[0m\u001b[0;34m\u001b[0m\u001b[0;34m\u001b[0m\u001b[0m\n\u001b[0m",
      "\u001b[0;31mAttributeError\u001b[0m: 'DataFrame' object has no attribute 'isrand'"
     ]
    }
   ],
   "source": [
    "companalysis(hard[hard.isrand==0], 25)"
   ]
  },
  {
   "cell_type": "code",
   "execution_count": 25,
   "id": "89cebb17-f85c-4204-848f-a8fc35cd9af0",
   "metadata": {},
   "outputs": [
    {
     "data": {
      "text/plain": [
       "(array([[0., 0., 0., ..., 0., 0., 0.],\n",
       "        [0., 0., 0., ..., 0., 0., 0.],\n",
       "        [0., 0., 0., ..., 0., 0., 0.],\n",
       "        ...,\n",
       "        [0., 0., 0., ..., 0., 0., 0.],\n",
       "        [0., 0., 0., ..., 0., 0., 0.],\n",
       "        [0., 0., 0., ..., 0., 0., 0.]]),\n",
       " array([0.01275776, 0.16974842, 0.32673908, 0.48372974, 0.6407204 ,\n",
       "        0.79771106, 0.95470172, 1.11169238, 1.26868304, 1.42567371,\n",
       "        1.58266437, 1.73965503, 1.89664569, 2.05363635, 2.21062701,\n",
       "        2.36761767, 2.52460833, 2.68159899, 2.83858965, 2.99558031,\n",
       "        3.15257097, 3.30956163, 3.46655229, 3.62354295, 3.78053362,\n",
       "        3.93752428, 4.09451494, 4.2515056 , 4.40849626, 4.56548692,\n",
       "        4.72247758, 4.87946824, 5.0364589 , 5.19344956, 5.35044022,\n",
       "        5.50743088, 5.66442154, 5.8214122 , 5.97840286, 6.13539353,\n",
       "        6.29238419, 6.44937485, 6.60636551, 6.76335617, 6.92034683,\n",
       "        7.07733749, 7.23432815, 7.39131881, 7.54830947, 7.70530013,\n",
       "        7.86229079]),\n",
       " array([-7.20377604e+00, -6.89064779e+00, -6.57751953e+00, -6.26439128e+00,\n",
       "        -5.95126302e+00, -5.63813477e+00, -5.32500651e+00, -5.01187826e+00,\n",
       "        -4.69875000e+00, -4.38562174e+00, -4.07249349e+00, -3.75936523e+00,\n",
       "        -3.44623698e+00, -3.13310872e+00, -2.81998047e+00, -2.50685221e+00,\n",
       "        -2.19372396e+00, -1.88059570e+00, -1.56746745e+00, -1.25433919e+00,\n",
       "        -9.41210937e-01, -6.28082682e-01, -3.14954427e-01, -1.82617187e-03,\n",
       "         3.11302083e-01,  6.24430339e-01,  9.37558594e-01,  1.25068685e+00,\n",
       "         1.56381510e+00,  1.87694336e+00,  2.19007161e+00,  2.50319987e+00,\n",
       "         2.81632813e+00,  3.12945638e+00,  3.44258464e+00,  3.75571289e+00,\n",
       "         4.06884115e+00,  4.38196940e+00,  4.69509766e+00,  5.00822591e+00,\n",
       "         5.32135417e+00,  5.63448242e+00,  5.94761068e+00,  6.26073893e+00,\n",
       "         6.57386719e+00,  6.88699544e+00,  7.20012370e+00,  7.51325195e+00,\n",
       "         7.82638021e+00,  8.13950846e+00,  8.45263672e+00]),\n",
       " <matplotlib.collections.QuadMesh at 0x7f7d67f04b50>)"
      ]
     },
     "execution_count": 25,
     "metadata": {},
     "output_type": "execute_result"
    },
    {
     "data": {
      "image/png": "[encoded data removed]",
      "text/plain": [
       "<Figure size 640x480 with 1 Axes>"
      ]
     },
     "metadata": {},
     "output_type": "display_data"
    }
   ],
   "source": [
    "lenscat(hard)"
   ]
  },
  {
   "cell_type": "code",
   "execution_count": 30,
   "id": "3b0e78b4-8140-4809-9b47-e8ed6d81cfdf",
   "metadata": {},
   "outputs": [],
   "source": [
    "# when skipping first \n",
    "easy = ndf[ndf['confs']-4>(ndf['vars']*1.6)]\n",
    "ambig = ndf[ndf['confs']-4<(ndf['vars']*1.6)]\n",
    "hard = ambig[ambig['confs']-10<(ambig['vars']*-0.5)]\n",
    "ambig = ambig[ambig['confs']-10>(ambig['vars']*-0.5)]\n",
    "# when not skipping first\n",
    "# easy = ndf[ndf['confs']-2.5>(ndf['vars']*1.6)]\n",
    "# ambig = ndf[ndf['confs']-2.5<(ndf['vars']*1.6)]\n",
    "# hard = ambig[ambig['confs']-10<(ambig['vars']*-2)]\n",
    "# ambig = ambig[ambig['confs']-10>(ambig['vars']*-2)]"
   ]
  },
  {
   "cell_type": "code",
   "execution_count": 60,
   "id": "0753902a-3c81-4c0a-895f-0d1456300618",
   "metadata": {},
   "outputs": [
    {
     "data": {
      "text/plain": [
       "0.5603349828701941"
      ]
     },
     "execution_count": 60,
     "metadata": {},
     "output_type": "execute_result"
    }
   ],
   "source": [
    "lenheur(hard)"
   ]
  },
  {
   "cell_type": "code",
   "execution_count": 62,
   "id": "1b9f8711-8b88-419a-acf4-db88c2bb01fc",
   "metadata": {},
   "outputs": [
    {
     "data": {
      "text/plain": [
       "(array([15365.,  3494.,  1149.,   604.,   295.,   165.,   138.,   129.,\n",
       "           68.,    17.]),\n",
       " array([4.84848673e-03, 7.03409866e-01, 1.40197124e+00, 2.10053262e+00,\n",
       "        2.79909400e+00, 3.49765538e+00, 4.19621676e+00, 4.89477814e+00,\n",
       "        5.59333952e+00, 6.29190090e+00, 6.99046228e+00]),\n",
       " <BarContainer object of 10 artists>)"
      ]
     },
     "execution_count": 62,
     "metadata": {},
     "output_type": "execute_result"
    },
    {
     "data": {
      "image/png": "[encoded data removed]",
      "text/plain": [
       "<Figure size 640x480 with 1 Axes>"
      ]
     },
     "metadata": {},
     "output_type": "display_data"
    }
   ],
   "source": [
    "plt.hist(ndf['vars'])"
   ]
  },
  {
   "cell_type": "code",
   "execution_count": 42,
   "id": "8e19c361-e2ce-4574-a12f-3f78f88222a5",
   "metadata": {},
   "outputs": [
    {
     "data": {
      "text/plain": [
       "0.02941976181412801"
      ]
     },
     "execution_count": 42,
     "metadata": {},
     "output_type": "execute_result"
    }
   ],
   "source": [
    "hard.isrand.mean()"
   ]
  },
  {
   "cell_type": "code",
   "execution_count": 57,
   "id": "1028692f-3753-465c-b843-9dab0927fb4a",
   "metadata": {},
   "outputs": [
    {
     "data": {
      "text/plain": [
       "(array([[0., 0., 0., ..., 0., 0., 0.],\n",
       "        [0., 0., 0., ..., 0., 0., 0.],\n",
       "        [0., 0., 0., ..., 1., 0., 0.],\n",
       "        ...,\n",
       "        [0., 0., 0., ..., 0., 0., 0.],\n",
       "        [0., 0., 0., ..., 0., 0., 0.],\n",
       "        [0., 0., 0., ..., 0., 0., 0.]]),\n",
       " array([0.01151005, 0.15108909, 0.29066814, 0.43024718, 0.56982623,\n",
       "        0.70940527, 0.84898432, 0.98856336, 1.12814241, 1.26772145,\n",
       "        1.4073005 , 1.54687954, 1.68645858, 1.82603763, 1.96561667,\n",
       "        2.10519572, 2.24477476, 2.38435381, 2.52393285, 2.6635119 ,\n",
       "        2.80309094, 2.94266999, 3.08224903, 3.22182807, 3.36140712,\n",
       "        3.50098616, 3.64056521, 3.78014425, 3.9197233 , 4.05930234,\n",
       "        4.19888139, 4.33846043, 4.47803948, 4.61761852, 4.75719756,\n",
       "        4.89677661, 5.03635565, 5.1759347 , 5.31551374, 5.45509279,\n",
       "        5.59467183, 5.73425088, 5.87382992, 6.01340897, 6.15298801,\n",
       "        6.29256705, 6.4321461 , 6.57172514, 6.71130419, 6.85088323,\n",
       "        6.99046228]),\n",
       " array([-6.44238281, -6.02400391, -5.605625  , -5.18724609, -4.76886719,\n",
       "        -4.35048828, -3.93210938, -3.51373047, -3.09535156, -2.67697266,\n",
       "        -2.25859375, -1.84021484, -1.42183594, -1.00345703, -0.58507812,\n",
       "        -0.16669922,  0.25167969,  0.67005859,  1.0884375 ,  1.50681641,\n",
       "         1.92519531,  2.34357422,  2.76195312,  3.18033203,  3.59871094,\n",
       "         4.01708984,  4.43546875,  4.85384766,  5.27222656,  5.69060547,\n",
       "         6.10898438,  6.52736328,  6.94574219,  7.36412109,  7.7825    ,\n",
       "         8.20087891,  8.61925781,  9.03763672,  9.45601563,  9.87439453,\n",
       "        10.29277344, 10.71115234, 11.12953125, 11.54791016, 11.96628906,\n",
       "        12.38466797, 12.80304687, 13.22142578, 13.63980469, 14.05818359,\n",
       "        14.4765625 ]),\n",
       " <matplotlib.collections.QuadMesh at 0x7f7cb9a473a0>)"
      ]
     },
     "execution_count": 57,
     "metadata": {},
     "output_type": "execute_result"
    },
    {
     "data": {
      "image/png": "[encoded data removed]",
      "text/plain": [
       "<Figure size 640x480 with 1 Axes>"
      ]
     },
     "metadata": {},
     "output_type": "display_data"
    }
   ],
   "source": [
    "lenscat(ndf[(ndf.tj-ndf.tk)>40])"
   ]
  },
  {
   "cell_type": "code",
   "execution_count": 45,
   "id": "2894cfbb-4645-4c5a-9540-d660bf927e8c",
   "metadata": {},
   "outputs": [
    {
     "data": {
      "text/plain": [
       "[1.609375,\n",
       " 0.84765625,\n",
       " 0.328125,\n",
       " -0.142578125,\n",
       " -0.1416015625,\n",
       " 1.1484375,\n",
       " -0.404296875]"
      ]
     },
     "execution_count": 45,
     "metadata": {},
     "output_type": "execute_result"
    }
   ],
   "source": [
    "ndf.loc[0].rew_j"
   ]
  },
  {
   "cell_type": "code",
   "execution_count": 72,
   "id": "ff99a062-6632-4555-9cf9-fe791ecfc2fb",
   "metadata": {},
   "outputs": [
    {
     "name": "stdout",
     "output_type": "stream",
     "text": [
      "One reason that pandas do not eat meat is that eating meat is not tasty for them [1,2,7]. Another reason that pandas eat bamboo instead of meat is because pandas have a high amount of bacteria in their gut, primarily due to the amount of fiber in bamboo. These bacteria help with the digestion of the bamboo [3,4,5,6,7,8,9,10,11,12]. Pandas can survive on a bamboo-based diet because of their gut flora and the presence of Clostridium bacteria, which have enzymes to break cellulose into simpler sugars [1,2,4,5,6,7,8,9,10,11]. With the help of these helpful bacteria and the help from the Clostridium, pandas can live as vegetarians [4,5,7,8,9,10,11,12]. This study provides evidence that pandas thrive on a diet of bamboo, and that their gut flora helps them digest this food source easily [1,2,3,4,6,7,8,9,10,11,12].\n",
      "____\n",
      "It is possible to maintain mental clarity until death of old age, as shown by the fact that some people do it [1, 2, 3]. The factors that determine whether or not a person will experience a decline in mental capacity are largely biological [5]. In general, the brain shrinks in size as we age, along with some other changes that can affect our ability to encode information into our memory and retrieve it again later [5]. There are also other biological factors that can increase the risk of mental decline, such as the myelin sheath around nerve fibers wearing down and some receptors on the surface of neurons not functioning as well as they once did [5]. On the positive side, the branching of dendrites increases and brain connections strengthen, enabling the brain to detect relationships between diverse sources of information and to understand the global implications of specific issues [5]. Some studies have found that older people can also make fresh brain cells until they are in their 90s, although this production of new neurons decreases in those with Alzheimer's, even when the disease has recently taken hold [4].\n"
     ]
    }
   ],
   "source": [
    "ind = 4\n",
    "print(easy.iloc[ind]['rj'])\n",
    "print(\"____\")\n",
    "print(easy.iloc[ind]['rk'])"
   ]
  },
  {
   "cell_type": "code",
   "execution_count": 65,
   "id": "bd31b704-e2b9-4fd0-9528-6f3da96b4959",
   "metadata": {},
   "outputs": [
    {
     "name": "stdout",
     "output_type": "stream",
     "text": [
      "Top tokens with probabilities for 'good' class:\n",
      "Ig: 0.8500\n",
      "everybody: 0.8077\n",
      "executes: 0.7619\n",
      "uch: 0.7586\n",
      "guests: 0.7568\n",
      "Top tokens with probabilities for 'bad' class:\n",
      "afterwards: 0.7727\n",
      "Thanks: 0.7500\n",
      "bundle: 0.7407\n",
      "Kore: 0.7308\n",
      "inclus: 0.7273\n"
     ]
    }
   ],
   "source": [
    "companalysis(hard, 20)"
   ]
  },
  {
   "cell_type": "code",
   "execution_count": 14,
   "id": "aa3fac6f-5cbc-4e8e-80ee-a8c4bfe4e165",
   "metadata": {},
   "outputs": [
    {
     "data": {
      "text/plain": [
       "(array([[1., 0., 0., ..., 0., 0., 0.],\n",
       "        [0., 0., 0., ..., 0., 0., 0.],\n",
       "        [0., 0., 0., ..., 0., 0., 0.],\n",
       "        ...,\n",
       "        [0., 0., 0., ..., 0., 1., 0.],\n",
       "        [0., 0., 0., ..., 0., 0., 0.],\n",
       "        [0., 0., 0., ..., 0., 0., 0.]]),\n",
       " array([0.42570786, 0.5415985 , 0.65748915, 0.77337979, 0.88927043,\n",
       "        1.00516107, 1.12105171, 1.23694236, 1.352833  , 1.46872364,\n",
       "        1.58461428, 1.70050492, 1.81639557, 1.93228621, 2.04817685,\n",
       "        2.16406749, 2.27995813, 2.39584878, 2.51173942, 2.62763006,\n",
       "        2.7435207 , 2.85941134, 2.97530199, 3.09119263, 3.20708327,\n",
       "        3.32297391, 3.43886455, 3.5547552 , 3.67064584, 3.78653648,\n",
       "        3.90242712, 4.01831776, 4.13420841, 4.25009905, 4.36598969,\n",
       "        4.48188033, 4.59777097, 4.71366162, 4.82955226, 4.9454429 ,\n",
       "        5.06133354, 5.17722418, 5.29311483, 5.40900547, 5.52489611,\n",
       "        5.64078675, 5.75667739, 5.87256804, 5.98845868, 6.10434932,\n",
       "        6.22023996]),\n",
       " array([ 3.34654018,  3.56202148,  3.77750279,  3.9929841 ,  4.2084654 ,\n",
       "         4.42394671,  4.63942801,  4.85490932,  5.07039062,  5.28587193,\n",
       "         5.50135324,  5.71683454,  5.93231585,  6.14779715,  6.36327846,\n",
       "         6.57875977,  6.79424107,  7.00972238,  7.22520368,  7.44068499,\n",
       "         7.65616629,  7.8716476 ,  8.08712891,  8.30261021,  8.51809152,\n",
       "         8.73357282,  8.94905413,  9.16453544,  9.38001674,  9.59549805,\n",
       "         9.81097935, 10.02646066, 10.24194196, 10.45742327, 10.67290458,\n",
       "        10.88838588, 11.10386719, 11.31934849, 11.5348298 , 11.7503111 ,\n",
       "        11.96579241, 12.18127372, 12.39675502, 12.61223633, 12.82771763,\n",
       "        13.04319894, 13.25868025, 13.47416155, 13.68964286, 13.90512416,\n",
       "        14.12060547]),\n",
       " <matplotlib.collections.QuadMesh at 0x7f7d6a5a9400>)"
      ]
     },
     "execution_count": 14,
     "metadata": {},
     "output_type": "execute_result"
    },
    {
     "data": {
      "image/png": "[encoded data removed]",
      "text/plain": [
       "<Figure size 640x480 with 1 Axes>"
      ]
     },
     "metadata": {},
     "output_type": "display_data"
    }
   ],
   "source": [
    "lenscat(easy)"
   ]
  },
  {
   "cell_type": "code",
   "execution_count": 61,
   "id": "ba57698d-1b97-4e60-938a-ed3f29de0b65",
   "metadata": {},
   "outputs": [
    {
     "data": {
      "text/plain": [
       "0.5316091954022989"
      ]
     },
     "execution_count": 61,
     "metadata": {},
     "output_type": "execute_result"
    }
   ],
   "source": [
    "lenheur(ambig)"
   ]
  },
  {
   "cell_type": "code",
   "execution_count": 65,
   "id": "314ffc69-2f2f-49ee-865f-c2498aefb3bc",
   "metadata": {},
   "outputs": [
    {
     "name": "stderr",
     "output_type": "stream",
     "text": [
      "/tmp/ipykernel_216054/780445290.py:1: UserWarning: Boolean Series key will be reindexed to match DataFrame index.\n",
      "  lenscat(hard[ndf['tj']>ndf['tk']])\n"
     ]
    },
    {
     "data": {
      "text/plain": [
       "(array([[0., 0., 0., ..., 0., 0., 0.],\n",
       "        [0., 0., 0., ..., 0., 0., 0.],\n",
       "        [0., 0., 0., ..., 0., 0., 0.],\n",
       "        ...,\n",
       "        [0., 0., 0., ..., 0., 0., 0.],\n",
       "        [0., 0., 0., ..., 0., 0., 0.],\n",
       "        [0., 0., 0., ..., 0., 0., 0.]]),\n",
       " array([0.04345484, 0.15416041, 0.26486598, 0.37557155, 0.48627712,\n",
       "        0.59698269, 0.70768826, 0.81839383, 0.9290994 , 1.03980497,\n",
       "        1.15051054, 1.26121611, 1.37192168, 1.48262726, 1.59333283,\n",
       "        1.7040384 , 1.81474397, 1.92544954, 2.03615511, 2.14686068,\n",
       "        2.25756625, 2.36827182, 2.47897739, 2.58968296, 2.70038853,\n",
       "        2.8110941 , 2.92179967, 3.03250524, 3.14321081, 3.25391639,\n",
       "        3.36462196, 3.47532753, 3.5860331 , 3.69673867, 3.80744424,\n",
       "        3.91814981, 4.02885538, 4.13956095, 4.25026652, 4.36097209,\n",
       "        4.47167766, 4.58238323, 4.6930888 , 4.80379437, 4.91449995,\n",
       "        5.02520552, 5.13591109, 5.24661666, 5.35732223, 5.4680278 ,\n",
       "        5.57873337]),\n",
       " array([-5.58007812, -5.35446094, -5.12884375, -4.90322656, -4.67760938,\n",
       "        -4.45199219, -4.226375  , -4.00075781, -3.77514062, -3.54952344,\n",
       "        -3.32390625, -3.09828906, -2.87267187, -2.64705469, -2.4214375 ,\n",
       "        -2.19582031, -1.97020312, -1.74458594, -1.51896875, -1.29335156,\n",
       "        -1.06773437, -0.84211719, -0.6165    , -0.39088281, -0.16526562,\n",
       "         0.06035156,  0.28596875,  0.51158594,  0.73720313,  0.96282031,\n",
       "         1.1884375 ,  1.41405469,  1.63967188,  1.86528906,  2.09090625,\n",
       "         2.31652344,  2.54214063,  2.76775781,  2.993375  ,  3.21899219,\n",
       "         3.44460938,  3.67022656,  3.89584375,  4.12146094,  4.34707813,\n",
       "         4.57269531,  4.7983125 ,  5.02392969,  5.24954688,  5.47516406,\n",
       "         5.70078125]),\n",
       " <matplotlib.collections.QuadMesh at 0x7f7460b07670>)"
      ]
     },
     "execution_count": 65,
     "metadata": {},
     "output_type": "execute_result"
    },
    {
     "data": {
      "image/png": "[encoded data removed]",
      "text/plain": [
       "<Figure size 640x480 with 1 Axes>"
      ]
     },
     "metadata": {},
     "output_type": "display_data"
    }
   ],
   "source": [
    "lenscat(hard[ndf['tj']>ndf['tk']])"
   ]
  },
  {
   "cell_type": "code",
   "execution_count": 15,
   "id": "0ad67f66-29c0-418a-ae8c-16ef9e65eb15",
   "metadata": {},
   "outputs": [
    {
     "data": {
      "text/plain": [
       "<matplotlib.collections.PathCollection at 0x7f8ccbc6cd00>"
      ]
     },
     "execution_count": 15,
     "metadata": {},
     "output_type": "execute_result"
    },
    {
     "data": {
      "image/png": "[encoded data removed]",
      "text/plain": [
       "<Figure size 640x480 with 1 Axes>"
      ]
     },
     "metadata": {},
     "output_type": "display_data"
    }
   ],
   "source": [
    "plt.scatter(ndf['vars'], ndf['confs'])"
   ]
  },
  {
   "cell_type": "code",
   "execution_count": 55,
   "id": "f281e9cc-2b57-4e50-8cb9-2c29c139fade",
   "metadata": {},
   "outputs": [],
   "source": [
    "ndf = ndf.reset_index()"
   ]
  },
  {
   "cell_type": "code",
   "execution_count": 11,
   "id": "53b767b9-fec5-4308-b558-8f34436b4400",
   "metadata": {},
   "outputs": [
    {
     "data": {
      "text/plain": [
       "(array([[0., 0., 0., ..., 0., 0., 0.],\n",
       "        [0., 0., 0., ..., 0., 0., 0.],\n",
       "        [0., 0., 0., ..., 0., 0., 0.],\n",
       "        ...,\n",
       "        [0., 0., 0., ..., 0., 0., 0.],\n",
       "        [0., 0., 0., ..., 0., 0., 0.],\n",
       "        [0., 0., 0., ..., 0., 0., 0.]]),\n",
       " array([0.00983051, 0.17836438, 0.34689826, 0.51543213, 0.683966  ,\n",
       "        0.85249987, 1.02103374, 1.18956761, 1.35810148, 1.52663535,\n",
       "        1.69516922, 1.86370309, 2.03223696, 2.20077084, 2.36930471,\n",
       "        2.53783858, 2.70637245, 2.87490632, 3.04344019, 3.21197406,\n",
       "        3.38050793, 3.5490418 , 3.71757567, 3.88610954, 4.05464342,\n",
       "        4.22317729, 4.39171116, 4.56024503, 4.7287789 , 4.89731277,\n",
       "        5.06584664, 5.23438051, 5.40291438, 5.57144825, 5.73998212,\n",
       "        5.908516  , 6.07704987, 6.24558374, 6.41411761, 6.58265148,\n",
       "        6.75118535, 6.91971922, 7.08825309, 7.25678696, 7.42532083,\n",
       "        7.5938547 , 7.76238858, 7.93092245, 8.09945632, 8.26799019,\n",
       "        8.43652406]),\n",
       " array([-4.77109375, -4.41385938, -4.056625  , -3.69939063, -3.34215625,\n",
       "        -2.98492188, -2.6276875 , -2.27045312, -1.91321875, -1.55598437,\n",
       "        -1.19875   , -0.84151562, -0.48428125, -0.12704687,  0.2301875 ,\n",
       "         0.58742188,  0.94465625,  1.30189063,  1.659125  ,  2.01635938,\n",
       "         2.37359375,  2.73082813,  3.0880625 ,  3.44529688,  3.80253125,\n",
       "         4.15976563,  4.517     ,  4.87423438,  5.23146875,  5.58870313,\n",
       "         5.9459375 ,  6.30317188,  6.66040625,  7.01764063,  7.374875  ,\n",
       "         7.73210938,  8.08934375,  8.44657813,  8.8038125 ,  9.16104688,\n",
       "         9.51828125,  9.87551563, 10.23275   , 10.58998438, 10.94721875,\n",
       "        11.30445313, 11.6616875 , 12.01892188, 12.37615625, 12.73339063,\n",
       "        13.090625  ]),\n",
       " <matplotlib.collections.QuadMesh at 0x7f76e54a9eb0>)"
      ]
     },
     "execution_count": 11,
     "metadata": {},
     "output_type": "execute_result"
    },
    {
     "data": {
      "image/png": "[encoded data removed]",
      "text/plain": [
       "<Figure size 640x480 with 1 Axes>"
      ]
     },
     "metadata": {},
     "output_type": "display_data"
    }
   ],
   "source": [
    "plt.hist2d(ndf['vars'], ndf['confs'], bins=(50, 50), norm=matplotlib.colors.LogNorm())"
   ]
  },
  {
   "cell_type": "code",
   "execution_count": null,
   "id": "3e57de7d-f576-44d2-90b2-d1ee1b0a8025",
   "metadata": {},
   "outputs": [],
   "source": []
  }
 ],
 "metadata": {
  "kernelspec": {
   "display_name": "Python 3 (ipykernel)",
   "language": "python",
   "name": "python3"
  },
  "language_info": {
   "codemirror_mode": {
    "name": "ipython",
    "version": 3
   },
   "file_extension": ".py",
   "mimetype": "text/x-python",
   "name": "python",
   "nbconvert_exporter": "python",
   "pygments_lexer": "ipython3",
   "version": "3.9.0"
  }
 },
 "nbformat": 4,
 "nbformat_minor": 5
}
