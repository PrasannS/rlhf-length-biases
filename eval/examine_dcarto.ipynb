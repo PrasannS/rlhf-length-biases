{
 "cells": [
  {
   "cell_type": "code",
   "execution_count": 73,
   "id": "8cf936fc-d7f0-4265-9eff-f9566695e722",
   "metadata": {},
   "outputs": [],
   "source": [
    "import pandas as pd\n",
    "import matplotlib.pyplot as plt\n",
    "from statistics import mean, stdev\n",
    "import matplotlib\n",
    "from rlhfutils.data import load_wgpt, augment_data\n",
    "from dataclasses import dataclass\n",
    "from transformers import AutoTokenizer\n",
    "from collections import Counter\n"
   ]
  },
  {
   "cell_type": "code",
   "execution_count": 3,
   "id": "731933e5-1eed-49b3-9e2e-d1369a0a4dca",
   "metadata": {},
   "outputs": [
    {
     "name": "stdout",
     "output_type": "stream",
     "text": [
      "The autoreload extension is already loaded. To reload it, use:\n",
      "  %reload_ext autoreload\n"
     ]
    }
   ],
   "source": [
    "%load_ext autoreload\n",
    "%autoreload 2"
   ]
  },
  {
   "cell_type": "code",
   "execution_count": 4,
   "id": "5316dc5d-4a2f-4736-bf91-d0044d24d0fa",
   "metadata": {},
   "outputs": [],
   "source": [
    "cartdf = pd.read_json(\"../trl-general/carto_outs/webgptrda_carto.jsonl\", orient='records', lines=True)"
   ]
  },
  {
   "cell_type": "code",
   "execution_count": 23,
   "id": "c5d33a17-4d4f-4a6b-8685-1dd350cc91c8",
   "metadata": {},
   "outputs": [],
   "source": [
    "toker = AutoTokenizer.from_pretrained(\"../apf/models/sft/\")"
   ]
  },
  {
   "cell_type": "code",
   "execution_count": 5,
   "id": "e5f701f0-9ae6-41a7-bd39-d19aecdfcffb",
   "metadata": {},
   "outputs": [],
   "source": [
    "# Custom aggregation function to collect values into a list and sort by index\n",
    "def collect_and_sort(series):\n",
    "    return list(series.sort_index())\n",
    "\n",
    "def make_statdf(cdf):\n",
    "    # Group by 'uid' and aggregate\n",
    "    new_df = cdf.groupby('uid').agg({\n",
    "        'rew_j': collect_and_sort,\n",
    "        'rew_k': collect_and_sort\n",
    "    }).reset_index()\n",
    "    new_df['diffs'] = [[r['rew_j'][i] - r['rew_k'][i] for i in range(len(r['rew_j']))] for _, r in new_df.iterrows()]\n",
    "    return new_df"
   ]
  },
  {
   "cell_type": "code",
   "execution_count": 6,
   "id": "b61a61e9-324f-41bd-b139-bbce7d7c4b47",
   "metadata": {},
   "outputs": [],
   "source": [
    "ndf = make_statdf(cartdf)"
   ]
  },
  {
   "cell_type": "code",
   "execution_count": 9,
   "id": "3fc647d0-ab3f-420b-bdb3-f4b867527706",
   "metadata": {},
   "outputs": [
    {
     "data": {
      "text/plain": [
       "uid                                                      0\n",
       "rew_j    [1.609375, 0.84765625, 0.328125, -0.142578125,...\n",
       "rew_k    [2.09375, 1.25, 0.32421875, -0.906250000000000...\n",
       "diffs    [-0.484375, -0.40234375, 0.00390625, 0.7636718...\n",
       "confs                                             0.211914\n",
       "vars                                              0.732211\n",
       "Name: 0, dtype: object"
      ]
     },
     "execution_count": 9,
     "metadata": {},
     "output_type": "execute_result"
    }
   ],
   "source": [
    "ndf.loc[0]"
   ]
  },
  {
   "cell_type": "code",
   "execution_count": 7,
   "id": "b88922e5-5e2b-4a5a-88cf-ea2024c2b657",
   "metadata": {},
   "outputs": [],
   "source": [
    "# TODO maybe need to normalize\n",
    "ndf['confs'] = [mean(m) for m in ndf['diffs']]\n",
    "ndf['vars'] = [stdev(m) for m in ndf['diffs']]"
   ]
  },
  {
   "cell_type": "code",
   "execution_count": 8,
   "id": "41e98ad1-72a2-4128-9588-c13ccedbd620",
   "metadata": {},
   "outputs": [
    {
     "name": "stderr",
     "output_type": "stream",
     "text": [
      "Found cached dataset webgpt_comparisons (/home/prasann/.cache/huggingface/datasets/openai___webgpt_comparisons/default/0.0.0/8b5d5879cdc98c4c0099af6053dffe8d504588d43d3b11f1b1ec223ab1e8db0a)\n",
      "Loading cached processed dataset at /home/prasann/.cache/huggingface/datasets/openai___webgpt_comparisons/default/0.0.0/8b5d5879cdc98c4c0099af6053dffe8d504588d43d3b11f1b1ec223ab1e8db0a/cache-b59872c264d40a9d.arrow\n",
      "Loading cached shuffled indices for dataset at /home/prasann/.cache/huggingface/datasets/openai___webgpt_comparisons/default/0.0.0/8b5d5879cdc98c4c0099af6053dffe8d504588d43d3b11f1b1ec223ab1e8db0a/cache-5054febcf551ba95.arrow\n"
     ]
    },
    {
     "name": "stdout",
     "output_type": "stream",
     "text": [
      "initial size  19578\n",
      "new size  18000\n"
     ]
    }
   ],
   "source": [
    "wgpt = load_wgpt()"
   ]
  },
  {
   "cell_type": "code",
   "execution_count": 9,
   "id": "14898d7f-e71b-4e05-bf7f-de30d7d3b8f7",
   "metadata": {},
   "outputs": [],
   "source": [
    "@dataclass\n",
    "class tmpdata: \n",
    "    mix_ratio: str\n",
    "    rand_ratio:  str"
   ]
  },
  {
   "cell_type": "code",
   "execution_count": 10,
   "id": "a86a677a-1cae-4f68-ab2f-a8a95ea8efe1",
   "metadata": {},
   "outputs": [
    {
     "name": "stderr",
     "output_type": "stream",
     "text": [
      "Loading cached processed dataset at /home/prasann/.cache/huggingface/datasets/openai___webgpt_comparisons/default/0.0.0/8b5d5879cdc98c4c0099af6053dffe8d504588d43d3b11f1b1ec223ab1e8db0a/cache-debe2aca14a31a61.arrow\n"
     ]
    },
    {
     "name": "stdout",
     "output_type": "stream",
     "text": [
      "mixing in random data\n",
      "augment_random\n"
     ]
    },
    {
     "name": "stderr",
     "output_type": "stream",
     "text": [
      "/data/users/prasann/Projects/rlhf-exploration/rlhfutils/rlhfutils/data.py:133: SettingWithCopyWarning: \n",
      "A value is trying to be set on a copy of a slice from a DataFrame\n",
      "\n",
      "See the caveats in the documentation: https://pandas.pydata.org/pandas-docs/stable/user_guide/indexing.html#returning-a-view-versus-a-copy\n",
      "  train_dset['isrand'].iloc[:int(len(re_add))] = 1\n"
     ]
    }
   ],
   "source": [
    "train_dataset = augment_data(wgpt[0], tmpdata(**{\"mix_ratio\":0, \"rand_ratio\":0.2}))"
   ]
  },
  {
   "cell_type": "code",
   "execution_count": 11,
   "id": "c09e4c8a-7a20-46d7-8313-432f02950311",
   "metadata": {},
   "outputs": [
    {
     "data": {
      "text/plain": [
       "Dataset({\n",
       "    features: ['question', 'quotes_0', 'answer_0', 'tokens_0', 'score_0', 'quotes_1', 'answer_1', 'tokens_1', 'score_1', 'response_j', 'response_k', 'isrand'],\n",
       "    num_rows: 21600\n",
       "})"
      ]
     },
     "execution_count": 11,
     "metadata": {},
     "output_type": "execute_result"
    }
   ],
   "source": [
    "train_dataset"
   ]
  },
  {
   "cell_type": "code",
   "execution_count": 31,
   "id": "95c99773-3a2c-4eb2-87ee-a44d7b7578e9",
   "metadata": {},
   "outputs": [],
   "source": [
    "def procn(ntmp):\n",
    "    ntmp['isrand'] = [train_dataset[r['uid']]['isrand'] for _, r in ntmp.iterrows()]\n",
    "    ntmp['rj'] = [train_dataset[r['uid']]['response_j'] for _, r in ntmp.iterrows()]\n",
    "    ntmp['rk'] = [train_dataset[r['uid']]['response_k'] for _, r in ntmp.iterrows()]\n",
    "    ntmp['tj'] = [len(toker(r['rj']).input_ids) for _, r in ntmp.iterrows()]\n",
    "    ntmp['tk'] = [len(toker(r['rk']).input_ids) for _, r in ntmp.iterrows()]\n",
    "    return ntmp"
   ]
  },
  {
   "cell_type": "code",
   "execution_count": 91,
   "id": "6f5094e2-4c61-4274-b306-45d38639a54d",
   "metadata": {},
   "outputs": [],
   "source": [
    "def lenscat(idf):\n",
    "    return plt.hist2d(idf['vars'], idf['confs'], bins=(50, 50), norm=matplotlib.colors.LogNorm())\n",
    "\n",
    "def lenheur(idf):\n",
    "    return  (idf['tj']>idf['tk']).mean()\n",
    "\n",
    "def alltoks(col):\n",
    "    atoks = []\n",
    "    for c in col:\n",
    "        atoks.extend(list(set(toker(c).input_ids)))\n",
    "    return [toker.decode(d) for d in atoks]\n",
    "\n",
    "def companalysis(indf, thresh):\n",
    "    good = Counter(alltoks(indf['rj']))\n",
    "    bad = Counter(alltoks(indf['rk']))\n",
    "\n",
    "    total = good+bad\n",
    "    total = {token: count for token, count in total.items() if count >= thresh}\n",
    "    \n",
    "    # Compute the conditional probability P(Class|Token) for each token and each class\n",
    "    good_token_prob = {token: good.get(token, 0) / total[token] for token in total}\n",
    "    bad_token_prob = {token: bad.get(token, 0) / total[token] for token in total}\n",
    "    \n",
    "    # Find top tokens for each class\n",
    "    top_good_tokens = sorted(good_token_prob.items(), key=lambda x: x[1], reverse=True)[:5]\n",
    "    top_bad_tokens = sorted(bad_token_prob.items(), key=lambda x: x[1], reverse=True)[:5]\n",
    "    \n",
    "    print(\"Top tokens with probabilities for 'good' class:\")\n",
    "    for token, prob in top_good_tokens:\n",
    "        print(f\"{token}: {prob:.4f}\")\n",
    "    \n",
    "    print(\"Top tokens with probabilities for 'bad' class:\")\n",
    "    for token, prob in top_bad_tokens:\n",
    "        print(f\"{token}: {prob:.4f}\")\n",
    "    "
   ]
  },
  {
   "cell_type": "code",
   "execution_count": 95,
   "id": "2d893388-5703-43d5-9838-424a7e10a845",
   "metadata": {},
   "outputs": [
    {
     "name": "stdout",
     "output_type": "stream",
     "text": [
      "Top tokens with probabilities for 'good' class:\n",
      "uch: 0.7500\n",
      "guests: 0.7353\n",
      "ocation: 0.7333\n",
      "academ: 0.7241\n",
      "conclus: 0.7222\n",
      "Top tokens with probabilities for 'bad' class:\n",
      "bundle: 0.7407\n",
      "Kore: 0.7200\n",
      "sake: 0.7143\n",
      "reviews: 0.7143\n",
      "cust: 0.6905\n"
     ]
    }
   ],
   "source": [
    "companalysis(hard[hard.isrand==0], 25)"
   ]
  },
  {
   "cell_type": "code",
   "execution_count": 51,
   "id": "3b0e78b4-8140-4809-9b47-e8ed6d81cfdf",
   "metadata": {},
   "outputs": [],
   "source": [
    "easy = ndf[ndf['confs']-2.5>(ndf['vars']*1.6)]\n",
    "ambig = ndf[ndf['confs']-2.5<(ndf['vars']*1.6)]\n",
    "hard = ambig[ambig['confs']-10<(ambig['vars']*-2)]\n",
    "ambig = ambig[ambig['confs']-10>(ambig['vars']*-2)]"
   ]
  },
  {
   "cell_type": "code",
   "execution_count": 72,
   "id": "ff99a062-6632-4555-9cf9-fe791ecfc2fb",
   "metadata": {},
   "outputs": [
    {
     "name": "stdout",
     "output_type": "stream",
     "text": [
      "One reason that pandas do not eat meat is that eating meat is not tasty for them [1,2,7]. Another reason that pandas eat bamboo instead of meat is because pandas have a high amount of bacteria in their gut, primarily due to the amount of fiber in bamboo. These bacteria help with the digestion of the bamboo [3,4,5,6,7,8,9,10,11,12]. Pandas can survive on a bamboo-based diet because of their gut flora and the presence of Clostridium bacteria, which have enzymes to break cellulose into simpler sugars [1,2,4,5,6,7,8,9,10,11]. With the help of these helpful bacteria and the help from the Clostridium, pandas can live as vegetarians [4,5,7,8,9,10,11,12]. This study provides evidence that pandas thrive on a diet of bamboo, and that their gut flora helps them digest this food source easily [1,2,3,4,6,7,8,9,10,11,12].\n",
      "____\n",
      "It is possible to maintain mental clarity until death of old age, as shown by the fact that some people do it [1, 2, 3]. The factors that determine whether or not a person will experience a decline in mental capacity are largely biological [5]. In general, the brain shrinks in size as we age, along with some other changes that can affect our ability to encode information into our memory and retrieve it again later [5]. There are also other biological factors that can increase the risk of mental decline, such as the myelin sheath around nerve fibers wearing down and some receptors on the surface of neurons not functioning as well as they once did [5]. On the positive side, the branching of dendrites increases and brain connections strengthen, enabling the brain to detect relationships between diverse sources of information and to understand the global implications of specific issues [5]. Some studies have found that older people can also make fresh brain cells until they are in their 90s, although this production of new neurons decreases in those with Alzheimer's, even when the disease has recently taken hold [4].\n"
     ]
    }
   ],
   "source": [
    "ind = 4\n",
    "print(easy.iloc[ind]['rj'])\n",
    "print(\"____\")\n",
    "print(easy.iloc[ind]['rk'])"
   ]
  },
  {
   "cell_type": "code",
   "execution_count": null,
   "id": "e89f9c79-35b0-416d-a00a-1e7161366802",
   "metadata": {},
   "outputs": [],
   "source": []
  },
  {
   "cell_type": "code",
   "execution_count": 61,
   "id": "ba57698d-1b97-4e60-938a-ed3f29de0b65",
   "metadata": {},
   "outputs": [
    {
     "data": {
      "text/plain": [
       "0.5316091954022989"
      ]
     },
     "execution_count": 61,
     "metadata": {},
     "output_type": "execute_result"
    }
   ],
   "source": [
    "lenheur(ambig)"
   ]
  },
  {
   "cell_type": "code",
   "execution_count": 65,
   "id": "314ffc69-2f2f-49ee-865f-c2498aefb3bc",
   "metadata": {},
   "outputs": [
    {
     "name": "stderr",
     "output_type": "stream",
     "text": [
      "/tmp/ipykernel_216054/780445290.py:1: UserWarning: Boolean Series key will be reindexed to match DataFrame index.\n",
      "  lenscat(hard[ndf['tj']>ndf['tk']])\n"
     ]
    },
    {
     "data": {
      "text/plain": [
       "(array([[0., 0., 0., ..., 0., 0., 0.],\n",
       "        [0., 0., 0., ..., 0., 0., 0.],\n",
       "        [0., 0., 0., ..., 0., 0., 0.],\n",
       "        ...,\n",
       "        [0., 0., 0., ..., 0., 0., 0.],\n",
       "        [0., 0., 0., ..., 0., 0., 0.],\n",
       "        [0., 0., 0., ..., 0., 0., 0.]]),\n",
       " array([0.04345484, 0.15416041, 0.26486598, 0.37557155, 0.48627712,\n",
       "        0.59698269, 0.70768826, 0.81839383, 0.9290994 , 1.03980497,\n",
       "        1.15051054, 1.26121611, 1.37192168, 1.48262726, 1.59333283,\n",
       "        1.7040384 , 1.81474397, 1.92544954, 2.03615511, 2.14686068,\n",
       "        2.25756625, 2.36827182, 2.47897739, 2.58968296, 2.70038853,\n",
       "        2.8110941 , 2.92179967, 3.03250524, 3.14321081, 3.25391639,\n",
       "        3.36462196, 3.47532753, 3.5860331 , 3.69673867, 3.80744424,\n",
       "        3.91814981, 4.02885538, 4.13956095, 4.25026652, 4.36097209,\n",
       "        4.47167766, 4.58238323, 4.6930888 , 4.80379437, 4.91449995,\n",
       "        5.02520552, 5.13591109, 5.24661666, 5.35732223, 5.4680278 ,\n",
       "        5.57873337]),\n",
       " array([-5.58007812, -5.35446094, -5.12884375, -4.90322656, -4.67760938,\n",
       "        -4.45199219, -4.226375  , -4.00075781, -3.77514062, -3.54952344,\n",
       "        -3.32390625, -3.09828906, -2.87267187, -2.64705469, -2.4214375 ,\n",
       "        -2.19582031, -1.97020312, -1.74458594, -1.51896875, -1.29335156,\n",
       "        -1.06773437, -0.84211719, -0.6165    , -0.39088281, -0.16526562,\n",
       "         0.06035156,  0.28596875,  0.51158594,  0.73720313,  0.96282031,\n",
       "         1.1884375 ,  1.41405469,  1.63967188,  1.86528906,  2.09090625,\n",
       "         2.31652344,  2.54214063,  2.76775781,  2.993375  ,  3.21899219,\n",
       "         3.44460938,  3.67022656,  3.89584375,  4.12146094,  4.34707813,\n",
       "         4.57269531,  4.7983125 ,  5.02392969,  5.24954688,  5.47516406,\n",
       "         5.70078125]),\n",
       " <matplotlib.collections.QuadMesh at 0x7f7460b07670>)"
      ]
     },
     "execution_count": 65,
     "metadata": {},
     "output_type": "execute_result"
    },
    {
     "data": {
      "image/png": "[encoded data removed]",
      "text/plain": [
       "<Figure size 640x480 with 1 Axes>"
      ]
     },
     "metadata": {},
     "output_type": "display_data"
    }
   ],
   "source": [
    "lenscat(hard[ndf['tj']>ndf['tk']])"
   ]
  },
  {
   "cell_type": "code",
   "execution_count": 15,
   "id": "0ad67f66-29c0-418a-ae8c-16ef9e65eb15",
   "metadata": {},
   "outputs": [
    {
     "data": {
      "text/plain": [
       "<matplotlib.collections.PathCollection at 0x7f8ccbc6cd00>"
      ]
     },
     "execution_count": 15,
     "metadata": {},
     "output_type": "execute_result"
    },
    {
     "data": {
      "image/png": "[encoded data removed]",
      "text/plain": [
       "<Figure size 640x480 with 1 Axes>"
      ]
     },
     "metadata": {},
     "output_type": "display_data"
    }
   ],
   "source": [
    "plt.scatter(ndf['vars'], ndf['confs'])"
   ]
  },
  {
   "cell_type": "code",
   "execution_count": 55,
   "id": "f281e9cc-2b57-4e50-8cb9-2c29c139fade",
   "metadata": {},
   "outputs": [],
   "source": [
    "ndf = ndf.reset_index()"
   ]
  },
  {
   "cell_type": "code",
   "execution_count": 11,
   "id": "53b767b9-fec5-4308-b558-8f34436b4400",
   "metadata": {},
   "outputs": [
    {
     "data": {
      "text/plain": [
       "(array([[0., 0., 0., ..., 0., 0., 0.],\n",
       "        [0., 0., 0., ..., 0., 0., 0.],\n",
       "        [0., 0., 0., ..., 0., 0., 0.],\n",
       "        ...,\n",
       "        [0., 0., 0., ..., 0., 0., 0.],\n",
       "        [0., 0., 0., ..., 0., 0., 0.],\n",
       "        [0., 0., 0., ..., 0., 0., 0.]]),\n",
       " array([0.00983051, 0.17836438, 0.34689826, 0.51543213, 0.683966  ,\n",
       "        0.85249987, 1.02103374, 1.18956761, 1.35810148, 1.52663535,\n",
       "        1.69516922, 1.86370309, 2.03223696, 2.20077084, 2.36930471,\n",
       "        2.53783858, 2.70637245, 2.87490632, 3.04344019, 3.21197406,\n",
       "        3.38050793, 3.5490418 , 3.71757567, 3.88610954, 4.05464342,\n",
       "        4.22317729, 4.39171116, 4.56024503, 4.7287789 , 4.89731277,\n",
       "        5.06584664, 5.23438051, 5.40291438, 5.57144825, 5.73998212,\n",
       "        5.908516  , 6.07704987, 6.24558374, 6.41411761, 6.58265148,\n",
       "        6.75118535, 6.91971922, 7.08825309, 7.25678696, 7.42532083,\n",
       "        7.5938547 , 7.76238858, 7.93092245, 8.09945632, 8.26799019,\n",
       "        8.43652406]),\n",
       " array([-4.77109375, -4.41385938, -4.056625  , -3.69939063, -3.34215625,\n",
       "        -2.98492188, -2.6276875 , -2.27045312, -1.91321875, -1.55598437,\n",
       "        -1.19875   , -0.84151562, -0.48428125, -0.12704687,  0.2301875 ,\n",
       "         0.58742188,  0.94465625,  1.30189063,  1.659125  ,  2.01635938,\n",
       "         2.37359375,  2.73082813,  3.0880625 ,  3.44529688,  3.80253125,\n",
       "         4.15976563,  4.517     ,  4.87423438,  5.23146875,  5.58870313,\n",
       "         5.9459375 ,  6.30317188,  6.66040625,  7.01764063,  7.374875  ,\n",
       "         7.73210938,  8.08934375,  8.44657813,  8.8038125 ,  9.16104688,\n",
       "         9.51828125,  9.87551563, 10.23275   , 10.58998438, 10.94721875,\n",
       "        11.30445313, 11.6616875 , 12.01892188, 12.37615625, 12.73339063,\n",
       "        13.090625  ]),\n",
       " <matplotlib.collections.QuadMesh at 0x7f76e54a9eb0>)"
      ]
     },
     "execution_count": 11,
     "metadata": {},
     "output_type": "execute_result"
    },
    {
     "data": {
      "image/png": "[encoded data removed]",
      "text/plain": [
       "<Figure size 640x480 with 1 Axes>"
      ]
     },
     "metadata": {},
     "output_type": "display_data"
    }
   ],
   "source": [
    "plt.hist2d(ndf['vars'], ndf['confs'], bins=(50, 50), norm=matplotlib.colors.LogNorm())"
   ]
  },
  {
   "cell_type": "code",
   "execution_count": null,
   "id": "3e57de7d-f576-44d2-90b2-d1ee1b0a8025",
   "metadata": {},
   "outputs": [],
   "source": []
  }
 ],
 "metadata": {
  "kernelspec": {
   "display_name": "Python 3 (ipykernel)",
   "language": "python",
   "name": "python3"
  },
  "language_info": {
   "codemirror_mode": {
    "name": "ipython",
    "version": 3
   },
   "file_extension": ".py",
   "mimetype": "text/x-python",
   "name": "python",
   "nbconvert_exporter": "python",
   "pygments_lexer": "ipython3",
   "version": "3.9.0"
  }
 },
 "nbformat": 4,
 "nbformat_minor": 5
}
