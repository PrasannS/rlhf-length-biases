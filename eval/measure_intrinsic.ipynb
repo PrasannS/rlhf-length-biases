{
 "cells": [
  {
   "cell_type": "code",
   "execution_count": 1,
   "id": "8cef3f55-378b-4bf1-b448-5ba4147c1f0c",
   "metadata": {},
   "outputs": [],
   "source": [
    "# notebook dedicated to computing various intrinsic metrics to see whether \n",
    "# they corresond to downstream performance and could be useful for RLHF"
   ]
  },
  {
   "cell_type": "code",
   "execution_count": 5,
   "id": "31666650-2efb-45ff-903b-fad8eecde89e",
   "metadata": {},
   "outputs": [],
   "source": [
    "from transformers import AutoTokenizer\n",
    "import pandas as pd\n",
    "from rlhfutils.eval_utils import getapfsft, tok_dist\n",
    "import matplotlib.pyplot as plt\n",
    "from rlhfutils.debug_utils import load_rm, progress_rm, load_all_rmdfs, load_all_hackdfs\n",
    "from statistics import mean, stdev\n",
    "from scipy.stats import pearsonr, kendalltau, spearmanr\n",
    "import math\n"
   ]
  },
  {
   "cell_type": "code",
   "execution_count": 6,
   "id": "79fc4b94-d74c-4f69-8a50-575cfce280c0",
   "metadata": {},
   "outputs": [
    {
     "name": "stdout",
     "output_type": "stream",
     "text": [
      "The autoreload extension is already loaded. To reload it, use:\n",
      "  %reload_ext autoreload\n"
     ]
    }
   ],
   "source": [
    "%load_ext autoreload\n",
    "%autoreload 2"
   ]
  },
  {
   "cell_type": "code",
   "execution_count": 12,
   "id": "10b4373f-ebe6-4259-8a61-b7811f5a0c32",
   "metadata": {},
   "outputs": [],
   "source": [
    "# replace all wgptouts with corresponding stack QA format (RM input format)\n",
    "def setall(l):\n",
    "    newl = []\n",
    "    try:\n",
    "        for ind in l:\n",
    "            newl.append(getapfsft(ind, True))\n",
    "            #print(0)\n",
    "    except:\n",
    "        return None\n",
    "    return newl\n",
    "\n",
    "def splitall(l):\n",
    "    try: \n",
    "        return [s.split(\"Answer:\")[1] for s in l]\n",
    "    except:\n",
    "        return None\n",
    "\n",
    "def getfulldist(lcol):\n",
    "    hist = []\n",
    "    for l in lcol:\n",
    "        hist.extend(l)\n",
    "    return hist\n",
    "\n",
    "def compdist(lcol, slen):\n",
    "    res = []\n",
    "    tmp = []\n",
    "    for i in range(len(lcol)):\n",
    "        tmp.append(lcol[i])\n",
    "        if len(tmp)%slen==0:\n",
    "            res.append(tmp)\n",
    "            tmp = []\n",
    "    return res\n",
    "    \n",
    "def procall(indf, toker, needset=True):\n",
    "    if needset:\n",
    "        indf['response'] = [setall(s) for s in indf['response']]\n",
    "    indf = indf.dropna()\n",
    "    indf['answers'] = [splitall(s) for s in indf['response']]\n",
    "    indf = indf.dropna()\n",
    "    indf['atoks'] = [tok_dist(s, wgtok) for s in list(indf['answers'])]\n",
    "    indf['ttoks'] = [tok_dist(s, wgtok) for s in list(indf['response'])]\n",
    "    return indf\n",
    "    "
   ]
  },
  {
   "cell_type": "code",
   "execution_count": 8,
   "id": "06ea797f-bec6-4ec7-9351-2b3fabf53c14",
   "metadata": {},
   "outputs": [],
   "source": [
    "hds = load_all_hackdfs(\"../rm-attacks/attackouts/\")"
   ]
  },
  {
   "cell_type": "code",
   "execution_count": 10,
   "id": "429acd2f-29fa-4737-abaf-3cc8b3caa7f9",
   "metadata": {},
   "outputs": [
    {
     "data": {
      "text/plain": [
       "dict_keys(['wgptda', 'stackrandaug', 'stacksanity', 'stackda', 'wgptorig', 'stackmix'])"
      ]
     },
     "execution_count": 10,
     "metadata": {},
     "output_type": "execute_result"
    }
   ],
   "source": [
    "hds.keys()"
   ]
  },
  {
   "cell_type": "code",
   "execution_count": null,
   "id": "ee1ae438-ba5e-49d5-8859-8f7c62bd336c",
   "metadata": {},
   "outputs": [],
   "source": []
  },
  {
   "cell_type": "code",
   "execution_count": 11,
   "id": "06756a83-6d4e-44bb-9e21-07ae1cfd4685",
   "metadata": {},
   "outputs": [
    {
     "data": {
      "text/html": [
       "<div>\n",
       "<style scoped>\n",
       "    .dataframe tbody tr th:only-of-type {\n",
       "        vertical-align: middle;\n",
       "    }\n",
       "\n",
       "    .dataframe tbody tr th {\n",
       "        vertical-align: top;\n",
       "    }\n",
       "\n",
       "    .dataframe thead th {\n",
       "        text-align: right;\n",
       "    }\n",
       "</style>\n",
       "<table border=\"1\" class=\"dataframe\">\n",
       "  <thead>\n",
       "    <tr style=\"text-align: right;\">\n",
       "      <th></th>\n",
       "      <th>origseq</th>\n",
       "      <th>origsco</th>\n",
       "      <th>bestseqs</th>\n",
       "      <th>bestscos</th>\n",
       "      <th>maxsco</th>\n",
       "      <th>diff</th>\n",
       "    </tr>\n",
       "  </thead>\n",
       "  <tbody>\n",
       "    <tr>\n",
       "      <th>0</th>\n",
       "      <td>Question: How do our bodies produce heat?\\n\\nW...</td>\n",
       "      <td>0.758789</td>\n",
       "      <td>[Question: How do our bodies produce heat?\\n\\n...</td>\n",
       "      <td>[1.130859375]</td>\n",
       "      <td>1.130859</td>\n",
       "      <td>0.372070</td>\n",
       "    </tr>\n",
       "    <tr>\n",
       "      <th>1</th>\n",
       "      <td>Question: How do our bodies produce heat?\\n\\nW...</td>\n",
       "      <td>0.440186</td>\n",
       "      <td>[Question: How do our bodies produce heat?\\n\\n...</td>\n",
       "      <td>[0.9995117188]</td>\n",
       "      <td>0.999512</td>\n",
       "      <td>0.559326</td>\n",
       "    </tr>\n",
       "    <tr>\n",
       "      <th>2</th>\n",
       "      <td>Question: How do our bodies produce heat?\\n\\nW...</td>\n",
       "      <td>0.151367</td>\n",
       "      <td>[]</td>\n",
       "      <td>[]</td>\n",
       "      <td>0.151367</td>\n",
       "      <td>0.000000</td>\n",
       "    </tr>\n",
       "    <tr>\n",
       "      <th>3</th>\n",
       "      <td>Question: How do our bodies produce heat?\\n\\nW...</td>\n",
       "      <td>0.326660</td>\n",
       "      <td>[Question: How do our bodies produce heat?\\n\\n...</td>\n",
       "      <td>[0.3842773438, 0.62890625, 1.0419921875]</td>\n",
       "      <td>1.041992</td>\n",
       "      <td>0.715332</td>\n",
       "    </tr>\n",
       "    <tr>\n",
       "      <th>4</th>\n",
       "      <td>Question: How do our bodies produce heat?\\n\\nW...</td>\n",
       "      <td>0.760742</td>\n",
       "      <td>[]</td>\n",
       "      <td>[]</td>\n",
       "      <td>0.760742</td>\n",
       "      <td>0.000000</td>\n",
       "    </tr>\n",
       "    <tr>\n",
       "      <th>...</th>\n",
       "      <td>...</td>\n",
       "      <td>...</td>\n",
       "      <td>...</td>\n",
       "      <td>...</td>\n",
       "      <td>...</td>\n",
       "      <td>...</td>\n",
       "    </tr>\n",
       "    <tr>\n",
       "      <th>1594</th>\n",
       "      <td>Question: Why are the storage of the phone cap...</td>\n",
       "      <td>0.308838</td>\n",
       "      <td>[Question: Why are the storage of the phone ca...</td>\n",
       "      <td>[0.4128417969, 0.5732421875, 0.5971679688, 0.7...</td>\n",
       "      <td>0.812500</td>\n",
       "      <td>0.503662</td>\n",
       "    </tr>\n",
       "    <tr>\n",
       "      <th>1595</th>\n",
       "      <td>Question: Why are the storage of the phone cap...</td>\n",
       "      <td>0.510742</td>\n",
       "      <td>[Question: Why are the storage of the phone ca...</td>\n",
       "      <td>[1.048828125]</td>\n",
       "      <td>1.048828</td>\n",
       "      <td>0.538086</td>\n",
       "    </tr>\n",
       "    <tr>\n",
       "      <th>1596</th>\n",
       "      <td>Question: Why are the storage of the phone cap...</td>\n",
       "      <td>1.105469</td>\n",
       "      <td>[Question: Why are the storage of the phone ca...</td>\n",
       "      <td>[1.19140625]</td>\n",
       "      <td>1.191406</td>\n",
       "      <td>0.085938</td>\n",
       "    </tr>\n",
       "    <tr>\n",
       "      <th>1597</th>\n",
       "      <td>Question: Why are the storage of the phone cap...</td>\n",
       "      <td>0.708496</td>\n",
       "      <td>[Question: Why are the storage of the phone ca...</td>\n",
       "      <td>[0.7631835938, 0.8227539062, 0.822265625]</td>\n",
       "      <td>0.822754</td>\n",
       "      <td>0.114258</td>\n",
       "    </tr>\n",
       "    <tr>\n",
       "      <th>1598</th>\n",
       "      <td>Question: Why are the storage of the phone cap...</td>\n",
       "      <td>0.555664</td>\n",
       "      <td>[Question: Why are the storage of the phone ca...</td>\n",
       "      <td>[0.8295898438, 1.0546875, 1.3408203125]</td>\n",
       "      <td>1.340820</td>\n",
       "      <td>0.785156</td>\n",
       "    </tr>\n",
       "  </tbody>\n",
       "</table>\n",
       "<p>1599 rows × 6 columns</p>\n",
       "</div>"
      ],
      "text/plain": [
       "                                                origseq   origsco  \\\n",
       "0     Question: How do our bodies produce heat?\\n\\nW...  0.758789   \n",
       "1     Question: How do our bodies produce heat?\\n\\nW...  0.440186   \n",
       "2     Question: How do our bodies produce heat?\\n\\nW...  0.151367   \n",
       "3     Question: How do our bodies produce heat?\\n\\nW...  0.326660   \n",
       "4     Question: How do our bodies produce heat?\\n\\nW...  0.760742   \n",
       "...                                                 ...       ...   \n",
       "1594  Question: Why are the storage of the phone cap...  0.308838   \n",
       "1595  Question: Why are the storage of the phone cap...  0.510742   \n",
       "1596  Question: Why are the storage of the phone cap...  1.105469   \n",
       "1597  Question: Why are the storage of the phone cap...  0.708496   \n",
       "1598  Question: Why are the storage of the phone cap...  0.555664   \n",
       "\n",
       "                                               bestseqs  \\\n",
       "0     [Question: How do our bodies produce heat?\\n\\n...   \n",
       "1     [Question: How do our bodies produce heat?\\n\\n...   \n",
       "2                                                    []   \n",
       "3     [Question: How do our bodies produce heat?\\n\\n...   \n",
       "4                                                    []   \n",
       "...                                                 ...   \n",
       "1594  [Question: Why are the storage of the phone ca...   \n",
       "1595  [Question: Why are the storage of the phone ca...   \n",
       "1596  [Question: Why are the storage of the phone ca...   \n",
       "1597  [Question: Why are the storage of the phone ca...   \n",
       "1598  [Question: Why are the storage of the phone ca...   \n",
       "\n",
       "                                               bestscos    maxsco      diff  \n",
       "0                                         [1.130859375]  1.130859  0.372070  \n",
       "1                                        [0.9995117188]  0.999512  0.559326  \n",
       "2                                                    []  0.151367  0.000000  \n",
       "3              [0.3842773438, 0.62890625, 1.0419921875]  1.041992  0.715332  \n",
       "4                                                    []  0.760742  0.000000  \n",
       "...                                                 ...       ...       ...  \n",
       "1594  [0.4128417969, 0.5732421875, 0.5971679688, 0.7...  0.812500  0.503662  \n",
       "1595                                      [1.048828125]  1.048828  0.538086  \n",
       "1596                                       [1.19140625]  1.191406  0.085938  \n",
       "1597          [0.7631835938, 0.8227539062, 0.822265625]  0.822754  0.114258  \n",
       "1598            [0.8295898438, 1.0546875, 1.3408203125]  1.340820  0.785156  \n",
       "\n",
       "[1599 rows x 6 columns]"
      ]
     },
     "execution_count": 11,
     "metadata": {},
     "output_type": "execute_result"
    }
   ],
   "source": [
    "hds['wgptda']"
   ]
  },
  {
   "cell_type": "code",
   "execution_count": 13,
   "id": "ac58b71e-c39a-43ba-8117-3fcd263ddc02",
   "metadata": {},
   "outputs": [],
   "source": [
    "stacktok = AutoTokenizer.from_pretrained(\"../stack-llama/models/sft/\")\n",
    "wgtok = AutoTokenizer.from_pretrained(\"../webgpt-llama/models/sft10k/\")"
   ]
  },
  {
   "cell_type": "code",
   "execution_count": null,
   "id": "80b58527-780a-40eb-8a75-d6cdfcd26308",
   "metadata": {},
   "outputs": [],
   "source": [
    "tok, stackorigrm, kwargs = load_rm(\"../stack-llama/models/rewardbigdset/\", 0)"
   ]
  },
  {
   "cell_type": "code",
   "execution_count": 40,
   "id": "c046ee75-b851-44eb-b7e2-8918ab1d7422",
   "metadata": {},
   "outputs": [],
   "source": [
    "wgptd = pd.read_json(\"../trl-general/genouts/generated_wgptmultisampset.jsonl\", lines=True, orient='records')\n",
    "stackd = pd.read_json(\"../trl-general/genouts/generated_stackmultisampset.jsonl\", lines=True, orient='records')"
   ]
  },
  {
   "cell_type": "code",
   "execution_count": 42,
   "id": "55bf906c-6155-43f5-807f-45ecf8972a41",
   "metadata": {},
   "outputs": [
    {
     "name": "stderr",
     "output_type": "stream",
     "text": [
      "/tmp/ipykernel_3119224/2436522125.py:38: SettingWithCopyWarning: \n",
      "A value is trying to be set on a copy of a slice from a DataFrame.\n",
      "Try using .loc[row_indexer,col_indexer] = value instead\n",
      "\n",
      "See the caveats in the documentation: https://pandas.pydata.org/pandas-docs/stable/user_guide/indexing.html#returning-a-view-versus-a-copy\n",
      "  indf['answers'] = [splitall(s) for s in indf['response']]\n",
      "Token indices sequence length is longer than the specified maximum sequence length for this model (630 > 512). Running this sequence through the model will result in indexing errors\n"
     ]
    }
   ],
   "source": [
    "wgptd = procall(wgptd, wgtok, True)\n",
    "stackd = procall(stackd, stacktok, False)"
   ]
  },
  {
   "cell_type": "code",
   "execution_count": 43,
   "id": "5aadb9c0-b36c-4d80-aacb-a5eb8f2d9dcf",
   "metadata": {},
   "outputs": [],
   "source": [
    "wresps = pd.DataFrame({'response':getfulldist(wgptd['response'])})\n",
    "stackresps = pd.DataFrame({'response':getfulldist(stackd['response'])})"
   ]
  },
  {
   "cell_type": "code",
   "execution_count": 16,
   "id": "653532b8-bc5e-470e-aee2-a89209d738b9",
   "metadata": {},
   "outputs": [],
   "source": [
    "rmdfs = load_all_rmdfs(\"../trl-general/rmtmps/\")"
   ]
  },
  {
   "cell_type": "code",
   "execution_count": 17,
   "id": "5fc8c3e8-9ac2-498c-9a2a-b295dfad96ce",
   "metadata": {},
   "outputs": [
    {
     "data": {
      "text/plain": [
       "dict_keys(['stack_shuffrewardda', 'stack_shuffrewardmixed', 'wgpt_shuffrewardmodel', 'wgpt_shuffrewardrandda', 'stack_shuffrewardsanity', 'stack_shuffrewardrandaug'])"
      ]
     },
     "execution_count": 17,
     "metadata": {},
     "output_type": "execute_result"
    }
   ],
   "source": [
    "rmdfs.keys()"
   ]
  },
  {
   "cell_type": "code",
   "execution_count": 90,
   "id": "937751b1-4cc0-46ab-892d-1b35dd6ed77f",
   "metadata": {},
   "outputs": [],
   "source": [
    "keyval = \"wgpt_rewardmodel\""
   ]
  },
  {
   "cell_type": "code",
   "execution_count": 82,
   "id": "ca214c9f-621b-4728-af95-98af75e428d8",
   "metadata": {},
   "outputs": [],
   "source": [
    "def getcorr(row, pearson=False):\n",
    "    if pearson:\n",
    "        return pearsonr(row['atoks'], row['reward']).statistic\n",
    "    else:\n",
    "        return kendalltau(row['atoks'], row['reward']).statistic"
   ]
  },
  {
   "cell_type": "code",
   "execution_count": 85,
   "id": "3e67a3b1-ea7f-47e4-870b-3e9da3f82229",
   "metadata": {},
   "outputs": [
    {
     "name": "stdout",
     "output_type": "stream",
     "text": [
      "stack_rewardmixed\n",
      "0.26950082145072624\n",
      "0.19858120402385648\n",
      "wgpt_rewardmodel\n",
      "0.7394691336720456\n",
      "0.5822256148543397\n",
      "wgpt_rewardrandda\n",
      "0.48551730395099724\n",
      "0.3612255397434974\n",
      "stack_rewardda\n",
      "0.4192680794305942\n",
      "0.3137610095053727\n",
      "stack_rewardsanity\n",
      "0.3991052727728961\n",
      "0.28856944489854125\n",
      "stack_rewardrandaug\n",
      "0.373110518642094\n",
      "0.27109995120037533\n"
     ]
    }
   ],
   "source": [
    "for k in rmdfs.keys():\n",
    "    print(k)\n",
    "    keyval = k\n",
    "    sps = [getcorr(r, True) for _, r in rmdfs[k].iterrows()]\n",
    "    kts = [getcorr(r, False) for _, r in rmdfs[k].iterrows()]\n",
    "    print(mean([s for s in sps if not math.isnan(s)]))\n",
    "    print(mean([s for s in kts if not math.isnan(s)]))\n",
    "    #print(spearmanr(getfulldist(rmdfs[keyval].reward), getfulldist(rmdfs[keyval].atoks)))\n",
    "    #print(kendalltau(getfulldist(rmdfs[keyval].reward), getfulldist(rmdfs[keyval].atoks)))"
   ]
  },
  {
   "cell_type": "code",
   "execution_count": 91,
   "id": "105b0100-3fe3-4928-aed1-2e87f00875d8",
   "metadata": {},
   "outputs": [
    {
     "data": {
      "text/plain": [
       "(array([  94.,  482., 1565., 1944., 1199.,  667.,  252.,  103.,   47.,\n",
       "          39.]),\n",
       " array([  2. ,  27.6,  53.2,  78.8, 104.4, 130. , 155.6, 181.2, 206.8,\n",
       "        232.4, 258. ]),\n",
       " <BarContainer object of 10 artists>)"
      ]
     },
     "execution_count": 91,
     "metadata": {},
     "output_type": "execute_result"
    },
    {
     "data": {
      "image/png": "[encoded data removed]",
      "text/plain": [
       "<Figure size 640x480 with 1 Axes>"
      ]
     },
     "metadata": {},
     "output_type": "display_data"
    }
   ],
   "source": [
    "plt.hist(getfulldist(rmdfs[keyval].atoks))"
   ]
  },
  {
   "cell_type": "code",
   "execution_count": 19,
   "id": "98be364f-8058-47a8-b44b-9081b92ca4a0",
   "metadata": {},
   "outputs": [
    {
     "name": "stdout",
     "output_type": "stream",
     "text": [
      "stack_shuffrewardda\n",
      "PearsonRResult(statistic=0.19360208722151298, pvalue=9.304967998824017e-55)\n",
      "stack_shuffrewardmixed\n",
      "PearsonRResult(statistic=-0.02117794872229203, pvalue=0.0912595806538025)\n",
      "wgpt_shuffrewardmodel\n",
      "PearsonRResult(statistic=0.6862010148602476, pvalue=0.0)\n",
      "wgpt_shuffrewardrandda\n",
      "PearsonRResult(statistic=0.24138648827280548, pvalue=2.0606832492580663e-85)\n",
      "stack_shuffrewardsanity\n",
      "PearsonRResult(statistic=0.09725125541677739, pvalue=7.685828382720676e-15)\n",
      "stack_shuffrewardrandaug\n",
      "PearsonRResult(statistic=0.07587236737730434, pvalue=1.3753695111232166e-09)\n"
     ]
    }
   ],
   "source": [
    "for k in rmdfs.keys():\n",
    "    print(k)\n",
    "    keyval = k\n",
    "    print(pearsonr(getfulldist(rmdfs[keyval].reward), getfulldist(rmdfs[keyval].atoks)))\n",
    "    #print(spearmanr(getfulldist(rmdfs[keyval].reward), getfulldist(rmdfs[keyval].atoks)))\n",
    "    # print(kendalltau(getfulldist(rmdfs[keyval].reward), getfulldist(rmdfs[keyval].atoks)))"
   ]
  },
  {
   "cell_type": "code",
   "execution_count": null,
   "id": "623f8223-8204-48e0-8ec2-185cd0e055cb",
   "metadata": {},
   "outputs": [],
   "source": [
    "print(mean([stdev(s) for s in rmdfs[keyval].reward])/stdev(getfulldist(rmdfs[keyval].reward)))\n",
    "plt.hist([stdev(s) for s in rmdfs[keyval].reward])"
   ]
  },
  {
   "cell_type": "code",
   "execution_count": null,
   "id": "1ad85220-bbe5-45ca-91cf-72cf9d054a54",
   "metadata": {},
   "outputs": [],
   "source": [
    "wgptorigrm = load_rm(\"../tr\")"
   ]
  },
  {
   "cell_type": "code",
   "execution_count": 11,
   "id": "2d1fcce4-0963-4979-b4ad-3b4f80f895e2",
   "metadata": {},
   "outputs": [],
   "source": [
    "allresps = getfulldist(stackouts.response)"
   ]
  },
  {
   "cell_type": "code",
   "execution_count": 16,
   "id": "3d20a0ef-d291-4d27-8712-ef00f5b23f07",
   "metadata": {},
   "outputs": [
    {
     "name": "stderr",
     "output_type": "stream",
     "text": [
      " 57%|██████████████████████████████████████████████████████████████████████████████▊                                                           | 4/7 [00:32<00:27,  9.12s/it]/home/prasann/miniconda3/envs/rlenv/lib/python3.9/site-packages/transformers/pipelines/base.py:1083: UserWarning: You seem to be using the pipelines sequentially on GPU. In order to maximize efficiency please use a dataset\n",
      "  warnings.warn(\n",
      "100%|██████████████████████████████████████████████████████████████████████████████████████████████████████████████████████████████████████████| 7/7 [00:49<00:00,  7.09s/it]\n"
     ]
    }
   ],
   "source": [
    "allscos = progress_rm(allresps[:100], stackorigrm, kwargs)"
   ]
  },
  {
   "cell_type": "code",
   "execution_count": null,
   "id": "8b480b39-54ff-4656-9450-fedceb9d6a8f",
   "metadata": {},
   "outputs": [],
   "source": [
    "compdist([a[0]['score'] for a in allscos], 8)"
   ]
  },
  {
   "cell_type": "code",
   "execution_count": 8,
   "id": "bac995a2-9dba-4563-a24a-5b2323ba6957",
   "metadata": {},
   "outputs": [
    {
     "data": {
      "text/plain": [
       "(array([ 229.,  526.,  818.,  767.,  656.,  560.,  466.,  340.,  289.,\n",
       "        1709.]),\n",
       " array([  4. ,  30.2,  56.4,  82.6, 108.8, 135. , 161.2, 187.4, 213.6,\n",
       "        239.8, 266. ]),\n",
       " <BarContainer object of 10 artists>)"
      ]
     },
     "execution_count": 8,
     "metadata": {},
     "output_type": "execute_result"
    },
    {
     "data": {
      "image/png": "[encoded data removed]",
      "text/plain": [
       "<Figure size 640x480 with 1 Axes>"
      ]
     },
     "metadata": {},
     "output_type": "display_data"
    }
   ],
   "source": [
    "plt.hist(getfulldist(stackouts.atoks))"
   ]
  },
  {
   "cell_type": "code",
   "execution_count": null,
   "id": "a17e8c36-32bf-4b6c-99e8-1ee746a4b397",
   "metadata": {},
   "outputs": [],
   "source": []
  }
 ],
 "metadata": {
  "kernelspec": {
   "display_name": "Python 3 (ipykernel)",
   "language": "python",
   "name": "python3"
  },
  "language_info": {
   "codemirror_mode": {
    "name": "ipython",
    "version": 3
   },
   "file_extension": ".py",
   "mimetype": "text/x-python",
   "name": "python",
   "nbconvert_exporter": "python",
   "pygments_lexer": "ipython3",
   "version": "3.10.0"
  }
 },
 "nbformat": 4,
 "nbformat_minor": 5
}
