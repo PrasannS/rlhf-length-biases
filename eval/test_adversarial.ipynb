{
 "cells": [
  {
   "cell_type": "code",
   "execution_count": 1,
   "id": "58628330-c55a-4ea6-b269-a4effff2449e",
   "metadata": {},
   "outputs": [
    {
     "name": "stderr",
     "output_type": "stream",
     "text": [
      "/home/prasann/miniconda3/envs/rlenv/lib/python3.9/site-packages/tqdm/auto.py:21: TqdmWarning: IProgress not found. Please update jupyter and ipywidgets. See https://ipywidgets.readthedocs.io/en/stable/user_install.html\n",
      "  from .autonotebook import tqdm as notebook_tqdm\n"
     ]
    },
    {
     "name": "stdout",
     "output_type": "stream",
     "text": [
      "[2023-08-17 18:09:29,323] [INFO] [real_accelerator.py:110:get_accelerator] Setting ds_accelerator to cuda (auto detect)\n"
     ]
    },
    {
     "name": "stderr",
     "output_type": "stream",
     "text": [
      "/tmp/ipykernel_4057156/3391896665.py:22: DeprecationWarning: Importing display from IPython.core.display is deprecated since IPython 7.14, please import from IPython display\n",
      "  from IPython.core.display import display, HTML\n"
     ]
    }
   ],
   "source": [
    "from dataclasses import dataclass, field\n",
    "from typing import Optional\n",
    "\n",
    "import torch\n",
    "from accelerate import Accelerator\n",
    "from datasets import load_dataset\n",
    "from peft import LoraConfig, TaskType, PeftModel\n",
    "from tqdm import tqdm\n",
    "from transformers import Adafactor, AutoTokenizer, HfArgumentParser, pipeline, AutoModelForSequenceClassification, AutoModelForCausalLM\n",
    "\n",
    "from trl import AutoModelForCausalLMWithValueHead, PPOConfig, PPOTrainer, set_seed\n",
    "from trl.core import LengthSampler\n",
    "\n",
    "from transformers import pipeline, AutoTokenizer\n",
    "import random\n",
    "from nltk.corpus import stopwords\n",
    "from random import sample, seed\n",
    "from rm_grad_inputs import get_scograds, propose_new_sequence\n",
    "from torch.nn.functional import log_softmax, softmax\n",
    "import pandas as pd\n",
    "import difflib\n",
    "from IPython.core.display import display, HTML\n",
    "import os\n",
    "import matplotlib.pyplot as plt"
   ]
  },
  {
   "cell_type": "code",
   "execution_count": 2,
   "id": "012a69b1-0d5d-4f72-a526-63289f57a458",
   "metadata": {},
   "outputs": [],
   "source": [
    "def load_alldfs(base=\"../rm-attacks/attackouts/\"):\n",
    "    alldfs = {}\n",
    "    for f in os.listdir(base):\n",
    "        if f[0]==\".\":\n",
    "            continue\n",
    "        if \".jsonl\" not in f:\n",
    "            continue\n",
    "        tmp = pd.read_json(base+f, lines=True, orient='records')\n",
    "        tmp = tmp.dropna()\n",
    "        tmp['maxsco'] = [max(m.bestscos+[m.origsco]) for i, m in tmp.iterrows()]\n",
    "        alldfs[f.replace(\"generated_\", \"\").replace(\".jsonl\", \"\")] = tmp\n",
    "        \n",
    "    return alldfs"
   ]
  },
  {
   "cell_type": "code",
   "execution_count": 3,
   "id": "eb2051e6-e0be-487a-90da-679757bf3baf",
   "metadata": {},
   "outputs": [],
   "source": [
    "adfs = load_alldfs()"
   ]
  },
  {
   "cell_type": "code",
   "execution_count": 4,
   "id": "ee18a195-935a-478d-af85-dc907bd02183",
   "metadata": {},
   "outputs": [
    {
     "data": {
      "text/plain": [
       "dict_keys(['sft_sft'])"
      ]
     },
     "execution_count": 4,
     "metadata": {},
     "output_type": "execute_result"
    }
   ],
   "source": [
    "adfs.keys()"
   ]
  },
  {
   "cell_type": "code",
   "execution_count": 8,
   "id": "0030d358-a4bd-4cfa-bf9a-e12ff94206e5",
   "metadata": {},
   "outputs": [
    {
     "data": {
      "text/plain": [
       "0.0867896802530303"
      ]
     },
     "execution_count": 8,
     "metadata": {},
     "output_type": "execute_result"
    }
   ],
   "source": [
    "(adfs['sft_sft'].maxsco - adfs['sft_sft'].origsco).mean()"
   ]
  },
  {
   "cell_type": "code",
   "execution_count": 6,
   "id": "9908149c-5e49-4376-aa27-36000784f04d",
   "metadata": {},
   "outputs": [
    {
     "name": "stdout",
     "output_type": "stream",
     "text": [
      "olds_olds75\n",
      "0.05153571234444444\n",
      "0.17183939615555557\n",
      "0.12030368381111113\n",
      "olds_olds150\n",
      "-0.21708573234999998\n",
      "-0.07065327961666666\n",
      "0.14643245273333333\n",
      "olds_sft\n",
      "1.0544704861055554\n",
      "1.1335110134499997\n",
      "0.07904052734444433\n",
      "olds_chosen\n",
      "nan\n",
      "nan\n",
      "nan\n",
      "olds_olds50\n",
      "0.06757397121111113\n",
      "0.29375712077222227\n",
      "0.22618314956111113\n",
      "olds_reject\n",
      "nan\n",
      "nan\n",
      "nan\n",
      "olds_olds100\n",
      "-0.17583889432777777\n",
      "0.047827826616666666\n",
      "0.22366672094444445\n",
      "olds_olds125\n",
      "-0.02914767795\n",
      "0.10289510090555555\n",
      "0.13204277885555554\n",
      "olds_olds25\n",
      "-0.03004625108888889\n",
      "0.15115695529999998\n",
      "0.18120320638888887\n"
     ]
    }
   ],
   "source": [
    "for k in adfs:\n",
    "    print(k)\n",
    "    print(adfs[k].origsco.mean())\n",
    "    print(adfs[k].maxsco.mean())\n",
    "    print(adfs[k].maxsco.mean() - adfs[k].origsco.mean())"
   ]
  },
  {
   "cell_type": "code",
   "execution_count": 2,
   "id": "8aebe7db-7124-43df-88c1-1ab84d583781",
   "metadata": {},
   "outputs": [],
   "source": [
    "%load_ext autoreload\n",
    "%autoreload 2"
   ]
  },
  {
   "cell_type": "code",
   "execution_count": 3,
   "id": "9b3abd08-906b-41c0-883e-e5119e1c26ed",
   "metadata": {},
   "outputs": [],
   "source": [
    "tokenizer = AutoTokenizer.from_pretrained(\"../trl-stack/models/rewardmodel/\")\n",
    "tokenizer.pad_token = tokenizer.eos_token"
   ]
  },
  {
   "cell_type": "code",
   "execution_count": 4,
   "id": "588ddfd8-a511-426b-8314-6a94ac54fe2d",
   "metadata": {},
   "outputs": [
    {
     "ename": "NameError",
     "evalue": "name 'rmodel' is not defined",
     "output_type": "error",
     "traceback": [
      "\u001b[0;31m---------------------------------------------------------------------------\u001b[0m",
      "\u001b[0;31mNameError\u001b[0m                                 Traceback (most recent call last)",
      "Cell \u001b[0;32mIn[4], line 1\u001b[0m\n\u001b[0;32m----> 1\u001b[0m \u001b[38;5;28;01mdel\u001b[39;00m rmodel\n",
      "\u001b[0;31mNameError\u001b[0m: name 'rmodel' is not defined"
     ]
    }
   ],
   "source": [
    "del rmodel"
   ]
  },
  {
   "cell_type": "code",
   "execution_count": 5,
   "id": "107aae94-8e1f-4408-a69a-4e1b4fc725a7",
   "metadata": {},
   "outputs": [
    {
     "name": "stderr",
     "output_type": "stream",
     "text": [
      "Loading checkpoint shards: 100%|█████████████████████████████████████████████████████████████████████████████████████████████████████████████████████████████████| 2/2 [00:09<00:00,  4.71s/it]\n"
     ]
    }
   ],
   "source": [
    "rmodel = AutoModelForSequenceClassification.from_pretrained(\n",
    "    \"../trl-stack/models/rewardmodel/\", num_labels=1, device_map={\"\": 0},\n",
    "    load_in_8bit=True,\n",
    ")"
   ]
  },
  {
   "cell_type": "code",
   "execution_count": 6,
   "id": "81dc9090-1033-4939-8048-d6b7fc1629e8",
   "metadata": {
    "scrolled": true
   },
   "outputs": [
    {
     "name": "stderr",
     "output_type": "stream",
     "text": [
      "Loading checkpoint shards: 100%|█████████████████████████████████████████████████████████████████████████████████████████████████████████████████████████████████| 2/2 [00:09<00:00,  4.62s/it]\n"
     ]
    }
   ],
   "source": [
    "sftmodel = AutoModelForCausalLM.from_pretrained(\n",
    "    \"../trl-stack/models/sft\",\n",
    "    load_in_8bit=True, # re-enable for llama model\n",
    "    device_map={\"\": 1},\n",
    "    #peft_config=lora_config,\n",
    ")\n",
    "sftmodel.eval()"
   ]
  },
  {
   "cell_type": "code",
   "execution_count": 8,
   "id": "7da74af6-8155-48fc-8124-fa61063aef31",
   "metadata": {},
   "outputs": [],
   "source": [
    "da = pd.read_json(\"../generated_daouts_100.jsonl\", lines=True, orient='records')\n",
    "da = pd.concat([da, pd.read_json(\"../generated_daouts.jsonl\", lines=True, orient='records')])\n",
    "oldrm = pd.read_json(\"../generated_oldrmouts_100.jsonl\", lines=True, orient='records')\n",
    "oldrm = pd.concat([oldrm, pd.read_json(\"../generated_oldrmouts.jsonl\", lines=True, orient='records')])\n",
    "orig = pd.read_json(\"../generated_origouts_100.jsonl\", lines=True, orient='records')\n",
    "orig = pd.concat([orig, pd.read_json(\"../generated_origouts.jsonl\", lines=True, orient='records')])"
   ]
  },
  {
   "cell_type": "code",
   "execution_count": 35,
   "id": "e357c37f-1ded-4576-8d05-3957f9d6deed",
   "metadata": {},
   "outputs": [],
   "source": [
    "inps = tokenizer(\"Question: What is 1 + 1? Answer: It is actually pretty complicated\", return_tensors=\"pt\")\n",
    "logs = sftmodel(**inps)"
   ]
  },
  {
   "cell_type": "code",
   "execution_count": 36,
   "id": "fa54be64-18a3-4cef-bab4-36f5bd32d608",
   "metadata": {},
   "outputs": [
    {
     "data": {
      "text/plain": [
       "tensor([[[-12.6016, -26.8906,   4.2969,  ...,  -7.4609,  -8.1953,  -7.1445],\n",
       "         [ -5.4414, -16.7656,   8.1719,  ...,   0.2076,   0.8364,   2.1094],\n",
       "         [-10.8281, -18.3906,   3.8555,  ...,  -5.3945,  -5.4648,  -1.3467],\n",
       "         ...,\n",
       "         [ -8.5391, -10.7891,   4.8477,  ...,  -7.1836,  -4.4727,  -2.6426],\n",
       "         [ -8.5312, -12.6406,   3.7266,  ...,  -7.0430,  -6.2305,  -4.2578],\n",
       "         [ -2.8301,  -5.6172,  10.8750,  ...,  -1.8711,  -0.3342,  -0.6865]]],\n",
       "       grad_fn=<ToCopyBackward0>)"
      ]
     },
     "execution_count": 36,
     "metadata": {},
     "output_type": "execute_result"
    }
   ],
   "source": [
    "logs.logits"
   ]
  },
  {
   "cell_type": "code",
   "execution_count": 37,
   "id": "a7bb1b78-0ab7-40ca-b7c5-598a1214d938",
   "metadata": {
    "scrolled": true
   },
   "outputs": [
    {
     "data": {
      "text/plain": [
       "tensor(0.3665, dtype=torch.float16, grad_fn=<SqueezeBackward0>)"
      ]
     },
     "execution_count": 37,
     "metadata": {},
     "output_type": "execute_result"
    }
   ],
   "source": [
    "inps = tokenizer(\"Question: What is 1 + 1? Answer: It is actually pretty complicated\", return_tensors=\"pt\")\n",
    "rmodel(**inps).logits.squeeze()"
   ]
  },
  {
   "cell_type": "code",
   "execution_count": 11,
   "id": "ea08c008-a119-4153-ab5c-e24ca2b90667",
   "metadata": {},
   "outputs": [
    {
     "data": {
      "text/plain": [
       "{'input_ids': [1, 1234, 29889, 13, 13, 22550, 29901, 29871, 29896, 29899], 'attention_mask': [1, 1, 1, 1, 1, 1, 1, 1, 1, 1]}"
      ]
     },
     "execution_count": 11,
     "metadata": {},
     "output_type": "execute_result"
    }
   ],
   "source": [
    "tokenizer(\"answer.\\n\\nAnswer: 1-\")"
   ]
  },
  {
   "cell_type": "code",
   "execution_count": 65,
   "id": "deb78cd1-5a4a-4305-8b1f-eab989904ad7",
   "metadata": {},
   "outputs": [
    {
     "data": {
      "text/plain": [
       "'Answer'"
      ]
     },
     "execution_count": 65,
     "metadata": {},
     "output_type": "execute_result"
    }
   ],
   "source": [
    "tokenizer.decode(22550)"
   ]
  },
  {
   "cell_type": "code",
   "execution_count": 9,
   "id": "3d499a27-7e7f-4ad9-adfa-a92505422a62",
   "metadata": {},
   "outputs": [],
   "source": [
    "def highlight_differences(old, new):\n",
    "    d = difflib.Differ()\n",
    "    diff = list(d.compare(old, new))\n",
    "    \n",
    "    display_str = \"\"\n",
    "    \n",
    "    for s in diff:\n",
    "        if s[0] == ' ':\n",
    "            display_str += s[2:]\n",
    "        elif s[0] == '-':\n",
    "            display_str += f\"<span style='background-color: red'>{s[2:]}</span>\"\n",
    "        elif s[0] == '+':\n",
    "            display_str += f\"<span style='background-color: green'>{s[2:]}</span>\"\n",
    "    \n",
    "    display(HTML(display_str))"
   ]
  },
  {
   "cell_type": "code",
   "execution_count": 36,
   "id": "bb2a129a-2dd4-4b60-b7eb-301b36b498ee",
   "metadata": {},
   "outputs": [
    {
     "data": {
      "text/plain": [
       "\"Question: How to call a function by add an onclick event in react class through innerHTML\\n\\n```\\ndocument.getElementById('activeEmployeesTableContent').innerHTML = `\\n                                    <tr>\\n                                      <td>${res.data.empId}</td>\\n                                      <td><button onclick = ${this.fun}>CLICK</button></td>\\n                                    </tr>\\n                                  `;\\n\\n```\\n\\nThe above code is not working but i must use innerHTML to add the code dynamically into the table body\\n\\n```\\n  componentDidMount(){\\n     axios.post('http://localhost:5000/employeesRetrieval')\\n      .then( res => {\\n          document.getElementById('activeEmployeesTableContent').innerHTML = `\\n                                  <tr>\\n                                    <td>${res.data.empId}</td>\\n                                    <td><button onclick = ${this.fun(res.data.empid)}>CLICK</button></td>\\n                                  </tr>`;\\n      }).catch( err => {\\n        console.log(err);\\n      });\\n  }\\n\\n```\\n\\nAnswer: 1) If you're calling this from a `componentWillReceiveProps` callback, then your first example will work because it just makes sure that `this._currentComponent` has been set before executing the rest of its code (see below). The alternative would be passing `_currentComponent`, which may or may not already have been initialised when this method gets called. This also means that if there are any side effects of setting up props and state on subsequent calls, you can do those directly in the first block instead of creating new functions each time - something like this...\\n\\n2) However, if you *must* pass _another_ variable as well as using React's current component, here's how to get around the issue described at the top of my answer for your second approach (`this.fun()`):\\n\\n3) Or alternatively, simply make your `function fun({ id }) {}` static and don't bother trying to reference anything outside the scope of it... But I doubt you really want to do that since you probably need access to some data contained inside `this`.\\n\\n4) For what it's worth, all three approaches actually end up doing roughly the same thing so far as `props` go -- they\""
      ]
     },
     "execution_count": 36,
     "metadata": {},
     "output_type": "execute_result"
    }
   ],
   "source": [
    "str(orig['response'].iloc[6])"
   ]
  },
  {
   "cell_type": "code",
   "execution_count": 27,
   "id": "e5f4090e-088c-478f-929d-c34c18391b1c",
   "metadata": {},
   "outputs": [],
   "source": [
    "torch.cuda.empty_cache()"
   ]
  },
  {
   "cell_type": "code",
   "execution_count": 38,
   "id": "619fff6a-15f5-4075-b1d2-2a995a38083b",
   "metadata": {},
   "outputs": [
    {
     "name": "stdout",
     "output_type": "stream",
     "text": [
      "curscore tensor(0.9316, device='cuda:0', dtype=torch.float16)\n",
      "[0.900390625, 0.705078125, 0.94287109375, 0.60302734375, 0.55615234375, 1.0400390625, 0.65380859375, 0.9130859375, 0.295166015625, 1.2001953125]\n",
      "curscore tensor(1.2002, device='cuda:0', dtype=torch.float16)\n",
      "[1.1640625, 1.1611328125, 1.416015625, 1.0234375, 1.07421875, 1.0634765625, 1.408203125, 1.267578125, 1.095703125, 1.2421875]\n",
      "curscore tensor(1.4160, device='cuda:0', dtype=torch.float16)\n",
      "[1.1083984375, 1.412109375, 1.416015625, 1.3330078125, 1.1259765625, 1.0107421875, 1.1328125, 1.0986328125, 1.2431640625, 1.4228515625]\n",
      "curscore tensor(1.4229, device='cuda:0', dtype=torch.float16)\n",
      "[1.3671875, 1.216796875, 1.216796875, 0.73779296875, 1.3857421875, 1.25390625, 1.2236328125, 1.2431640625, 1.4853515625, 1.4228515625]\n",
      "curscore tensor(1.4854, device='cuda:0', dtype=torch.float16)\n",
      "[1.3369140625, 1.267578125, 1.40625, 1.36328125, 1.6162109375, 1.458984375, 1.376953125, 1.1494140625, 1.44140625, 1.173828125]\n"
     ]
    }
   ],
   "source": [
    "ind = 13\n",
    "rmodel.zero_grad()\n",
    "torch.cuda.empty_cache()\n",
    "result = propose_new_sequence(\n",
    "    str(orig['response'].iloc[ind]),\n",
    "    5, \n",
    "    10, tokenizer, rmodel, sftmodel, 0)"
   ]
  },
  {
   "cell_type": "code",
   "execution_count": 41,
   "id": "ff208a3f-e268-4518-87ee-51a231d07a28",
   "metadata": {},
   "outputs": [
    {
     "data": {
      "text/plain": [
       "{'origseq': 'Question: i\\'m a newbie to java..i\\'m having difficulty in understanding generics. with what i understood i wrote the following demo program to understand Generics but there are errors..help required.\\n\\n```\\nclass GenDemoClass <I,S> \\n{\\n    private S info;\\n    public GenDemoClass(S str)\\n    {\\n        info = str;\\n    }\\n    public void displaySolidRect(I length,I width)\\n    {\\n        I tempLength = length;\\n        System.out.println();\\n        while(length > 0)\\n        {\\n            System.out.print(\"          \");\\n            for(int i = 0 ; i < width; i++)\\n            {\\n                System.out.print(\"*\");\\n            }\\n            System.out.println();\\n            length--;\\n        }\\n        info = \"A Rectangle of Length = \" + tempLength.toString() + \" and Width = \" + width.toString() + \" was drawn;\";     \\n    }\\n\\n    public void displayInfo()\\n    {\\n        System.out.println(info);\\n    }\\n}\\n\\npublic class GenDemo\\n{\\n    public static void main(String Ar[])\\n    {\\n        GenDemoClass<Integer,String> GDC = new GenDemoClass<Integer,String>(\"Initailize\");\\n        GDC.displaySolidRect(20,30);\\n        GDC.displayInfo();\\n    }\\n}\\n\\n```\\n\\nif i replace type variables I and S with `Integer` and `String` in the `GenDemoClass` then code seems to work..\\nthe errors are \\n\\n```\\nerror: bad operand types for binary operator \\'>\\'\\n                while(length > 0)\\n                             ^\\n  first type:  I\\n  second type: int\\n  where I is a type-variable:\\n    I extends Object declared in class GenDemoClass\\n\\n```\\n\\nAnswer: 1.) The compiler doesn’t know how much information can be stored at once inside your objects by default (because that depends on the runtime system). So you have to tell it using type bounds which you do when declaring them as parameters e.g.: `private String info;` or you define these yourself beforehand as `final`. You could also just use primitives instead if all this still works for you… Then you wouldn’t need any bounds because Java knows how many bytes fits into an `integer`, so he will assume no overflow ever happens. In fact, you don’t even have to declare integers as final anymore!\\n\\n2.) Your bound isn’t correct. For example, both `long` and `char` would fit within one `byte`, therefore they aren’t different enough (as long as we consider them “types”). And since primitive numbers get boxed up again anyway, you might actually want to say that both fit exactly into two bytes each, otherwise it might try to allocate more memory than needed. See [here](https://stackoverflow.com/questions/4867925/why-doesnt-java-use-primitive-data-type-bounds#answer-4867',\n",
       " 'origsco': 0.931640625,\n",
       " 'bestseqs': ['Question: i\\'m a newbie to java..i\\'m having difficulty in understanding generics. with what i understood i wrote the following demo program to understand Generics but there are errors..help required.\\n\\n```\\nclass GenDemoClass <I,S> \\n{\\n    private S info;\\n    public GenDemoClass(S str)\\n    {\\n        info = str;\\n    }\\n    public void displaySolidRect(I length,I width)\\n    {\\n        I tempLength = length;\\n        System.out.println();\\n        while(length > 0)\\n        {\\n            System.out.print(\"          \");\\n            for(int i = 0 ; i < width; i++)\\n            {\\n                System.out.print(\"*\");\\n            }\\n            System.out.println();\\n            length--;\\n        }\\n        info = \"A Rectangle of Length = \" + tempLength.toString() + \" and Width = \" + width.toString() + \" was drawn;\";     \\n    }\\n\\n    public void displayInfo()\\n    {\\n        System.out.println(info);\\n    }\\n}\\n\\npublic class GenDemo\\n{\\n    public static void main(String Ar[])\\n    {\\n        GenDemoClass<Integer,String> GDC = new GenDemoClass<Integer,String>(\"Initailize\");\\n        GDC.displaySolidRect(20,30);\\n        GDC.displayInfo();\\n    }\\n}\\n\\n```\\n\\nif i replace type variables I and S with `Integer` and `String` in the `GenDemoClass` then code seems to work..\\nthe errors are \\n\\n```\\nerror: bad operand types for binary operator \\'>\\'\\n                while(length > 0)\\n                             ^\\n  first type:  I\\n  second type: int\\n  where I is a type-variable:\\n    I extends Object declared in class GenDemoClass\\n\\n```\\n\\nAnswer: 1.) The compiler doesn’t know how much information can be stored at once inside your objects by default (because that depends on the runtime system). So you have to tell it using type bounds which you do when declaring them as parameters e.g.: `private String info;` or you define these yourself beforehand as `final`. You could also just use primitives instead if all this still works for you… Then you wouldn’t need any bounds because Java knows how many bytes fits into an `integer`, so he will assume no overflow ever happens. In fact, you don’t even have to declare integers as final anymore!\\n\\n2.) Your bound isn’t correct. For example, both `long` and `char` would fit within one `byte`, therefore they aren’t different enough (as long as we consider them “types”). And since primitive numbers get boxed up again anyway, you might actually want to say that both fit exactly into two bytes each, otherwise it might try to allocate more memory than needed. See [here](https://stackoverflow.com/questions/4867925/why-doesnt-java-use-primitive-data-type-bounds/#answer-4867',\n",
       "  'Question: i\\'m a newbie to java..i\\'m having difficulty in understanding generics. with what i understood i wrote the following demo program to understand Generics but there are errors..help required.\\n\\n```\\nclass GenDemoClass <I,S> \\n{\\n    private S info;\\n    public GenDemoClass(S str)\\n    {\\n        info = str;\\n    }\\n    public void displaySolidRect(I length,I width)\\n    {\\n        I tempLength = length;\\n        System.out.println();\\n        while(length > 0)\\n        {\\n            System.out.print(\"          \");\\n            for(int i = 0 ; i < width; i++)\\n            {\\n                System.out.print(\"*\");\\n            }\\n            System.out.println();\\n            length--;\\n        }\\n        info = \"A Rectangle of Length = \" + tempLength.toString() + \" and Width = \" + width.toString() + \" was drawn;\";     \\n    }\\n\\n    public void displayInfo()\\n    {\\n        System.out.println(info);\\n    }\\n}\\n\\npublic class GenDemo\\n{\\n    public static void main(String Ar[])\\n    {\\n        GenDemoClass<Integer,String> GDC = new GenDemoClass<Integer,String>(\"Initailize\");\\n        GDC.displaySolidRect(20,30);\\n        GDC.displayInfo();\\n    }\\n}\\n\\n```\\n\\nif i replace type variables I and S with `Integer` and `String` in the `GenDemoClass` then code seems to work..\\nthe errors are \\n\\n```\\nerror: bad operand types for binary operator \\'>\\'\\n                while(length > 0)\\n                             ^\\n  first type:  I\\n  second type: int\\n  where I is a type-variable:\\n    I extends Object declared in class GenDemoClass\\n\\n```\\n\\nAnswer: 1.) The compiler doesn’t know how much information can be stored at once inside your objects by default (because that depends on the runtime system). So you have to tell it using type bounds which you do when declaring them as parameters e.g.: `private String info;` or you define these yourself beforehand as `final`. You could also just use primitives instead if all this still works for you… Then you wouldn’t need any bounds because Java knows how many bytes fits into an `integer`, so he will assume no overflow ever happens. In fact, you don’t even have to declare integers as final anymore!\\n\\n2.) Your bound isn’t correct. For example, both `long` and `char` would fit within one `byte`, therefore they aren’t different enough (as long as we consider them “types”). And since primitive numbers get boxed up again anyway, you might actually want to say that both fit exactly into two bytes each, otherwise it might try to allocate more memory than needed. See [here](https://otlin.com/questions/4867925/why-doesnt-java-use-primitive-data-type-bounds/#answer-4867',\n",
       "  'Question: i\\'m a newbie to java..i\\'m having difficulty in understanding generics. with what i understood i wrote the following demo program to understand Generics but there are errors..help required.\\n\\n```\\nclass GenDemoClass <I,S> \\n{\\n    private S info;\\n    public GenDemoClass(S str)\\n    {\\n        info = str;\\n    }\\n    public void displaySolidRect(I length,I width)\\n    {\\n        I tempLength = length;\\n        System.out.println();\\n        while(length > 0)\\n        {\\n            System.out.print(\"          \");\\n            for(int i = 0 ; i < width; i++)\\n            {\\n                System.out.print(\"*\");\\n            }\\n            System.out.println();\\n            length--;\\n        }\\n        info = \"A Rectangle of Length = \" + tempLength.toString() + \" and Width = \" + width.toString() + \" was drawn;\";     \\n    }\\n\\n    public void displayInfo()\\n    {\\n        System.out.println(info);\\n    }\\n}\\n\\npublic class GenDemo\\n{\\n    public static void main(String Ar[])\\n    {\\n        GenDemoClass<Integer,String> GDC = new GenDemoClass<Integer,String>(\"Initailize\");\\n        GDC.displaySolidRect(20,30);\\n        GDC.displayInfo();\\n    }\\n}\\n\\n```\\n\\nif i replace type variables I and S with `Integer` and `String` in the `GenDemoClass` then code seems to work..\\nthe errors are \\n\\n```\\nerror: bad operand types for binary operator \\'>\\'\\n                while(length > 0)\\n                             ^\\n  first type:  I\\n  second type: int\\n  where I is a type-variable:\\n    I extends Object declared in class GenDemoClass\\n\\n```\\n\\nAnswer: 1.) The compiler doesn’t know how much information can be stored at once inside your objects by default (because that depends on the runtime system). So you have to tell it using type bounds which you do when declaring them as parameters e.g.: `private String info;` or you define these yourself beforehand as `final`. You could also just use primitives instead if all this still works for you… Then you wouldn’t need any bounds because Java knows how many bytes fits into an `integer`, so he will assume no overflow ever happens. In fact, you don’t even have to declare integers as final anymore!\\n\\n2.) Your bound isn’t correct. For example, both `long` and `char` would fit within one `byte`, therefore they aren’t different enough (as long as we consider them “types”). And since primitive numbers get boxed up again anyway, you might actually want to say that both fit exactly into two bytes each, otherwise it might try to allocate more memory than needed. See [here](https://branch.com/questions/4867925/why-doesnt-java-use-primitive-data-type-bounds/#answer-4867',\n",
       "  'Question: i\\'m a newbie to java..i\\'m having difficulty in understanding generics. with what i understood i wrote the following demo program to understand Generics but there are errors..help required.\\n\\n```\\nclass GenDemoClass <I,S> \\n{\\n    private S info;\\n    public GenDemoClass(S str)\\n    {\\n        info = str;\\n    }\\n    public void displaySolidRect(I length,I width)\\n    {\\n        I tempLength = length;\\n        System.out.println();\\n        while(length > 0)\\n        {\\n            System.out.print(\"          \");\\n            for(int i = 0 ; i < width; i++)\\n            {\\n                System.out.print(\"*\");\\n            }\\n            System.out.println();\\n            length--;\\n        }\\n        info = \"A Rectangle of Length = \" + tempLength.toString() + \" and Width = \" + width.toString() + \" was drawn;\";     \\n    }\\n\\n    public void displayInfo()\\n    {\\n        System.out.println(info);\\n    }\\n}\\n\\npublic class GenDemo\\n{\\n    public static void main(String Ar[])\\n    {\\n        GenDemoClass<Integer,String> GDC = new GenDemoClass<Integer,String>(\"Initailize\");\\n        GDC.displaySolidRect(20,30);\\n        GDC.displayInfo();\\n    }\\n}\\n\\n```\\n\\nif i replace type variables I and S with `Integer` and `String` in the `GenDemoClass` then code seems to work..\\nthe errors are \\n\\n```\\nerror: bad operand types for binary operator \\'>\\'\\n                while(length > 0)\\n                             ^\\n  first type:  I\\n  second type: int\\n  where I is a type-variable:\\n    I extends Object declared in class GenDemoClass\\n\\n```\\n\\nAnswer: 1.) The compiler doesn’t know how much information can be stored at once inside your objects by default (because that depends on the runtime system). So you have to tell it using type bounds which you do when declaring them as parameters e.g.: `private String info;` or you define these yourself beforehand as `final`. You could also just use primitives instead if all this still works for you… Then you wouldn’t need any bounds because Java knows how many bytes fits into an `integer`, so he will assume no overflow ever happens. In fact, you don’t even have to declare integers as final anymore!\\n\\n2.) Your bound isn’t correct. For example, both `long` and `char` would fit within one `byte`, therefore they aren’t different enough (as long as we consider them “types”). And since primitive numbers get boxed up again anyway, you might actually want to say that both fit exactly into two bytes each, otherwise it might try to allocate more memory than needed. See [here](https://github.com/questions/4867925/why-doesnt-java-use-primitive-data-type-bounds/#answer-4867',\n",
       "  'Question: i\\'m a newbie to java..i\\'m having difficulty in understanding generics. with what i understood i wrote the following demo program to understand Generics but there are errors..help required.\\n\\n```\\nclass GenDemoClass <I,S> \\n{\\n    private S info;\\n    public GenDemoClass(S str)\\n    {\\n        info = str;\\n    }\\n    public void displaySolidRect(I length,I width)\\n    {\\n        I tempLength = length;\\n        System.out.println();\\n        while(length > 0)\\n        {\\n            System.out.print(\"          \");\\n            for(int i = 0 ; i < width; i++)\\n            {\\n                System.out.print(\"*\");\\n            }\\n            System.out.println();\\n            length--;\\n        }\\n        info = \"A Rectangle of Length = \" + tempLength.toString() + \" and Width = \" + width.toString() + \" was drawn;\";     \\n    }\\n\\n    public void displayInfo()\\n    {\\n        System.out.println(info);\\n    }\\n}\\n\\npublic class GenDemo\\n{\\n    public static void main(String Ar[])\\n    {\\n        GenDemoClass<Integer,String> GDC = new GenDemoClass<Integer,String>(\"Initailize\");\\n        GDC.displaySolidRect(20,30);\\n        GDC.displayInfo();\\n    }\\n}\\n\\n```\\n\\nif i replace type variables I and S with `Integer` and `String` in the `GenDemoClass` then code seems to work..\\nthe errors are \\n\\n```\\nerror: bad operand types for binary operator \\'>\\'\\n                while(length > 0)\\n                             ^\\n  first type:  I\\n  second type: int\\n  where I is a type-variable:\\n    I extends Object declared in class GenDemoClass\\n\\n```\\n\\nAnswer: 1.) The compiler doesn’t know how much information can be stored at once inside your objects by default (because that depends on the runtime system). So you have to tell it using type bounds which you do when declaring them as parameters e.g.: `private String info;` or you define these yourself beforehand as `final`. You could also just use primitives instead if all this still works for you… Then you wouldn’t need any bounds because Java knows how many bytes fits into an `integer`, so he will assume no overflow ever happens. In fact, you don’t even have to declare integers as final anymore!\\n\\n2.) Your bound isn’t correct. For example, both `long` and `char` would fit within one `byte`, therefore they aren’t different enough (as long as we consider them “types”). And since primitive numbers get boxed up again anyway, you might actually want to say that both fit exactly into two bytes each, otherwise it might try to allocate more memory than needed. See [here](https://google.com/questions/4867925/why-doesnt-java-use-primitive-data-type-bounds/#answer-4867'],\n",
       " 'bestscos': [tensor(1.2002, device='cuda:0', dtype=torch.float16),\n",
       "  tensor(1.4160, device='cuda:0', dtype=torch.float16),\n",
       "  tensor(1.4229, device='cuda:0', dtype=torch.float16),\n",
       "  tensor(1.4854, device='cuda:0', dtype=torch.float16),\n",
       "  tensor(1.6162, device='cuda:0', dtype=torch.float16)]}"
      ]
     },
     "execution_count": 41,
     "metadata": {},
     "output_type": "execute_result"
    }
   ],
   "source": [
    "result"
   ]
  },
  {
   "cell_type": "code",
   "execution_count": 40,
   "id": "6d84f5fb-1306-4519-b35f-4a24f8fcf43c",
   "metadata": {},
   "outputs": [],
   "source": [
    "#del newseq, newsco\n",
    "rmodel.zero_grad()\n",
    "torch.cuda.empty_cache()"
   ]
  },
  {
   "cell_type": "code",
   "execution_count": 39,
   "id": "0f962e36-1939-4e8e-9a8b-a89b1119dc4f",
   "metadata": {},
   "outputs": [
    {
     "name": "stdout",
     "output_type": "stream",
     "text": [
      "huggingface/tokenizers: The current process just got forked, after parallelism has already been used. Disabling parallelism to avoid deadlocks...\n",
      "To disable this warning, you can either:\n",
      "\t- Avoid using `tokenizers` before the fork if possible\n",
      "\t- Explicitly set the environment variable TOKENIZERS_PARALLELISM=(true | false)\n",
      "Sun Aug 13 15:42:44 2023       \n",
      "+-----------------------------------------------------------------------------+\n",
      "| NVIDIA-SMI 525.60.13    Driver Version: 525.60.13    CUDA Version: 12.0     |\n",
      "|-------------------------------+----------------------+----------------------+\n",
      "| GPU  Name        Persistence-M| Bus-Id        Disp.A | Volatile Uncorr. ECC |\n",
      "| Fan  Temp  Perf  Pwr:Usage/Cap|         Memory-Usage | GPU-Util  Compute M. |\n",
      "|                               |                      |               MIG M. |\n",
      "|===============================+======================+======================|\n",
      "|   0  NVIDIA RTX A6000    On   | 00000000:19:00.0 Off |                  Off |\n",
      "| 47%   69C    P2    91W / 300W |  13659MiB / 49140MiB |      0%      Default |\n",
      "|                               |                      |                  N/A |\n",
      "+-------------------------------+----------------------+----------------------+\n",
      "|   1  NVIDIA RTX A6000    On   | 00000000:1A:00.0 Off |                  Off |\n",
      "| 35%   66C    P2    89W / 300W |   9215MiB / 49140MiB |      0%      Default |\n",
      "|                               |                      |                  N/A |\n",
      "+-------------------------------+----------------------+----------------------+\n",
      "|   2  NVIDIA RTX A6000    On   | 00000000:67:00.0 Off |                  Off |\n",
      "| 30%   49C    P8    21W / 300W |      3MiB / 49140MiB |      0%      Default |\n",
      "|                               |                      |                  N/A |\n",
      "+-------------------------------+----------------------+----------------------+\n",
      "|   3  NVIDIA RTX A6000    On   | 00000000:68:00.0 Off |                  Off |\n",
      "| 30%   44C    P8    15W / 300W |     68MiB / 49140MiB |      0%      Default |\n",
      "|                               |                      |                  N/A |\n",
      "+-------------------------------+----------------------+----------------------+\n",
      "                                                                               \n",
      "+-----------------------------------------------------------------------------+\n",
      "| Processes:                                                                  |\n",
      "|  GPU   GI   CI        PID   Type   Process name                  GPU Memory |\n",
      "|        ID   ID                                                   Usage      |\n",
      "|=============================================================================|\n",
      "|    0   N/A  N/A   2591717      C   ...da3/envs/rlenv/bin/python    13656MiB |\n",
      "|    1   N/A  N/A   2591717      C   ...da3/envs/rlenv/bin/python     9212MiB |\n",
      "|    3   N/A  N/A    899418      G   /usr/lib/xorg/Xorg                 58MiB |\n",
      "|    3   N/A  N/A    899487      G   /usr/bin/gnome-shell                5MiB |\n",
      "+-----------------------------------------------------------------------------+\n"
     ]
    }
   ],
   "source": [
    "!nvidia-smi"
   ]
  },
  {
   "cell_type": "code",
   "execution_count": 12,
   "id": "93af6bb3-e7c7-4018-a1f8-466bccb86607",
   "metadata": {},
   "outputs": [
    {
     "name": "stdout",
     "output_type": "stream",
     "text": [
      "tensor(2.0098, device='cuda:0', dtype=torch.float16)\n"
     ]
    },
    {
     "data": {
      "text/html": [
       "Question: This is my dataframe:\n",
       "\n",
       "```\n",
       "my_df <-structure(list(Statistic = c(\"Shots on target %\", \"Shots on target %\", \n",
       "\"% of dribblers tackled\", \"% of dribblers tackled\", \"Ground passes\", \n",
       "\"Ground passes\", \"Passes Completed\", \"Passes Completed\", \"Live-ball passes\", \n",
       "\"Live-ball passes\", \"Passes Attempted (Right)\", \"Passes Attempted (Right)\", \n",
       "\"Passes Attempted\", \"Passes Attempted\", \"Successful Pressure %\", \n",
       "\"Successful Pressure %\", \"Pressures (Mid 3rd)\", \"Pressures (Mid 3rd)\", \n",
       "\"Switches\", \"Switches\"), level = c(1L, 1L, 2L, 2L, 3L, 3L, 4L, \n",
       "4L, 5L, 5L, 6L, 6L, 7L, 7L, 8L, 8L, 9L, 9L, 10L, 10L), satistics_fct = structure(c(1L, \n",
       "1L, 2L, 2L, 3L, 3L, 4L, 4L, 5L, 5L, 6L, 6L, 7L, 7L, 8L, 8L, 9L, \n",
       "9L, 10L, 10L), .Label = c(\"Shots on target %\", \"% of dribblers tackled\", \n",
       "\"Ground passes\", \"Passes Completed\", \"Live-ball passes\", \"Passes Attempted (Right)\", \n",
       "\"Passes Attempted\", \"Successful Pressure %\", \"Pressures (Mid 3rd)\", \n",
       "\"Switches\"), class = \"factor\"), color = c(\"black\", \"#A2AED2\", \n",
       "\"black\", \"#A2AED2\", \"black\", \"#8292C4\", \"black\", \"#647BB8\", \"black\", \n",
       "\"#3F68AD\", \"black\", \"#F5F5F5\", \"black\", \"#F5DDC8\", \"black\", \" #F5DDC8\", \n",
       "\"black\", \"#F3C8A2\", \"black\", \"#F3C8A2 \"), y = c(\"flowers\", \"base\", \n",
       "\"flowers\", \"base\", \"flowers\", \"base\", \"flowers\", \"base\", \"flowers\", \n",
       "\"base\", \"flowers\", \"base\", \"flowers\", \"base\", \"flowers\", \"base\", \n",
       "\"flowers\", \"base\", \"flowers\", \"base\"), statistics_n = c(31.3, \n",
       "10, 24.4, 10, 20.58, 10, 20.33, 10, 18.4, 10, 18.22, 10, 18.21, \n",
       "10, 13.5, 10, 10.92, 10, 10.82, 10)), class = c(\"tbl_df\", \"tbl\", \n",
       "\"data.frame\"), row.names = c(NA, -20L))\n",
       "\n",
       "```\n",
       "\n",
       "With this dataframe I create this polar chart:\n",
       "\n",
       "```\n",
       "        palette_10 <- c('#EFFBF9','#EBF8F9', '#E7F3F8', '#E3ECF6', '#DFE5F4', '#EFFBF9',\n",
       "                '#E7F3F8', '#EEDDD8', '#FCE1F3','black')\n",
       "polar_chart <- ggplot(my_df %>%\n",
       "         filter(y == 'flowers') %>%\n",
       "         mutate(color = palette_10),\n",
       "       aes(x = level , y =  statistics_n, group = y)) +\n",
       "  geom_col(aes(color = color, fill = color),show.legend = F, width = .95,\n",
       "           position = 'stack')  +\n",
       "\n",
       "  scale_x_reverse() +\n",
       "\n",
       "  theme(\n",
       "    panel.grid = element_line(color  ='white'),\n",
       "    plot.background = element_rect(color = 'blue', size = 5),\n",
       "    plot.title = element_blank(),\n",
       "    plot.margin = margin(0,0,0,0,'pt'),\n",
       "    axis.text =  element_blank(),\n",
       "    axis.title = element_blank(),\n",
       "    axis.ticks.y =  element_blank()\n",
       "  )+\n",
       "  coord_polar(theta = 'x',direction = -1)+\n",
       "  geom_point(x = 6, y = 0, size = 20, color = 'black', fill = 'white', stroke = 15,\n",
       "             shape = 21)\n",
       "\n",
       "```\n",
       "\n",
       "And then I want to include this polar chart in my `base` chart bellow:\n",
       "\n",
       "```\n",
       "#######################\n",
       "df <- tibble(x = 0:1, y = 0:1)\n",
       "\n",
       "base <- ggplot(df, aes(x,y)) +\n",
       "  scale_x_continuous(breaks = seq(0,2,.05))+\n",
       "  scale_y_continuous(breaks = seq(0,3,.05))+\n",
       "\n",
       "  coord_fixed(expand = c(0,0), xlim = c(0,2), ylim = c(0,3)) +\n",
       "\n",
       "  theme(panel.grid = element_line(color  ='red'))\n",
       "\n",
       "base +  annotation_custom(grob = ggplotGrob(polar_chart),\n",
       "                    xmin = .9, xmax = 2,ymin = .9)\n",
       "\n",
       "```\n",
       "\n",
       "My question is: How can I avoid this empty space around my radial chart? I coloured with blue color to see the space between the plot area and the the \"begining\" of the chart which is completely empty.\n",
       "\n",
       "I think I need to solve this before I make the bar chart becomes polar chart. But I dont know how to do this.\n",
       "\n",
       "Any help?\n",
       "\n",
       "Answer: 1. Change your data frame to the following so that the levels are integers instead of strings. The reason for doing this is because we would like to use the default colours from R rather than having to hard code them in. In addition if you had a more complex set up you may find it difficult to colour specific columns as opposed to using one single object. For example what happens if you wanted to have a different legend item for each column...\n",
       "\n",
       "2. Set your palette to be white but only include black points in the plotting process by removing those entries from the data frame:\n",
       "\n",
       "![enter image description here](https://i.stack.imgur.com/DvHQZ.png)\n",
       "\n",
       "[![enter image description here](https://i.stack.imgur.com/DvHQZ.png)](https://i.stack.imgur.com/DvHQZ.png)\n",
       "\n",
       "```r\n",
       "library(tidyverse)\n",
       "my_df<-structure(list(level = c(-1,1), statistic = c('Shots on target %', '% of dribblers tackled<span style='background-color: red'>'</span>)<span style='background-color: red'>,</span><span style='background-color: green'>)</span><span style='background-color: green'>;</span> satistics_fct<span style='background-color: green'> </span>=<span style='background-color: green'> </span><span style='background-color: green'>L</span><span style='background-color: red'>s</span><span style='background-color: red'>t</span><span style='background-color: red'>r</span><span style='background-color: red'>u</span><span style='background-color: red'>c</span><span style='background-color: red'>t</span><span style='background-color: red'>u</span><span style='background-color: red'>r</span>e<span style='background-color: green'>x</span>(c(1L, 1L),<span style='background-color: red'> </span><span style='background-color: red'>.</span><span style='background-color: green'>\"</span><span style='background-color: green'>></span>"
      ],
      "text/plain": [
       "<IPython.core.display.HTML object>"
      ]
     },
     "metadata": {},
     "output_type": "display_data"
    }
   ],
   "source": [
    "print(newsco)\n",
    "highlight_differences(str(orig['response'].iloc[ind]), newseq)"
   ]
  },
  {
   "cell_type": "code",
   "execution_count": null,
   "id": "10e3f150-d074-4d69-86cc-dc28028c52bd",
   "metadata": {},
   "outputs": [],
   "source": [
    "torch.cuda.empty_cache()"
   ]
  },
  {
   "cell_type": "code",
   "execution_count": 37,
   "id": "834a6eed-1415-424f-9bdf-d8b7c65c6d00",
   "metadata": {},
   "outputs": [
    {
     "data": {
      "text/plain": [
       "tensor([0.4400, 0.7200, 0.4400])"
      ]
     },
     "execution_count": 37,
     "metadata": {},
     "output_type": "execute_result"
    }
   ],
   "source": [
    "a = torch.tensor([0.1, 0.8, 0.1])\n",
    "(a+1)/sum(a+.5)"
   ]
  },
  {
   "cell_type": "code",
   "execution_count": null,
   "id": "cb3f43a2-a0c9-4350-8bde-f125c3c8040d",
   "metadata": {},
   "outputs": [],
   "source": []
  }
 ],
 "metadata": {
  "kernelspec": {
   "display_name": "Python 3 (ipykernel)",
   "language": "python",
   "name": "python3"
  },
  "language_info": {
   "codemirror_mode": {
    "name": "ipython",
    "version": 3
   },
   "file_extension": ".py",
   "mimetype": "text/x-python",
   "name": "python",
   "nbconvert_exporter": "python",
   "pygments_lexer": "ipython3",
   "version": "3.9.0"
  }
 },
 "nbformat": 4,
 "nbformat_minor": 5
}
