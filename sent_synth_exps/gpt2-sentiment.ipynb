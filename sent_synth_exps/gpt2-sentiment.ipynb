{
 "cells": [
  {
   "cell_type": "markdown",
   "metadata": {},
   "source": [
    "# Tune GPT2 to generate positive reviews\n",
    "> Optimise GPT2 to produce positive IMDB movie reviews using a BERT sentiment classifier as a reward function."
   ]
  },
  {
   "cell_type": "markdown",
   "metadata": {},
   "source": [
    "<div style=\"text-align: center\">\n",
    "<img src='https://huggingface.co/datasets/trl-internal-testing/example-images/resolve/main/images/gpt2_bert_training.png' width='600'>\n",
    "<p style=\"text-align: center;\"> <b>Figure:</b> Experiment setup to tune GPT2. The yellow arrows are outside the scope of this notebook, but the trained models are available through Hugging Face. </p>\n",
    "</div>\n",
    "\n",
    "\n",
    "In this notebook we fine-tune GPT2 (small) to generate positive movie reviews based on the IMDB dataset. The model gets the start of a real review and is tasked to produce positive continuations. To reward positive continuations we use a BERT classifier to analyse the sentiment of the produced sentences and use the classifier's outputs as rewards signals for PPO training."
   ]
  },
  {
   "cell_type": "markdown",
   "metadata": {},
   "source": [
    "## Setup experiment"
   ]
  },
  {
   "cell_type": "markdown",
   "metadata": {},
   "source": [
    "### Import dependencies"
   ]
  },
  {
   "cell_type": "code",
   "execution_count": 1,
   "metadata": {},
   "outputs": [],
   "source": [
    "%load_ext autoreload\n",
    "%autoreload 2"
   ]
  },
  {
   "cell_type": "code",
   "execution_count": null,
   "metadata": {},
   "outputs": [],
   "source": [
    "%pip install transformers trl wandb"
   ]
  },
  {
   "cell_type": "code",
   "execution_count": 3,
   "metadata": {},
   "outputs": [
    {
     "name": "stderr",
     "output_type": "stream",
     "text": [
      "/home/prasann/miniconda3/envs/rlenv/lib/python3.9/site-packages/tqdm/auto.py:21: TqdmWarning: IProgress not found. Please update jupyter and ipywidgets. See https://ipywidgets.readthedocs.io/en/stable/user_install.html\n",
      "  from .autonotebook import tqdm as notebook_tqdm\n"
     ]
    },
    {
     "name": "stdout",
     "output_type": "stream",
     "text": [
      "[2023-09-03 18:11:13,691] [INFO] [real_accelerator.py:110:get_accelerator] Setting ds_accelerator to cuda (auto detect)\n"
     ]
    }
   ],
   "source": [
    "import torch\n",
    "from tqdm import tqdm\n",
    "import pandas as pd\n",
    "\n",
    "tqdm.pandas()\n",
    "\n",
    "from transformers import pipeline, AutoTokenizer\n",
    "from datasets import load_dataset\n",
    "\n",
    "from trl import PPOTrainer, PPOConfig, AutoModelForCausalLMWithValueHead\n",
    "from trl.core import LengthSampler"
   ]
  },
  {
   "cell_type": "markdown",
   "metadata": {},
   "source": [
    "### Configuration"
   ]
  },
  {
   "cell_type": "code",
   "execution_count": 4,
   "metadata": {},
   "outputs": [
    {
     "name": "stderr",
     "output_type": "stream",
     "text": [
      "fatal: No names found, cannot describe anything.\n"
     ]
    }
   ],
   "source": [
    "config = PPOConfig(\n",
    "    model_name=\"lvwerra/gpt2-imdb\",\n",
    "    learning_rate=1.41e-5,\n",
    "    log_with=\"wandb\",\n",
    ")\n",
    "\n",
    "sent_kwargs = {\"return_all_scores\": True, \"function_to_apply\": \"none\", \"batch_size\": 16}"
   ]
  },
  {
   "cell_type": "code",
   "execution_count": 5,
   "metadata": {},
   "outputs": [
    {
     "name": "stderr",
     "output_type": "stream",
     "text": [
      "\u001b[34m\u001b[1mwandb\u001b[0m: Currently logged in as: \u001b[33mprasannsinghal\u001b[0m (\u001b[33mprasann-singhal\u001b[0m). Use \u001b[1m`wandb login --relogin`\u001b[0m to force relogin\n"
     ]
    },
    {
     "data": {
      "text/html": [
       "wandb version 0.15.9 is available!  To upgrade, please run:\n",
       " $ pip install wandb --upgrade"
      ],
      "text/plain": [
       "<IPython.core.display.HTML object>"
      ]
     },
     "metadata": {},
     "output_type": "display_data"
    },
    {
     "data": {
      "text/html": [
       "Tracking run with wandb version 0.15.4"
      ],
      "text/plain": [
       "<IPython.core.display.HTML object>"
      ]
     },
     "metadata": {},
     "output_type": "display_data"
    },
    {
     "data": {
      "text/html": [
       "Run data is saved locally in <code>/data/users/prasann/Projects/rlhf-exploration/sent_synth_exps/wandb/run-20230903_181119-w4irezj0</code>"
      ],
      "text/plain": [
       "<IPython.core.display.HTML object>"
      ]
     },
     "metadata": {},
     "output_type": "display_data"
    },
    {
     "data": {
      "text/html": [
       "Syncing run <strong><a href='https://wandb.ai/prasann-singhal/rlhf-exploration-sent_synth_exps/runs/w4irezj0' target=\"_blank\">legendary-brook-1</a></strong> to <a href='https://wandb.ai/prasann-singhal/rlhf-exploration-sent_synth_exps' target=\"_blank\">Weights & Biases</a> (<a href='https://wandb.me/run' target=\"_blank\">docs</a>)<br/>"
      ],
      "text/plain": [
       "<IPython.core.display.HTML object>"
      ]
     },
     "metadata": {},
     "output_type": "display_data"
    },
    {
     "data": {
      "text/html": [
       " View project at <a href='https://wandb.ai/prasann-singhal/rlhf-exploration-sent_synth_exps' target=\"_blank\">https://wandb.ai/prasann-singhal/rlhf-exploration-sent_synth_exps</a>"
      ],
      "text/plain": [
       "<IPython.core.display.HTML object>"
      ]
     },
     "metadata": {},
     "output_type": "display_data"
    },
    {
     "data": {
      "text/html": [
       " View run at <a href='https://wandb.ai/prasann-singhal/rlhf-exploration-sent_synth_exps/runs/w4irezj0' target=\"_blank\">https://wandb.ai/prasann-singhal/rlhf-exploration-sent_synth_exps/runs/w4irezj0</a>"
      ],
      "text/plain": [
       "<IPython.core.display.HTML object>"
      ]
     },
     "metadata": {},
     "output_type": "display_data"
    },
    {
     "data": {
      "text/html": [
       "<button onClick=\"this.nextSibling.style.display='block';this.style.display='none';\">Display W&B run</button><iframe src='https://wandb.ai/prasann-singhal/rlhf-exploration-sent_synth_exps/runs/w4irezj0?jupyter=true' style='border:none;width:100%;height:420px;display:none;'></iframe>"
      ],
      "text/plain": [
       "<wandb.sdk.wandb_run.Run at 0x7f5b5c4f0a90>"
      ]
     },
     "execution_count": 5,
     "metadata": {},
     "output_type": "execute_result"
    }
   ],
   "source": [
    "import wandb\n",
    "\n",
    "wandb.init()"
   ]
  },
  {
   "cell_type": "markdown",
   "metadata": {},
   "source": [
    "You can see that we load a GPT2 model called `gpt2_imdb`. This model was additionally fine-tuned on the IMDB dataset for 1 epoch with the huggingface [script](https://github.com/huggingface/transformers/blob/master/examples/run_language_modeling.py) (no special settings). The other parameters are mostly taken from the original paper [\"Fine-Tuning Language Models from Human Preferences\"](\n",
    "https://arxiv.org/pdf/1909.08593.pdf). This model as well as the BERT model is available in the Huggingface model zoo [here](https://huggingface.co/models). The following code should automatically download the models."
   ]
  },
  {
   "cell_type": "markdown",
   "metadata": {},
   "source": [
    "## Load data and models"
   ]
  },
  {
   "attachments": {},
   "cell_type": "markdown",
   "metadata": {},
   "source": [
    "### Load IMDB dataset\n",
    "The IMDB dataset contains 50k movie review annotated with \"positive\"/\"negative\" feedback indicating the sentiment.  We load the IMDB dataset into a DataFrame and filter for comments that are at least 200 characters. Then we tokenize each text and cut it to random size with the `LengthSampler`."
   ]
  },
  {
   "cell_type": "code",
   "execution_count": 6,
   "metadata": {},
   "outputs": [],
   "source": [
    "def build_dataset(config, dataset_name=\"imdb\", input_min_text_length=2, input_max_text_length=8):\n",
    "    \"\"\"\n",
    "    Build dataset for training. This builds the dataset from `load_dataset`, one should\n",
    "    customize this function to train the model on its own dataset.\n",
    "\n",
    "    Args:\n",
    "        dataset_name (`str`):\n",
    "            The name of the dataset to be loaded.\n",
    "\n",
    "    Returns:\n",
    "        dataloader (`torch.utils.data.DataLoader`):\n",
    "            The dataloader for the dataset.\n",
    "    \"\"\"\n",
    "    tokenizer = AutoTokenizer.from_pretrained(config.model_name)\n",
    "    tokenizer.pad_token = tokenizer.eos_token\n",
    "    # load imdb with datasets\n",
    "    ds = load_dataset(dataset_name, split=\"train\")\n",
    "    ds = ds.rename_columns({\"text\": \"review\"})\n",
    "    ds = ds.filter(lambda x: len(x[\"review\"]) > 200, batched=False)\n",
    "\n",
    "    input_size = LengthSampler(input_min_text_length, input_max_text_length)\n",
    "\n",
    "    def tokenize(sample):\n",
    "        sample[\"input_ids\"] = tokenizer.encode(sample[\"review\"])[: input_size()]\n",
    "        sample[\"query\"] = tokenizer.decode(sample[\"input_ids\"])\n",
    "        return sample\n",
    "\n",
    "    ds = ds.map(tokenize, batched=False)\n",
    "    ds.set_format(type=\"torch\")\n",
    "    return ds"
   ]
  },
  {
   "cell_type": "code",
   "execution_count": 7,
   "metadata": {},
   "outputs": [
    {
     "name": "stderr",
     "output_type": "stream",
     "text": [
      "WARNING:datasets.builder:Found cached dataset imdb (/home/prasann/.cache/huggingface/datasets/imdb/plain_text/1.0.0/d613c88cf8fa3bab83b4ded3713f1f74830d1100e171db75bbddb80b3345c9c0)\n",
      "WARNING:datasets.arrow_dataset:Loading cached processed dataset at /home/prasann/.cache/huggingface/datasets/imdb/plain_text/1.0.0/d613c88cf8fa3bab83b4ded3713f1f74830d1100e171db75bbddb80b3345c9c0/cache-b13b5100b4cec2ba.arrow\n",
      "Map:   0%|                                                                                                                                                    | 0/24895 [00:00<?, ? examples/s]Token indices sequence length is longer than the specified maximum sequence length for this model (1168 > 1024). Running this sequence through the model will result in indexing errors\n",
      "                                                                                                                                                                                               \r"
     ]
    }
   ],
   "source": [
    "dataset = build_dataset(config)\n",
    "\n",
    "\n",
    "def collator(data):\n",
    "    return dict((key, [d[key] for d in data]) for key in data[0])"
   ]
  },
  {
   "cell_type": "markdown",
   "metadata": {},
   "source": [
    "### Load pre-trained GPT2 language models"
   ]
  },
  {
   "cell_type": "markdown",
   "metadata": {},
   "source": [
    "We load the GPT2 model with a value head and the tokenizer. We load the model twice; the first model is optimized while the second model serves as a reference to calculate the KL-divergence from the starting point. This serves as an additional reward signal in the PPO training to make sure the optimized model does not deviate too much from the original language model."
   ]
  },
  {
   "cell_type": "code",
   "execution_count": 8,
   "metadata": {},
   "outputs": [],
   "source": [
    "model = AutoModelForCausalLMWithValueHead.from_pretrained(config.model_name)\n",
    "ref_model = AutoModelForCausalLMWithValueHead.from_pretrained(config.model_name)\n",
    "tokenizer = AutoTokenizer.from_pretrained(config.model_name)\n",
    "\n",
    "tokenizer.pad_token = tokenizer.eos_token"
   ]
  },
  {
   "attachments": {},
   "cell_type": "markdown",
   "metadata": {},
   "source": [
    "### Initialize PPOTrainer\n",
    "The `PPOTrainer` takes care of device placement and optimization later on:"
   ]
  },
  {
   "cell_type": "code",
   "execution_count": 9,
   "metadata": {},
   "outputs": [
    {
     "data": {
      "text/html": [
       "Finishing last run (ID:w4irezj0) before initializing another..."
      ],
      "text/plain": [
       "<IPython.core.display.HTML object>"
      ]
     },
     "metadata": {},
     "output_type": "display_data"
    },
    {
     "data": {
      "text/html": [
       "Waiting for W&B process to finish... <strong style=\"color:green\">(success).</strong>"
      ],
      "text/plain": [
       "<IPython.core.display.HTML object>"
      ]
     },
     "metadata": {},
     "output_type": "display_data"
    },
    {
     "data": {
      "text/html": [
       " View run <strong style=\"color:#cdcd00\">legendary-brook-1</strong> at: <a href='https://wandb.ai/prasann-singhal/rlhf-exploration-sent_synth_exps/runs/w4irezj0' target=\"_blank\">https://wandb.ai/prasann-singhal/rlhf-exploration-sent_synth_exps/runs/w4irezj0</a><br/>Synced 6 W&B file(s), 0 media file(s), 2 artifact file(s) and 0 other file(s)"
      ],
      "text/plain": [
       "<IPython.core.display.HTML object>"
      ]
     },
     "metadata": {},
     "output_type": "display_data"
    },
    {
     "data": {
      "text/html": [
       "Find logs at: <code>./wandb/run-20230903_181119-w4irezj0/logs</code>"
      ],
      "text/plain": [
       "<IPython.core.display.HTML object>"
      ]
     },
     "metadata": {},
     "output_type": "display_data"
    },
    {
     "data": {
      "text/html": [
       "Successfully finished last run (ID:w4irezj0). Initializing new run:<br/>"
      ],
      "text/plain": [
       "<IPython.core.display.HTML object>"
      ]
     },
     "metadata": {},
     "output_type": "display_data"
    },
    {
     "name": "stdout",
     "output_type": "stream",
     "text": [
      "huggingface/tokenizers: The current process just got forked, after parallelism has already been used. Disabling parallelism to avoid deadlocks...\n",
      "To disable this warning, you can either:\n",
      "\t- Avoid using `tokenizers` before the fork if possible\n",
      "\t- Explicitly set the environment variable TOKENIZERS_PARALLELISM=(true | false)\n"
     ]
    },
    {
     "data": {
      "text/html": [
       "wandb version 0.15.9 is available!  To upgrade, please run:\n",
       " $ pip install wandb --upgrade"
      ],
      "text/plain": [
       "<IPython.core.display.HTML object>"
      ]
     },
     "metadata": {},
     "output_type": "display_data"
    },
    {
     "data": {
      "text/html": [
       "Tracking run with wandb version 0.15.4"
      ],
      "text/plain": [
       "<IPython.core.display.HTML object>"
      ]
     },
     "metadata": {},
     "output_type": "display_data"
    },
    {
     "data": {
      "text/html": [
       "Run data is saved locally in <code>/data/users/prasann/Projects/rlhf-exploration/sent_synth_exps/wandb/run-20230903_181156-bs4epav8</code>"
      ],
      "text/plain": [
       "<IPython.core.display.HTML object>"
      ]
     },
     "metadata": {},
     "output_type": "display_data"
    },
    {
     "data": {
      "text/html": [
       "Syncing run <strong><a href='https://wandb.ai/prasann-singhal/trl/runs/bs4epav8' target=\"_blank\">wandering-cloud-299</a></strong> to <a href='https://wandb.ai/prasann-singhal/trl' target=\"_blank\">Weights & Biases</a> (<a href='https://wandb.me/run' target=\"_blank\">docs</a>)<br/>"
      ],
      "text/plain": [
       "<IPython.core.display.HTML object>"
      ]
     },
     "metadata": {},
     "output_type": "display_data"
    },
    {
     "data": {
      "text/html": [
       " View project at <a href='https://wandb.ai/prasann-singhal/trl' target=\"_blank\">https://wandb.ai/prasann-singhal/trl</a>"
      ],
      "text/plain": [
       "<IPython.core.display.HTML object>"
      ]
     },
     "metadata": {},
     "output_type": "display_data"
    },
    {
     "data": {
      "text/html": [
       " View run at <a href='https://wandb.ai/prasann-singhal/trl/runs/bs4epav8' target=\"_blank\">https://wandb.ai/prasann-singhal/trl/runs/bs4epav8</a>"
      ],
      "text/plain": [
       "<IPython.core.display.HTML object>"
      ]
     },
     "metadata": {},
     "output_type": "display_data"
    }
   ],
   "source": [
    "ppo_trainer = PPOTrainer(config, model, ref_model, tokenizer, dataset=dataset, data_collator=collator)"
   ]
  },
  {
   "cell_type": "markdown",
   "metadata": {},
   "source": [
    "### Load BERT classifier\n",
    "We load a BERT classifier fine-tuned on the IMDB dataset."
   ]
  },
  {
   "cell_type": "code",
   "execution_count": null,
   "metadata": {},
   "outputs": [],
   "source": [
    "device = ppo_trainer.accelerator.device\n",
    "if ppo_trainer.accelerator.num_processes == 1:\n",
    "    device = 0 if torch.cuda.is_available() else \"cpu\"  # to avoid a `pipeline` bug\n",
    "sentiment_pipe = pipeline(\"sentiment-analysis\", model=\"lvwerra/distilbert-imdb\", device=device)"
   ]
  },
  {
   "cell_type": "markdown",
   "metadata": {},
   "source": [
    "The model outputs are the logits for the negative and positive class. We will use the logits for positive class as a reward signal for the language model."
   ]
  },
  {
   "cell_type": "code",
   "execution_count": 11,
   "metadata": {},
   "outputs": [
    {
     "name": "stderr",
     "output_type": "stream",
     "text": [
      "/home/prasann/miniconda3/envs/rlenv/lib/python3.9/site-packages/transformers/pipelines/text_classification.py:104: UserWarning: `return_all_scores` is now deprecated,  if want a similar functionality use `top_k=None` instead of `return_all_scores=True` or `top_k=1` instead of `return_all_scores=False`.\n",
      "  warnings.warn(\n"
     ]
    },
    {
     "data": {
      "text/plain": [
       "[[{'label': 'NEGATIVE', 'score': 2.3350484371185303},\n",
       "  {'label': 'POSITIVE', 'score': -2.726576566696167}]]"
      ]
     },
     "execution_count": 11,
     "metadata": {},
     "output_type": "execute_result"
    }
   ],
   "source": [
    "text = \"this movie was really bad!!\"\n",
    "sentiment_pipe(text, **sent_kwargs)"
   ]
  },
  {
   "cell_type": "code",
   "execution_count": 12,
   "metadata": {},
   "outputs": [
    {
     "data": {
      "text/plain": [
       "[[{'label': 'NEGATIVE', 'score': -2.2947897911071777},\n",
       "  {'label': 'POSITIVE', 'score': 2.557039737701416}]]"
      ]
     },
     "execution_count": 12,
     "metadata": {},
     "output_type": "execute_result"
    }
   ],
   "source": [
    "text = \"this movie was really good!!\"\n",
    "sentiment_pipe(text, **sent_kwargs)"
   ]
  },
  {
   "cell_type": "markdown",
   "metadata": {},
   "source": [
    "### Generation settings\n",
    "For the response generation we just use sampling and make sure top-k and nucleus sampling are turned off as well as a minimal length."
   ]
  },
  {
   "cell_type": "code",
   "execution_count": 13,
   "metadata": {},
   "outputs": [],
   "source": [
    "gen_kwargs = {\"min_length\": -1, \"top_k\": 0.0, \"top_p\": 1.0, \"do_sample\": True, \"pad_token_id\": tokenizer.eos_token_id}"
   ]
  },
  {
   "cell_type": "markdown",
   "metadata": {},
   "source": [
    "## Optimize model"
   ]
  },
  {
   "cell_type": "markdown",
   "metadata": {},
   "source": [
    "### Training loop"
   ]
  },
  {
   "cell_type": "markdown",
   "metadata": {},
   "source": [
    "The training loop consists of the following main steps:\n",
    "1. Get the query responses from the policy network (GPT-2)\n",
    "2. Get sentiments for query/responses from BERT\n",
    "3. Optimize policy with PPO using the (query, response, reward) triplet\n",
    "\n",
    "**Training time**\n",
    "\n",
    "This step takes **~2h** on a V100 GPU with the above specified settings."
   ]
  },
  {
   "cell_type": "code",
   "execution_count": 14,
   "metadata": {},
   "outputs": [
    {
     "name": "stderr",
     "output_type": "stream",
     "text": [
      "/home/prasann/miniconda3/envs/rlenv/lib/python3.9/site-packages/trl/trainer/ppo_trainer.py:1128: UserWarning: The average ratio of batch (16.04) exceeds threshold 10.00. Skipping batch.\n",
      "  warnings.warn(\n",
      "/home/prasann/miniconda3/envs/rlenv/lib/python3.9/site-packages/trl/trainer/ppo_trainer.py:1128: UserWarning: The average ratio of batch (18.18) exceeds threshold 10.00. Skipping batch.\n",
      "  warnings.warn(\n",
      "/home/prasann/miniconda3/envs/rlenv/lib/python3.9/site-packages/trl/trainer/ppo_trainer.py:1128: UserWarning: The average ratio of batch (21.42) exceeds threshold 10.00. Skipping batch.\n",
      "  warnings.warn(\n",
      "/home/prasann/miniconda3/envs/rlenv/lib/python3.9/site-packages/trl/trainer/ppo_trainer.py:1128: UserWarning: The average ratio of batch (36.84) exceeds threshold 10.00. Skipping batch.\n",
      "  warnings.warn(\n",
      "/home/prasann/miniconda3/envs/rlenv/lib/python3.9/site-packages/trl/trainer/ppo_trainer.py:1128: UserWarning: The average ratio of batch (25.17) exceeds threshold 10.00. Skipping batch.\n",
      "  warnings.warn(\n",
      "/home/prasann/miniconda3/envs/rlenv/lib/python3.9/site-packages/trl/trainer/ppo_trainer.py:1128: UserWarning: The average ratio of batch (11.95) exceeds threshold 10.00. Skipping batch.\n",
      "  warnings.warn(\n",
      "/home/prasann/miniconda3/envs/rlenv/lib/python3.9/site-packages/trl/trainer/ppo_trainer.py:1128: UserWarning: The average ratio of batch (22.40) exceeds threshold 10.00. Skipping batch.\n",
      "  warnings.warn(\n",
      "/home/prasann/miniconda3/envs/rlenv/lib/python3.9/site-packages/trl/trainer/ppo_trainer.py:1128: UserWarning: The average ratio of batch (22.84) exceeds threshold 10.00. Skipping batch.\n",
      "  warnings.warn(\n",
      "/home/prasann/miniconda3/envs/rlenv/lib/python3.9/site-packages/trl/trainer/ppo_trainer.py:1128: UserWarning: The average ratio of batch (18.76) exceeds threshold 10.00. Skipping batch.\n",
      "  warnings.warn(\n",
      "/home/prasann/miniconda3/envs/rlenv/lib/python3.9/site-packages/trl/trainer/ppo_trainer.py:1128: UserWarning: The average ratio of batch (16.64) exceeds threshold 10.00. Skipping batch.\n",
      "  warnings.warn(\n",
      "/home/prasann/miniconda3/envs/rlenv/lib/python3.9/site-packages/trl/trainer/ppo_trainer.py:1128: UserWarning: The average ratio of batch (21.43) exceeds threshold 10.00. Skipping batch.\n",
      "  warnings.warn(\n",
      "/home/prasann/miniconda3/envs/rlenv/lib/python3.9/site-packages/trl/trainer/ppo_trainer.py:1128: UserWarning: The average ratio of batch (31.40) exceeds threshold 10.00. Skipping batch.\n",
      "  warnings.warn(\n",
      "/home/prasann/miniconda3/envs/rlenv/lib/python3.9/site-packages/trl/trainer/ppo_trainer.py:1128: UserWarning: The average ratio of batch (21.00) exceeds threshold 10.00. Skipping batch.\n",
      "  warnings.warn(\n",
      "/home/prasann/miniconda3/envs/rlenv/lib/python3.9/site-packages/trl/trainer/ppo_trainer.py:1128: UserWarning: The average ratio of batch (22.39) exceeds threshold 10.00. Skipping batch.\n",
      "  warnings.warn(\n",
      "/home/prasann/miniconda3/envs/rlenv/lib/python3.9/site-packages/trl/trainer/ppo_trainer.py:1128: UserWarning: The average ratio of batch (17.82) exceeds threshold 10.00. Skipping batch.\n",
      "  warnings.warn(\n",
      "/home/prasann/miniconda3/envs/rlenv/lib/python3.9/site-packages/trl/trainer/ppo_trainer.py:1128: UserWarning: The average ratio of batch (34.93) exceeds threshold 10.00. Skipping batch.\n",
      "  warnings.warn(\n",
      "/home/prasann/miniconda3/envs/rlenv/lib/python3.9/site-packages/trl/trainer/ppo_trainer.py:1128: UserWarning: The average ratio of batch (27.52) exceeds threshold 10.00. Skipping batch.\n",
      "  warnings.warn(\n",
      "/home/prasann/miniconda3/envs/rlenv/lib/python3.9/site-packages/trl/trainer/ppo_trainer.py:1128: UserWarning: The average ratio of batch (10.71) exceeds threshold 10.00. Skipping batch.\n",
      "  warnings.warn(\n",
      "6it [08:06, 81.27s/it]/home/prasann/miniconda3/envs/rlenv/lib/python3.9/site-packages/trl/trainer/ppo_trainer.py:1128: UserWarning: The average ratio of batch (18.45) exceeds threshold 10.00. Skipping batch.\n",
      "  warnings.warn(\n",
      "/home/prasann/miniconda3/envs/rlenv/lib/python3.9/site-packages/trl/trainer/ppo_trainer.py:1128: UserWarning: The average ratio of batch (68.85) exceeds threshold 10.00. Skipping batch.\n",
      "  warnings.warn(\n",
      "/home/prasann/miniconda3/envs/rlenv/lib/python3.9/site-packages/trl/trainer/ppo_trainer.py:1128: UserWarning: The average ratio of batch (13.60) exceeds threshold 10.00. Skipping batch.\n",
      "  warnings.warn(\n",
      "/home/prasann/miniconda3/envs/rlenv/lib/python3.9/site-packages/trl/trainer/ppo_trainer.py:1128: UserWarning: The average ratio of batch (14.80) exceeds threshold 10.00. Skipping batch.\n",
      "  warnings.warn(\n",
      "/home/prasann/miniconda3/envs/rlenv/lib/python3.9/site-packages/trl/trainer/ppo_trainer.py:1128: UserWarning: The average ratio of batch (12.44) exceeds threshold 10.00. Skipping batch.\n",
      "  warnings.warn(\n",
      "/home/prasann/miniconda3/envs/rlenv/lib/python3.9/site-packages/trl/trainer/ppo_trainer.py:1128: UserWarning: The average ratio of batch (41.47) exceeds threshold 10.00. Skipping batch.\n",
      "  warnings.warn(\n",
      "/home/prasann/miniconda3/envs/rlenv/lib/python3.9/site-packages/trl/trainer/ppo_trainer.py:1128: UserWarning: The average ratio of batch (2518.69) exceeds threshold 10.00. Skipping batch.\n",
      "  warnings.warn(\n",
      "/home/prasann/miniconda3/envs/rlenv/lib/python3.9/site-packages/trl/trainer/ppo_trainer.py:1128: UserWarning: The average ratio of batch (17.44) exceeds threshold 10.00. Skipping batch.\n",
      "  warnings.warn(\n",
      "/home/prasann/miniconda3/envs/rlenv/lib/python3.9/site-packages/trl/trainer/ppo_trainer.py:1128: UserWarning: The average ratio of batch (2528.94) exceeds threshold 10.00. Skipping batch.\n",
      "  warnings.warn(\n",
      "/home/prasann/miniconda3/envs/rlenv/lib/python3.9/site-packages/trl/trainer/ppo_trainer.py:1128: UserWarning: The average ratio of batch (11.65) exceeds threshold 10.00. Skipping batch.\n",
      "  warnings.warn(\n",
      "/home/prasann/miniconda3/envs/rlenv/lib/python3.9/site-packages/trl/trainer/ppo_trainer.py:1128: UserWarning: The average ratio of batch (44.23) exceeds threshold 10.00. Skipping batch.\n",
      "  warnings.warn(\n",
      "/home/prasann/miniconda3/envs/rlenv/lib/python3.9/site-packages/trl/trainer/ppo_trainer.py:1128: UserWarning: The average ratio of batch (15.98) exceeds threshold 10.00. Skipping batch.\n",
      "  warnings.warn(\n",
      "/home/prasann/miniconda3/envs/rlenv/lib/python3.9/site-packages/trl/trainer/ppo_trainer.py:1128: UserWarning: The average ratio of batch (10.28) exceeds threshold 10.00. Skipping batch.\n",
      "  warnings.warn(\n",
      "/home/prasann/miniconda3/envs/rlenv/lib/python3.9/site-packages/trl/trainer/ppo_trainer.py:1128: UserWarning: The average ratio of batch (11.05) exceeds threshold 10.00. Skipping batch.\n",
      "  warnings.warn(\n",
      "/home/prasann/miniconda3/envs/rlenv/lib/python3.9/site-packages/trl/trainer/ppo_trainer.py:1128: UserWarning: The average ratio of batch (13.12) exceeds threshold 10.00. Skipping batch.\n",
      "  warnings.warn(\n",
      "/home/prasann/miniconda3/envs/rlenv/lib/python3.9/site-packages/trl/trainer/ppo_trainer.py:1128: UserWarning: The average ratio of batch (77.48) exceeds threshold 10.00. Skipping batch.\n",
      "  warnings.warn(\n",
      "/home/prasann/miniconda3/envs/rlenv/lib/python3.9/site-packages/trl/trainer/ppo_trainer.py:1128: UserWarning: The average ratio of batch (45.33) exceeds threshold 10.00. Skipping batch.\n",
      "  warnings.warn(\n",
      "/home/prasann/miniconda3/envs/rlenv/lib/python3.9/site-packages/trl/trainer/ppo_trainer.py:1128: UserWarning: The average ratio of batch (17.99) exceeds threshold 10.00. Skipping batch.\n",
      "  warnings.warn(\n",
      "/home/prasann/miniconda3/envs/rlenv/lib/python3.9/site-packages/trl/trainer/ppo_trainer.py:1128: UserWarning: The average ratio of batch (169.90) exceeds threshold 10.00. Skipping batch.\n",
      "  warnings.warn(\n",
      "/home/prasann/miniconda3/envs/rlenv/lib/python3.9/site-packages/trl/trainer/ppo_trainer.py:1128: UserWarning: The average ratio of batch (13.06) exceeds threshold 10.00. Skipping batch.\n",
      "  warnings.warn(\n",
      "/home/prasann/miniconda3/envs/rlenv/lib/python3.9/site-packages/trl/trainer/ppo_trainer.py:1128: UserWarning: The average ratio of batch (2596.79) exceeds threshold 10.00. Skipping batch.\n",
      "  warnings.warn(\n",
      "/home/prasann/miniconda3/envs/rlenv/lib/python3.9/site-packages/trl/trainer/ppo_trainer.py:1128: UserWarning: The average ratio of batch (13.26) exceeds threshold 10.00. Skipping batch.\n",
      "  warnings.warn(\n",
      "/home/prasann/miniconda3/envs/rlenv/lib/python3.9/site-packages/trl/trainer/ppo_trainer.py:1128: UserWarning: The average ratio of batch (68.20) exceeds threshold 10.00. Skipping batch.\n",
      "  warnings.warn(\n",
      "/home/prasann/miniconda3/envs/rlenv/lib/python3.9/site-packages/trl/trainer/ppo_trainer.py:1128: UserWarning: The average ratio of batch (16.26) exceeds threshold 10.00. Skipping batch.\n",
      "  warnings.warn(\n",
      "/home/prasann/miniconda3/envs/rlenv/lib/python3.9/site-packages/trl/trainer/ppo_trainer.py:1128: UserWarning: The average ratio of batch (10.22) exceeds threshold 10.00. Skipping batch.\n",
      "  warnings.warn(\n",
      "7it [09:26, 80.93s/it]/home/prasann/miniconda3/envs/rlenv/lib/python3.9/site-packages/trl/trainer/ppo_trainer.py:1128: UserWarning: The average ratio of batch (56.72) exceeds threshold 10.00. Skipping batch.\n",
      "  warnings.warn(\n",
      "/home/prasann/miniconda3/envs/rlenv/lib/python3.9/site-packages/trl/trainer/ppo_trainer.py:1128: UserWarning: The average ratio of batch (11.09) exceeds threshold 10.00. Skipping batch.\n",
      "  warnings.warn(\n",
      "/home/prasann/miniconda3/envs/rlenv/lib/python3.9/site-packages/trl/trainer/ppo_trainer.py:1128: UserWarning: The average ratio of batch (86.61) exceeds threshold 10.00. Skipping batch.\n",
      "  warnings.warn(\n",
      "/home/prasann/miniconda3/envs/rlenv/lib/python3.9/site-packages/trl/trainer/ppo_trainer.py:1128: UserWarning: The average ratio of batch (10.48) exceeds threshold 10.00. Skipping batch.\n",
      "  warnings.warn(\n",
      "/home/prasann/miniconda3/envs/rlenv/lib/python3.9/site-packages/trl/trainer/ppo_trainer.py:1128: UserWarning: The average ratio of batch (39.26) exceeds threshold 10.00. Skipping batch.\n",
      "  warnings.warn(\n",
      "/home/prasann/miniconda3/envs/rlenv/lib/python3.9/site-packages/trl/trainer/ppo_trainer.py:1128: UserWarning: The average ratio of batch (176.16) exceeds threshold 10.00. Skipping batch.\n",
      "  warnings.warn(\n",
      "/home/prasann/miniconda3/envs/rlenv/lib/python3.9/site-packages/trl/trainer/ppo_trainer.py:1128: UserWarning: The average ratio of batch (13.43) exceeds threshold 10.00. Skipping batch.\n",
      "  warnings.warn(\n",
      "/home/prasann/miniconda3/envs/rlenv/lib/python3.9/site-packages/trl/trainer/ppo_trainer.py:1128: UserWarning: The average ratio of batch (13.87) exceeds threshold 10.00. Skipping batch.\n",
      "  warnings.warn(\n",
      "7it [10:17, 88.19s/it]\n"
     ]
    },
    {
     "ename": "KeyboardInterrupt",
     "evalue": "",
     "output_type": "error",
     "traceback": [
      "\u001b[0;31m---------------------------------------------------------------------------\u001b[0m",
      "\u001b[0;31mKeyboardInterrupt\u001b[0m                         Traceback (most recent call last)",
      "Cell \u001b[0;32mIn[14], line 33\u001b[0m\n\u001b[1;32m     30\u001b[0m rewards \u001b[38;5;241m=\u001b[39m [torch\u001b[38;5;241m.\u001b[39mtensor(output[\u001b[38;5;241m1\u001b[39m][\u001b[38;5;124m\"\u001b[39m\u001b[38;5;124mscore\u001b[39m\u001b[38;5;124m\"\u001b[39m]) \u001b[38;5;28;01mfor\u001b[39;00m output \u001b[38;5;129;01min\u001b[39;00m pipe_outputs]\n\u001b[1;32m     32\u001b[0m \u001b[38;5;66;03m#### Run PPO step\u001b[39;00m\n\u001b[0;32m---> 33\u001b[0m stats \u001b[38;5;241m=\u001b[39m \u001b[43mppo_trainer\u001b[49m\u001b[38;5;241;43m.\u001b[39;49m\u001b[43mstep\u001b[49m\u001b[43m(\u001b[49m\u001b[43mquery_tensors\u001b[49m\u001b[43m,\u001b[49m\u001b[43m \u001b[49m\u001b[43mresponse_tensors\u001b[49m\u001b[43m,\u001b[49m\u001b[43m \u001b[49m\u001b[43mrewards\u001b[49m\u001b[43m)\u001b[49m\n\u001b[1;32m     34\u001b[0m ppo_trainer\u001b[38;5;241m.\u001b[39mlog_stats(stats, batch, rewards)\n",
      "File \u001b[0;32m~/miniconda3/envs/rlenv/lib/python3.9/contextlib.py:79\u001b[0m, in \u001b[0;36mContextDecorator.__call__.<locals>.inner\u001b[0;34m(*args, **kwds)\u001b[0m\n\u001b[1;32m     76\u001b[0m \u001b[38;5;129m@wraps\u001b[39m(func)\n\u001b[1;32m     77\u001b[0m \u001b[38;5;28;01mdef\u001b[39;00m \u001b[38;5;21minner\u001b[39m(\u001b[38;5;241m*\u001b[39margs, \u001b[38;5;241m*\u001b[39m\u001b[38;5;241m*\u001b[39mkwds):\n\u001b[1;32m     78\u001b[0m     \u001b[38;5;28;01mwith\u001b[39;00m \u001b[38;5;28mself\u001b[39m\u001b[38;5;241m.\u001b[39m_recreate_cm():\n\u001b[0;32m---> 79\u001b[0m         \u001b[38;5;28;01mreturn\u001b[39;00m \u001b[43mfunc\u001b[49m\u001b[43m(\u001b[49m\u001b[38;5;241;43m*\u001b[39;49m\u001b[43margs\u001b[49m\u001b[43m,\u001b[49m\u001b[43m \u001b[49m\u001b[38;5;241;43m*\u001b[39;49m\u001b[38;5;241;43m*\u001b[39;49m\u001b[43mkwds\u001b[49m\u001b[43m)\u001b[49m\n",
      "File \u001b[0;32m~/miniconda3/envs/rlenv/lib/python3.9/site-packages/trl/trainer/ppo_trainer.py:731\u001b[0m, in \u001b[0;36mPPOTrainer.step\u001b[0;34m(self, queries, responses, scores)\u001b[0m\n\u001b[1;32m    722\u001b[0m             model_inputs \u001b[38;5;241m=\u001b[39m {k: mini_batch_dict[k] \u001b[38;5;28;01mfor\u001b[39;00m k \u001b[38;5;129;01min\u001b[39;00m model_inputs_names}\n\u001b[1;32m    724\u001b[0m             logprobs, logits, vpreds, _ \u001b[38;5;241m=\u001b[39m \u001b[38;5;28mself\u001b[39m\u001b[38;5;241m.\u001b[39mbatched_forward_pass(\n\u001b[1;32m    725\u001b[0m                 \u001b[38;5;28mself\u001b[39m\u001b[38;5;241m.\u001b[39mmodel,\n\u001b[1;32m    726\u001b[0m                 mini_batch_dict[\u001b[38;5;124m\"\u001b[39m\u001b[38;5;124mqueries\u001b[39m\u001b[38;5;124m\"\u001b[39m],\n\u001b[0;32m   (...)\u001b[0m\n\u001b[1;32m    729\u001b[0m                 return_logits\u001b[38;5;241m=\u001b[39m\u001b[38;5;28;01mTrue\u001b[39;00m,\n\u001b[1;32m    730\u001b[0m             )\n\u001b[0;32m--> 731\u001b[0m             train_stats \u001b[38;5;241m=\u001b[39m \u001b[38;5;28;43mself\u001b[39;49m\u001b[38;5;241;43m.\u001b[39;49m\u001b[43mtrain_minibatch\u001b[49m\u001b[43m(\u001b[49m\n\u001b[1;32m    732\u001b[0m \u001b[43m                \u001b[49m\u001b[43mmini_batch_dict\u001b[49m\u001b[43m[\u001b[49m\u001b[38;5;124;43m\"\u001b[39;49m\u001b[38;5;124;43mlogprobs\u001b[39;49m\u001b[38;5;124;43m\"\u001b[39;49m\u001b[43m]\u001b[49m\u001b[43m,\u001b[49m\n\u001b[1;32m    733\u001b[0m \u001b[43m                \u001b[49m\u001b[43mmini_batch_dict\u001b[49m\u001b[43m[\u001b[49m\u001b[38;5;124;43m\"\u001b[39;49m\u001b[38;5;124;43mvalues\u001b[39;49m\u001b[38;5;124;43m\"\u001b[39;49m\u001b[43m]\u001b[49m\u001b[43m,\u001b[49m\n\u001b[1;32m    734\u001b[0m \u001b[43m                \u001b[49m\u001b[43mlogprobs\u001b[49m\u001b[43m,\u001b[49m\n\u001b[1;32m    735\u001b[0m \u001b[43m                \u001b[49m\u001b[43mlogits\u001b[49m\u001b[43m,\u001b[49m\n\u001b[1;32m    736\u001b[0m \u001b[43m                \u001b[49m\u001b[43mvpreds\u001b[49m\u001b[43m,\u001b[49m\n\u001b[1;32m    737\u001b[0m \u001b[43m                \u001b[49m\u001b[43mmini_batch_dict\u001b[49m\u001b[43m[\u001b[49m\u001b[38;5;124;43m\"\u001b[39;49m\u001b[38;5;124;43mmasks\u001b[39;49m\u001b[38;5;124;43m\"\u001b[39;49m\u001b[43m]\u001b[49m\u001b[43m,\u001b[49m\n\u001b[1;32m    738\u001b[0m \u001b[43m                \u001b[49m\u001b[43mmini_batch_dict\u001b[49m\u001b[43m[\u001b[49m\u001b[38;5;124;43m\"\u001b[39;49m\u001b[38;5;124;43madvantages\u001b[39;49m\u001b[38;5;124;43m\"\u001b[39;49m\u001b[43m]\u001b[49m\u001b[43m,\u001b[49m\n\u001b[1;32m    739\u001b[0m \u001b[43m                \u001b[49m\u001b[43mmini_batch_dict\u001b[49m\u001b[43m[\u001b[49m\u001b[38;5;124;43m\"\u001b[39;49m\u001b[38;5;124;43mreturns\u001b[39;49m\u001b[38;5;124;43m\"\u001b[39;49m\u001b[43m]\u001b[49m\u001b[43m,\u001b[49m\n\u001b[1;32m    740\u001b[0m \u001b[43m            \u001b[49m\u001b[43m)\u001b[49m\n\u001b[1;32m    741\u001b[0m             all_stats\u001b[38;5;241m.\u001b[39mappend(train_stats)\n\u001b[1;32m    743\u001b[0m \u001b[38;5;66;03m# typically, early stopping is done at the epoch level\u001b[39;00m\n",
      "File \u001b[0;32m~/miniconda3/envs/rlenv/lib/python3.9/contextlib.py:79\u001b[0m, in \u001b[0;36mContextDecorator.__call__.<locals>.inner\u001b[0;34m(*args, **kwds)\u001b[0m\n\u001b[1;32m     76\u001b[0m \u001b[38;5;129m@wraps\u001b[39m(func)\n\u001b[1;32m     77\u001b[0m \u001b[38;5;28;01mdef\u001b[39;00m \u001b[38;5;21minner\u001b[39m(\u001b[38;5;241m*\u001b[39margs, \u001b[38;5;241m*\u001b[39m\u001b[38;5;241m*\u001b[39mkwds):\n\u001b[1;32m     78\u001b[0m     \u001b[38;5;28;01mwith\u001b[39;00m \u001b[38;5;28mself\u001b[39m\u001b[38;5;241m.\u001b[39m_recreate_cm():\n\u001b[0;32m---> 79\u001b[0m         \u001b[38;5;28;01mreturn\u001b[39;00m \u001b[43mfunc\u001b[49m\u001b[43m(\u001b[49m\u001b[38;5;241;43m*\u001b[39;49m\u001b[43margs\u001b[49m\u001b[43m,\u001b[49m\u001b[43m \u001b[49m\u001b[38;5;241;43m*\u001b[39;49m\u001b[38;5;241;43m*\u001b[39;49m\u001b[43mkwds\u001b[49m\u001b[43m)\u001b[49m\n",
      "File \u001b[0;32m~/miniconda3/envs/rlenv/lib/python3.9/site-packages/trl/trainer/ppo_trainer.py:1000\u001b[0m, in \u001b[0;36mPPOTrainer.train_minibatch\u001b[0;34m(self, old_logprobs, values, logprobs, logits, vpreds, mask, advantages, returns)\u001b[0m\n\u001b[1;32m    997\u001b[0m \u001b[38;5;28mself\u001b[39m\u001b[38;5;241m.\u001b[39moptimizer\u001b[38;5;241m.\u001b[39mstep()\n\u001b[1;32m    998\u001b[0m \u001b[38;5;66;03m# we call optimizer.zero_grad() every time and let `accelerator` handle accumulation\u001b[39;00m\n\u001b[1;32m    999\u001b[0m \u001b[38;5;66;03m# see https://huggingface.co/docs/accelerate/usage_guides/gradient_accumulation#the-finished-code\u001b[39;00m\n\u001b[0;32m-> 1000\u001b[0m \u001b[38;5;28;43mself\u001b[39;49m\u001b[38;5;241;43m.\u001b[39;49m\u001b[43moptimizer\u001b[49m\u001b[38;5;241;43m.\u001b[39;49m\u001b[43mzero_grad\u001b[49m\u001b[43m(\u001b[49m\u001b[43m)\u001b[49m\n\u001b[1;32m   1001\u001b[0m \u001b[38;5;28;01mreturn\u001b[39;00m train_stats\n",
      "File \u001b[0;32m~/miniconda3/envs/rlenv/lib/python3.9/site-packages/accelerate/optimizer.py:114\u001b[0m, in \u001b[0;36mAcceleratedOptimizer.zero_grad\u001b[0;34m(self, set_to_none)\u001b[0m\n\u001b[1;32m    112\u001b[0m     \u001b[38;5;28;01mif\u001b[39;00m set_to_none \u001b[38;5;129;01mis\u001b[39;00m \u001b[38;5;28;01mNone\u001b[39;00m:\n\u001b[1;32m    113\u001b[0m         set_to_none \u001b[38;5;241m=\u001b[39m \u001b[38;5;28;01mFalse\u001b[39;00m\n\u001b[0;32m--> 114\u001b[0m     \u001b[38;5;28;43mself\u001b[39;49m\u001b[38;5;241;43m.\u001b[39;49m\u001b[43moptimizer\u001b[49m\u001b[38;5;241;43m.\u001b[39;49m\u001b[43mzero_grad\u001b[49m\u001b[43m(\u001b[49m\u001b[43mset_to_none\u001b[49m\u001b[38;5;241;43m=\u001b[39;49m\u001b[43mset_to_none\u001b[49m\u001b[43m)\u001b[49m\n\u001b[1;32m    115\u001b[0m \u001b[38;5;28;01melse\u001b[39;00m:\n\u001b[1;32m    116\u001b[0m     \u001b[38;5;28;01mif\u001b[39;00m set_to_none \u001b[38;5;129;01mis\u001b[39;00m \u001b[38;5;129;01mnot\u001b[39;00m \u001b[38;5;28;01mNone\u001b[39;00m:\n",
      "File \u001b[0;32m~/miniconda3/envs/rlenv/lib/python3.9/site-packages/torch/optim/optimizer.py:463\u001b[0m, in \u001b[0;36mOptimizer.zero_grad\u001b[0;34m(self, set_to_none)\u001b[0m\n\u001b[1;32m    461\u001b[0m     p\u001b[38;5;241m.\u001b[39mgrad \u001b[38;5;241m=\u001b[39m \u001b[38;5;28;01mNone\u001b[39;00m\n\u001b[1;32m    462\u001b[0m \u001b[38;5;28;01melse\u001b[39;00m:\n\u001b[0;32m--> 463\u001b[0m     \u001b[38;5;28;01mif\u001b[39;00m \u001b[43mp\u001b[49m\u001b[38;5;241;43m.\u001b[39;49m\u001b[43mgrad\u001b[49m\u001b[38;5;241m.\u001b[39mgrad_fn \u001b[38;5;129;01mis\u001b[39;00m \u001b[38;5;129;01mnot\u001b[39;00m \u001b[38;5;28;01mNone\u001b[39;00m:\n\u001b[1;32m    464\u001b[0m         p\u001b[38;5;241m.\u001b[39mgrad\u001b[38;5;241m.\u001b[39mdetach_()\n\u001b[1;32m    465\u001b[0m     \u001b[38;5;28;01melse\u001b[39;00m:\n",
      "\u001b[0;31mKeyboardInterrupt\u001b[0m: "
     ]
    }
   ],
   "source": [
    "output_min_length = 4\n",
    "output_max_length = 16\n",
    "output_length_sampler = LengthSampler(output_min_length, output_max_length)\n",
    "\n",
    "\n",
    "generation_kwargs = {\n",
    "    \"min_length\": -1,\n",
    "    \"top_k\": 0.0,\n",
    "    \"top_p\": 1.0,\n",
    "    \"do_sample\": True,\n",
    "    \"pad_token_id\": tokenizer.eos_token_id,\n",
    "}\n",
    "\n",
    "\n",
    "for epoch, batch in tqdm(enumerate(ppo_trainer.dataloader)):\n",
    "    query_tensors = batch[\"input_ids\"]\n",
    "\n",
    "    #### Get response from gpt2\n",
    "    response_tensors = []\n",
    "    for query in query_tensors:\n",
    "        gen_len = output_length_sampler()\n",
    "        generation_kwargs[\"max_new_tokens\"] = gen_len\n",
    "        response = ppo_trainer.generate(query, **generation_kwargs)\n",
    "        response_tensors.append(response.squeeze()[-gen_len:])\n",
    "    batch[\"response\"] = [tokenizer.decode(r.squeeze()) for r in response_tensors]\n",
    "\n",
    "    #### Compute sentiment score\n",
    "    texts = [q + r for q, r in zip(batch[\"query\"], batch[\"response\"])]\n",
    "    pipe_outputs = sentiment_pipe(texts, **sent_kwargs)\n",
    "    rewards = [torch.tensor(output[1][\"score\"]) for output in pipe_outputs]\n",
    "\n",
    "    #### Run PPO step\n",
    "    stats = ppo_trainer.step(query_tensors, response_tensors, rewards)\n",
    "    ppo_trainer.log_stats(stats, batch, rewards)"
   ]
  },
  {
   "cell_type": "markdown",
   "metadata": {
    "jp-MarkdownHeadingCollapsed": true
   },
   "source": [
    "### Training progress\n",
    "If you are tracking the training progress with Weights&Biases you should see a plot similar to the one below. Check out the interactive sample report on wandb.ai: [link](https://app.wandb.ai/huggingface/trl-showcase/runs/1jtvxb1m/).\n",
    "\n",
    "<div style=\"text-align: center\">\n",
    "<img src='https://huggingface.co/datasets/trl-internal-testing/example-images/resolve/main/images/gpt2_tuning_progress.png' width='800'>\n",
    "<p style=\"text-align: center;\"> <b>Figure:</b> Reward mean and distribution evolution during training. </p>\n",
    "</div>\n",
    "\n",
    "One can observe how the model starts to generate more positive outputs after a few optimisation steps.\n",
    "\n",
    "> Note: Investigating the KL-divergence will probably show that at this point the model has not converged to the target KL-divergence, yet. To get there would require longer training or starting with a higher initial coefficient."
   ]
  },
  {
   "attachments": {},
   "cell_type": "markdown",
   "metadata": {},
   "source": [
    "## Model inspection\n",
    "Let's inspect some examples from the IMDB dataset. We can use `model_ref` to compare the tuned model `model` against the model before optimisation."
   ]
  },
  {
   "cell_type": "code",
   "execution_count": null,
   "metadata": {},
   "outputs": [
    {
     "name": "stderr",
     "output_type": "stream",
     "text": [
      "/home/leandro/miniconda3/envs/trl/lib/python3.9/site-packages/transformers/pipelines/base.py:1075: UserWarning: You seem to be using the pipelines sequentially on GPU. In order to maximize efficiency please use a dataset\n",
      "  warnings.warn(\n"
     ]
    },
    {
     "data": {
      "text/html": [
       "<div>\n",
       "<style scoped>\n",
       "    .dataframe tbody tr th:only-of-type {\n",
       "        vertical-align: middle;\n",
       "    }\n",
       "\n",
       "    .dataframe tbody tr th {\n",
       "        vertical-align: top;\n",
       "    }\n",
       "\n",
       "    .dataframe thead th {\n",
       "        text-align: right;\n",
       "    }\n",
       "</style>\n",
       "<table border=\"1\" class=\"dataframe\">\n",
       "  <thead>\n",
       "    <tr style=\"text-align: right;\">\n",
       "      <th></th>\n",
       "      <th>query</th>\n",
       "      <th>response (before)</th>\n",
       "      <th>response (after)</th>\n",
       "      <th>rewards (before)</th>\n",
       "      <th>rewards (after)</th>\n",
       "    </tr>\n",
       "  </thead>\n",
       "  <tbody>\n",
       "    <tr>\n",
       "      <th>0</th>\n",
       "      <td>Oh dear,</td>\n",
       "      <td>what are I saying?! I fast-forwarded through</td>\n",
       "      <td>I must say that I are hanging my head on this</td>\n",
       "      <td>-0.858954</td>\n",
       "      <td>-1.007609</td>\n",
       "    </tr>\n",
       "    <tr>\n",
       "      <th>1</th>\n",
       "      <td>I've seen</td>\n",
       "      <td>it, as well.&lt;br</td>\n",
       "      <td>three million dialogue throughout, and</td>\n",
       "      <td>1.996807</td>\n",
       "      <td>2.240883</td>\n",
       "    </tr>\n",
       "    <tr>\n",
       "      <th>2</th>\n",
       "      <td>Hi:&lt;br /&gt;&lt;br</td>\n",
       "      <td>/&gt;This movie is a turkey though when it comes to</td>\n",
       "      <td>/&gt;I also like that movie. It's so funny</td>\n",
       "      <td>-0.438191</td>\n",
       "      <td>2.415630</td>\n",
       "    </tr>\n",
       "    <tr>\n",
       "      <th>3</th>\n",
       "      <td>I'm a writer</td>\n",
       "      <td>and I'm not going to be asked to</td>\n",
       "      <td>, not a screenwriter. I've written</td>\n",
       "      <td>-0.655991</td>\n",
       "      <td>-0.724324</td>\n",
       "    </tr>\n",
       "    <tr>\n",
       "      <th>4</th>\n",
       "      <td>If you</td>\n",
       "      <td>absolutely love sensitive romance, the plot a...</td>\n",
       "      <td>are looking at the cinematography, the acting,</td>\n",
       "      <td>2.221309</td>\n",
       "      <td>0.148751</td>\n",
       "    </tr>\n",
       "    <tr>\n",
       "      <th>5</th>\n",
       "      <td>OMG this</td>\n",
       "      <td>casting cast. Obi cult breezy, this is</td>\n",
       "      <td>movie was totally wonderful, I it was the ide...</td>\n",
       "      <td>-1.533139</td>\n",
       "      <td>2.590190</td>\n",
       "    </tr>\n",
       "    <tr>\n",
       "      <th>6</th>\n",
       "      <td>It's</td>\n",
       "      <td>unrealistic; the guy who was supposed to be E...</td>\n",
       "      <td>a very good film. It reminds us about over</td>\n",
       "      <td>-2.097017</td>\n",
       "      <td>2.835831</td>\n",
       "    </tr>\n",
       "    <tr>\n",
       "      <th>7</th>\n",
       "      <td>There is a really</td>\n",
       "      <td>awful laptop game!&lt;br /&gt;&lt;br /&gt;I used to</td>\n",
       "      <td>interesting story that set us the journey. Th...</td>\n",
       "      <td>-2.341743</td>\n",
       "      <td>2.282939</td>\n",
       "    </tr>\n",
       "    <tr>\n",
       "      <th>8</th>\n",
       "      <td>This is</td>\n",
       "      <td>my favorite part about</td>\n",
       "      <td>a well thought well</td>\n",
       "      <td>2.554794</td>\n",
       "      <td>2.734139</td>\n",
       "    </tr>\n",
       "    <tr>\n",
       "      <th>9</th>\n",
       "      <td>Wasn't</td>\n",
       "      <td>Wasn't it clichéd?&lt;|endoftext|&gt;</td>\n",
       "      <td>anyone else interested in this movie? It's a ...</td>\n",
       "      <td>-1.790802</td>\n",
       "      <td>2.631960</td>\n",
       "    </tr>\n",
       "    <tr>\n",
       "      <th>10</th>\n",
       "      <td>This film is another of director Tim</td>\n",
       "      <td>Burton's masterpieces</td>\n",
       "      <td>Curry's best bombs</td>\n",
       "      <td>2.622917</td>\n",
       "      <td>2.544106</td>\n",
       "    </tr>\n",
       "    <tr>\n",
       "      <th>11</th>\n",
       "      <td>I thought this movie</td>\n",
       "      <td>was excellent. I actually laughed 6 times and...</td>\n",
       "      <td>was perfect, and I believe it's almost overlo...</td>\n",
       "      <td>2.548022</td>\n",
       "      <td>2.601913</td>\n",
       "    </tr>\n",
       "    <tr>\n",
       "      <th>12</th>\n",
       "      <td>This early John Wayne</td>\n",
       "      <td>films looked like an abandoned police beating</td>\n",
       "      <td>film is a realistic portrayal of what</td>\n",
       "      <td>-1.742279</td>\n",
       "      <td>2.609762</td>\n",
       "    </tr>\n",
       "    <tr>\n",
       "      <th>13</th>\n",
       "      <td>I was</td>\n",
       "      <td>given an experience-a big one, almost 25</td>\n",
       "      <td>very happy with all the reflections and this ...</td>\n",
       "      <td>2.250709</td>\n",
       "      <td>2.558540</td>\n",
       "    </tr>\n",
       "    <tr>\n",
       "      <th>14</th>\n",
       "      <td>Embarrassingly, I</td>\n",
       "      <td>am more at a strict conformity after getting ...</td>\n",
       "      <td>had never seen a movie before. There was one ...</td>\n",
       "      <td>-2.021666</td>\n",
       "      <td>-1.803383</td>\n",
       "    </tr>\n",
       "    <tr>\n",
       "      <th>15</th>\n",
       "      <td>I am a fan</td>\n",
       "      <td>of living on simple islands, and we have visi...</td>\n",
       "      <td>of many things and learned how to appreciate ...</td>\n",
       "      <td>1.791297</td>\n",
       "      <td>2.324461</td>\n",
       "    </tr>\n",
       "  </tbody>\n",
       "</table>\n",
       "</div>"
      ],
      "text/plain": [
       "                                   query  \\\n",
       "0                               Oh dear,   \n",
       "1                              I've seen   \n",
       "2                           Hi:<br /><br   \n",
       "3                           I'm a writer   \n",
       "4                                 If you   \n",
       "5                               OMG this   \n",
       "6                                   It's   \n",
       "7                      There is a really   \n",
       "8                                This is   \n",
       "9                                 Wasn't   \n",
       "10  This film is another of director Tim   \n",
       "11                  I thought this movie   \n",
       "12                 This early John Wayne   \n",
       "13                                 I was   \n",
       "14                     Embarrassingly, I   \n",
       "15                            I am a fan   \n",
       "\n",
       "                                    response (before)  \\\n",
       "0        what are I saying?! I fast-forwarded through   \n",
       "1                                     it, as well.<br   \n",
       "2    />This movie is a turkey though when it comes to   \n",
       "3                    and I'm not going to be asked to   \n",
       "4    absolutely love sensitive romance, the plot a...   \n",
       "5              casting cast. Obi cult breezy, this is   \n",
       "6    unrealistic; the guy who was supposed to be E...   \n",
       "7             awful laptop game!<br /><br />I used to   \n",
       "8                              my favorite part about   \n",
       "9                     Wasn't it clichéd?<|endoftext|>   \n",
       "10                              Burton's masterpieces   \n",
       "11   was excellent. I actually laughed 6 times and...   \n",
       "12      films looked like an abandoned police beating   \n",
       "13           given an experience-a big one, almost 25   \n",
       "14   am more at a strict conformity after getting ...   \n",
       "15   of living on simple islands, and we have visi...   \n",
       "\n",
       "                                     response (after)  rewards (before)  \\\n",
       "0       I must say that I are hanging my head on this         -0.858954   \n",
       "1              three million dialogue throughout, and          1.996807   \n",
       "2             />I also like that movie. It's so funny         -0.438191   \n",
       "3                  , not a screenwriter. I've written         -0.655991   \n",
       "4      are looking at the cinematography, the acting,          2.221309   \n",
       "5    movie was totally wonderful, I it was the ide...         -1.533139   \n",
       "6          a very good film. It reminds us about over         -2.097017   \n",
       "7    interesting story that set us the journey. Th...         -2.341743   \n",
       "8                                 a well thought well          2.554794   \n",
       "9    anyone else interested in this movie? It's a ...         -1.790802   \n",
       "10                                 Curry's best bombs          2.622917   \n",
       "11   was perfect, and I believe it's almost overlo...          2.548022   \n",
       "12              film is a realistic portrayal of what         -1.742279   \n",
       "13   very happy with all the reflections and this ...          2.250709   \n",
       "14   had never seen a movie before. There was one ...         -2.021666   \n",
       "15   of many things and learned how to appreciate ...          1.791297   \n",
       "\n",
       "    rewards (after)  \n",
       "0         -1.007609  \n",
       "1          2.240883  \n",
       "2          2.415630  \n",
       "3         -0.724324  \n",
       "4          0.148751  \n",
       "5          2.590190  \n",
       "6          2.835831  \n",
       "7          2.282939  \n",
       "8          2.734139  \n",
       "9          2.631960  \n",
       "10         2.544106  \n",
       "11         2.601913  \n",
       "12         2.609762  \n",
       "13         2.558540  \n",
       "14        -1.803383  \n",
       "15         2.324461  "
      ]
     },
     "execution_count": null,
     "metadata": {},
     "output_type": "execute_result"
    }
   ],
   "source": [
    "#### get a batch from the dataset\n",
    "bs = 16\n",
    "game_data = dict()\n",
    "dataset.set_format(\"pandas\")\n",
    "df_batch = dataset[:].sample(bs)\n",
    "game_data[\"query\"] = df_batch[\"query\"].tolist()\n",
    "query_tensors = df_batch[\"input_ids\"].tolist()\n",
    "\n",
    "response_tensors_ref, response_tensors = [], []\n",
    "\n",
    "#### get response from gpt2 and gpt2_ref\n",
    "for i in range(bs):\n",
    "    gen_len = output_length_sampler()\n",
    "    output = ref_model.generate(\n",
    "        torch.tensor(query_tensors[i]).unsqueeze(dim=0).to(device), max_new_tokens=gen_len, **gen_kwargs\n",
    "    ).squeeze()[-gen_len:]\n",
    "    response_tensors_ref.append(output)\n",
    "    output = model.generate(\n",
    "        torch.tensor(query_tensors[i]).unsqueeze(dim=0).to(device), max_new_tokens=gen_len, **gen_kwargs\n",
    "    ).squeeze()[-gen_len:]\n",
    "    response_tensors.append(output)\n",
    "\n",
    "#### decode responses\n",
    "game_data[\"response (before)\"] = [tokenizer.decode(response_tensors_ref[i]) for i in range(bs)]\n",
    "game_data[\"response (after)\"] = [tokenizer.decode(response_tensors[i]) for i in range(bs)]\n",
    "\n",
    "#### sentiment analysis of query/response pairs before/after\n",
    "texts = [q + r for q, r in zip(game_data[\"query\"], game_data[\"response (before)\"])]\n",
    "game_data[\"rewards (before)\"] = [output[1][\"score\"] for output in sentiment_pipe(texts, **sent_kwargs)]\n",
    "\n",
    "texts = [q + r for q, r in zip(game_data[\"query\"], game_data[\"response (after)\"])]\n",
    "game_data[\"rewards (after)\"] = [output[1][\"score\"] for output in sentiment_pipe(texts, **sent_kwargs)]\n",
    "\n",
    "# store results in a dataframe\n",
    "df_results = pd.DataFrame(game_data)\n",
    "df_results"
   ]
  },
  {
   "cell_type": "markdown",
   "metadata": {},
   "source": [
    "Looking at the reward mean/median of the generated sequences we observe a significant difference."
   ]
  },
  {
   "cell_type": "code",
   "execution_count": null,
   "metadata": {},
   "outputs": [
    {
     "name": "stdout",
     "output_type": "stream",
     "text": [
      "mean:\n"
     ]
    },
    {
     "data": {
      "text/plain": [
       "rewards (before)    0.156629\n",
       "rewards (after)     1.686487\n",
       "dtype: float64"
      ]
     },
     "metadata": {},
     "output_type": "display_data"
    },
    {
     "name": "stdout",
     "output_type": "stream",
     "text": [
      "\n",
      "median:\n"
     ]
    },
    {
     "data": {
      "text/plain": [
       "rewards (before)   -0.547091\n",
       "rewards (after)     2.479868\n",
       "dtype: float64"
      ]
     },
     "metadata": {},
     "output_type": "display_data"
    }
   ],
   "source": [
    "print(\"mean:\")\n",
    "display(df_results[[\"rewards (before)\", \"rewards (after)\"]].mean())\n",
    "print()\n",
    "print(\"median:\")\n",
    "display(df_results[[\"rewards (before)\", \"rewards (after)\"]].median())"
   ]
  },
  {
   "cell_type": "markdown",
   "metadata": {},
   "source": [
    "## Save model\n",
    "Finally, we save the model and push it to the Hugging Face for later usage."
   ]
  },
  {
   "cell_type": "code",
   "execution_count": null,
   "metadata": {},
   "outputs": [
    {
     "name": "stderr",
     "output_type": "stream",
     "text": [
      "/home/leandro/miniconda3/envs/trl/lib/python3.9/site-packages/huggingface_hub/hf_api.py:1001: FutureWarning: `create_repo` now takes `token` as an optional positional argument. Be sure to adapt your code!\n",
      "  warnings.warn(\n",
      "Cloning https://huggingface.co/lvwerra/gpt2-imdb-pos-v2 into local empty directory.\n"
     ]
    },
    {
     "data": {
      "application/vnd.jupyter.widget-view+json": {
       "model_id": "a953a6d0c465432bbc39aca826d37aaf",
       "version_major": 2,
       "version_minor": 0
      },
      "text/plain": [
       "Upload file pytorch_model.bin:   0%|          | 32.0k/487M [00:00<?, ?B/s]"
      ]
     },
     "metadata": {},
     "output_type": "display_data"
    },
    {
     "name": "stderr",
     "output_type": "stream",
     "text": [
      "remote: Enforcing permissions...        \n",
      "remote: Allowed refs: all        \n",
      "To https://huggingface.co/lvwerra/gpt2-imdb-pos-v2\n",
      "   369b075..28b9865  main -> main\n",
      "\n",
      "remote: Enforcing permissions...        \n",
      "remote: Allowed refs: all        \n",
      "To https://huggingface.co/lvwerra/gpt2-imdb-pos-v2\n",
      "   28b9865..42792ea  main -> main\n",
      "\n"
     ]
    },
    {
     "data": {
      "text/plain": [
       "('gpt2-imdb-pos-v2/tokenizer_config.json',\n",
       " 'gpt2-imdb-pos-v2/special_tokens_map.json',\n",
       " 'gpt2-imdb-pos-v2/vocab.json',\n",
       " 'gpt2-imdb-pos-v2/merges.txt',\n",
       " 'gpt2-imdb-pos-v2/added_tokens.json',\n",
       " 'gpt2-imdb-pos-v2/tokenizer.json')"
      ]
     },
     "execution_count": null,
     "metadata": {},
     "output_type": "execute_result"
    }
   ],
   "source": [
    "model.save_pretrained(\"gpt2-imdb-pos-v2\", push_to_hub=True)\n",
    "tokenizer.save_pretrained(\"gpt2-imdb-pos-v2\", push_to_hub=True)"
   ]
  },
  {
   "cell_type": "code",
   "execution_count": null,
   "metadata": {},
   "outputs": [],
   "source": []
  }
 ],
 "metadata": {
  "kernelspec": {
   "display_name": "Python 3 (ipykernel)",
   "language": "python",
   "name": "python3"
  },
  "language_info": {
   "codemirror_mode": {
    "name": "ipython",
    "version": 3
   },
   "file_extension": ".py",
   "mimetype": "text/x-python",
   "name": "python",
   "nbconvert_exporter": "python",
   "pygments_lexer": "ipython3",
   "version": "3.9.0"
  },
  "vscode": {
   "interpreter": {
    "hash": "4c8ff454cd947027f86954d72bf940c689a97dcc494eb53cfe4813862c6065fe"
   }
  }
 },
 "nbformat": 4,
 "nbformat_minor": 4
}
