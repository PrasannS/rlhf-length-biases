{
 "cells": [
  {
   "cell_type": "code",
   "execution_count": 1,
   "id": "d6512b87-ab59-494a-b15c-05dc34a01a6f",
   "metadata": {},
   "outputs": [],
   "source": [
    "# This notebook is dedicated to viewing outputs from APfarm evaluation, and deciding whether they match with human preferences"
   ]
  },
  {
   "cell_type": "code",
   "execution_count": 30,
   "id": "53036cf2-2387-4a54-90b7-5ef4e116968d",
   "metadata": {},
   "outputs": [],
   "source": [
    "import pandas as pd\n",
    "from IPython.display import clear_output\n",
    "from debug_utils import load_rm\n",
    "from statistics import mean"
   ]
  },
  {
   "cell_type": "code",
   "execution_count": 31,
   "id": "4a562ba2-b749-42d2-8d73-80bf5ddd8239",
   "metadata": {},
   "outputs": [],
   "source": [
    "outdir = \"../outputs/apeval/\"\n",
    "tmptmp = pd.read_json(outdir+\"apfarmeval/da125.jsonl\", lines=True, orient='records')"
   ]
  },
  {
   "cell_type": "code",
   "execution_count": 32,
   "id": "950914da-c324-4e8d-9248-80f517bd21aa",
   "metadata": {},
   "outputs": [
    {
     "data": {
      "text/html": [
       "<div>\n",
       "<style scoped>\n",
       "    .dataframe tbody tr th:only-of-type {\n",
       "        vertical-align: middle;\n",
       "    }\n",
       "\n",
       "    .dataframe tbody tr th {\n",
       "        vertical-align: top;\n",
       "    }\n",
       "\n",
       "    .dataframe thead th {\n",
       "        text-align: right;\n",
       "    }\n",
       "</style>\n",
       "<table border=\"1\" class=\"dataframe\">\n",
       "  <thead>\n",
       "    <tr style=\"text-align: right;\">\n",
       "      <th></th>\n",
       "      <th>instruction</th>\n",
       "      <th>input</th>\n",
       "      <th>output_1</th>\n",
       "      <th>output_2</th>\n",
       "      <th>annotator</th>\n",
       "      <th>preference</th>\n",
       "      <th>orig1</th>\n",
       "      <th>orig2</th>\n",
       "      <th>da1</th>\n",
       "      <th>da2</th>\n",
       "    </tr>\n",
       "  </thead>\n",
       "  <tbody>\n",
       "    <tr>\n",
       "      <th>0</th>\n",
       "      <td>I successfully highlight the section in a web ...</td>\n",
       "      <td></td>\n",
       "      <td>1) you must use `SendKeys.SEND_KEY` instead of...</td>\n",
       "      <td>1) It will be much easier if you use `Actions`...</td>\n",
       "      <td>chatgpt_2</td>\n",
       "      <td>1</td>\n",
       "      <td>1.286133</td>\n",
       "      <td>2.458984</td>\n",
       "      <td>1.633789</td>\n",
       "      <td>2.083984</td>\n",
       "    </tr>\n",
       "    <tr>\n",
       "      <th>1</th>\n",
       "      <td>I have a json file\\n\\n```\\n{\"id\": 103, \"data\":...</td>\n",
       "      <td></td>\n",
       "      <td>1) Try `astype` - it will do the conversion yo...</td>\n",
       "      <td>1. To use `list()` you need an iterable, like ...</td>\n",
       "      <td>gpt4_3</td>\n",
       "      <td>2</td>\n",
       "      <td>0.039886</td>\n",
       "      <td>-0.315430</td>\n",
       "      <td>0.018478</td>\n",
       "      <td>0.971191</td>\n",
       "    </tr>\n",
       "    <tr>\n",
       "      <th>2</th>\n",
       "      <td>I have Qt creator 4.6.0 and Microsoft Visual S...</td>\n",
       "      <td></td>\n",
       "      <td>1) Install Visual studio's Community Edition v...</td>\n",
       "      <td>32 bit version of `VS2017` uses `VC++ redistri...</td>\n",
       "      <td>davinci003_1</td>\n",
       "      <td>1</td>\n",
       "      <td>0.924805</td>\n",
       "      <td>1.333984</td>\n",
       "      <td>1.755859</td>\n",
       "      <td>2.099609</td>\n",
       "    </tr>\n",
       "    <tr>\n",
       "      <th>3</th>\n",
       "      <td>Apologies for the poorly worded question title...</td>\n",
       "      <td></td>\n",
       "      <td>1) You should always use `__filename` and not ...</td>\n",
       "      <td>1) This:\\n\\n```\\nmodule Foo\\n  def filename\\n ...</td>\n",
       "      <td>chatgpt_4</td>\n",
       "      <td>2</td>\n",
       "      <td>0.080261</td>\n",
       "      <td>2.097656</td>\n",
       "      <td>0.514648</td>\n",
       "      <td>2.507812</td>\n",
       "    </tr>\n",
       "    <tr>\n",
       "      <th>4</th>\n",
       "      <td>Is there a word like facadal or facadeous? The...</td>\n",
       "      <td></td>\n",
       "      <td>1. **superficial**   \\n\\n*used to describe the...</td>\n",
       "      <td>1. *facadal (adj) = *facadious (adj): \"like th...</td>\n",
       "      <td>gpt4_2</td>\n",
       "      <td>1</td>\n",
       "      <td>0.730469</td>\n",
       "      <td>0.618164</td>\n",
       "      <td>2.015625</td>\n",
       "      <td>1.946289</td>\n",
       "    </tr>\n",
       "    <tr>\n",
       "      <th>...</th>\n",
       "      <td>...</td>\n",
       "      <td>...</td>\n",
       "      <td>...</td>\n",
       "      <td>...</td>\n",
       "      <td>...</td>\n",
       "      <td>...</td>\n",
       "      <td>...</td>\n",
       "      <td>...</td>\n",
       "      <td>...</td>\n",
       "      <td>...</td>\n",
       "    </tr>\n",
       "    <tr>\n",
       "      <th>95</th>\n",
       "      <td>Has anyone found any documentation or research...</td>\n",
       "      <td></td>\n",
       "      <td>1) &lt;http://www.google.com/support/webmasters/b...</td>\n",
       "      <td>1) This page should answer your question: &lt;htt...</td>\n",
       "      <td>gpt4_3</td>\n",
       "      <td>1</td>\n",
       "      <td>1.785156</td>\n",
       "      <td>0.653809</td>\n",
       "      <td>2.849609</td>\n",
       "      <td>1.554688</td>\n",
       "    </tr>\n",
       "    <tr>\n",
       "      <th>96</th>\n",
       "      <td>I could not understand the phrase *provision o...</td>\n",
       "      <td></td>\n",
       "      <td>1. It's providing something for someone to use...</td>\n",
       "      <td>1. ***Provide*** can be used for both goods/se...</td>\n",
       "      <td>davinci003_4</td>\n",
       "      <td>1</td>\n",
       "      <td>0.474609</td>\n",
       "      <td>0.339111</td>\n",
       "      <td>1.516602</td>\n",
       "      <td>1.563477</td>\n",
       "    </tr>\n",
       "    <tr>\n",
       "      <th>97</th>\n",
       "      <td>When two programs are running at the same time...</td>\n",
       "      <td></td>\n",
       "      <td>1. If the pointer was pointing somewhere outsi...</td>\n",
       "      <td>1. If by \"print\" you mean `printf`, then yes;\\...</td>\n",
       "      <td>davinci003_2</td>\n",
       "      <td>1</td>\n",
       "      <td>0.606934</td>\n",
       "      <td>0.978027</td>\n",
       "      <td>1.020508</td>\n",
       "      <td>1.309570</td>\n",
       "    </tr>\n",
       "    <tr>\n",
       "      <th>98</th>\n",
       "      <td>I am using Directory.GetFiles to get files fro...</td>\n",
       "      <td></td>\n",
       "      <td>**You could use [System.IO](https://docs.micro...</td>\n",
       "      <td>\\nYou could do something like this :\\n\\n```\\nv...</td>\n",
       "      <td>gpt4_3</td>\n",
       "      <td>1</td>\n",
       "      <td>-0.108276</td>\n",
       "      <td>1.851562</td>\n",
       "      <td>0.276367</td>\n",
       "      <td>2.013672</td>\n",
       "    </tr>\n",
       "    <tr>\n",
       "      <th>99</th>\n",
       "      <td>How would I delete a directory in a .zip and a...</td>\n",
       "      <td></td>\n",
       "      <td>1 - Use `Directory` class [to list](http://msd...</td>\n",
       "      <td>1. You need to check that `e` isn't null - you...</td>\n",
       "      <td>gpt4_5</td>\n",
       "      <td>1</td>\n",
       "      <td>-0.193481</td>\n",
       "      <td>1.806641</td>\n",
       "      <td>0.273193</td>\n",
       "      <td>2.730469</td>\n",
       "    </tr>\n",
       "  </tbody>\n",
       "</table>\n",
       "<p>100 rows × 10 columns</p>\n",
       "</div>"
      ],
      "text/plain": [
       "                                          instruction input  \\\n",
       "0   I successfully highlight the section in a web ...         \n",
       "1   I have a json file\\n\\n```\\n{\"id\": 103, \"data\":...         \n",
       "2   I have Qt creator 4.6.0 and Microsoft Visual S...         \n",
       "3   Apologies for the poorly worded question title...         \n",
       "4   Is there a word like facadal or facadeous? The...         \n",
       "..                                                ...   ...   \n",
       "95  Has anyone found any documentation or research...         \n",
       "96  I could not understand the phrase *provision o...         \n",
       "97  When two programs are running at the same time...         \n",
       "98  I am using Directory.GetFiles to get files fro...         \n",
       "99  How would I delete a directory in a .zip and a...         \n",
       "\n",
       "                                             output_1  \\\n",
       "0   1) you must use `SendKeys.SEND_KEY` instead of...   \n",
       "1   1) Try `astype` - it will do the conversion yo...   \n",
       "2   1) Install Visual studio's Community Edition v...   \n",
       "3   1) You should always use `__filename` and not ...   \n",
       "4   1. **superficial**   \\n\\n*used to describe the...   \n",
       "..                                                ...   \n",
       "95  1) <http://www.google.com/support/webmasters/b...   \n",
       "96  1. It's providing something for someone to use...   \n",
       "97  1. If the pointer was pointing somewhere outsi...   \n",
       "98  **You could use [System.IO](https://docs.micro...   \n",
       "99  1 - Use `Directory` class [to list](http://msd...   \n",
       "\n",
       "                                             output_2     annotator  \\\n",
       "0   1) It will be much easier if you use `Actions`...     chatgpt_2   \n",
       "1   1. To use `list()` you need an iterable, like ...        gpt4_3   \n",
       "2   32 bit version of `VS2017` uses `VC++ redistri...  davinci003_1   \n",
       "3   1) This:\\n\\n```\\nmodule Foo\\n  def filename\\n ...     chatgpt_4   \n",
       "4   1. *facadal (adj) = *facadious (adj): \"like th...        gpt4_2   \n",
       "..                                                ...           ...   \n",
       "95  1) This page should answer your question: <htt...        gpt4_3   \n",
       "96  1. ***Provide*** can be used for both goods/se...  davinci003_4   \n",
       "97  1. If by \"print\" you mean `printf`, then yes;\\...  davinci003_2   \n",
       "98  \\nYou could do something like this :\\n\\n```\\nv...        gpt4_3   \n",
       "99  1. You need to check that `e` isn't null - you...        gpt4_5   \n",
       "\n",
       "    preference     orig1     orig2       da1       da2  \n",
       "0            1  1.286133  2.458984  1.633789  2.083984  \n",
       "1            2  0.039886 -0.315430  0.018478  0.971191  \n",
       "2            1  0.924805  1.333984  1.755859  2.099609  \n",
       "3            2  0.080261  2.097656  0.514648  2.507812  \n",
       "4            1  0.730469  0.618164  2.015625  1.946289  \n",
       "..         ...       ...       ...       ...       ...  \n",
       "95           1  1.785156  0.653809  2.849609  1.554688  \n",
       "96           1  0.474609  0.339111  1.516602  1.563477  \n",
       "97           1  0.606934  0.978027  1.020508  1.309570  \n",
       "98           1 -0.108276  1.851562  0.276367  2.013672  \n",
       "99           1 -0.193481  1.806641  0.273193  2.730469  \n",
       "\n",
       "[100 rows x 10 columns]"
      ]
     },
     "execution_count": 32,
     "metadata": {},
     "output_type": "execute_result"
    }
   ],
   "source": [
    "tmptmp"
   ]
  },
  {
   "cell_type": "code",
   "execution_count": 5,
   "id": "e3ebf3d0-6a94-4e99-a679-b1a6230ac29a",
   "metadata": {},
   "outputs": [
    {
     "name": "stderr",
     "output_type": "stream",
     "text": [
      "/home/prasann/miniconda3/envs/rlenv/lib/python3.9/site-packages/transformers/pipelines/text_classification.py:104: UserWarning: `return_all_scores` is now deprecated,  if want a similar functionality use `top_k=None` instead of `return_all_scores=True` or `top_k=1` instead of `return_all_scores=False`.\n",
      "  warnings.warn(\n",
      "Asking to truncate to max_length but no maximum length is provided and the model has no predefined maximum length. Default to no truncation.\n",
      "/home/prasann/miniconda3/envs/rlenv/lib/python3.9/site-packages/transformers/pipelines/text_classification.py:104: UserWarning: `return_all_scores` is now deprecated,  if want a similar functionality use `top_k=None` instead of `return_all_scores=True` or `top_k=1` instead of `return_all_scores=False`.\n",
      "  warnings.warn(\n"
     ]
    }
   ],
   "source": [
    "tok, orm, kwargs = load_rm(\"../stack-llama/models/rewardsanity/\", 0)\n",
    "osco1s = orm([\"Question: \" + ex['instruction'] + \"\\n\\nAnswer: \" + ex['output_1'] for _, ex in tmp.iterrows()], **kwargs)\n",
    "tmp['orig1'] = [out[0]['score'] for out in osco1s]\n",
    "osco2s = orm([\"Question: \" + ex['instruction'] + \"\\n\\nAnswer: \" + ex['output_2'] for _, ex in tmp.iterrows()], **kwargs)\n",
    "tmp['orig2'] = [out[0]['score'] for out in osco2s]\n",
    "del orm\n",
    "tok, darm, kwargs = load_rm(\"../../tfr-decoding/trlx_train/trl-stack/models/rewardda/\", 0)\n",
    "dsco1s = darm([\"Question: \" + ex['instruction'] + \"\\n\\nAnswer: \" + ex['output_1'] for _, ex in tmp.iterrows()], **kwargs)\n",
    "tmp['da1'] = [out[0]['score'] for out in dsco1s]\n",
    "dsco2s = darm([\"Question: \" + ex['instruction'] + \"\\n\\nAnswer: \" + ex['output_2'] for _, ex in tmp.iterrows()], **kwargs)\n",
    "tmp['da2'] = [out[0]['score'] for out in dsco2s]\n",
    "#send the new stuff back\n",
    "tmp.to_json(outdir+\"apfarmeval/da125.jsonl\", lines=True, orient='records')"
   ]
  },
  {
   "cell_type": "code",
   "execution_count": 33,
   "id": "c783a980-32b0-4ad6-a29f-689e280de731",
   "metadata": {},
   "outputs": [],
   "source": [
    "# Function to filter dataframe and collect human labels\n",
    "def collect_human_labels(df, substring):\n",
    "    filtered_df = df[df['annotator'].str.contains(substring)]\n",
    "    filtered_df = filtered_df.iloc[:25]\n",
    "    print(filtered_df.preference.mean())\n",
    "    human_labels = []\n",
    "    print(list(filtered_df.preference))\n",
    "    for idx, row in filtered_df.iterrows():\n",
    "        print(\"_\"*100)\n",
    "        print(f\"Question: {row['instruction']}\")\n",
    "        print(\"*\"*50)\n",
    "        print(f\"Answer 1: {row['output_1']}\")\n",
    "        print(\"*\"*50)\n",
    "        print(f\"Answer 2: {row['output_2']}\")\n",
    "        \n",
    "        label = None\n",
    "        #while label not in ['1', '2', '3', '4']:\n",
    "        #    label = input(\"Which answer is better? Type '1' for Answer 1, '2' for Answer 2. 3 if equal/bad, 4 if equal/good: \").upper()\n",
    "        \n",
    "        human_labels.append(label)\n",
    "        #clear_output(wait=True)\n",
    "    \n",
    "    filtered_df['human_label'] = human_labels\n",
    "    \n",
    "    return filtered_df"
   ]
  },
  {
   "cell_type": "code",
   "execution_count": null,
   "id": "08663cf8-6a37-43bd-a0b4-1bdf6465fbe6",
   "metadata": {},
   "outputs": [],
   "source": [
    "humlab = collect_human_labels(tmptmp, \"gpt4\")"
   ]
  },
  {
   "cell_type": "code",
   "execution_count": 40,
   "id": "4552ceca-866e-4cb7-bc40-e948d782be54",
   "metadata": {},
   "outputs": [
    {
     "name": "stdout",
     "output_type": "stream",
     "text": [
      "[0.3553161621, 0.1123046875, -0.4622192383, -0.9819335938, -0.6071777343, -0.3910217286, -0.4443359375, -0.3525390625, -0.8046875, 0.2104492187, 0.4609375, -1.9401245117, 0.18115234380000012, -1.3081054687, 0.7373046875, -0.003417968699999996, -1.4143066406, -0.0078125, 0.009765625, 0.5634765625, -0.0849609375, -1.1979980469, -0.6779785157, -0.798828125, -0.3479003906]\n"
     ]
    }
   ],
   "source": [
    "print(list(humlab['orig1'] - humlab['orig2']))"
   ]
  },
  {
   "cell_type": "code",
   "execution_count": 39,
   "id": "dde176b0-fc45-48a2-a16e-ea6922cf2f0b",
   "metadata": {},
   "outputs": [
    {
     "name": "stdout",
     "output_type": "stream",
     "text": [
      "[-0.9527130126, 0.0693359375, -2.4506835938, -0.349609375, -0.2255859375, -0.7587890625, -0.111328125, 0.9399414062, -1.4858398437, -0.751953125, 0.64453125, -0.6557617188, 0.658203125, -1.7346191406, 0.078125, -0.5808105469, -1.88671875, -0.0166015625, -0.5732421875, -0.359375, -0.5390625, -2.1049804688, -1.4679565430000001, -1.4189453125, -0.2524414063]\n"
     ]
    }
   ],
   "source": [
    "print(list(humlab['da1'] - humlab['da2']))"
   ]
  },
  {
   "cell_type": "code",
   "execution_count": 12,
   "id": "b45409e0-082b-4c80-a5e0-11a136faacec",
   "metadata": {},
   "outputs": [],
   "source": [
    "oprefs = [1 if e.orig1>e.orig2 else 2 for _, e in humlab.iterrows()]\n",
    "daprefs = [1 if e.da1>e.da2 else 2 for _, e in humlab.iterrows()]"
   ]
  },
  {
   "cell_type": "code",
   "execution_count": 13,
   "id": "41e3f07d-0174-41a8-b171-8fa05c08920a",
   "metadata": {},
   "outputs": [
    {
     "data": {
      "text/plain": [
       "[1, 1, 2, 2, 2, 2, 2, 2, 2, 1, 1, 2, 1, 2, 1, 2, 2, 2, 1, 1, 2, 2, 2, 2, 2]"
      ]
     },
     "execution_count": 13,
     "metadata": {},
     "output_type": "execute_result"
    }
   ],
   "source": [
    "oprefs"
   ]
  },
  {
   "cell_type": "code",
   "execution_count": 14,
   "id": "0ac201f8-2946-42de-9b9e-95fcaafa34eb",
   "metadata": {},
   "outputs": [
    {
     "data": {
      "text/plain": [
       "[2, 1, 2, 2, 2, 2, 2, 1, 2, 2, 1, 2, 1, 2, 1, 2, 2, 2, 2, 2, 2, 2, 2, 2, 2]"
      ]
     },
     "execution_count": 14,
     "metadata": {},
     "output_type": "execute_result"
    }
   ],
   "source": [
    "daprefs"
   ]
  },
  {
   "cell_type": "code",
   "execution_count": 17,
   "id": "535e1174-8a44-407d-a1e6-843208b91fb1",
   "metadata": {},
   "outputs": [],
   "source": [
    "gpts = list(humlab.preference)"
   ]
  },
  {
   "cell_type": "code",
   "execution_count": 28,
   "id": "17254fc0-e0b1-4ce4-8ddc-2bbdd9282495",
   "metadata": {},
   "outputs": [
    {
     "data": {
      "text/plain": [
       "1.68"
      ]
     },
     "execution_count": 28,
     "metadata": {},
     "output_type": "execute_result"
    }
   ],
   "source": [
    "mean(oprefs)"
   ]
  },
  {
   "cell_type": "code",
   "execution_count": 29,
   "id": "f1f12ade-d9e8-44cc-aeae-331ee8eef26e",
   "metadata": {},
   "outputs": [
    {
     "data": {
      "text/plain": [
       "0.6"
      ]
     },
     "execution_count": 29,
     "metadata": {},
     "output_type": "execute_result"
    }
   ],
   "source": [
    "sum([gpts[i]==oprefs[i] for i in range(len(gpts))])/len(humlab)"
   ]
  },
  {
   "cell_type": "code",
   "execution_count": null,
   "id": "be82327b-01c1-48e8-9df2-147ea30cc7d6",
   "metadata": {},
   "outputs": [],
   "source": [
    "# Filter and collect labels\n",
    "substring = input(\"Enter the substring to filter annotators: \")\n",
    "new_df = collect_human_labels(df, substring)"
   ]
  }
 ],
 "metadata": {
  "kernelspec": {
   "display_name": "Python 3 (ipykernel)",
   "language": "python",
   "name": "python3"
  },
  "language_info": {
   "codemirror_mode": {
    "name": "ipython",
    "version": 3
   },
   "file_extension": ".py",
   "mimetype": "text/x-python",
   "name": "python",
   "nbconvert_exporter": "python",
   "pygments_lexer": "ipython3",
   "version": "3.9.0"
  }
 },
 "nbformat": 4,
 "nbformat_minor": 5
}
