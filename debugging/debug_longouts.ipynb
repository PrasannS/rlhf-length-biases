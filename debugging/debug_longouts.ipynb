{
 "cells": [
  {
   "cell_type": "code",
   "execution_count": 14,
   "id": "abc075ab-125e-4fa5-9dab-b881aff80742",
   "metadata": {
    "scrolled": true
   },
   "outputs": [],
   "source": [
    "from transformers import AutoModelForCausalLM, AutoTokenizer\n",
    "from debug_utils import get_omodel, get_peft_ckpt, generate_outputs, adjust_input_apf\n",
    "from datasets import load_dataset"
   ]
  },
  {
   "cell_type": "code",
   "execution_count": 2,
   "id": "8f5c6f3c-659a-4533-b20c-233183229cb0",
   "metadata": {},
   "outputs": [],
   "source": [
    "%load_ext autoreload\n",
    "%autoreload 2"
   ]
  },
  {
   "cell_type": "code",
   "execution_count": 3,
   "id": "75ba74b8-c56c-414f-ac34-c9355dcffff5",
   "metadata": {},
   "outputs": [],
   "source": [
    "# Start by checking stuff out for the webgpt model"
   ]
  },
  {
   "cell_type": "code",
   "execution_count": 59,
   "id": "f51f6b89-938f-4d0c-aa04-c06484fcc2c9",
   "metadata": {},
   "outputs": [
    {
     "name": "stderr",
     "output_type": "stream",
     "text": [
      "Loading checkpoint shards:   0%|                                                                                                                                         | 0/3 [00:02<?, ?it/s]\n",
      "\n",
      "KeyboardInterrupt\n",
      "\n"
     ]
    }
   ],
   "source": [
    "with open('../basepath.txt', 'r') as file:\n",
    "    bpath = file.read().strip()\n",
    "\n",
    "with open('../apfpath.txt', 'r') as file:\n",
    "    apfpath = file.read().strip()\n",
    "    \n",
    "basename = apfpath+\"apfarm_models/sft10k/\"\n",
    "origmodel, toker = get_omodel(basename)"
   ]
  },
  {
   "cell_type": "code",
   "execution_count": 40,
   "id": "567ad5ec-aa63-4fdd-9147-092bc4c780ae",
   "metadata": {},
   "outputs": [],
   "source": [
    "generation_kwargs = {\n",
    "    \"min_new_tokens\": -1,\n",
    "    \"max_new_tokens\":512,\n",
    "    #\"top_k\": 0.0,\n",
    "    \"top_p\": 1,\n",
    "    #\"temperature\": 0.9,\n",
    "    \"do_sample\": True,\n",
    "    #\"repetition_penalty\": 1.2,\n",
    "    #\"pad_token_id\": tokenizer.pad_token_id,\n",
    "    #\"eos_token_id\": tokenizer.eos_token_id,\n",
    "}"
   ]
  },
  {
   "cell_type": "code",
   "execution_count": 10,
   "id": "6654de72-245b-4efd-a552-8abc5be8a366",
   "metadata": {},
   "outputs": [
    {
     "name": "stderr",
     "output_type": "stream",
     "text": [
      "Found cached dataset webgpt_comparisons (/home/prasann/.cache/huggingface/datasets/openai___webgpt_comparisons/default/0.0.0/8b5d5879cdc98c4c0099af6053dffe8d504588d43d3b11f1b1ec223ab1e8db0a)\n"
     ]
    }
   ],
   "source": [
    "inps = load_dataset(\"openai/webgpt_comparisons\", split=\"train\")"
   ]
  },
  {
   "cell_type": "code",
   "execution_count": 53,
   "id": "60aa7077-b667-4a35-bd55-9f86c0a37ce9",
   "metadata": {},
   "outputs": [
    {
     "name": "stdout",
     "output_type": "stream",
     "text": [
      "<s> Below is an instruction that describes a task. Write a response that appropriately completes the request.\n",
      "\n",
      "### Instruction:\n",
      "How many volunteer hours were estimated to have supported the 2012 Summer Olympics?\n",
      "\n",
      "### Response:Approximately 70,000 volunteer hours are estimated to have been needed to support the 2012 Summer Olympics. This is equivalent to about 280 volunteers working full-time for one year. 70,000 volunteers were recruited for the Games, and they were divided into four categories: Gamesmaker, Venue Volunteer, Event Volunteer and Media Volunteer. The Gamesmakers, Venue Volunteers, and Event Volunteers were responsible for helping with various activities during the Games such as providing information to spectators, controlling access to venues, and manning various events. Media Volunteers were responsible for assisting with broadcasting, media operations, and photography. Volunteers were required to attend training sessions and adhere to a code of conduct, and they were given t-shirts, badges and other necessities. The estimated number of volunteer hours needed to support the 2012 Summer Olympics was massive and required the dedication of a vast number of volunteers.</s>\n"
     ]
    }
   ],
   "source": [
    "ind = 20\n",
    "qtemp = adjust_input_apf(inps[ind]['question']['full_text'])\n",
    "toks, outs = generate_outputs([qtemp], toker, origmodel, generation_kwargs)\n",
    "print(len(toks[0]))\n",
    "print(outs[0])"
   ]
  },
  {
   "cell_type": "code",
   "execution_count": null,
   "id": "f8a56524-c8eb-495d-b710-88cd31976eed",
   "metadata": {},
   "outputs": [],
   "source": [
    "#SFT Starts out reasonably short"
   ]
  },
  {
   "cell_type": "code",
   "execution_count": 60,
   "id": "8a7ec7f6-6b43-4b9c-9772-d40eb442cf0a",
   "metadata": {},
   "outputs": [],
   "source": [
    "adaptpath = bpath+\"/webgpt-llama/checkpoints/wgptapsft/step_125\"\n",
    "amod = get_peft_ckpt(origmodel, adaptpath)"
   ]
  },
  {
   "cell_type": "code",
   "execution_count": 62,
   "id": "1bf819d6-12c0-455b-bd9e-0132542db57c",
   "metadata": {},
   "outputs": [
    {
     "name": "stdout",
     "output_type": "stream",
     "text": [
      "330\n",
      "<s> Below is an instruction that describes a task. Write a response that appropriately completes the request.\n",
      "\n",
      "### Instruction:\n",
      "Name the 1980's hit sung by Tina Turner and Rod Stewart?\n",
      "\n",
      "### Response:The 1980's hit sung by Tina Turner and Rod Stewart is \"Simply the Best\". It was written and composed by Mike Chapman and Holly Knight, and released as a single from Tina Turner's 1984 album, Break Every Rule. The song was also included as a track on Rod Stewart's album Outshined in the same year. The single reached number one on the US Billboard Hot 100 chart and on the UK Singles Chart, respectively, becoming one of Turner's signature songs. It was also nominated for the Grammy Award for Best Female Rock Vocal Performance in 1985. The song is considered to be one of the greatest songs of the 80's and is often seen as Turner's signature song. Turner also performs the song at her concerts, and it is one of the songs Stewart most frequently performs in his shows. Despite its success, the song was initially not a success for Turner, with Turner and Stewart performing the song live instead of releasing it as a single in the United States. But soon after, the single took off in the US. The song has been featured in countless movies, TV shows, and commercials, becoming an iconic and classic song of the decade.</s>\n"
     ]
    }
   ],
   "source": [
    "ind = 40\n",
    "qtemp = adjust_input_apf(inps[ind]['question']['full_text'])\n",
    "toks, outs = generate_outputs([qtemp], toker, amod, generation_kwargs)\n",
    "print(len(toks[0]))\n",
    "print(outs[0])"
   ]
  },
  {
   "cell_type": "code",
   "execution_count": null,
   "id": "01db2330-6318-43b0-a587-4449e476a45e",
   "metadata": {},
   "outputs": [],
   "source": []
  }
 ],
 "metadata": {
  "kernelspec": {
   "display_name": "Python 3 (ipykernel)",
   "language": "python",
   "name": "python3"
  },
  "language_info": {
   "codemirror_mode": {
    "name": "ipython",
    "version": 3
   },
   "file_extension": ".py",
   "mimetype": "text/x-python",
   "name": "python",
   "nbconvert_exporter": "python",
   "pygments_lexer": "ipython3",
   "version": "3.9.0"
  }
 },
 "nbformat": 4,
 "nbformat_minor": 5
}
