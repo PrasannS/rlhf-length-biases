{
 "cells": [
  {
   "cell_type": "code",
   "execution_count": 1,
   "id": "abc075ab-125e-4fa5-9dab-b881aff80742",
   "metadata": {
    "scrolled": true
   },
   "outputs": [
    {
     "name": "stderr",
     "output_type": "stream",
     "text": [
      "/home/prasann/miniconda3/envs/rlenv/lib/python3.9/site-packages/tqdm/auto.py:21: TqdmWarning: IProgress not found. Please update jupyter and ipywidgets. See https://ipywidgets.readthedocs.io/en/stable/user_install.html\n",
      "  from .autonotebook import tqdm as notebook_tqdm\n"
     ]
    },
    {
     "name": "stdout",
     "output_type": "stream",
     "text": [
      "[2023-08-17 17:51:20,477] [INFO] [real_accelerator.py:110:get_accelerator] Setting ds_accelerator to cuda (auto detect)\n"
     ]
    }
   ],
   "source": [
    "from transformers import AutoModelForCausalLM, AutoTokenizer\n",
    "from debug_utils import get_omodel, get_peft_ckpt, generate_outputs, adjust_input_apf, adjust_input_stack\n",
    "from datasets import load_dataset"
   ]
  },
  {
   "cell_type": "code",
   "execution_count": 2,
   "id": "8f5c6f3c-659a-4533-b20c-233183229cb0",
   "metadata": {},
   "outputs": [],
   "source": [
    "%load_ext autoreload\n",
    "%autoreload 2"
   ]
  },
  {
   "cell_type": "code",
   "execution_count": 3,
   "id": "75ba74b8-c56c-414f-ac34-c9355dcffff5",
   "metadata": {},
   "outputs": [],
   "source": [
    "# Start by checking stuff out for the webgpt model"
   ]
  },
  {
   "cell_type": "code",
   "execution_count": 4,
   "id": "d5bc4b04-22dd-4fbe-b2d1-356d009ba89b",
   "metadata": {},
   "outputs": [],
   "source": [
    "with open('../basepath.txt', 'r') as file:\n",
    "    bpath = file.read().strip()\n",
    "\n",
    "with open('../apfpath.txt', 'r') as file:\n",
    "    apfpath = file.read().strip()"
   ]
  },
  {
   "cell_type": "code",
   "execution_count": null,
   "id": "e2dc443b-0d20-453c-9db2-e3f4551344b6",
   "metadata": {},
   "outputs": [],
   "source": [
    "# for webgpt \n",
    "basename = apfpath+\"apfarm_models/sft10k/\"\n",
    "origmodel, toker = get_omodel(basename)"
   ]
  },
  {
   "cell_type": "code",
   "execution_count": 5,
   "id": "e7db6dbb-fb8e-4d6e-a9ad-e9770ae3b6ec",
   "metadata": {},
   "outputs": [
    {
     "name": "stderr",
     "output_type": "stream",
     "text": [
      "Loading checkpoint shards: 100%|███████████████████████████████████████████████████████████████████████████████████████████████| 2/2 [00:10<00:00,  5.05s/it]\n"
     ]
    }
   ],
   "source": [
    "# for stack stuff\n",
    "basename = bpath+\"stack-llama/models/sft/\"\n",
    "origmodel, toker = get_omodel(basename)"
   ]
  },
  {
   "cell_type": "code",
   "execution_count": 6,
   "id": "567ad5ec-aa63-4fdd-9147-092bc4c780ae",
   "metadata": {},
   "outputs": [],
   "source": [
    "generation_kwargs = {\n",
    "    \"min_new_tokens\": -1,\n",
    "    \"max_new_tokens\":512,\n",
    "    #\"top_k\": 0.0,\n",
    "    \"top_p\": 1,\n",
    "    #\"temperature\": 0.9,\n",
    "    \"do_sample\": True,\n",
    "    #\"repetition_penalty\": 1.2,\n",
    "    #\"pad_token_id\": tokenizer.pad_token_id,\n",
    "    #\"eos_token_id\": tokenizer.eos_token_id,\n",
    "}"
   ]
  },
  {
   "cell_type": "code",
   "execution_count": null,
   "id": "fbd2a067-f7e2-4375-9282-a0ef715e627b",
   "metadata": {},
   "outputs": [],
   "source": [
    "# for webgpt\n",
    "inps = load_dataset(\"openai/webgpt_comparisons\", split=\"test\")"
   ]
  },
  {
   "cell_type": "code",
   "execution_count": 7,
   "id": "912555e4-8280-4081-b55a-4a914efb3063",
   "metadata": {},
   "outputs": [],
   "source": [
    "inps = load_dataset(\"lvwerra/stack-exchange-paired\", data_dir=\"data/evaluation\", split=\"train\")"
   ]
  },
  {
   "cell_type": "code",
   "execution_count": 53,
   "id": "60aa7077-b667-4a35-bd55-9f86c0a37ce9",
   "metadata": {},
   "outputs": [
    {
     "name": "stdout",
     "output_type": "stream",
     "text": [
      "<s> Below is an instruction that describes a task. Write a response that appropriately completes the request.\n",
      "\n",
      "### Instruction:\n",
      "How many volunteer hours were estimated to have supported the 2012 Summer Olympics?\n",
      "\n",
      "### Response:Approximately 70,000 volunteer hours are estimated to have been needed to support the 2012 Summer Olympics. This is equivalent to about 280 volunteers working full-time for one year. 70,000 volunteers were recruited for the Games, and they were divided into four categories: Gamesmaker, Venue Volunteer, Event Volunteer and Media Volunteer. The Gamesmakers, Venue Volunteers, and Event Volunteers were responsible for helping with various activities during the Games such as providing information to spectators, controlling access to venues, and manning various events. Media Volunteers were responsible for assisting with broadcasting, media operations, and photography. Volunteers were required to attend training sessions and adhere to a code of conduct, and they were given t-shirts, badges and other necessities. The estimated number of volunteer hours needed to support the 2012 Summer Olympics was massive and required the dedication of a vast number of volunteers.</s>\n"
     ]
    }
   ],
   "source": [
    "ind = 20\n",
    "qtemp = adjust_input_apf(inps[ind]['question']['full_text'])\n",
    "toks, outs = generate_outputs([qtemp], toker, origmodel, generation_kwargs)\n",
    "print(len(toks[0]))\n",
    "print(outs[0])"
   ]
  },
  {
   "cell_type": "code",
   "execution_count": null,
   "id": "f8a56524-c8eb-495d-b710-88cd31976eed",
   "metadata": {},
   "outputs": [],
   "source": [
    "#SFT Starts out reasonably short"
   ]
  },
  {
   "cell_type": "code",
   "execution_count": 60,
   "id": "8a7ec7f6-6b43-4b9c-9772-d40eb442cf0a",
   "metadata": {},
   "outputs": [],
   "source": [
    "adaptpath = bpath+\"/webgpt-llama/checkpoints/wgptapsft/step_125\"\n",
    "amod = get_peft_ckpt(origmodel, adaptpath)"
   ]
  },
  {
   "cell_type": "code",
   "execution_count": 62,
   "id": "1bf819d6-12c0-455b-bd9e-0132542db57c",
   "metadata": {},
   "outputs": [
    {
     "name": "stdout",
     "output_type": "stream",
     "text": [
      "330\n",
      "<s> Below is an instruction that describes a task. Write a response that appropriately completes the request.\n",
      "\n",
      "### Instruction:\n",
      "Name the 1980's hit sung by Tina Turner and Rod Stewart?\n",
      "\n",
      "### Response:The 1980's hit sung by Tina Turner and Rod Stewart is \"Simply the Best\". It was written and composed by Mike Chapman and Holly Knight, and released as a single from Tina Turner's 1984 album, Break Every Rule. The song was also included as a track on Rod Stewart's album Outshined in the same year. The single reached number one on the US Billboard Hot 100 chart and on the UK Singles Chart, respectively, becoming one of Turner's signature songs. It was also nominated for the Grammy Award for Best Female Rock Vocal Performance in 1985. The song is considered to be one of the greatest songs of the 80's and is often seen as Turner's signature song. Turner also performs the song at her concerts, and it is one of the songs Stewart most frequently performs in his shows. Despite its success, the song was initially not a success for Turner, with Turner and Stewart performing the song live instead of releasing it as a single in the United States. But soon after, the single took off in the US. The song has been featured in countless movies, TV shows, and commercials, becoming an iconic and classic song of the decade.</s>\n"
     ]
    }
   ],
   "source": [
    "ind = 40\n",
    "qtemp = adjust_input_apf(inps[ind]['question']['full_text'])\n",
    "toks, outs = generate_outputs([qtemp], toker, amod, generation_kwargs)\n",
    "print(len(toks[0]))\n",
    "print(outs[0])"
   ]
  },
  {
   "cell_type": "code",
   "execution_count": 8,
   "id": "01db2330-6318-43b0-a587-4449e476a45e",
   "metadata": {},
   "outputs": [],
   "source": [
    "# Testing stuff for Stack Model (OOF the KL was too high to be a reproduction...)"
   ]
  },
  {
   "cell_type": "code",
   "execution_count": 15,
   "id": "108641fe-c3a5-4f0d-8dd3-57b0bf81969a",
   "metadata": {
    "scrolled": true
   },
   "outputs": [
    {
     "name": "stdout",
     "output_type": "stream",
     "text": [
      "511\n",
      "<s> Question: I have to go into a table to retrieve a parameter, then go back into the same table to retrieve data based on the parameter.\n",
      "\n",
      "```\n",
      "<cfquery name = \"selnm\" datasource = \"Moxart\">\n",
      " select SelName from AuxXref \n",
      " where Fieldname = <cfqueryparam value = \"#orig#\">\n",
      "</cfquery>\n",
      "\n",
      "<cfset selname = selnm.SelName>\n",
      "\n",
      "<cfquery name = \"fld\" datasource = \"Moxart\">\n",
      "select Fieldname, DBname from AuxXref \n",
      "where SelName = <cfqueryparam value = \"#selname#\">\n",
      "</cfquery>\n",
      "\n",
      "```\n",
      "\n",
      "Can this be done in a single query?\n",
      "\n",
      "Answer: 1. <cfloop> and <cfif/> conditional looping\n",
      "2. [Conditional Aggregate](https://help.sap.com/saphelp_bw405web/helpdata/en/2/fa/d7fbf99e39e49c59fc73558aa3bcc9/content.htm?frameset=/en/2/fa/d7fbf99e39e49c59fc73558aa3bcc9/frameset.htm&current_toc=/en/2/fa/d7fbf99e39e49c59fc73558aa3bcc9/toc.htm&bookmark=toc1.htm)\n",
      "3. [User-defined functions](https://help.sap.com/saphelp_bw405web/helpdata/en/3/2a/eba1d697085c5c0b2b1ae4b5bccdd4/content.htm?frameset=/en/3/2a/eba1d697085c5c0b2b1ae4b5bccdd4/frameset.htm&current_toc=/en/3/2a/eba1d697085c5c0b2b1ae4b5bccdd4/toc.htm&bookmark=toc2.htm)</s>\n",
      "169\n",
      "<s> Question: **Rules**\n",
      "\n",
      "1. Place some pentominoes into an 8 x 8 grid. They do not touch each other. They can touch only diagonally (with corner).\n",
      "2. Pentominoes cannot repeat in the grid. Rotations and reflections of a pentomino are considered the same shape.\n",
      "3. Grid is 8 x 8.\n",
      "\n",
      "Answer: 25 pieces and no repeating shapes (21 unique shapes and 4 rotations):\n",
      "\n",
      "2\n",
      "2\n",
      "-\n",
      "4\n",
      "4\n",
      "\n",
      "4\n",
      "6\n",
      "2\n",
      "8\n",
      "4\n",
      "4\n",
      "6\n",
      "6\n",
      "\n",
      "6\n",
      "4\n",
      "-\n",
      "4\n",
      "6\n",
      "4\n",
      "8\n",
      "2\n",
      "8\n",
      "4\n",
      "4\n",
      "6\n",
      "2\n",
      "8\n",
      "4\n",
      "4</s>\n",
      "208\n",
      "<s> Question: **Rules**\n",
      "\n",
      "1. Place some pentominoes into an 8 x 8 grid. They do not touch each other. They can touch only diagonally (with corner).\n",
      "2. Pentominoes cannot repeat in the grid. Rotations and reflections of a pentomino are considered the same shape.\n",
      "3. Grid is 8 x 8.\n",
      "\n",
      "Answer: 1. The *only* pentominoes with all possible locations are the squares and triangles.\n",
      "\n",
      "2. The *only* location for square is in line of 4 (horizontal or vertical). The others are impossible (in line of 4 - 3x2).\n",
      "\n",
      "3. The only combinations are squares \n",
      "square\n",
      "square\n",
      "square\n",
      "square\n",
      "square\n",
      "\n",
      "4. Square to other squares,\n",
      "s to other s,\n",
      "r to other r,\n",
      "p to other p,\n",
      "l to other l,\n",
      "c to other c.</s>\n",
      "628\n",
      "<s> Question: I'm looking for changing the **TextView** Sizes automatically. And I found the solution as well. Here is the official [Doc](https://developer.android.com/preview/features/autosizing-textview.html) for Auto sizing textviews. But Still I'm not able to resolve it. When i paste autoSizeTextType its showing error in xml file.\n",
      "\n",
      "Here is the my xml code and gradle code snippets\n",
      "\n",
      "myactivity.xml\n",
      "\n",
      "```\n",
      "<?xml version=\"1.0\" encoding=\"utf-8\"?>\n",
      "<LinearLayout xmlns:android=\"http://schemas.android.com/apk/res/android\"\n",
      "    xmlns:app=\"http://schemas.android.com/apk/res-auto\"\n",
      "    xmlns:tools=\"http://schemas.android.com/tools\"\n",
      "    android:layout_width=\"match_parent\"\n",
      "    android:layout_height=\"match_parent\"\n",
      "    android:background=\"@color/white\"\n",
      "    android:orientation=\"vertical\">\n",
      "\n",
      "<include layout=\"@layout/toolbar\" />\n",
      "\n",
      "<TextView\n",
      "    android:layout_width=\"wrap_content\"\n",
      "    android:layout_height=\"wrap_content\"\n",
      "    app:autoSizeTextType=\"uniform\"/>\n",
      "\n",
      "</LinearLayout>\n",
      "\n",
      "```\n",
      "\n",
      "Gradle snippet\n",
      "\n",
      "```\n",
      "dependencies {\n",
      "    compile fileTree(dir: 'libs', include: ['*.jar'])\n",
      "    androidTestCompile('com.android.support.test.espresso:espresso-core:2.2.2', {\n",
      "    exclude group: 'com.android.support', module: 'support-annotations'\n",
      "    })\n",
      "    compile 'com.android.support:support-v4:25.2.0'//Added support library\n",
      "    compile 'com.android.support:appcompat-v7:25.2.0'\n",
      "    compile 'com.android.support:design:25.2.0'\n",
      "    testCompile 'junit:junit:4.12'\n",
      "}\n",
      "\n",
      "```\n",
      "\n",
      "Answer: 1.Add your layout in an `Activity.xml`\n",
      "2.Add these attributes in your `Activity`\n",
      "\n",
      "```\n",
      "    android:elegantTextHeight=\"true\"\n",
      "    android:textAppearance=\"?attr/textAppearanceMedium\"\n",
      "    //add textView as a child element of LinearLayout\n",
      "    android:layout_width=\"match_parent\"\n",
      "    android:layout_height=\"wrap_content\"\n",
      "\n",
      "```\n",
      "\n",
      "3.Add this in your android manifest file\n",
      "\n",
      "```\n",
      "        <activity android:name=\".ActivityName\"\n",
      "             android:elegantTextHeight=\"true\" > <!--this is attribute for activity\n",
      "             android:textAppearance=\"?attr/textAppearanceMedium\"\n",
      "             </activity> -->`enter code here`\n",
      "\n",
      "```</s>\n",
      "510\n",
      "<s> Question: I'm looking for changing the **TextView** Sizes automatically. And I found the solution as well. Here is the official [Doc](https://developer.android.com/preview/features/autosizing-textview.html) for Auto sizing textviews. But Still I'm not able to resolve it. When i paste autoSizeTextType its showing error in xml file.\n",
      "\n",
      "Here is the my xml code and gradle code snippets\n",
      "\n",
      "myactivity.xml\n",
      "\n",
      "```\n",
      "<?xml version=\"1.0\" encoding=\"utf-8\"?>\n",
      "<LinearLayout xmlns:android=\"http://schemas.android.com/apk/res/android\"\n",
      "    xmlns:app=\"http://schemas.android.com/apk/res-auto\"\n",
      "    xmlns:tools=\"http://schemas.android.com/tools\"\n",
      "    android:layout_width=\"match_parent\"\n",
      "    android:layout_height=\"match_parent\"\n",
      "    android:background=\"@color/white\"\n",
      "    android:orientation=\"vertical\">\n",
      "\n",
      "<include layout=\"@layout/toolbar\" />\n",
      "\n",
      "<TextView\n",
      "    android:layout_width=\"wrap_content\"\n",
      "    android:layout_height=\"wrap_content\"\n",
      "    app:autoSizeTextType=\"uniform\"/>\n",
      "\n",
      "</LinearLayout>\n",
      "\n",
      "```\n",
      "\n",
      "Gradle snippet\n",
      "\n",
      "```\n",
      "dependencies {\n",
      "    compile fileTree(dir: 'libs', include: ['*.jar'])\n",
      "    androidTestCompile('com.android.support.test.espresso:espresso-core:2.2.2', {\n",
      "    exclude group: 'com.android.support', module: 'support-annotations'\n",
      "    })\n",
      "    compile 'com.android.support:support-v4:25.2.0'//Added support library\n",
      "    compile 'com.android.support:appcompat-v7:25.2.0'\n",
      "    compile 'com.android.support:design:25.2.0'\n",
      "    testCompile 'junit:junit:4.12'\n",
      "}\n",
      "\n",
      "```\n",
      "\n",
      "Answer: 1.You can't use \"tools:context\" in app theme\n",
      "2.You can use 120dpi for textsize.\n",
      "3.Use \"textSize\" and \"textColor\".\n",
      "4.Use \"textStyle\"</s>\n"
     ]
    },
    {
     "name": "stderr",
     "output_type": "stream",
     "text": [
      "\n",
      "KeyboardInterrupt\n",
      "\n"
     ]
    }
   ],
   "source": [
    "lens = []\n",
    "for ind in range(0, 20):\n",
    "    qtemp = adjust_input_stack(inps[ind]['question'])\n",
    "    toks, outs = generate_outputs([qtemp], toker, origmodel, generation_kwargs)\n",
    "    print(len(toks[0]))\n",
    "    print(outs[0])\n",
    "    lens.append(len(toker(outs[0].split(\"Answer:\")[1]).input_ids))"
   ]
  },
  {
   "cell_type": "code",
   "execution_count": 22,
   "id": "a42581d2-57f3-4978-9725-ee87a1f88f96",
   "metadata": {},
   "outputs": [],
   "source": [
    "adaptpath = bpath+\"/stack-llama/checkpoints/lenhacksanity/step_125\"\n",
    "amod = get_peft_ckpt(origmodel, adaptpath)"
   ]
  },
  {
   "cell_type": "code",
   "execution_count": null,
   "id": "bbfbf2e8-78a9-41e1-afb2-136dc922c8d7",
   "metadata": {
    "scrolled": true
   },
   "outputs": [],
   "source": [
    "lens = []\n",
    "for ind in range(0, 20):\n",
    "    qtemp = adjust_input_stack(inps[ind]['question'])\n",
    "    toks, outs = generate_outputs([qtemp], toker, origmodel, generation_kwargs)\n",
    "    print(len(toks[0]))\n",
    "    print(outs[0])\n",
    "    lens.append(len(toker(outs[0].split(\"Answer:\")[1]).input_ids))"
   ]
  },
  {
   "cell_type": "code",
   "execution_count": null,
   "id": "5e91f711-211c-4784-b94b-6e25e78a389d",
   "metadata": {},
   "outputs": [],
   "source": []
  }
 ],
 "metadata": {
  "kernelspec": {
   "display_name": "Python 3 (ipykernel)",
   "language": "python",
   "name": "python3"
  },
  "language_info": {
   "codemirror_mode": {
    "name": "ipython",
    "version": 3
   },
   "file_extension": ".py",
   "mimetype": "text/x-python",
   "name": "python",
   "nbconvert_exporter": "python",
   "pygments_lexer": "ipython3",
   "version": "3.8.0"
  }
 },
 "nbformat": 4,
 "nbformat_minor": 5
}
