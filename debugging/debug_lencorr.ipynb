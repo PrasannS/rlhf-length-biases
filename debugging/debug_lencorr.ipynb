{
 "cells": [
  {
   "cell_type": "code",
   "execution_count": 1,
   "id": "150d574a-9aa8-455b-891b-c46764e2305e",
   "metadata": {},
   "outputs": [],
   "source": [
    "# this notebook is for figuring out how strong the length correlations of the RMs\n",
    "# we're using are"
   ]
  },
  {
   "cell_type": "code",
   "execution_count": 1,
   "id": "145ff69c-f24a-42e9-8c38-77abfab70359",
   "metadata": {},
   "outputs": [],
   "source": [
    "%load_ext autoreload\n",
    "%autoreload 2"
   ]
  },
  {
   "cell_type": "code",
   "execution_count": 3,
   "id": "be76114f-a0c1-4a2c-a975-0ca76c76bfe4",
   "metadata": {},
   "outputs": [
    {
     "name": "stderr",
     "output_type": "stream",
     "text": [
      "/home/prasann/miniconda3/envs/rlenv/lib/python3.9/site-packages/tqdm/auto.py:21: TqdmWarning: IProgress not found. Please update jupyter and ipywidgets. See https://ipywidgets.readthedocs.io/en/stable/user_install.html\n",
      "  from .autonotebook import tqdm as notebook_tqdm\n"
     ]
    },
    {
     "name": "stdout",
     "output_type": "stream",
     "text": [
      "[2023-09-04 16:51:17,386] [INFO] [real_accelerator.py:110:get_accelerator] Setting ds_accelerator to cuda (auto detect)\n"
     ]
    }
   ],
   "source": [
    "from rlhfutils.debug_utils import load_all_dfs, load_rm, progress_rm"
   ]
  },
  {
   "cell_type": "code",
   "execution_count": 4,
   "id": "f381bf71-04ca-4fdd-be02-da639ef79911",
   "metadata": {},
   "outputs": [],
   "source": [
    "import matplotlib.pyplot as plt\n",
    "from scipy.stats import spearmanr, pearsonr\n",
    "import random\n",
    "import torch"
   ]
  },
  {
   "cell_type": "code",
   "execution_count": 5,
   "id": "6f4977c0-5da6-4afc-a4bf-d905d3f016a6",
   "metadata": {},
   "outputs": [],
   "source": [
    "adfs = load_all_dfs(\"../outputs/lsanity/\")"
   ]
  },
  {
   "cell_type": "code",
   "execution_count": 25,
   "id": "540efd6e-c24a-4e1a-94aa-79b22b4e335b",
   "metadata": {},
   "outputs": [
    {
     "name": "stderr",
     "output_type": "stream",
     "text": [
      "Loading checkpoint shards: 100%|███████████████████████████████████████████████████████████████████████████████████████████████████████████████████████████████████████| 2/2 [00:09<00:00,  4.76s/it]\n"
     ]
    }
   ],
   "source": [
    "mpaths = [\n",
    "    \"../stack-llama/models/rmodel/\",\n",
    "    \"/home/prasann/Projects/tfr-decoding/trlx_train/trl-stack/models/rewardda/\",\n",
    "    \"/home/prasann/Projects/tfr-decoding/trlx_train/trl-stack/models/rewardmixed/\",\n",
    "    \"/home/prasann/Projects/tfr-decoding/trlx_train/trl-stack/models/rewarddalen/\"\n",
    "]\n",
    "toker, rm, kwargs = load_rm(mpaths[3], 2)"
   ]
  },
  {
   "cell_type": "code",
   "execution_count": 7,
   "id": "d43b8ebc-a313-4730-8780-241160cf893a",
   "metadata": {},
   "outputs": [
    {
     "name": "stderr",
     "output_type": "stream",
     "text": [
      "Token indices sequence length is longer than the specified maximum sequence length for this model (2320 > 2048). Running this sequence through the model will result in indexing errors\n"
     ]
    }
   ],
   "source": [
    "respset = []\n",
    "lenset = []\n",
    "for a in adfs:\n",
    "    respset.extend(list(adfs[a]['response']))\n",
    "    lenset.extend([len(toker(ans).input_ids) for ans in adfs[a]['answer']])\n",
    "flim = 0\n",
    "responses = []\n",
    "lens = []\n",
    "origlens = []\n",
    "for i in range(len(respset)):\n",
    "    if lenset[i]>450:\n",
    "        trunclen = random.randint(0, 400)\n",
    "        responses.append(toker.decode(toker(respset[i]).input_ids[:-trunclen]))\n",
    "        lens.append(lenset[i] - trunclen)\n",
    "        origlens.append(lenset[i])"
   ]
  },
  {
   "cell_type": "code",
   "execution_count": 8,
   "id": "595f9c35-21f7-4079-97e7-8c818ceb3ac3",
   "metadata": {},
   "outputs": [],
   "source": [
    "randinds = random.sample(list(range(len(responses))), 64)\n",
    "lens = [lens[ind] for ind in randinds]\n",
    "responses = [responses[ind] for ind in randinds]"
   ]
  },
  {
   "cell_type": "code",
   "execution_count": 9,
   "id": "dd3948f2-442a-4b60-a581-bf2ad167dac7",
   "metadata": {
    "scrolled": true
   },
   "outputs": [
    {
     "data": {
      "text/plain": [
       "(array([ 3.,  5.,  6.,  3.,  5.,  9.,  5.,  5.,  9., 14.]),\n",
       " array([ 89. , 130.9, 172.8, 214.7, 256.6, 298.5, 340.4, 382.3, 424.2,\n",
       "        466.1, 508. ]),\n",
       " <BarContainer object of 10 artists>)"
      ]
     },
     "execution_count": 9,
     "metadata": {},
     "output_type": "execute_result"
    },
    {
     "data": {
      "image/png": "[encoded data removed]",
      "text/plain": [
       "<Figure size 640x480 with 1 Axes>"
      ]
     },
     "metadata": {},
     "output_type": "display_data"
    }
   ],
   "source": [
    "plt.hist(lens)"
   ]
  },
  {
   "cell_type": "code",
   "execution_count": 10,
   "id": "58667174-c187-42e6-bfa0-5212512d553b",
   "metadata": {},
   "outputs": [],
   "source": [
    "torch.cuda.empty_cache()"
   ]
  },
  {
   "cell_type": "code",
   "execution_count": 26,
   "id": "0bd0ebb0-037b-4c42-8c3a-5a6a1d3d5b98",
   "metadata": {},
   "outputs": [
    {
     "name": "stderr",
     "output_type": "stream",
     "text": [
      "  0%|                                                                                                                                                                          | 0/4 [00:00<?, ?it/s]Asking to truncate to max_length but no maximum length is provided and the model has no predefined maximum length. Default to no truncation.\n",
      "100%|██████████████████████████████████████████████████████████████████████████████████████████████████████████████████████████████████████████████████████████████████| 4/4 [01:28<00:00, 22.08s/it]\n"
     ]
    }
   ],
   "source": [
    "scos = progress_rm(responses, rm, kwargs)"
   ]
  },
  {
   "cell_type": "code",
   "execution_count": 22,
   "id": "c423cdb4-231e-43f0-80fe-5995f5a24da1",
   "metadata": {},
   "outputs": [],
   "source": [
    "scos = [s[0]['score'] for s in scos]"
   ]
  },
  {
   "cell_type": "code",
   "execution_count": 23,
   "id": "a0703043-807a-4035-8525-3c7d28966f65",
   "metadata": {},
   "outputs": [
    {
     "data": {
      "text/plain": [
       "<matplotlib.collections.PathCollection at 0x7f18ab6beeb0>"
      ]
     },
     "execution_count": 23,
     "metadata": {},
     "output_type": "execute_result"
    },
    {
     "data": {
      "image/png": "[encoded data removed]",
      "text/plain": [
       "<Figure size 640x480 with 1 Axes>"
      ]
     },
     "metadata": {},
     "output_type": "display_data"
    }
   ],
   "source": [
    "plt.scatter(lens, scos)"
   ]
  },
  {
   "cell_type": "code",
   "execution_count": 24,
   "id": "c1130385-9737-44d1-bf16-b6c4075042ff",
   "metadata": {},
   "outputs": [
    {
     "name": "stdout",
     "output_type": "stream",
     "text": [
      "SignificanceResult(statistic=-0.012913270500166784, pvalue=0.9193327423893256)\n",
      "PearsonRResult(statistic=-0.004704263036118053, pvalue=0.9705706757600637)\n"
     ]
    }
   ],
   "source": [
    "print(spearmanr(scos, lens))\n",
    "print(pearsonr(scos, lens))\n"
   ]
  },
  {
   "cell_type": "code",
   "execution_count": 6,
   "id": "490c48e4-49bd-4a01-a2db-9e659e1a8d6f",
   "metadata": {},
   "outputs": [],
   "source": [
    "# check apfarm issue in a bit of detail"
   ]
  },
  {
   "cell_type": "code",
   "execution_count": null,
   "id": "f18b3b65-0ec1-441b-abac-f53fa8200bf9",
   "metadata": {},
   "outputs": [],
   "source": []
  }
 ],
 "metadata": {
  "kernelspec": {
   "display_name": "Python 3 (ipykernel)",
   "language": "python",
   "name": "python3"
  },
  "language_info": {
   "codemirror_mode": {
    "name": "ipython",
    "version": 3
   },
   "file_extension": ".py",
   "mimetype": "text/x-python",
   "name": "python",
   "nbconvert_exporter": "python",
   "pygments_lexer": "ipython3",
   "version": "3.10.0"
  }
 },
 "nbformat": 4,
 "nbformat_minor": 5
}
