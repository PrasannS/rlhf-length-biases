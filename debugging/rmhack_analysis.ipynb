{
 "cells": [
  {
   "cell_type": "code",
   "execution_count": 1,
   "id": "9b28dcdf-974e-4dfb-96c0-8677ce0fc7ed",
   "metadata": {},
   "outputs": [],
   "source": [
    "# This notebook is dedicated to pinpointing what kinds of hacks are happening with different kinds of RMs"
   ]
  },
  {
   "cell_type": "code",
   "execution_count": 2,
   "id": "f5834ef6-cd47-49a1-8404-3231d93ce057",
   "metadata": {},
   "outputs": [],
   "source": [
    "%load_ext autoreload\n",
    "%autoreload 2"
   ]
  },
  {
   "cell_type": "code",
   "execution_count": 3,
   "id": "837ccba4-d8d2-472b-bab1-61e7fe7e6573",
   "metadata": {},
   "outputs": [
    {
     "name": "stderr",
     "output_type": "stream",
     "text": [
      "/home/prasann/miniconda3/envs/rlenv/lib/python3.9/site-packages/tqdm/auto.py:21: TqdmWarning: IProgress not found. Please update jupyter and ipywidgets. See https://ipywidgets.readthedocs.io/en/stable/user_install.html\n",
      "  from .autonotebook import tqdm as notebook_tqdm\n"
     ]
    },
    {
     "name": "stdout",
     "output_type": "stream",
     "text": [
      "[2023-08-23 14:21:39,656] [INFO] [real_accelerator.py:110:get_accelerator] Setting ds_accelerator to cuda (auto detect)\n"
     ]
    }
   ],
   "source": [
    "import pandas as pd\n",
    "from debug_utils import load_all_hackdfs, highlight_differences\n",
    "from statistics import mean, stdev\n",
    "import matplotlib.pyplot as plt"
   ]
  },
  {
   "cell_type": "code",
   "execution_count": 13,
   "id": "398fbd8c-cc77-4791-ab69-edd46e031fd6",
   "metadata": {},
   "outputs": [],
   "source": [
    "orig_hacks = load_all_hackdfs(\"../rm-attacks/attackouts/previous/\")\n",
    "adv_hacks = load_all_hackdfs(\"../rm-attacks/attackouts/reprodcheck/\")\n",
    "sanity = load_all_hackdfs(\"../rm-attacks/attackouts/\")"
   ]
  },
  {
   "cell_type": "code",
   "execution_count": 14,
   "id": "1ae94975-4efc-45aa-8283-5bca73477ec3",
   "metadata": {},
   "outputs": [],
   "source": [
    "def nohackrat(indf):\n",
    "    nohack = indf[indf['diff']<0.001]\n",
    "    return len(nohack)/len(indf)\n",
    "\n",
    "def hacksteps(indf):\n",
    "    hack = indf[indf['diff']>0.001]\n",
    "    steps = [len(l) for l in hack['bestseqs']]\n",
    "    return mean(steps)\n",
    "\n",
    "def hackmean(indf):\n",
    "    hack = indf[indf['diff']>0.001]\n",
    "    return hack['diff'].mean()\n",
    "\n",
    "def hackdf(indf):\n",
    "    return indf[indf['diff']>0.001].copy()\n",
    "\n",
    "def dmean(indf):\n",
    "    return indf['diff'].mean()"
   ]
  },
  {
   "cell_type": "code",
   "execution_count": 6,
   "id": "b8416633-99e0-4512-abd7-20fb82bab2c6",
   "metadata": {},
   "outputs": [
    {
     "name": "stdout",
     "output_type": "stream",
     "text": [
      "0.5\n",
      "0.4696969696969697\n",
      "0.45454545454545453\n"
     ]
    }
   ],
   "source": [
    "print(nohackrat(orig_hacks['da_sft']))\n",
    "print(nohackrat(orig_hacks['mix_sft']))\n",
    "print(nohackrat(sanity['sft_sft']))"
   ]
  },
  {
   "cell_type": "code",
   "execution_count": 7,
   "id": "66a26900-b8b0-40a0-8547-de73213f142b",
   "metadata": {},
   "outputs": [
    {
     "name": "stdout",
     "output_type": "stream",
     "text": [
      "1.7272727272727273\n",
      "1.7714285714285714\n",
      "1.8055555555555556\n"
     ]
    }
   ],
   "source": [
    "print(hacksteps(orig_hacks['da_sft']))\n",
    "print(hacksteps(orig_hacks['mix_sft']))\n",
    "print(hacksteps(sanity['sft_sft']))"
   ]
  },
  {
   "cell_type": "code",
   "execution_count": 39,
   "id": "d817d3c3-1136-49e9-bdd1-f3d6d38703df",
   "metadata": {},
   "outputs": [
    {
     "name": "stdout",
     "output_type": "stream",
     "text": [
      "0.09350585937424243\n",
      "0.13963745579848483\n",
      "0.0867896802530303\n"
     ]
    }
   ],
   "source": [
    "print(dmean(orig_hacks['da_sft']))\n",
    "print(dmean(orig_hacks['mix_sft']))\n",
    "print(dmean(sanity['sft_sft']))"
   ]
  },
  {
   "cell_type": "code",
   "execution_count": 8,
   "id": "2e008540-ece2-4f8e-8c27-ed26dd40c0a4",
   "metadata": {},
   "outputs": [
    {
     "data": {
      "text/plain": [
       "(array([14.,  7.,  3.,  2.,  2.,  0.,  2.,  1.,  1.,  1.]),\n",
       " array([0.00390625, 0.08251953, 0.16113281, 0.23974609, 0.31835938,\n",
       "        0.39697266, 0.47558594, 0.55419922, 0.6328125 , 0.71142578,\n",
       "        0.79003906]),\n",
       " <BarContainer object of 10 artists>)"
      ]
     },
     "execution_count": 8,
     "metadata": {},
     "output_type": "execute_result"
    },
    {
     "data": {
      "image/png": "[encoded data removed]",
      "text/plain": [
       "<Figure size 640x480 with 1 Axes>"
      ]
     },
     "metadata": {},
     "output_type": "display_data"
    }
   ],
   "source": [
    "# DA RM \n",
    "plt.hist(hackdf(orig_hacks['da_sft'])['diff'])"
   ]
  },
  {
   "cell_type": "code",
   "execution_count": 11,
   "id": "52d5f5a0-0d00-4db5-a01c-a2fd3a4570da",
   "metadata": {},
   "outputs": [
    {
     "data": {
      "text/plain": [
       "(array([14.,  8.,  2.,  1.,  1.,  3.,  0.,  1.,  3.,  2.]),\n",
       " array([0.00613403, 0.09599915, 0.18586426, 0.27572937, 0.36559448,\n",
       "        0.45545959, 0.54532471, 0.63518982, 0.72505493, 0.81492004,\n",
       "        0.90478516]),\n",
       " <BarContainer object of 10 artists>)"
      ]
     },
     "execution_count": 11,
     "metadata": {},
     "output_type": "execute_result"
    },
    {
     "data": {
      "image/png": "[encoded data removed]",
      "text/plain": [
       "<Figure size 640x480 with 1 Axes>"
      ]
     },
     "metadata": {},
     "output_type": "display_data"
    }
   ],
   "source": [
    "# Mix RM \n",
    "plt.hist(hackdf(orig_hacks['mix_sft'])['diff'])"
   ]
  },
  {
   "cell_type": "code",
   "execution_count": 9,
   "id": "b5c9603b-0d98-4b6c-9d1c-c1151fb8f8b8",
   "metadata": {},
   "outputs": [
    {
     "data": {
      "text/plain": [
       "(array([26.,  3.,  3.,  1.,  1.,  1.,  0.,  0.,  0.,  1.]),\n",
       " array([0.01660156, 0.1296875 , 0.24277344, 0.35585937, 0.46894531,\n",
       "        0.58203125, 0.69511719, 0.80820313, 0.92128906, 1.034375  ,\n",
       "        1.14746094]),\n",
       " <BarContainer object of 10 artists>)"
      ]
     },
     "execution_count": 9,
     "metadata": {},
     "output_type": "execute_result"
    },
    {
     "data": {
      "image/png": "[encoded data removed]",
      "text/plain": [
       "<Figure size 640x480 with 1 Axes>"
      ]
     },
     "metadata": {},
     "output_type": "display_data"
    }
   ],
   "source": [
    "# Orig (Retrained) RM \n",
    "plt.hist(hackdf(sanity['sft_sft'])['diff'])"
   ]
  },
  {
   "cell_type": "code",
   "execution_count": 10,
   "id": "0a89317f-88a2-44a2-9d16-ffe29d2d69f5",
   "metadata": {},
   "outputs": [],
   "source": [
    "def diff_ind(indf, ind):\n",
    "    row = hackdf(indf).iloc[ind]\n",
    "    print(len(row.bestseqs), \" step(s)\")\n",
    "    print(row.origsco)\n",
    "    print(row.maxsco)\n",
    "    highlight_differences(row.origseq, row.bestseqs[-1])"
   ]
  },
  {
   "cell_type": "code",
   "execution_count": 69,
   "id": "c50347f3-33b3-44ab-8452-ed007eafe186",
   "metadata": {
    "scrolled": true
   },
   "outputs": [
    {
     "name": "stdout",
     "output_type": "stream",
     "text": [
      "___________________________________\n",
      "1  step(s)\n",
      "0.5263671875\n",
      "0.568359375\n"
     ]
    },
    {
     "data": {
      "text/html": [
       "Question: I successfully highlight the section in a web page, but send\\_keys, `.send_keys(Keys.CONTROL, \"c\")`, does not place the intended text to copy in clipboard, only the last thing I manually copied is in clipboard:\n",
       "\n",
       "```\n",
       "from selenium import webdriver \n",
       "\n",
       "from selenium.webdriver.common.keys import Keys \n",
       "\n",
       "driver = webdriver.Firefox() \n",
       "\n",
       "driver.get(\"http://www.somesite.com\") \n",
       "\n",
       "driver.find_element_by_id(\"some id\").send_keys(Keys.CONTROL, \"a\") #this successfully highlights section I need to copy \n",
       "\n",
       "elem.send_keys(Keys.CONTROL, \"c\") # this does not actually copy text**\n",
       "\n",
       "```\n",
       "\n",
       "I tried then using the Firefox edit menu to select all and copy text, but didn't work either and cant find anything online to assist other than possible mention of a bug (tried old version of Firefox, but didn't solve issue). Any ideas?\n",
       "\n",
       "Answer: 1) The method you are trying doesn't work because it simply isn't an efficient way to get what you want done by Selenium itself. This would be just like copying a sentence from a book with your mouse cursor into the ClipBoard instead of selecting `Copy` on the contextual menu that shows up when right-clicking the highlighted area; it works but also takes longer, as well as being less convenient for everyone else who wants to access the same information before or after that action... Also note that the method above does **NOT** use any additional commands that were not mentioned earlier in the question, such as `SendKeys`. So even if there was some sort of issue here regarding the fact that these keys aren't handled directly by [`WebDriver`](https://seleniumhq.github.io/selenium/), it wouldn't matter much since we don't rely upon them at all! :)\n",
       "2) Now let's address the second part where clicking the contextual `Copy<span style='background-color: green'>)</span>`<span style='background-color: red'>-</span>menu item **doesn't always copy* what we expect -- which seems to depend heavily on whether one has used *anything*, including just moving the focus outside that element for more than a couple seconds, etc., prior to pressing"
      ],
      "text/plain": [
       "<IPython.core.display.HTML object>"
      ]
     },
     "metadata": {},
     "output_type": "display_data"
    },
    {
     "name": "stdout",
     "output_type": "stream",
     "text": [
      "___________________________________\n",
      "4  step(s)\n",
      "0.3107910156\n",
      "0.6748046875\n"
     ]
    },
    {
     "data": {
      "text/html": [
       "Question: In a program I'm writing the need to rotate a two-dimensional array came up. Searching for the optimal solution I found this impressive one-liner that does the job:\n",
       "\n",
       "```\n",
       "rotated = zip(*original[::-1])\n",
       "\n",
       "```\n",
       "\n",
       "I'm using it in my program now and it works as supposed. My problem though, is that I don't understand how it works.\n",
       "\n",
       "I'd appreciate if someone could explain how the different functions involved achieves the desired result.\n",
       "\n",
       "Answer: 1) `zip()` takes an iterable of size n (number of items), and returns tuples with elements from those list items. This particular case has been implemented by [the C implementation](https://github.com/python/cpython/blob/master/Modules/_pyio_zippers.h#L827). The function itself can be viewed here on [this documentation page<span style='background-color: red'>.</span><span style='background-color: red'>]</span><span style='background-color: red'>(</span><span style='background-color: green'> </span><span style='background-color: green'>[</span><span style='background-color: green'>`</span>http://docs.python.org/3/library/functions.html?highlight=zip%5C#zip) It should also mention that this functionality was added later than version 3, which means that even Python 2.x uses something similar like this<span style='background-color: green'>}</span><span style='background-color: green'>)</span>.\n",
       "\n",
       "This can then be used when reversed - i.e., rotating it back into original order!\n",
       "2) [`__reversed()`](https://docs.python.org/2.6/reference/datamodel.html#object.__reversed__) allows you to reverse any object without having to call its `__getitem__` method explicitly, so your code becomes much more simple! (While it might not make sense why such a method exists at first sight, there are cases where you really want to iterate backwards over some sequence.)"
      ],
      "text/plain": [
       "<IPython.core.display.HTML object>"
      ]
     },
     "metadata": {},
     "output_type": "display_data"
    },
    {
     "name": "stdout",
     "output_type": "stream",
     "text": [
      "___________________________________\n",
      "2  step(s)\n",
      "0.1983642578\n",
      "0.26171875\n"
     ]
    },
    {
     "data": {
      "text/html": [
       "Question: I have been searching for a while now on how to access user data from XBOX live.\n",
       "\n",
       "Unfortunately, all I found was [this](https://xboxapi.com) which only allows 2 API calls per minute.\n",
       "\n",
       "Is there an *offcial* XBOX API that I can access for user information ?\n",
       "\n",
       "Answer: 1/2 of the way through the video here he states... (at about 4mins in...)\n",
       "> \n",
       "> **The XNA API isn't going anywhere** and won't be deprecated any time soon. We are looking into adding support to XBox One for it but until then we don’t want people worrying that they will lose their investments in building games with our latest technology. This doesn’t mean that you shouldn’t take advantage of this new stuff though – if your game is doing really well then by all means use those features! They might make your life easier as you scale up or just let you create more visually compelling experiences. The important thing though is not to get hung-up on whether you should build everything using these tools because eventually Microsoft could say \"No\" - instead think carefully where it makes sense to leverage them when developing your titles so you maximize your returns. <span style='background-color: green'>=</span><span style='background-color: green'>{</span><span style='background-color: green'>></span><span style='background-color: green'> </span>\n",
       "> <span style='background-color: red'>\n",
       "</span><span style='background-color: red'>></span><span style='background-color: red'> </span><span style='background-color: red'>\n",
       "</span><span style='background-color: green'>m</span><span style='background-color: green'>a</span><span style='background-color: green'>t</span><span style='background-color: green'>h</span><span style='background-color: green'>b</span><span style='background-color: green'>b</span>> \n",
       "\n",
       "[...] So no, there is currently no official Xbox API allowing developers to access the user profiles/data, etc.. But given what he said above, one could assume that once they release a system update making it compatible with XBL, something like this"
      ],
      "text/plain": [
       "<IPython.core.display.HTML object>"
      ]
     },
     "metadata": {},
     "output_type": "display_data"
    },
    {
     "name": "stdout",
     "output_type": "stream",
     "text": [
      "___________________________________\n",
      "1  step(s)\n",
      "-0.039642334\n",
      "-0.0335083008\n"
     ]
    },
    {
     "data": {
      "text/html": [
       "Question: I have a string that may contain an arbitrary number of single-letters separated by spaces. I am looking for a regex (in Perl) that will remove spaces between all (unknown number) of single letters. \n",
       "\n",
       "For example:\n",
       "\n",
       "`ab c d` should become `ab cd` \n",
       "\n",
       "`a bcd e f gh` should become `a bcd ef gh`\n",
       "\n",
       "`a b c` should become `abc`\n",
       "\n",
       "and\n",
       "\n",
       "`abc d` should be unchanged (because there are no single letters followed by or preceded by a single space).\n",
       "\n",
       "Thanks for any ideas.\n",
       "\n",
       "Answer: 1.) You don't need the outer parenthesis around the list in your regexp, as you aren't matching any characters other than space -- so it could be like this too: `<span style='background-color: red'>(</span><span style='background-color: green'>#</span> | )(\\\\w+)` with just one capture group instead of two.\n",
       "2.) Your \"or\" is actually causing problems. What you want to do is use [negative look aheads](http://perldoc.perl.org/perlop.html#%3F-%3F!):  \n",
       "\n",
       "```\n",
       "$str = q{a bc d};             # str containing 'a', 'bc', and 'd' only    # without extra whitespace\n",
       "preg_match(qr/( |\\+)(\\\\w+)|\\+( /x), $str);     # looks at first letter; if non-empty, then looks at next character, etc...      # does not include spaces before second char\n",
       "print \"$1\";                        # prints out: ab       --> ab\n",
       "            #       ^---- look forward from end position on previous match until we hit another space OR end of string    \n",
       "            #        v--------- same thing but backwards         \n",
       "            #         \\*----- look backward till either"
      ],
      "text/plain": [
       "<IPython.core.display.HTML object>"
      ]
     },
     "metadata": {},
     "output_type": "display_data"
    },
    {
     "name": "stdout",
     "output_type": "stream",
     "text": [
      "___________________________________\n",
      "1  step(s)\n",
      "1.1181640625\n",
      "1.126953125\n"
     ]
    },
    {
     "data": {
      "text/html": [
       "Question: I have Qt creator 4.6.0 and Microsoft Visual Studio 2017 Enterprise installed on my system. Through Visual Studio, I have installed \"Desktop development with C++\" including VC++ 2017 v141 tool set. \n",
       "\n",
       "When trying to configure the MSVC 2017 64 Kit in Qt Creator, the MSVC compiler is not auto-detected. The only compilers that show are MinGw and Visual Studio 2008 (9.0) I believe I should be seeing \"Microsoft Visual C++ Compiler 15.0\".\n",
       "\n",
       "Does anyone know how I can get the compiler to auto detect or add this manually. I can compile and build QT programs in Visual Studio, but would like to use QT Creator.\n",
       "\n",
       "Thanks in advance.\n",
       "\n",
       "Answer: 1.) Go to `<span style='background-color: green'>C</span><span style='background-color: red'>O</span><span style='background-color: red'>p</span><span style='background-color: red'>t</span><span style='background-color: red'>i</span>on<span style='background-color: red'>s</span><span style='background-color: green'>f</span><span style='background-color: green'>i</span><span style='background-color: green'>g</span><span style='background-color: green'>u</span><span style='background-color: green'>r</span><span style='background-color: green'>a</span><span style='background-color: green'>t</span><span style='background-color: green'>i</span><span style='background-color: green'>o</span><span style='background-color: green'>n</span>` -> `Build & Run`. In there you'll see a list of available kits for compilation - as well as the options they provide. The list contains all compiled version of visual studio/mingw etc. (see attached image). \n",
       "\n",
       "<a href=\"https://i.stack.imgur.com/PWzjc.png\" rel=\"nofollow noreferrer\"><IMAGE></a>\n",
       "\n",
       "As you can clearly see your selected compiler does not exist here; however it seems to me like it is already configured and working properly through visual studios IDE (you mentioned using VS), so go ahead and unselect it from the `Qt Compiler` drop down menu (`Compiler`). Then select any other one which you want to use. You might also need to refresh the project settings after making changes to the dropdown menu.\n",
       "\n",
       "If you don't find what you seek amongst those listed, you may have an old version somewhere else still running; then try going back into configuration mode again to remove it via deleting its entry. It will likely appear in the next run though because it was previously used by the config. To do that just right click the 'Kit selection' section at the top of the screen ("
      ],
      "text/plain": [
       "<IPython.core.display.HTML object>"
      ]
     },
     "metadata": {},
     "output_type": "display_data"
    },
    {
     "name": "stdout",
     "output_type": "stream",
     "text": [
      "___________________________________\n",
      "2  step(s)\n",
      "1.4814453125\n",
      "1.599609375\n"
     ]
    },
    {
     "data": {
      "text/html": [
       "Question: Apologies for the poorly worded question title - no idea how to put it better!\n",
       "\n",
       "In the following code, when I execute `ruby bar.rb`, how can I make it output `bar.rb`, rather than `foo.rb`?\n",
       "\n",
       "In `foo.rb`:\n",
       "\n",
       "```\n",
       "module Foo\n",
       "  def filename\n",
       "    __FILE__\n",
       "  end\n",
       "end\n",
       "\n",
       "```\n",
       "\n",
       "In `bar.rb`:\n",
       "\n",
       "```\n",
       "require_relative 'foo'\n",
       "include Foo\n",
       "\n",
       "puts filename # outputs 'foo.rb'\n",
       "\n",
       "```\n",
       "\n",
       "This is for a library function that, each time some code is executed, records the location (and git ref) of that code.\n",
       "\n",
       "Answer: 1. Make sure your module `Foo` has been loaded; so you can do this with [autoloading](http://rubym<span style='background-color: green'>C</span><span style='background-color: green'>l</span>a<span style='background-color: green'>s</span><span style='background-color: green'>s</span><span style='background-color: green'>N</span><span style='background-color: green'>a</span><span style='background-color: green'>m</span><span style='background-color: red'>r</span><span style='background-color: red'>c</span><span style='background-color: red'>h</span><span style='background-color: red'>i</span><span style='background-color: red'>t</span><span style='background-color: red'>e</span><span style='background-color: red'>c</span><span style='background-color: red'>t</span><span style='background-color: red'>u</span><span style='background-color: red'>r</span>e.com/09-autoload/). If not, add something like this in file `lib\\foo.rb`.\n",
       "2. Modify the last line from your original example into this one instead:\n",
       "\n",
       "```\n",
       "puts self.filename     # outputs \"bar.rb\"\n",
       "\n",
       "```\n",
       "\n",
       "That way the object will have had its `__FILE__` attribute set by the require statement and be able to return the path itself. And because Ruby runs modules in `Object` context by default, `self.` should work just fine as an alias for the instance variable `__FILE__.\n",
       "3. Note that all these examples use a relative path unless explicitly changed using [`require\\_relative`](https://stackoverflow.com/questions/475689/what-is-the-difference-between-require-and-require-relative). You might want to consider making it absolute depending on your needs... or not, if the user is expected to know what they are doing ;) .\n",
       "\n",
       "Note also that since your current method uses [`File#<span style='background-color: red'>d</span><span style='background-color: green'>F</span>i<span style='background-color: green'>l</span><span style='background-color: red'>r</span><span style='background-color: red'>n</span><span style='background-color: red'>a</span><span style='background-color: red'>m</span>e`](http://www."
      ],
      "text/plain": [
       "<IPython.core.display.HTML object>"
      ]
     },
     "metadata": {},
     "output_type": "display_data"
    },
    {
     "name": "stdout",
     "output_type": "stream",
     "text": [
      "___________________________________\n",
      "2  step(s)\n",
      "1.4609375\n",
      "1.6435546875\n"
     ]
    },
    {
     "data": {
      "text/html": [
       "Question: Is there a word like facadal or facadeous? The context it is being used in is - \n",
       "\"in an increasingly \\_\\_\\_ society\".\n",
       "\n",
       "Answer: 1<span style='background-color: red'>.</span><span style='background-color: green'> </span><span style='background-color: green'>\"</span><span style='background-color: green'>*</span> **Facadistic** : having the appearance of something (i.e., something that's not real) for the purpose of deceiving people into believing what you want them to believe. In other words, \"fake.\" This term can be used both as noun and adjective. Example sentences include *\"The whole company was run by a bunch of facadists who only cared about money!\"* and *\"He didn’t really have any friends; he just had lots of fake ones.*\"\n",
       "2. **Fascadistically** : with regard to, using methods which are reminiscent of those employed by fascism but do so for different reasons than genuine fascism does — i.e., instead of seeking power purely because they wish to rule others over simply out of spitefulness, these types use their power in order to gain wealth/status within society via deception. Similar to facadic but slightly less extreme in its usage. Examples including *\"She wasn’t necessarily evil on her own terms—she did what she needed to survive, even if it meant being fascadistically manipulative to do it.”*\n",
       "3. There isn’t currently a specific"
      ],
      "text/plain": [
       "<IPython.core.display.HTML object>"
      ]
     },
     "metadata": {},
     "output_type": "display_data"
    },
    {
     "name": "stdout",
     "output_type": "stream",
     "text": [
      "___________________________________\n",
      "2  step(s)\n",
      "0.7158203125\n",
      "1.25\n"
     ]
    },
    {
     "data": {
      "text/html": [
       "Question: In my quest for knowledge I sometimes find myself scouring the source of a page only to find that the javascript method im looking for isnt on the page directly. That said I think it must be on one of the linked javascript pages. However I dont really want to have to look through each individual file to find the line. Is there a tool that can do this for me? \n",
       "\n",
       "Preferably in firefox as an add-on I was thinking...\n",
       "\n",
       "Cheers,\n",
       "Pete\n",
       "\n",
       "Answer: 1) The way you are doing it right now works fine (although it does not return `undefined` if you don't load jQuery). Here are some alternatives though:\n",
       "2) Use [`jQuery#noConflict`](http://api.jquery.com/jQuery.noConflict/) and pass your existing variable into `.noconflict()`: `$ = jQuery.noconflict(old_$);`. This will let you keep both variables around without conflicting with whatever global uses the original name. Then use [deferred loading](https://stackoverflow.com/questions/9846750/what-is-the-difference-between-using-jquerys-global-and-local-variables-to-access): \n",
       "3) Load jQuery via shorthand using: `<script src=\"//ajax.googleapis.com/ajax/libs/jquery/1.8.3/jquery.min.js\" ></script>` - This lets you specify which version of jquery to use rather than relying on whichever default got loaded first; however, note that this might require a server restart to take effect -- see here: <http://encosia.com/use-google-<span style='background-color: green'> </span><span style='background-color: green'>p</span><span style='background-color: green'>r</span><span style='background-color: green'>o</span><span style='background-color: green'>t</span><span style='background-color: green'>o</span>c<span style='background-color: red'>d</span><span style='background-color: red'>n</span><span style='background-color: green'>o</span><span style='background-color: green'>l</span>-"
      ],
      "text/plain": [
       "<IPython.core.display.HTML object>"
      ]
     },
     "metadata": {},
     "output_type": "display_data"
    },
    {
     "name": "stdout",
     "output_type": "stream",
     "text": [
      "___________________________________\n",
      "4  step(s)\n",
      "0.8349609375\n",
      "1.60546875\n"
     ]
    },
    {
     "data": {
      "text/html": [
       "Question: So I have a database table that stores pre-escaped text strings (don't ask me why ... I don't know) and I need to put it on the page as a RAW string. All of the rails output functions seems to escape the output.\n",
       "\n",
       "ex\n",
       "`<%= @string %>` will escape the string's special characters before printing to the screen\n",
       "\n",
       "So if I have the string `&amp;` I end up with something like `&amp;amp;` and the output to the screen is simply `&amp;`\n",
       "\n",
       "Answer: 1. Use `<% raw @string %>`. The escaping is turned off here.\n",
       "2. If you still want some escaping, use `<span style='background-color: red'>r</span><span style='background-color: green'>R</span>ender<span style='background-color: red'> </span><span style='background-color: green'>e</span><span style='background-color: green'>r</span><span style='background-color: green'>(</span>:partial => \"whatever_path\", :locals => {:content => @string}`, where whatever\\_path would contain some template which doesn't do any html or ruby escapes itself but should get its content escaped anyway by calling something like this in your controller method that renders this partial:\n",
       "\n",
       "```ruby\n",
       "@template = render(:partial=>\"some_template\")\n",
       "puts @template # gives &amp;&amp; etc... unescaped. Then just call render() again for the above case, so it won't escape anything anymore and does what you wanted originally\n",
       "\n",
       "### later, in other context #####\n",
       "\n",
       ">>> p @template # returns \"&amp;\" unchanged from earlier\n",
       ">>> p @template.gsub(/\\\\\\*/, '*') # guts out everything but spaces and & chars\n",
       ">>> puts @template.html_safe # outputs all unicode codepoints except whitespace as is\n",
       "\n",
       "```\n",
       "\n",
       "In case anyone wants to understand *why*, when one calls [`render`](http://api<span style='background-color: red'>.</span><span style='background-color: green'> </span><span style='background-color: green'>o</span><span style='background-color: green'>r</span><span style='background-color: green'>g</span>rubyon<span style='background-color: red'>r</span><span style='background-color: green'> </span><span style='background-color: green'>R</span>ail<span style='background-color: red'>s</span>"
      ],
      "text/plain": [
       "<IPython.core.display.HTML object>"
      ]
     },
     "metadata": {},
     "output_type": "display_data"
    },
    {
     "name": "stdout",
     "output_type": "stream",
     "text": [
      "___________________________________\n",
      "1  step(s)\n",
      "0.47265625\n",
      "0.5634765625\n"
     ]
    },
    {
     "data": {
      "text/html": [
       "Question: I'm using `stateProvider` for routing. \n",
       "\n",
       "**Problem:**\n",
       "\n",
       "When I click any link, my controller calls the factory service recursively. What happens is that after every successful ajax call my view blinks or flickers. (Which I don't wan't) \n",
       "\n",
       "Please provide some tips. So far I have tried `ng-cloak` and `class=\"ng-cloak\"`, with no luck. \n",
       "\n",
       "**Question:**\n",
       "How can I avoid these flicker effect until all ajax calls are completed.\n",
       "\n",
       "```\n",
       "  .state('vehicle', {\n",
       "      abstract:true,\n",
       "      url: \"/vehicle\",\n",
       "      template: '<div ui-view style=\"height:100%\"></div>',          \n",
       "      controller:'vehicleManagementCtrl'\n",
       "  })\n",
       "  .state('vehicle.list', {\n",
       "        url: \"\",          \n",
       "        templateUrl: 'views/br_manager/mg_vehicleManagement.html'\n",
       "    })\n",
       "  .state('vehicle.add', {\n",
       "        url: \"\",\n",
       "        templateUrl: 'views/br_manager/mg_addVehicle.html'\n",
       "    })\n",
       "  .state('vehicle.edit', {\n",
       "      url: \"\",\n",
       "      templateUrl: 'views/br_manager/mg_editVehicle.html'\n",
       "  })\n",
       "   .state('vehicle.delete', {\n",
       "        url: \"\",\n",
       "        templateUrl: 'views/br_manager/mg_addVehicle.html'\n",
       "    })\n",
       "\n",
       "```\n",
       "\n",
       "Answer: 1. The way you implemented stateProvider does not make sense to me as there should only be one route in your app with an empty `<span style='background-color: red'>/</span>`. If this was a real application, the first time someone visited `/vehicles/` they would go into your root state instead of going straight into vehicle management so it doesn't even make much difference if you declare it to be abstract since there isn't anything in its templates either... You could change your implementation like this though:\n",
       "\n",
       "```\n",
       ".state('root',{})             // This will replace /\n",
       ".state(\"vehicle\", {                           \n",
       "          url:\"/\" ,       // Change from \"\" above\n",
       "          views:{                              \n",
       "                \"\":{\"template\":\"<div ui-view></div>\", \n",
       "              },                                    \n",
       "         }})\n",
       "\\end{code}\n",
       "\n",
       "2. To do what you want however, you need to get rid of `ui-view`'s because when ngRoute starts navigating through states, it needs something for rendering to take place within which means it has to create a new `` container each time but also destroy them once navigation ends. Using ui-view allows ngRoute to know where to put content on the page without having to render"
      ],
      "text/plain": [
       "<IPython.core.display.HTML object>"
      ]
     },
     "metadata": {},
     "output_type": "display_data"
    },
    {
     "name": "stdout",
     "output_type": "stream",
     "text": [
      "___________________________________\n",
      "1  step(s)\n",
      "1.384765625\n",
      "1.7880859375\n"
     ]
    },
    {
     "data": {
      "text/html": [
       "Question: I'm playing Borderlands 2, but I have not had any legendary items drop. I have been told to buy the DLC, but I can not. Where can I farm for a legendary item, without having purchased DLC?\n",
       "\n",
       "Answer: 1) You need to either complete certain side-quests or kill very specific enemies in order to get access to some of these legendaries (or at least that is what people who have them say). For instance one guy on Reddit was able to find it when he did this quest [here](http://www.gamersnextdoor.com/wiki/_en/index.php/The_Kingdom), which required killing several particular type of boss and completing a few other quests.\n",
       "\n",
       "As far as where you are going to be able to do so with your character, I haven't seen anyone else with Legendaries yet myself -- my friends all got theirs through purchasing the season pass or from being invited into the game by someone with an invite code they received during early access. So if you don't want to spend extra money, just wait until maybe one drops somewhere... there could also be different chances depending upon whether you completed each part of the above quest chain already, etc... There may even be multiple types of \"legendary\" guns available, i.e. maybe only some classes would ever see a specific gun appear, since every class has its own unique set of equipment <span style='background-color: red'>m</span><span style='background-color: red'>o</span><span style='background-color: red'>d</span><span style='background-color: green'>v</span><span style='background-color: green'>a</span><span style='background-color: green'>r</span><span style='background-color: green'>i</span>"
      ],
      "text/plain": [
       "<IPython.core.display.HTML object>"
      ]
     },
     "metadata": {},
     "output_type": "display_data"
    },
    {
     "name": "stdout",
     "output_type": "stream",
     "text": [
      "___________________________________\n",
      "2  step(s)\n",
      "1.708984375\n",
      "2.17578125\n"
     ]
    },
    {
     "data": {
      "text/html": [
       "Question: I signed a lease for a year and my lease for my apartment ends on July 27, 2019. My rent for this apartment is already paid off fully because I paid in advance and utilities are included in the rent so I don't have anything to pay monthly since I paid ahead of time.\n",
       "\n",
       "However I want to move into a new apartment in May of 2019 before my lease ends on July 27, 2019. Do you think I can do this since everything is already paid fully on my current apartment and just keep some of my things there as I move into my new one? So it would be like I have two apartments until the lease ends.\n",
       "\n",
       "Answer: 1) **Your landlord cannot legally prevent** anyone from breaking their contract with them (including by giving up use of an apartment). If your landlord attempts that, they’ve broken both the spirit AND law of any residential tenancy agreement*. That means they might well owe you damages if you end up going through the courts or arbitration process about ending the tenancy early; alternatively you could decide not to pursue those options and simply walk away without paying rent. The amount of money owed should be limited to what was normally due over the course of the remainder of the leased term rather than the entire term itself - i.e., what you’d otherwise get anyway under usual circumstances after the lease has ended. You wouldn’t have to actually stay another day unless they were prepared to threaten legal action against you themselves at which point you may need to defend yourself again but generally speaking it shouldn’t even go beyond ‘breaking’ and rearranging a few items around (it may not necessarily stop you living there either way though – depends on how much stuff you bring out with you and whether they let you back in while moving). The only exception here being where you live somewhere without rental <span style='background-color: red'>r</span><span style='background-color: green'>f</span>e<span style='background-color: red'>g</span><span style='background-color: green'>r</span><span style='background-color: green'>t</span>"
      ],
      "text/plain": [
       "<IPython.core.display.HTML object>"
      ]
     },
     "metadata": {},
     "output_type": "display_data"
    },
    {
     "name": "stdout",
     "output_type": "stream",
     "text": [
      "___________________________________\n",
      "1  step(s)\n",
      "0.1864013672\n",
      "0.2612304688\n"
     ]
    },
    {
     "data": {
      "text/html": [
       "Question: I am new to python and I have a scenario where there are multiple parquet files with file names in order. ex: par\\_file1,par\\_file2,par\\_file3 and so on upto 100 files in a folder.\n",
       "\n",
       "I need to read these parquet files starting from file1 in order and write it to a singe csv file. After writing contents of file1, file2 contents should be appended to same csv without header. Note that all files have same column names and only data is split into multiple files.\n",
       "\n",
       "I learnt to convert single parquet to csv file using pyarrow with the following code:\n",
       "\n",
       "```\n",
       "import pandas as pd    \n",
       "df = pd.read_parquet('par_file.parquet')    \n",
       "df.to_csv('csv_file.csv')\n",
       "\n",
       "```\n",
       "\n",
       "But I could'nt extend this to loop for multiple parquet files and append to single csv.\n",
       "Is there a method in pandas to do this? or any other way to do this would be of great help. Thank you.\n",
       "\n",
       "Answer: 1) create your own list of dicts\n",
       "\n",
       "![enter image description here](https://i.stack.imgur<span style='background-color: red'>.</span><span style='background-color: green'>)</span><span style='background-color: green'>\\</span>com/4Hc9w.png)\n",
       "\n",
       "**output looks like (dict contains file path & name): **\n",
       "\n",
       "![enter image description here](https://i.stack.imgur.com/Y7pQV.png)\n",
       "\n",
       "2) iterate through each element in that list of lists;\n",
       "\n",
       "and then use the `json` module\n",
       "\n",
       "![enter image description here](https://i.stack.imgur.com/TxMn5.png)\n",
       "\n",
       "**print out to console :**\n",
       "\n",
       "![enter image description here](https://i.stack.imgur.com/hLfqJ.png)\n",
       "\n",
       "---\n",
       "\n",
       "*note: if you want to save those values instead of printing them just change the last line to something along the lines of :  \n",
       "\n",
       "`'out_path + os.sep + json.dumps(mylist)`.\n",
       "\n",
       "**here i used json package from python3 library - if you dont want to import an entire extra module you can always use simple `str` type conversion`.\n",
       "\n",
       "the `json` module also supports some"
      ],
      "text/plain": [
       "<IPython.core.display.HTML object>"
      ]
     },
     "metadata": {},
     "output_type": "display_data"
    },
    {
     "name": "stdout",
     "output_type": "stream",
     "text": [
      "___________________________________\n",
      "2  step(s)\n",
      "1.7431640625\n",
      "1.974609375\n"
     ]
    },
    {
     "data": {
      "text/html": [
       "Question: In an ASP.NET C# application, I noticed in order to use Regex and StringBuilder, I had to put both\n",
       "\n",
       "```\n",
       "using System.Text;\n",
       "using System.Text.RegularExpressions;\n",
       "\n",
       "```\n",
       "\n",
       "From looking at this plainly, I would think `using System.Text` might include `RegularExpressions`, but both are necessary. What is the difference between those two?\n",
       "\n",
       "Answer: 1) The first one is not including [System.<span style='background-color: red'>N</span><span style='background-color: green'>T</span>e<span style='background-color: green'>x</span>t](http://msdn.microsoft.com/en-us/library/system.net(v=vs.80).aspx), which also has a [`StringBuilder`](http://msdn.microsoft.com/en-us/library/system.text.stringbuilder%28VS.71%29.aspx) implementation that should be used instead of it if you don't want to add another reference (and you do need the .Net Framework Reference):\n",
       "\n",
       "<blockquote>The class provides static methods for building strings from individual characters or arrays of chares.</blockquote>\n",
       "2) As pointed out by others using `Using` can help clean up your code when things get messy. And as stated on MSDN: <blockquote>All classes contained within the namespace System are visible throughout all assemblies and modules in scope, so there’s no way around adding them into your project.</blockquote>. If they were added manually into the assembly, then using the `Using` directive will automatically import them without having to include additional references (which again helps keep code tidier).\n",
       "3) Whenever you create a new string object or modify existing ones via indexer <span style='background-color: green'>u</span><span style='background-color: red'>a</span><span style='background-color: red'>c</span><span style='background-color: red'>c</span><span style='background-color: red'>e</span>s<span style='background-color: red'>s</span><span style='background-color: green'>e</span>"
      ],
      "text/plain": [
       "<IPython.core.display.HTML object>"
      ]
     },
     "metadata": {},
     "output_type": "display_data"
    },
    {
     "name": "stdout",
     "output_type": "stream",
     "text": [
      "___________________________________\n",
      "2  step(s)\n",
      "-0.4487304688\n",
      "0.2376708984\n"
     ]
    },
    {
     "data": {
      "text/html": [
       "Question: I wanted to check if a number is prime or not. I wrote the following code, but it does not return any value:\n",
       "\n",
       "```\n",
       " def isprime(x:Int) = {\n",
       "     | if (x==1) false\n",
       "     | else {\n",
       "     | for (i <- 2 to x-1) {\n",
       "     | if (x % i == 0) false\n",
       "     | else true\n",
       "     | }\n",
       "     | }\n",
       "     | }\n",
       "\n",
       "```\n",
       "\n",
       "Answer: 1stly you're returning a `false` from your inner function and then passing this into an `if` statement which checks whether its true so basically the condition will always be passed as false thus making all of these blocks of code non executable, instead change them to a `true`. However since `int` types are immutable in Scala when defining functions like this with mutable values within their scope they need to returned by reference rather than declared inside the function itself. This can easily be done using the following syntax :\n",
       "\n",
       "```scala> val myFunc = isPrime(_: Int): Unit //returns int on success otherwise returns unit which has no return type and means we don't actually have anything to return!\n",
       "myFunc: () => Boolean = <function1>,\n",
       "\n",
       "val isPrime2 = myFunc(5); //returns bool that should indicate if something was executed successfully!\n",
       "isPrime2: Boolean = true\n",
       "\n",
       "val isPrime3 = myFunc(); //this one returns boolean indicating if operation succeeded or failed! In general returning either None/NoneType or Some/SomeType!\n",
       "isPrime3: Boolean = null\n",
       "\n",
       "//we could also use just `Unit`<span style='background-color: red'>:</span> import scala.util<span style='background-color: red'>.</span><span style='background-color: green'>(</span><span style='background-color: green'>(</span>Try"
      ],
      "text/plain": [
       "<IPython.core.display.HTML object>"
      ]
     },
     "metadata": {},
     "output_type": "display_data"
    },
    {
     "name": "stdout",
     "output_type": "stream",
     "text": [
      "___________________________________\n",
      "2  step(s)\n",
      "1.609375\n",
      "1.7236328125\n"
     ]
    },
    {
     "data": {
      "text/html": [
       "Question: I have a question about $watch and the scope in nested controller.\n",
       "\n",
       "I have an input binded with a ng-model. For example, in my html\n",
       "\n",
       "```\n",
       "    <input ng-model='searchString' />  \n",
       "\n",
       "```\n",
       "\n",
       "This is within the child(nested) controller, but I defined ng-model in parent controller. So I tried to $watch in parent controller. It doesn't work.\n",
       "\n",
       "```\n",
       "    app.controller('mainCtrl', ['$scope', function($scope){\n",
       "        $scope.searchString = '';\n",
       "        $scope.$watch('searchString', function(){\n",
       "            console.log(\"changed in parent\");\n",
       "        })\n",
       "    }]);\n",
       "    app.controller(\"nestedCtrl\", [\"$scope\", function($scope){        \n",
       "    }])\n",
       "\n",
       "```\n",
       "\n",
       "However, if I put $watch in child controller it would work. \n",
       "\n",
       "```\n",
       "    app.controller(\"nestedCtrl\", [\"$scope\", function($scope){ \n",
       "        $scope.$watch('searchString', function(){\n",
       "            console.log(\"changed in child\");\n",
       "        })\n",
       "    }])\n",
       "\n",
       "```\n",
       "\n",
       "Why I defined the scope in parent controller but can only watch in child controller?\n",
       "Any ways could let parent controller detect the changes? Because I need to do something out of child controller but based on this scope variable, but I couldn't.\n",
       "\n",
       "Answer: 1 - There is no such thing as \"parent\" or \"child\". In Angular terms they are just controllers (same class). This means that your `searchString` has access to all variables declared inside that same controller -- so you should be able to use `$watch`. The problem seems like more than that though...\n",
       "2 - If using $watch from outside a controller, then you really shouldn't be doing any logic there at all, just observe what happens instead!\n",
       "3 - You don't want code in a controller to modify things elsewhere; for the most part your controllers contain data/models rather than actual algorithms. A very common solution is [services](http://docs.angularjs.org/guide/dev_guide.services), which allow communication between two modules without having to pass around state across them directly. That said, since you seem to know how $watch works already, it may not make sense to learn another technique here.\n",
       "4 - Finally, the correct way to deal with cases where one controller needs some behaviour controlled by another controller is **communication** via either services or dependency injection. Here we communicate via a service:\n",
       "\n",
       "```\n",
       "app.<span style='background-color: green'>f</span><span style='background-color: green'>a</span><span style='background-color: red'>s</span><span style='background-color: red'>e</span><span style='background-color: red'>r</span><span style='background-color: red'>v</span><span style='background-color: red'>i</span>c<span style='background-color: red'>e</span><span style='background-color: green'>t</span><span style='background-color: green'>o</span><span style='background-color: green'>r</span><span style='background-color: green'>y</span>('myService', ['$rootScope', 'someOtherModule',"
      ],
      "text/plain": [
       "<IPython.core.display.HTML object>"
      ]
     },
     "metadata": {},
     "output_type": "display_data"
    },
    {
     "name": "stdout",
     "output_type": "stream",
     "text": [
      "___________________________________\n",
      "1  step(s)\n",
      "0.9047851562\n",
      "0.9624023438\n"
     ]
    },
    {
     "data": {
      "text/html": [
       "Question: > \n",
       "> **Possible Duplicate:**  \n",
       "> \n",
       "> [Can you help me with my software licensing question?](https://serverfault.com/questions/215405/can-you-help-me-with-my-software-licensing-question) \n",
       "> \n",
       "> \n",
       "> \n",
       "\n",
       "i have got a vaild License for windows 2003 standard server 32Bit.\n",
       "We are changing our server (Completely new machine). The new server got 6GB and all software seems to be compatible... So we would like to switch to a 64Bit version of 2003 server...\n",
       "\n",
       "Is this allowed by the license (Using the 32Bit license)?\n",
       "Where to obtain the x64 Bit media (Launguage: preferably German)? \n",
       "\n",
       "I apprechiate any help!\n",
       "\n",
       "Cheers\n",
       "\n",
       "Corelgott\n",
       "\n",
       "Answer: 1 - If your existing system is working fine then just upgrade it from x86 to x64 bit, no need to get another one unless there is some hardware issue that needs an extra cpu or memory (in which case you should look at Vista or Windows Server 2008 anyway, they use less resources than XP or Server 2003)<span style='background-color: red'>.</span><span style='background-color: green'>)</span><span style='background-color: green'>)</span>\n",
       "\n",
       "2 - You can buy both versions online using either a credit card or Microsoft Store Account\n",
       "<http://www.microsoftstore.com/>\n",
       "\n",
       "The price difference between them is usually only around $17 so if you think you'll actually end up paying more money buying x64 in advance over running into a problem later on where you needed the x64 edition I wouldn't bother.\n",
       "\n",
       "If you don't want to go through M$, there's also retail outlets such as Tiger Direct <http://www.tigerdirect.ca/> who carry copies but their prices will likely not be cheaper than going directly to M$ themselves since most of what happens after selling the product to them goes towards covering shipping costs :)\n",
       "\n",
       "Edit:\n",
       "Since you mentioned it was just a licence for Windows 2"
      ],
      "text/plain": [
       "<IPython.core.display.HTML object>"
      ]
     },
     "metadata": {},
     "output_type": "display_data"
    },
    {
     "name": "stdout",
     "output_type": "stream",
     "text": [
      "___________________________________\n",
      "1  step(s)\n",
      "0.6938476562\n",
      "0.83203125\n"
     ]
    },
    {
     "data": {
      "text/html": [
       "Question: Is there any way to remove a list item inside a for loop that loops through that list?\n",
       "example:\n",
       "\n",
       "```\n",
       "std::list<int> myList;\n",
       "myList.push_back(5);\n",
       "myList.push_back(8);\n",
       "\n",
       "std::list<int>::iterator i;\n",
       "\n",
       "for (i = myList.begin(); i != myList.end(); i++)\n",
       "{\n",
       "    if (i == 8)\n",
       "        // myList.remove(*i);\n",
       "}\n",
       "\n",
       "```\n",
       "\n",
       "Is there any way to replace the `myList.remove(*i)` with something else, because that gives an error.\n",
       "\n",
       "Answer: 1.) If you have access to C++03 and STL then use <a href=\"http://www.cplusplus.com/reference/stl/list/\" rel=\"<span style='background-color: green'>\"</span><span style='background-color: green'>/</span><span style='background-color: green'>></span><span style='background-color: red'>n</span><span style='background-color: red'>o</span><span style='background-color: red'>r</span><span style='background-color: red'>e</span><span style='background-color: red'>f</span><span style='background-color: red'>e</span><span style='background-color: red'>r</span><span style='background-color: red'>r</span><span style='background-color: red'>e</span><span style='background-color: red'>r</span>\">std::list</a>'s [clear()](http://en.cppreference.com/w/cpp/container/list/clear):\n",
       "\n",
       "2.) Otherwise just get rid of it by using [iterators](http://stackoverflow.com/questions/7649092/is-it-possible-to-get-the-index-of-an-element-in-a-sorted-vector). You will need to check whether your iterator is pointing at what you want to clear from before calling `erase`:\n",
       "\n",
       "```\n",
       "if ((*i)->first <= value && (*i)->second >= value) {\n",
       "    myList.erase((*(--i));   // erases the element from 'i' -- which means we are now *below* it so we don't point out of bounds when accessing this index again...!\n",
       "}\n",
       "\n",
       "```\n",
       "\n",
       "Or simply use [`std::unique`](https://en.cppreference.com/w/cpp/algorithm/unique), which"
      ],
      "text/plain": [
       "<IPython.core.display.HTML object>"
      ]
     },
     "metadata": {},
     "output_type": "display_data"
    },
    {
     "name": "stdout",
     "output_type": "stream",
     "text": [
      "___________________________________\n",
      "1  step(s)\n",
      "-0.6220703125\n",
      "-0.6098632812\n"
     ]
    },
    {
     "data": {
      "text/html": [
       "Question: I am asking this question from an educational/hacking point of view, (I wouldn't really want to code like this).\n",
       "\n",
       "Is it possible to implement a while loop only using **C** preprocessor directives. I understand that macros cannot be expanded recursively, so how would this be accomplished?\n",
       "\n",
       "Answer: 1) Use `#define` and `char *foo(int);`, which causes your entire program (`while()`) to expand at compile time into exactly the same code as you are actually running. As such, there is no actual execution required for the expression in the second line of your \"loop\", hence its output must be ignored or discarded during any actual run-time evaluation; the result must therefore be considered zero by default. Since C does not allow any value other than `0` to represent true in most circumstances (and since the preprocessing step has already been done), then this part will effectively become an infinite loop -- after all, if the condition were ever met, you could never exit out of it due to the fact that the resulting boolean always evaluates to false! The end result should then just continue to repeat forever until someone presses CTRL+c on their keyboard or something similar...<span style='background-color: red'>\n",
       "</span><span style='background-color: green'> </span><span style='background-color: green'>{</span>2) If we ignore that little detail about whether the compiler is allowed to simply drop anything deemed unnecessary from each iteration through the process, then yes, it IS indeed possible to use a macro expansion within a real, live C++ program without causing anything to evaluate again at runtime unless explicitly told otherwise. All you need do is make sure that whatever code"
      ],
      "text/plain": [
       "<IPython.core.display.HTML object>"
      ]
     },
     "metadata": {},
     "output_type": "display_data"
    },
    {
     "name": "stdout",
     "output_type": "stream",
     "text": [
      "___________________________________\n",
      "1  step(s)\n",
      "-0.2697753906\n",
      "-0.2354736328\n"
     ]
    },
    {
     "data": {
      "text/html": [
       "Question: Let $G=(V,E)$ be a graph.\n",
       "\n",
       "Let $M1, M2$ be two matchings of $G$. Consider the new graph $G' = (V, M1 ∪ M2)$ (i.e. on the same vertex set, whose edges consist of all the edges that appear in either $M1$ or $M2$). Show that $G'$ is bipartite.\n",
       "\n",
       "Helpful definition: A connected component is a subgraph of a graph consisting of some vertex and every node and edge that is connected to that vertex.\n",
       "\n",
       "Answer: <span style='background-color: red'>♦</span><span style='background-color: green'>■</span> In this case the vertices can still divide into distinct sets because each element from $\\mathcal{M}_{A}$ can be matched with at most one unique element from $\\mathcal{M}_B$, so they form different components.\n",
       "\n",
       "Now we have to show that there are no unmatched nodes. It’s enough if any pairwise disjoint union of pairs contains exactly one element from both lists since the first part guarantees us there are always matching pairs for any given subset of pairs which means it has to contain at least one member.\n",
       "\n",
       "So let’s find an unmatched set: take $\\{v_{x_0}, v_{y}\\} \\in \\{a\\}$ then $(u_1,\\ldots u_n) \\in (\\{b\\})$ where $v_{x_0}$ is not adjacent to $u_{k-1}$. By our assumption it follows that $(u_1,..., u_{\\lceil{\\frac{|u|+1}{2}} \\rceil}) = ((x, y), ..., (x, x))$, i.e., $v_{x_0}$ was adjacent to none of them thus proving the existence of such a set. As desired!\n",
       "\n",
       "(I"
      ],
      "text/plain": [
       "<IPython.core.display.HTML object>"
      ]
     },
     "metadata": {},
     "output_type": "display_data"
    },
    {
     "name": "stdout",
     "output_type": "stream",
     "text": [
      "___________________________________\n",
      "1  step(s)\n",
      "-0.0033874512\n",
      "0.0692138672\n"
     ]
    },
    {
     "data": {
      "text/html": [
       "Question: Is there a `Collection` `DataStructure` available in `PHP` with `API` to add elements dynamically ?\n",
       "\n",
       "Is `array` suitable for this?\n",
       "\n",
       "Answer: 1. Use associative arrays as you're already doing (this will make your code easier to understand and maintain)\n",
       "2. Use [unset](http://php.net/manual/en/function.unset.php).\n",
       "3. Don't worry about it being an array, PHP won't use more memory than absolutely necessary anyway because of the way it stores data internally; if that wasn't true then every time you did something like this (and therefore created unnecessary copies of things):\n",
       "\n",
       "```\n",
       "<?php\n",
       "$a = $b + $c; // $a now contains 50, which is the sum of $b+$c.\n",
       "?>\n",
       "\n",
       "```\n",
       "\n",
       "the program would run slower and take up far more RAM.\n",
       "4. It's important when using unset on multiple variables at once that they are all objects or references rather than primitives otherwise you could end up running out of resources - so make sure any integer or string variable passed into unset() do<span style='background-color: red'>e</span><span style='background-color: red'>s</span><span style='background-color: red'>n</span>'t have its value changed by anything else after having been initialized:\n",
       "\n",
       "```\n",
       "foreach ($arr_of_values AS &$value){\n",
       "    unset($value); // only works if $value has never"
      ],
      "text/plain": [
       "<IPython.core.display.HTML object>"
      ]
     },
     "metadata": {},
     "output_type": "display_data"
    },
    {
     "name": "stdout",
     "output_type": "stream",
     "text": [
      "___________________________________\n",
      "1  step(s)\n",
      "-0.9379882812\n",
      "-0.91015625\n"
     ]
    },
    {
     "data": {
      "text/html": [
       "Question: If I define this simple Keras model\n",
       "\n",
       "```\n",
       "import tensorflow as tf\n",
       "from tensorflow import keras\n",
       "import numpy as np\n",
       "\n",
       "l1 = keras.layers.Input(shape=(32))\n",
       "l2 = keras.layers.Dense(10)(l1)\n",
       "model = keras.Model(inputs=l1, outputs=l2)\n",
       "\n",
       "model.compile(loss='mse', optimizer='adam')\n",
       "\n",
       "```\n",
       "\n",
       "Let's say I have the input and labels values stored in `train_examples` and `train_labels` respectively\n",
       "\n",
       "If I also define a variable `some_var` that depends on that model's loss (I just use `model_loss` here for the sake of this example)\n",
       "\n",
       "```\n",
       "some_var = model.total_loss\n",
       "\n",
       "```\n",
       "\n",
       "How do I evaluate the value for `some_var`? I know it should be something like:\n",
       "\n",
       "```\n",
       "with keras.backend.get_session() as sess:\n",
       "    sess.run(some_var, feed_dict={ ?: train_examples, ?: train_labels })\n",
       "\n",
       "```\n",
       "\n",
       "what should go in place of the question marks?\n",
       "I don't want to modify the model's loss function, just use whatever has been defined in the definition of another variable\n",
       "\n",
       "thank you in advance\n",
       "\n",
       "Answer: 1- You can add the variables from your dataset inside an object (either dict or list), then save them when closing the session using .add().\n",
       "For instance :\n",
       "\n",
       "<span style='background-color: red'>`</span><span style='background-color: red'>`</span><span style='background-color: green'> </span><span style='background-color: green'>[</span>`\n",
       "# Define all the inputs used by my model\n",
       "x = layers.Input(...).batch(.......)\n",
       "y = layers.Dense(...)(x) # Model output layer will depend of x dimension\n",
       "wlist=[...] # We define the weights/biases required by our model\n",
       "blist[][...] # Same thing but with biases\n",
       "\n",
       "def get_all_variables(): # return all the variables we need to add later\n",
       "   global wlist blist\n",
       "   vlist = []                     # Here are initialized with None. This is important!\n",
       "   if len(wlist):\n",
       "      for varname, weight in wlist:\n",
       "         if type(weight)=Variable:\n",
       "            vlist.append((varname, weight.numpy()))        # add each Variable into vlist array.\n",
       "         else:\n",
       "           raise TypeError(\"Wrong weight format\")               # In case there is no 'weight' key, raises error\n",
       "          pass\n",
       "\n",
       "```\n",
       "\n",
       "2- Then at some point before closeing the session"
      ],
      "text/plain": [
       "<IPython.core.display.HTML object>"
      ]
     },
     "metadata": {},
     "output_type": "display_data"
    },
    {
     "name": "stdout",
     "output_type": "stream",
     "text": [
      "___________________________________\n",
      "2  step(s)\n",
      "0.4052734375\n",
      "0.6118164062\n"
     ]
    },
    {
     "data": {
      "text/html": [
       "Question: Some (software) engineers keep their job for very short periods of time, as if they have commitment issues.\n",
       "\n",
       "Some keep their job for too long, as if they're afraid to leave their safety zone.\n",
       "\n",
       "Is there a \"right\" number of years per job for a (software) engineer, or does it matter?\n",
       "\n",
       "Answer: 10<span style='background-color: red'>+</span><span style='background-color: green'>-</span> <span style='background-color: red'>Y</span><span style='background-color: green'>y</span>ears seems to be the norm, unless you are really unhappy where I think most would stay at least that amount before switching roles within an organisation/field so its not always a case of 'commitment issues'. If your happy with what you do then generally you will work well and produce good results - this is why some companies tend to retain staff once they reach senior positions even when things change around them, sometimes only because they can afford to lose people but also because they trust these individuals with specific areas & challenges. The longer someone has been in a role tends to bring a certain level of experience & knowledge which shouldnt just simply go away otherwise we end up losing all our key talent who know how everything works together! It takes many years to develop the right type of skills and understanding required to become excellent and although other factors such as ability may play into it having those skills still helps make sure we get better output rather than needing more training on something fundamental, it means less productivity lost from getting used to new environments and ways of working again etc.. Having said that though after several years being a junior can often lead to frustration due to limited progress opportunities, lack of exposure to lots of different aspects / types of tasks outside of what"
      ],
      "text/plain": [
       "<IPython.core.display.HTML object>"
      ]
     },
     "metadata": {},
     "output_type": "display_data"
    },
    {
     "name": "stdout",
     "output_type": "stream",
     "text": [
      "___________________________________\n",
      "1  step(s)\n",
      "-0.014465332000000001\n",
      "0.728515625\n"
     ]
    },
    {
     "data": {
      "text/html": [
       "Question: I have a class named FirstViewController which is a subclass of UIViewController and I have a UITableView in the class. I need to transition from this class to a new UIViewController subclass (using segues) when a row is pressed. \n",
       "\n",
       "I have made the FirstViewController the UITableViewDelegate and UITableViewDataSource using the code -\n",
       "\n",
       "```\n",
       "@interface FirstViewController : UIViewController <UITableViewDataSource, UITableViewDelegate>\n",
       "\n",
       "```\n",
       "\n",
       "I am getting an error on this line of code - \n",
       "\n",
       "```\n",
       "NSIndexPath *path = [self.tableView indexPathForSelectedRow];\n",
       "\n",
       "```\n",
       "\n",
       "How do I fix this problem since the tableView is found in UITableViewController and not in UIViewController class ?\n",
       "\n",
       "Edit - \n",
       "\n",
       "Here's the code related to my table view -\n",
       "\n",
       "```\n",
       "- (NSInteger)tableView:(UITableView *)tableView numberOfRowsInSection:(NSInteger)section{\n",
       "\n",
       "    return [sarray count];\n",
       "}\n",
       "\n",
       "- (UITableViewCell *)tableView:(UITableView *)tableView cellForRowAtIndexPath:(NSIndexPath *)indexPath{\n",
       "\n",
       "    static NSString *cellId = @\"Cell\";\n",
       "    UITableViewCell *cell = [tableView dequeueReusableCellWithIdentifier:cellId];\n",
       "\n",
       "    if(cell == nil){\n",
       "        cell = [[UITableViewCell alloc]initWithStyle:UITableViewCellStyleDefault reuseIdentifier:cellId];\n",
       "    }\n",
       "\n",
       "    NSString *text = [sarray objectAtIndex:[indexPath row]];\n",
       "    cell.textLabel.text = text;\n",
       "    return cell;\n",
       "}\n",
       "\n",
       "```\n",
       "\n",
       "Answer: 1. You can define your class as both `UIViewController` AND `UITableViewDelegate`. This gives you access to methods like `-tableView:numberOfRowsInSection:` etc... but then it doesn’t make sense to use a `segue`, because there isn’t any visual element or connection between them for the user. The reason we use these things is so that clicking somewhere will cause something to happen. Since you aren’t connecting anything visually with buttons/etc., what makes the user think they should be connected?\n",
       "2. If you really want to connect two classes together by doing a `segue` – and for some reason you actually MUST keep all the data inside one class even though that seems kinda weird… well then… don’t set up the delegate pattern at all! Just go ahead and declare it first thing like this:\n",
       "\n",
       "```\n",
       "#import \"FirstTableViewController.h\" // or whatever name your file has\n",
       "class FirstTableViewController : NSObject {\n",
       "   ...\n",
       "      self.delegate = YOUR_NEW_CLASS_NAME HERE!! // e.g.: SomeOtherClassThatNeedsToKnowAboutThisStuffThatIsntVeryVisibleButShouldBe<span style='background-color: red'>C</span><span style='background-color: green'> </span><span style='background-color: green'>c</span>on<span style='background-color: green'>c</span><span style='background-color: red'>n</span><span style='background-color: red'>e</span>"
      ],
      "text/plain": [
       "<IPython.core.display.HTML object>"
      ]
     },
     "metadata": {},
     "output_type": "display_data"
    },
    {
     "name": "stdout",
     "output_type": "stream",
     "text": [
      "___________________________________\n",
      "1  step(s)\n",
      "1.1767578125\n",
      "1.333984375\n"
     ]
    },
    {
     "data": {
      "text/html": [
       "Question: I'm running 64-bit Lion but I need to compile a 32-bit version of ffmpeg because another library I'm using is only available as 32-bit. I've tried a number of different configurations but they're all giving me errors. Here's what I've tried:\n",
       "\n",
       "> \n",
       "> ./configure --disable-static --enable-shared --disable-outdev=sdl --disable-bzlib --disable-libfreetype --disable-libopenjpeg --enable-zlib --enable-runtime-cpudetect --arch=i386 --extra-cflags=\"-arch i386\" --extra-ldflags=\"-arch i386\" --target-os=darwin --enable-cross-compile\n",
       "> \n",
       "> \n",
       "> ./configure --disable-static --enable-shared --disable-outdev=sdl --disable-bzlib --disable-libfreetype --disable-libopenjpeg --enable-zlib --enable-runtime-cpudetect --arch=i386 --extra-cflags=\"-arch i386\" --extra-ldflags=\"-arch i386\"\n",
       "> \n",
       "> \n",
       "> ./configure --disable-static --enable-shared --disable-outdev=sdl --disable-bzlib --disable-libfreetype --disable-libopenjpeg --enable-zlib --enable-runtime-cpudetect --arch=x86\\_32\n",
       "> \n",
       "> \n",
       "> \n",
       "\n",
       "I either get a \"ran out of registers during register allocation\" error during make or gcc complains that cross-compile is not active.\n",
       "\n",
       "Answer: 1) `--target-os` sets the target operating system for linking and runtime, it has nothing to do with compilation; you should use `--host`, instead (or even better, `-mcpu=`).\n",
       "2) You are compiling in 64 bit mode when you pass `--disable-outdev=sdl`. This makes no sense since Sdl does not work on Mac OS X anyway. It would be like saying \"Disable audio output by setting this flag.\" No amount of flags will change that fact :-)\n",
       "What it means here is simply that you enable sdl on your 32 Bit compiler (`--disable-outdev=sdl`). So just remove that parameter if you really want to link against Sdl. Otherwise please check again whether the configuration can successfully produce both an x86_32 and an amd64 build (which seems unlikely at first sight):\n",
       "\n",
       "```\n",
       "./configure -v --disable-shared \\\n",
       "   --enable-versioning                     \\\n",
       "   --prefix=/usr/local/ffmpeg           \\\n",
       "    --bindir=${PREFIX}/bin               \\\n",
       "    --sysconfdir=${PREFIX}/etc            \\<span style='background-color: red'>\n",
       "</span><span style='background-color: green'> </span><span style='background-color: green'> </span><span style='background-color: green'> </span>    --datadir=${PREFIX}/share             "
      ],
      "text/plain": [
       "<IPython.core.display.HTML object>"
      ]
     },
     "metadata": {},
     "output_type": "display_data"
    },
    {
     "name": "stdout",
     "output_type": "stream",
     "text": [
      "___________________________________\n",
      "1  step(s)\n",
      "-1.1787109375\n",
      "-1.142578125\n"
     ]
    },
    {
     "data": {
      "text/html": [
       "Question: I am not able to figure out the complexity of the below code. Though, I know the correct answer. Just wondering why is that so.\n",
       "\n",
       "```\n",
       "void main()\n",
       "{\n",
       "    int i, j, n, x;\n",
       "    for(i=0; i < n; i++)\n",
       "    {\n",
       "        for(j=0; j*j <= n; j++)\n",
       "        {\n",
       "           x=10;\n",
       "        }\n",
       "    }\n",
       "}\n",
       "\n",
       "```\n",
       "\n",
       "The complexity is O(n√n).\n",
       "\n",
       "Answer: 5 = (2 * 3) - (4); since you have given a hint that your method should only be using integer arithmetic and NOT a `*` operator we cannot use this shortcut! So:<span style='background-color: red'>\n",
       "</span><span style='background-color: green'> ",
       "</span>\n",
       "> \n",
       "> Since both indices are in range [2, 6], let's count up by 2 at each iteration:  \n",
       ">     (3-2) + (4+2), or 7 (since two index increases do not increase the sum). We can then reduce our loop condition to:\n",
       ">     7 >= 8 => true.\n",
       "> \n",
       "> \n",
       "> Here's an alternate way to think about it: Let's say all 9 of these pairs were valid. Then there would be a total of \\$9 \\choose 2\\$ possible pairs which could occur. Of those \\$9\\choose 2\\$, how many will fail? Well, if we take any one pair from among them, we see immediately that one number must be even while the other must be odd -- but every odd number exceeds 4, so none of these numbers can possibly equal 4. The remaining eight possibilities are shown above, with 'even / odd' beside each number as the appropriate combination"
      ],
      "text/plain": [
       "<IPython.core.display.HTML object>"
      ]
     },
     "metadata": {},
     "output_type": "display_data"
    },
    {
     "name": "stdout",
     "output_type": "stream",
     "text": [
      "___________________________________\n",
      "1  step(s)\n",
      "-0.1352539062\n",
      "0.008277893100000001\n"
     ]
    },
    {
     "data": {
      "text/html": [
       "Question: Help , How can you detect whenever the power cord is unplugged from electrical socket through Symbian OS ?\n",
       "\n",
       "Answer: 1<span style='background-color: red'>.</span><span style='background-color: green'>y</span><span style='background-color: green'>s</span><span style='background-color: green'>i</span><span style='background-color: green'>s</span>\n",
       "You cannot access a device's USB port, so it isn't possible to read its state on an Android/Symbian device (although if someone was desperate they might be able to work out how to enable it). The only way that this would become possible would be with root privileges and some code modification or JNI (Java) interfacing in order for your app to control a PC. There are other apps which do this but I don't think there are any standard ones built into stock devices yet - although since Nokia just announced their new \"open\" phones this may change soon!\n",
       "2.\n",
       "Alternatively you could write some kind of low-level service to run continuously and check whether the computer has lost contact with a particular process via UDP or something similar... I am not sure what would happen though as it wouldn't be an actual phone call going missing, rather than a TCP connection?\n",
       "3.\n",
       "If these things aren't feasible then all you should need to do is create another thread which monitors the `System` class for changes within a loop and periodically calls back to see if anything interesting has happened; perhaps even by sleeping itself between checks until it gets an"
      ],
      "text/plain": [
       "<IPython.core.display.HTML object>"
      ]
     },
     "metadata": {},
     "output_type": "display_data"
    },
    {
     "name": "stdout",
     "output_type": "stream",
     "text": [
      "___________________________________\n",
      "3  step(s)\n",
      "1.3232421875\n",
      "2.080078125\n"
     ]
    },
    {
     "data": {
      "text/html": [
       "Question: Im totally new to R, im working on some scripts for plotting some cheap barplot charts for my thesis. \n",
       "\n",
       "I have a file with portnumbers, one by line:\n",
       "\n",
       "```\n",
       "115\n",
       "220\n",
       "192\n",
       "196\n",
       "1433\n",
       "115\n",
       "220\n",
       "192\n",
       "196\n",
       "1433\n",
       "115\n",
       "220\n",
       "192\n",
       "196\n",
       "1433\n",
       "115\n",
       "220\n",
       "192\n",
       "196\n",
       "1433\n",
       "\n",
       "```\n",
       "\n",
       "now i want to plot this in a barplot\n",
       ".\n",
       "X-Axis: Occurences\n",
       "Y-Axis: Portnumber\n",
       "\n",
       "Here is my not working script. It would work, if the Numbers wouldn't be interpreted as Strings, i suppose, because it works with strings. How do i fix this?\n",
       "\n",
       "```\n",
       "#!/usr/bin/Rscript\n",
       "\n",
       "#barplot\n",
       "dat=read.table(\"data/ports.txt\", header=FALSE)\n",
       "plot(dat, col=c(\"#ccf0fe9f\"),horiz=TRUE,cex.names=0.5,las=1,width=5, xlab='Attacks')\n",
       "\n",
       "```\n",
       "\n",
       "when executing i get some very unrelated warnings.. so unrelated, i think it's of no use posting them in here.\n",
       "\n",
       "thanks in advance for any hints & help!\n",
       "\n",
       "EDIT: here are the warnings(sadly in german):\n",
       "\n",
       "```\n",
       "f00@localhost R$ ./ports.r \n",
       "There were 18 warnings (use warnings() to see them)\n",
       "Warnmeldungen:\n",
       "1: In plot.window(...) : \"horiz\" ist kein Grafikparameter\n",
       "2: In plot.window(...) : \"cex.names\" ist kein Grafikparameter\n",
       "3: In plot.window(...) : \"width\" ist kein Grafikparameter\n",
       "4: In plot.xy(xy, type, ...) : \"horiz\" ist kein Grafikparameter\n",
       "5: In plot.xy(xy, type, ...) : \"cex.names\" ist kein Grafikparameter\n",
       "6: In plot.xy(xy, type, ...) : \"width\" ist kein Grafikparameter\n",
       "7: In axis(side = side, at = at, labels = labels, ...) :\n",
       "  \"horiz\" ist kein Grafikparameter\n",
       "8: In axis(side = side, at = at, labels = labels, ...) :\n",
       "  \"cex.names\" ist kein Grafikparameter\n",
       "9: In axis(side = side, at = at, labels = labels, ...) :\n",
       "  \"width\" ist kein Grafikparameter\n",
       "10: In axis(side = side, at = at, labels = labels, ...) :\n",
       "  \"horiz\" ist kein Grafikparameter\n",
       "11: In axis(side = side, at = at, labels = labels, ...) :\n",
       "  \"cex.names\" ist kein Grafikparameter\n",
       "12: In axis(side = side, at = at, labels = labels, ...) :\n",
       "  \"width\" ist kein Grafikparameter\n",
       "13: In box(...) : \"horiz\" ist kein Grafikparameter\n",
       "14: In box(...) : \"cex.names\" ist kein Grafikparameter\n",
       "15: In box(...) : \"width\" ist kein Grafikparameter\n",
       "16: In title(...) : \"horiz\" ist kein Grafikparameter\n",
       "17: In title(...) : \"cex.names\" ist kein Grafikparameter\n",
       "18: In title(...) : \"width\" ist kein Grafikparameter\n",
       "\n",
       "```\n",
       "\n",
       "Answer: 1.) There is nothing wrong with having a string argument instead of an integer argument within `plot`.\n",
       "\n",
       "2.) There is also nothing wrong with passing a vector rather than individual arguments, e.g.:\n",
       "\n",
       "```\n",
       "plot(replicate(nrow(dat), dat[,i]),\n",
       "      col=c('#ccf0fe9f'), horiz = TRUE, cex.names=0.5, las = 1, width = ncol(dat))\n",
       "\n",
       "```\n",
       "\n",
       "That said, what you really want to do *is* pass separate data elements individually -- this allows you to control how many bars there should actually be. For example, since each element is only unique once...\n",
       "\n",
       "```\n",
       "plot(rep(as.integer(sort(unique(unlist(dat)))[-1]) + 1, length.out = length(unlist(dat)),\n",
       "     varargin = list(), vert = FALSE) ~ col(.y))\n",
       "                               # or better yet ...    ^^^^^^             .y\n",
       "                               # but note that this isn't necessary              :)\n",
       "\n",
       "```\n",
       "\n",
       "[![enter image description here](https://i.stack.<span style='background-color: red'>i</span><span style='background-color: red'>m</span><span style='background-color: red'>g</span><span style='background-color: red'>u</span><span style='background-color: green'> </span><span style='background-color: green'>O</span><span style='background-color: green'>x</span><span style='background-color: green'>f</span><span style='background-color: green'>o</span>r<span style='background-color: green'>d</span>.com/KHv"
      ],
      "text/plain": [
       "<IPython.core.display.HTML object>"
      ]
     },
     "metadata": {},
     "output_type": "display_data"
    },
    {
     "name": "stdout",
     "output_type": "stream",
     "text": [
      "___________________________________\n",
      "3  step(s)\n",
      "1.037109375\n",
      "1.10546875\n"
     ]
    },
    {
     "data": {
      "text/html": [
       "Question: I have the below program for inserting node in bst\n",
       "\n",
       "```\n",
       "#include <stdio.h>\n",
       "#include <stdlib.h>\n",
       "\n",
       "struct node {\n",
       "    int key;\n",
       "    struct node * left;\n",
       "    struct node * right;\n",
       "};\n",
       "\n",
       "struct node * insert(struct node *,int);\n",
       "\n",
       "int main( int argc, const char *argv[]){\n",
       "    struct node *root= malloc(sizeof(struct node ));\n",
       "\n",
       "    int x;\n",
       "\n",
       "    if(root==NULL){\n",
       "        printf(\"mem error\"); \n",
       "        return;\n",
       "    }\n",
       "    root=NULL;\n",
       "\n",
       "    while(1){\n",
       "        fprintf(stdout, \"Enter the value of data\\n\" );\n",
       "        fscanf(stdin,\"%d\",&x);\n",
       "        root=insert(root,x);\n",
       "\n",
       "    }\n",
       "\n",
       "}\n",
       "\n",
       "struct node * insert(struct node * root, int data ){\n",
       "\n",
       "    if(root==NULL){\n",
       "       struct node *root= malloc(sizeof(struct node ));\n",
       "       root->key = data;\n",
       "       printf(\"hiii\\n\");\n",
       "       root->left = NULL;\n",
       "       root->right = NULL;\n",
       "       return root;\n",
       "    }else{\n",
       "       if(root->key >= data){\n",
       "          root->left = insert(root->left,data);\n",
       "       }else if(root->key <= data){\n",
       "          root->right = insert(root->right,data);\n",
       "       }\n",
       "       return root;\n",
       "    }\n",
       "}\n",
       "\n",
       "```\n",
       "\n",
       "it runs fine.. but if I comment the malloc line in insert function..it gives me a segmentation fault after taking the first value. what is going on here??\n",
       "\n",
       "Answer: 1. You are calling `insert` with an argument that points to nowhere. The pointer you pass to it should point at some memory location where `root` can be stored and initialized (but not overwritten). Your code does so only once when `main<span style='background-color: red'>(</span><span style='background-color: red'>)</span>` calls it -- this is sufficient because your call from `main<span style='background-color: red'>(</span><span style='background-color: red'>)</span>` has already taken care of allocating space. However, the next time around, you don't set any pointers anywhere anymore! The second call of `insert` will overwrite whatever was last assigned there by `malloc`, which may well lead to undefined behavior. And indeed: when compiling using GCC without optimization (`-O0`), it doesn't even warn about overwriting something else's previously valid heap storage, whereas [with optimization enabled](https://stackoverflow.com/questions/6532847), such warnings appear quite consistently whenever someone uses `free`. Since the heap storage used by other functions as arguments isn't guaranteed to persist between invocations unless specifically told so by their caller, you must ensure each local variable has its own separate heap store, i.e., by passing all variables through appropriate pointers into functions whose sole purpose is handling those specific parameters.<span style='background-color: red'>\n",
       "</span><span style='background-color: green'> </span><span style='background-color: green'>\\</span>2. The same problem applies"
      ],
      "text/plain": [
       "<IPython.core.display.HTML object>"
      ]
     },
     "metadata": {},
     "output_type": "display_data"
    },
    {
     "name": "stdout",
     "output_type": "stream",
     "text": [
      "___________________________________\n",
      "1  step(s)\n",
      "1.4521484375\n",
      "1.5146484375\n"
     ]
    },
    {
     "data": {
      "text/html": [
       "Question: I have a simple algorithm problem but couldn't find a proper solution. There is an array and I just want to add an item in the array if the property of `recipe_id` is not the same in any objects `recipe_id` property value in the Array. \n",
       "\n",
       "I want to prevent any item to add if it has the same property value. If the value of the property is different then it is ok. Thus all the objects in the Recipes array should have different `recipe_id` values. I write these code but it seems it's not working correctly\n",
       "\n",
       "here is JSBin link : [link](https://jsbin.com/fecerezoze/1/edit?js,console)\n",
       "\n",
       "```\n",
       "   const Recipes =[\n",
       "  {recipe_id:4},\n",
       "  {recipe_id:5}\n",
       "]\n",
       "\n",
       "onClickedHandler = (recipe_id) => {\n",
       "\n",
       "            const favData = {\n",
       "                recipe_id: recipe_id,\n",
       "            }\n",
       "            if (Recipes.length > 0) {\n",
       "                for (let item in Recipes) {\n",
       "                    if (Recipes[item].recipe_id !== recipe_id) {\n",
       "                        console.log(\"added in the loop!\")\n",
       "                        Recipes.push(item)\n",
       "\n",
       "                    } else {\n",
       "                        console.log(\"it is already in the Recipe list!\")\n",
       "                    }\n",
       "                }\n",
       "            } else {\n",
       "              console.log(\"Recipes is empty\")\n",
       "                 Recipes.push({recipe_id:recipe_id})\n",
       "            }\n",
       "\n",
       "    }\n",
       "  onClickedHandler(9)\n",
       "  console.log(Recipes.length)\n",
       "\n",
       "```\n",
       "\n",
       "Answer: 1. Your object is called `click`, so rename your function accordingly: \n",
       "\n",
       "2. The issue here appears to be that you don't set `click.value`. You can do this with the following line at some point before invoking the function as follows:\n",
       "\n",
       "```javascript\n",
       "<input onChange=\"click=this;\" type='checkbox'>\n",
       "<!-- ... -->\n",
       "const click = <your-object>;\n",
       "// etc...\n",
       "\n",
       "```\n",
       "\n",
       "3. Then inside the handler itself you use the new `click` variable by calling its `.checked` method like so:\n",
       "\n",
       "```javascript\n",
       "function handle() {\r\n",
       "  // …\r\n",
       "  console.log('click is ' + !!click.checked);\r\n",
       "}\r\n",
       "handle();\r\n",
       "</script> \r\n",
       "<!-- ... -->\n",
       "<label><!-- ... --></label>\r\n",
       "\n",
       "```\n",
       "\n",
       "---\n",
       "\n",
       "![enter image description here](https://i.stack.imgur.com/v8XgM.png)\n",
       "\n",
       "Here are the changes required relative to your original implementation:\n",
       "\n",
       "* Move assignment from within the call back into global scope or passed directly into the callback:\n",
       "\n",
       "```html\n",
       "var click;       /* added */\r\n",
       "<span style='background-color: red'>\n",
       "</span><span style='background-color: green'>)</span><span style='background-color: green'>]</span>onChange=\""
      ],
      "text/plain": [
       "<IPython.core.display.HTML object>"
      ]
     },
     "metadata": {},
     "output_type": "display_data"
    },
    {
     "name": "stdout",
     "output_type": "stream",
     "text": [
      "___________________________________\n",
      "2  step(s)\n",
      "0.4111328125\n",
      "0.875\n"
     ]
    },
    {
     "data": {
      "text/html": [
       "Question: As you can see the new design just went live. Which means this site has been officially launched! Congratulations! Thank you for your valuable [design feedback](https://mathematica.meta.stackexchange.com/questions/547/design-for-mathematica-se).\n",
       "\n",
       "One thing you may notice that's different on the live site from my original design mockups is the logo change.\n",
       "\n",
       "![enter image description here](https://i.stack.imgur.com/p9vWy.png)\n",
       "\n",
       "vs\n",
       "\n",
       "![enter image description here](https://i.stack.imgur.com/r03mF.png)\n",
       "\n",
       "The logo mark and logo type needed to be tweaked to be compliant to WRI's legal request. I believe the newer logo looks great too! \n",
       "\n",
       "If you're still seeing the old favicons, please load the follow urls and do a hard browser refresh.\n",
       "\n",
       "[Main site favicon](http://cdn.sstatic.net/mathematica/img/favicon.ico)\n",
       "\n",
       "[Meta site favicon](http://cdn.sstatic.net/mathematicameta/img/favicon.ico)\n",
       "\n",
       "We have also themed the [chatroom](http://chat.stackexchange.com/rooms/2234/mathematica), [twitter account](https://twitter.com/StackMma) and email newsletter template for this site.\n",
       "\n",
       "If you see any CSS/styling bugs, please start a new post here on Meta and tag it with design and bug.\n",
       "\n",
       "Congrats on the launch and thank you for being an awesome community! I really appreciate all the help you provided during this design process!\n",
       "\n",
       "Answer: 1) I don't think we should use the `Mathematics` logo. It doesn't look good in small sizes (it gets pixelated like crazy when downscaled; even as large icon); while it does seem to stand out among other logos at larger scale, which isn't necessarily what we want... And there are also issues related to the font used - e.g., if Mathematical operators are included in certain names of SE sites or in certain parts of their URLs, the math part will break because of the difference between \"U+\" vs \"-\" characters.\n",
       "\n",
       "**UPDATE:** Also note that the 'a' character won't render correctly using MathJax without some extra workarounds, so it might not display well if used elsewhere than just as an icon. **This is very important since we need it to show up in every Stack Exchange page (even ones where it makes no sense)...** See below how the 'a' renders now when you apply the following code snippet in <head>:\n",
       "\n",
       "```\n",
       "<script src=\"//code.jquery.com/jquery.min.js\"></script> <!-- Required jQuery -->\r\n",
       "    <script type='text/javascript<span style='background-color: red'>'</span><span style='background-color: green'>\"</span>><span style='background-color: green'><</span> <span style='background-color: red'>\r",
       "</span>"
      ],
      "text/plain": [
       "<IPython.core.display.HTML object>"
      ]
     },
     "metadata": {},
     "output_type": "display_data"
    },
    {
     "name": "stdout",
     "output_type": "stream",
     "text": [
      "___________________________________\n",
      "4  step(s)\n",
      "0.1202392578\n",
      "1.0087890625\n"
     ]
    },
    {
     "data": {
      "text/html": [
       "Question: I want to avoid using casting base class type to derived class type I can do this successfully If I want to access generic functionality but if I want specialised functionality I cant access this without casting\n",
       "\n",
       "I have written code to demonstrate what I've already tried. \n",
       "\n",
       "```cs\n",
       "public abstract class Animal : IAnimal\n",
       "{\n",
       "    public void Move()\n",
       "    {        \n",
       "    }\n",
       "}\n",
       "\n",
       "public interface IAnimal\n",
       "{\n",
       "     void Move();\n",
       "}\n",
       "\n",
       "public interface IDog:IAnimal\n",
       "{\n",
       "    void bark();\n",
       "}\n",
       "\n",
       "public class Dog : IDog\n",
       "{\n",
       "    public void Move()\n",
       "    {\n",
       "\n",
       "    }\n",
       "\n",
       "    public void bark()\n",
       "    {\n",
       "\n",
       "    }\n",
       "}\n",
       "\n",
       "static void Main(string[] args)\n",
       "{\n",
       "    Animal animal = null;\n",
       "    IDog dog = animal as IDog;\n",
       "\n",
       "    dog.bark(); // can access specialized method\n",
       "\n",
       "    IAnimal puppy = new Dog();\n",
       "    puppy.Move(); // can only access generic functions    \n",
       "}\n",
       "\n",
       "```\n",
       "\n",
       "How can I re-design classes to access \"bark\" method without casting?\n",
       "\n",
       "Answer: 1.) `as` will give a runtime exception in case you cast an instance of `Dog` into an object that isn't subtype for `IDog`. So, it is possible - and in fact quite common - to pass the wrong types around and get errors at run time because of it (though not necessarily with your specific example). What happens when you attempt this depends on whether or not you are using .NET Core / Framework. For more details see [this question](https://stackoverflow.com/q/30984762/).\n",
       "\n",
       "2.) You say \"without using casting\". This however does require some kind of casting mechanism in order to work properly:\n",
       "\n",
       "* Type coercion *must* happen to be able to perform implicit conversions between instances of related structs, interfaces etc., which allows one to refer to them interchangeably. Otherwise we would need an explicit conversion operator (which exists in C#). However, since these are still value types, reference equality doesn't apply anymore unless both variables use the same address space ([more info here](http://msdn.microsoft.com/en-us/library/ms228589%28v=<span style='background-color: red'>v</span><span style='background-color: red'>s</span><span style='background-color: green'>B</span><span style='background-color: green'>o</span><span style='background-color: green'>x</span>.<span style='background-color: red'>9</span><span style='background-color: red'>0</span><span style='background-color: green'>8</span><span style='background-color: green'> </span><span style='background-color: green'>W</span><span style='background-color: green'>u</span>"
      ],
      "text/plain": [
       "<IPython.core.display.HTML object>"
      ]
     },
     "metadata": {},
     "output_type": "display_data"
    },
    {
     "name": "stdout",
     "output_type": "stream",
     "text": [
      "___________________________________\n",
      "3  step(s)\n",
      "-0.822265625\n",
      "0.08251953120000001\n"
     ]
    },
    {
     "data": {
      "text/html": [
       "Question: A man throws three fair dice and observes the number on the top face of each. Find the probabilities that:\n",
       "\n",
       "1. All the three numbers are different?\n",
       "$\\Large\\frac{6\\times5\\times4}{6^3}$\n",
       "2. All the three numbers are the same?\n",
       "$\\Large\\frac{6}{6^3}$\n",
       "3. Prove that the probability that: only two of the three numbers are the same is $\\Large\\frac{5}{12}$?  \n",
       "\n",
       "$\\Large\\frac{18}{6^3}$\n",
       "\n",
       "Part three is bit confusing as it says only $2$. I suppose that either first throw & second throw, or first throw & third throw, or second throw & third throw\n",
       "\n",
       "Answer: 1. If all dice have a different number then there must be at least one unique number between them otherwise they would all be equal. This means we're not looking for any particular combination but rather just the case where none happen to match. So this should be 0/6 instead of what you say above (you need to make sure to exclude both combinations). Then the total becomes 6/(6^3) which was your original answer.\n",
       "[![enter image description here](https://i.stack.imgur.com/EZRcI.jpg)](https://i.stack.imgur.com/EZRcI.jpg)\n",
       "<span style='background-color: red'>\n",
       "</span><span style='background-color: green'>*</span><span style='background-color: green'>*</span>So by using my method below with exactly why it works you can see how this makes sense - and also how it applies to part 2 since the same reasoning holds true.\n",
       "2. Again this isn’t something specific so we don’t even know if it happens in fact! The trick here is that we want to count twice those cases when we have one duplicate die – because we could have had more than one duplicated die in our previous example. But we’ll start counting once again from scratch to show the effect it has on the other counts:\n",
       "\n",
       "Firstly<span style='background-color: red'>,</span><span style='background-color: green'> </span><span style='background-color: green'>K</span><span style='background-color: green'>h</span>"
      ],
      "text/plain": [
       "<IPython.core.display.HTML object>"
      ]
     },
     "metadata": {},
     "output_type": "display_data"
    },
    {
     "name": "stdout",
     "output_type": "stream",
     "text": [
      "___________________________________\n",
      "2  step(s)\n",
      "0.0351867676\n",
      "0.1667480469\n"
     ]
    },
    {
     "data": {
      "text/html": [
       "Question: I'm pretty new to the world of RSpec. I'm writing a RubyGem that deals with a list of files within a specified directory and any sub-directories. Specifically, it will use `Find.find` and append the files to an Array for later output.\n",
       "\n",
       "I'd like to write a spec to test this behaviour but don't really know where to start in terms of faking a directory of files and stubbing `Find.find` etc. This is what little I have so far:\n",
       "\n",
       "```\n",
       "it \"should return a list of files within the specified directory\" do\n",
       "end\n",
       "\n",
       "```\n",
       "\n",
       "Any help much appreciated!\n",
       "\n",
       "Answer: 1) You can set a file by simply doing *file*. It won't actually save anything to your filesystem though. That requires either calling IO#write or just setting it to nil if you want to remove/delete it from disk. To simulate changes on your filesystem try something along these lines (the following assumes your test suite runs under rspec):<span style='background-color: red'>\n",
       "</span><span style='background-color: green'>.</span><span style='background-color: green'>(</span>2) You could just call \"puts\" to get some text printed out to stdout (i.e., STDOUT), e.g.:\n",
       "3) As already mentioned, there are lots of ways to achieve this - the simplest being probably using FileUtils which offers easy methods such as open(path). Here's one way you might be able to test it in isolation...\n",
       "4) If you only care about reading stuff rather than changing things, then perhaps even simpler still would be a stubbed/fake IO object, i.e.:\n",
       "5) The code above should print:\n",
       "\n",
       "* One\n",
       "* Two\n",
       "* Three\n",
       "* Four\n",
       "* Five\n",
       "6) So, here we see we indeed wrote two new files into our simulated working directory - cool :) Now <span style='background-color: red'>l</span><span style='background-color: green'>h</span><span style='background-color: green'>a</span><span style='background-color: green'>v</span>e<span style='background-color: red'>t</span><span style='background-color: green'>n</span>'s look at how we can test this code without having access to the filesystem via r"
      ],
      "text/plain": [
       "<IPython.core.display.HTML object>"
      ]
     },
     "metadata": {},
     "output_type": "display_data"
    },
    {
     "name": "stdout",
     "output_type": "stream",
     "text": [
      "___________________________________\n",
      "2  step(s)\n",
      "0.2802734375\n",
      "0.4331054688\n"
     ]
    },
    {
     "data": {
      "text/html": [
       "Question: I know that lower data types are cast into higher data types (e.g. int -> unsigned int -> float -> etc.) but I'm unsure of the following:\n",
       "\n",
       "```\n",
       "int var = 5u - 10; // var = -5\n",
       "auto var = 5u - 10; // var = 4294967291\n",
       "\n",
       "```\n",
       "\n",
       "5u is unsigned but in the first case why -10 (signed integer) isn't converted to unsigned value while in the second case it does? In the first case the signed value isn't converted to an unsigned one and this is odd to me\n",
       "\n",
       "Answer: 1.`var` is `unsigned`, so you're doing arithmetic on a different type, i.e., `char`. The result is a `long long` (`LL`). A conversion from `short` or `int` will not take place because there was no implicit narrowing conversions involved here, just shifts by `sizeof(unsigned)`. So even if there would be such a thing as converting a char to an unsigned short, your compiler probably doesn’t have support for such operations due to lack of supporting hardware. You can verify with the `-Wconversion`:\n",
       "\n",
       "![enter image description here](https://i.stack.imgur.com/3hTcC.png)\n",
       "\n",
       "However, the code compiles without errors in GCC-8:<https://god<span style='background-color: green'>c</span><span style='background-color: green'>M</span><span style='background-color: green'>T</span><span style='background-color: red'>b</span><span style='background-color: red'>o</span><span style='background-color: red'>l</span><span style='background-color: red'>t</span>.org/#z:OYLghAFBqd5QCxAYwPYBMCmBRdBLAF1QCcAECOAgIwGYQLpjrGkEblQEwDsXJxEALASHAZ0ACgCaVoNARbMMAKUAbgRHlQaWCqY4ANnv+"
      ],
      "text/plain": [
       "<IPython.core.display.HTML object>"
      ]
     },
     "metadata": {},
     "output_type": "display_data"
    },
    {
     "name": "stdout",
     "output_type": "stream",
     "text": [
      "___________________________________\n"
     ]
    },
    {
     "ename": "IndexError",
     "evalue": "single positional indexer is out-of-bounds",
     "output_type": "error",
     "traceback": [
      "\u001b[0;31m---------------------------------------------------------------------------\u001b[0m",
      "\u001b[0;31mIndexError\u001b[0m                                Traceback (most recent call last)",
      "Cell \u001b[0;32mIn[69], line 3\u001b[0m\n\u001b[1;32m      1\u001b[0m \u001b[38;5;28;01mfor\u001b[39;00m i \u001b[38;5;129;01min\u001b[39;00m \u001b[38;5;28mrange\u001b[39m(\u001b[38;5;241m0\u001b[39m, \u001b[38;5;241m50\u001b[39m):\n\u001b[1;32m      2\u001b[0m     \u001b[38;5;28mprint\u001b[39m(\u001b[38;5;124m\"\u001b[39m\u001b[38;5;124m___________________________________\u001b[39m\u001b[38;5;124m\"\u001b[39m)\n\u001b[0;32m----> 3\u001b[0m     \u001b[43mdiff_ind\u001b[49m\u001b[43m(\u001b[49m\u001b[43morig_hacks\u001b[49m\u001b[43m[\u001b[49m\u001b[38;5;124;43m'\u001b[39;49m\u001b[38;5;124;43mmix_sft\u001b[39;49m\u001b[38;5;124;43m'\u001b[39;49m\u001b[43m]\u001b[49m\u001b[43m,\u001b[49m\u001b[43m \u001b[49m\u001b[43mi\u001b[49m\u001b[43m)\u001b[49m\n",
      "Cell \u001b[0;32mIn[48], line 2\u001b[0m, in \u001b[0;36mdiff_ind\u001b[0;34m(indf, ind)\u001b[0m\n\u001b[1;32m      1\u001b[0m \u001b[38;5;28;01mdef\u001b[39;00m \u001b[38;5;21mdiff_ind\u001b[39m(indf, ind):\n\u001b[0;32m----> 2\u001b[0m     row \u001b[38;5;241m=\u001b[39m \u001b[43mhackdf\u001b[49m\u001b[43m(\u001b[49m\u001b[43mindf\u001b[49m\u001b[43m)\u001b[49m\u001b[38;5;241;43m.\u001b[39;49m\u001b[43miloc\u001b[49m\u001b[43m[\u001b[49m\u001b[43mind\u001b[49m\u001b[43m]\u001b[49m\n\u001b[1;32m      3\u001b[0m     \u001b[38;5;28mprint\u001b[39m(\u001b[38;5;28mlen\u001b[39m(row\u001b[38;5;241m.\u001b[39mbestseqs), \u001b[38;5;124m\"\u001b[39m\u001b[38;5;124m step(s)\u001b[39m\u001b[38;5;124m\"\u001b[39m)\n\u001b[1;32m      4\u001b[0m     \u001b[38;5;28mprint\u001b[39m(row\u001b[38;5;241m.\u001b[39morigsco)\n",
      "File \u001b[0;32m~/miniconda3/envs/rlenv/lib/python3.9/site-packages/pandas/core/indexing.py:1103\u001b[0m, in \u001b[0;36m_LocationIndexer.__getitem__\u001b[0;34m(self, key)\u001b[0m\n\u001b[1;32m   1100\u001b[0m axis \u001b[38;5;241m=\u001b[39m \u001b[38;5;28mself\u001b[39m\u001b[38;5;241m.\u001b[39maxis \u001b[38;5;129;01mor\u001b[39;00m \u001b[38;5;241m0\u001b[39m\n\u001b[1;32m   1102\u001b[0m maybe_callable \u001b[38;5;241m=\u001b[39m com\u001b[38;5;241m.\u001b[39mapply_if_callable(key, \u001b[38;5;28mself\u001b[39m\u001b[38;5;241m.\u001b[39mobj)\n\u001b[0;32m-> 1103\u001b[0m \u001b[38;5;28;01mreturn\u001b[39;00m \u001b[38;5;28;43mself\u001b[39;49m\u001b[38;5;241;43m.\u001b[39;49m\u001b[43m_getitem_axis\u001b[49m\u001b[43m(\u001b[49m\u001b[43mmaybe_callable\u001b[49m\u001b[43m,\u001b[49m\u001b[43m \u001b[49m\u001b[43maxis\u001b[49m\u001b[38;5;241;43m=\u001b[39;49m\u001b[43maxis\u001b[49m\u001b[43m)\u001b[49m\n",
      "File \u001b[0;32m~/miniconda3/envs/rlenv/lib/python3.9/site-packages/pandas/core/indexing.py:1656\u001b[0m, in \u001b[0;36m_iLocIndexer._getitem_axis\u001b[0;34m(self, key, axis)\u001b[0m\n\u001b[1;32m   1653\u001b[0m     \u001b[38;5;28;01mraise\u001b[39;00m \u001b[38;5;167;01mTypeError\u001b[39;00m(\u001b[38;5;124m\"\u001b[39m\u001b[38;5;124mCannot index by location index with a non-integer key\u001b[39m\u001b[38;5;124m\"\u001b[39m)\n\u001b[1;32m   1655\u001b[0m \u001b[38;5;66;03m# validate the location\u001b[39;00m\n\u001b[0;32m-> 1656\u001b[0m \u001b[38;5;28;43mself\u001b[39;49m\u001b[38;5;241;43m.\u001b[39;49m\u001b[43m_validate_integer\u001b[49m\u001b[43m(\u001b[49m\u001b[43mkey\u001b[49m\u001b[43m,\u001b[49m\u001b[43m \u001b[49m\u001b[43maxis\u001b[49m\u001b[43m)\u001b[49m\n\u001b[1;32m   1658\u001b[0m \u001b[38;5;28;01mreturn\u001b[39;00m \u001b[38;5;28mself\u001b[39m\u001b[38;5;241m.\u001b[39mobj\u001b[38;5;241m.\u001b[39m_ixs(key, axis\u001b[38;5;241m=\u001b[39maxis)\n",
      "File \u001b[0;32m~/miniconda3/envs/rlenv/lib/python3.9/site-packages/pandas/core/indexing.py:1589\u001b[0m, in \u001b[0;36m_iLocIndexer._validate_integer\u001b[0;34m(self, key, axis)\u001b[0m\n\u001b[1;32m   1587\u001b[0m len_axis \u001b[38;5;241m=\u001b[39m \u001b[38;5;28mlen\u001b[39m(\u001b[38;5;28mself\u001b[39m\u001b[38;5;241m.\u001b[39mobj\u001b[38;5;241m.\u001b[39m_get_axis(axis))\n\u001b[1;32m   1588\u001b[0m \u001b[38;5;28;01mif\u001b[39;00m key \u001b[38;5;241m>\u001b[39m\u001b[38;5;241m=\u001b[39m len_axis \u001b[38;5;129;01mor\u001b[39;00m key \u001b[38;5;241m<\u001b[39m \u001b[38;5;241m-\u001b[39mlen_axis:\n\u001b[0;32m-> 1589\u001b[0m     \u001b[38;5;28;01mraise\u001b[39;00m \u001b[38;5;167;01mIndexError\u001b[39;00m(\u001b[38;5;124m\"\u001b[39m\u001b[38;5;124msingle positional indexer is out-of-bounds\u001b[39m\u001b[38;5;124m\"\u001b[39m)\n",
      "\u001b[0;31mIndexError\u001b[0m: single positional indexer is out-of-bounds"
     ]
    }
   ],
   "source": [
    "for i in range(0, 50):\n",
    "    print(\"___________________________________\")\n",
    "    diff_ind(orig_hacks['mix_sft'], i)"
   ]
  },
  {
   "cell_type": "code",
   "execution_count": 15,
   "id": "ef9c89fe-a890-4f03-bf81-298e3148f8f3",
   "metadata": {},
   "outputs": [],
   "source": [
    "# more stuff, specifically we are trying to see if the adversarial models are actually helpful"
   ]
  },
  {
   "cell_type": "code",
   "execution_count": 16,
   "id": "b6bc1deb-642c-43d9-8b1a-689b4cb420be",
   "metadata": {},
   "outputs": [],
   "source": [
    "adv_hacks = load_all_hackdfs(\"../rm-attacks/attackouts/reprodcheck/\")"
   ]
  },
  {
   "cell_type": "code",
   "execution_count": 20,
   "id": "42dce40a-f104-4a98-9d96-4a93281516c7",
   "metadata": {},
   "outputs": [
    {
     "data": {
      "text/plain": [
       "0.19390857716197915"
      ]
     },
     "execution_count": 20,
     "metadata": {},
     "output_type": "execute_result"
    }
   ],
   "source": [
    "adv_hacks['advdaboth']['diff'].mean()"
   ]
  },
  {
   "cell_type": "code",
   "execution_count": 21,
   "id": "4761dd71-f140-49ba-ba28-681f11ee2744",
   "metadata": {},
   "outputs": [],
   "source": [
    "origdf = pd.read_json(\"../outputs/augdata/augstackv1.jsonl\", orient='records', lines=True)"
   ]
  },
  {
   "cell_type": "code",
   "execution_count": 22,
   "id": "3976a7f7-6865-41d2-a43a-d81880273fe1",
   "metadata": {},
   "outputs": [
    {
     "data": {
      "text/html": [
       "<div>\n",
       "<style scoped>\n",
       "    .dataframe tbody tr th:only-of-type {\n",
       "        vertical-align: middle;\n",
       "    }\n",
       "\n",
       "    .dataframe tbody tr th {\n",
       "        vertical-align: top;\n",
       "    }\n",
       "\n",
       "    .dataframe thead th {\n",
       "        text-align: right;\n",
       "    }\n",
       "</style>\n",
       "<table border=\"1\" class=\"dataframe\">\n",
       "  <thead>\n",
       "    <tr style=\"text-align: right;\">\n",
       "      <th></th>\n",
       "      <th>question</th>\n",
       "      <th>response_j</th>\n",
       "      <th>response_k</th>\n",
       "    </tr>\n",
       "  </thead>\n",
       "  <tbody>\n",
       "    <tr>\n",
       "      <th>0</th>\n",
       "      <td>Following code:\\n\\n```\\nmodule MyServerAPI\\n  ...</td>\n",
       "      <td>I imagine it should ([\\n\\n```\\n raise BaseExc...</td>\n",
       "      <td>I imagine it should be\\n\\n```\\n raise BaseExc...</td>\n",
       "    </tr>\n",
       "    <tr>\n",
       "      <th>1</th>\n",
       "      <td>What advantages did the founding fathers see i...</td>\n",
       "      <td>One element overrode everything else, and it ...</td>\n",
       "      <td>One element overrode everything else, and it ...</td>\n",
       "    </tr>\n",
       "    <tr>\n",
       "      <th>2</th>\n",
       "      <td>I would like to do if else statement for Spinn...</td>\n",
       "      <td>Try this:\\n\\nAdd array like \"Select Month\",\"j...</td>\n",
       "      <td>Try this:\\n\\nAdd array like \"Select Month\",\"j...</td>\n",
       "    </tr>\n",
       "    <tr>\n",
       "      <th>3</th>\n",
       "      <td>I'm developing an iPhone app. In a label, I wa...</td>\n",
       "      <td>(2014-07-24: Currently accepted answer is not...</td>\n",
       "      <td>(2014-07-24: Currently accepted answer is not...</td>\n",
       "    </tr>\n",
       "    <tr>\n",
       "      <th>4</th>\n",
       "      <td>For example: Fannie Mae went up ~20% today, Fe...</td>\n",
       "      <td>At any moment, the price is where the supply ...</td>\n",
       "      <td>At any moment, the price is where the supply ...</td>\n",
       "    </tr>\n",
       "    <tr>\n",
       "      <th>...</th>\n",
       "      <td>...</td>\n",
       "      <td>...</td>\n",
       "      <td>...</td>\n",
       "    </tr>\n",
       "    <tr>\n",
       "      <th>4779</th>\n",
       "      <td>I'm writing a monitoring service that uses WMI...</td>\n",
       "      <td>The following works on Window 2003 R2 SP 2, W...</td>\n",
       "      <td>The following works on Window 2003 R2 SP 2, W...</td>\n",
       "    </tr>\n",
       "    <tr>\n",
       "      <th>4780</th>\n",
       "      <td>DOMNodeInserted is known to make dynamic pages...</td>\n",
       "      <td>One new alternative that @naugtur briefly men...</td>\n",
       "      <td>New new alternative that @naugtur briefly men...</td>\n",
       "    </tr>\n",
       "    <tr>\n",
       "      <th>4781</th>\n",
       "      <td>```css\\n.rectangle {\\r\\n    width: 420px;\\r\\n ...</td>\n",
       "      <td>use `font-size:0` to parent element</td>\n",
       "      <td>(` ` Pérez-size:0` to parent element</td>\n",
       "    </tr>\n",
       "    <tr>\n",
       "      <th>4782</th>\n",
       "      <td>I'm loading a bunch of UIImages (that are loca...</td>\n",
       "      <td>[`imageNamed:`](http://developer.apple.com/li...</td>\n",
       "      <td>[`imageNamed:`](http://developer.apple.com/li...</td>\n",
       "    </tr>\n",
       "    <tr>\n",
       "      <th>4783</th>\n",
       "      <td>I am trying to close a div when a checkbox is ...</td>\n",
       "      <td>You miss the column Name before between.\\n\\nS...</td>\n",
       "      <td>You miss the column Name before between.\\n\\n ...</td>\n",
       "    </tr>\n",
       "  </tbody>\n",
       "</table>\n",
       "<p>4784 rows × 3 columns</p>\n",
       "</div>"
      ],
      "text/plain": [
       "                                               question  \\\n",
       "0     Following code:\\n\\n```\\nmodule MyServerAPI\\n  ...   \n",
       "1     What advantages did the founding fathers see i...   \n",
       "2     I would like to do if else statement for Spinn...   \n",
       "3     I'm developing an iPhone app. In a label, I wa...   \n",
       "4     For example: Fannie Mae went up ~20% today, Fe...   \n",
       "...                                                 ...   \n",
       "4779  I'm writing a monitoring service that uses WMI...   \n",
       "4780  DOMNodeInserted is known to make dynamic pages...   \n",
       "4781  ```css\\n.rectangle {\\r\\n    width: 420px;\\r\\n ...   \n",
       "4782  I'm loading a bunch of UIImages (that are loca...   \n",
       "4783  I am trying to close a div when a checkbox is ...   \n",
       "\n",
       "                                             response_j  \\\n",
       "0      I imagine it should ([\\n\\n```\\n raise BaseExc...   \n",
       "1      One element overrode everything else, and it ...   \n",
       "2      Try this:\\n\\nAdd array like \"Select Month\",\"j...   \n",
       "3      (2014-07-24: Currently accepted answer is not...   \n",
       "4      At any moment, the price is where the supply ...   \n",
       "...                                                 ...   \n",
       "4779   The following works on Window 2003 R2 SP 2, W...   \n",
       "4780   One new alternative that @naugtur briefly men...   \n",
       "4781                use `font-size:0` to parent element   \n",
       "4782   [`imageNamed:`](http://developer.apple.com/li...   \n",
       "4783   You miss the column Name before between.\\n\\nS...   \n",
       "\n",
       "                                             response_k  \n",
       "0      I imagine it should be\\n\\n```\\n raise BaseExc...  \n",
       "1      One element overrode everything else, and it ...  \n",
       "2      Try this:\\n\\nAdd array like \"Select Month\",\"j...  \n",
       "3      (2014-07-24: Currently accepted answer is not...  \n",
       "4      At any moment, the price is where the supply ...  \n",
       "...                                                 ...  \n",
       "4779   The following works on Window 2003 R2 SP 2, W...  \n",
       "4780   New new alternative that @naugtur briefly men...  \n",
       "4781               (` ` Pérez-size:0` to parent element  \n",
       "4782   [`imageNamed:`](http://developer.apple.com/li...  \n",
       "4783   You miss the column Name before between.\\n\\n ...  \n",
       "\n",
       "[4784 rows x 3 columns]"
      ]
     },
     "execution_count": 22,
     "metadata": {},
     "output_type": "execute_result"
    }
   ],
   "source": [
    "origdf"
   ]
  },
  {
   "cell_type": "code",
   "execution_count": null,
   "id": "5e717c77-9e02-464c-ae5d-f569f1149dd6",
   "metadata": {},
   "outputs": [],
   "source": []
  }
 ],
 "metadata": {
  "kernelspec": {
   "display_name": "Python 3 (ipykernel)",
   "language": "python",
   "name": "python3"
  },
  "language_info": {
   "codemirror_mode": {
    "name": "ipython",
    "version": 3
   },
   "file_extension": ".py",
   "mimetype": "text/x-python",
   "name": "python",
   "nbconvert_exporter": "python",
   "pygments_lexer": "ipython3",
   "version": "3.9.0"
  }
 },
 "nbformat": 4,
 "nbformat_minor": 5
}
