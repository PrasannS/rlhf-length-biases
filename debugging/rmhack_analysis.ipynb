{
 "cells": [
  {
   "cell_type": "code",
   "execution_count": 1,
   "id": "9b28dcdf-974e-4dfb-96c0-8677ce0fc7ed",
   "metadata": {},
   "outputs": [],
   "source": [
    "# This notebook is dedicated to pinpointing what kinds of hacks are happening with different kinds of RMs"
   ]
  },
  {
   "cell_type": "code",
   "execution_count": 1,
   "id": "f5834ef6-cd47-49a1-8404-3231d93ce057",
   "metadata": {},
   "outputs": [],
   "source": [
    "%load_ext autoreload\n",
    "%autoreload 2"
   ]
  },
  {
   "cell_type": "code",
   "execution_count": 2,
   "id": "837ccba4-d8d2-472b-bab1-61e7fe7e6573",
   "metadata": {},
   "outputs": [
    {
     "name": "stderr",
     "output_type": "stream",
     "text": [
      "/home/prasann/miniconda3/envs/rlenv/lib/python3.9/site-packages/tqdm/auto.py:21: TqdmWarning: IProgress not found. Please update jupyter and ipywidgets. See https://ipywidgets.readthedocs.io/en/stable/user_install.html\n",
      "  from .autonotebook import tqdm as notebook_tqdm\n"
     ]
    },
    {
     "name": "stdout",
     "output_type": "stream",
     "text": [
      "[2023-08-23 17:59:43,995] [INFO] [real_accelerator.py:110:get_accelerator] Setting ds_accelerator to cuda (auto detect)\n"
     ]
    }
   ],
   "source": [
    "import pandas as pd\n",
    "from debug_utils import load_all_hackdfs, highlight_differences\n",
    "from statistics import mean, stdev\n",
    "import matplotlib.pyplot as plt"
   ]
  },
  {
   "cell_type": "code",
   "execution_count": 8,
   "id": "398fbd8c-cc77-4791-ab69-edd46e031fd6",
   "metadata": {},
   "outputs": [],
   "source": [
    "orig_hacks = load_all_hackdfs(\"../rm-attacks/attackouts/previous/\")\n",
    "adv_hacks = load_all_hackdfs(\"../rm-attacks/attackouts/reprodcheck/\")\n",
    "sanity = load_all_hackdfs(\"../rm-attacks/attackouts/\")"
   ]
  },
  {
   "cell_type": "code",
   "execution_count": 9,
   "id": "1ae94975-4efc-45aa-8283-5bca73477ec3",
   "metadata": {},
   "outputs": [],
   "source": [
    "def nohackrat(indf):\n",
    "    nohack = indf[indf['diff']<0.001]\n",
    "    return len(nohack)/len(indf)\n",
    "\n",
    "def hacksteps(indf):\n",
    "    hack = indf[indf['diff']>0.001]\n",
    "    steps = [len(l) for l in hack['bestseqs']]\n",
    "    return mean(steps)\n",
    "\n",
    "def hackmean(indf):\n",
    "    hack = indf[indf['diff']>0.001]\n",
    "    return hack['diff'].mean()\n",
    "\n",
    "def hackdf(indf):\n",
    "    return indf[indf['diff']>0.001].copy()\n",
    "\n",
    "def dmean(indf):\n",
    "    return indf['diff'].mean()"
   ]
  },
  {
   "cell_type": "code",
   "execution_count": 10,
   "id": "b8416633-99e0-4512-abd7-20fb82bab2c6",
   "metadata": {},
   "outputs": [
    {
     "name": "stdout",
     "output_type": "stream",
     "text": [
      "0.5\n",
      "0.4696969696969697\n",
      "0.45454545454545453\n"
     ]
    }
   ],
   "source": [
    "print(nohackrat(orig_hacks['da_sft']))\n",
    "print(nohackrat(orig_hacks['mix_sft']))\n",
    "print(nohackrat(sanity['sft_sft']))"
   ]
  },
  {
   "cell_type": "code",
   "execution_count": 11,
   "id": "66a26900-b8b0-40a0-8547-de73213f142b",
   "metadata": {},
   "outputs": [
    {
     "name": "stdout",
     "output_type": "stream",
     "text": [
      "1.7272727272727273\n",
      "1.7714285714285714\n",
      "1.8055555555555556\n"
     ]
    }
   ],
   "source": [
    "print(hacksteps(orig_hacks['da_sft']))\n",
    "print(hacksteps(orig_hacks['mix_sft']))\n",
    "print(hacksteps(sanity['sft_sft']))"
   ]
  },
  {
   "cell_type": "code",
   "execution_count": 12,
   "id": "d817d3c3-1136-49e9-bdd1-f3d6d38703df",
   "metadata": {},
   "outputs": [
    {
     "name": "stdout",
     "output_type": "stream",
     "text": [
      "0.09350585937424243\n",
      "0.13963745579848483\n",
      "0.0867896802530303\n"
     ]
    }
   ],
   "source": [
    "print(dmean(orig_hacks['da_sft']))\n",
    "print(dmean(orig_hacks['mix_sft']))\n",
    "print(dmean(sanity['sft_sft']))"
   ]
  },
  {
   "cell_type": "code",
   "execution_count": 13,
   "id": "2e008540-ece2-4f8e-8c27-ed26dd40c0a4",
   "metadata": {},
   "outputs": [
    {
     "data": {
      "text/plain": [
       "(array([14.,  7.,  3.,  2.,  2.,  0.,  2.,  1.,  1.,  1.]),\n",
       " array([0.00390625, 0.08251953, 0.16113281, 0.23974609, 0.31835938,\n",
       "        0.39697266, 0.47558594, 0.55419922, 0.6328125 , 0.71142578,\n",
       "        0.79003906]),\n",
       " <BarContainer object of 10 artists>)"
      ]
     },
     "execution_count": 13,
     "metadata": {},
     "output_type": "execute_result"
    },
    {
     "data": {
      "image/png": "[encoded data removed]",
      "text/plain": [
       "<Figure size 640x480 with 1 Axes>"
      ]
     },
     "metadata": {},
     "output_type": "display_data"
    }
   ],
   "source": [
    "# DA RM \n",
    "plt.hist(hackdf(orig_hacks['da_sft'])['diff'])"
   ]
  },
  {
   "cell_type": "code",
   "execution_count": 14,
   "id": "52d5f5a0-0d00-4db5-a01c-a2fd3a4570da",
   "metadata": {},
   "outputs": [
    {
     "data": {
      "text/plain": [
       "(array([14.,  8.,  2.,  1.,  1.,  3.,  0.,  1.,  3.,  2.]),\n",
       " array([0.00613403, 0.09599915, 0.18586426, 0.27572937, 0.36559448,\n",
       "        0.45545959, 0.54532471, 0.63518982, 0.72505493, 0.81492004,\n",
       "        0.90478516]),\n",
       " <BarContainer object of 10 artists>)"
      ]
     },
     "execution_count": 14,
     "metadata": {},
     "output_type": "execute_result"
    },
    {
     "data": {
      "image/png": "[encoded data removed]",
      "text/plain": [
       "<Figure size 640x480 with 1 Axes>"
      ]
     },
     "metadata": {},
     "output_type": "display_data"
    }
   ],
   "source": [
    "# Mix RM \n",
    "plt.hist(hackdf(orig_hacks['mix_sft'])['diff'])"
   ]
  },
  {
   "cell_type": "code",
   "execution_count": 15,
   "id": "b5c9603b-0d98-4b6c-9d1c-c1151fb8f8b8",
   "metadata": {},
   "outputs": [
    {
     "data": {
      "text/plain": [
       "(array([26.,  3.,  3.,  1.,  1.,  1.,  0.,  0.,  0.,  1.]),\n",
       " array([0.01660156, 0.1296875 , 0.24277344, 0.35585937, 0.46894531,\n",
       "        0.58203125, 0.69511719, 0.80820313, 0.92128906, 1.034375  ,\n",
       "        1.14746094]),\n",
       " <BarContainer object of 10 artists>)"
      ]
     },
     "execution_count": 15,
     "metadata": {},
     "output_type": "execute_result"
    },
    {
     "data": {
      "image/png": "[encoded data removed]",
      "text/plain": [
       "<Figure size 640x480 with 1 Axes>"
      ]
     },
     "metadata": {},
     "output_type": "display_data"
    }
   ],
   "source": [
    "# Orig (Retrained) RM \n",
    "plt.hist(hackdf(sanity['sft_sft'])['diff'])"
   ]
  },
  {
   "cell_type": "code",
   "execution_count": 16,
   "id": "0a89317f-88a2-44a2-9d16-ffe29d2d69f5",
   "metadata": {},
   "outputs": [],
   "source": [
    "def diff_ind(indf, ind):\n",
    "    row = hackdf(indf).iloc[ind]\n",
    "    print(len(row.bestseqs), \" step(s)\")\n",
    "    print(row.origsco)\n",
    "    print(row.maxsco)\n",
    "    highlight_differences(row.origseq, row.bestseqs[-1])"
   ]
  },
  {
   "cell_type": "code",
   "execution_count": 18,
   "id": "c50347f3-33b3-44ab-8452-ed007eafe186",
   "metadata": {
    "scrolled": true
   },
   "outputs": [
    {
     "name": "stdout",
     "output_type": "stream",
     "text": [
      "___________________________________\n",
      "1  step(s)\n",
      "0.5263671875\n",
      "0.568359375\n"
     ]
    },
    {
     "data": {
      "text/html": [
       "Question: I successfully highlight the section in a web page, but send\\_keys, `.send_keys(Keys.CONTROL, \"c\")`, does not place the intended text to copy in clipboard, only the last thing I manually copied is in clipboard:\n",
       "\n",
       "```\n",
       "from selenium import webdriver \n",
       "\n",
       "from selenium.webdriver.common.keys import Keys \n",
       "\n",
       "driver = webdriver.Firefox() \n",
       "\n",
       "driver.get(\"http://www.somesite.com\") \n",
       "\n",
       "driver.find_element_by_id(\"some id\").send_keys(Keys.CONTROL, \"a\") #this successfully highlights section I need to copy \n",
       "\n",
       "elem.send_keys(Keys.CONTROL, \"c\") # this does not actually copy text**\n",
       "\n",
       "```\n",
       "\n",
       "I tried then using the Firefox edit menu to select all and copy text, but didn't work either and cant find anything online to assist other than possible mention of a bug (tried old version of Firefox, but didn't solve issue). Any ideas?\n",
       "\n",
       "Answer: 1) The method you are trying doesn't work because it simply isn't an efficient way to get what you want done by Selenium itself. This would be just like copying a sentence from a book with your mouse cursor into the ClipBoard instead of selecting `Copy` on the contextual menu that shows up when right-clicking the highlighted area; it works but also takes longer, as well as being less convenient for everyone else who wants to access the same information before or after that action... Also note that the method above does **NOT** use any additional commands that were not mentioned earlier in the question, such as `SendKeys`. So even if there was some sort of issue here regarding the fact that these keys aren't handled directly by [`WebDriver`](https://seleniumhq.github.io/selenium/), it wouldn't matter much since we don't rely upon them at all! :)\n",
       "2) Now let's address the second part where clicking the contextual `Copy<span style='background-color: green'>)</span>`<span style='background-color: red'>-</span>menu item **doesn't always copy* what we expect -- which seems to depend heavily on whether one has used *anything*, including just moving the focus outside that element for more than a couple seconds, etc., prior to pressing"
      ],
      "text/plain": [
       "<IPython.core.display.HTML object>"
      ]
     },
     "metadata": {},
     "output_type": "display_data"
    },
    {
     "name": "stdout",
     "output_type": "stream",
     "text": [
      "___________________________________\n",
      "4  step(s)\n",
      "0.3107910156\n",
      "0.6748046875\n"
     ]
    },
    {
     "data": {
      "text/html": [
       "Question: In a program I'm writing the need to rotate a two-dimensional array came up. Searching for the optimal solution I found this impressive one-liner that does the job:\n",
       "\n",
       "```\n",
       "rotated = zip(*original[::-1])\n",
       "\n",
       "```\n",
       "\n",
       "I'm using it in my program now and it works as supposed. My problem though, is that I don't understand how it works.\n",
       "\n",
       "I'd appreciate if someone could explain how the different functions involved achieves the desired result.\n",
       "\n",
       "Answer: 1) `zip()` takes an iterable of size n (number of items), and returns tuples with elements from those list items. This particular case has been implemented by [the C implementation](https://github.com/python/cpython/blob/master/Modules/_pyio_zippers.h#L827). The function itself can be viewed here on [this documentation page<span style='background-color: red'>.</span><span style='background-color: red'>]</span><span style='background-color: red'>(</span><span style='background-color: green'> </span><span style='background-color: green'>[</span><span style='background-color: green'>`</span>http://docs.python.org/3/library/functions.html?highlight=zip%5C#zip) It should also mention that this functionality was added later than version 3, which means that even Python 2.x uses something similar like this<span style='background-color: green'>}</span><span style='background-color: green'>)</span>.\n",
       "\n",
       "This can then be used when reversed - i.e., rotating it back into original order!\n",
       "2) [`__reversed()`](https://docs.python.org/2.6/reference/datamodel.html#object.__reversed__) allows you to reverse any object without having to call its `__getitem__` method explicitly, so your code becomes much more simple! (While it might not make sense why such a method exists at first sight, there are cases where you really want to iterate backwards over some sequence.)"
      ],
      "text/plain": [
       "<IPython.core.display.HTML object>"
      ]
     },
     "metadata": {},
     "output_type": "display_data"
    },
    {
     "name": "stdout",
     "output_type": "stream",
     "text": [
      "___________________________________\n",
      "2  step(s)\n",
      "0.1983642578\n",
      "0.26171875\n"
     ]
    },
    {
     "data": {
      "text/html": [
       "Question: I have been searching for a while now on how to access user data from XBOX live.\n",
       "\n",
       "Unfortunately, all I found was [this](https://xboxapi.com) which only allows 2 API calls per minute.\n",
       "\n",
       "Is there an *offcial* XBOX API that I can access for user information ?\n",
       "\n",
       "Answer: 1/2 of the way through the video here he states... (at about 4mins in...)\n",
       "> \n",
       "> **The XNA API isn't going anywhere** and won't be deprecated any time soon. We are looking into adding support to XBox One for it but until then we don’t want people worrying that they will lose their investments in building games with our latest technology. This doesn’t mean that you shouldn’t take advantage of this new stuff though – if your game is doing really well then by all means use those features! They might make your life easier as you scale up or just let you create more visually compelling experiences. The important thing though is not to get hung-up on whether you should build everything using these tools because eventually Microsoft could say \"No\" - instead think carefully where it makes sense to leverage them when developing your titles so you maximize your returns. <span style='background-color: green'>=</span><span style='background-color: green'>{</span><span style='background-color: green'>></span><span style='background-color: green'> </span>\n",
       "> <span style='background-color: red'>\n",
       "</span><span style='background-color: red'>></span><span style='background-color: red'> </span><span style='background-color: red'>\n",
       "</span><span style='background-color: green'>m</span><span style='background-color: green'>a</span><span style='background-color: green'>t</span><span style='background-color: green'>h</span><span style='background-color: green'>b</span><span style='background-color: green'>b</span>> \n",
       "\n",
       "[...] So no, there is currently no official Xbox API allowing developers to access the user profiles/data, etc.. But given what he said above, one could assume that once they release a system update making it compatible with XBL, something like this"
      ],
      "text/plain": [
       "<IPython.core.display.HTML object>"
      ]
     },
     "metadata": {},
     "output_type": "display_data"
    },
    {
     "name": "stdout",
     "output_type": "stream",
     "text": [
      "___________________________________\n",
      "1  step(s)\n",
      "-0.039642334\n",
      "-0.0335083008\n"
     ]
    },
    {
     "data": {
      "text/html": [
       "Question: I have a string that may contain an arbitrary number of single-letters separated by spaces. I am looking for a regex (in Perl) that will remove spaces between all (unknown number) of single letters. \n",
       "\n",
       "For example:\n",
       "\n",
       "`ab c d` should become `ab cd` \n",
       "\n",
       "`a bcd e f gh` should become `a bcd ef gh`\n",
       "\n",
       "`a b c` should become `abc`\n",
       "\n",
       "and\n",
       "\n",
       "`abc d` should be unchanged (because there are no single letters followed by or preceded by a single space).\n",
       "\n",
       "Thanks for any ideas.\n",
       "\n",
       "Answer: 1.) You don't need the outer parenthesis around the list in your regexp, as you aren't matching any characters other than space -- so it could be like this too: `<span style='background-color: red'>(</span><span style='background-color: green'>#</span> | )(\\\\w+)` with just one capture group instead of two.\n",
       "2.) Your \"or\" is actually causing problems. What you want to do is use [negative look aheads](http://perldoc.perl.org/perlop.html#%3F-%3F!):  \n",
       "\n",
       "```\n",
       "$str = q{a bc d};             # str containing 'a', 'bc', and 'd' only    # without extra whitespace\n",
       "preg_match(qr/( |\\+)(\\\\w+)|\\+( /x), $str);     # looks at first letter; if non-empty, then looks at next character, etc...      # does not include spaces before second char\n",
       "print \"$1\";                        # prints out: ab       --> ab\n",
       "            #       ^---- look forward from end position on previous match until we hit another space OR end of string    \n",
       "            #        v--------- same thing but backwards         \n",
       "            #         \\*----- look backward till either"
      ],
      "text/plain": [
       "<IPython.core.display.HTML object>"
      ]
     },
     "metadata": {},
     "output_type": "display_data"
    },
    {
     "name": "stdout",
     "output_type": "stream",
     "text": [
      "___________________________________\n",
      "1  step(s)\n",
      "1.1181640625\n",
      "1.126953125\n"
     ]
    },
    {
     "data": {
      "text/html": [
       "Question: I have Qt creator 4.6.0 and Microsoft Visual Studio 2017 Enterprise installed on my system. Through Visual Studio, I have installed \"Desktop development with C++\" including VC++ 2017 v141 tool set. \n",
       "\n",
       "When trying to configure the MSVC 2017 64 Kit in Qt Creator, the MSVC compiler is not auto-detected. The only compilers that show are MinGw and Visual Studio 2008 (9.0) I believe I should be seeing \"Microsoft Visual C++ Compiler 15.0\".\n",
       "\n",
       "Does anyone know how I can get the compiler to auto detect or add this manually. I can compile and build QT programs in Visual Studio, but would like to use QT Creator.\n",
       "\n",
       "Thanks in advance.\n",
       "\n",
       "Answer: 1.) Go to `<span style='background-color: green'>C</span><span style='background-color: red'>O</span><span style='background-color: red'>p</span><span style='background-color: red'>t</span><span style='background-color: red'>i</span>on<span style='background-color: red'>s</span><span style='background-color: green'>f</span><span style='background-color: green'>i</span><span style='background-color: green'>g</span><span style='background-color: green'>u</span><span style='background-color: green'>r</span><span style='background-color: green'>a</span><span style='background-color: green'>t</span><span style='background-color: green'>i</span><span style='background-color: green'>o</span><span style='background-color: green'>n</span>` -> `Build & Run`. In there you'll see a list of available kits for compilation - as well as the options they provide. The list contains all compiled version of visual studio/mingw etc. (see attached image). \n",
       "\n",
       "<a href=\"https://i.stack.imgur.com/PWzjc.png\" rel=\"nofollow noreferrer\"><IMAGE></a>\n",
       "\n",
       "As you can clearly see your selected compiler does not exist here; however it seems to me like it is already configured and working properly through visual studios IDE (you mentioned using VS), so go ahead and unselect it from the `Qt Compiler` drop down menu (`Compiler`). Then select any other one which you want to use. You might also need to refresh the project settings after making changes to the dropdown menu.\n",
       "\n",
       "If you don't find what you seek amongst those listed, you may have an old version somewhere else still running; then try going back into configuration mode again to remove it via deleting its entry. It will likely appear in the next run though because it was previously used by the config. To do that just right click the 'Kit selection' section at the top of the screen ("
      ],
      "text/plain": [
       "<IPython.core.display.HTML object>"
      ]
     },
     "metadata": {},
     "output_type": "display_data"
    },
    {
     "name": "stdout",
     "output_type": "stream",
     "text": [
      "___________________________________\n",
      "2  step(s)\n",
      "1.4814453125\n",
      "1.599609375\n"
     ]
    },
    {
     "data": {
      "text/html": [
       "Question: Apologies for the poorly worded question title - no idea how to put it better!\n",
       "\n",
       "In the following code, when I execute `ruby bar.rb`, how can I make it output `bar.rb`, rather than `foo.rb`?\n",
       "\n",
       "In `foo.rb`:\n",
       "\n",
       "```\n",
       "module Foo\n",
       "  def filename\n",
       "    __FILE__\n",
       "  end\n",
       "end\n",
       "\n",
       "```\n",
       "\n",
       "In `bar.rb`:\n",
       "\n",
       "```\n",
       "require_relative 'foo'\n",
       "include Foo\n",
       "\n",
       "puts filename # outputs 'foo.rb'\n",
       "\n",
       "```\n",
       "\n",
       "This is for a library function that, each time some code is executed, records the location (and git ref) of that code.\n",
       "\n",
       "Answer: 1. Make sure your module `Foo` has been loaded; so you can do this with [autoloading](http://rubym<span style='background-color: green'>C</span><span style='background-color: green'>l</span>a<span style='background-color: green'>s</span><span style='background-color: green'>s</span><span style='background-color: green'>N</span><span style='background-color: green'>a</span><span style='background-color: green'>m</span><span style='background-color: red'>r</span><span style='background-color: red'>c</span><span style='background-color: red'>h</span><span style='background-color: red'>i</span><span style='background-color: red'>t</span><span style='background-color: red'>e</span><span style='background-color: red'>c</span><span style='background-color: red'>t</span><span style='background-color: red'>u</span><span style='background-color: red'>r</span>e.com/09-autoload/). If not, add something like this in file `lib\\foo.rb`.\n",
       "2. Modify the last line from your original example into this one instead:\n",
       "\n",
       "```\n",
       "puts self.filename     # outputs \"bar.rb\"\n",
       "\n",
       "```\n",
       "\n",
       "That way the object will have had its `__FILE__` attribute set by the require statement and be able to return the path itself. And because Ruby runs modules in `Object` context by default, `self.` should work just fine as an alias for the instance variable `__FILE__.\n",
       "3. Note that all these examples use a relative path unless explicitly changed using [`require\\_relative`](https://stackoverflow.com/questions/475689/what-is-the-difference-between-require-and-require-relative). You might want to consider making it absolute depending on your needs... or not, if the user is expected to know what they are doing ;) .\n",
       "\n",
       "Note also that since your current method uses [`File#<span style='background-color: red'>d</span><span style='background-color: green'>F</span>i<span style='background-color: green'>l</span><span style='background-color: red'>r</span><span style='background-color: red'>n</span><span style='background-color: red'>a</span><span style='background-color: red'>m</span>e`](http://www."
      ],
      "text/plain": [
       "<IPython.core.display.HTML object>"
      ]
     },
     "metadata": {},
     "output_type": "display_data"
    },
    {
     "name": "stdout",
     "output_type": "stream",
     "text": [
      "___________________________________\n",
      "2  step(s)\n",
      "1.4609375\n",
      "1.6435546875\n"
     ]
    },
    {
     "data": {
      "text/html": [
       "Question: Is there a word like facadal or facadeous? The context it is being used in is - \n",
       "\"in an increasingly \\_\\_\\_ society\".\n",
       "\n",
       "Answer: 1<span style='background-color: red'>.</span><span style='background-color: green'> </span><span style='background-color: green'>\"</span><span style='background-color: green'>*</span> **Facadistic** : having the appearance of something (i.e., something that's not real) for the purpose of deceiving people into believing what you want them to believe. In other words, \"fake.\" This term can be used both as noun and adjective. Example sentences include *\"The whole company was run by a bunch of facadists who only cared about money!\"* and *\"He didn’t really have any friends; he just had lots of fake ones.*\"\n",
       "2. **Fascadistically** : with regard to, using methods which are reminiscent of those employed by fascism but do so for different reasons than genuine fascism does — i.e., instead of seeking power purely because they wish to rule others over simply out of spitefulness, these types use their power in order to gain wealth/status within society via deception. Similar to facadic but slightly less extreme in its usage. Examples including *\"She wasn’t necessarily evil on her own terms—she did what she needed to survive, even if it meant being fascadistically manipulative to do it.”*\n",
       "3. There isn’t currently a specific"
      ],
      "text/plain": [
       "<IPython.core.display.HTML object>"
      ]
     },
     "metadata": {},
     "output_type": "display_data"
    },
    {
     "name": "stdout",
     "output_type": "stream",
     "text": [
      "___________________________________\n",
      "2  step(s)\n",
      "0.7158203125\n",
      "1.25\n"
     ]
    },
    {
     "data": {
      "text/html": [
       "Question: In my quest for knowledge I sometimes find myself scouring the source of a page only to find that the javascript method im looking for isnt on the page directly. That said I think it must be on one of the linked javascript pages. However I dont really want to have to look through each individual file to find the line. Is there a tool that can do this for me? \n",
       "\n",
       "Preferably in firefox as an add-on I was thinking...\n",
       "\n",
       "Cheers,\n",
       "Pete\n",
       "\n",
       "Answer: 1) The way you are doing it right now works fine (although it does not return `undefined` if you don't load jQuery). Here are some alternatives though:\n",
       "2) Use [`jQuery#noConflict`](http://api.jquery.com/jQuery.noConflict/) and pass your existing variable into `.noconflict()`: `$ = jQuery.noconflict(old_$);`. This will let you keep both variables around without conflicting with whatever global uses the original name. Then use [deferred loading](https://stackoverflow.com/questions/9846750/what-is-the-difference-between-using-jquerys-global-and-local-variables-to-access): \n",
       "3) Load jQuery via shorthand using: `<script src=\"//ajax.googleapis.com/ajax/libs/jquery/1.8.3/jquery.min.js\" ></script>` - This lets you specify which version of jquery to use rather than relying on whichever default got loaded first; however, note that this might require a server restart to take effect -- see here: <http://encosia.com/use-google-<span style='background-color: green'> </span><span style='background-color: green'>p</span><span style='background-color: green'>r</span><span style='background-color: green'>o</span><span style='background-color: green'>t</span><span style='background-color: green'>o</span>c<span style='background-color: red'>d</span><span style='background-color: red'>n</span><span style='background-color: green'>o</span><span style='background-color: green'>l</span>-"
      ],
      "text/plain": [
       "<IPython.core.display.HTML object>"
      ]
     },
     "metadata": {},
     "output_type": "display_data"
    },
    {
     "name": "stdout",
     "output_type": "stream",
     "text": [
      "___________________________________\n",
      "4  step(s)\n",
      "0.8349609375\n",
      "1.60546875\n"
     ]
    },
    {
     "data": {
      "text/html": [
       "Question: So I have a database table that stores pre-escaped text strings (don't ask me why ... I don't know) and I need to put it on the page as a RAW string. All of the rails output functions seems to escape the output.\n",
       "\n",
       "ex\n",
       "`<%= @string %>` will escape the string's special characters before printing to the screen\n",
       "\n",
       "So if I have the string `&amp;` I end up with something like `&amp;amp;` and the output to the screen is simply `&amp;`\n",
       "\n",
       "Answer: 1. Use `<% raw @string %>`. The escaping is turned off here.\n",
       "2. If you still want some escaping, use `<span style='background-color: red'>r</span><span style='background-color: green'>R</span>ender<span style='background-color: red'> </span><span style='background-color: green'>e</span><span style='background-color: green'>r</span><span style='background-color: green'>(</span>:partial => \"whatever_path\", :locals => {:content => @string}`, where whatever\\_path would contain some template which doesn't do any html or ruby escapes itself but should get its content escaped anyway by calling something like this in your controller method that renders this partial:\n",
       "\n",
       "```ruby\n",
       "@template = render(:partial=>\"some_template\")\n",
       "puts @template # gives &amp;&amp; etc... unescaped. Then just call render() again for the above case, so it won't escape anything anymore and does what you wanted originally\n",
       "\n",
       "### later, in other context #####\n",
       "\n",
       ">>> p @template # returns \"&amp;\" unchanged from earlier\n",
       ">>> p @template.gsub(/\\\\\\*/, '*') # guts out everything but spaces and & chars\n",
       ">>> puts @template.html_safe # outputs all unicode codepoints except whitespace as is\n",
       "\n",
       "```\n",
       "\n",
       "In case anyone wants to understand *why*, when one calls [`render`](http://api<span style='background-color: red'>.</span><span style='background-color: green'> </span><span style='background-color: green'>o</span><span style='background-color: green'>r</span><span style='background-color: green'>g</span>rubyon<span style='background-color: red'>r</span><span style='background-color: green'> </span><span style='background-color: green'>R</span>ail<span style='background-color: red'>s</span>"
      ],
      "text/plain": [
       "<IPython.core.display.HTML object>"
      ]
     },
     "metadata": {},
     "output_type": "display_data"
    },
    {
     "name": "stdout",
     "output_type": "stream",
     "text": [
      "___________________________________\n",
      "1  step(s)\n",
      "0.47265625\n",
      "0.5634765625\n"
     ]
    },
    {
     "data": {
      "text/html": [
       "Question: I'm using `stateProvider` for routing. \n",
       "\n",
       "**Problem:**\n",
       "\n",
       "When I click any link, my controller calls the factory service recursively. What happens is that after every successful ajax call my view blinks or flickers. (Which I don't wan't) \n",
       "\n",
       "Please provide some tips. So far I have tried `ng-cloak` and `class=\"ng-cloak\"`, with no luck. \n",
       "\n",
       "**Question:**\n",
       "How can I avoid these flicker effect until all ajax calls are completed.\n",
       "\n",
       "```\n",
       "  .state('vehicle', {\n",
       "      abstract:true,\n",
       "      url: \"/vehicle\",\n",
       "      template: '<div ui-view style=\"height:100%\"></div>',          \n",
       "      controller:'vehicleManagementCtrl'\n",
       "  })\n",
       "  .state('vehicle.list', {\n",
       "        url: \"\",          \n",
       "        templateUrl: 'views/br_manager/mg_vehicleManagement.html'\n",
       "    })\n",
       "  .state('vehicle.add', {\n",
       "        url: \"\",\n",
       "        templateUrl: 'views/br_manager/mg_addVehicle.html'\n",
       "    })\n",
       "  .state('vehicle.edit', {\n",
       "      url: \"\",\n",
       "      templateUrl: 'views/br_manager/mg_editVehicle.html'\n",
       "  })\n",
       "   .state('vehicle.delete', {\n",
       "        url: \"\",\n",
       "        templateUrl: 'views/br_manager/mg_addVehicle.html'\n",
       "    })\n",
       "\n",
       "```\n",
       "\n",
       "Answer: 1. The way you implemented stateProvider does not make sense to me as there should only be one route in your app with an empty `<span style='background-color: red'>/</span>`. If this was a real application, the first time someone visited `/vehicles/` they would go into your root state instead of going straight into vehicle management so it doesn't even make much difference if you declare it to be abstract since there isn't anything in its templates either... You could change your implementation like this though:\n",
       "\n",
       "```\n",
       ".state('root',{})             // This will replace /\n",
       ".state(\"vehicle\", {                           \n",
       "          url:\"/\" ,       // Change from \"\" above\n",
       "          views:{                              \n",
       "                \"\":{\"template\":\"<div ui-view></div>\", \n",
       "              },                                    \n",
       "         }})\n",
       "\\end{code}\n",
       "\n",
       "2. To do what you want however, you need to get rid of `ui-view`'s because when ngRoute starts navigating through states, it needs something for rendering to take place within which means it has to create a new `` container each time but also destroy them once navigation ends. Using ui-view allows ngRoute to know where to put content on the page without having to render"
      ],
      "text/plain": [
       "<IPython.core.display.HTML object>"
      ]
     },
     "metadata": {},
     "output_type": "display_data"
    }
   ],
   "source": [
    "for i in range(0, 10):\n",
    "    print(\"___________________________________\")\n",
    "    diff_ind(orig_hacks['mix_sft'], i)"
   ]
  },
  {
   "cell_type": "code",
   "execution_count": 15,
   "id": "ef9c89fe-a890-4f03-bf81-298e3148f8f3",
   "metadata": {},
   "outputs": [],
   "source": [
    "# more stuff, specifically we are trying to see if the adversarial models are actually helpful"
   ]
  },
  {
   "cell_type": "code",
   "execution_count": 16,
   "id": "b6bc1deb-642c-43d9-8b1a-689b4cb420be",
   "metadata": {},
   "outputs": [],
   "source": [
    "adv_hacks = load_all_hackdfs(\"../rm-attacks/attackouts/reprodcheck/\")"
   ]
  },
  {
   "cell_type": "code",
   "execution_count": 20,
   "id": "42dce40a-f104-4a98-9d96-4a93281516c7",
   "metadata": {},
   "outputs": [
    {
     "data": {
      "text/plain": [
       "0.19390857716197915"
      ]
     },
     "execution_count": 20,
     "metadata": {},
     "output_type": "execute_result"
    }
   ],
   "source": [
    "adv_hacks['advdaboth']['diff'].mean()"
   ]
  },
  {
   "cell_type": "code",
   "execution_count": 21,
   "id": "4761dd71-f140-49ba-ba28-681f11ee2744",
   "metadata": {},
   "outputs": [],
   "source": [
    "origdf = pd.read_json(\"../outputs/augdata/augstackv1.jsonl\", orient='records', lines=True)"
   ]
  },
  {
   "cell_type": "code",
   "execution_count": 22,
   "id": "3976a7f7-6865-41d2-a43a-d81880273fe1",
   "metadata": {},
   "outputs": [
    {
     "data": {
      "text/html": [
       "<div>\n",
       "<style scoped>\n",
       "    .dataframe tbody tr th:only-of-type {\n",
       "        vertical-align: middle;\n",
       "    }\n",
       "\n",
       "    .dataframe tbody tr th {\n",
       "        vertical-align: top;\n",
       "    }\n",
       "\n",
       "    .dataframe thead th {\n",
       "        text-align: right;\n",
       "    }\n",
       "</style>\n",
       "<table border=\"1\" class=\"dataframe\">\n",
       "  <thead>\n",
       "    <tr style=\"text-align: right;\">\n",
       "      <th></th>\n",
       "      <th>question</th>\n",
       "      <th>response_j</th>\n",
       "      <th>response_k</th>\n",
       "    </tr>\n",
       "  </thead>\n",
       "  <tbody>\n",
       "    <tr>\n",
       "      <th>0</th>\n",
       "      <td>Following code:\\n\\n```\\nmodule MyServerAPI\\n  ...</td>\n",
       "      <td>I imagine it should ([\\n\\n```\\n raise BaseExc...</td>\n",
       "      <td>I imagine it should be\\n\\n```\\n raise BaseExc...</td>\n",
       "    </tr>\n",
       "    <tr>\n",
       "      <th>1</th>\n",
       "      <td>What advantages did the founding fathers see i...</td>\n",
       "      <td>One element overrode everything else, and it ...</td>\n",
       "      <td>One element overrode everything else, and it ...</td>\n",
       "    </tr>\n",
       "    <tr>\n",
       "      <th>2</th>\n",
       "      <td>I would like to do if else statement for Spinn...</td>\n",
       "      <td>Try this:\\n\\nAdd array like \"Select Month\",\"j...</td>\n",
       "      <td>Try this:\\n\\nAdd array like \"Select Month\",\"j...</td>\n",
       "    </tr>\n",
       "    <tr>\n",
       "      <th>3</th>\n",
       "      <td>I'm developing an iPhone app. In a label, I wa...</td>\n",
       "      <td>(2014-07-24: Currently accepted answer is not...</td>\n",
       "      <td>(2014-07-24: Currently accepted answer is not...</td>\n",
       "    </tr>\n",
       "    <tr>\n",
       "      <th>4</th>\n",
       "      <td>For example: Fannie Mae went up ~20% today, Fe...</td>\n",
       "      <td>At any moment, the price is where the supply ...</td>\n",
       "      <td>At any moment, the price is where the supply ...</td>\n",
       "    </tr>\n",
       "    <tr>\n",
       "      <th>...</th>\n",
       "      <td>...</td>\n",
       "      <td>...</td>\n",
       "      <td>...</td>\n",
       "    </tr>\n",
       "    <tr>\n",
       "      <th>4779</th>\n",
       "      <td>I'm writing a monitoring service that uses WMI...</td>\n",
       "      <td>The following works on Window 2003 R2 SP 2, W...</td>\n",
       "      <td>The following works on Window 2003 R2 SP 2, W...</td>\n",
       "    </tr>\n",
       "    <tr>\n",
       "      <th>4780</th>\n",
       "      <td>DOMNodeInserted is known to make dynamic pages...</td>\n",
       "      <td>One new alternative that @naugtur briefly men...</td>\n",
       "      <td>New new alternative that @naugtur briefly men...</td>\n",
       "    </tr>\n",
       "    <tr>\n",
       "      <th>4781</th>\n",
       "      <td>```css\\n.rectangle {\\r\\n    width: 420px;\\r\\n ...</td>\n",
       "      <td>use `font-size:0` to parent element</td>\n",
       "      <td>(` ` Pérez-size:0` to parent element</td>\n",
       "    </tr>\n",
       "    <tr>\n",
       "      <th>4782</th>\n",
       "      <td>I'm loading a bunch of UIImages (that are loca...</td>\n",
       "      <td>[`imageNamed:`](http://developer.apple.com/li...</td>\n",
       "      <td>[`imageNamed:`](http://developer.apple.com/li...</td>\n",
       "    </tr>\n",
       "    <tr>\n",
       "      <th>4783</th>\n",
       "      <td>I am trying to close a div when a checkbox is ...</td>\n",
       "      <td>You miss the column Name before between.\\n\\nS...</td>\n",
       "      <td>You miss the column Name before between.\\n\\n ...</td>\n",
       "    </tr>\n",
       "  </tbody>\n",
       "</table>\n",
       "<p>4784 rows × 3 columns</p>\n",
       "</div>"
      ],
      "text/plain": [
       "                                               question  \\\n",
       "0     Following code:\\n\\n```\\nmodule MyServerAPI\\n  ...   \n",
       "1     What advantages did the founding fathers see i...   \n",
       "2     I would like to do if else statement for Spinn...   \n",
       "3     I'm developing an iPhone app. In a label, I wa...   \n",
       "4     For example: Fannie Mae went up ~20% today, Fe...   \n",
       "...                                                 ...   \n",
       "4779  I'm writing a monitoring service that uses WMI...   \n",
       "4780  DOMNodeInserted is known to make dynamic pages...   \n",
       "4781  ```css\\n.rectangle {\\r\\n    width: 420px;\\r\\n ...   \n",
       "4782  I'm loading a bunch of UIImages (that are loca...   \n",
       "4783  I am trying to close a div when a checkbox is ...   \n",
       "\n",
       "                                             response_j  \\\n",
       "0      I imagine it should ([\\n\\n```\\n raise BaseExc...   \n",
       "1      One element overrode everything else, and it ...   \n",
       "2      Try this:\\n\\nAdd array like \"Select Month\",\"j...   \n",
       "3      (2014-07-24: Currently accepted answer is not...   \n",
       "4      At any moment, the price is where the supply ...   \n",
       "...                                                 ...   \n",
       "4779   The following works on Window 2003 R2 SP 2, W...   \n",
       "4780   One new alternative that @naugtur briefly men...   \n",
       "4781                use `font-size:0` to parent element   \n",
       "4782   [`imageNamed:`](http://developer.apple.com/li...   \n",
       "4783   You miss the column Name before between.\\n\\nS...   \n",
       "\n",
       "                                             response_k  \n",
       "0      I imagine it should be\\n\\n```\\n raise BaseExc...  \n",
       "1      One element overrode everything else, and it ...  \n",
       "2      Try this:\\n\\nAdd array like \"Select Month\",\"j...  \n",
       "3      (2014-07-24: Currently accepted answer is not...  \n",
       "4      At any moment, the price is where the supply ...  \n",
       "...                                                 ...  \n",
       "4779   The following works on Window 2003 R2 SP 2, W...  \n",
       "4780   New new alternative that @naugtur briefly men...  \n",
       "4781               (` ` Pérez-size:0` to parent element  \n",
       "4782   [`imageNamed:`](http://developer.apple.com/li...  \n",
       "4783   You miss the column Name before between.\\n\\n ...  \n",
       "\n",
       "[4784 rows x 3 columns]"
      ]
     },
     "execution_count": 22,
     "metadata": {},
     "output_type": "execute_result"
    }
   ],
   "source": [
    "origdf"
   ]
  },
  {
   "cell_type": "code",
   "execution_count": null,
   "id": "5e717c77-9e02-464c-ae5d-f569f1149dd6",
   "metadata": {},
   "outputs": [],
   "source": []
  }
 ],
 "metadata": {
  "kernelspec": {
   "display_name": "Python 3 (ipykernel)",
   "language": "python",
   "name": "python3"
  },
  "language_info": {
   "codemirror_mode": {
    "name": "ipython",
    "version": 3
   },
   "file_extension": ".py",
   "mimetype": "text/x-python",
   "name": "python",
   "nbconvert_exporter": "python",
   "pygments_lexer": "ipython3",
   "version": "3.9.0"
  }
 },
 "nbformat": 4,
 "nbformat_minor": 5
}
