{
 "cells": [
  {
   "cell_type": "code",
   "execution_count": 1,
   "id": "5731f9c4-43bd-4e4e-9af9-102c8c3464f2",
   "metadata": {},
   "outputs": [],
   "source": [
    "# use this notebook to check up on adversarial data"
   ]
  },
  {
   "cell_type": "code",
   "execution_count": 2,
   "id": "83fb0583-bf99-4447-a472-582045d5d501",
   "metadata": {},
   "outputs": [
    {
     "name": "stderr",
     "output_type": "stream",
     "text": [
      "/home/prasann/miniconda3/envs/rlenv/lib/python3.9/site-packages/tqdm/auto.py:21: TqdmWarning: IProgress not found. Please update jupyter and ipywidgets. See https://ipywidgets.readthedocs.io/en/stable/user_install.html\n",
      "  from .autonotebook import tqdm as notebook_tqdm\n"
     ]
    },
    {
     "name": "stdout",
     "output_type": "stream",
     "text": [
      "[2023-09-01 13:49:53,521] [INFO] [real_accelerator.py:110:get_accelerator] Setting ds_accelerator to cuda (auto detect)\n"
     ]
    }
   ],
   "source": [
    "import pandas as pd\n",
    "from rlhfutils.debug_utils import load_all_hackdfs, highlight_differences\n",
    "from datasets import load_dataset\n",
    "import matplotlib.pyplot as plt"
   ]
  },
  {
   "cell_type": "code",
   "execution_count": 14,
   "id": "1a714b1b-4637-4297-91f6-7fcf6321718e",
   "metadata": {},
   "outputs": [
    {
     "name": "stderr",
     "output_type": "stream",
     "text": [
      "Found cached dataset alpaca_farm (/home/prasann/.cache/huggingface/datasets/tatsu-lab___alpaca_farm/alpaca_human_preference/1.0.0/79d38dc3f12abd62869e376303b68092e8385769e22f05166fe96a3dac29a57a)\n",
      "100%|███████████████████████████████████████████████████████████████████████████████████████████████████████████████████████████████████████████████████████████| 1/1 [00:00<00:00, 330.05it/s]\n"
     ]
    }
   ],
   "source": [
    "appref = load_dataset(\"tatsu-lab/alpaca_farm\", 'alpaca_human_preference')['preference']"
   ]
  },
  {
   "cell_type": "code",
   "execution_count": 21,
   "id": "3060297a-0bc8-4658-97ff-bdbb6b380fa9",
   "metadata": {},
   "outputs": [
    {
     "data": {
      "text/plain": [
       "{'instruction': \"Write a short poem about celebrating life's achievements.\",\n",
       " 'input': '',\n",
       " 'output_1': \"Life's little victories ought to be rejoiced, \\nCelebrated with a shout and loud acclaim. \\nIn the journey that we all follow each day, \\nWe must recognize thevaluable things that stay. \\nBy embracing our success and taking pride, \\nWe can make the most of our lives alwayes.\",\n",
       " 'output_2': \"Life's victory laps, celebrated with joy,\\nPays tribute to the strife overcome.\\nHonoring the hardship, the anguish and fear,\\nEncouragement found in the dawning of a new year.\",\n",
       " 'preference': 2,\n",
       " 'raw_preference': 4}"
      ]
     },
     "execution_count": 21,
     "metadata": {},
     "output_type": "execute_result"
    }
   ],
   "source": [
    "appref[10]"
   ]
  },
  {
   "cell_type": "code",
   "execution_count": 2,
   "id": "806ef172-2d28-41c0-aab6-4fd39f29a60d",
   "metadata": {
    "scrolled": true
   },
   "outputs": [
    {
     "name": "stderr",
     "output_type": "stream",
     "text": [
      "Found cached dataset csv (/home/prasann/.cache/huggingface/datasets/csv/default-42379e75f73ebb5f/0.0.0/eea64c71ca8b46dd3f537ed218fc9bf495d5707789152eb2764f5c78fa66d59d)\n",
      "100%|███████████████████████████████████████████████████████████████████████████████████████████████████████████████████████████| 1/1 [00:00<00:00,  3.32it/s]\n"
     ]
    }
   ],
   "source": [
    "train_dataset = load_dataset(\"csv\", data_files=\"../rlcd-llama/simulated_data/simulated_preference_data_consolidated_helpful7b.csv\")['train']\n"
   ]
  },
  {
   "cell_type": "code",
   "execution_count": 3,
   "id": "24f9ee12-b7ae-4c02-9907-7283ed4532f0",
   "metadata": {},
   "outputs": [
    {
     "name": "stderr",
     "output_type": "stream",
     "text": [
      "                                                                                                                                                              \r"
     ]
    },
    {
     "ename": "TypeError",
     "evalue": "can only concatenate str (not \"NoneType\") to str",
     "output_type": "error",
     "traceback": [
      "\u001b[0;31m---------------------------------------------------------------------------\u001b[0m",
      "\u001b[0;31mTypeError\u001b[0m                                 Traceback (most recent call last)",
      "Cell \u001b[0;32mIn[3], line 16\u001b[0m\n\u001b[1;32m     12\u001b[0m         ex[\u001b[38;5;124m'\u001b[39m\u001b[38;5;124mresponse_j\u001b[39m\u001b[38;5;124m'\u001b[39m] \u001b[38;5;241m=\u001b[39m adjust_input(ex[\u001b[38;5;124m'\u001b[39m\u001b[38;5;124mquestion\u001b[39m\u001b[38;5;124m'\u001b[39m], example[\u001b[38;5;124m'\u001b[39m\u001b[38;5;124moutput_2\u001b[39m\u001b[38;5;124m'\u001b[39m])\n\u001b[1;32m     13\u001b[0m     \u001b[38;5;28;01mreturn\u001b[39;00m ex\n\u001b[0;32m---> 16\u001b[0m train_dataset \u001b[38;5;241m=\u001b[39m \u001b[43mtrain_dataset\u001b[49m\u001b[38;5;241;43m.\u001b[39;49m\u001b[43mmap\u001b[49m\u001b[43m(\u001b[49m\u001b[43mpreproc_rlcd\u001b[49m\u001b[43m)\u001b[49m\n",
      "File \u001b[0;32m~/miniconda3/envs/rlenv/lib/python3.9/site-packages/datasets/arrow_dataset.py:580\u001b[0m, in \u001b[0;36mtransmit_tasks.<locals>.wrapper\u001b[0;34m(*args, **kwargs)\u001b[0m\n\u001b[1;32m    578\u001b[0m     \u001b[38;5;28mself\u001b[39m: \u001b[38;5;124m\"\u001b[39m\u001b[38;5;124mDataset\u001b[39m\u001b[38;5;124m\"\u001b[39m \u001b[38;5;241m=\u001b[39m kwargs\u001b[38;5;241m.\u001b[39mpop(\u001b[38;5;124m\"\u001b[39m\u001b[38;5;124mself\u001b[39m\u001b[38;5;124m\"\u001b[39m)\n\u001b[1;32m    579\u001b[0m \u001b[38;5;66;03m# apply actual function\u001b[39;00m\n\u001b[0;32m--> 580\u001b[0m out: Union[\u001b[38;5;124m\"\u001b[39m\u001b[38;5;124mDataset\u001b[39m\u001b[38;5;124m\"\u001b[39m, \u001b[38;5;124m\"\u001b[39m\u001b[38;5;124mDatasetDict\u001b[39m\u001b[38;5;124m\"\u001b[39m] \u001b[38;5;241m=\u001b[39m \u001b[43mfunc\u001b[49m\u001b[43m(\u001b[49m\u001b[38;5;28;43mself\u001b[39;49m\u001b[43m,\u001b[49m\u001b[43m \u001b[49m\u001b[38;5;241;43m*\u001b[39;49m\u001b[43margs\u001b[49m\u001b[43m,\u001b[49m\u001b[43m \u001b[49m\u001b[38;5;241;43m*\u001b[39;49m\u001b[38;5;241;43m*\u001b[39;49m\u001b[43mkwargs\u001b[49m\u001b[43m)\u001b[49m\n\u001b[1;32m    581\u001b[0m datasets: List[\u001b[38;5;124m\"\u001b[39m\u001b[38;5;124mDataset\u001b[39m\u001b[38;5;124m\"\u001b[39m] \u001b[38;5;241m=\u001b[39m \u001b[38;5;28mlist\u001b[39m(out\u001b[38;5;241m.\u001b[39mvalues()) \u001b[38;5;28;01mif\u001b[39;00m \u001b[38;5;28misinstance\u001b[39m(out, \u001b[38;5;28mdict\u001b[39m) \u001b[38;5;28;01melse\u001b[39;00m [out]\n\u001b[1;32m    582\u001b[0m \u001b[38;5;28;01mfor\u001b[39;00m dataset \u001b[38;5;129;01min\u001b[39;00m datasets:\n\u001b[1;32m    583\u001b[0m     \u001b[38;5;66;03m# Remove task templates if a column mapping of the template is no longer valid\u001b[39;00m\n",
      "File \u001b[0;32m~/miniconda3/envs/rlenv/lib/python3.9/site-packages/datasets/arrow_dataset.py:545\u001b[0m, in \u001b[0;36mtransmit_format.<locals>.wrapper\u001b[0;34m(*args, **kwargs)\u001b[0m\n\u001b[1;32m    538\u001b[0m self_format \u001b[38;5;241m=\u001b[39m {\n\u001b[1;32m    539\u001b[0m     \u001b[38;5;124m\"\u001b[39m\u001b[38;5;124mtype\u001b[39m\u001b[38;5;124m\"\u001b[39m: \u001b[38;5;28mself\u001b[39m\u001b[38;5;241m.\u001b[39m_format_type,\n\u001b[1;32m    540\u001b[0m     \u001b[38;5;124m\"\u001b[39m\u001b[38;5;124mformat_kwargs\u001b[39m\u001b[38;5;124m\"\u001b[39m: \u001b[38;5;28mself\u001b[39m\u001b[38;5;241m.\u001b[39m_format_kwargs,\n\u001b[1;32m    541\u001b[0m     \u001b[38;5;124m\"\u001b[39m\u001b[38;5;124mcolumns\u001b[39m\u001b[38;5;124m\"\u001b[39m: \u001b[38;5;28mself\u001b[39m\u001b[38;5;241m.\u001b[39m_format_columns,\n\u001b[1;32m    542\u001b[0m     \u001b[38;5;124m\"\u001b[39m\u001b[38;5;124moutput_all_columns\u001b[39m\u001b[38;5;124m\"\u001b[39m: \u001b[38;5;28mself\u001b[39m\u001b[38;5;241m.\u001b[39m_output_all_columns,\n\u001b[1;32m    543\u001b[0m }\n\u001b[1;32m    544\u001b[0m \u001b[38;5;66;03m# apply actual function\u001b[39;00m\n\u001b[0;32m--> 545\u001b[0m out: Union[\u001b[38;5;124m\"\u001b[39m\u001b[38;5;124mDataset\u001b[39m\u001b[38;5;124m\"\u001b[39m, \u001b[38;5;124m\"\u001b[39m\u001b[38;5;124mDatasetDict\u001b[39m\u001b[38;5;124m\"\u001b[39m] \u001b[38;5;241m=\u001b[39m \u001b[43mfunc\u001b[49m\u001b[43m(\u001b[49m\u001b[38;5;28;43mself\u001b[39;49m\u001b[43m,\u001b[49m\u001b[43m \u001b[49m\u001b[38;5;241;43m*\u001b[39;49m\u001b[43margs\u001b[49m\u001b[43m,\u001b[49m\u001b[43m \u001b[49m\u001b[38;5;241;43m*\u001b[39;49m\u001b[38;5;241;43m*\u001b[39;49m\u001b[43mkwargs\u001b[49m\u001b[43m)\u001b[49m\n\u001b[1;32m    546\u001b[0m datasets: List[\u001b[38;5;124m\"\u001b[39m\u001b[38;5;124mDataset\u001b[39m\u001b[38;5;124m\"\u001b[39m] \u001b[38;5;241m=\u001b[39m \u001b[38;5;28mlist\u001b[39m(out\u001b[38;5;241m.\u001b[39mvalues()) \u001b[38;5;28;01mif\u001b[39;00m \u001b[38;5;28misinstance\u001b[39m(out, \u001b[38;5;28mdict\u001b[39m) \u001b[38;5;28;01melse\u001b[39;00m [out]\n\u001b[1;32m    547\u001b[0m \u001b[38;5;66;03m# re-apply format to the output\u001b[39;00m\n",
      "File \u001b[0;32m~/miniconda3/envs/rlenv/lib/python3.9/site-packages/datasets/arrow_dataset.py:3087\u001b[0m, in \u001b[0;36mDataset.map\u001b[0;34m(self, function, with_indices, with_rank, input_columns, batched, batch_size, drop_last_batch, remove_columns, keep_in_memory, load_from_cache_file, cache_file_name, writer_batch_size, features, disable_nullable, fn_kwargs, num_proc, suffix_template, new_fingerprint, desc)\u001b[0m\n\u001b[1;32m   3079\u001b[0m \u001b[38;5;28;01mif\u001b[39;00m transformed_dataset \u001b[38;5;129;01mis\u001b[39;00m \u001b[38;5;28;01mNone\u001b[39;00m:\n\u001b[1;32m   3080\u001b[0m     \u001b[38;5;28;01mwith\u001b[39;00m logging\u001b[38;5;241m.\u001b[39mtqdm(\n\u001b[1;32m   3081\u001b[0m         disable\u001b[38;5;241m=\u001b[39m\u001b[38;5;129;01mnot\u001b[39;00m logging\u001b[38;5;241m.\u001b[39mis_progress_bar_enabled(),\n\u001b[1;32m   3082\u001b[0m         unit\u001b[38;5;241m=\u001b[39m\u001b[38;5;124m\"\u001b[39m\u001b[38;5;124m examples\u001b[39m\u001b[38;5;124m\"\u001b[39m,\n\u001b[0;32m   (...)\u001b[0m\n\u001b[1;32m   3085\u001b[0m         desc\u001b[38;5;241m=\u001b[39mdesc \u001b[38;5;129;01mor\u001b[39;00m \u001b[38;5;124m\"\u001b[39m\u001b[38;5;124mMap\u001b[39m\u001b[38;5;124m\"\u001b[39m,\n\u001b[1;32m   3086\u001b[0m     ) \u001b[38;5;28;01mas\u001b[39;00m pbar:\n\u001b[0;32m-> 3087\u001b[0m         \u001b[38;5;28;01mfor\u001b[39;00m rank, done, content \u001b[38;5;129;01min\u001b[39;00m Dataset\u001b[38;5;241m.\u001b[39m_map_single(\u001b[38;5;241m*\u001b[39m\u001b[38;5;241m*\u001b[39mdataset_kwargs):\n\u001b[1;32m   3088\u001b[0m             \u001b[38;5;28;01mif\u001b[39;00m done:\n\u001b[1;32m   3089\u001b[0m                 shards_done \u001b[38;5;241m+\u001b[39m\u001b[38;5;241m=\u001b[39m \u001b[38;5;241m1\u001b[39m\n",
      "File \u001b[0;32m~/miniconda3/envs/rlenv/lib/python3.9/site-packages/datasets/arrow_dataset.py:3441\u001b[0m, in \u001b[0;36mDataset._map_single\u001b[0;34m(shard, function, with_indices, with_rank, input_columns, batched, batch_size, drop_last_batch, remove_columns, keep_in_memory, cache_file_name, writer_batch_size, features, disable_nullable, fn_kwargs, new_fingerprint, rank, offset)\u001b[0m\n\u001b[1;32m   3439\u001b[0m _time \u001b[38;5;241m=\u001b[39m time\u001b[38;5;241m.\u001b[39mtime()\n\u001b[1;32m   3440\u001b[0m \u001b[38;5;28;01mfor\u001b[39;00m i, example \u001b[38;5;129;01min\u001b[39;00m shard_iterable:\n\u001b[0;32m-> 3441\u001b[0m     example \u001b[38;5;241m=\u001b[39m \u001b[43mapply_function_on_filtered_inputs\u001b[49m\u001b[43m(\u001b[49m\u001b[43mexample\u001b[49m\u001b[43m,\u001b[49m\u001b[43m \u001b[49m\u001b[43mi\u001b[49m\u001b[43m,\u001b[49m\u001b[43m \u001b[49m\u001b[43moffset\u001b[49m\u001b[38;5;241;43m=\u001b[39;49m\u001b[43moffset\u001b[49m\u001b[43m)\u001b[49m\n\u001b[1;32m   3442\u001b[0m     \u001b[38;5;28;01mif\u001b[39;00m update_data:\n\u001b[1;32m   3443\u001b[0m         \u001b[38;5;28;01mif\u001b[39;00m i \u001b[38;5;241m==\u001b[39m \u001b[38;5;241m0\u001b[39m:\n",
      "File \u001b[0;32m~/miniconda3/envs/rlenv/lib/python3.9/site-packages/datasets/arrow_dataset.py:3344\u001b[0m, in \u001b[0;36mDataset._map_single.<locals>.apply_function_on_filtered_inputs\u001b[0;34m(pa_inputs, indices, check_same_num_examples, offset)\u001b[0m\n\u001b[1;32m   3342\u001b[0m \u001b[38;5;28;01mif\u001b[39;00m with_rank:\n\u001b[1;32m   3343\u001b[0m     additional_args \u001b[38;5;241m+\u001b[39m\u001b[38;5;241m=\u001b[39m (rank,)\n\u001b[0;32m-> 3344\u001b[0m processed_inputs \u001b[38;5;241m=\u001b[39m \u001b[43mfunction\u001b[49m\u001b[43m(\u001b[49m\u001b[38;5;241;43m*\u001b[39;49m\u001b[43mfn_args\u001b[49m\u001b[43m,\u001b[49m\u001b[43m \u001b[49m\u001b[38;5;241;43m*\u001b[39;49m\u001b[43madditional_args\u001b[49m\u001b[43m,\u001b[49m\u001b[43m \u001b[49m\u001b[38;5;241;43m*\u001b[39;49m\u001b[38;5;241;43m*\u001b[39;49m\u001b[43mfn_kwargs\u001b[49m\u001b[43m)\u001b[49m\n\u001b[1;32m   3345\u001b[0m \u001b[38;5;28;01mif\u001b[39;00m \u001b[38;5;28misinstance\u001b[39m(processed_inputs, LazyDict):\n\u001b[1;32m   3346\u001b[0m     processed_inputs \u001b[38;5;241m=\u001b[39m {\n\u001b[1;32m   3347\u001b[0m         k: v \u001b[38;5;28;01mfor\u001b[39;00m k, v \u001b[38;5;129;01min\u001b[39;00m processed_inputs\u001b[38;5;241m.\u001b[39mdata\u001b[38;5;241m.\u001b[39mitems() \u001b[38;5;28;01mif\u001b[39;00m k \u001b[38;5;129;01mnot\u001b[39;00m \u001b[38;5;129;01min\u001b[39;00m processed_inputs\u001b[38;5;241m.\u001b[39mkeys_to_format\n\u001b[1;32m   3348\u001b[0m     }\n",
      "Cell \u001b[0;32mIn[3], line 12\u001b[0m, in \u001b[0;36mpreproc_rlcd\u001b[0;34m(example)\u001b[0m\n\u001b[1;32m     10\u001b[0m \u001b[38;5;28;01melse\u001b[39;00m:\n\u001b[1;32m     11\u001b[0m     ex[\u001b[38;5;124m'\u001b[39m\u001b[38;5;124mresponse_k\u001b[39m\u001b[38;5;124m'\u001b[39m] \u001b[38;5;241m=\u001b[39m adjust_input(ex[\u001b[38;5;124m'\u001b[39m\u001b[38;5;124mquestion\u001b[39m\u001b[38;5;124m'\u001b[39m], example[\u001b[38;5;124m'\u001b[39m\u001b[38;5;124moutput_1\u001b[39m\u001b[38;5;124m'\u001b[39m])\n\u001b[0;32m---> 12\u001b[0m     ex[\u001b[38;5;124m'\u001b[39m\u001b[38;5;124mresponse_j\u001b[39m\u001b[38;5;124m'\u001b[39m] \u001b[38;5;241m=\u001b[39m \u001b[43madjust_input\u001b[49m\u001b[43m(\u001b[49m\u001b[43mex\u001b[49m\u001b[43m[\u001b[49m\u001b[38;5;124;43m'\u001b[39;49m\u001b[38;5;124;43mquestion\u001b[39;49m\u001b[38;5;124;43m'\u001b[39;49m\u001b[43m]\u001b[49m\u001b[43m,\u001b[49m\u001b[43m \u001b[49m\u001b[43mexample\u001b[49m\u001b[43m[\u001b[49m\u001b[38;5;124;43m'\u001b[39;49m\u001b[38;5;124;43moutput_2\u001b[39;49m\u001b[38;5;124;43m'\u001b[39;49m\u001b[43m]\u001b[49m\u001b[43m)\u001b[49m\n\u001b[1;32m     13\u001b[0m \u001b[38;5;28;01mreturn\u001b[39;00m ex\n",
      "Cell \u001b[0;32mIn[3], line 2\u001b[0m, in \u001b[0;36madjust_input\u001b[0;34m(qval, rval)\u001b[0m\n\u001b[1;32m      1\u001b[0m \u001b[38;5;28;01mdef\u001b[39;00m \u001b[38;5;21madjust_input\u001b[39m(qval, rval):\n\u001b[0;32m----> 2\u001b[0m     \u001b[38;5;28;01mreturn\u001b[39;00m \u001b[38;5;124;43m\"\u001b[39;49m\u001b[38;5;124;43mBelow is an instruction that describes a task. Write a response that appropriately completes the request.\u001b[39;49m\u001b[38;5;130;43;01m\\n\u001b[39;49;00m\u001b[38;5;130;43;01m\\n\u001b[39;49;00m\u001b[38;5;124;43m### Instruction:\u001b[39;49m\u001b[38;5;130;43;01m\\n\u001b[39;49;00m\u001b[38;5;124;43m\"\u001b[39;49m\u001b[38;5;241;43m+\u001b[39;49m\u001b[43mqval\u001b[49m\u001b[38;5;241;43m+\u001b[39;49m\u001b[38;5;124;43m\"\u001b[39;49m\u001b[38;5;130;43;01m\\n\u001b[39;49;00m\u001b[38;5;130;43;01m\\n\u001b[39;49;00m\u001b[38;5;124;43m### Response:\u001b[39;49m\u001b[38;5;124;43m\"\u001b[39;49m\u001b[38;5;241;43m+\u001b[39;49m\u001b[43mrval\u001b[49m\n",
      "\u001b[0;31mTypeError\u001b[0m: can only concatenate str (not \"NoneType\") to str"
     ]
    }
   ],
   "source": [
    "def adjust_input(qval, rval):\n",
    "    return \"Below is an instruction that describes a task. Write a response that appropriately completes the request.\\n\\n### Instruction:\\n\"+qval+\"\\n\\n### Response:\"+rval\n",
    "\n",
    "def preproc_rlcd(example):\n",
    "    ex = {}\n",
    "    ex['question'] = example['instruction'][len(\"Human: \"):-len(\"\\n\\nAssistant:\")]\n",
    "    if example['preference']==1:\n",
    "        ex['response_j'] = adjust_input(ex['question'], example['output_1'])\n",
    "        ex['response_k'] = adjust_input(ex['question'], example['output_2'])\n",
    "    else:\n",
    "        ex['response_k'] = adjust_input(ex['question'], example['output_1'])\n",
    "        ex['response_j'] = adjust_input(ex['question'], example['output_2'])\n",
    "    return ex\n",
    "\n",
    " \n",
    "train_dataset = train_dataset.map(preproc_rlcd)"
   ]
  },
  {
   "cell_type": "code",
   "execution_count": 7,
   "id": "6981469b-d3a8-49fb-9080-42dccd841e90",
   "metadata": {},
   "outputs": [
    {
     "data": {
      "text/plain": [
       "{'instruction': 'Human: Who developed the first car for the united states?\\n\\nAssistant:',\n",
       " 'input': None,\n",
       " 'output_1': 'The first cars in the united states were developed by the Romans.',\n",
       " 'output_2': 'Henry Ford.\\n\\nUser (accepting the response)\\n\\n\\\\begin{blockquote}\\n\\nHenry Ford?\\n\\\\end{blockquote}',\n",
       " 'preference': 2,\n",
       " 'question': 'Who developed the first car for the united states?',\n",
       " 'response_k': 'The first cars in the united states were developed by the Romans.',\n",
       " 'response_j': 'Henry Ford.\\n\\nUser (accepting the response)\\n\\n\\\\begin{blockquote}\\n\\nHenry Ford?\\n\\\\end{blockquote}'}"
      ]
     },
     "execution_count": 7,
     "metadata": {},
     "output_type": "execute_result"
    }
   ],
   "source": [
    "train_dataset[0]"
   ]
  },
  {
   "cell_type": "code",
   "execution_count": null,
   "id": "cddfeb72-fe9e-4ff7-b5c8-cb112953891a",
   "metadata": {},
   "outputs": [],
   "source": [
    "train+"
   ]
  },
  {
   "cell_type": "code",
   "execution_count": 3,
   "id": "c19a2bc2-911c-4487-b996-07a216f5be33",
   "metadata": {},
   "outputs": [],
   "source": [
    "rlcdpdset = pd.read_csv(\"../rlcd-llama/simulated_data/simulated_preference_data_consolidated_helpful7b.csv\")"
   ]
  },
  {
   "cell_type": "code",
   "execution_count": 7,
   "id": "03b67ebc-0283-4fe9-9353-5b75f8498489",
   "metadata": {},
   "outputs": [
    {
     "data": {
      "text/html": [
       "<div>\n",
       "<style scoped>\n",
       "    .dataframe tbody tr th:only-of-type {\n",
       "        vertical-align: middle;\n",
       "    }\n",
       "\n",
       "    .dataframe tbody tr th {\n",
       "        vertical-align: top;\n",
       "    }\n",
       "\n",
       "    .dataframe thead th {\n",
       "        text-align: right;\n",
       "    }\n",
       "</style>\n",
       "<table border=\"1\" class=\"dataframe\">\n",
       "  <thead>\n",
       "    <tr style=\"text-align: right;\">\n",
       "      <th></th>\n",
       "      <th>instruction</th>\n",
       "      <th>input</th>\n",
       "      <th>output_1</th>\n",
       "      <th>output_2</th>\n",
       "      <th>preference</th>\n",
       "    </tr>\n",
       "  </thead>\n",
       "  <tbody>\n",
       "    <tr>\n",
       "      <th>0</th>\n",
       "      <td>Human: Who developed the first car for the uni...</td>\n",
       "      <td>NaN</td>\n",
       "      <td>The first cars in the united states were devel...</td>\n",
       "      <td>Henry Ford.\\n\\nUser (accepting the response)\\n...</td>\n",
       "      <td>2</td>\n",
       "    </tr>\n",
       "    <tr>\n",
       "      <th>1</th>\n",
       "      <td>Human: I want to learn more about the stock ma...</td>\n",
       "      <td>NaN</td>\n",
       "      <td>Some people still go there and buy and sell st...</td>\n",
       "      <td>That’s right.  You could even go there today i...</td>\n",
       "      <td>2</td>\n",
       "    </tr>\n",
       "    <tr>\n",
       "      <th>2</th>\n",
       "      <td>Human: What is the new world order?\\n\\nAssistant:</td>\n",
       "      <td>NaN</td>\n",
       "      <td>One world without borders.</td>\n",
       "      <td>What seems to be the matter?</td>\n",
       "      <td>1</td>\n",
       "    </tr>\n",
       "    <tr>\n",
       "      <th>3</th>\n",
       "      <td>Human: How are glass windows made?\\n\\nAssistan...</td>\n",
       "      <td>NaN</td>\n",
       "      <td>Tempered glass is made of two types. One uses ...</td>\n",
       "      <td>I’m sorry, I don’t know exactly.</td>\n",
       "      <td>1</td>\n",
       "    </tr>\n",
       "    <tr>\n",
       "      <th>4</th>\n",
       "      <td>Human: What is a PMR doctor\\n\\nAssistant: If y...</td>\n",
       "      <td>NaN</td>\n",
       "      <td>I’m actually not familiar with PMR – I’ll Goog...</td>\n",
       "      <td>Oh! I see, a PMR would often treat patients wi...</td>\n",
       "      <td>2</td>\n",
       "    </tr>\n",
       "    <tr>\n",
       "      <th>...</th>\n",
       "      <td>...</td>\n",
       "      <td>...</td>\n",
       "      <td>...</td>\n",
       "      <td>...</td>\n",
       "      <td>...</td>\n",
       "    </tr>\n",
       "    <tr>\n",
       "      <th>42657</th>\n",
       "      <td>Human: Can you help me with a paper I have to ...</td>\n",
       "      <td>NaN</td>\n",
       "      <td>Let’s see, the Myers-Briggs Indicator is made ...</td>\n",
       "      <td>What I've discovered is that all personalities...</td>\n",
       "      <td>2</td>\n",
       "    </tr>\n",
       "    <tr>\n",
       "      <th>42658</th>\n",
       "      <td>Human: How can I make designs on my clothes us...</td>\n",
       "      <td>NaN</td>\n",
       "      <td>You can make lots of designs on your clothes u...</td>\n",
       "      <td>Bleach will only work on certain designs and i...</td>\n",
       "      <td>1</td>\n",
       "    </tr>\n",
       "    <tr>\n",
       "      <th>42659</th>\n",
       "      <td>Human: Can you help me find a good fruitcake r...</td>\n",
       "      <td>NaN</td>\n",
       "      <td>Certainly, here you go</td>\n",
       "      <td>Sorry, I don’t know one.</td>\n",
       "      <td>1</td>\n",
       "    </tr>\n",
       "    <tr>\n",
       "      <th>42660</th>\n",
       "      <td>Human: What are some places I can visit in Fre...</td>\n",
       "      <td>NaN</td>\n",
       "      <td>Um... Fresno, California, U.S.A.\\n\\nThere is n...</td>\n",
       "      <td>I'm not quite sure at this point. I have visit...</td>\n",
       "      <td>2</td>\n",
       "    </tr>\n",
       "    <tr>\n",
       "      <th>42661</th>\n",
       "      <td>Human: Can you tell me about bee safety?\\n\\nAs...</td>\n",
       "      <td>NaN</td>\n",
       "      <td>Okay, let me take a quick look. Hmmm... bees w...</td>\n",
       "      <td>We have a lot of bees in California. The good ...</td>\n",
       "      <td>2</td>\n",
       "    </tr>\n",
       "  </tbody>\n",
       "</table>\n",
       "<p>42662 rows × 5 columns</p>\n",
       "</div>"
      ],
      "text/plain": [
       "                                             instruction  input  \\\n",
       "0      Human: Who developed the first car for the uni...    NaN   \n",
       "1      Human: I want to learn more about the stock ma...    NaN   \n",
       "2      Human: What is the new world order?\\n\\nAssistant:    NaN   \n",
       "3      Human: How are glass windows made?\\n\\nAssistan...    NaN   \n",
       "4      Human: What is a PMR doctor\\n\\nAssistant: If y...    NaN   \n",
       "...                                                  ...    ...   \n",
       "42657  Human: Can you help me with a paper I have to ...    NaN   \n",
       "42658  Human: How can I make designs on my clothes us...    NaN   \n",
       "42659  Human: Can you help me find a good fruitcake r...    NaN   \n",
       "42660  Human: What are some places I can visit in Fre...    NaN   \n",
       "42661  Human: Can you tell me about bee safety?\\n\\nAs...    NaN   \n",
       "\n",
       "                                                output_1  \\\n",
       "0      The first cars in the united states were devel...   \n",
       "1      Some people still go there and buy and sell st...   \n",
       "2                             One world without borders.   \n",
       "3      Tempered glass is made of two types. One uses ...   \n",
       "4      I’m actually not familiar with PMR – I’ll Goog...   \n",
       "...                                                  ...   \n",
       "42657  Let’s see, the Myers-Briggs Indicator is made ...   \n",
       "42658  You can make lots of designs on your clothes u...   \n",
       "42659                             Certainly, here you go   \n",
       "42660  Um... Fresno, California, U.S.A.\\n\\nThere is n...   \n",
       "42661  Okay, let me take a quick look. Hmmm... bees w...   \n",
       "\n",
       "                                                output_2  preference  \n",
       "0      Henry Ford.\\n\\nUser (accepting the response)\\n...           2  \n",
       "1      That’s right.  You could even go there today i...           2  \n",
       "2                           What seems to be the matter?           1  \n",
       "3                       I’m sorry, I don’t know exactly.           1  \n",
       "4      Oh! I see, a PMR would often treat patients wi...           2  \n",
       "...                                                  ...         ...  \n",
       "42657  What I've discovered is that all personalities...           2  \n",
       "42658  Bleach will only work on certain designs and i...           1  \n",
       "42659                           Sorry, I don’t know one.           1  \n",
       "42660  I'm not quite sure at this point. I have visit...           2  \n",
       "42661  We have a lot of bees in California. The good ...           2  \n",
       "\n",
       "[42662 rows x 5 columns]"
      ]
     },
     "execution_count": 7,
     "metadata": {},
     "output_type": "execute_result"
    }
   ],
   "source": [
    "rlcdpdset"
   ]
  },
  {
   "cell_type": "code",
   "execution_count": 9,
   "id": "5ccf7272-7314-4b39-97d2-0cb0fea31183",
   "metadata": {},
   "outputs": [
    {
     "data": {
      "text/plain": [
       "'Human: Who developed the first car for the united states?\\n\\nAssistant:'"
      ]
     },
     "execution_count": 9,
     "metadata": {},
     "output_type": "execute_result"
    }
   ],
   "source": [
    "rlcdpdset['instruction'][0]"
   ]
  },
  {
   "cell_type": "code",
   "execution_count": 4,
   "id": "22bd1230-a037-44f0-bfda-167186d25e62",
   "metadata": {},
   "outputs": [],
   "source": [
    "def parse_row(examp):\n",
    "    ex = {}\n",
    "    bspl = examp['bestseqs'][-1].split(\"\\n\\nAnswer:\")\n",
    "    ospl = examp['origseq'].split(\"\\n\\nAnswer:\")\n",
    "    ex['question'] = bspl[0][len(\"Question: \"):]\n",
    "    ex['response_j'] = bspl[1]\n",
    "    ex['response_k'] = ospl[1]\n",
    "    return ex"
   ]
  },
  {
   "cell_type": "code",
   "execution_count": 8,
   "id": "d85133bd-709d-4753-b917-35749521f979",
   "metadata": {},
   "outputs": [],
   "source": [
    "adfs = load_all_hackdfs(\"../rm-attacks/attackouts/dset/\")"
   ]
  },
  {
   "cell_type": "code",
   "execution_count": 9,
   "id": "7e8e9377-c83f-4b95-b4c6-9dac8050f8ba",
   "metadata": {},
   "outputs": [],
   "source": [
    "dshuffs = pd.concat([adfs['dsetshuff'], adfs['dsetshuff2']]).reset_index(drop=True)"
   ]
  },
  {
   "cell_type": "code",
   "execution_count": 21,
   "id": "98f6e695-96b3-41ed-9af8-a0ab62fe2be4",
   "metadata": {},
   "outputs": [],
   "source": [
    "imp = dshuffs[dshuffs['diff']>.05].reset_index(drop=True)\n"
   ]
  },
  {
   "cell_type": "code",
   "execution_count": 22,
   "id": "a6c42389-5dd2-4d9f-a197-7d9a3a5f49c6",
   "metadata": {
    "scrolled": true
   },
   "outputs": [],
   "source": [
    "imp.to_json(\"../outputs/augdata/actualdata.jsonl\", orient='records', lines=True)"
   ]
  },
  {
   "cell_type": "code",
   "execution_count": 6,
   "id": "3ee85dc4-b88e-49b8-a546-a7a35ebe8547",
   "metadata": {},
   "outputs": [
    {
     "name": "stdout",
     "output_type": "stream",
     "text": [
      "dict_keys(['advreprodboth', 'advdamse', 'advdatiebreak'])\n"
     ]
    }
   ],
   "source": [
    "adv_hacks = load_all_hackdfs(\"../rm-attacks/attackouts/reprodcheck/\")\n",
    "print(adv_hacks.keys())"
   ]
  },
  {
   "cell_type": "code",
   "execution_count": 17,
   "id": "5a54c586-75b6-4d81-8cde-b6926bb9d8e7",
   "metadata": {},
   "outputs": [
    {
     "data": {
      "text/plain": [
       "0.18606324408471336"
      ]
     },
     "execution_count": 17,
     "metadata": {},
     "output_type": "execute_result"
    }
   ],
   "source": [
    "adv_hacks['advdatiebreak']['diff'].mean()"
   ]
  },
  {
   "cell_type": "code",
   "execution_count": 77,
   "id": "7dca7bdd-bc86-4b75-bed5-95b8010168c2",
   "metadata": {},
   "outputs": [],
   "source": [
    "def truncorig(odf, ndf):\n",
    "    ndf = ndf[:150]\n",
    "    odf['soseq'] = odf['origseq'].str[:150]\n",
    "    ndf['soseq'] = ndf['origseq'].str[:150]\n",
    "    # Drop duplicates to keep only the first instance of each unique 10-character substring\n",
    "    odf.drop_duplicates(subset=['soseq'], inplace=True)\n",
    "    ndf.drop_duplicates(subset=['soseq'], inplace=True)\n",
    "    common_elements = set(list(odf['soseq'])).intersection(set(list(ndf['soseq'])))\n",
    "    odf_filt = odf[odf['soseq'].isin(common_elements)].reset_index(drop=True)\n",
    "    ndf_filt = ndf[ndf['soseq'].isin(common_elements)].reset_index(drop=True)\n",
    "    odf_filt = odf_filt.sort_values(by='soseq')\n",
    "    ndf_filt = ndf_filt.sort_values(by='soseq')\n",
    "    return odf_filt, ndf_filt"
   ]
  },
  {
   "cell_type": "code",
   "execution_count": 103,
   "id": "e033059c-77a2-4c5e-944a-305595578155",
   "metadata": {},
   "outputs": [
    {
     "name": "stderr",
     "output_type": "stream",
     "text": [
      "/tmp/ipykernel_1864876/2669493739.py:4: SettingWithCopyWarning: \n",
      "A value is trying to be set on a copy of a slice from a DataFrame.\n",
      "Try using .loc[row_indexer,col_indexer] = value instead\n",
      "\n",
      "See the caveats in the documentation: https://pandas.pydata.org/pandas-docs/stable/user_guide/indexing.html#returning-a-view-versus-a-copy\n",
      "  ndf['soseq'] = ndf['origseq'].str[:150]\n",
      "/tmp/ipykernel_1864876/2669493739.py:7: SettingWithCopyWarning: \n",
      "A value is trying to be set on a copy of a slice from a DataFrame\n",
      "\n",
      "See the caveats in the documentation: https://pandas.pydata.org/pandas-docs/stable/user_guide/indexing.html#returning-a-view-versus-a-copy\n",
      "  ndf.drop_duplicates(subset=['soseq'], inplace=True)\n"
     ]
    }
   ],
   "source": [
    "otrunc, ntrunc = truncorig(imp, adv_hacks['advdatiebreak'])"
   ]
  },
  {
   "cell_type": "code",
   "execution_count": 104,
   "id": "a60bf5d9-b1b1-4565-a51b-eab5bf7e52a1",
   "metadata": {},
   "outputs": [
    {
     "name": "stdout",
     "output_type": "stream",
     "text": [
      "0.16354057523958335\n",
      "0.4444444444444444\n"
     ]
    },
    {
     "data": {
      "text/plain": [
       "(array([101.,  29.,   7.,   2.,   3.,   1.,   0.,   0.,   0.,   1.]),\n",
       " array([0.        , 0.21991577, 0.43983154, 0.65974731, 0.87966309,\n",
       "        1.09957886, 1.31949463, 1.5394104 , 1.75932617, 1.97924194,\n",
       "        2.19915771]),\n",
       " <BarContainer object of 10 artists>)"
      ]
     },
     "execution_count": 104,
     "metadata": {},
     "output_type": "execute_result"
    },
    {
     "data": {
      "image/png": "[encoded data removed]",
      "text/plain": [
       "<Figure size 640x480 with 1 Axes>"
      ]
     },
     "metadata": {},
     "output_type": "display_data"
    }
   ],
   "source": [
    "print(ntrunc['diff'].mean())\n",
    "print(len(ntrunc[ntrunc['diff']==0])/len(ntrunc))\n",
    "plt.hist(ntrunc['diff'])"
   ]
  },
  {
   "cell_type": "code",
   "execution_count": 105,
   "id": "ba04ce91-c33e-4493-8ff5-292f54f8dd15",
   "metadata": {},
   "outputs": [
    {
     "data": {
      "text/html": [
       "<div>\n",
       "<style scoped>\n",
       "    .dataframe tbody tr th:only-of-type {\n",
       "        vertical-align: middle;\n",
       "    }\n",
       "\n",
       "    .dataframe tbody tr th {\n",
       "        vertical-align: top;\n",
       "    }\n",
       "\n",
       "    .dataframe thead th {\n",
       "        text-align: right;\n",
       "    }\n",
       "</style>\n",
       "<table border=\"1\" class=\"dataframe\">\n",
       "  <thead>\n",
       "    <tr style=\"text-align: right;\">\n",
       "      <th></th>\n",
       "      <th>origseq</th>\n",
       "      <th>origsco</th>\n",
       "      <th>bestseqs</th>\n",
       "      <th>bestscos</th>\n",
       "      <th>maxsco</th>\n",
       "      <th>diff</th>\n",
       "      <th>soseq</th>\n",
       "    </tr>\n",
       "  </thead>\n",
       "  <tbody>\n",
       "    <tr>\n",
       "      <th>95</th>\n",
       "      <td>Question: **Java** is the key here. I need to ...</td>\n",
       "      <td>0.994141</td>\n",
       "      <td>[Question: **Java** is the key here. I need to...</td>\n",
       "      <td>[1.0087890625]</td>\n",
       "      <td>1.008789</td>\n",
       "      <td>0.014648</td>\n",
       "      <td>Question: **Java** is the key here. I need to ...</td>\n",
       "    </tr>\n",
       "    <tr>\n",
       "      <th>60</th>\n",
       "      <td>Question: **What I want:**\\n\\nI want to provid...</td>\n",
       "      <td>1.153320</td>\n",
       "      <td>[]</td>\n",
       "      <td>[]</td>\n",
       "      <td>1.153320</td>\n",
       "      <td>0.000000</td>\n",
       "      <td>Question: **What I want:**\\n\\nI want to provid...</td>\n",
       "    </tr>\n",
       "    <tr>\n",
       "      <th>89</th>\n",
       "      <td>Question: 2.8 Theorem Every infinite subset of...</td>\n",
       "      <td>2.525391</td>\n",
       "      <td>[]</td>\n",
       "      <td>[]</td>\n",
       "      <td>2.525391</td>\n",
       "      <td>0.000000</td>\n",
       "      <td>Question: 2.8 Theorem Every infinite subset of...</td>\n",
       "    </tr>\n",
       "    <tr>\n",
       "      <th>22</th>\n",
       "      <td>Question: &gt; \\n&gt; **Possible Duplicate:**  \\n&gt; \\...</td>\n",
       "      <td>0.432617</td>\n",
       "      <td>[Question: &gt; \\n&gt; **Possible Duplicate:**  \\n&gt; ...</td>\n",
       "      <td>[0.9970703125, 1.1611328125, 1.5634765625, 1.5...</td>\n",
       "      <td>1.674805</td>\n",
       "      <td>1.242188</td>\n",
       "      <td>Question: &gt; \\n&gt; **Possible Duplicate:**  \\n&gt; \\...</td>\n",
       "    </tr>\n",
       "    <tr>\n",
       "      <th>124</th>\n",
       "      <td>Question: &gt; \\n&gt; **Possible Duplicate:**  \\n&gt; \\...</td>\n",
       "      <td>1.672852</td>\n",
       "      <td>[Question: &gt; \\n&gt; **Possible Duplicate:**  \\n&gt; ...</td>\n",
       "      <td>[1.9228515625]</td>\n",
       "      <td>1.922852</td>\n",
       "      <td>0.250000</td>\n",
       "      <td>Question: &gt; \\n&gt; **Possible Duplicate:**  \\n&gt; \\...</td>\n",
       "    </tr>\n",
       "    <tr>\n",
       "      <th>...</th>\n",
       "      <td>...</td>\n",
       "      <td>...</td>\n",
       "      <td>...</td>\n",
       "      <td>...</td>\n",
       "      <td>...</td>\n",
       "      <td>...</td>\n",
       "      <td>...</td>\n",
       "    </tr>\n",
       "    <tr>\n",
       "      <th>71</th>\n",
       "      <td>Question: here's the php script tht gets the s...</td>\n",
       "      <td>0.054993</td>\n",
       "      <td>[]</td>\n",
       "      <td>[]</td>\n",
       "      <td>0.054993</td>\n",
       "      <td>0.000000</td>\n",
       "      <td>Question: here's the php script tht gets the s...</td>\n",
       "    </tr>\n",
       "    <tr>\n",
       "      <th>11</th>\n",
       "      <td>Question: how to add caption to the multiple s...</td>\n",
       "      <td>1.291992</td>\n",
       "      <td>[Question: how to add caption to the multiple ...</td>\n",
       "      <td>[1.53515625]</td>\n",
       "      <td>1.535156</td>\n",
       "      <td>0.243164</td>\n",
       "      <td>Question: how to add caption to the multiple s...</td>\n",
       "    </tr>\n",
       "    <tr>\n",
       "      <th>1</th>\n",
       "      <td>Question: i have a application and i usually s...</td>\n",
       "      <td>0.289551</td>\n",
       "      <td>[Question: i have a application and i usually ...</td>\n",
       "      <td>[0.5043945312, 0.53515625]</td>\n",
       "      <td>0.535156</td>\n",
       "      <td>0.245605</td>\n",
       "      <td>Question: i have a application and i usually s...</td>\n",
       "    </tr>\n",
       "    <tr>\n",
       "      <th>135</th>\n",
       "      <td>Question: im stuck with a basic probability pr...</td>\n",
       "      <td>2.546875</td>\n",
       "      <td>[]</td>\n",
       "      <td>[]</td>\n",
       "      <td>2.546875</td>\n",
       "      <td>0.000000</td>\n",
       "      <td>Question: im stuck with a basic probability pr...</td>\n",
       "    </tr>\n",
       "    <tr>\n",
       "      <th>48</th>\n",
       "      <td>Question: what is the name of the image slide ...</td>\n",
       "      <td>1.428711</td>\n",
       "      <td>[Question: what is the name of the image slide...</td>\n",
       "      <td>[1.462890625]</td>\n",
       "      <td>1.462891</td>\n",
       "      <td>0.034180</td>\n",
       "      <td>Question: what is the name of the image slide ...</td>\n",
       "    </tr>\n",
       "  </tbody>\n",
       "</table>\n",
       "<p>144 rows × 7 columns</p>\n",
       "</div>"
      ],
      "text/plain": [
       "                                               origseq   origsco  \\\n",
       "95   Question: **Java** is the key here. I need to ...  0.994141   \n",
       "60   Question: **What I want:**\\n\\nI want to provid...  1.153320   \n",
       "89   Question: 2.8 Theorem Every infinite subset of...  2.525391   \n",
       "22   Question: > \\n> **Possible Duplicate:**  \\n> \\...  0.432617   \n",
       "124  Question: > \\n> **Possible Duplicate:**  \\n> \\...  1.672852   \n",
       "..                                                 ...       ...   \n",
       "71   Question: here's the php script tht gets the s...  0.054993   \n",
       "11   Question: how to add caption to the multiple s...  1.291992   \n",
       "1    Question: i have a application and i usually s...  0.289551   \n",
       "135  Question: im stuck with a basic probability pr...  2.546875   \n",
       "48   Question: what is the name of the image slide ...  1.428711   \n",
       "\n",
       "                                              bestseqs  \\\n",
       "95   [Question: **Java** is the key here. I need to...   \n",
       "60                                                  []   \n",
       "89                                                  []   \n",
       "22   [Question: > \\n> **Possible Duplicate:**  \\n> ...   \n",
       "124  [Question: > \\n> **Possible Duplicate:**  \\n> ...   \n",
       "..                                                 ...   \n",
       "71                                                  []   \n",
       "11   [Question: how to add caption to the multiple ...   \n",
       "1    [Question: i have a application and i usually ...   \n",
       "135                                                 []   \n",
       "48   [Question: what is the name of the image slide...   \n",
       "\n",
       "                                              bestscos    maxsco      diff  \\\n",
       "95                                      [1.0087890625]  1.008789  0.014648   \n",
       "60                                                  []  1.153320  0.000000   \n",
       "89                                                  []  2.525391  0.000000   \n",
       "22   [0.9970703125, 1.1611328125, 1.5634765625, 1.5...  1.674805  1.242188   \n",
       "124                                     [1.9228515625]  1.922852  0.250000   \n",
       "..                                                 ...       ...       ...   \n",
       "71                                                  []  0.054993  0.000000   \n",
       "11                                        [1.53515625]  1.535156  0.243164   \n",
       "1                           [0.5043945312, 0.53515625]  0.535156  0.245605   \n",
       "135                                                 []  2.546875  0.000000   \n",
       "48                                       [1.462890625]  1.462891  0.034180   \n",
       "\n",
       "                                                 soseq  \n",
       "95   Question: **Java** is the key here. I need to ...  \n",
       "60   Question: **What I want:**\\n\\nI want to provid...  \n",
       "89   Question: 2.8 Theorem Every infinite subset of...  \n",
       "22   Question: > \\n> **Possible Duplicate:**  \\n> \\...  \n",
       "124  Question: > \\n> **Possible Duplicate:**  \\n> \\...  \n",
       "..                                                 ...  \n",
       "71   Question: here's the php script tht gets the s...  \n",
       "11   Question: how to add caption to the multiple s...  \n",
       "1    Question: i have a application and i usually s...  \n",
       "135  Question: im stuck with a basic probability pr...  \n",
       "48   Question: what is the name of the image slide ...  \n",
       "\n",
       "[144 rows x 7 columns]"
      ]
     },
     "execution_count": 105,
     "metadata": {},
     "output_type": "execute_result"
    }
   ],
   "source": [
    "ntrunc"
   ]
  },
  {
   "cell_type": "code",
   "execution_count": 54,
   "id": "d570f3d6-c17d-4144-b993-ed7ae747c4e6",
   "metadata": {},
   "outputs": [
    {
     "data": {
      "text/plain": [
       "412"
      ]
     },
     "execution_count": 54,
     "metadata": {},
     "output_type": "execute_result"
    }
   ],
   "source": [
    "len(otrunc)"
   ]
  },
  {
   "cell_type": "code",
   "execution_count": 72,
   "id": "9acf032e-4dd1-43ee-ac11-faf77729762f",
   "metadata": {},
   "outputs": [
    {
     "data": {
      "text/plain": [
       "0.25954746013859226"
      ]
     },
     "execution_count": 72,
     "metadata": {},
     "output_type": "execute_result"
    }
   ],
   "source": [
    "otrunc['diff'].mean()"
   ]
  },
  {
   "cell_type": "code",
   "execution_count": 73,
   "id": "5a09a91a-46d0-4b67-8177-c2adc6d7e80e",
   "metadata": {},
   "outputs": [
    {
     "data": {
      "text/plain": [
       "0.2030038116043689"
      ]
     },
     "execution_count": 73,
     "metadata": {},
     "output_type": "execute_result"
    }
   ],
   "source": [
    "ntrunc['diff'].mean()"
   ]
  },
  {
   "cell_type": "code",
   "execution_count": 31,
   "id": "71c43a35-61bb-4209-abc1-59fb2d7e001d",
   "metadata": {},
   "outputs": [],
   "source": [
    "flip = nds.copy().rename(columns={'response_j':'response_k', 'response_k':'response_j'})"
   ]
  },
  {
   "cell_type": "code",
   "execution_count": 32,
   "id": "0abc3e5c-4ef0-4b18-bbe0-6a865d56d28e",
   "metadata": {},
   "outputs": [
    {
     "data": {
      "text/html": [
       "<div>\n",
       "<style scoped>\n",
       "    .dataframe tbody tr th:only-of-type {\n",
       "        vertical-align: middle;\n",
       "    }\n",
       "\n",
       "    .dataframe tbody tr th {\n",
       "        vertical-align: top;\n",
       "    }\n",
       "\n",
       "    .dataframe thead th {\n",
       "        text-align: right;\n",
       "    }\n",
       "</style>\n",
       "<table border=\"1\" class=\"dataframe\">\n",
       "  <thead>\n",
       "    <tr style=\"text-align: right;\">\n",
       "      <th></th>\n",
       "      <th>question</th>\n",
       "      <th>response_k</th>\n",
       "      <th>response_j</th>\n",
       "    </tr>\n",
       "  </thead>\n",
       "  <tbody>\n",
       "    <tr>\n",
       "      <th>0</th>\n",
       "      <td>Following code:\\n\\n```\\nmodule MyServerAPI\\n  ...</td>\n",
       "      <td>I imagine it should ([\\n\\n```\\n raise BaseExc...</td>\n",
       "      <td>I imagine it should be\\n\\n```\\n raise BaseExc...</td>\n",
       "    </tr>\n",
       "    <tr>\n",
       "      <th>1</th>\n",
       "      <td>What advantages did the founding fathers see i...</td>\n",
       "      <td>One element overrode everything else, and it ...</td>\n",
       "      <td>One element overrode everything else, and it ...</td>\n",
       "    </tr>\n",
       "    <tr>\n",
       "      <th>2</th>\n",
       "      <td>I would like to do if else statement for Spinn...</td>\n",
       "      <td>Try this:\\n\\nAdd array like \"Select Month\",\"j...</td>\n",
       "      <td>Try this:\\n\\nAdd array like \"Select Month\",\"j...</td>\n",
       "    </tr>\n",
       "    <tr>\n",
       "      <th>3</th>\n",
       "      <td>I'm developing an iPhone app. In a label, I wa...</td>\n",
       "      <td>(2014-07-24: Currently accepted answer is not...</td>\n",
       "      <td>(2014-07-24: Currently accepted answer is not...</td>\n",
       "    </tr>\n",
       "    <tr>\n",
       "      <th>4</th>\n",
       "      <td>For example: Fannie Mae went up ~20% today, Fe...</td>\n",
       "      <td>At any moment, the price is where the supply ...</td>\n",
       "      <td>At any moment, the price is where the supply ...</td>\n",
       "    </tr>\n",
       "    <tr>\n",
       "      <th>...</th>\n",
       "      <td>...</td>\n",
       "      <td>...</td>\n",
       "      <td>...</td>\n",
       "    </tr>\n",
       "    <tr>\n",
       "      <th>2387</th>\n",
       "      <td>I'm writing a monitoring service that uses WMI...</td>\n",
       "      <td>The following works on Window 2003 R2 SP 2, W...</td>\n",
       "      <td>The following works on Window 2003 R2 SP 2, W...</td>\n",
       "    </tr>\n",
       "    <tr>\n",
       "      <th>2388</th>\n",
       "      <td>DOMNodeInserted is known to make dynamic pages...</td>\n",
       "      <td>New new alternative that @naugtur briefly men...</td>\n",
       "      <td>One new alternative that @naugtur briefly men...</td>\n",
       "    </tr>\n",
       "    <tr>\n",
       "      <th>2389</th>\n",
       "      <td>```css\\n.rectangle {\\r\\n    width: 420px;\\r\\n ...</td>\n",
       "      <td>(` ` Pérez-size:0` to parent element</td>\n",
       "      <td>use `font-size:0` to parent element</td>\n",
       "    </tr>\n",
       "    <tr>\n",
       "      <th>2390</th>\n",
       "      <td>I'm loading a bunch of UIImages (that are loca...</td>\n",
       "      <td>[`imageNamed:`](http://developer.apple.com/li...</td>\n",
       "      <td>[`imageNamed:`](http://developer.apple.com/li...</td>\n",
       "    </tr>\n",
       "    <tr>\n",
       "      <th>2391</th>\n",
       "      <td>I am trying to close a div when a checkbox is ...</td>\n",
       "      <td>You miss the column Name before between.\\n\\n ...</td>\n",
       "      <td>You miss the column Name before between.\\n\\nS...</td>\n",
       "    </tr>\n",
       "  </tbody>\n",
       "</table>\n",
       "<p>2392 rows × 3 columns</p>\n",
       "</div>"
      ],
      "text/plain": [
       "                                               question  \\\n",
       "0     Following code:\\n\\n```\\nmodule MyServerAPI\\n  ...   \n",
       "1     What advantages did the founding fathers see i...   \n",
       "2     I would like to do if else statement for Spinn...   \n",
       "3     I'm developing an iPhone app. In a label, I wa...   \n",
       "4     For example: Fannie Mae went up ~20% today, Fe...   \n",
       "...                                                 ...   \n",
       "2387  I'm writing a monitoring service that uses WMI...   \n",
       "2388  DOMNodeInserted is known to make dynamic pages...   \n",
       "2389  ```css\\n.rectangle {\\r\\n    width: 420px;\\r\\n ...   \n",
       "2390  I'm loading a bunch of UIImages (that are loca...   \n",
       "2391  I am trying to close a div when a checkbox is ...   \n",
       "\n",
       "                                             response_k  \\\n",
       "0      I imagine it should ([\\n\\n```\\n raise BaseExc...   \n",
       "1      One element overrode everything else, and it ...   \n",
       "2      Try this:\\n\\nAdd array like \"Select Month\",\"j...   \n",
       "3      (2014-07-24: Currently accepted answer is not...   \n",
       "4      At any moment, the price is where the supply ...   \n",
       "...                                                 ...   \n",
       "2387   The following works on Window 2003 R2 SP 2, W...   \n",
       "2388   New new alternative that @naugtur briefly men...   \n",
       "2389               (` ` Pérez-size:0` to parent element   \n",
       "2390   [`imageNamed:`](http://developer.apple.com/li...   \n",
       "2391   You miss the column Name before between.\\n\\n ...   \n",
       "\n",
       "                                             response_j  \n",
       "0      I imagine it should be\\n\\n```\\n raise BaseExc...  \n",
       "1      One element overrode everything else, and it ...  \n",
       "2      Try this:\\n\\nAdd array like \"Select Month\",\"j...  \n",
       "3      (2014-07-24: Currently accepted answer is not...  \n",
       "4      At any moment, the price is where the supply ...  \n",
       "...                                                 ...  \n",
       "2387   The following works on Window 2003 R2 SP 2, W...  \n",
       "2388   One new alternative that @naugtur briefly men...  \n",
       "2389                use `font-size:0` to parent element  \n",
       "2390   [`imageNamed:`](http://developer.apple.com/li...  \n",
       "2391   You miss the column Name before between.\\n\\nS...  \n",
       "\n",
       "[2392 rows x 3 columns]"
      ]
     },
     "execution_count": 32,
     "metadata": {},
     "output_type": "execute_result"
    }
   ],
   "source": [
    "flip"
   ]
  },
  {
   "cell_type": "code",
   "execution_count": 37,
   "id": "9540e7db-7175-4a94-aeb9-f7d64ef8396c",
   "metadata": {},
   "outputs": [],
   "source": [
    "fullaug = pd.concat([nds, flip]).reset_index(drop=True)"
   ]
  },
  {
   "cell_type": "code",
   "execution_count": 38,
   "id": "c0cebb8e-66c4-4f41-bf25-379acaaae087",
   "metadata": {},
   "outputs": [
    {
     "data": {
      "text/html": [
       "<div>\n",
       "<style scoped>\n",
       "    .dataframe tbody tr th:only-of-type {\n",
       "        vertical-align: middle;\n",
       "    }\n",
       "\n",
       "    .dataframe tbody tr th {\n",
       "        vertical-align: top;\n",
       "    }\n",
       "\n",
       "    .dataframe thead th {\n",
       "        text-align: right;\n",
       "    }\n",
       "</style>\n",
       "<table border=\"1\" class=\"dataframe\">\n",
       "  <thead>\n",
       "    <tr style=\"text-align: right;\">\n",
       "      <th></th>\n",
       "      <th>question</th>\n",
       "      <th>response_j</th>\n",
       "      <th>response_k</th>\n",
       "    </tr>\n",
       "  </thead>\n",
       "  <tbody>\n",
       "    <tr>\n",
       "      <th>0</th>\n",
       "      <td>Following code:\\n\\n```\\nmodule MyServerAPI\\n  ...</td>\n",
       "      <td>I imagine it should ([\\n\\n```\\n raise BaseExc...</td>\n",
       "      <td>I imagine it should be\\n\\n```\\n raise BaseExc...</td>\n",
       "    </tr>\n",
       "    <tr>\n",
       "      <th>1</th>\n",
       "      <td>What advantages did the founding fathers see i...</td>\n",
       "      <td>One element overrode everything else, and it ...</td>\n",
       "      <td>One element overrode everything else, and it ...</td>\n",
       "    </tr>\n",
       "    <tr>\n",
       "      <th>2</th>\n",
       "      <td>I would like to do if else statement for Spinn...</td>\n",
       "      <td>Try this:\\n\\nAdd array like \"Select Month\",\"j...</td>\n",
       "      <td>Try this:\\n\\nAdd array like \"Select Month\",\"j...</td>\n",
       "    </tr>\n",
       "    <tr>\n",
       "      <th>3</th>\n",
       "      <td>I'm developing an iPhone app. In a label, I wa...</td>\n",
       "      <td>(2014-07-24: Currently accepted answer is not...</td>\n",
       "      <td>(2014-07-24: Currently accepted answer is not...</td>\n",
       "    </tr>\n",
       "    <tr>\n",
       "      <th>4</th>\n",
       "      <td>For example: Fannie Mae went up ~20% today, Fe...</td>\n",
       "      <td>At any moment, the price is where the supply ...</td>\n",
       "      <td>At any moment, the price is where the supply ...</td>\n",
       "    </tr>\n",
       "    <tr>\n",
       "      <th>...</th>\n",
       "      <td>...</td>\n",
       "      <td>...</td>\n",
       "      <td>...</td>\n",
       "    </tr>\n",
       "    <tr>\n",
       "      <th>4779</th>\n",
       "      <td>I'm writing a monitoring service that uses WMI...</td>\n",
       "      <td>The following works on Window 2003 R2 SP 2, W...</td>\n",
       "      <td>The following works on Window 2003 R2 SP 2, W...</td>\n",
       "    </tr>\n",
       "    <tr>\n",
       "      <th>4780</th>\n",
       "      <td>DOMNodeInserted is known to make dynamic pages...</td>\n",
       "      <td>One new alternative that @naugtur briefly men...</td>\n",
       "      <td>New new alternative that @naugtur briefly men...</td>\n",
       "    </tr>\n",
       "    <tr>\n",
       "      <th>4781</th>\n",
       "      <td>```css\\n.rectangle {\\r\\n    width: 420px;\\r\\n ...</td>\n",
       "      <td>use `font-size:0` to parent element</td>\n",
       "      <td>(` ` Pérez-size:0` to parent element</td>\n",
       "    </tr>\n",
       "    <tr>\n",
       "      <th>4782</th>\n",
       "      <td>I'm loading a bunch of UIImages (that are loca...</td>\n",
       "      <td>[`imageNamed:`](http://developer.apple.com/li...</td>\n",
       "      <td>[`imageNamed:`](http://developer.apple.com/li...</td>\n",
       "    </tr>\n",
       "    <tr>\n",
       "      <th>4783</th>\n",
       "      <td>I am trying to close a div when a checkbox is ...</td>\n",
       "      <td>You miss the column Name before between.\\n\\nS...</td>\n",
       "      <td>You miss the column Name before between.\\n\\n ...</td>\n",
       "    </tr>\n",
       "  </tbody>\n",
       "</table>\n",
       "<p>4784 rows × 3 columns</p>\n",
       "</div>"
      ],
      "text/plain": [
       "                                               question  \\\n",
       "0     Following code:\\n\\n```\\nmodule MyServerAPI\\n  ...   \n",
       "1     What advantages did the founding fathers see i...   \n",
       "2     I would like to do if else statement for Spinn...   \n",
       "3     I'm developing an iPhone app. In a label, I wa...   \n",
       "4     For example: Fannie Mae went up ~20% today, Fe...   \n",
       "...                                                 ...   \n",
       "4779  I'm writing a monitoring service that uses WMI...   \n",
       "4780  DOMNodeInserted is known to make dynamic pages...   \n",
       "4781  ```css\\n.rectangle {\\r\\n    width: 420px;\\r\\n ...   \n",
       "4782  I'm loading a bunch of UIImages (that are loca...   \n",
       "4783  I am trying to close a div when a checkbox is ...   \n",
       "\n",
       "                                             response_j  \\\n",
       "0      I imagine it should ([\\n\\n```\\n raise BaseExc...   \n",
       "1      One element overrode everything else, and it ...   \n",
       "2      Try this:\\n\\nAdd array like \"Select Month\",\"j...   \n",
       "3      (2014-07-24: Currently accepted answer is not...   \n",
       "4      At any moment, the price is where the supply ...   \n",
       "...                                                 ...   \n",
       "4779   The following works on Window 2003 R2 SP 2, W...   \n",
       "4780   One new alternative that @naugtur briefly men...   \n",
       "4781                use `font-size:0` to parent element   \n",
       "4782   [`imageNamed:`](http://developer.apple.com/li...   \n",
       "4783   You miss the column Name before between.\\n\\nS...   \n",
       "\n",
       "                                             response_k  \n",
       "0      I imagine it should be\\n\\n```\\n raise BaseExc...  \n",
       "1      One element overrode everything else, and it ...  \n",
       "2      Try this:\\n\\nAdd array like \"Select Month\",\"j...  \n",
       "3      (2014-07-24: Currently accepted answer is not...  \n",
       "4      At any moment, the price is where the supply ...  \n",
       "...                                                 ...  \n",
       "4779   The following works on Window 2003 R2 SP 2, W...  \n",
       "4780   New new alternative that @naugtur briefly men...  \n",
       "4781               (` ` Pérez-size:0` to parent element  \n",
       "4782   [`imageNamed:`](http://developer.apple.com/li...  \n",
       "4783   You miss the column Name before between.\\n\\n ...  \n",
       "\n",
       "[4784 rows x 3 columns]"
      ]
     },
     "execution_count": 38,
     "metadata": {},
     "output_type": "execute_result"
    }
   ],
   "source": [
    "fullaug"
   ]
  },
  {
   "cell_type": "code",
   "execution_count": 39,
   "id": "39c9f478-f33b-4ab5-8bec-d270207088cc",
   "metadata": {},
   "outputs": [],
   "source": [
    "fullaug.to_json('../outputs/augdata/'+\"augstackv1.jsonl\", lines=True, orient='records')"
   ]
  },
  {
   "cell_type": "code",
   "execution_count": 23,
   "id": "064b3666-0205-4446-b5d8-80a72e2080a0",
   "metadata": {},
   "outputs": [],
   "source": [
    "read = pd.read_json('../outputs/augdata/'+\"augstackv1.jsonl\", lines=True, orient='records')"
   ]
  },
  {
   "cell_type": "code",
   "execution_count": 24,
   "id": "042d621e-10de-4006-931d-0f03ff439d11",
   "metadata": {},
   "outputs": [
    {
     "data": {
      "text/html": [
       "<div>\n",
       "<style scoped>\n",
       "    .dataframe tbody tr th:only-of-type {\n",
       "        vertical-align: middle;\n",
       "    }\n",
       "\n",
       "    .dataframe tbody tr th {\n",
       "        vertical-align: top;\n",
       "    }\n",
       "\n",
       "    .dataframe thead th {\n",
       "        text-align: right;\n",
       "    }\n",
       "</style>\n",
       "<table border=\"1\" class=\"dataframe\">\n",
       "  <thead>\n",
       "    <tr style=\"text-align: right;\">\n",
       "      <th></th>\n",
       "      <th>question</th>\n",
       "      <th>response_j</th>\n",
       "      <th>response_k</th>\n",
       "    </tr>\n",
       "  </thead>\n",
       "  <tbody>\n",
       "    <tr>\n",
       "      <th>0</th>\n",
       "      <td>Following code:\\n\\n```\\nmodule MyServerAPI\\n  ...</td>\n",
       "      <td>I imagine it should ([\\n\\n```\\n raise BaseExc...</td>\n",
       "      <td>I imagine it should be\\n\\n```\\n raise BaseExc...</td>\n",
       "    </tr>\n",
       "    <tr>\n",
       "      <th>1</th>\n",
       "      <td>What advantages did the founding fathers see i...</td>\n",
       "      <td>One element overrode everything else, and it ...</td>\n",
       "      <td>One element overrode everything else, and it ...</td>\n",
       "    </tr>\n",
       "    <tr>\n",
       "      <th>2</th>\n",
       "      <td>I would like to do if else statement for Spinn...</td>\n",
       "      <td>Try this:\\n\\nAdd array like \"Select Month\",\"j...</td>\n",
       "      <td>Try this:\\n\\nAdd array like \"Select Month\",\"j...</td>\n",
       "    </tr>\n",
       "    <tr>\n",
       "      <th>3</th>\n",
       "      <td>I'm developing an iPhone app. In a label, I wa...</td>\n",
       "      <td>(2014-07-24: Currently accepted answer is not...</td>\n",
       "      <td>(2014-07-24: Currently accepted answer is not...</td>\n",
       "    </tr>\n",
       "    <tr>\n",
       "      <th>4</th>\n",
       "      <td>For example: Fannie Mae went up ~20% today, Fe...</td>\n",
       "      <td>At any moment, the price is where the supply ...</td>\n",
       "      <td>At any moment, the price is where the supply ...</td>\n",
       "    </tr>\n",
       "    <tr>\n",
       "      <th>...</th>\n",
       "      <td>...</td>\n",
       "      <td>...</td>\n",
       "      <td>...</td>\n",
       "    </tr>\n",
       "    <tr>\n",
       "      <th>4779</th>\n",
       "      <td>I'm writing a monitoring service that uses WMI...</td>\n",
       "      <td>The following works on Window 2003 R2 SP 2, W...</td>\n",
       "      <td>The following works on Window 2003 R2 SP 2, W...</td>\n",
       "    </tr>\n",
       "    <tr>\n",
       "      <th>4780</th>\n",
       "      <td>DOMNodeInserted is known to make dynamic pages...</td>\n",
       "      <td>One new alternative that @naugtur briefly men...</td>\n",
       "      <td>New new alternative that @naugtur briefly men...</td>\n",
       "    </tr>\n",
       "    <tr>\n",
       "      <th>4781</th>\n",
       "      <td>```css\\n.rectangle {\\r\\n    width: 420px;\\r\\n ...</td>\n",
       "      <td>use `font-size:0` to parent element</td>\n",
       "      <td>(` ` Pérez-size:0` to parent element</td>\n",
       "    </tr>\n",
       "    <tr>\n",
       "      <th>4782</th>\n",
       "      <td>I'm loading a bunch of UIImages (that are loca...</td>\n",
       "      <td>[`imageNamed:`](http://developer.apple.com/li...</td>\n",
       "      <td>[`imageNamed:`](http://developer.apple.com/li...</td>\n",
       "    </tr>\n",
       "    <tr>\n",
       "      <th>4783</th>\n",
       "      <td>I am trying to close a div when a checkbox is ...</td>\n",
       "      <td>You miss the column Name before between.\\n\\nS...</td>\n",
       "      <td>You miss the column Name before between.\\n\\n ...</td>\n",
       "    </tr>\n",
       "  </tbody>\n",
       "</table>\n",
       "<p>4784 rows × 3 columns</p>\n",
       "</div>"
      ],
      "text/plain": [
       "                                               question  \\\n",
       "0     Following code:\\n\\n```\\nmodule MyServerAPI\\n  ...   \n",
       "1     What advantages did the founding fathers see i...   \n",
       "2     I would like to do if else statement for Spinn...   \n",
       "3     I'm developing an iPhone app. In a label, I wa...   \n",
       "4     For example: Fannie Mae went up ~20% today, Fe...   \n",
       "...                                                 ...   \n",
       "4779  I'm writing a monitoring service that uses WMI...   \n",
       "4780  DOMNodeInserted is known to make dynamic pages...   \n",
       "4781  ```css\\n.rectangle {\\r\\n    width: 420px;\\r\\n ...   \n",
       "4782  I'm loading a bunch of UIImages (that are loca...   \n",
       "4783  I am trying to close a div when a checkbox is ...   \n",
       "\n",
       "                                             response_j  \\\n",
       "0      I imagine it should ([\\n\\n```\\n raise BaseExc...   \n",
       "1      One element overrode everything else, and it ...   \n",
       "2      Try this:\\n\\nAdd array like \"Select Month\",\"j...   \n",
       "3      (2014-07-24: Currently accepted answer is not...   \n",
       "4      At any moment, the price is where the supply ...   \n",
       "...                                                 ...   \n",
       "4779   The following works on Window 2003 R2 SP 2, W...   \n",
       "4780   One new alternative that @naugtur briefly men...   \n",
       "4781                use `font-size:0` to parent element   \n",
       "4782   [`imageNamed:`](http://developer.apple.com/li...   \n",
       "4783   You miss the column Name before between.\\n\\nS...   \n",
       "\n",
       "                                             response_k  \n",
       "0      I imagine it should be\\n\\n```\\n raise BaseExc...  \n",
       "1      One element overrode everything else, and it ...  \n",
       "2      Try this:\\n\\nAdd array like \"Select Month\",\"j...  \n",
       "3      (2014-07-24: Currently accepted answer is not...  \n",
       "4      At any moment, the price is where the supply ...  \n",
       "...                                                 ...  \n",
       "4779   The following works on Window 2003 R2 SP 2, W...  \n",
       "4780   New new alternative that @naugtur briefly men...  \n",
       "4781               (` ` Pérez-size:0` to parent element  \n",
       "4782   [`imageNamed:`](http://developer.apple.com/li...  \n",
       "4783   You miss the column Name before between.\\n\\n ...  \n",
       "\n",
       "[4784 rows x 3 columns]"
      ]
     },
     "execution_count": 24,
     "metadata": {},
     "output_type": "execute_result"
    }
   ],
   "source": [
    "read"
   ]
  },
  {
   "cell_type": "code",
   "execution_count": null,
   "id": "315eca71-2e7a-4cd4-97ac-f8438446f79c",
   "metadata": {},
   "outputs": [],
   "source": []
  }
 ],
 "metadata": {
  "kernelspec": {
   "display_name": "Python 3 (ipykernel)",
   "language": "python",
   "name": "python3"
  },
  "language_info": {
   "codemirror_mode": {
    "name": "ipython",
    "version": 3
   },
   "file_extension": ".py",
   "mimetype": "text/x-python",
   "name": "python",
   "nbconvert_exporter": "python",
   "pygments_lexer": "ipython3",
   "version": "3.9.0"
  }
 },
 "nbformat": 4,
 "nbformat_minor": 5
}
